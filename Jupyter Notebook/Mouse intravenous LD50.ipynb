{
 "cells": [
  {
   "cell_type": "markdown",
   "id": "530dbbf0",
   "metadata": {},
   "source": [
    "# Importing modules and functions"
   ]
  },
  {
   "cell_type": "code",
   "execution_count": 1,
   "id": "f3d61c9c",
   "metadata": {},
   "outputs": [
    {
     "name": "stderr",
     "output_type": "stream",
     "text": [
      "[17:33:03] Initializing Normalizer\n"
     ]
    }
   ],
   "source": [
    "from rdkit import Chem, DataStructs\n",
    "from rdkit.Chem import AllChem, Descriptors\n",
    "from rdkit.ML.Descriptors import MoleculeDescriptors\n",
    "import chembl_structure_pipeline\n",
    "from molvs import standardize_smiles\n",
    "import numpy as np\n",
    "import pandas as pd\n",
    "from copy import deepcopy\n",
    "from sklearn.svm import SVR\n",
    "from sklearn.model_selection import train_test_split,KFold, StratifiedKFold, GridSearchCV\n",
    "from sklearn.model_selection import permutation_test_score\n",
    "from sklearn.preprocessing import StandardScaler\n",
    "from sklearn.model_selection import cross_val_predict\n",
    "from sklearn import metrics\n",
    "from sklearn.metrics import cohen_kappa_score\n",
    "from sklearn.metrics import balanced_accuracy_score\n",
    "from sklearn.metrics import pairwise_distances\n",
    "from sklearn.model_selection import train_test_split\n",
    "from sklearn.ensemble import GradientBoostingRegressor\n",
    "from sklearn.ensemble import RandomForestRegressor\n",
    "from sklearn.metrics import mean_squared_error\n",
    "from sklearn.metrics import mean_absolute_error\n",
    "from sklearn.metrics import r2_score\n",
    "import joblib\n",
    "import pickle\n",
    "from numpy import savetxt\n",
    "from IPython.display import HTML\n",
    "from rdkit.Chem import PandasTools"
   ]
  },
  {
   "cell_type": "code",
   "execution_count": 4,
   "id": "61962cd2",
   "metadata": {},
   "outputs": [],
   "source": [
    "def convert_smi_to_canon_smi(smi):\n",
    "    \n",
    "    try:\n",
    "        canon_smi = Chem.MolToSmiles(Chem.MolFromSmiles(smi),isomericSmiles = False)\n",
    "    except:\n",
    "        canon_smi='wrong_smiles'\n",
    "    return canon_smi"
   ]
  },
  {
   "cell_type": "code",
   "execution_count": 5,
   "id": "0dd6e9df",
   "metadata": {},
   "outputs": [],
   "source": [
    "def standart(smi):\n",
    "    global m\n",
    "    if smi!='wrong_smiles':\n",
    "        try:\n",
    "            smiles=standardize_smiles(smi)\n",
    "            m = Chem.MolFromSmiles(smi)\n",
    "        except:\n",
    "            smi='error kekule'\n",
    "    else:\n",
    "        m = 'check the smiles'\n",
    "    return m"
   ]
  },
  {
   "cell_type": "markdown",
   "id": "5015c4d6",
   "metadata": {},
   "source": [
    "# MORGAN FP_Gradient Boosting Mouse intravenous LD50, mg/kg  "
   ]
  },
  {
   "cell_type": "markdown",
   "id": "df67a941",
   "metadata": {},
   "source": [
    "## Load data and curation work set"
   ]
  },
  {
   "cell_type": "code",
   "execution_count": 6,
   "id": "433f7dd5",
   "metadata": {},
   "outputs": [
    {
     "data": {
      "text/html": [
       "<div>\n",
       "<style scoped>\n",
       "    .dataframe tbody tr th:only-of-type {\n",
       "        vertical-align: middle;\n",
       "    }\n",
       "\n",
       "    .dataframe tbody tr th {\n",
       "        vertical-align: top;\n",
       "    }\n",
       "\n",
       "    .dataframe thead th {\n",
       "        text-align: right;\n",
       "    }\n",
       "</style>\n",
       "<table border=\"1\" class=\"dataframe\">\n",
       "  <thead>\n",
       "    <tr style=\"text-align: right;\">\n",
       "      <th></th>\n",
       "      <th>CAS_Number</th>\n",
       "      <th>SMILES</th>\n",
       "      <th>pLD50</th>\n",
       "      <th>LD50,mg/kg</th>\n",
       "    </tr>\n",
       "  </thead>\n",
       "  <tbody>\n",
       "    <tr>\n",
       "      <th>0</th>\n",
       "      <td>67-56-1</td>\n",
       "      <td>CO</td>\n",
       "      <td>0.83270</td>\n",
       "      <td>4707.7000</td>\n",
       "    </tr>\n",
       "    <tr>\n",
       "      <th>1</th>\n",
       "      <td>19491-72-6</td>\n",
       "      <td>CCCNCC(Br)c1ccccc1</td>\n",
       "      <td>0.89274</td>\n",
       "      <td>30857.5000</td>\n",
       "    </tr>\n",
       "    <tr>\n",
       "      <th>2</th>\n",
       "      <td>64790-46-1</td>\n",
       "      <td>CN1C2CCC1CC(OC(=O)C(=O)c1ccccc1)C2</td>\n",
       "      <td>0.90777</td>\n",
       "      <td>33776.0000</td>\n",
       "    </tr>\n",
       "    <tr>\n",
       "      <th>3</th>\n",
       "      <td>34758-84-4</td>\n",
       "      <td>COC(CN1CCN(CC(O)C(OC)c2ccccc2)CC1)c1ccccc1</td>\n",
       "      <td>0.93852</td>\n",
       "      <td>44268.0000</td>\n",
       "    </tr>\n",
       "    <tr>\n",
       "      <th>4</th>\n",
       "      <td>9005-66-7</td>\n",
       "      <td>CCCCCCCCCCCC(=O)OCCOCC(OCCO)C1OCC(OCCO)C1OCCO</td>\n",
       "      <td>1.01926</td>\n",
       "      <td>49968.0000</td>\n",
       "    </tr>\n",
       "    <tr>\n",
       "      <th>...</th>\n",
       "      <td>...</td>\n",
       "      <td>...</td>\n",
       "      <td>...</td>\n",
       "      <td>...</td>\n",
       "    </tr>\n",
       "    <tr>\n",
       "      <th>12049</th>\n",
       "      <td>115722-23-1</td>\n",
       "      <td>CCC(C)C(NC(=O)C(N)CC(C)C)C(=O)N1CCCC1C(=O)N1CC...</td>\n",
       "      <td>7.35180</td>\n",
       "      <td>0.0400</td>\n",
       "    </tr>\n",
       "    <tr>\n",
       "      <th>12050</th>\n",
       "      <td>4026-95-3</td>\n",
       "      <td>CC12CCC(O)CC1CCC1C2CCC2(C)C(c3ccc(=O)oc3)C(O)C...</td>\n",
       "      <td>7.42650</td>\n",
       "      <td>0.0150</td>\n",
       "    </tr>\n",
       "    <tr>\n",
       "      <th>12051</th>\n",
       "      <td>465-19-0</td>\n",
       "      <td>CC12CCC(O)CC1CCC1C2CCC2(C)C(c3ccc(=O)oc3)C(O)C...</td>\n",
       "      <td>7.60480</td>\n",
       "      <td>0.0100</td>\n",
       "    </tr>\n",
       "    <tr>\n",
       "      <th>12052</th>\n",
       "      <td>35523-89-8</td>\n",
       "      <td>NC(=O)OCC1N=C(N)N2CCC(O)(O)C23NC(N)=NC13</td>\n",
       "      <td>7.74560</td>\n",
       "      <td>0.0054</td>\n",
       "    </tr>\n",
       "    <tr>\n",
       "      <th>12053</th>\n",
       "      <td>69866-21-3</td>\n",
       "      <td>COc1c(O)c2c(c3cc(C(=O)N4CCc5c4c(O)c(OC)c4[nH]c...</td>\n",
       "      <td>7.89320</td>\n",
       "      <td>0.0090</td>\n",
       "    </tr>\n",
       "  </tbody>\n",
       "</table>\n",
       "<p>12054 rows × 4 columns</p>\n",
       "</div>"
      ],
      "text/plain": [
       "        CAS_Number                                             SMILES  \\\n",
       "0          67-56-1                                                 CO   \n",
       "1       19491-72-6                                 CCCNCC(Br)c1ccccc1   \n",
       "2       64790-46-1                 CN1C2CCC1CC(OC(=O)C(=O)c1ccccc1)C2   \n",
       "3       34758-84-4         COC(CN1CCN(CC(O)C(OC)c2ccccc2)CC1)c1ccccc1   \n",
       "4        9005-66-7      CCCCCCCCCCCC(=O)OCCOCC(OCCO)C1OCC(OCCO)C1OCCO   \n",
       "...            ...                                                ...   \n",
       "12049  115722-23-1  CCC(C)C(NC(=O)C(N)CC(C)C)C(=O)N1CCCC1C(=O)N1CC...   \n",
       "12050    4026-95-3  CC12CCC(O)CC1CCC1C2CCC2(C)C(c3ccc(=O)oc3)C(O)C...   \n",
       "12051     465-19-0  CC12CCC(O)CC1CCC1C2CCC2(C)C(c3ccc(=O)oc3)C(O)C...   \n",
       "12052   35523-89-8           NC(=O)OCC1N=C(N)N2CCC(O)(O)C23NC(N)=NC13   \n",
       "12053   69866-21-3  COc1c(O)c2c(c3cc(C(=O)N4CCc5c4c(O)c(OC)c4[nH]c...   \n",
       "\n",
       "         pLD50  LD50,mg/kg  \n",
       "0      0.83270   4707.7000  \n",
       "1      0.89274  30857.5000  \n",
       "2      0.90777  33776.0000  \n",
       "3      0.93852  44268.0000  \n",
       "4      1.01926  49968.0000  \n",
       "...        ...         ...  \n",
       "12049  7.35180      0.0400  \n",
       "12050  7.42650      0.0150  \n",
       "12051  7.60480      0.0100  \n",
       "12052  7.74560      0.0054  \n",
       "12053  7.89320      0.0090  \n",
       "\n",
       "[12054 rows x 4 columns]"
      ]
     },
     "execution_count": 6,
     "metadata": {},
     "output_type": "execute_result"
    }
   ],
   "source": [
    "# Set file path\n",
    "df_ws=pd.read_csv('mouse_intravenous_LD50_WS.csv')\n",
    "df_ws"
   ]
  },
  {
   "cell_type": "markdown",
   "id": "d8f9ce1c",
   "metadata": {},
   "source": [
    " Convert a SMILES string to canonical SMILES"
   ]
  },
  {
   "cell_type": "code",
   "execution_count": 7,
   "id": "3c102c52",
   "metadata": {},
   "outputs": [
    {
     "data": {
      "text/html": [
       "<div>\n",
       "<style scoped>\n",
       "    .dataframe tbody tr th:only-of-type {\n",
       "        vertical-align: middle;\n",
       "    }\n",
       "\n",
       "    .dataframe tbody tr th {\n",
       "        vertical-align: top;\n",
       "    }\n",
       "\n",
       "    .dataframe thead th {\n",
       "        text-align: right;\n",
       "    }\n",
       "</style>\n",
       "<table border=\"1\" class=\"dataframe\">\n",
       "  <thead>\n",
       "    <tr style=\"text-align: right;\">\n",
       "      <th></th>\n",
       "      <th>CAS_Number</th>\n",
       "      <th>SMILES</th>\n",
       "      <th>pLD50</th>\n",
       "      <th>LD50,mg/kg</th>\n",
       "    </tr>\n",
       "  </thead>\n",
       "  <tbody>\n",
       "    <tr>\n",
       "      <th>0</th>\n",
       "      <td>67-56-1</td>\n",
       "      <td>CO</td>\n",
       "      <td>0.83270</td>\n",
       "      <td>4707.7000</td>\n",
       "    </tr>\n",
       "    <tr>\n",
       "      <th>1</th>\n",
       "      <td>19491-72-6</td>\n",
       "      <td>CCCNCC(Br)c1ccccc1</td>\n",
       "      <td>0.89274</td>\n",
       "      <td>30857.5000</td>\n",
       "    </tr>\n",
       "    <tr>\n",
       "      <th>2</th>\n",
       "      <td>64790-46-1</td>\n",
       "      <td>CN1C2CCC1CC(OC(=O)C(=O)c1ccccc1)C2</td>\n",
       "      <td>0.90777</td>\n",
       "      <td>33776.0000</td>\n",
       "    </tr>\n",
       "    <tr>\n",
       "      <th>3</th>\n",
       "      <td>34758-84-4</td>\n",
       "      <td>COC(CN1CCN(CC(O)C(OC)c2ccccc2)CC1)c1ccccc1</td>\n",
       "      <td>0.93852</td>\n",
       "      <td>44268.0000</td>\n",
       "    </tr>\n",
       "    <tr>\n",
       "      <th>4</th>\n",
       "      <td>9005-66-7</td>\n",
       "      <td>CCCCCCCCCCCC(=O)OCCOCC(OCCO)C1OCC(OCCO)C1OCCO</td>\n",
       "      <td>1.01926</td>\n",
       "      <td>49968.0000</td>\n",
       "    </tr>\n",
       "    <tr>\n",
       "      <th>...</th>\n",
       "      <td>...</td>\n",
       "      <td>...</td>\n",
       "      <td>...</td>\n",
       "      <td>...</td>\n",
       "    </tr>\n",
       "    <tr>\n",
       "      <th>12049</th>\n",
       "      <td>115722-23-1</td>\n",
       "      <td>CCC(C)C(NC(=O)C(N)CC(C)C)C(=O)N1CCCC1C(=O)N1CC...</td>\n",
       "      <td>7.35180</td>\n",
       "      <td>0.0400</td>\n",
       "    </tr>\n",
       "    <tr>\n",
       "      <th>12050</th>\n",
       "      <td>4026-95-3</td>\n",
       "      <td>CC12CCC(O)CC1CCC1C2CCC2(C)C(c3ccc(=O)oc3)C(O)C...</td>\n",
       "      <td>7.42650</td>\n",
       "      <td>0.0150</td>\n",
       "    </tr>\n",
       "    <tr>\n",
       "      <th>12051</th>\n",
       "      <td>465-19-0</td>\n",
       "      <td>CC12CCC(O)CC1CCC1C2CCC2(C)C(c3ccc(=O)oc3)C(O)C...</td>\n",
       "      <td>7.60480</td>\n",
       "      <td>0.0100</td>\n",
       "    </tr>\n",
       "    <tr>\n",
       "      <th>12052</th>\n",
       "      <td>35523-89-8</td>\n",
       "      <td>NC(=O)OCC1N=C(N)N2CCC(O)(O)C23NC(N)=NC13</td>\n",
       "      <td>7.74560</td>\n",
       "      <td>0.0054</td>\n",
       "    </tr>\n",
       "    <tr>\n",
       "      <th>12053</th>\n",
       "      <td>69866-21-3</td>\n",
       "      <td>COc1c(O)c2c(c3cc(C(=O)N4CCc5c4c(O)c(OC)c4[nH]c...</td>\n",
       "      <td>7.89320</td>\n",
       "      <td>0.0090</td>\n",
       "    </tr>\n",
       "  </tbody>\n",
       "</table>\n",
       "<p>12054 rows × 4 columns</p>\n",
       "</div>"
      ],
      "text/plain": [
       "        CAS_Number                                             SMILES  \\\n",
       "0          67-56-1                                                 CO   \n",
       "1       19491-72-6                                 CCCNCC(Br)c1ccccc1   \n",
       "2       64790-46-1                 CN1C2CCC1CC(OC(=O)C(=O)c1ccccc1)C2   \n",
       "3       34758-84-4         COC(CN1CCN(CC(O)C(OC)c2ccccc2)CC1)c1ccccc1   \n",
       "4        9005-66-7      CCCCCCCCCCCC(=O)OCCOCC(OCCO)C1OCC(OCCO)C1OCCO   \n",
       "...            ...                                                ...   \n",
       "12049  115722-23-1  CCC(C)C(NC(=O)C(N)CC(C)C)C(=O)N1CCCC1C(=O)N1CC...   \n",
       "12050    4026-95-3  CC12CCC(O)CC1CCC1C2CCC2(C)C(c3ccc(=O)oc3)C(O)C...   \n",
       "12051     465-19-0  CC12CCC(O)CC1CCC1C2CCC2(C)C(c3ccc(=O)oc3)C(O)C...   \n",
       "12052   35523-89-8           NC(=O)OCC1N=C(N)N2CCC(O)(O)C23NC(N)=NC13   \n",
       "12053   69866-21-3  COc1c(O)c2c(c3cc(C(=O)N4CCc5c4c(O)c(OC)c4[nH]c...   \n",
       "\n",
       "         pLD50  LD50,mg/kg  \n",
       "0      0.83270   4707.7000  \n",
       "1      0.89274  30857.5000  \n",
       "2      0.90777  33776.0000  \n",
       "3      0.93852  44268.0000  \n",
       "4      1.01926  49968.0000  \n",
       "...        ...         ...  \n",
       "12049  7.35180      0.0400  \n",
       "12050  7.42650      0.0150  \n",
       "12051  7.60480      0.0100  \n",
       "12052  7.74560      0.0054  \n",
       "12053  7.89320      0.0090  \n",
       "\n",
       "[12054 rows x 4 columns]"
      ]
     },
     "execution_count": 7,
     "metadata": {},
     "output_type": "execute_result"
    }
   ],
   "source": [
    "df_ws1 = deepcopy(df_ws)\n",
    "df_ws1[\"SMILES\"] = df_ws1.apply(lambda x: convert_smi_to_canon_smi(x.SMILES), axis=1)\n",
    "df_ws1"
   ]
  },
  {
   "cell_type": "code",
   "execution_count": 8,
   "id": "55f11f4c",
   "metadata": {},
   "outputs": [
    {
     "name": "stdout",
     "output_type": "stream",
     "text": [
      "Original data:  12054 molecules\n",
      "Failed data:  0 molecules\n"
     ]
    }
   ],
   "source": [
    "print('Original data: ', len(df_ws), 'molecules')\n",
    "print('Failed data: ', len(df_ws1[df_ws1['SMILES']=='wrong_smiles']), 'molecules')"
   ]
  },
  {
   "cell_type": "code",
   "execution_count": 9,
   "id": "767116e0",
   "metadata": {
    "scrolled": true
   },
   "outputs": [
    {
     "data": {
      "text/html": [
       "<div>\n",
       "<style scoped>\n",
       "    .dataframe tbody tr th:only-of-type {\n",
       "        vertical-align: middle;\n",
       "    }\n",
       "\n",
       "    .dataframe tbody tr th {\n",
       "        vertical-align: top;\n",
       "    }\n",
       "\n",
       "    .dataframe thead th {\n",
       "        text-align: right;\n",
       "    }\n",
       "</style>\n",
       "<table border=\"1\" class=\"dataframe\">\n",
       "  <thead>\n",
       "    <tr style=\"text-align: right;\">\n",
       "      <th></th>\n",
       "      <th>SMILES of wrong structure:</th>\n",
       "    </tr>\n",
       "    <tr>\n",
       "      <th>No. failed smiles in original set</th>\n",
       "      <th></th>\n",
       "    </tr>\n",
       "  </thead>\n",
       "  <tbody>\n",
       "  </tbody>\n",
       "</table>\n",
       "</div>"
      ],
      "text/plain": [
       "Empty DataFrame\n",
       "Columns: [SMILES of wrong structure: ]\n",
       "Index: []"
      ]
     },
     "execution_count": 9,
     "metadata": {},
     "output_type": "execute_result"
    }
   ],
   "source": [
    "index=df_ws1.index[df_ws1['SMILES']=='wrong_smiles'].tolist()\n",
    "wrong_smiles=df_ws.iloc[index]\n",
    "wrong_smiles=wrong_smiles.SMILES\n",
    "number=[x+1 for x in index]\n",
    "bad_molecules = pd.DataFrame({'No. failed smiles in original set': number, 'SMILES of wrong structure: ': wrong_smiles}, index=None)\n",
    "bad_molecules = bad_molecules.set_index('No. failed smiles in original set')\n",
    "bad_molecules"
   ]
  },
  {
   "cell_type": "markdown",
   "id": "f17375a3",
   "metadata": {},
   "source": [
    "##  Standardization  for work set"
   ]
  },
  {
   "cell_type": "code",
   "execution_count": 10,
   "id": "5a6a143c",
   "metadata": {},
   "outputs": [
    {
     "name": "stdout",
     "output_type": "stream",
     "text": [
      "Kept data:  12054 molecules\n"
     ]
    }
   ],
   "source": [
    "df_ws1[\"Molecule\"] = df_ws1.apply(lambda x: standart(x.SMILES), axis=1)\n",
    "moldf_ws=df_ws1[df_ws1['SMILES']!='wrong_smiles']\n",
    "print('Kept data: ', len(moldf_ws), 'molecules')"
   ]
  },
  {
   "cell_type": "code",
   "execution_count": 11,
   "id": "0da101d6",
   "metadata": {},
   "outputs": [
    {
     "data": {
      "text/html": [
       "<div>\n",
       "<style scoped>\n",
       "    .dataframe tbody tr th:only-of-type {\n",
       "        vertical-align: middle;\n",
       "    }\n",
       "\n",
       "    .dataframe tbody tr th {\n",
       "        vertical-align: top;\n",
       "    }\n",
       "\n",
       "    .dataframe thead th {\n",
       "        text-align: right;\n",
       "    }\n",
       "</style>\n",
       "<table border=\"1\" class=\"dataframe\">\n",
       "  <thead>\n",
       "    <tr style=\"text-align: right;\">\n",
       "      <th></th>\n",
       "      <th>CAS_Number</th>\n",
       "      <th>SMILES</th>\n",
       "      <th>pLD50</th>\n",
       "      <th>LD50,mg/kg</th>\n",
       "      <th>Molecule</th>\n",
       "    </tr>\n",
       "  </thead>\n",
       "  <tbody>\n",
       "    <tr>\n",
       "      <th>0</th>\n",
       "      <td>67-56-1</td>\n",
       "      <td>CO</td>\n",
       "      <td>0.83270</td>\n",
       "      <td>4707.7000</td>\n",
       "      <td>&lt;rdkit.Chem.rdchem.Mol object at 0x00000188381...</td>\n",
       "    </tr>\n",
       "    <tr>\n",
       "      <th>1</th>\n",
       "      <td>19491-72-6</td>\n",
       "      <td>CCCNCC(Br)c1ccccc1</td>\n",
       "      <td>0.89274</td>\n",
       "      <td>30857.5000</td>\n",
       "      <td>&lt;rdkit.Chem.rdchem.Mol object at 0x00000188381...</td>\n",
       "    </tr>\n",
       "    <tr>\n",
       "      <th>2</th>\n",
       "      <td>64790-46-1</td>\n",
       "      <td>CN1C2CCC1CC(OC(=O)C(=O)c1ccccc1)C2</td>\n",
       "      <td>0.90777</td>\n",
       "      <td>33776.0000</td>\n",
       "      <td>&lt;rdkit.Chem.rdchem.Mol object at 0x00000188381...</td>\n",
       "    </tr>\n",
       "    <tr>\n",
       "      <th>3</th>\n",
       "      <td>34758-84-4</td>\n",
       "      <td>COC(CN1CCN(CC(O)C(OC)c2ccccc2)CC1)c1ccccc1</td>\n",
       "      <td>0.93852</td>\n",
       "      <td>44268.0000</td>\n",
       "      <td>&lt;rdkit.Chem.rdchem.Mol object at 0x00000188381...</td>\n",
       "    </tr>\n",
       "    <tr>\n",
       "      <th>4</th>\n",
       "      <td>9005-66-7</td>\n",
       "      <td>CCCCCCCCCCCC(=O)OCCOCC(OCCO)C1OCC(OCCO)C1OCCO</td>\n",
       "      <td>1.01926</td>\n",
       "      <td>49968.0000</td>\n",
       "      <td>&lt;rdkit.Chem.rdchem.Mol object at 0x00000188381...</td>\n",
       "    </tr>\n",
       "    <tr>\n",
       "      <th>...</th>\n",
       "      <td>...</td>\n",
       "      <td>...</td>\n",
       "      <td>...</td>\n",
       "      <td>...</td>\n",
       "      <td>...</td>\n",
       "    </tr>\n",
       "    <tr>\n",
       "      <th>12049</th>\n",
       "      <td>115722-23-1</td>\n",
       "      <td>CCC(C)C(NC(=O)C(N)CC(C)C)C(=O)N1CCCC1C(=O)N1CC...</td>\n",
       "      <td>7.35180</td>\n",
       "      <td>0.0400</td>\n",
       "      <td>&lt;rdkit.Chem.rdchem.Mol object at 0x00000188382...</td>\n",
       "    </tr>\n",
       "    <tr>\n",
       "      <th>12050</th>\n",
       "      <td>4026-95-3</td>\n",
       "      <td>CC12CCC(O)CC1CCC1C2CCC2(C)C(c3ccc(=O)oc3)C(O)C...</td>\n",
       "      <td>7.42650</td>\n",
       "      <td>0.0150</td>\n",
       "      <td>&lt;rdkit.Chem.rdchem.Mol object at 0x00000188382...</td>\n",
       "    </tr>\n",
       "    <tr>\n",
       "      <th>12051</th>\n",
       "      <td>465-19-0</td>\n",
       "      <td>CC12CCC(O)CC1CCC1C2CCC2(C)C(c3ccc(=O)oc3)C(O)C...</td>\n",
       "      <td>7.60480</td>\n",
       "      <td>0.0100</td>\n",
       "      <td>&lt;rdkit.Chem.rdchem.Mol object at 0x00000188382...</td>\n",
       "    </tr>\n",
       "    <tr>\n",
       "      <th>12052</th>\n",
       "      <td>35523-89-8</td>\n",
       "      <td>NC(=O)OCC1N=C(N)N2CCC(O)(O)C23NC(N)=NC13</td>\n",
       "      <td>7.74560</td>\n",
       "      <td>0.0054</td>\n",
       "      <td>&lt;rdkit.Chem.rdchem.Mol object at 0x00000188382...</td>\n",
       "    </tr>\n",
       "    <tr>\n",
       "      <th>12053</th>\n",
       "      <td>69866-21-3</td>\n",
       "      <td>COc1c(O)c2c(c3cc(C(=O)N4CCc5c4c(O)c(OC)c4[nH]c...</td>\n",
       "      <td>7.89320</td>\n",
       "      <td>0.0090</td>\n",
       "      <td>&lt;rdkit.Chem.rdchem.Mol object at 0x00000188382...</td>\n",
       "    </tr>\n",
       "  </tbody>\n",
       "</table>\n",
       "<p>12054 rows × 5 columns</p>\n",
       "</div>"
      ],
      "text/plain": [
       "        CAS_Number                                             SMILES  \\\n",
       "0          67-56-1                                                 CO   \n",
       "1       19491-72-6                                 CCCNCC(Br)c1ccccc1   \n",
       "2       64790-46-1                 CN1C2CCC1CC(OC(=O)C(=O)c1ccccc1)C2   \n",
       "3       34758-84-4         COC(CN1CCN(CC(O)C(OC)c2ccccc2)CC1)c1ccccc1   \n",
       "4        9005-66-7      CCCCCCCCCCCC(=O)OCCOCC(OCCO)C1OCC(OCCO)C1OCCO   \n",
       "...            ...                                                ...   \n",
       "12049  115722-23-1  CCC(C)C(NC(=O)C(N)CC(C)C)C(=O)N1CCCC1C(=O)N1CC...   \n",
       "12050    4026-95-3  CC12CCC(O)CC1CCC1C2CCC2(C)C(c3ccc(=O)oc3)C(O)C...   \n",
       "12051     465-19-0  CC12CCC(O)CC1CCC1C2CCC2(C)C(c3ccc(=O)oc3)C(O)C...   \n",
       "12052   35523-89-8           NC(=O)OCC1N=C(N)N2CCC(O)(O)C23NC(N)=NC13   \n",
       "12053   69866-21-3  COc1c(O)c2c(c3cc(C(=O)N4CCc5c4c(O)c(OC)c4[nH]c...   \n",
       "\n",
       "         pLD50  LD50,mg/kg                                           Molecule  \n",
       "0      0.83270   4707.7000  <rdkit.Chem.rdchem.Mol object at 0x00000188381...  \n",
       "1      0.89274  30857.5000  <rdkit.Chem.rdchem.Mol object at 0x00000188381...  \n",
       "2      0.90777  33776.0000  <rdkit.Chem.rdchem.Mol object at 0x00000188381...  \n",
       "3      0.93852  44268.0000  <rdkit.Chem.rdchem.Mol object at 0x00000188381...  \n",
       "4      1.01926  49968.0000  <rdkit.Chem.rdchem.Mol object at 0x00000188381...  \n",
       "...        ...         ...                                                ...  \n",
       "12049  7.35180      0.0400  <rdkit.Chem.rdchem.Mol object at 0x00000188382...  \n",
       "12050  7.42650      0.0150  <rdkit.Chem.rdchem.Mol object at 0x00000188382...  \n",
       "12051  7.60480      0.0100  <rdkit.Chem.rdchem.Mol object at 0x00000188382...  \n",
       "12052  7.74560      0.0054  <rdkit.Chem.rdchem.Mol object at 0x00000188382...  \n",
       "12053  7.89320      0.0090  <rdkit.Chem.rdchem.Mol object at 0x00000188382...  \n",
       "\n",
       "[12054 rows x 5 columns]"
      ]
     },
     "execution_count": 11,
     "metadata": {},
     "output_type": "execute_result"
    }
   ],
   "source": [
    "moldf_ws"
   ]
  },
  {
   "cell_type": "code",
   "execution_count": 12,
   "id": "487e9136",
   "metadata": {},
   "outputs": [
    {
     "data": {
      "text/plain": [
       "0        0.83270\n",
       "1        0.89274\n",
       "2        0.90777\n",
       "3        0.93852\n",
       "4        1.01926\n",
       "          ...   \n",
       "12049    7.35180\n",
       "12050    7.42650\n",
       "12051    7.60480\n",
       "12052    7.74560\n",
       "12053    7.89320\n",
       "Name: pLD50, Length: 12054, dtype: float64"
      ]
     },
     "execution_count": 12,
     "metadata": {},
     "output_type": "execute_result"
    }
   ],
   "source": [
    "y_tr=moldf_ws.pLD50\n",
    "y_tr"
   ]
  },
  {
   "cell_type": "code",
   "execution_count": 13,
   "id": "65b4c274",
   "metadata": {},
   "outputs": [],
   "source": [
    "moldf_ws=moldf_ws.Molecule"
   ]
  },
  {
   "cell_type": "markdown",
   "id": "8a6b433e",
   "metadata": {},
   "source": [
    "##  Load data and curation test set"
   ]
  },
  {
   "cell_type": "code",
   "execution_count": 14,
   "id": "bc58b9f5",
   "metadata": {
    "scrolled": true
   },
   "outputs": [
    {
     "data": {
      "text/html": [
       "<div>\n",
       "<style scoped>\n",
       "    .dataframe tbody tr th:only-of-type {\n",
       "        vertical-align: middle;\n",
       "    }\n",
       "\n",
       "    .dataframe tbody tr th {\n",
       "        vertical-align: top;\n",
       "    }\n",
       "\n",
       "    .dataframe thead th {\n",
       "        text-align: right;\n",
       "    }\n",
       "</style>\n",
       "<table border=\"1\" class=\"dataframe\">\n",
       "  <thead>\n",
       "    <tr style=\"text-align: right;\">\n",
       "      <th></th>\n",
       "      <th>CAS_Number</th>\n",
       "      <th>SMILES</th>\n",
       "      <th>pLD50</th>\n",
       "      <th>LD50,mg/kg</th>\n",
       "    </tr>\n",
       "  </thead>\n",
       "  <tbody>\n",
       "    <tr>\n",
       "      <th>0</th>\n",
       "      <td>60-35-5</td>\n",
       "      <td>CC(N)=O</td>\n",
       "      <td>0.77135</td>\n",
       "      <td>9994.8000</td>\n",
       "    </tr>\n",
       "    <tr>\n",
       "      <th>1</th>\n",
       "      <td>358-21-4</td>\n",
       "      <td>FC(F)(F)C(F)(F)OC(F)(F)C(F)(F)F</td>\n",
       "      <td>0.94248</td>\n",
       "      <td>28995.0000</td>\n",
       "    </tr>\n",
       "    <tr>\n",
       "      <th>2</th>\n",
       "      <td>58-86-6</td>\n",
       "      <td>O=CC(O)C(O)C(O)CO</td>\n",
       "      <td>1.12339</td>\n",
       "      <td>11294.2000</td>\n",
       "    </tr>\n",
       "    <tr>\n",
       "      <th>3</th>\n",
       "      <td>61-82-5</td>\n",
       "      <td>Nc1nnc[nH]1</td>\n",
       "      <td>1.22573</td>\n",
       "      <td>4997.7000</td>\n",
       "    </tr>\n",
       "    <tr>\n",
       "      <th>4</th>\n",
       "      <td>79-16-3</td>\n",
       "      <td>CNC(C)=O</td>\n",
       "      <td>1.26020</td>\n",
       "      <td>4012.7000</td>\n",
       "    </tr>\n",
       "    <tr>\n",
       "      <th>...</th>\n",
       "      <td>...</td>\n",
       "      <td>...</td>\n",
       "      <td>...</td>\n",
       "      <td>...</td>\n",
       "    </tr>\n",
       "    <tr>\n",
       "      <th>3009</th>\n",
       "      <td>81131-98-8</td>\n",
       "      <td>CC(CCCCCCCC1CC(OS(=O)(=O)O)CCCCCCCCCCCC(OS(=O)...</td>\n",
       "      <td>6.73300</td>\n",
       "      <td>0.1798</td>\n",
       "    </tr>\n",
       "    <tr>\n",
       "      <th>3010</th>\n",
       "      <td>2001-95-8</td>\n",
       "      <td>CC1OC(=O)C(C(C)C)NC(=O)C(C(C)C)OC(=O)C(C(C)C)N...</td>\n",
       "      <td>6.79060</td>\n",
       "      <td>0.1799</td>\n",
       "    </tr>\n",
       "    <tr>\n",
       "      <th>3011</th>\n",
       "      <td>124-97-0</td>\n",
       "      <td>CCC(C)C(=O)OC1C(O)C2C(CN3CC(C)CCC3C2(C)O)C2CC3...</td>\n",
       "      <td>7.09550</td>\n",
       "      <td>0.0650</td>\n",
       "    </tr>\n",
       "    <tr>\n",
       "      <th>3012</th>\n",
       "      <td>13602-52-3</td>\n",
       "      <td>CCC(C)C1C(=O)OCC(NC(=O)c2cnc3ccccc3n2)C(=O)NC(...</td>\n",
       "      <td>7.32040</td>\n",
       "      <td>0.0540</td>\n",
       "    </tr>\n",
       "    <tr>\n",
       "      <th>3013</th>\n",
       "      <td>4368-28-9</td>\n",
       "      <td>NC1=NC(O)C2C3OC4(O)OC(C(O)C2(N1)C4O)C3(O)CO</td>\n",
       "      <td>7.64080</td>\n",
       "      <td>0.0073</td>\n",
       "    </tr>\n",
       "  </tbody>\n",
       "</table>\n",
       "<p>3014 rows × 4 columns</p>\n",
       "</div>"
      ],
      "text/plain": [
       "      CAS_Number                                             SMILES    pLD50  \\\n",
       "0        60-35-5                                            CC(N)=O  0.77135   \n",
       "1       358-21-4                    FC(F)(F)C(F)(F)OC(F)(F)C(F)(F)F  0.94248   \n",
       "2        58-86-6                                  O=CC(O)C(O)C(O)CO  1.12339   \n",
       "3        61-82-5                                        Nc1nnc[nH]1  1.22573   \n",
       "4        79-16-3                                           CNC(C)=O  1.26020   \n",
       "...          ...                                                ...      ...   \n",
       "3009  81131-98-8  CC(CCCCCCCC1CC(OS(=O)(=O)O)CCCCCCCCCCCC(OS(=O)...  6.73300   \n",
       "3010   2001-95-8  CC1OC(=O)C(C(C)C)NC(=O)C(C(C)C)OC(=O)C(C(C)C)N...  6.79060   \n",
       "3011    124-97-0  CCC(C)C(=O)OC1C(O)C2C(CN3CC(C)CCC3C2(C)O)C2CC3...  7.09550   \n",
       "3012  13602-52-3  CCC(C)C1C(=O)OCC(NC(=O)c2cnc3ccccc3n2)C(=O)NC(...  7.32040   \n",
       "3013   4368-28-9        NC1=NC(O)C2C3OC4(O)OC(C(O)C2(N1)C4O)C3(O)CO  7.64080   \n",
       "\n",
       "      LD50,mg/kg  \n",
       "0      9994.8000  \n",
       "1     28995.0000  \n",
       "2     11294.2000  \n",
       "3      4997.7000  \n",
       "4      4012.7000  \n",
       "...          ...  \n",
       "3009      0.1798  \n",
       "3010      0.1799  \n",
       "3011      0.0650  \n",
       "3012      0.0540  \n",
       "3013      0.0073  \n",
       "\n",
       "[3014 rows x 4 columns]"
      ]
     },
     "execution_count": 14,
     "metadata": {},
     "output_type": "execute_result"
    }
   ],
   "source": [
    "df_ts=pd.read_csv('mouse_intravenous_LD50_TS.csv')\n",
    "df_ts"
   ]
  },
  {
   "cell_type": "markdown",
   "id": "a8136259",
   "metadata": {},
   "source": [
    " Convert a SMILES string to canonical SMILES"
   ]
  },
  {
   "cell_type": "code",
   "execution_count": 15,
   "id": "e552b5f9",
   "metadata": {},
   "outputs": [
    {
     "data": {
      "text/html": [
       "<div>\n",
       "<style scoped>\n",
       "    .dataframe tbody tr th:only-of-type {\n",
       "        vertical-align: middle;\n",
       "    }\n",
       "\n",
       "    .dataframe tbody tr th {\n",
       "        vertical-align: top;\n",
       "    }\n",
       "\n",
       "    .dataframe thead th {\n",
       "        text-align: right;\n",
       "    }\n",
       "</style>\n",
       "<table border=\"1\" class=\"dataframe\">\n",
       "  <thead>\n",
       "    <tr style=\"text-align: right;\">\n",
       "      <th></th>\n",
       "      <th>CAS_Number</th>\n",
       "      <th>SMILES</th>\n",
       "      <th>pLD50</th>\n",
       "      <th>LD50,mg/kg</th>\n",
       "    </tr>\n",
       "  </thead>\n",
       "  <tbody>\n",
       "    <tr>\n",
       "      <th>0</th>\n",
       "      <td>60-35-5</td>\n",
       "      <td>CC(N)=O</td>\n",
       "      <td>0.77135</td>\n",
       "      <td>9994.8000</td>\n",
       "    </tr>\n",
       "    <tr>\n",
       "      <th>1</th>\n",
       "      <td>358-21-4</td>\n",
       "      <td>FC(F)(F)C(F)(F)OC(F)(F)C(F)(F)F</td>\n",
       "      <td>0.94248</td>\n",
       "      <td>28995.0000</td>\n",
       "    </tr>\n",
       "    <tr>\n",
       "      <th>2</th>\n",
       "      <td>58-86-6</td>\n",
       "      <td>O=CC(O)C(O)C(O)CO</td>\n",
       "      <td>1.12339</td>\n",
       "      <td>11294.2000</td>\n",
       "    </tr>\n",
       "    <tr>\n",
       "      <th>3</th>\n",
       "      <td>61-82-5</td>\n",
       "      <td>Nc1nnc[nH]1</td>\n",
       "      <td>1.22573</td>\n",
       "      <td>4997.7000</td>\n",
       "    </tr>\n",
       "    <tr>\n",
       "      <th>4</th>\n",
       "      <td>79-16-3</td>\n",
       "      <td>CNC(C)=O</td>\n",
       "      <td>1.26020</td>\n",
       "      <td>4012.7000</td>\n",
       "    </tr>\n",
       "    <tr>\n",
       "      <th>...</th>\n",
       "      <td>...</td>\n",
       "      <td>...</td>\n",
       "      <td>...</td>\n",
       "      <td>...</td>\n",
       "    </tr>\n",
       "    <tr>\n",
       "      <th>3009</th>\n",
       "      <td>81131-98-8</td>\n",
       "      <td>CC(CCCCCCCC1CC(OS(=O)(=O)O)CCCCCCCCCCCC(OS(=O)...</td>\n",
       "      <td>6.73300</td>\n",
       "      <td>0.1798</td>\n",
       "    </tr>\n",
       "    <tr>\n",
       "      <th>3010</th>\n",
       "      <td>2001-95-8</td>\n",
       "      <td>CC1OC(=O)C(C(C)C)NC(=O)C(C(C)C)OC(=O)C(C(C)C)N...</td>\n",
       "      <td>6.79060</td>\n",
       "      <td>0.1799</td>\n",
       "    </tr>\n",
       "    <tr>\n",
       "      <th>3011</th>\n",
       "      <td>124-97-0</td>\n",
       "      <td>CCC(C)C(=O)OC1C(O)C2C(CN3CC(C)CCC3C2(C)O)C2CC3...</td>\n",
       "      <td>7.09550</td>\n",
       "      <td>0.0650</td>\n",
       "    </tr>\n",
       "    <tr>\n",
       "      <th>3012</th>\n",
       "      <td>13602-52-3</td>\n",
       "      <td>CCC(C)C1C(=O)OCC(NC(=O)c2cnc3ccccc3n2)C(=O)NC(...</td>\n",
       "      <td>7.32040</td>\n",
       "      <td>0.0540</td>\n",
       "    </tr>\n",
       "    <tr>\n",
       "      <th>3013</th>\n",
       "      <td>4368-28-9</td>\n",
       "      <td>NC1=NC(O)C2C3OC4(O)OC(C(O)C2(N1)C4O)C3(O)CO</td>\n",
       "      <td>7.64080</td>\n",
       "      <td>0.0073</td>\n",
       "    </tr>\n",
       "  </tbody>\n",
       "</table>\n",
       "<p>3014 rows × 4 columns</p>\n",
       "</div>"
      ],
      "text/plain": [
       "      CAS_Number                                             SMILES    pLD50  \\\n",
       "0        60-35-5                                            CC(N)=O  0.77135   \n",
       "1       358-21-4                    FC(F)(F)C(F)(F)OC(F)(F)C(F)(F)F  0.94248   \n",
       "2        58-86-6                                  O=CC(O)C(O)C(O)CO  1.12339   \n",
       "3        61-82-5                                        Nc1nnc[nH]1  1.22573   \n",
       "4        79-16-3                                           CNC(C)=O  1.26020   \n",
       "...          ...                                                ...      ...   \n",
       "3009  81131-98-8  CC(CCCCCCCC1CC(OS(=O)(=O)O)CCCCCCCCCCCC(OS(=O)...  6.73300   \n",
       "3010   2001-95-8  CC1OC(=O)C(C(C)C)NC(=O)C(C(C)C)OC(=O)C(C(C)C)N...  6.79060   \n",
       "3011    124-97-0  CCC(C)C(=O)OC1C(O)C2C(CN3CC(C)CCC3C2(C)O)C2CC3...  7.09550   \n",
       "3012  13602-52-3  CCC(C)C1C(=O)OCC(NC(=O)c2cnc3ccccc3n2)C(=O)NC(...  7.32040   \n",
       "3013   4368-28-9        NC1=NC(O)C2C3OC4(O)OC(C(O)C2(N1)C4O)C3(O)CO  7.64080   \n",
       "\n",
       "      LD50,mg/kg  \n",
       "0      9994.8000  \n",
       "1     28995.0000  \n",
       "2     11294.2000  \n",
       "3      4997.7000  \n",
       "4      4012.7000  \n",
       "...          ...  \n",
       "3009      0.1798  \n",
       "3010      0.1799  \n",
       "3011      0.0650  \n",
       "3012      0.0540  \n",
       "3013      0.0073  \n",
       "\n",
       "[3014 rows x 4 columns]"
      ]
     },
     "execution_count": 15,
     "metadata": {},
     "output_type": "execute_result"
    }
   ],
   "source": [
    "df_ts1 = deepcopy(df_ts)\n",
    "df_ts1[\"SMILES\"] = df_ts1.apply(lambda x: convert_smi_to_canon_smi(x.SMILES), axis=1)\n",
    "df_ts1"
   ]
  },
  {
   "cell_type": "code",
   "execution_count": 16,
   "id": "9632ef02",
   "metadata": {},
   "outputs": [
    {
     "name": "stdout",
     "output_type": "stream",
     "text": [
      "Original data:  3014 molecules\n",
      "Failed data:  0 molecules\n"
     ]
    }
   ],
   "source": [
    "print('Original data: ', len(df_ts), 'molecules')\n",
    "print('Failed data: ', len(df_ts1[df_ts1['SMILES']=='wrong_smiles']), 'molecules')"
   ]
  },
  {
   "cell_type": "code",
   "execution_count": 17,
   "id": "29434b96",
   "metadata": {
    "scrolled": true
   },
   "outputs": [
    {
     "data": {
      "text/html": [
       "<div>\n",
       "<style scoped>\n",
       "    .dataframe tbody tr th:only-of-type {\n",
       "        vertical-align: middle;\n",
       "    }\n",
       "\n",
       "    .dataframe tbody tr th {\n",
       "        vertical-align: top;\n",
       "    }\n",
       "\n",
       "    .dataframe thead th {\n",
       "        text-align: right;\n",
       "    }\n",
       "</style>\n",
       "<table border=\"1\" class=\"dataframe\">\n",
       "  <thead>\n",
       "    <tr style=\"text-align: right;\">\n",
       "      <th></th>\n",
       "      <th>SMILES of wrong structure:</th>\n",
       "    </tr>\n",
       "    <tr>\n",
       "      <th>No. failed smiles in original set</th>\n",
       "      <th></th>\n",
       "    </tr>\n",
       "  </thead>\n",
       "  <tbody>\n",
       "  </tbody>\n",
       "</table>\n",
       "</div>"
      ],
      "text/plain": [
       "Empty DataFrame\n",
       "Columns: [SMILES of wrong structure: ]\n",
       "Index: []"
      ]
     },
     "execution_count": 17,
     "metadata": {},
     "output_type": "execute_result"
    }
   ],
   "source": [
    "index=df_ts1.index[df_ts1['SMILES']=='wrong_smiles'].tolist()\n",
    "wrong_smiles=df_ts.iloc[index]\n",
    "wrong_smiles=wrong_smiles.SMILES\n",
    "number=[x+1 for x in index]\n",
    "bad_molecules = pd.DataFrame({'No. failed smiles in original set': number, 'SMILES of wrong structure: ': wrong_smiles}, index=None)\n",
    "bad_molecules = bad_molecules.set_index('No. failed smiles in original set')\n",
    "bad_molecules"
   ]
  },
  {
   "cell_type": "markdown",
   "id": "a58a6f9f",
   "metadata": {},
   "source": [
    "##  Standardization  for test set"
   ]
  },
  {
   "cell_type": "code",
   "execution_count": 18,
   "id": "778d89ce",
   "metadata": {},
   "outputs": [
    {
     "name": "stdout",
     "output_type": "stream",
     "text": [
      "Kept data:  3014 molecules\n"
     ]
    }
   ],
   "source": [
    "df_ts1[\"Molecule\"] = df_ts1.apply(lambda x: standart(x.SMILES), axis=1)\n",
    "moldf_ts=df_ts1[df_ts1['SMILES']!='wrong_smiles']\n",
    "print('Kept data: ', len(moldf_ts), 'molecules')"
   ]
  },
  {
   "cell_type": "code",
   "execution_count": 19,
   "id": "4b1d809e",
   "metadata": {},
   "outputs": [
    {
     "data": {
      "text/html": [
       "<div>\n",
       "<style scoped>\n",
       "    .dataframe tbody tr th:only-of-type {\n",
       "        vertical-align: middle;\n",
       "    }\n",
       "\n",
       "    .dataframe tbody tr th {\n",
       "        vertical-align: top;\n",
       "    }\n",
       "\n",
       "    .dataframe thead th {\n",
       "        text-align: right;\n",
       "    }\n",
       "</style>\n",
       "<table border=\"1\" class=\"dataframe\">\n",
       "  <thead>\n",
       "    <tr style=\"text-align: right;\">\n",
       "      <th></th>\n",
       "      <th>CAS_Number</th>\n",
       "      <th>SMILES</th>\n",
       "      <th>pLD50</th>\n",
       "      <th>LD50,mg/kg</th>\n",
       "      <th>Molecule</th>\n",
       "    </tr>\n",
       "  </thead>\n",
       "  <tbody>\n",
       "    <tr>\n",
       "      <th>0</th>\n",
       "      <td>60-35-5</td>\n",
       "      <td>CC(N)=O</td>\n",
       "      <td>0.77135</td>\n",
       "      <td>9994.8000</td>\n",
       "      <td>&lt;rdkit.Chem.rdchem.Mol object at 0x00000188381...</td>\n",
       "    </tr>\n",
       "    <tr>\n",
       "      <th>1</th>\n",
       "      <td>358-21-4</td>\n",
       "      <td>FC(F)(F)C(F)(F)OC(F)(F)C(F)(F)F</td>\n",
       "      <td>0.94248</td>\n",
       "      <td>28995.0000</td>\n",
       "      <td>&lt;rdkit.Chem.rdchem.Mol object at 0x00000188381...</td>\n",
       "    </tr>\n",
       "    <tr>\n",
       "      <th>2</th>\n",
       "      <td>58-86-6</td>\n",
       "      <td>O=CC(O)C(O)C(O)CO</td>\n",
       "      <td>1.12339</td>\n",
       "      <td>11294.2000</td>\n",
       "      <td>&lt;rdkit.Chem.rdchem.Mol object at 0x00000188381...</td>\n",
       "    </tr>\n",
       "    <tr>\n",
       "      <th>3</th>\n",
       "      <td>61-82-5</td>\n",
       "      <td>Nc1nnc[nH]1</td>\n",
       "      <td>1.22573</td>\n",
       "      <td>4997.7000</td>\n",
       "      <td>&lt;rdkit.Chem.rdchem.Mol object at 0x00000188381...</td>\n",
       "    </tr>\n",
       "    <tr>\n",
       "      <th>4</th>\n",
       "      <td>79-16-3</td>\n",
       "      <td>CNC(C)=O</td>\n",
       "      <td>1.26020</td>\n",
       "      <td>4012.7000</td>\n",
       "      <td>&lt;rdkit.Chem.rdchem.Mol object at 0x00000188381...</td>\n",
       "    </tr>\n",
       "    <tr>\n",
       "      <th>...</th>\n",
       "      <td>...</td>\n",
       "      <td>...</td>\n",
       "      <td>...</td>\n",
       "      <td>...</td>\n",
       "      <td>...</td>\n",
       "    </tr>\n",
       "    <tr>\n",
       "      <th>3009</th>\n",
       "      <td>81131-98-8</td>\n",
       "      <td>CC(CCCCCCCC1CC(OS(=O)(=O)O)CCCCCCCCCCCC(OS(=O)...</td>\n",
       "      <td>6.73300</td>\n",
       "      <td>0.1798</td>\n",
       "      <td>&lt;rdkit.Chem.rdchem.Mol object at 0x00000188383...</td>\n",
       "    </tr>\n",
       "    <tr>\n",
       "      <th>3010</th>\n",
       "      <td>2001-95-8</td>\n",
       "      <td>CC1OC(=O)C(C(C)C)NC(=O)C(C(C)C)OC(=O)C(C(C)C)N...</td>\n",
       "      <td>6.79060</td>\n",
       "      <td>0.1799</td>\n",
       "      <td>&lt;rdkit.Chem.rdchem.Mol object at 0x00000188383...</td>\n",
       "    </tr>\n",
       "    <tr>\n",
       "      <th>3011</th>\n",
       "      <td>124-97-0</td>\n",
       "      <td>CCC(C)C(=O)OC1C(O)C2C(CN3CC(C)CCC3C2(C)O)C2CC3...</td>\n",
       "      <td>7.09550</td>\n",
       "      <td>0.0650</td>\n",
       "      <td>&lt;rdkit.Chem.rdchem.Mol object at 0x00000188383...</td>\n",
       "    </tr>\n",
       "    <tr>\n",
       "      <th>3012</th>\n",
       "      <td>13602-52-3</td>\n",
       "      <td>CCC(C)C1C(=O)OCC(NC(=O)c2cnc3ccccc3n2)C(=O)NC(...</td>\n",
       "      <td>7.32040</td>\n",
       "      <td>0.0540</td>\n",
       "      <td>&lt;rdkit.Chem.rdchem.Mol object at 0x00000188383...</td>\n",
       "    </tr>\n",
       "    <tr>\n",
       "      <th>3013</th>\n",
       "      <td>4368-28-9</td>\n",
       "      <td>NC1=NC(O)C2C3OC4(O)OC(C(O)C2(N1)C4O)C3(O)CO</td>\n",
       "      <td>7.64080</td>\n",
       "      <td>0.0073</td>\n",
       "      <td>&lt;rdkit.Chem.rdchem.Mol object at 0x00000188383...</td>\n",
       "    </tr>\n",
       "  </tbody>\n",
       "</table>\n",
       "<p>3014 rows × 5 columns</p>\n",
       "</div>"
      ],
      "text/plain": [
       "      CAS_Number                                             SMILES    pLD50  \\\n",
       "0        60-35-5                                            CC(N)=O  0.77135   \n",
       "1       358-21-4                    FC(F)(F)C(F)(F)OC(F)(F)C(F)(F)F  0.94248   \n",
       "2        58-86-6                                  O=CC(O)C(O)C(O)CO  1.12339   \n",
       "3        61-82-5                                        Nc1nnc[nH]1  1.22573   \n",
       "4        79-16-3                                           CNC(C)=O  1.26020   \n",
       "...          ...                                                ...      ...   \n",
       "3009  81131-98-8  CC(CCCCCCCC1CC(OS(=O)(=O)O)CCCCCCCCCCCC(OS(=O)...  6.73300   \n",
       "3010   2001-95-8  CC1OC(=O)C(C(C)C)NC(=O)C(C(C)C)OC(=O)C(C(C)C)N...  6.79060   \n",
       "3011    124-97-0  CCC(C)C(=O)OC1C(O)C2C(CN3CC(C)CCC3C2(C)O)C2CC3...  7.09550   \n",
       "3012  13602-52-3  CCC(C)C1C(=O)OCC(NC(=O)c2cnc3ccccc3n2)C(=O)NC(...  7.32040   \n",
       "3013   4368-28-9        NC1=NC(O)C2C3OC4(O)OC(C(O)C2(N1)C4O)C3(O)CO  7.64080   \n",
       "\n",
       "      LD50,mg/kg                                           Molecule  \n",
       "0      9994.8000  <rdkit.Chem.rdchem.Mol object at 0x00000188381...  \n",
       "1     28995.0000  <rdkit.Chem.rdchem.Mol object at 0x00000188381...  \n",
       "2     11294.2000  <rdkit.Chem.rdchem.Mol object at 0x00000188381...  \n",
       "3      4997.7000  <rdkit.Chem.rdchem.Mol object at 0x00000188381...  \n",
       "4      4012.7000  <rdkit.Chem.rdchem.Mol object at 0x00000188381...  \n",
       "...          ...                                                ...  \n",
       "3009      0.1798  <rdkit.Chem.rdchem.Mol object at 0x00000188383...  \n",
       "3010      0.1799  <rdkit.Chem.rdchem.Mol object at 0x00000188383...  \n",
       "3011      0.0650  <rdkit.Chem.rdchem.Mol object at 0x00000188383...  \n",
       "3012      0.0540  <rdkit.Chem.rdchem.Mol object at 0x00000188383...  \n",
       "3013      0.0073  <rdkit.Chem.rdchem.Mol object at 0x00000188383...  \n",
       "\n",
       "[3014 rows x 5 columns]"
      ]
     },
     "execution_count": 19,
     "metadata": {},
     "output_type": "execute_result"
    }
   ],
   "source": [
    "moldf_ts"
   ]
  },
  {
   "cell_type": "code",
   "execution_count": 20,
   "id": "ff0da297",
   "metadata": {},
   "outputs": [
    {
     "data": {
      "text/plain": [
       "0       0.77135\n",
       "1       0.94248\n",
       "2       1.12339\n",
       "3       1.22573\n",
       "4       1.26020\n",
       "         ...   \n",
       "3009    6.73300\n",
       "3010    6.79060\n",
       "3011    7.09550\n",
       "3012    7.32040\n",
       "3013    7.64080\n",
       "Name: pLD50, Length: 3014, dtype: float64"
      ]
     },
     "execution_count": 20,
     "metadata": {},
     "output_type": "execute_result"
    }
   ],
   "source": [
    "y_ts=moldf_ts.pLD50\n",
    "y_ts"
   ]
  },
  {
   "cell_type": "code",
   "execution_count": 21,
   "id": "055e91a3",
   "metadata": {},
   "outputs": [],
   "source": [
    "moldf_ts=moldf_ts.Molecule"
   ]
  },
  {
   "cell_type": "markdown",
   "id": "51bb77bd",
   "metadata": {},
   "source": [
    "## Calculation MorganFingerprint for work set"
   ]
  },
  {
   "cell_type": "code",
   "execution_count": 22,
   "id": "4c7922c3",
   "metadata": {},
   "outputs": [],
   "source": [
    "fp_tr = [AllChem.GetMorganFingerprintAsBitVect(m, radius=2,nBits=1024,useFeatures=False,useChirality = False) for m in moldf_ws]"
   ]
  },
  {
   "cell_type": "code",
   "execution_count": 23,
   "id": "87354284",
   "metadata": {},
   "outputs": [],
   "source": [
    "def rdkit_numpy_convert(fp_tr):\n",
    "    output = []\n",
    "    for f in fp_tr:\n",
    "        arr = np.zeros((1,))\n",
    "        DataStructs.ConvertToNumpyArray(f, arr)\n",
    "        output.append(arr)\n",
    "    return np.asarray(output)"
   ]
  },
  {
   "cell_type": "code",
   "execution_count": 24,
   "id": "c1c2b642",
   "metadata": {},
   "outputs": [],
   "source": [
    "from numpy import savetxt\n",
    "x_tr = rdkit_numpy_convert(fp_tr)"
   ]
  },
  {
   "cell_type": "code",
   "execution_count": 25,
   "id": "3c46a542",
   "metadata": {},
   "outputs": [],
   "source": [
    "savetxt('Models/MorganFingerprint/x_tr.csv', x_tr, delimiter=',')"
   ]
  },
  {
   "cell_type": "code",
   "execution_count": 26,
   "id": "e2a117bd",
   "metadata": {},
   "outputs": [
    {
     "data": {
      "text/plain": [
       "(12054, 1024)"
      ]
     },
     "execution_count": 26,
     "metadata": {},
     "output_type": "execute_result"
    }
   ],
   "source": [
    "x_tr.shape"
   ]
  },
  {
   "cell_type": "markdown",
   "id": "c4554dc9",
   "metadata": {},
   "source": [
    "## Calculation MorganFingerprint for test set"
   ]
  },
  {
   "cell_type": "code",
   "execution_count": 27,
   "id": "21ea7c5d",
   "metadata": {},
   "outputs": [],
   "source": [
    "fp_ts = [AllChem.GetMorganFingerprintAsBitVect(m, radius=2,nBits=1024,useFeatures=False,useChirality = False) for m in moldf_ts]"
   ]
  },
  {
   "cell_type": "code",
   "execution_count": 28,
   "id": "3d122617",
   "metadata": {},
   "outputs": [],
   "source": [
    "def rdkit_numpy_convert(fp_ts):\n",
    "    output = []\n",
    "    for f in fp_ts:\n",
    "        arr = np.zeros((1,))\n",
    "        DataStructs.ConvertToNumpyArray(f, arr)\n",
    "        output.append(arr)\n",
    "    return np.asarray(output)"
   ]
  },
  {
   "cell_type": "code",
   "execution_count": 29,
   "id": "6bb72e1b",
   "metadata": {},
   "outputs": [],
   "source": [
    "x_ts = rdkit_numpy_convert(fp_ts)"
   ]
  },
  {
   "cell_type": "code",
   "execution_count": 30,
   "id": "06a2cc73",
   "metadata": {},
   "outputs": [
    {
     "data": {
      "text/plain": [
       "(3014, 1024)"
      ]
     },
     "execution_count": 30,
     "metadata": {},
     "output_type": "execute_result"
    }
   ],
   "source": [
    "x_ts.shape"
   ]
  },
  {
   "cell_type": "code",
   "execution_count": 31,
   "id": "a739d1d4",
   "metadata": {},
   "outputs": [],
   "source": [
    "x_tr = np.array(x_tr, dtype=np.float32)\n",
    "y_tr = np.array(y_tr, dtype=np.float32)"
   ]
  },
  {
   "cell_type": "markdown",
   "id": "c8bf4fd4-adf5-400a-8f3e-8cc23bb6bef9",
   "metadata": {},
   "source": [
    "## GradientBoostingRegressor model building and validation"
   ]
  },
  {
   "cell_type": "code",
   "execution_count": 32,
   "id": "1308b656",
   "metadata": {},
   "outputs": [],
   "source": [
    "seed = 42"
   ]
  },
  {
   "cell_type": "code",
   "execution_count": 33,
   "id": "25c319bb",
   "metadata": {},
   "outputs": [],
   "source": [
    "cv=KFold(n_splits=5, random_state=seed, shuffle=True)"
   ]
  },
  {
   "cell_type": "code",
   "execution_count": 32,
   "id": "82e42d05",
   "metadata": {},
   "outputs": [],
   "source": [
    "param_grid = {'learning_rate': [0.01, 0.04],\n",
    "                  'subsample'    : [0.9, 0.5],\n",
    "                  'n_estimators' : [10, 100,1000],\n",
    "                  'max_depth'    : [4, 10]\n",
    "                 }"
   ]
  },
  {
   "cell_type": "code",
   "execution_count": 34,
   "id": "878b7f69",
   "metadata": {},
   "outputs": [],
   "source": [
    "m = GridSearchCV(GradientBoostingRegressor(), param_grid, n_jobs=-1, cv=cv, verbose=1)"
   ]
  },
  {
   "cell_type": "code",
   "execution_count": null,
   "id": "4cd839e8",
   "metadata": {},
   "outputs": [
    {
     "name": "stdout",
     "output_type": "stream",
     "text": [
      "Fitting 5 folds for each of 24 candidates, totalling 120 fits\n"
     ]
    }
   ],
   "source": [
    "m.fit(x_tr, y_tr)"
   ]
  },
  {
   "cell_type": "code",
   "execution_count": 36,
   "id": "6185baab",
   "metadata": {},
   "outputs": [],
   "source": [
    "m.best_params_\n",
    "best_GBR = m.best_estimator_"
   ]
  },
  {
   "cell_type": "code",
   "execution_count": 37,
   "id": "deeeb955",
   "metadata": {},
   "outputs": [
    {
     "data": {
      "text/plain": [
       "{'learning_rate': 0.04,\n",
       " 'max_depth': 10,\n",
       " 'n_estimators': 1000,\n",
       " 'subsample': 0.5}"
      ]
     },
     "execution_count": 37,
     "metadata": {},
     "output_type": "execute_result"
    }
   ],
   "source": [
    "m.best_params_"
   ]
  },
  {
   "cell_type": "code",
   "execution_count": 35,
   "id": "e962fe8f",
   "metadata": {},
   "outputs": [],
   "source": [
    "y_pred_CV_GBR = cross_val_predict(best_GBR, x_tr, y_tr, cv=cv)"
   ]
  },
  {
   "cell_type": "code",
   "execution_count": 36,
   "id": "cd3d8ac7",
   "metadata": {},
   "outputs": [
    {
     "data": {
      "text/plain": [
       "0.52"
      ]
     },
     "execution_count": 36,
     "metadata": {},
     "output_type": "execute_result"
    }
   ],
   "source": [
    "Q2_CV = round(r2_score(y_tr, y_pred_CV_GBR), 2)\n",
    "Q2_CV"
   ]
  },
  {
   "cell_type": "code",
   "execution_count": 37,
   "id": "b9a8ea8c",
   "metadata": {},
   "outputs": [
    {
     "data": {
      "text/plain": [
       "0.47"
      ]
     },
     "execution_count": 37,
     "metadata": {},
     "output_type": "execute_result"
    }
   ],
   "source": [
    "RMSE_CV=round(np.sqrt(mean_squared_error(y_tr, y_pred_CV_GBR)), 2)\n",
    "RMSE_CV"
   ]
  },
  {
   "cell_type": "markdown",
   "id": "02143e16",
   "metadata": {},
   "source": [
    "##  Prediction for test set's molecules"
   ]
  },
  {
   "cell_type": "code",
   "execution_count": 38,
   "id": "29162e20",
   "metadata": {},
   "outputs": [],
   "source": [
    "x_ts = np.array(x_ts, dtype=np.float32)\n",
    "y_ts = np.array(y_ts, dtype=np.float32)"
   ]
  },
  {
   "cell_type": "code",
   "execution_count": 39,
   "id": "b3b95348",
   "metadata": {},
   "outputs": [
    {
     "data": {
      "text/plain": [
       "3014"
      ]
     },
     "execution_count": 39,
     "metadata": {},
     "output_type": "execute_result"
    }
   ],
   "source": [
    "len(y_ts)"
   ]
  },
  {
   "cell_type": "code",
   "execution_count": 40,
   "id": "f39d9f7b",
   "metadata": {},
   "outputs": [],
   "source": [
    "y_pred_GBR = best_GBR.predict(x_ts)"
   ]
  },
  {
   "cell_type": "code",
   "execution_count": 41,
   "id": "4f926f5f",
   "metadata": {},
   "outputs": [
    {
     "data": {
      "text/plain": [
       "0.54"
      ]
     },
     "execution_count": 41,
     "metadata": {},
     "output_type": "execute_result"
    }
   ],
   "source": [
    "Q2_TS = round(r2_score(y_ts, y_pred_GBR), 2)\n",
    "Q2_TS"
   ]
  },
  {
   "cell_type": "code",
   "execution_count": 42,
   "id": "19323385",
   "metadata": {},
   "outputs": [
    {
     "data": {
      "text/plain": [
       "0.46"
      ]
     },
     "execution_count": 42,
     "metadata": {},
     "output_type": "execute_result"
    }
   ],
   "source": [
    "RMSE_TS=round(np.sqrt(mean_squared_error(y_ts, y_pred_GBR)), 2)\n",
    "RMSE_TS"
   ]
  },
  {
   "cell_type": "markdown",
   "id": "849f39f6",
   "metadata": {},
   "source": [
    "## save the model to disk"
   ]
  },
  {
   "cell_type": "code",
   "execution_count": 46,
   "id": "08647610",
   "metadata": {},
   "outputs": [],
   "source": [
    "pickle.dump(best_GBR, open('Models/MorganFingerprint/LD50_mouse_intravenous_GBR_MFP.pkl', 'wb'))"
   ]
  },
  {
   "cell_type": "markdown",
   "id": "8c9dd32e",
   "metadata": {},
   "source": [
    "## load the model from disk"
   ]
  },
  {
   "cell_type": "code",
   "execution_count": 34,
   "id": "1d9f55a2",
   "metadata": {},
   "outputs": [],
   "source": [
    "best_GBR = pickle.load(open('Models/MorganFingerprint/LD50_mouse_intravenous_GBR_MFP.pkl', 'rb'))"
   ]
  },
  {
   "cell_type": "markdown",
   "id": "79f4df76",
   "metadata": {},
   "source": [
    "##  Y-randomization GBR model"
   ]
  },
  {
   "cell_type": "code",
   "execution_count": 31,
   "id": "fc18fc12-4afb-43b7-879f-ebc01d94a9d8",
   "metadata": {},
   "outputs": [
    {
     "name": "stderr",
     "output_type": "stream",
     "text": [
      "[Parallel(n_jobs=10)]: Using backend LokyBackend with 10 concurrent workers.\n",
      "[Parallel(n_jobs=10)]: Done  30 tasks      | elapsed: 412.8min\n"
     ]
    },
    {
     "name": "stdout",
     "output_type": "stream",
     "text": [
      "True score =  0.52 \n",
      "Y-randomization =  -0.21 \n",
      "p-value =  0.0196\n"
     ]
    },
    {
     "name": "stderr",
     "output_type": "stream",
     "text": [
      "[Parallel(n_jobs=10)]: Done  50 out of  50 | elapsed: 634.1min finished\n"
     ]
    }
   ],
   "source": [
    "permutations = 50\n",
    "score, permutation_scores, pvalue = permutation_test_score(best_GBR, x_tr, y_tr,\n",
    "                                                           cv=cv, scoring='r2',\n",
    "                                                           n_permutations=permutations,\n",
    "                                                           n_jobs=-1,\n",
    "                                                           verbose=1,\n",
    "                                                           random_state=24)\n",
    "print('True score = ', score.round(2),\n",
    "      '\\nY-randomization = ', np.mean(permutation_scores).round(2),\n",
    "      '\\np-value = ', pvalue.round(4))"
   ]
  },
  {
   "cell_type": "markdown",
   "id": "21a8c21d",
   "metadata": {},
   "source": [
    "##  Estimating applicability domain. Method - Euclidian distances, K=1"
   ]
  },
  {
   "cell_type": "code",
   "execution_count": 43,
   "id": "dc574aa2",
   "metadata": {},
   "outputs": [],
   "source": [
    "neighbors_k= pairwise_distances(x_tr, n_jobs=-1)\n",
    "neighbors_k.sort(0)"
   ]
  },
  {
   "cell_type": "code",
   "execution_count": 44,
   "id": "0ca32e4c",
   "metadata": {},
   "outputs": [
    {
     "data": {
      "text/html": [
       "<div>\n",
       "<style scoped>\n",
       "    .dataframe tbody tr th:only-of-type {\n",
       "        vertical-align: middle;\n",
       "    }\n",
       "\n",
       "    .dataframe tbody tr th {\n",
       "        vertical-align: top;\n",
       "    }\n",
       "\n",
       "    .dataframe thead th {\n",
       "        text-align: right;\n",
       "    }\n",
       "</style>\n",
       "<table border=\"1\" class=\"dataframe\">\n",
       "  <thead>\n",
       "    <tr style=\"text-align: right;\">\n",
       "      <th></th>\n",
       "      <th>0</th>\n",
       "      <th>1</th>\n",
       "      <th>2</th>\n",
       "      <th>3</th>\n",
       "      <th>4</th>\n",
       "      <th>5</th>\n",
       "      <th>6</th>\n",
       "      <th>7</th>\n",
       "      <th>8</th>\n",
       "      <th>9</th>\n",
       "      <th>...</th>\n",
       "      <th>12044</th>\n",
       "      <th>12045</th>\n",
       "      <th>12046</th>\n",
       "      <th>12047</th>\n",
       "      <th>12048</th>\n",
       "      <th>12049</th>\n",
       "      <th>12050</th>\n",
       "      <th>12051</th>\n",
       "      <th>12052</th>\n",
       "      <th>12053</th>\n",
       "    </tr>\n",
       "  </thead>\n",
       "  <tbody>\n",
       "    <tr>\n",
       "      <th>0</th>\n",
       "      <td>0.000000</td>\n",
       "      <td>0.000000</td>\n",
       "      <td>0.000000</td>\n",
       "      <td>0.000000</td>\n",
       "      <td>0.000000</td>\n",
       "      <td>0.000000</td>\n",
       "      <td>0.000000</td>\n",
       "      <td>0.000000</td>\n",
       "      <td>0.000000</td>\n",
       "      <td>0.000000</td>\n",
       "      <td>...</td>\n",
       "      <td>0.000000</td>\n",
       "      <td>0.000000</td>\n",
       "      <td>0.000000</td>\n",
       "      <td>0.000000</td>\n",
       "      <td>0.000000</td>\n",
       "      <td>0.000000</td>\n",
       "      <td>0.000000</td>\n",
       "      <td>0.000000</td>\n",
       "      <td>0.000000</td>\n",
       "      <td>0.000000</td>\n",
       "    </tr>\n",
       "    <tr>\n",
       "      <th>1</th>\n",
       "      <td>2.000000</td>\n",
       "      <td>2.449490</td>\n",
       "      <td>3.162278</td>\n",
       "      <td>4.358899</td>\n",
       "      <td>5.385165</td>\n",
       "      <td>2.236068</td>\n",
       "      <td>3.741657</td>\n",
       "      <td>1.732051</td>\n",
       "      <td>3.316625</td>\n",
       "      <td>4.242640</td>\n",
       "      <td>...</td>\n",
       "      <td>3.162278</td>\n",
       "      <td>5.196152</td>\n",
       "      <td>9.110434</td>\n",
       "      <td>7.071068</td>\n",
       "      <td>1.000000</td>\n",
       "      <td>3.605551</td>\n",
       "      <td>3.872983</td>\n",
       "      <td>3.605551</td>\n",
       "      <td>6.164414</td>\n",
       "      <td>7.280110</td>\n",
       "    </tr>\n",
       "    <tr>\n",
       "      <th>2</th>\n",
       "      <td>2.236068</td>\n",
       "      <td>2.828427</td>\n",
       "      <td>4.123106</td>\n",
       "      <td>4.690416</td>\n",
       "      <td>6.164414</td>\n",
       "      <td>2.449490</td>\n",
       "      <td>3.872983</td>\n",
       "      <td>2.449490</td>\n",
       "      <td>4.000000</td>\n",
       "      <td>4.582576</td>\n",
       "      <td>...</td>\n",
       "      <td>3.464102</td>\n",
       "      <td>7.483315</td>\n",
       "      <td>9.165152</td>\n",
       "      <td>7.483315</td>\n",
       "      <td>1.732051</td>\n",
       "      <td>7.810250</td>\n",
       "      <td>4.242640</td>\n",
       "      <td>4.358899</td>\n",
       "      <td>6.324555</td>\n",
       "      <td>7.615773</td>\n",
       "    </tr>\n",
       "    <tr>\n",
       "      <th>3</th>\n",
       "      <td>2.236068</td>\n",
       "      <td>3.162278</td>\n",
       "      <td>4.123106</td>\n",
       "      <td>4.898980</td>\n",
       "      <td>6.164414</td>\n",
       "      <td>2.449490</td>\n",
       "      <td>4.123106</td>\n",
       "      <td>2.449490</td>\n",
       "      <td>4.123106</td>\n",
       "      <td>4.582576</td>\n",
       "      <td>...</td>\n",
       "      <td>4.472136</td>\n",
       "      <td>7.615773</td>\n",
       "      <td>9.165152</td>\n",
       "      <td>8.426149</td>\n",
       "      <td>3.162278</td>\n",
       "      <td>7.874008</td>\n",
       "      <td>4.358899</td>\n",
       "      <td>4.472136</td>\n",
       "      <td>6.403124</td>\n",
       "      <td>7.937254</td>\n",
       "    </tr>\n",
       "    <tr>\n",
       "      <th>4</th>\n",
       "      <td>2.236068</td>\n",
       "      <td>3.605551</td>\n",
       "      <td>4.123106</td>\n",
       "      <td>4.898980</td>\n",
       "      <td>6.164414</td>\n",
       "      <td>2.645751</td>\n",
       "      <td>4.123106</td>\n",
       "      <td>2.449490</td>\n",
       "      <td>4.123106</td>\n",
       "      <td>4.690416</td>\n",
       "      <td>...</td>\n",
       "      <td>5.196152</td>\n",
       "      <td>7.615773</td>\n",
       "      <td>9.219544</td>\n",
       "      <td>8.544003</td>\n",
       "      <td>3.316625</td>\n",
       "      <td>8.000000</td>\n",
       "      <td>4.472136</td>\n",
       "      <td>5.291502</td>\n",
       "      <td>6.403124</td>\n",
       "      <td>8.124039</td>\n",
       "    </tr>\n",
       "    <tr>\n",
       "      <th>...</th>\n",
       "      <td>...</td>\n",
       "      <td>...</td>\n",
       "      <td>...</td>\n",
       "      <td>...</td>\n",
       "      <td>...</td>\n",
       "      <td>...</td>\n",
       "      <td>...</td>\n",
       "      <td>...</td>\n",
       "      <td>...</td>\n",
       "      <td>...</td>\n",
       "      <td>...</td>\n",
       "      <td>...</td>\n",
       "      <td>...</td>\n",
       "      <td>...</td>\n",
       "      <td>...</td>\n",
       "      <td>...</td>\n",
       "      <td>...</td>\n",
       "      <td>...</td>\n",
       "      <td>...</td>\n",
       "      <td>...</td>\n",
       "      <td>...</td>\n",
       "    </tr>\n",
       "    <tr>\n",
       "      <th>12049</th>\n",
       "      <td>11.916375</td>\n",
       "      <td>12.041595</td>\n",
       "      <td>12.165525</td>\n",
       "      <td>12.000000</td>\n",
       "      <td>12.369317</td>\n",
       "      <td>11.789826</td>\n",
       "      <td>11.401754</td>\n",
       "      <td>11.789826</td>\n",
       "      <td>12.083046</td>\n",
       "      <td>12.041595</td>\n",
       "      <td>...</td>\n",
       "      <td>13.341664</td>\n",
       "      <td>12.884099</td>\n",
       "      <td>13.152946</td>\n",
       "      <td>13.266500</td>\n",
       "      <td>12.124355</td>\n",
       "      <td>13.152946</td>\n",
       "      <td>12.884099</td>\n",
       "      <td>12.845233</td>\n",
       "      <td>12.369317</td>\n",
       "      <td>13.190906</td>\n",
       "    </tr>\n",
       "    <tr>\n",
       "      <th>12050</th>\n",
       "      <td>11.958261</td>\n",
       "      <td>12.124355</td>\n",
       "      <td>12.288206</td>\n",
       "      <td>12.124355</td>\n",
       "      <td>12.409674</td>\n",
       "      <td>11.958261</td>\n",
       "      <td>11.401754</td>\n",
       "      <td>11.916375</td>\n",
       "      <td>12.206555</td>\n",
       "      <td>12.165525</td>\n",
       "      <td>...</td>\n",
       "      <td>13.379088</td>\n",
       "      <td>13.000000</td>\n",
       "      <td>13.152946</td>\n",
       "      <td>13.304134</td>\n",
       "      <td>12.247449</td>\n",
       "      <td>13.266500</td>\n",
       "      <td>12.961481</td>\n",
       "      <td>12.922848</td>\n",
       "      <td>12.449900</td>\n",
       "      <td>13.341664</td>\n",
       "    </tr>\n",
       "    <tr>\n",
       "      <th>12051</th>\n",
       "      <td>12.083046</td>\n",
       "      <td>12.409674</td>\n",
       "      <td>12.328828</td>\n",
       "      <td>12.409674</td>\n",
       "      <td>12.609520</td>\n",
       "      <td>12.000000</td>\n",
       "      <td>11.704700</td>\n",
       "      <td>11.958261</td>\n",
       "      <td>12.206555</td>\n",
       "      <td>12.206555</td>\n",
       "      <td>...</td>\n",
       "      <td>13.564660</td>\n",
       "      <td>13.038404</td>\n",
       "      <td>13.152946</td>\n",
       "      <td>13.341664</td>\n",
       "      <td>12.288206</td>\n",
       "      <td>13.304134</td>\n",
       "      <td>13.076696</td>\n",
       "      <td>13.114877</td>\n",
       "      <td>12.489996</td>\n",
       "      <td>13.453624</td>\n",
       "    </tr>\n",
       "    <tr>\n",
       "      <th>12052</th>\n",
       "      <td>12.165525</td>\n",
       "      <td>12.489996</td>\n",
       "      <td>12.489996</td>\n",
       "      <td>12.806249</td>\n",
       "      <td>13.076696</td>\n",
       "      <td>12.124355</td>\n",
       "      <td>12.449900</td>\n",
       "      <td>12.124355</td>\n",
       "      <td>12.369317</td>\n",
       "      <td>12.288206</td>\n",
       "      <td>...</td>\n",
       "      <td>13.601471</td>\n",
       "      <td>13.038404</td>\n",
       "      <td>13.266500</td>\n",
       "      <td>13.453624</td>\n",
       "      <td>12.369317</td>\n",
       "      <td>13.638182</td>\n",
       "      <td>13.228757</td>\n",
       "      <td>13.266500</td>\n",
       "      <td>12.569805</td>\n",
       "      <td>13.527749</td>\n",
       "    </tr>\n",
       "    <tr>\n",
       "      <th>12053</th>\n",
       "      <td>12.369317</td>\n",
       "      <td>12.529964</td>\n",
       "      <td>12.529964</td>\n",
       "      <td>12.922848</td>\n",
       "      <td>13.114877</td>\n",
       "      <td>12.247449</td>\n",
       "      <td>12.569805</td>\n",
       "      <td>12.247449</td>\n",
       "      <td>12.649111</td>\n",
       "      <td>12.409674</td>\n",
       "      <td>...</td>\n",
       "      <td>13.638182</td>\n",
       "      <td>13.228757</td>\n",
       "      <td>13.527749</td>\n",
       "      <td>13.638182</td>\n",
       "      <td>12.569805</td>\n",
       "      <td>13.747727</td>\n",
       "      <td>13.490738</td>\n",
       "      <td>13.527749</td>\n",
       "      <td>12.609520</td>\n",
       "      <td>13.564660</td>\n",
       "    </tr>\n",
       "  </tbody>\n",
       "</table>\n",
       "<p>12054 rows × 12054 columns</p>\n",
       "</div>"
      ],
      "text/plain": [
       "           0          1          2          3          4          5      \\\n",
       "0       0.000000   0.000000   0.000000   0.000000   0.000000   0.000000   \n",
       "1       2.000000   2.449490   3.162278   4.358899   5.385165   2.236068   \n",
       "2       2.236068   2.828427   4.123106   4.690416   6.164414   2.449490   \n",
       "3       2.236068   3.162278   4.123106   4.898980   6.164414   2.449490   \n",
       "4       2.236068   3.605551   4.123106   4.898980   6.164414   2.645751   \n",
       "...          ...        ...        ...        ...        ...        ...   \n",
       "12049  11.916375  12.041595  12.165525  12.000000  12.369317  11.789826   \n",
       "12050  11.958261  12.124355  12.288206  12.124355  12.409674  11.958261   \n",
       "12051  12.083046  12.409674  12.328828  12.409674  12.609520  12.000000   \n",
       "12052  12.165525  12.489996  12.489996  12.806249  13.076696  12.124355   \n",
       "12053  12.369317  12.529964  12.529964  12.922848  13.114877  12.247449   \n",
       "\n",
       "           6          7          8          9      ...      12044      12045  \\\n",
       "0       0.000000   0.000000   0.000000   0.000000  ...   0.000000   0.000000   \n",
       "1       3.741657   1.732051   3.316625   4.242640  ...   3.162278   5.196152   \n",
       "2       3.872983   2.449490   4.000000   4.582576  ...   3.464102   7.483315   \n",
       "3       4.123106   2.449490   4.123106   4.582576  ...   4.472136   7.615773   \n",
       "4       4.123106   2.449490   4.123106   4.690416  ...   5.196152   7.615773   \n",
       "...          ...        ...        ...        ...  ...        ...        ...   \n",
       "12049  11.401754  11.789826  12.083046  12.041595  ...  13.341664  12.884099   \n",
       "12050  11.401754  11.916375  12.206555  12.165525  ...  13.379088  13.000000   \n",
       "12051  11.704700  11.958261  12.206555  12.206555  ...  13.564660  13.038404   \n",
       "12052  12.449900  12.124355  12.369317  12.288206  ...  13.601471  13.038404   \n",
       "12053  12.569805  12.247449  12.649111  12.409674  ...  13.638182  13.228757   \n",
       "\n",
       "           12046      12047      12048      12049      12050      12051  \\\n",
       "0       0.000000   0.000000   0.000000   0.000000   0.000000   0.000000   \n",
       "1       9.110434   7.071068   1.000000   3.605551   3.872983   3.605551   \n",
       "2       9.165152   7.483315   1.732051   7.810250   4.242640   4.358899   \n",
       "3       9.165152   8.426149   3.162278   7.874008   4.358899   4.472136   \n",
       "4       9.219544   8.544003   3.316625   8.000000   4.472136   5.291502   \n",
       "...          ...        ...        ...        ...        ...        ...   \n",
       "12049  13.152946  13.266500  12.124355  13.152946  12.884099  12.845233   \n",
       "12050  13.152946  13.304134  12.247449  13.266500  12.961481  12.922848   \n",
       "12051  13.152946  13.341664  12.288206  13.304134  13.076696  13.114877   \n",
       "12052  13.266500  13.453624  12.369317  13.638182  13.228757  13.266500   \n",
       "12053  13.527749  13.638182  12.569805  13.747727  13.490738  13.527749   \n",
       "\n",
       "           12052      12053  \n",
       "0       0.000000   0.000000  \n",
       "1       6.164414   7.280110  \n",
       "2       6.324555   7.615773  \n",
       "3       6.403124   7.937254  \n",
       "4       6.403124   8.124039  \n",
       "...          ...        ...  \n",
       "12049  12.369317  13.190906  \n",
       "12050  12.449900  13.341664  \n",
       "12051  12.489996  13.453624  \n",
       "12052  12.569805  13.527749  \n",
       "12053  12.609520  13.564660  \n",
       "\n",
       "[12054 rows x 12054 columns]"
      ]
     },
     "execution_count": 44,
     "metadata": {},
     "output_type": "execute_result"
    }
   ],
   "source": [
    "df_tr=pd.DataFrame(neighbors_k)\n",
    "df_tr"
   ]
  },
  {
   "cell_type": "code",
   "execution_count": 45,
   "id": "6d42882a",
   "metadata": {},
   "outputs": [],
   "source": [
    "similarity= neighbors_k"
   ]
  },
  {
   "cell_type": "code",
   "execution_count": 46,
   "id": "32c64632",
   "metadata": {},
   "outputs": [],
   "source": [
    "Dmean=np.mean(similarity[1,:])"
   ]
  },
  {
   "cell_type": "code",
   "execution_count": 47,
   "id": "3c840f9d",
   "metadata": {},
   "outputs": [
    {
     "data": {
      "text/plain": [
       "3.6"
      ]
     },
     "execution_count": 47,
     "metadata": {},
     "output_type": "execute_result"
    }
   ],
   "source": [
    "round(Dmean, 2)"
   ]
  },
  {
   "cell_type": "code",
   "execution_count": 48,
   "id": "b36811be",
   "metadata": {},
   "outputs": [],
   "source": [
    "std=np.std(similarity[1,:])"
   ]
  },
  {
   "cell_type": "code",
   "execution_count": 49,
   "id": "c8230456",
   "metadata": {},
   "outputs": [
    {
     "data": {
      "text/plain": [
       "1.18"
      ]
     },
     "execution_count": 49,
     "metadata": {},
     "output_type": "execute_result"
    }
   ],
   "source": [
    "round(std, 2)"
   ]
  },
  {
   "cell_type": "code",
   "execution_count": 50,
   "id": "c48814e0",
   "metadata": {},
   "outputs": [
    {
     "name": "stdout",
     "output_type": "stream",
     "text": [
      "4.19\n"
     ]
    }
   ],
   "source": [
    "model_AD_limit=Dmean+std*0.5\n",
    "print(np.round(model_AD_limit, 2))"
   ]
  },
  {
   "cell_type": "code",
   "execution_count": 51,
   "id": "cd9dbece",
   "metadata": {},
   "outputs": [],
   "source": [
    "neighbors_k_ts= pairwise_distances(x_tr,Y=x_ts, n_jobs=-1)\n",
    "neighbors_k_ts.sort(0)"
   ]
  },
  {
   "cell_type": "code",
   "execution_count": 52,
   "id": "cec8d4fa",
   "metadata": {},
   "outputs": [
    {
     "data": {
      "text/html": [
       "<div>\n",
       "<style scoped>\n",
       "    .dataframe tbody tr th:only-of-type {\n",
       "        vertical-align: middle;\n",
       "    }\n",
       "\n",
       "    .dataframe tbody tr th {\n",
       "        vertical-align: top;\n",
       "    }\n",
       "\n",
       "    .dataframe thead th {\n",
       "        text-align: right;\n",
       "    }\n",
       "</style>\n",
       "<table border=\"1\" class=\"dataframe\">\n",
       "  <thead>\n",
       "    <tr style=\"text-align: right;\">\n",
       "      <th></th>\n",
       "      <th>0</th>\n",
       "      <th>1</th>\n",
       "      <th>2</th>\n",
       "      <th>3</th>\n",
       "      <th>4</th>\n",
       "      <th>5</th>\n",
       "      <th>6</th>\n",
       "      <th>7</th>\n",
       "      <th>8</th>\n",
       "      <th>9</th>\n",
       "      <th>...</th>\n",
       "      <th>3004</th>\n",
       "      <th>3005</th>\n",
       "      <th>3006</th>\n",
       "      <th>3007</th>\n",
       "      <th>3008</th>\n",
       "      <th>3009</th>\n",
       "      <th>3010</th>\n",
       "      <th>3011</th>\n",
       "      <th>3012</th>\n",
       "      <th>3013</th>\n",
       "    </tr>\n",
       "  </thead>\n",
       "  <tbody>\n",
       "    <tr>\n",
       "      <th>0</th>\n",
       "      <td>2.000000</td>\n",
       "      <td>3.162278</td>\n",
       "      <td>2.828427</td>\n",
       "      <td>4.123106</td>\n",
       "      <td>2.645751</td>\n",
       "      <td>2.828427</td>\n",
       "      <td>3.464102</td>\n",
       "      <td>3.464102</td>\n",
       "      <td>2.000000</td>\n",
       "      <td>2.645751</td>\n",
       "      <td>...</td>\n",
       "      <td>3.162278</td>\n",
       "      <td>6.557438</td>\n",
       "      <td>4.898980</td>\n",
       "      <td>3.464102</td>\n",
       "      <td>3.872983</td>\n",
       "      <td>3.605551</td>\n",
       "      <td>4.898980</td>\n",
       "      <td>3.000000</td>\n",
       "      <td>3.162278</td>\n",
       "      <td>5.656854</td>\n",
       "    </tr>\n",
       "    <tr>\n",
       "      <th>1</th>\n",
       "      <td>2.236068</td>\n",
       "      <td>3.162278</td>\n",
       "      <td>3.000000</td>\n",
       "      <td>4.242640</td>\n",
       "      <td>3.000000</td>\n",
       "      <td>3.000000</td>\n",
       "      <td>3.464102</td>\n",
       "      <td>3.872983</td>\n",
       "      <td>2.236068</td>\n",
       "      <td>2.828427</td>\n",
       "      <td>...</td>\n",
       "      <td>4.795832</td>\n",
       "      <td>6.782330</td>\n",
       "      <td>5.744563</td>\n",
       "      <td>3.605551</td>\n",
       "      <td>5.291502</td>\n",
       "      <td>5.385165</td>\n",
       "      <td>5.385165</td>\n",
       "      <td>7.141428</td>\n",
       "      <td>3.316625</td>\n",
       "      <td>5.916080</td>\n",
       "    </tr>\n",
       "    <tr>\n",
       "      <th>2</th>\n",
       "      <td>2.236068</td>\n",
       "      <td>3.316625</td>\n",
       "      <td>3.000000</td>\n",
       "      <td>4.242640</td>\n",
       "      <td>3.162278</td>\n",
       "      <td>3.000000</td>\n",
       "      <td>3.464102</td>\n",
       "      <td>4.000000</td>\n",
       "      <td>2.236068</td>\n",
       "      <td>3.316625</td>\n",
       "      <td>...</td>\n",
       "      <td>5.000000</td>\n",
       "      <td>7.615773</td>\n",
       "      <td>5.744563</td>\n",
       "      <td>3.741657</td>\n",
       "      <td>5.291502</td>\n",
       "      <td>6.855655</td>\n",
       "      <td>5.385165</td>\n",
       "      <td>7.549834</td>\n",
       "      <td>7.937254</td>\n",
       "      <td>6.082763</td>\n",
       "    </tr>\n",
       "    <tr>\n",
       "      <th>3</th>\n",
       "      <td>2.645751</td>\n",
       "      <td>3.316625</td>\n",
       "      <td>3.316625</td>\n",
       "      <td>4.242640</td>\n",
       "      <td>3.162278</td>\n",
       "      <td>3.162278</td>\n",
       "      <td>4.123106</td>\n",
       "      <td>4.000000</td>\n",
       "      <td>2.645751</td>\n",
       "      <td>3.316625</td>\n",
       "      <td>...</td>\n",
       "      <td>5.099020</td>\n",
       "      <td>7.745967</td>\n",
       "      <td>5.830952</td>\n",
       "      <td>3.872983</td>\n",
       "      <td>5.477226</td>\n",
       "      <td>7.000000</td>\n",
       "      <td>5.477226</td>\n",
       "      <td>8.485281</td>\n",
       "      <td>8.000000</td>\n",
       "      <td>6.082763</td>\n",
       "    </tr>\n",
       "    <tr>\n",
       "      <th>4</th>\n",
       "      <td>2.828427</td>\n",
       "      <td>3.464102</td>\n",
       "      <td>3.464102</td>\n",
       "      <td>4.358899</td>\n",
       "      <td>3.162278</td>\n",
       "      <td>3.162278</td>\n",
       "      <td>4.242640</td>\n",
       "      <td>4.000000</td>\n",
       "      <td>2.645751</td>\n",
       "      <td>3.316625</td>\n",
       "      <td>...</td>\n",
       "      <td>5.099020</td>\n",
       "      <td>7.810250</td>\n",
       "      <td>5.916080</td>\n",
       "      <td>4.000000</td>\n",
       "      <td>5.477226</td>\n",
       "      <td>7.000000</td>\n",
       "      <td>5.477226</td>\n",
       "      <td>8.485281</td>\n",
       "      <td>8.062258</td>\n",
       "      <td>6.244998</td>\n",
       "    </tr>\n",
       "    <tr>\n",
       "      <th>...</th>\n",
       "      <td>...</td>\n",
       "      <td>...</td>\n",
       "      <td>...</td>\n",
       "      <td>...</td>\n",
       "      <td>...</td>\n",
       "      <td>...</td>\n",
       "      <td>...</td>\n",
       "      <td>...</td>\n",
       "      <td>...</td>\n",
       "      <td>...</td>\n",
       "      <td>...</td>\n",
       "      <td>...</td>\n",
       "      <td>...</td>\n",
       "      <td>...</td>\n",
       "      <td>...</td>\n",
       "      <td>...</td>\n",
       "      <td>...</td>\n",
       "      <td>...</td>\n",
       "      <td>...</td>\n",
       "      <td>...</td>\n",
       "      <td>...</td>\n",
       "    </tr>\n",
       "    <tr>\n",
       "      <th>12049</th>\n",
       "      <td>11.789826</td>\n",
       "      <td>12.288206</td>\n",
       "      <td>11.958261</td>\n",
       "      <td>11.789826</td>\n",
       "      <td>11.958261</td>\n",
       "      <td>11.916375</td>\n",
       "      <td>11.958261</td>\n",
       "      <td>12.000000</td>\n",
       "      <td>11.874342</td>\n",
       "      <td>11.958261</td>\n",
       "      <td>...</td>\n",
       "      <td>12.328828</td>\n",
       "      <td>12.449900</td>\n",
       "      <td>13.266500</td>\n",
       "      <td>12.206555</td>\n",
       "      <td>12.409674</td>\n",
       "      <td>12.727922</td>\n",
       "      <td>11.789826</td>\n",
       "      <td>13.304134</td>\n",
       "      <td>12.922848</td>\n",
       "      <td>12.165525</td>\n",
       "    </tr>\n",
       "    <tr>\n",
       "      <th>12050</th>\n",
       "      <td>11.916375</td>\n",
       "      <td>12.328828</td>\n",
       "      <td>11.958261</td>\n",
       "      <td>11.958261</td>\n",
       "      <td>12.083046</td>\n",
       "      <td>11.916375</td>\n",
       "      <td>12.083046</td>\n",
       "      <td>12.165525</td>\n",
       "      <td>12.041595</td>\n",
       "      <td>12.124355</td>\n",
       "      <td>...</td>\n",
       "      <td>12.449900</td>\n",
       "      <td>12.529964</td>\n",
       "      <td>13.416408</td>\n",
       "      <td>12.328828</td>\n",
       "      <td>12.449900</td>\n",
       "      <td>12.806249</td>\n",
       "      <td>11.832160</td>\n",
       "      <td>13.304134</td>\n",
       "      <td>12.961481</td>\n",
       "      <td>12.288206</td>\n",
       "    </tr>\n",
       "    <tr>\n",
       "      <th>12051</th>\n",
       "      <td>11.958261</td>\n",
       "      <td>12.449900</td>\n",
       "      <td>12.000000</td>\n",
       "      <td>12.247449</td>\n",
       "      <td>12.124355</td>\n",
       "      <td>12.041595</td>\n",
       "      <td>12.247449</td>\n",
       "      <td>12.206555</td>\n",
       "      <td>12.165525</td>\n",
       "      <td>12.206555</td>\n",
       "      <td>...</td>\n",
       "      <td>12.529964</td>\n",
       "      <td>12.727922</td>\n",
       "      <td>13.674794</td>\n",
       "      <td>12.369317</td>\n",
       "      <td>12.649111</td>\n",
       "      <td>12.922848</td>\n",
       "      <td>12.000000</td>\n",
       "      <td>13.341664</td>\n",
       "      <td>12.961481</td>\n",
       "      <td>12.569805</td>\n",
       "    </tr>\n",
       "    <tr>\n",
       "      <th>12052</th>\n",
       "      <td>12.124355</td>\n",
       "      <td>12.529964</td>\n",
       "      <td>12.124355</td>\n",
       "      <td>12.247449</td>\n",
       "      <td>12.288206</td>\n",
       "      <td>12.165525</td>\n",
       "      <td>12.727922</td>\n",
       "      <td>12.328828</td>\n",
       "      <td>12.206555</td>\n",
       "      <td>12.247449</td>\n",
       "      <td>...</td>\n",
       "      <td>12.609520</td>\n",
       "      <td>12.727922</td>\n",
       "      <td>13.747727</td>\n",
       "      <td>12.449900</td>\n",
       "      <td>12.806249</td>\n",
       "      <td>12.922848</td>\n",
       "      <td>12.083046</td>\n",
       "      <td>13.490738</td>\n",
       "      <td>13.152946</td>\n",
       "      <td>12.569805</td>\n",
       "    </tr>\n",
       "    <tr>\n",
       "      <th>12053</th>\n",
       "      <td>12.247449</td>\n",
       "      <td>12.727922</td>\n",
       "      <td>12.247449</td>\n",
       "      <td>12.449900</td>\n",
       "      <td>12.409674</td>\n",
       "      <td>12.206555</td>\n",
       "      <td>12.845233</td>\n",
       "      <td>12.449900</td>\n",
       "      <td>12.328828</td>\n",
       "      <td>12.409674</td>\n",
       "      <td>...</td>\n",
       "      <td>12.884099</td>\n",
       "      <td>12.922848</td>\n",
       "      <td>13.784049</td>\n",
       "      <td>12.649111</td>\n",
       "      <td>13.076696</td>\n",
       "      <td>13.038404</td>\n",
       "      <td>12.288206</td>\n",
       "      <td>13.674794</td>\n",
       "      <td>13.228757</td>\n",
       "      <td>12.688578</td>\n",
       "    </tr>\n",
       "  </tbody>\n",
       "</table>\n",
       "<p>12054 rows × 3014 columns</p>\n",
       "</div>"
      ],
      "text/plain": [
       "            0          1          2          3          4          5     \\\n",
       "0       2.000000   3.162278   2.828427   4.123106   2.645751   2.828427   \n",
       "1       2.236068   3.162278   3.000000   4.242640   3.000000   3.000000   \n",
       "2       2.236068   3.316625   3.000000   4.242640   3.162278   3.000000   \n",
       "3       2.645751   3.316625   3.316625   4.242640   3.162278   3.162278   \n",
       "4       2.828427   3.464102   3.464102   4.358899   3.162278   3.162278   \n",
       "...          ...        ...        ...        ...        ...        ...   \n",
       "12049  11.789826  12.288206  11.958261  11.789826  11.958261  11.916375   \n",
       "12050  11.916375  12.328828  11.958261  11.958261  12.083046  11.916375   \n",
       "12051  11.958261  12.449900  12.000000  12.247449  12.124355  12.041595   \n",
       "12052  12.124355  12.529964  12.124355  12.247449  12.288206  12.165525   \n",
       "12053  12.247449  12.727922  12.247449  12.449900  12.409674  12.206555   \n",
       "\n",
       "            6          7          8          9     ...       3004       3005  \\\n",
       "0       3.464102   3.464102   2.000000   2.645751  ...   3.162278   6.557438   \n",
       "1       3.464102   3.872983   2.236068   2.828427  ...   4.795832   6.782330   \n",
       "2       3.464102   4.000000   2.236068   3.316625  ...   5.000000   7.615773   \n",
       "3       4.123106   4.000000   2.645751   3.316625  ...   5.099020   7.745967   \n",
       "4       4.242640   4.000000   2.645751   3.316625  ...   5.099020   7.810250   \n",
       "...          ...        ...        ...        ...  ...        ...        ...   \n",
       "12049  11.958261  12.000000  11.874342  11.958261  ...  12.328828  12.449900   \n",
       "12050  12.083046  12.165525  12.041595  12.124355  ...  12.449900  12.529964   \n",
       "12051  12.247449  12.206555  12.165525  12.206555  ...  12.529964  12.727922   \n",
       "12052  12.727922  12.328828  12.206555  12.247449  ...  12.609520  12.727922   \n",
       "12053  12.845233  12.449900  12.328828  12.409674  ...  12.884099  12.922848   \n",
       "\n",
       "            3006       3007       3008       3009       3010       3011  \\\n",
       "0       4.898980   3.464102   3.872983   3.605551   4.898980   3.000000   \n",
       "1       5.744563   3.605551   5.291502   5.385165   5.385165   7.141428   \n",
       "2       5.744563   3.741657   5.291502   6.855655   5.385165   7.549834   \n",
       "3       5.830952   3.872983   5.477226   7.000000   5.477226   8.485281   \n",
       "4       5.916080   4.000000   5.477226   7.000000   5.477226   8.485281   \n",
       "...          ...        ...        ...        ...        ...        ...   \n",
       "12049  13.266500  12.206555  12.409674  12.727922  11.789826  13.304134   \n",
       "12050  13.416408  12.328828  12.449900  12.806249  11.832160  13.304134   \n",
       "12051  13.674794  12.369317  12.649111  12.922848  12.000000  13.341664   \n",
       "12052  13.747727  12.449900  12.806249  12.922848  12.083046  13.490738   \n",
       "12053  13.784049  12.649111  13.076696  13.038404  12.288206  13.674794   \n",
       "\n",
       "            3012       3013  \n",
       "0       3.162278   5.656854  \n",
       "1       3.316625   5.916080  \n",
       "2       7.937254   6.082763  \n",
       "3       8.000000   6.082763  \n",
       "4       8.062258   6.244998  \n",
       "...          ...        ...  \n",
       "12049  12.922848  12.165525  \n",
       "12050  12.961481  12.288206  \n",
       "12051  12.961481  12.569805  \n",
       "12052  13.152946  12.569805  \n",
       "12053  13.228757  12.688578  \n",
       "\n",
       "[12054 rows x 3014 columns]"
      ]
     },
     "execution_count": 52,
     "metadata": {},
     "output_type": "execute_result"
    }
   ],
   "source": [
    "x_ts_AD=pd.DataFrame(neighbors_k_ts)\n",
    "x_ts_AD"
   ]
  },
  {
   "cell_type": "code",
   "execution_count": 53,
   "id": "d248d248",
   "metadata": {},
   "outputs": [
    {
     "name": "stdout",
     "output_type": "stream",
     "text": [
      "[2.    3.162 2.828 ... 3.    3.162 5.657]\n"
     ]
    }
   ],
   "source": [
    "similarity_ts= neighbors_k_ts\n",
    "cpd_AD=similarity_ts[0,:]\n",
    "cpd_value = np.round(cpd_AD, 3)\n",
    "print(cpd_value)"
   ]
  },
  {
   "cell_type": "code",
   "execution_count": 54,
   "id": "af363792",
   "metadata": {},
   "outputs": [
    {
     "name": "stdout",
     "output_type": "stream",
     "text": [
      "[ True  True  True ...  True  True False]\n"
     ]
    }
   ],
   "source": [
    "cpd_AD = np.where(cpd_value <= model_AD_limit, True, False)\n",
    "print(cpd_AD)"
   ]
  },
  {
   "cell_type": "code",
   "execution_count": 55,
   "id": "8f8dcfd2",
   "metadata": {},
   "outputs": [
    {
     "name": "stdout",
     "output_type": "stream",
     "text": [
      "Coverage =  0.74\n"
     ]
    }
   ],
   "source": [
    "print(\"Coverage = \", round(sum(cpd_AD) / len(cpd_AD),2))"
   ]
  },
  {
   "cell_type": "code",
   "execution_count": 56,
   "id": "3bcd3235",
   "metadata": {},
   "outputs": [
    {
     "name": "stdout",
     "output_type": "stream",
     "text": [
      "Indices of substances included in AD =  [   0    1    2 ... 3009 3011 3012]\n"
     ]
    }
   ],
   "source": [
    "print(\"Indices of substances included in AD = \", np.where(cpd_AD != 0)[0])"
   ]
  },
  {
   "cell_type": "code",
   "execution_count": 57,
   "id": "f847327f",
   "metadata": {},
   "outputs": [],
   "source": [
    "out_Ad=list(np.where(cpd_AD == 0)[0])"
   ]
  },
  {
   "cell_type": "markdown",
   "id": "6da6f18e",
   "metadata": {},
   "source": [
    "## Prediction only for molecules included in  AD"
   ]
  },
  {
   "cell_type": "code",
   "execution_count": 58,
   "id": "17717750",
   "metadata": {},
   "outputs": [],
   "source": [
    "y_pred_GBR_ad=list(y_pred_GBR)"
   ]
  },
  {
   "cell_type": "code",
   "execution_count": 59,
   "id": "83e26e47",
   "metadata": {},
   "outputs": [],
   "source": [
    "y_pred_GBR_ad[:] = [x for i,x in enumerate(y_pred_GBR_ad) if i not in out_Ad]"
   ]
  },
  {
   "cell_type": "code",
   "execution_count": 60,
   "id": "821bcec6",
   "metadata": {},
   "outputs": [
    {
     "data": {
      "text/plain": [
       "2242"
      ]
     },
     "execution_count": 60,
     "metadata": {},
     "output_type": "execute_result"
    }
   ],
   "source": [
    "len(y_pred_GBR_ad)"
   ]
  },
  {
   "cell_type": "code",
   "execution_count": 61,
   "id": "de8a231f",
   "metadata": {},
   "outputs": [],
   "source": [
    "y_ts_ad=list(y_ts)"
   ]
  },
  {
   "cell_type": "code",
   "execution_count": 62,
   "id": "3bdd78df",
   "metadata": {},
   "outputs": [],
   "source": [
    "y_ts_ad[:] = [x for i,x in enumerate(y_ts_ad) if i not in out_Ad]"
   ]
  },
  {
   "cell_type": "code",
   "execution_count": 63,
   "id": "ef90013f",
   "metadata": {},
   "outputs": [
    {
     "data": {
      "text/plain": [
       "2242"
      ]
     },
     "execution_count": 63,
     "metadata": {},
     "output_type": "execute_result"
    }
   ],
   "source": [
    "len(y_ts_ad)"
   ]
  },
  {
   "cell_type": "code",
   "execution_count": 64,
   "id": "522e1d4b",
   "metadata": {},
   "outputs": [
    {
     "data": {
      "text/plain": [
       "0.64"
      ]
     },
     "execution_count": 64,
     "metadata": {},
     "output_type": "execute_result"
    }
   ],
   "source": [
    "Q2_TS = round(r2_score(y_ts_ad, y_pred_GBR_ad), 2)\n",
    "Q2_TS"
   ]
  },
  {
   "cell_type": "code",
   "execution_count": 65,
   "id": "13c99d21",
   "metadata": {},
   "outputs": [
    {
     "data": {
      "text/plain": [
       "0.41"
      ]
     },
     "execution_count": 65,
     "metadata": {},
     "output_type": "execute_result"
    }
   ],
   "source": [
    "RMSE_TS=round(np.sqrt(mean_squared_error(y_ts_ad, y_pred_GBR_ad)), 2)\n",
    "RMSE_TS"
   ]
  },
  {
   "cell_type": "code",
   "execution_count": null,
   "id": "385c7886",
   "metadata": {},
   "outputs": [],
   "source": []
  },
  {
   "cell_type": "markdown",
   "id": "085b09a5",
   "metadata": {},
   "source": [
    "# MORGAN FP_SVM model building and validation"
   ]
  },
  {
   "cell_type": "code",
   "execution_count": 70,
   "id": "00a0c5f9",
   "metadata": {},
   "outputs": [],
   "source": [
    "param_grid = {\"C\": [10 ** i for i in range(0, 5)],\n",
    "              \"gamma\": [10 ** i for i in range(-6, 0)]}"
   ]
  },
  {
   "cell_type": "code",
   "execution_count": 71,
   "id": "8f740f20",
   "metadata": {},
   "outputs": [],
   "source": [
    "seed = 42\n",
    "cv=KFold(n_splits=5, random_state=seed, shuffle=True)"
   ]
  },
  {
   "cell_type": "code",
   "execution_count": 72,
   "id": "b57f55a3",
   "metadata": {},
   "outputs": [],
   "source": [
    "svm = GridSearchCV(SVR(C=1.0, epsilon=0.2), param_grid, n_jobs=2, cv=cv, verbose=1)"
   ]
  },
  {
   "cell_type": "code",
   "execution_count": 73,
   "id": "72d27355",
   "metadata": {},
   "outputs": [
    {
     "name": "stdout",
     "output_type": "stream",
     "text": [
      "Fitting 5 folds for each of 30 candidates, totalling 150 fits\n"
     ]
    },
    {
     "data": {
      "text/html": [
       "<style>#sk-container-id-2 {color: black;}#sk-container-id-2 pre{padding: 0;}#sk-container-id-2 div.sk-toggleable {background-color: white;}#sk-container-id-2 label.sk-toggleable__label {cursor: pointer;display: block;width: 100%;margin-bottom: 0;padding: 0.3em;box-sizing: border-box;text-align: center;}#sk-container-id-2 label.sk-toggleable__label-arrow:before {content: \"▸\";float: left;margin-right: 0.25em;color: #696969;}#sk-container-id-2 label.sk-toggleable__label-arrow:hover:before {color: black;}#sk-container-id-2 div.sk-estimator:hover label.sk-toggleable__label-arrow:before {color: black;}#sk-container-id-2 div.sk-toggleable__content {max-height: 0;max-width: 0;overflow: hidden;text-align: left;background-color: #f0f8ff;}#sk-container-id-2 div.sk-toggleable__content pre {margin: 0.2em;color: black;border-radius: 0.25em;background-color: #f0f8ff;}#sk-container-id-2 input.sk-toggleable__control:checked~div.sk-toggleable__content {max-height: 200px;max-width: 100%;overflow: auto;}#sk-container-id-2 input.sk-toggleable__control:checked~label.sk-toggleable__label-arrow:before {content: \"▾\";}#sk-container-id-2 div.sk-estimator input.sk-toggleable__control:checked~label.sk-toggleable__label {background-color: #d4ebff;}#sk-container-id-2 div.sk-label input.sk-toggleable__control:checked~label.sk-toggleable__label {background-color: #d4ebff;}#sk-container-id-2 input.sk-hidden--visually {border: 0;clip: rect(1px 1px 1px 1px);clip: rect(1px, 1px, 1px, 1px);height: 1px;margin: -1px;overflow: hidden;padding: 0;position: absolute;width: 1px;}#sk-container-id-2 div.sk-estimator {font-family: monospace;background-color: #f0f8ff;border: 1px dotted black;border-radius: 0.25em;box-sizing: border-box;margin-bottom: 0.5em;}#sk-container-id-2 div.sk-estimator:hover {background-color: #d4ebff;}#sk-container-id-2 div.sk-parallel-item::after {content: \"\";width: 100%;border-bottom: 1px solid gray;flex-grow: 1;}#sk-container-id-2 div.sk-label:hover label.sk-toggleable__label {background-color: #d4ebff;}#sk-container-id-2 div.sk-serial::before {content: \"\";position: absolute;border-left: 1px solid gray;box-sizing: border-box;top: 0;bottom: 0;left: 50%;z-index: 0;}#sk-container-id-2 div.sk-serial {display: flex;flex-direction: column;align-items: center;background-color: white;padding-right: 0.2em;padding-left: 0.2em;position: relative;}#sk-container-id-2 div.sk-item {position: relative;z-index: 1;}#sk-container-id-2 div.sk-parallel {display: flex;align-items: stretch;justify-content: center;background-color: white;position: relative;}#sk-container-id-2 div.sk-item::before, #sk-container-id-2 div.sk-parallel-item::before {content: \"\";position: absolute;border-left: 1px solid gray;box-sizing: border-box;top: 0;bottom: 0;left: 50%;z-index: -1;}#sk-container-id-2 div.sk-parallel-item {display: flex;flex-direction: column;z-index: 1;position: relative;background-color: white;}#sk-container-id-2 div.sk-parallel-item:first-child::after {align-self: flex-end;width: 50%;}#sk-container-id-2 div.sk-parallel-item:last-child::after {align-self: flex-start;width: 50%;}#sk-container-id-2 div.sk-parallel-item:only-child::after {width: 0;}#sk-container-id-2 div.sk-dashed-wrapped {border: 1px dashed gray;margin: 0 0.4em 0.5em 0.4em;box-sizing: border-box;padding-bottom: 0.4em;background-color: white;}#sk-container-id-2 div.sk-label label {font-family: monospace;font-weight: bold;display: inline-block;line-height: 1.2em;}#sk-container-id-2 div.sk-label-container {text-align: center;}#sk-container-id-2 div.sk-container {/* jupyter's `normalize.less` sets `[hidden] { display: none; }` but bootstrap.min.css set `[hidden] { display: none !important; }` so we also need the `!important` here to be able to override the default hidden behavior on the sphinx rendered scikit-learn.org. See: https://github.com/scikit-learn/scikit-learn/issues/21755 */display: inline-block !important;position: relative;}#sk-container-id-2 div.sk-text-repr-fallback {display: none;}</style><div id=\"sk-container-id-2\" class=\"sk-top-container\"><div class=\"sk-text-repr-fallback\"><pre>GridSearchCV(cv=KFold(n_splits=5, random_state=42, shuffle=True),\n",
       "             estimator=SVR(epsilon=0.2), n_jobs=2,\n",
       "             param_grid={&#x27;C&#x27;: [1, 10, 100, 1000, 10000],\n",
       "                         &#x27;gamma&#x27;: [1e-06, 1e-05, 0.0001, 0.001, 0.01, 0.1]},\n",
       "             verbose=1)</pre><b>In a Jupyter environment, please rerun this cell to show the HTML representation or trust the notebook. <br />On GitHub, the HTML representation is unable to render, please try loading this page with nbviewer.org.</b></div><div class=\"sk-container\" hidden><div class=\"sk-item sk-dashed-wrapped\"><div class=\"sk-label-container\"><div class=\"sk-label sk-toggleable\"><input class=\"sk-toggleable__control sk-hidden--visually\" id=\"sk-estimator-id-4\" type=\"checkbox\" ><label for=\"sk-estimator-id-4\" class=\"sk-toggleable__label sk-toggleable__label-arrow\">GridSearchCV</label><div class=\"sk-toggleable__content\"><pre>GridSearchCV(cv=KFold(n_splits=5, random_state=42, shuffle=True),\n",
       "             estimator=SVR(epsilon=0.2), n_jobs=2,\n",
       "             param_grid={&#x27;C&#x27;: [1, 10, 100, 1000, 10000],\n",
       "                         &#x27;gamma&#x27;: [1e-06, 1e-05, 0.0001, 0.001, 0.01, 0.1]},\n",
       "             verbose=1)</pre></div></div></div><div class=\"sk-parallel\"><div class=\"sk-parallel-item\"><div class=\"sk-item\"><div class=\"sk-label-container\"><div class=\"sk-label sk-toggleable\"><input class=\"sk-toggleable__control sk-hidden--visually\" id=\"sk-estimator-id-5\" type=\"checkbox\" ><label for=\"sk-estimator-id-5\" class=\"sk-toggleable__label sk-toggleable__label-arrow\">estimator: SVR</label><div class=\"sk-toggleable__content\"><pre>SVR(epsilon=0.2)</pre></div></div></div><div class=\"sk-serial\"><div class=\"sk-item\"><div class=\"sk-estimator sk-toggleable\"><input class=\"sk-toggleable__control sk-hidden--visually\" id=\"sk-estimator-id-6\" type=\"checkbox\" ><label for=\"sk-estimator-id-6\" class=\"sk-toggleable__label sk-toggleable__label-arrow\">SVR</label><div class=\"sk-toggleable__content\"><pre>SVR(epsilon=0.2)</pre></div></div></div></div></div></div></div></div></div></div>"
      ],
      "text/plain": [
       "GridSearchCV(cv=KFold(n_splits=5, random_state=42, shuffle=True),\n",
       "             estimator=SVR(epsilon=0.2), n_jobs=2,\n",
       "             param_grid={'C': [1, 10, 100, 1000, 10000],\n",
       "                         'gamma': [1e-06, 1e-05, 0.0001, 0.001, 0.01, 0.1]},\n",
       "             verbose=1)"
      ]
     },
     "execution_count": 73,
     "metadata": {},
     "output_type": "execute_result"
    }
   ],
   "source": [
    "svm.fit(x_tr, y_tr)"
   ]
  },
  {
   "cell_type": "code",
   "execution_count": 74,
   "id": "3769da5a",
   "metadata": {},
   "outputs": [],
   "source": [
    "svm.best_params_\n",
    "best_svm = svm.best_estimator_"
   ]
  },
  {
   "cell_type": "code",
   "execution_count": 67,
   "id": "4eb13ae3",
   "metadata": {},
   "outputs": [],
   "source": [
    "y_pred_CV_svm = cross_val_predict(best_svm, x_tr, y_tr, cv=cv)"
   ]
  },
  {
   "cell_type": "code",
   "execution_count": 68,
   "id": "5ecbf3b5",
   "metadata": {},
   "outputs": [
    {
     "data": {
      "text/plain": [
       "0.51"
      ]
     },
     "execution_count": 68,
     "metadata": {},
     "output_type": "execute_result"
    }
   ],
   "source": [
    "Q2_CV = round(r2_score(y_tr, y_pred_CV_svm), 2)\n",
    "Q2_CV"
   ]
  },
  {
   "cell_type": "code",
   "execution_count": 76,
   "id": "4e65b62c",
   "metadata": {},
   "outputs": [
    {
     "data": {
      "text/plain": [
       "0.47"
      ]
     },
     "execution_count": 76,
     "metadata": {},
     "output_type": "execute_result"
    }
   ],
   "source": [
    "RMSE_CV=round(np.sqrt(mean_squared_error(y_tr, y_pred_CV_svm)), 2)\n",
    "RMSE_CV"
   ]
  },
  {
   "cell_type": "markdown",
   "id": "79000e50",
   "metadata": {},
   "source": [
    "## Prediction for test set's molecules"
   ]
  },
  {
   "cell_type": "code",
   "execution_count": 70,
   "id": "da06ba53",
   "metadata": {},
   "outputs": [],
   "source": [
    "x_ts = np.array(x_ts, dtype=np.float32)\n",
    "y_ts = np.array(y_ts, dtype=np.float32)"
   ]
  },
  {
   "cell_type": "code",
   "execution_count": 71,
   "id": "5d920bab",
   "metadata": {},
   "outputs": [],
   "source": [
    "y_pred_svm = best_svm.predict(x_ts)"
   ]
  },
  {
   "cell_type": "code",
   "execution_count": 72,
   "id": "dff520c6",
   "metadata": {},
   "outputs": [
    {
     "data": {
      "text/plain": [
       "0.52"
      ]
     },
     "execution_count": 72,
     "metadata": {},
     "output_type": "execute_result"
    }
   ],
   "source": [
    "Q2_TS = round(r2_score(y_ts, y_pred_svm), 2)\n",
    "Q2_TS"
   ]
  },
  {
   "cell_type": "code",
   "execution_count": 77,
   "id": "cb6678bc",
   "metadata": {},
   "outputs": [
    {
     "data": {
      "text/plain": [
       "0.47"
      ]
     },
     "execution_count": 77,
     "metadata": {},
     "output_type": "execute_result"
    }
   ],
   "source": [
    "RMSE_TS=round(np.sqrt(mean_squared_error(y_ts, y_pred_svm)), 2)\n",
    "RMSE_TS"
   ]
  },
  {
   "cell_type": "markdown",
   "id": "a3245b3b",
   "metadata": {},
   "source": [
    "save the model to disk"
   ]
  },
  {
   "cell_type": "code",
   "execution_count": 110,
   "id": "007bcf1d",
   "metadata": {},
   "outputs": [],
   "source": [
    "pickle.dump(best_svm, open('Models/MorganFingerprint/LD50_mouse_intravenous_SVM_MF.pkl', 'wb'))"
   ]
  },
  {
   "cell_type": "markdown",
   "id": "112a2831",
   "metadata": {},
   "source": [
    "load the model from disk"
   ]
  },
  {
   "cell_type": "code",
   "execution_count": 66,
   "id": "8b94473c",
   "metadata": {},
   "outputs": [],
   "source": [
    "best_svm = pickle.load(open('Models/MorganFingerprint/LD50_mouse_intravenous_SVM_MF.pkl', 'rb'))"
   ]
  },
  {
   "cell_type": "markdown",
   "id": "d411189a",
   "metadata": {},
   "source": [
    "## Y-randomization SVM model"
   ]
  },
  {
   "cell_type": "code",
   "execution_count": 33,
   "id": "f1fdbdd8",
   "metadata": {},
   "outputs": [
    {
     "name": "stderr",
     "output_type": "stream",
     "text": [
      "[Parallel(n_jobs=-1)]: Using backend LokyBackend with 16 concurrent workers.\n",
      "[Parallel(n_jobs=-1)]: Done  18 tasks      | elapsed: 90.7min\n"
     ]
    },
    {
     "name": "stdout",
     "output_type": "stream",
     "text": [
      "True score =  0.51 \n",
      "Y-randomization =  -0.19 \n",
      "p-value =  0.0196\n"
     ]
    },
    {
     "name": "stderr",
     "output_type": "stream",
     "text": [
      "[Parallel(n_jobs=-1)]: Done  50 out of  50 | elapsed: 144.3min finished\n"
     ]
    }
   ],
   "source": [
    "permutations = 50\n",
    "score, permutation_scores, pvalue = permutation_test_score(best_svm, x_tr, y_tr,\n",
    "                                                           cv=cv, scoring='r2',\n",
    "                                                           n_permutations=permutations,\n",
    "                                                           n_jobs=-1,\n",
    "                                                           verbose=1,\n",
    "                                                           random_state=24)\n",
    "print('True score = ', score.round(2),\n",
    "      '\\nY-randomization = ', np.mean(permutation_scores).round(2),\n",
    "      '\\np-value = ', pvalue.round(4))"
   ]
  },
  {
   "cell_type": "markdown",
   "id": "7404674b",
   "metadata": {},
   "source": [
    "## Estimating applicability domain. Method - Euclidian distances, K=1"
   ]
  },
  {
   "cell_type": "code",
   "execution_count": 78,
   "id": "9d092032",
   "metadata": {},
   "outputs": [],
   "source": [
    "neighbors_k= pairwise_distances(x_tr, n_jobs=-1)\n",
    "neighbors_k.sort(0)"
   ]
  },
  {
   "cell_type": "code",
   "execution_count": 79,
   "id": "720a29e9",
   "metadata": {},
   "outputs": [
    {
     "data": {
      "text/html": [
       "<div>\n",
       "<style scoped>\n",
       "    .dataframe tbody tr th:only-of-type {\n",
       "        vertical-align: middle;\n",
       "    }\n",
       "\n",
       "    .dataframe tbody tr th {\n",
       "        vertical-align: top;\n",
       "    }\n",
       "\n",
       "    .dataframe thead th {\n",
       "        text-align: right;\n",
       "    }\n",
       "</style>\n",
       "<table border=\"1\" class=\"dataframe\">\n",
       "  <thead>\n",
       "    <tr style=\"text-align: right;\">\n",
       "      <th></th>\n",
       "      <th>0</th>\n",
       "      <th>1</th>\n",
       "      <th>2</th>\n",
       "      <th>3</th>\n",
       "      <th>4</th>\n",
       "      <th>5</th>\n",
       "      <th>6</th>\n",
       "      <th>7</th>\n",
       "      <th>8</th>\n",
       "      <th>9</th>\n",
       "      <th>...</th>\n",
       "      <th>12044</th>\n",
       "      <th>12045</th>\n",
       "      <th>12046</th>\n",
       "      <th>12047</th>\n",
       "      <th>12048</th>\n",
       "      <th>12049</th>\n",
       "      <th>12050</th>\n",
       "      <th>12051</th>\n",
       "      <th>12052</th>\n",
       "      <th>12053</th>\n",
       "    </tr>\n",
       "  </thead>\n",
       "  <tbody>\n",
       "    <tr>\n",
       "      <th>0</th>\n",
       "      <td>0.000000</td>\n",
       "      <td>0.000000</td>\n",
       "      <td>0.000000</td>\n",
       "      <td>0.000000</td>\n",
       "      <td>0.000000</td>\n",
       "      <td>0.000000</td>\n",
       "      <td>0.000000</td>\n",
       "      <td>0.000000</td>\n",
       "      <td>0.000000</td>\n",
       "      <td>0.000000</td>\n",
       "      <td>...</td>\n",
       "      <td>0.000000</td>\n",
       "      <td>0.000000</td>\n",
       "      <td>0.000000</td>\n",
       "      <td>0.000000</td>\n",
       "      <td>0.000000</td>\n",
       "      <td>0.000000</td>\n",
       "      <td>0.000000</td>\n",
       "      <td>0.000000</td>\n",
       "      <td>0.000000</td>\n",
       "      <td>0.000000</td>\n",
       "    </tr>\n",
       "    <tr>\n",
       "      <th>1</th>\n",
       "      <td>2.000000</td>\n",
       "      <td>2.449490</td>\n",
       "      <td>3.162278</td>\n",
       "      <td>4.358899</td>\n",
       "      <td>5.385165</td>\n",
       "      <td>2.236068</td>\n",
       "      <td>3.741657</td>\n",
       "      <td>1.732051</td>\n",
       "      <td>3.316625</td>\n",
       "      <td>4.242640</td>\n",
       "      <td>...</td>\n",
       "      <td>3.162278</td>\n",
       "      <td>5.196152</td>\n",
       "      <td>9.110434</td>\n",
       "      <td>7.071068</td>\n",
       "      <td>1.000000</td>\n",
       "      <td>3.605551</td>\n",
       "      <td>3.872983</td>\n",
       "      <td>3.605551</td>\n",
       "      <td>6.164414</td>\n",
       "      <td>7.280110</td>\n",
       "    </tr>\n",
       "    <tr>\n",
       "      <th>2</th>\n",
       "      <td>2.236068</td>\n",
       "      <td>2.828427</td>\n",
       "      <td>4.123106</td>\n",
       "      <td>4.690416</td>\n",
       "      <td>6.164414</td>\n",
       "      <td>2.449490</td>\n",
       "      <td>3.872983</td>\n",
       "      <td>2.449490</td>\n",
       "      <td>4.000000</td>\n",
       "      <td>4.582576</td>\n",
       "      <td>...</td>\n",
       "      <td>3.464102</td>\n",
       "      <td>7.483315</td>\n",
       "      <td>9.165152</td>\n",
       "      <td>7.483315</td>\n",
       "      <td>1.732051</td>\n",
       "      <td>7.810250</td>\n",
       "      <td>4.242640</td>\n",
       "      <td>4.358899</td>\n",
       "      <td>6.324555</td>\n",
       "      <td>7.615773</td>\n",
       "    </tr>\n",
       "    <tr>\n",
       "      <th>3</th>\n",
       "      <td>2.236068</td>\n",
       "      <td>3.162278</td>\n",
       "      <td>4.123106</td>\n",
       "      <td>4.898980</td>\n",
       "      <td>6.164414</td>\n",
       "      <td>2.449490</td>\n",
       "      <td>4.123106</td>\n",
       "      <td>2.449490</td>\n",
       "      <td>4.123106</td>\n",
       "      <td>4.582576</td>\n",
       "      <td>...</td>\n",
       "      <td>4.472136</td>\n",
       "      <td>7.615773</td>\n",
       "      <td>9.165152</td>\n",
       "      <td>8.426149</td>\n",
       "      <td>3.162278</td>\n",
       "      <td>7.874008</td>\n",
       "      <td>4.358899</td>\n",
       "      <td>4.472136</td>\n",
       "      <td>6.403124</td>\n",
       "      <td>7.937254</td>\n",
       "    </tr>\n",
       "    <tr>\n",
       "      <th>4</th>\n",
       "      <td>2.236068</td>\n",
       "      <td>3.605551</td>\n",
       "      <td>4.123106</td>\n",
       "      <td>4.898980</td>\n",
       "      <td>6.164414</td>\n",
       "      <td>2.645751</td>\n",
       "      <td>4.123106</td>\n",
       "      <td>2.449490</td>\n",
       "      <td>4.123106</td>\n",
       "      <td>4.690416</td>\n",
       "      <td>...</td>\n",
       "      <td>5.196152</td>\n",
       "      <td>7.615773</td>\n",
       "      <td>9.219544</td>\n",
       "      <td>8.544003</td>\n",
       "      <td>3.316625</td>\n",
       "      <td>8.000000</td>\n",
       "      <td>4.472136</td>\n",
       "      <td>5.291502</td>\n",
       "      <td>6.403124</td>\n",
       "      <td>8.124039</td>\n",
       "    </tr>\n",
       "    <tr>\n",
       "      <th>...</th>\n",
       "      <td>...</td>\n",
       "      <td>...</td>\n",
       "      <td>...</td>\n",
       "      <td>...</td>\n",
       "      <td>...</td>\n",
       "      <td>...</td>\n",
       "      <td>...</td>\n",
       "      <td>...</td>\n",
       "      <td>...</td>\n",
       "      <td>...</td>\n",
       "      <td>...</td>\n",
       "      <td>...</td>\n",
       "      <td>...</td>\n",
       "      <td>...</td>\n",
       "      <td>...</td>\n",
       "      <td>...</td>\n",
       "      <td>...</td>\n",
       "      <td>...</td>\n",
       "      <td>...</td>\n",
       "      <td>...</td>\n",
       "      <td>...</td>\n",
       "    </tr>\n",
       "    <tr>\n",
       "      <th>12049</th>\n",
       "      <td>11.916375</td>\n",
       "      <td>12.041595</td>\n",
       "      <td>12.165525</td>\n",
       "      <td>12.000000</td>\n",
       "      <td>12.369317</td>\n",
       "      <td>11.789826</td>\n",
       "      <td>11.401754</td>\n",
       "      <td>11.789826</td>\n",
       "      <td>12.083046</td>\n",
       "      <td>12.041595</td>\n",
       "      <td>...</td>\n",
       "      <td>13.341664</td>\n",
       "      <td>12.884099</td>\n",
       "      <td>13.152946</td>\n",
       "      <td>13.266500</td>\n",
       "      <td>12.124355</td>\n",
       "      <td>13.152946</td>\n",
       "      <td>12.884099</td>\n",
       "      <td>12.845233</td>\n",
       "      <td>12.369317</td>\n",
       "      <td>13.190906</td>\n",
       "    </tr>\n",
       "    <tr>\n",
       "      <th>12050</th>\n",
       "      <td>11.958261</td>\n",
       "      <td>12.124355</td>\n",
       "      <td>12.288206</td>\n",
       "      <td>12.124355</td>\n",
       "      <td>12.409674</td>\n",
       "      <td>11.958261</td>\n",
       "      <td>11.401754</td>\n",
       "      <td>11.916375</td>\n",
       "      <td>12.206555</td>\n",
       "      <td>12.165525</td>\n",
       "      <td>...</td>\n",
       "      <td>13.379088</td>\n",
       "      <td>13.000000</td>\n",
       "      <td>13.152946</td>\n",
       "      <td>13.304134</td>\n",
       "      <td>12.247449</td>\n",
       "      <td>13.266500</td>\n",
       "      <td>12.961481</td>\n",
       "      <td>12.922848</td>\n",
       "      <td>12.449900</td>\n",
       "      <td>13.341664</td>\n",
       "    </tr>\n",
       "    <tr>\n",
       "      <th>12051</th>\n",
       "      <td>12.083046</td>\n",
       "      <td>12.409674</td>\n",
       "      <td>12.328828</td>\n",
       "      <td>12.409674</td>\n",
       "      <td>12.609520</td>\n",
       "      <td>12.000000</td>\n",
       "      <td>11.704700</td>\n",
       "      <td>11.958261</td>\n",
       "      <td>12.206555</td>\n",
       "      <td>12.206555</td>\n",
       "      <td>...</td>\n",
       "      <td>13.564660</td>\n",
       "      <td>13.038404</td>\n",
       "      <td>13.152946</td>\n",
       "      <td>13.341664</td>\n",
       "      <td>12.288206</td>\n",
       "      <td>13.304134</td>\n",
       "      <td>13.076696</td>\n",
       "      <td>13.114877</td>\n",
       "      <td>12.489996</td>\n",
       "      <td>13.453624</td>\n",
       "    </tr>\n",
       "    <tr>\n",
       "      <th>12052</th>\n",
       "      <td>12.165525</td>\n",
       "      <td>12.489996</td>\n",
       "      <td>12.489996</td>\n",
       "      <td>12.806249</td>\n",
       "      <td>13.076696</td>\n",
       "      <td>12.124355</td>\n",
       "      <td>12.449900</td>\n",
       "      <td>12.124355</td>\n",
       "      <td>12.369317</td>\n",
       "      <td>12.288206</td>\n",
       "      <td>...</td>\n",
       "      <td>13.601471</td>\n",
       "      <td>13.038404</td>\n",
       "      <td>13.266500</td>\n",
       "      <td>13.453624</td>\n",
       "      <td>12.369317</td>\n",
       "      <td>13.638182</td>\n",
       "      <td>13.228757</td>\n",
       "      <td>13.266500</td>\n",
       "      <td>12.569805</td>\n",
       "      <td>13.527749</td>\n",
       "    </tr>\n",
       "    <tr>\n",
       "      <th>12053</th>\n",
       "      <td>12.369317</td>\n",
       "      <td>12.529964</td>\n",
       "      <td>12.529964</td>\n",
       "      <td>12.922848</td>\n",
       "      <td>13.114877</td>\n",
       "      <td>12.247449</td>\n",
       "      <td>12.569805</td>\n",
       "      <td>12.247449</td>\n",
       "      <td>12.649111</td>\n",
       "      <td>12.409674</td>\n",
       "      <td>...</td>\n",
       "      <td>13.638182</td>\n",
       "      <td>13.228757</td>\n",
       "      <td>13.527749</td>\n",
       "      <td>13.638182</td>\n",
       "      <td>12.569805</td>\n",
       "      <td>13.747727</td>\n",
       "      <td>13.490738</td>\n",
       "      <td>13.527749</td>\n",
       "      <td>12.609520</td>\n",
       "      <td>13.564660</td>\n",
       "    </tr>\n",
       "  </tbody>\n",
       "</table>\n",
       "<p>12054 rows × 12054 columns</p>\n",
       "</div>"
      ],
      "text/plain": [
       "           0          1          2          3          4          5      \\\n",
       "0       0.000000   0.000000   0.000000   0.000000   0.000000   0.000000   \n",
       "1       2.000000   2.449490   3.162278   4.358899   5.385165   2.236068   \n",
       "2       2.236068   2.828427   4.123106   4.690416   6.164414   2.449490   \n",
       "3       2.236068   3.162278   4.123106   4.898980   6.164414   2.449490   \n",
       "4       2.236068   3.605551   4.123106   4.898980   6.164414   2.645751   \n",
       "...          ...        ...        ...        ...        ...        ...   \n",
       "12049  11.916375  12.041595  12.165525  12.000000  12.369317  11.789826   \n",
       "12050  11.958261  12.124355  12.288206  12.124355  12.409674  11.958261   \n",
       "12051  12.083046  12.409674  12.328828  12.409674  12.609520  12.000000   \n",
       "12052  12.165525  12.489996  12.489996  12.806249  13.076696  12.124355   \n",
       "12053  12.369317  12.529964  12.529964  12.922848  13.114877  12.247449   \n",
       "\n",
       "           6          7          8          9      ...      12044      12045  \\\n",
       "0       0.000000   0.000000   0.000000   0.000000  ...   0.000000   0.000000   \n",
       "1       3.741657   1.732051   3.316625   4.242640  ...   3.162278   5.196152   \n",
       "2       3.872983   2.449490   4.000000   4.582576  ...   3.464102   7.483315   \n",
       "3       4.123106   2.449490   4.123106   4.582576  ...   4.472136   7.615773   \n",
       "4       4.123106   2.449490   4.123106   4.690416  ...   5.196152   7.615773   \n",
       "...          ...        ...        ...        ...  ...        ...        ...   \n",
       "12049  11.401754  11.789826  12.083046  12.041595  ...  13.341664  12.884099   \n",
       "12050  11.401754  11.916375  12.206555  12.165525  ...  13.379088  13.000000   \n",
       "12051  11.704700  11.958261  12.206555  12.206555  ...  13.564660  13.038404   \n",
       "12052  12.449900  12.124355  12.369317  12.288206  ...  13.601471  13.038404   \n",
       "12053  12.569805  12.247449  12.649111  12.409674  ...  13.638182  13.228757   \n",
       "\n",
       "           12046      12047      12048      12049      12050      12051  \\\n",
       "0       0.000000   0.000000   0.000000   0.000000   0.000000   0.000000   \n",
       "1       9.110434   7.071068   1.000000   3.605551   3.872983   3.605551   \n",
       "2       9.165152   7.483315   1.732051   7.810250   4.242640   4.358899   \n",
       "3       9.165152   8.426149   3.162278   7.874008   4.358899   4.472136   \n",
       "4       9.219544   8.544003   3.316625   8.000000   4.472136   5.291502   \n",
       "...          ...        ...        ...        ...        ...        ...   \n",
       "12049  13.152946  13.266500  12.124355  13.152946  12.884099  12.845233   \n",
       "12050  13.152946  13.304134  12.247449  13.266500  12.961481  12.922848   \n",
       "12051  13.152946  13.341664  12.288206  13.304134  13.076696  13.114877   \n",
       "12052  13.266500  13.453624  12.369317  13.638182  13.228757  13.266500   \n",
       "12053  13.527749  13.638182  12.569805  13.747727  13.490738  13.527749   \n",
       "\n",
       "           12052      12053  \n",
       "0       0.000000   0.000000  \n",
       "1       6.164414   7.280110  \n",
       "2       6.324555   7.615773  \n",
       "3       6.403124   7.937254  \n",
       "4       6.403124   8.124039  \n",
       "...          ...        ...  \n",
       "12049  12.369317  13.190906  \n",
       "12050  12.449900  13.341664  \n",
       "12051  12.489996  13.453624  \n",
       "12052  12.569805  13.527749  \n",
       "12053  12.609520  13.564660  \n",
       "\n",
       "[12054 rows x 12054 columns]"
      ]
     },
     "execution_count": 79,
     "metadata": {},
     "output_type": "execute_result"
    }
   ],
   "source": [
    "df_tr=pd.DataFrame(neighbors_k)\n",
    "df_tr"
   ]
  },
  {
   "cell_type": "code",
   "execution_count": 80,
   "id": "39a18bc9",
   "metadata": {},
   "outputs": [],
   "source": [
    "similarity= neighbors_k"
   ]
  },
  {
   "cell_type": "code",
   "execution_count": 81,
   "id": "e6544478",
   "metadata": {},
   "outputs": [],
   "source": [
    "Dmean=np.mean(similarity[1,:])"
   ]
  },
  {
   "cell_type": "code",
   "execution_count": 82,
   "id": "5e08ac8c",
   "metadata": {},
   "outputs": [
    {
     "data": {
      "text/plain": [
       "3.6"
      ]
     },
     "execution_count": 82,
     "metadata": {},
     "output_type": "execute_result"
    }
   ],
   "source": [
    "round(Dmean, 2)"
   ]
  },
  {
   "cell_type": "code",
   "execution_count": 83,
   "id": "809a809a",
   "metadata": {},
   "outputs": [],
   "source": [
    "std=np.std(similarity[1,:])"
   ]
  },
  {
   "cell_type": "code",
   "execution_count": 84,
   "id": "8cdc7c87",
   "metadata": {},
   "outputs": [
    {
     "data": {
      "text/plain": [
       "1.18"
      ]
     },
     "execution_count": 84,
     "metadata": {},
     "output_type": "execute_result"
    }
   ],
   "source": [
    "round(std, 2)"
   ]
  },
  {
   "cell_type": "code",
   "execution_count": 85,
   "id": "834c1626",
   "metadata": {},
   "outputs": [
    {
     "name": "stdout",
     "output_type": "stream",
     "text": [
      "4.19\n"
     ]
    }
   ],
   "source": [
    "model_AD_limit=Dmean+std*0.5\n",
    "print(np.round(model_AD_limit, 2))"
   ]
  },
  {
   "cell_type": "code",
   "execution_count": 86,
   "id": "7b9849d2",
   "metadata": {},
   "outputs": [],
   "source": [
    "neighbors_k_ts= pairwise_distances(x_tr,Y=x_ts, n_jobs=-1)\n",
    "neighbors_k_ts.sort(0)"
   ]
  },
  {
   "cell_type": "code",
   "execution_count": 87,
   "id": "93faa6fb",
   "metadata": {},
   "outputs": [
    {
     "data": {
      "text/html": [
       "<div>\n",
       "<style scoped>\n",
       "    .dataframe tbody tr th:only-of-type {\n",
       "        vertical-align: middle;\n",
       "    }\n",
       "\n",
       "    .dataframe tbody tr th {\n",
       "        vertical-align: top;\n",
       "    }\n",
       "\n",
       "    .dataframe thead th {\n",
       "        text-align: right;\n",
       "    }\n",
       "</style>\n",
       "<table border=\"1\" class=\"dataframe\">\n",
       "  <thead>\n",
       "    <tr style=\"text-align: right;\">\n",
       "      <th></th>\n",
       "      <th>0</th>\n",
       "      <th>1</th>\n",
       "      <th>2</th>\n",
       "      <th>3</th>\n",
       "      <th>4</th>\n",
       "      <th>5</th>\n",
       "      <th>6</th>\n",
       "      <th>7</th>\n",
       "      <th>8</th>\n",
       "      <th>9</th>\n",
       "      <th>...</th>\n",
       "      <th>3004</th>\n",
       "      <th>3005</th>\n",
       "      <th>3006</th>\n",
       "      <th>3007</th>\n",
       "      <th>3008</th>\n",
       "      <th>3009</th>\n",
       "      <th>3010</th>\n",
       "      <th>3011</th>\n",
       "      <th>3012</th>\n",
       "      <th>3013</th>\n",
       "    </tr>\n",
       "  </thead>\n",
       "  <tbody>\n",
       "    <tr>\n",
       "      <th>0</th>\n",
       "      <td>2.000000</td>\n",
       "      <td>3.162278</td>\n",
       "      <td>2.828427</td>\n",
       "      <td>4.123106</td>\n",
       "      <td>2.645751</td>\n",
       "      <td>2.828427</td>\n",
       "      <td>3.464102</td>\n",
       "      <td>3.464102</td>\n",
       "      <td>2.000000</td>\n",
       "      <td>2.645751</td>\n",
       "      <td>...</td>\n",
       "      <td>3.162278</td>\n",
       "      <td>6.557438</td>\n",
       "      <td>4.898980</td>\n",
       "      <td>3.464102</td>\n",
       "      <td>3.872983</td>\n",
       "      <td>3.605551</td>\n",
       "      <td>4.898980</td>\n",
       "      <td>3.000000</td>\n",
       "      <td>3.162278</td>\n",
       "      <td>5.656854</td>\n",
       "    </tr>\n",
       "    <tr>\n",
       "      <th>1</th>\n",
       "      <td>2.236068</td>\n",
       "      <td>3.162278</td>\n",
       "      <td>3.000000</td>\n",
       "      <td>4.242640</td>\n",
       "      <td>3.000000</td>\n",
       "      <td>3.000000</td>\n",
       "      <td>3.464102</td>\n",
       "      <td>3.872983</td>\n",
       "      <td>2.236068</td>\n",
       "      <td>2.828427</td>\n",
       "      <td>...</td>\n",
       "      <td>4.795832</td>\n",
       "      <td>6.782330</td>\n",
       "      <td>5.744563</td>\n",
       "      <td>3.605551</td>\n",
       "      <td>5.291502</td>\n",
       "      <td>5.385165</td>\n",
       "      <td>5.385165</td>\n",
       "      <td>7.141428</td>\n",
       "      <td>3.316625</td>\n",
       "      <td>5.916080</td>\n",
       "    </tr>\n",
       "    <tr>\n",
       "      <th>2</th>\n",
       "      <td>2.236068</td>\n",
       "      <td>3.316625</td>\n",
       "      <td>3.000000</td>\n",
       "      <td>4.242640</td>\n",
       "      <td>3.162278</td>\n",
       "      <td>3.000000</td>\n",
       "      <td>3.464102</td>\n",
       "      <td>4.000000</td>\n",
       "      <td>2.236068</td>\n",
       "      <td>3.316625</td>\n",
       "      <td>...</td>\n",
       "      <td>5.000000</td>\n",
       "      <td>7.615773</td>\n",
       "      <td>5.744563</td>\n",
       "      <td>3.741657</td>\n",
       "      <td>5.291502</td>\n",
       "      <td>6.855655</td>\n",
       "      <td>5.385165</td>\n",
       "      <td>7.549834</td>\n",
       "      <td>7.937254</td>\n",
       "      <td>6.082763</td>\n",
       "    </tr>\n",
       "    <tr>\n",
       "      <th>3</th>\n",
       "      <td>2.645751</td>\n",
       "      <td>3.316625</td>\n",
       "      <td>3.316625</td>\n",
       "      <td>4.242640</td>\n",
       "      <td>3.162278</td>\n",
       "      <td>3.162278</td>\n",
       "      <td>4.123106</td>\n",
       "      <td>4.000000</td>\n",
       "      <td>2.645751</td>\n",
       "      <td>3.316625</td>\n",
       "      <td>...</td>\n",
       "      <td>5.099020</td>\n",
       "      <td>7.745967</td>\n",
       "      <td>5.830952</td>\n",
       "      <td>3.872983</td>\n",
       "      <td>5.477226</td>\n",
       "      <td>7.000000</td>\n",
       "      <td>5.477226</td>\n",
       "      <td>8.485281</td>\n",
       "      <td>8.000000</td>\n",
       "      <td>6.082763</td>\n",
       "    </tr>\n",
       "    <tr>\n",
       "      <th>4</th>\n",
       "      <td>2.828427</td>\n",
       "      <td>3.464102</td>\n",
       "      <td>3.464102</td>\n",
       "      <td>4.358899</td>\n",
       "      <td>3.162278</td>\n",
       "      <td>3.162278</td>\n",
       "      <td>4.242640</td>\n",
       "      <td>4.000000</td>\n",
       "      <td>2.645751</td>\n",
       "      <td>3.316625</td>\n",
       "      <td>...</td>\n",
       "      <td>5.099020</td>\n",
       "      <td>7.810250</td>\n",
       "      <td>5.916080</td>\n",
       "      <td>4.000000</td>\n",
       "      <td>5.477226</td>\n",
       "      <td>7.000000</td>\n",
       "      <td>5.477226</td>\n",
       "      <td>8.485281</td>\n",
       "      <td>8.062258</td>\n",
       "      <td>6.244998</td>\n",
       "    </tr>\n",
       "    <tr>\n",
       "      <th>...</th>\n",
       "      <td>...</td>\n",
       "      <td>...</td>\n",
       "      <td>...</td>\n",
       "      <td>...</td>\n",
       "      <td>...</td>\n",
       "      <td>...</td>\n",
       "      <td>...</td>\n",
       "      <td>...</td>\n",
       "      <td>...</td>\n",
       "      <td>...</td>\n",
       "      <td>...</td>\n",
       "      <td>...</td>\n",
       "      <td>...</td>\n",
       "      <td>...</td>\n",
       "      <td>...</td>\n",
       "      <td>...</td>\n",
       "      <td>...</td>\n",
       "      <td>...</td>\n",
       "      <td>...</td>\n",
       "      <td>...</td>\n",
       "      <td>...</td>\n",
       "    </tr>\n",
       "    <tr>\n",
       "      <th>12049</th>\n",
       "      <td>11.789826</td>\n",
       "      <td>12.288206</td>\n",
       "      <td>11.958261</td>\n",
       "      <td>11.789826</td>\n",
       "      <td>11.958261</td>\n",
       "      <td>11.916375</td>\n",
       "      <td>11.958261</td>\n",
       "      <td>12.000000</td>\n",
       "      <td>11.874342</td>\n",
       "      <td>11.958261</td>\n",
       "      <td>...</td>\n",
       "      <td>12.328828</td>\n",
       "      <td>12.449900</td>\n",
       "      <td>13.266500</td>\n",
       "      <td>12.206555</td>\n",
       "      <td>12.409674</td>\n",
       "      <td>12.727922</td>\n",
       "      <td>11.789826</td>\n",
       "      <td>13.304134</td>\n",
       "      <td>12.922848</td>\n",
       "      <td>12.165525</td>\n",
       "    </tr>\n",
       "    <tr>\n",
       "      <th>12050</th>\n",
       "      <td>11.916375</td>\n",
       "      <td>12.328828</td>\n",
       "      <td>11.958261</td>\n",
       "      <td>11.958261</td>\n",
       "      <td>12.083046</td>\n",
       "      <td>11.916375</td>\n",
       "      <td>12.083046</td>\n",
       "      <td>12.165525</td>\n",
       "      <td>12.041595</td>\n",
       "      <td>12.124355</td>\n",
       "      <td>...</td>\n",
       "      <td>12.449900</td>\n",
       "      <td>12.529964</td>\n",
       "      <td>13.416408</td>\n",
       "      <td>12.328828</td>\n",
       "      <td>12.449900</td>\n",
       "      <td>12.806249</td>\n",
       "      <td>11.832160</td>\n",
       "      <td>13.304134</td>\n",
       "      <td>12.961481</td>\n",
       "      <td>12.288206</td>\n",
       "    </tr>\n",
       "    <tr>\n",
       "      <th>12051</th>\n",
       "      <td>11.958261</td>\n",
       "      <td>12.449900</td>\n",
       "      <td>12.000000</td>\n",
       "      <td>12.247449</td>\n",
       "      <td>12.124355</td>\n",
       "      <td>12.041595</td>\n",
       "      <td>12.247449</td>\n",
       "      <td>12.206555</td>\n",
       "      <td>12.165525</td>\n",
       "      <td>12.206555</td>\n",
       "      <td>...</td>\n",
       "      <td>12.529964</td>\n",
       "      <td>12.727922</td>\n",
       "      <td>13.674794</td>\n",
       "      <td>12.369317</td>\n",
       "      <td>12.649111</td>\n",
       "      <td>12.922848</td>\n",
       "      <td>12.000000</td>\n",
       "      <td>13.341664</td>\n",
       "      <td>12.961481</td>\n",
       "      <td>12.569805</td>\n",
       "    </tr>\n",
       "    <tr>\n",
       "      <th>12052</th>\n",
       "      <td>12.124355</td>\n",
       "      <td>12.529964</td>\n",
       "      <td>12.124355</td>\n",
       "      <td>12.247449</td>\n",
       "      <td>12.288206</td>\n",
       "      <td>12.165525</td>\n",
       "      <td>12.727922</td>\n",
       "      <td>12.328828</td>\n",
       "      <td>12.206555</td>\n",
       "      <td>12.247449</td>\n",
       "      <td>...</td>\n",
       "      <td>12.609520</td>\n",
       "      <td>12.727922</td>\n",
       "      <td>13.747727</td>\n",
       "      <td>12.449900</td>\n",
       "      <td>12.806249</td>\n",
       "      <td>12.922848</td>\n",
       "      <td>12.083046</td>\n",
       "      <td>13.490738</td>\n",
       "      <td>13.152946</td>\n",
       "      <td>12.569805</td>\n",
       "    </tr>\n",
       "    <tr>\n",
       "      <th>12053</th>\n",
       "      <td>12.247449</td>\n",
       "      <td>12.727922</td>\n",
       "      <td>12.247449</td>\n",
       "      <td>12.449900</td>\n",
       "      <td>12.409674</td>\n",
       "      <td>12.206555</td>\n",
       "      <td>12.845233</td>\n",
       "      <td>12.449900</td>\n",
       "      <td>12.328828</td>\n",
       "      <td>12.409674</td>\n",
       "      <td>...</td>\n",
       "      <td>12.884099</td>\n",
       "      <td>12.922848</td>\n",
       "      <td>13.784049</td>\n",
       "      <td>12.649111</td>\n",
       "      <td>13.076696</td>\n",
       "      <td>13.038404</td>\n",
       "      <td>12.288206</td>\n",
       "      <td>13.674794</td>\n",
       "      <td>13.228757</td>\n",
       "      <td>12.688578</td>\n",
       "    </tr>\n",
       "  </tbody>\n",
       "</table>\n",
       "<p>12054 rows × 3014 columns</p>\n",
       "</div>"
      ],
      "text/plain": [
       "            0          1          2          3          4          5     \\\n",
       "0       2.000000   3.162278   2.828427   4.123106   2.645751   2.828427   \n",
       "1       2.236068   3.162278   3.000000   4.242640   3.000000   3.000000   \n",
       "2       2.236068   3.316625   3.000000   4.242640   3.162278   3.000000   \n",
       "3       2.645751   3.316625   3.316625   4.242640   3.162278   3.162278   \n",
       "4       2.828427   3.464102   3.464102   4.358899   3.162278   3.162278   \n",
       "...          ...        ...        ...        ...        ...        ...   \n",
       "12049  11.789826  12.288206  11.958261  11.789826  11.958261  11.916375   \n",
       "12050  11.916375  12.328828  11.958261  11.958261  12.083046  11.916375   \n",
       "12051  11.958261  12.449900  12.000000  12.247449  12.124355  12.041595   \n",
       "12052  12.124355  12.529964  12.124355  12.247449  12.288206  12.165525   \n",
       "12053  12.247449  12.727922  12.247449  12.449900  12.409674  12.206555   \n",
       "\n",
       "            6          7          8          9     ...       3004       3005  \\\n",
       "0       3.464102   3.464102   2.000000   2.645751  ...   3.162278   6.557438   \n",
       "1       3.464102   3.872983   2.236068   2.828427  ...   4.795832   6.782330   \n",
       "2       3.464102   4.000000   2.236068   3.316625  ...   5.000000   7.615773   \n",
       "3       4.123106   4.000000   2.645751   3.316625  ...   5.099020   7.745967   \n",
       "4       4.242640   4.000000   2.645751   3.316625  ...   5.099020   7.810250   \n",
       "...          ...        ...        ...        ...  ...        ...        ...   \n",
       "12049  11.958261  12.000000  11.874342  11.958261  ...  12.328828  12.449900   \n",
       "12050  12.083046  12.165525  12.041595  12.124355  ...  12.449900  12.529964   \n",
       "12051  12.247449  12.206555  12.165525  12.206555  ...  12.529964  12.727922   \n",
       "12052  12.727922  12.328828  12.206555  12.247449  ...  12.609520  12.727922   \n",
       "12053  12.845233  12.449900  12.328828  12.409674  ...  12.884099  12.922848   \n",
       "\n",
       "            3006       3007       3008       3009       3010       3011  \\\n",
       "0       4.898980   3.464102   3.872983   3.605551   4.898980   3.000000   \n",
       "1       5.744563   3.605551   5.291502   5.385165   5.385165   7.141428   \n",
       "2       5.744563   3.741657   5.291502   6.855655   5.385165   7.549834   \n",
       "3       5.830952   3.872983   5.477226   7.000000   5.477226   8.485281   \n",
       "4       5.916080   4.000000   5.477226   7.000000   5.477226   8.485281   \n",
       "...          ...        ...        ...        ...        ...        ...   \n",
       "12049  13.266500  12.206555  12.409674  12.727922  11.789826  13.304134   \n",
       "12050  13.416408  12.328828  12.449900  12.806249  11.832160  13.304134   \n",
       "12051  13.674794  12.369317  12.649111  12.922848  12.000000  13.341664   \n",
       "12052  13.747727  12.449900  12.806249  12.922848  12.083046  13.490738   \n",
       "12053  13.784049  12.649111  13.076696  13.038404  12.288206  13.674794   \n",
       "\n",
       "            3012       3013  \n",
       "0       3.162278   5.656854  \n",
       "1       3.316625   5.916080  \n",
       "2       7.937254   6.082763  \n",
       "3       8.000000   6.082763  \n",
       "4       8.062258   6.244998  \n",
       "...          ...        ...  \n",
       "12049  12.922848  12.165525  \n",
       "12050  12.961481  12.288206  \n",
       "12051  12.961481  12.569805  \n",
       "12052  13.152946  12.569805  \n",
       "12053  13.228757  12.688578  \n",
       "\n",
       "[12054 rows x 3014 columns]"
      ]
     },
     "execution_count": 87,
     "metadata": {},
     "output_type": "execute_result"
    }
   ],
   "source": [
    "x_ts_AD=pd.DataFrame(neighbors_k_ts)\n",
    "x_ts_AD"
   ]
  },
  {
   "cell_type": "code",
   "execution_count": 88,
   "id": "d4d73a8d",
   "metadata": {},
   "outputs": [
    {
     "name": "stdout",
     "output_type": "stream",
     "text": [
      "[2.    3.162 2.828 ... 3.    3.162 5.657]\n"
     ]
    }
   ],
   "source": [
    "similarity_ts= neighbors_k_ts\n",
    "cpd_AD=similarity_ts[0,:]\n",
    "cpd_value = np.round(cpd_AD, 3)\n",
    "print(cpd_value)"
   ]
  },
  {
   "cell_type": "code",
   "execution_count": 89,
   "id": "c24d4bf6",
   "metadata": {},
   "outputs": [
    {
     "name": "stdout",
     "output_type": "stream",
     "text": [
      "[ True  True  True ...  True  True False]\n"
     ]
    }
   ],
   "source": [
    "cpd_AD = np.where(cpd_value <= model_AD_limit, True, False)\n",
    "print(cpd_AD)"
   ]
  },
  {
   "cell_type": "code",
   "execution_count": 90,
   "id": "5f20e347",
   "metadata": {},
   "outputs": [
    {
     "name": "stdout",
     "output_type": "stream",
     "text": [
      "Coverage =  0.7438619774386198\n"
     ]
    }
   ],
   "source": [
    "print(\"Coverage = \", sum(cpd_AD) / len(cpd_AD))"
   ]
  },
  {
   "cell_type": "code",
   "execution_count": 91,
   "id": "3cc71cb6",
   "metadata": {},
   "outputs": [
    {
     "name": "stdout",
     "output_type": "stream",
     "text": [
      "Indices of substances included in AD =  [   0    1    2 ... 3009 3011 3012]\n"
     ]
    }
   ],
   "source": [
    "print(\"Indices of substances included in AD = \", np.where(cpd_AD != 0)[0])"
   ]
  },
  {
   "cell_type": "code",
   "execution_count": 92,
   "id": "61627c86",
   "metadata": {},
   "outputs": [],
   "source": [
    "out_Ad=list(np.where(cpd_AD == 0)[0])"
   ]
  },
  {
   "cell_type": "markdown",
   "id": "60f6be23",
   "metadata": {},
   "source": [
    "##  Prediction only for molecules included in  AD"
   ]
  },
  {
   "cell_type": "code",
   "execution_count": 93,
   "id": "70315690",
   "metadata": {},
   "outputs": [],
   "source": [
    "y_pred_svm_ad=list(y_pred_svm)"
   ]
  },
  {
   "cell_type": "code",
   "execution_count": 94,
   "id": "6da82b04",
   "metadata": {},
   "outputs": [],
   "source": [
    "y_pred_svm_ad[:] = [x for i,x in enumerate(y_pred_svm_ad) if i not in out_Ad]"
   ]
  },
  {
   "cell_type": "code",
   "execution_count": 95,
   "id": "3e645db5",
   "metadata": {},
   "outputs": [
    {
     "data": {
      "text/plain": [
       "2242"
      ]
     },
     "execution_count": 95,
     "metadata": {},
     "output_type": "execute_result"
    }
   ],
   "source": [
    "len(y_pred_svm_ad)"
   ]
  },
  {
   "cell_type": "code",
   "execution_count": 96,
   "id": "d35b0a93",
   "metadata": {},
   "outputs": [],
   "source": [
    "y_ts_ad=list(y_ts)"
   ]
  },
  {
   "cell_type": "code",
   "execution_count": 97,
   "id": "36d18299",
   "metadata": {},
   "outputs": [],
   "source": [
    "y_ts_ad[:] = [x for i,x in enumerate(y_ts_ad) if i not in out_Ad]"
   ]
  },
  {
   "cell_type": "code",
   "execution_count": 98,
   "id": "0e7e7a68",
   "metadata": {},
   "outputs": [
    {
     "data": {
      "text/plain": [
       "2242"
      ]
     },
     "execution_count": 98,
     "metadata": {},
     "output_type": "execute_result"
    }
   ],
   "source": [
    "len(y_ts_ad)"
   ]
  },
  {
   "cell_type": "code",
   "execution_count": 99,
   "id": "02eb905d",
   "metadata": {},
   "outputs": [
    {
     "data": {
      "text/plain": [
       "0.61"
      ]
     },
     "execution_count": 99,
     "metadata": {},
     "output_type": "execute_result"
    }
   ],
   "source": [
    "Q2_TS = round(r2_score(y_ts_ad, y_pred_svm_ad), 2)\n",
    "Q2_TS"
   ]
  },
  {
   "cell_type": "code",
   "execution_count": 100,
   "id": "f2722fd8",
   "metadata": {},
   "outputs": [
    {
     "data": {
      "text/plain": [
       "0.42"
      ]
     },
     "execution_count": 100,
     "metadata": {},
     "output_type": "execute_result"
    }
   ],
   "source": [
    "RMSE_TS=round(np.sqrt(mean_squared_error(y_ts_ad, y_pred_svm_ad)), 2)\n",
    "RMSE_TS"
   ]
  },
  {
   "cell_type": "markdown",
   "id": "09bddf36",
   "metadata": {},
   "source": [
    "# Consensus"
   ]
  },
  {
   "cell_type": "markdown",
   "id": "10909d92",
   "metadata": {},
   "source": [
    "##  load the models from disk"
   ]
  },
  {
   "cell_type": "code",
   "execution_count": 101,
   "id": "442ca0bf",
   "metadata": {},
   "outputs": [],
   "source": [
    "best_svm = pickle.load(open('Models/MorganFingerprint/LD50_mouse_intravenous_SVM_MF.pkl', 'rb'))"
   ]
  },
  {
   "cell_type": "code",
   "execution_count": 102,
   "id": "88cbb56e",
   "metadata": {},
   "outputs": [],
   "source": [
    "best_GBR = pickle.load(open('Models/MorganFingerprint/LD50_mouse_intravenous_GBR_MFP.pkl', 'rb'))"
   ]
  },
  {
   "cell_type": "markdown",
   "id": "83fe99dd",
   "metadata": {},
   "source": [
    "## Prediction for CV"
   ]
  },
  {
   "cell_type": "code",
   "execution_count": 103,
   "id": "7d91dd50",
   "metadata": {},
   "outputs": [],
   "source": [
    "seed = 42\n",
    "cv=KFold(n_splits=5, random_state=seed, shuffle=True)"
   ]
  },
  {
   "cell_type": "code",
   "execution_count": 113,
   "id": "6c741912",
   "metadata": {},
   "outputs": [],
   "source": [
    "y_pred_CV_svm = cross_val_predict(best_svm, x_tr, y_tr, cv=cv)"
   ]
  },
  {
   "cell_type": "code",
   "execution_count": 114,
   "id": "829dc3a1",
   "metadata": {},
   "outputs": [],
   "source": [
    "y_pred_CV_GBR = cross_val_predict(best_GBR, x_tr, y_tr, cv=cv)"
   ]
  },
  {
   "cell_type": "code",
   "execution_count": 115,
   "id": "640cec8f",
   "metadata": {},
   "outputs": [],
   "source": [
    "y_pred_con=(y_pred_CV_svm+y_pred_CV_GBR)/2"
   ]
  },
  {
   "cell_type": "code",
   "execution_count": 116,
   "id": "ecc482f9",
   "metadata": {},
   "outputs": [
    {
     "data": {
      "text/plain": [
       "0.54"
      ]
     },
     "execution_count": 116,
     "metadata": {},
     "output_type": "execute_result"
    }
   ],
   "source": [
    "Q2_CV = round(r2_score(y_tr, y_pred_con), 2)\n",
    "Q2_CV"
   ]
  },
  {
   "cell_type": "code",
   "execution_count": 117,
   "id": "9566efdc",
   "metadata": {},
   "outputs": [
    {
     "data": {
      "text/plain": [
       "0.46"
      ]
     },
     "execution_count": 117,
     "metadata": {},
     "output_type": "execute_result"
    }
   ],
   "source": [
    "RMSE_CV=round(np.sqrt(mean_squared_error(y_tr, y_pred_con)),2)\n",
    "RMSE_CV"
   ]
  },
  {
   "cell_type": "markdown",
   "id": "8c15c977",
   "metadata": {},
   "source": [
    "## Prediction for test set's molecules"
   ]
  },
  {
   "cell_type": "code",
   "execution_count": 118,
   "id": "8bb7fd18",
   "metadata": {},
   "outputs": [],
   "source": [
    "x_ts = np.array(x_ts, dtype=np.float32)\n",
    "y_ts = np.array(y_ts, dtype=np.float32)"
   ]
  },
  {
   "cell_type": "code",
   "execution_count": 119,
   "id": "5f286a3b",
   "metadata": {},
   "outputs": [],
   "source": [
    "y_pred_svm = best_svm.predict(x_ts)"
   ]
  },
  {
   "cell_type": "code",
   "execution_count": 120,
   "id": "a3ffa8da",
   "metadata": {},
   "outputs": [],
   "source": [
    "y_pred_GBR = best_GBR.predict(x_ts)"
   ]
  },
  {
   "cell_type": "code",
   "execution_count": 121,
   "id": "a24bc8f8",
   "metadata": {},
   "outputs": [
    {
     "data": {
      "text/plain": [
       "array([2.65314081, 3.00667763, 1.68043968, ..., 6.60570482, 6.02856091,\n",
       "       3.74930424])"
      ]
     },
     "execution_count": 121,
     "metadata": {},
     "output_type": "execute_result"
    }
   ],
   "source": [
    "y_pred_GBR"
   ]
  },
  {
   "cell_type": "code",
   "execution_count": 122,
   "id": "34261969",
   "metadata": {},
   "outputs": [],
   "source": [
    "y_pred_con=(y_pred_svm+y_pred_GBR)/2"
   ]
  },
  {
   "cell_type": "code",
   "execution_count": 123,
   "id": "9daa0063",
   "metadata": {},
   "outputs": [
    {
     "data": {
      "text/plain": [
       "0.55"
      ]
     },
     "execution_count": 123,
     "metadata": {},
     "output_type": "execute_result"
    }
   ],
   "source": [
    "Q2_TS = round(r2_score(y_ts, y_pred_con), 2)\n",
    "Q2_TS"
   ]
  },
  {
   "cell_type": "code",
   "execution_count": 124,
   "id": "354f0394",
   "metadata": {},
   "outputs": [
    {
     "data": {
      "text/plain": [
       "0.45"
      ]
     },
     "execution_count": 124,
     "metadata": {},
     "output_type": "execute_result"
    }
   ],
   "source": [
    "RMSE_TS=round(np.sqrt(mean_squared_error(y_ts, y_pred_con)), 2)\n",
    "RMSE_TS"
   ]
  },
  {
   "cell_type": "markdown",
   "id": "4d5cb0d4",
   "metadata": {},
   "source": [
    "## Estimating applicability domain. Method - Euclidian distances, K=1"
   ]
  },
  {
   "cell_type": "code",
   "execution_count": 125,
   "id": "0c732101",
   "metadata": {},
   "outputs": [],
   "source": [
    "neighbors_k= pairwise_distances(x_tr, n_jobs=-1)\n",
    "neighbors_k.sort(0)"
   ]
  },
  {
   "cell_type": "code",
   "execution_count": 126,
   "id": "b455bb85",
   "metadata": {},
   "outputs": [
    {
     "data": {
      "text/html": [
       "<div>\n",
       "<style scoped>\n",
       "    .dataframe tbody tr th:only-of-type {\n",
       "        vertical-align: middle;\n",
       "    }\n",
       "\n",
       "    .dataframe tbody tr th {\n",
       "        vertical-align: top;\n",
       "    }\n",
       "\n",
       "    .dataframe thead th {\n",
       "        text-align: right;\n",
       "    }\n",
       "</style>\n",
       "<table border=\"1\" class=\"dataframe\">\n",
       "  <thead>\n",
       "    <tr style=\"text-align: right;\">\n",
       "      <th></th>\n",
       "      <th>0</th>\n",
       "      <th>1</th>\n",
       "      <th>2</th>\n",
       "      <th>3</th>\n",
       "      <th>4</th>\n",
       "      <th>5</th>\n",
       "      <th>6</th>\n",
       "      <th>7</th>\n",
       "      <th>8</th>\n",
       "      <th>9</th>\n",
       "      <th>...</th>\n",
       "      <th>12044</th>\n",
       "      <th>12045</th>\n",
       "      <th>12046</th>\n",
       "      <th>12047</th>\n",
       "      <th>12048</th>\n",
       "      <th>12049</th>\n",
       "      <th>12050</th>\n",
       "      <th>12051</th>\n",
       "      <th>12052</th>\n",
       "      <th>12053</th>\n",
       "    </tr>\n",
       "  </thead>\n",
       "  <tbody>\n",
       "    <tr>\n",
       "      <th>0</th>\n",
       "      <td>0.000000</td>\n",
       "      <td>0.000000</td>\n",
       "      <td>0.000000</td>\n",
       "      <td>0.000000</td>\n",
       "      <td>0.000000</td>\n",
       "      <td>0.000000</td>\n",
       "      <td>0.000000</td>\n",
       "      <td>0.000000</td>\n",
       "      <td>0.000000</td>\n",
       "      <td>0.000000</td>\n",
       "      <td>...</td>\n",
       "      <td>0.000000</td>\n",
       "      <td>0.000000</td>\n",
       "      <td>0.000000</td>\n",
       "      <td>0.000000</td>\n",
       "      <td>0.000000</td>\n",
       "      <td>0.000000</td>\n",
       "      <td>0.000000</td>\n",
       "      <td>0.000000</td>\n",
       "      <td>0.000000</td>\n",
       "      <td>0.000000</td>\n",
       "    </tr>\n",
       "    <tr>\n",
       "      <th>1</th>\n",
       "      <td>2.000000</td>\n",
       "      <td>2.449490</td>\n",
       "      <td>3.162278</td>\n",
       "      <td>4.358899</td>\n",
       "      <td>5.385165</td>\n",
       "      <td>2.236068</td>\n",
       "      <td>3.741657</td>\n",
       "      <td>1.732051</td>\n",
       "      <td>3.316625</td>\n",
       "      <td>4.242640</td>\n",
       "      <td>...</td>\n",
       "      <td>3.162278</td>\n",
       "      <td>5.196152</td>\n",
       "      <td>9.110434</td>\n",
       "      <td>7.071068</td>\n",
       "      <td>1.000000</td>\n",
       "      <td>3.605551</td>\n",
       "      <td>3.872983</td>\n",
       "      <td>3.605551</td>\n",
       "      <td>6.164414</td>\n",
       "      <td>7.280110</td>\n",
       "    </tr>\n",
       "    <tr>\n",
       "      <th>2</th>\n",
       "      <td>2.236068</td>\n",
       "      <td>2.828427</td>\n",
       "      <td>4.123106</td>\n",
       "      <td>4.690416</td>\n",
       "      <td>6.164414</td>\n",
       "      <td>2.449490</td>\n",
       "      <td>3.872983</td>\n",
       "      <td>2.449490</td>\n",
       "      <td>4.000000</td>\n",
       "      <td>4.582576</td>\n",
       "      <td>...</td>\n",
       "      <td>3.464102</td>\n",
       "      <td>7.483315</td>\n",
       "      <td>9.165152</td>\n",
       "      <td>7.483315</td>\n",
       "      <td>1.732051</td>\n",
       "      <td>7.810250</td>\n",
       "      <td>4.242640</td>\n",
       "      <td>4.358899</td>\n",
       "      <td>6.324555</td>\n",
       "      <td>7.615773</td>\n",
       "    </tr>\n",
       "    <tr>\n",
       "      <th>3</th>\n",
       "      <td>2.236068</td>\n",
       "      <td>3.162278</td>\n",
       "      <td>4.123106</td>\n",
       "      <td>4.898980</td>\n",
       "      <td>6.164414</td>\n",
       "      <td>2.449490</td>\n",
       "      <td>4.123106</td>\n",
       "      <td>2.449490</td>\n",
       "      <td>4.123106</td>\n",
       "      <td>4.582576</td>\n",
       "      <td>...</td>\n",
       "      <td>4.472136</td>\n",
       "      <td>7.615773</td>\n",
       "      <td>9.165152</td>\n",
       "      <td>8.426149</td>\n",
       "      <td>3.162278</td>\n",
       "      <td>7.874008</td>\n",
       "      <td>4.358899</td>\n",
       "      <td>4.472136</td>\n",
       "      <td>6.403124</td>\n",
       "      <td>7.937254</td>\n",
       "    </tr>\n",
       "    <tr>\n",
       "      <th>4</th>\n",
       "      <td>2.236068</td>\n",
       "      <td>3.605551</td>\n",
       "      <td>4.123106</td>\n",
       "      <td>4.898980</td>\n",
       "      <td>6.164414</td>\n",
       "      <td>2.645751</td>\n",
       "      <td>4.123106</td>\n",
       "      <td>2.449490</td>\n",
       "      <td>4.123106</td>\n",
       "      <td>4.690416</td>\n",
       "      <td>...</td>\n",
       "      <td>5.196152</td>\n",
       "      <td>7.615773</td>\n",
       "      <td>9.219544</td>\n",
       "      <td>8.544003</td>\n",
       "      <td>3.316625</td>\n",
       "      <td>8.000000</td>\n",
       "      <td>4.472136</td>\n",
       "      <td>5.291502</td>\n",
       "      <td>6.403124</td>\n",
       "      <td>8.124039</td>\n",
       "    </tr>\n",
       "    <tr>\n",
       "      <th>...</th>\n",
       "      <td>...</td>\n",
       "      <td>...</td>\n",
       "      <td>...</td>\n",
       "      <td>...</td>\n",
       "      <td>...</td>\n",
       "      <td>...</td>\n",
       "      <td>...</td>\n",
       "      <td>...</td>\n",
       "      <td>...</td>\n",
       "      <td>...</td>\n",
       "      <td>...</td>\n",
       "      <td>...</td>\n",
       "      <td>...</td>\n",
       "      <td>...</td>\n",
       "      <td>...</td>\n",
       "      <td>...</td>\n",
       "      <td>...</td>\n",
       "      <td>...</td>\n",
       "      <td>...</td>\n",
       "      <td>...</td>\n",
       "      <td>...</td>\n",
       "    </tr>\n",
       "    <tr>\n",
       "      <th>12049</th>\n",
       "      <td>11.916375</td>\n",
       "      <td>12.041595</td>\n",
       "      <td>12.165525</td>\n",
       "      <td>12.000000</td>\n",
       "      <td>12.369317</td>\n",
       "      <td>11.789826</td>\n",
       "      <td>11.401754</td>\n",
       "      <td>11.789826</td>\n",
       "      <td>12.083046</td>\n",
       "      <td>12.041595</td>\n",
       "      <td>...</td>\n",
       "      <td>13.341664</td>\n",
       "      <td>12.884099</td>\n",
       "      <td>13.152946</td>\n",
       "      <td>13.266500</td>\n",
       "      <td>12.124355</td>\n",
       "      <td>13.152946</td>\n",
       "      <td>12.884099</td>\n",
       "      <td>12.845233</td>\n",
       "      <td>12.369317</td>\n",
       "      <td>13.190906</td>\n",
       "    </tr>\n",
       "    <tr>\n",
       "      <th>12050</th>\n",
       "      <td>11.958261</td>\n",
       "      <td>12.124355</td>\n",
       "      <td>12.288206</td>\n",
       "      <td>12.124355</td>\n",
       "      <td>12.409674</td>\n",
       "      <td>11.958261</td>\n",
       "      <td>11.401754</td>\n",
       "      <td>11.916375</td>\n",
       "      <td>12.206555</td>\n",
       "      <td>12.165525</td>\n",
       "      <td>...</td>\n",
       "      <td>13.379088</td>\n",
       "      <td>13.000000</td>\n",
       "      <td>13.152946</td>\n",
       "      <td>13.304134</td>\n",
       "      <td>12.247449</td>\n",
       "      <td>13.266500</td>\n",
       "      <td>12.961481</td>\n",
       "      <td>12.922848</td>\n",
       "      <td>12.449900</td>\n",
       "      <td>13.341664</td>\n",
       "    </tr>\n",
       "    <tr>\n",
       "      <th>12051</th>\n",
       "      <td>12.083046</td>\n",
       "      <td>12.409674</td>\n",
       "      <td>12.328828</td>\n",
       "      <td>12.409674</td>\n",
       "      <td>12.609520</td>\n",
       "      <td>12.000000</td>\n",
       "      <td>11.704700</td>\n",
       "      <td>11.958261</td>\n",
       "      <td>12.206555</td>\n",
       "      <td>12.206555</td>\n",
       "      <td>...</td>\n",
       "      <td>13.564660</td>\n",
       "      <td>13.038404</td>\n",
       "      <td>13.152946</td>\n",
       "      <td>13.341664</td>\n",
       "      <td>12.288206</td>\n",
       "      <td>13.304134</td>\n",
       "      <td>13.076696</td>\n",
       "      <td>13.114877</td>\n",
       "      <td>12.489996</td>\n",
       "      <td>13.453624</td>\n",
       "    </tr>\n",
       "    <tr>\n",
       "      <th>12052</th>\n",
       "      <td>12.165525</td>\n",
       "      <td>12.489996</td>\n",
       "      <td>12.489996</td>\n",
       "      <td>12.806249</td>\n",
       "      <td>13.076696</td>\n",
       "      <td>12.124355</td>\n",
       "      <td>12.449900</td>\n",
       "      <td>12.124355</td>\n",
       "      <td>12.369317</td>\n",
       "      <td>12.288206</td>\n",
       "      <td>...</td>\n",
       "      <td>13.601471</td>\n",
       "      <td>13.038404</td>\n",
       "      <td>13.266500</td>\n",
       "      <td>13.453624</td>\n",
       "      <td>12.369317</td>\n",
       "      <td>13.638182</td>\n",
       "      <td>13.228757</td>\n",
       "      <td>13.266500</td>\n",
       "      <td>12.569805</td>\n",
       "      <td>13.527749</td>\n",
       "    </tr>\n",
       "    <tr>\n",
       "      <th>12053</th>\n",
       "      <td>12.369317</td>\n",
       "      <td>12.529964</td>\n",
       "      <td>12.529964</td>\n",
       "      <td>12.922848</td>\n",
       "      <td>13.114877</td>\n",
       "      <td>12.247449</td>\n",
       "      <td>12.569805</td>\n",
       "      <td>12.247449</td>\n",
       "      <td>12.649111</td>\n",
       "      <td>12.409674</td>\n",
       "      <td>...</td>\n",
       "      <td>13.638182</td>\n",
       "      <td>13.228757</td>\n",
       "      <td>13.527749</td>\n",
       "      <td>13.638182</td>\n",
       "      <td>12.569805</td>\n",
       "      <td>13.747727</td>\n",
       "      <td>13.490738</td>\n",
       "      <td>13.527749</td>\n",
       "      <td>12.609520</td>\n",
       "      <td>13.564660</td>\n",
       "    </tr>\n",
       "  </tbody>\n",
       "</table>\n",
       "<p>12054 rows × 12054 columns</p>\n",
       "</div>"
      ],
      "text/plain": [
       "           0          1          2          3          4          5      \\\n",
       "0       0.000000   0.000000   0.000000   0.000000   0.000000   0.000000   \n",
       "1       2.000000   2.449490   3.162278   4.358899   5.385165   2.236068   \n",
       "2       2.236068   2.828427   4.123106   4.690416   6.164414   2.449490   \n",
       "3       2.236068   3.162278   4.123106   4.898980   6.164414   2.449490   \n",
       "4       2.236068   3.605551   4.123106   4.898980   6.164414   2.645751   \n",
       "...          ...        ...        ...        ...        ...        ...   \n",
       "12049  11.916375  12.041595  12.165525  12.000000  12.369317  11.789826   \n",
       "12050  11.958261  12.124355  12.288206  12.124355  12.409674  11.958261   \n",
       "12051  12.083046  12.409674  12.328828  12.409674  12.609520  12.000000   \n",
       "12052  12.165525  12.489996  12.489996  12.806249  13.076696  12.124355   \n",
       "12053  12.369317  12.529964  12.529964  12.922848  13.114877  12.247449   \n",
       "\n",
       "           6          7          8          9      ...      12044      12045  \\\n",
       "0       0.000000   0.000000   0.000000   0.000000  ...   0.000000   0.000000   \n",
       "1       3.741657   1.732051   3.316625   4.242640  ...   3.162278   5.196152   \n",
       "2       3.872983   2.449490   4.000000   4.582576  ...   3.464102   7.483315   \n",
       "3       4.123106   2.449490   4.123106   4.582576  ...   4.472136   7.615773   \n",
       "4       4.123106   2.449490   4.123106   4.690416  ...   5.196152   7.615773   \n",
       "...          ...        ...        ...        ...  ...        ...        ...   \n",
       "12049  11.401754  11.789826  12.083046  12.041595  ...  13.341664  12.884099   \n",
       "12050  11.401754  11.916375  12.206555  12.165525  ...  13.379088  13.000000   \n",
       "12051  11.704700  11.958261  12.206555  12.206555  ...  13.564660  13.038404   \n",
       "12052  12.449900  12.124355  12.369317  12.288206  ...  13.601471  13.038404   \n",
       "12053  12.569805  12.247449  12.649111  12.409674  ...  13.638182  13.228757   \n",
       "\n",
       "           12046      12047      12048      12049      12050      12051  \\\n",
       "0       0.000000   0.000000   0.000000   0.000000   0.000000   0.000000   \n",
       "1       9.110434   7.071068   1.000000   3.605551   3.872983   3.605551   \n",
       "2       9.165152   7.483315   1.732051   7.810250   4.242640   4.358899   \n",
       "3       9.165152   8.426149   3.162278   7.874008   4.358899   4.472136   \n",
       "4       9.219544   8.544003   3.316625   8.000000   4.472136   5.291502   \n",
       "...          ...        ...        ...        ...        ...        ...   \n",
       "12049  13.152946  13.266500  12.124355  13.152946  12.884099  12.845233   \n",
       "12050  13.152946  13.304134  12.247449  13.266500  12.961481  12.922848   \n",
       "12051  13.152946  13.341664  12.288206  13.304134  13.076696  13.114877   \n",
       "12052  13.266500  13.453624  12.369317  13.638182  13.228757  13.266500   \n",
       "12053  13.527749  13.638182  12.569805  13.747727  13.490738  13.527749   \n",
       "\n",
       "           12052      12053  \n",
       "0       0.000000   0.000000  \n",
       "1       6.164414   7.280110  \n",
       "2       6.324555   7.615773  \n",
       "3       6.403124   7.937254  \n",
       "4       6.403124   8.124039  \n",
       "...          ...        ...  \n",
       "12049  12.369317  13.190906  \n",
       "12050  12.449900  13.341664  \n",
       "12051  12.489996  13.453624  \n",
       "12052  12.569805  13.527749  \n",
       "12053  12.609520  13.564660  \n",
       "\n",
       "[12054 rows x 12054 columns]"
      ]
     },
     "execution_count": 126,
     "metadata": {},
     "output_type": "execute_result"
    }
   ],
   "source": [
    "df_tr=pd.DataFrame(neighbors_k)\n",
    "df_tr"
   ]
  },
  {
   "cell_type": "code",
   "execution_count": 127,
   "id": "eb9774c9",
   "metadata": {},
   "outputs": [],
   "source": [
    "similarity= neighbors_k"
   ]
  },
  {
   "cell_type": "code",
   "execution_count": 128,
   "id": "d54091b4",
   "metadata": {},
   "outputs": [],
   "source": [
    "Dmean=np.mean(similarity[1,:])"
   ]
  },
  {
   "cell_type": "code",
   "execution_count": 129,
   "id": "7a36847d",
   "metadata": {},
   "outputs": [
    {
     "data": {
      "text/plain": [
       "3.6"
      ]
     },
     "execution_count": 129,
     "metadata": {},
     "output_type": "execute_result"
    }
   ],
   "source": [
    "round(Dmean, 2)"
   ]
  },
  {
   "cell_type": "code",
   "execution_count": 130,
   "id": "7ac76a1b",
   "metadata": {},
   "outputs": [],
   "source": [
    "std=np.std(similarity[1,:])"
   ]
  },
  {
   "cell_type": "code",
   "execution_count": 131,
   "id": "e370d07e",
   "metadata": {},
   "outputs": [
    {
     "data": {
      "text/plain": [
       "1.18"
      ]
     },
     "execution_count": 131,
     "metadata": {},
     "output_type": "execute_result"
    }
   ],
   "source": [
    "round(std, 2)"
   ]
  },
  {
   "cell_type": "code",
   "execution_count": 132,
   "id": "996fc254",
   "metadata": {},
   "outputs": [
    {
     "name": "stdout",
     "output_type": "stream",
     "text": [
      "4.19\n"
     ]
    }
   ],
   "source": [
    "model_AD_limit=Dmean+std*0.5\n",
    "print(np.round(model_AD_limit, 2))"
   ]
  },
  {
   "cell_type": "code",
   "execution_count": 133,
   "id": "9c44df78",
   "metadata": {},
   "outputs": [],
   "source": [
    "neighbors_k_ts= pairwise_distances(x_tr,Y=x_ts, n_jobs=-1)\n",
    "neighbors_k_ts.sort(0)"
   ]
  },
  {
   "cell_type": "code",
   "execution_count": 134,
   "id": "bca6a07a",
   "metadata": {},
   "outputs": [
    {
     "data": {
      "text/html": [
       "<div>\n",
       "<style scoped>\n",
       "    .dataframe tbody tr th:only-of-type {\n",
       "        vertical-align: middle;\n",
       "    }\n",
       "\n",
       "    .dataframe tbody tr th {\n",
       "        vertical-align: top;\n",
       "    }\n",
       "\n",
       "    .dataframe thead th {\n",
       "        text-align: right;\n",
       "    }\n",
       "</style>\n",
       "<table border=\"1\" class=\"dataframe\">\n",
       "  <thead>\n",
       "    <tr style=\"text-align: right;\">\n",
       "      <th></th>\n",
       "      <th>0</th>\n",
       "      <th>1</th>\n",
       "      <th>2</th>\n",
       "      <th>3</th>\n",
       "      <th>4</th>\n",
       "      <th>5</th>\n",
       "      <th>6</th>\n",
       "      <th>7</th>\n",
       "      <th>8</th>\n",
       "      <th>9</th>\n",
       "      <th>...</th>\n",
       "      <th>3004</th>\n",
       "      <th>3005</th>\n",
       "      <th>3006</th>\n",
       "      <th>3007</th>\n",
       "      <th>3008</th>\n",
       "      <th>3009</th>\n",
       "      <th>3010</th>\n",
       "      <th>3011</th>\n",
       "      <th>3012</th>\n",
       "      <th>3013</th>\n",
       "    </tr>\n",
       "  </thead>\n",
       "  <tbody>\n",
       "    <tr>\n",
       "      <th>0</th>\n",
       "      <td>2.000000</td>\n",
       "      <td>3.162278</td>\n",
       "      <td>2.828427</td>\n",
       "      <td>4.123106</td>\n",
       "      <td>2.645751</td>\n",
       "      <td>2.828427</td>\n",
       "      <td>3.464102</td>\n",
       "      <td>3.464102</td>\n",
       "      <td>2.000000</td>\n",
       "      <td>2.645751</td>\n",
       "      <td>...</td>\n",
       "      <td>3.162278</td>\n",
       "      <td>6.557438</td>\n",
       "      <td>4.898980</td>\n",
       "      <td>3.464102</td>\n",
       "      <td>3.872983</td>\n",
       "      <td>3.605551</td>\n",
       "      <td>4.898980</td>\n",
       "      <td>3.000000</td>\n",
       "      <td>3.162278</td>\n",
       "      <td>5.656854</td>\n",
       "    </tr>\n",
       "    <tr>\n",
       "      <th>1</th>\n",
       "      <td>2.236068</td>\n",
       "      <td>3.162278</td>\n",
       "      <td>3.000000</td>\n",
       "      <td>4.242640</td>\n",
       "      <td>3.000000</td>\n",
       "      <td>3.000000</td>\n",
       "      <td>3.464102</td>\n",
       "      <td>3.872983</td>\n",
       "      <td>2.236068</td>\n",
       "      <td>2.828427</td>\n",
       "      <td>...</td>\n",
       "      <td>4.795832</td>\n",
       "      <td>6.782330</td>\n",
       "      <td>5.744563</td>\n",
       "      <td>3.605551</td>\n",
       "      <td>5.291502</td>\n",
       "      <td>5.385165</td>\n",
       "      <td>5.385165</td>\n",
       "      <td>7.141428</td>\n",
       "      <td>3.316625</td>\n",
       "      <td>5.916080</td>\n",
       "    </tr>\n",
       "    <tr>\n",
       "      <th>2</th>\n",
       "      <td>2.236068</td>\n",
       "      <td>3.316625</td>\n",
       "      <td>3.000000</td>\n",
       "      <td>4.242640</td>\n",
       "      <td>3.162278</td>\n",
       "      <td>3.000000</td>\n",
       "      <td>3.464102</td>\n",
       "      <td>4.000000</td>\n",
       "      <td>2.236068</td>\n",
       "      <td>3.316625</td>\n",
       "      <td>...</td>\n",
       "      <td>5.000000</td>\n",
       "      <td>7.615773</td>\n",
       "      <td>5.744563</td>\n",
       "      <td>3.741657</td>\n",
       "      <td>5.291502</td>\n",
       "      <td>6.855655</td>\n",
       "      <td>5.385165</td>\n",
       "      <td>7.549834</td>\n",
       "      <td>7.937254</td>\n",
       "      <td>6.082763</td>\n",
       "    </tr>\n",
       "    <tr>\n",
       "      <th>3</th>\n",
       "      <td>2.645751</td>\n",
       "      <td>3.316625</td>\n",
       "      <td>3.316625</td>\n",
       "      <td>4.242640</td>\n",
       "      <td>3.162278</td>\n",
       "      <td>3.162278</td>\n",
       "      <td>4.123106</td>\n",
       "      <td>4.000000</td>\n",
       "      <td>2.645751</td>\n",
       "      <td>3.316625</td>\n",
       "      <td>...</td>\n",
       "      <td>5.099020</td>\n",
       "      <td>7.745967</td>\n",
       "      <td>5.830952</td>\n",
       "      <td>3.872983</td>\n",
       "      <td>5.477226</td>\n",
       "      <td>7.000000</td>\n",
       "      <td>5.477226</td>\n",
       "      <td>8.485281</td>\n",
       "      <td>8.000000</td>\n",
       "      <td>6.082763</td>\n",
       "    </tr>\n",
       "    <tr>\n",
       "      <th>4</th>\n",
       "      <td>2.828427</td>\n",
       "      <td>3.464102</td>\n",
       "      <td>3.464102</td>\n",
       "      <td>4.358899</td>\n",
       "      <td>3.162278</td>\n",
       "      <td>3.162278</td>\n",
       "      <td>4.242640</td>\n",
       "      <td>4.000000</td>\n",
       "      <td>2.645751</td>\n",
       "      <td>3.316625</td>\n",
       "      <td>...</td>\n",
       "      <td>5.099020</td>\n",
       "      <td>7.810250</td>\n",
       "      <td>5.916080</td>\n",
       "      <td>4.000000</td>\n",
       "      <td>5.477226</td>\n",
       "      <td>7.000000</td>\n",
       "      <td>5.477226</td>\n",
       "      <td>8.485281</td>\n",
       "      <td>8.062258</td>\n",
       "      <td>6.244998</td>\n",
       "    </tr>\n",
       "    <tr>\n",
       "      <th>...</th>\n",
       "      <td>...</td>\n",
       "      <td>...</td>\n",
       "      <td>...</td>\n",
       "      <td>...</td>\n",
       "      <td>...</td>\n",
       "      <td>...</td>\n",
       "      <td>...</td>\n",
       "      <td>...</td>\n",
       "      <td>...</td>\n",
       "      <td>...</td>\n",
       "      <td>...</td>\n",
       "      <td>...</td>\n",
       "      <td>...</td>\n",
       "      <td>...</td>\n",
       "      <td>...</td>\n",
       "      <td>...</td>\n",
       "      <td>...</td>\n",
       "      <td>...</td>\n",
       "      <td>...</td>\n",
       "      <td>...</td>\n",
       "      <td>...</td>\n",
       "    </tr>\n",
       "    <tr>\n",
       "      <th>12049</th>\n",
       "      <td>11.789826</td>\n",
       "      <td>12.288206</td>\n",
       "      <td>11.958261</td>\n",
       "      <td>11.789826</td>\n",
       "      <td>11.958261</td>\n",
       "      <td>11.916375</td>\n",
       "      <td>11.958261</td>\n",
       "      <td>12.000000</td>\n",
       "      <td>11.874342</td>\n",
       "      <td>11.958261</td>\n",
       "      <td>...</td>\n",
       "      <td>12.328828</td>\n",
       "      <td>12.449900</td>\n",
       "      <td>13.266500</td>\n",
       "      <td>12.206555</td>\n",
       "      <td>12.409674</td>\n",
       "      <td>12.727922</td>\n",
       "      <td>11.789826</td>\n",
       "      <td>13.304134</td>\n",
       "      <td>12.922848</td>\n",
       "      <td>12.165525</td>\n",
       "    </tr>\n",
       "    <tr>\n",
       "      <th>12050</th>\n",
       "      <td>11.916375</td>\n",
       "      <td>12.328828</td>\n",
       "      <td>11.958261</td>\n",
       "      <td>11.958261</td>\n",
       "      <td>12.083046</td>\n",
       "      <td>11.916375</td>\n",
       "      <td>12.083046</td>\n",
       "      <td>12.165525</td>\n",
       "      <td>12.041595</td>\n",
       "      <td>12.124355</td>\n",
       "      <td>...</td>\n",
       "      <td>12.449900</td>\n",
       "      <td>12.529964</td>\n",
       "      <td>13.416408</td>\n",
       "      <td>12.328828</td>\n",
       "      <td>12.449900</td>\n",
       "      <td>12.806249</td>\n",
       "      <td>11.832160</td>\n",
       "      <td>13.304134</td>\n",
       "      <td>12.961481</td>\n",
       "      <td>12.288206</td>\n",
       "    </tr>\n",
       "    <tr>\n",
       "      <th>12051</th>\n",
       "      <td>11.958261</td>\n",
       "      <td>12.449900</td>\n",
       "      <td>12.000000</td>\n",
       "      <td>12.247449</td>\n",
       "      <td>12.124355</td>\n",
       "      <td>12.041595</td>\n",
       "      <td>12.247449</td>\n",
       "      <td>12.206555</td>\n",
       "      <td>12.165525</td>\n",
       "      <td>12.206555</td>\n",
       "      <td>...</td>\n",
       "      <td>12.529964</td>\n",
       "      <td>12.727922</td>\n",
       "      <td>13.674794</td>\n",
       "      <td>12.369317</td>\n",
       "      <td>12.649111</td>\n",
       "      <td>12.922848</td>\n",
       "      <td>12.000000</td>\n",
       "      <td>13.341664</td>\n",
       "      <td>12.961481</td>\n",
       "      <td>12.569805</td>\n",
       "    </tr>\n",
       "    <tr>\n",
       "      <th>12052</th>\n",
       "      <td>12.124355</td>\n",
       "      <td>12.529964</td>\n",
       "      <td>12.124355</td>\n",
       "      <td>12.247449</td>\n",
       "      <td>12.288206</td>\n",
       "      <td>12.165525</td>\n",
       "      <td>12.727922</td>\n",
       "      <td>12.328828</td>\n",
       "      <td>12.206555</td>\n",
       "      <td>12.247449</td>\n",
       "      <td>...</td>\n",
       "      <td>12.609520</td>\n",
       "      <td>12.727922</td>\n",
       "      <td>13.747727</td>\n",
       "      <td>12.449900</td>\n",
       "      <td>12.806249</td>\n",
       "      <td>12.922848</td>\n",
       "      <td>12.083046</td>\n",
       "      <td>13.490738</td>\n",
       "      <td>13.152946</td>\n",
       "      <td>12.569805</td>\n",
       "    </tr>\n",
       "    <tr>\n",
       "      <th>12053</th>\n",
       "      <td>12.247449</td>\n",
       "      <td>12.727922</td>\n",
       "      <td>12.247449</td>\n",
       "      <td>12.449900</td>\n",
       "      <td>12.409674</td>\n",
       "      <td>12.206555</td>\n",
       "      <td>12.845233</td>\n",
       "      <td>12.449900</td>\n",
       "      <td>12.328828</td>\n",
       "      <td>12.409674</td>\n",
       "      <td>...</td>\n",
       "      <td>12.884099</td>\n",
       "      <td>12.922848</td>\n",
       "      <td>13.784049</td>\n",
       "      <td>12.649111</td>\n",
       "      <td>13.076696</td>\n",
       "      <td>13.038404</td>\n",
       "      <td>12.288206</td>\n",
       "      <td>13.674794</td>\n",
       "      <td>13.228757</td>\n",
       "      <td>12.688578</td>\n",
       "    </tr>\n",
       "  </tbody>\n",
       "</table>\n",
       "<p>12054 rows × 3014 columns</p>\n",
       "</div>"
      ],
      "text/plain": [
       "            0          1          2          3          4          5     \\\n",
       "0       2.000000   3.162278   2.828427   4.123106   2.645751   2.828427   \n",
       "1       2.236068   3.162278   3.000000   4.242640   3.000000   3.000000   \n",
       "2       2.236068   3.316625   3.000000   4.242640   3.162278   3.000000   \n",
       "3       2.645751   3.316625   3.316625   4.242640   3.162278   3.162278   \n",
       "4       2.828427   3.464102   3.464102   4.358899   3.162278   3.162278   \n",
       "...          ...        ...        ...        ...        ...        ...   \n",
       "12049  11.789826  12.288206  11.958261  11.789826  11.958261  11.916375   \n",
       "12050  11.916375  12.328828  11.958261  11.958261  12.083046  11.916375   \n",
       "12051  11.958261  12.449900  12.000000  12.247449  12.124355  12.041595   \n",
       "12052  12.124355  12.529964  12.124355  12.247449  12.288206  12.165525   \n",
       "12053  12.247449  12.727922  12.247449  12.449900  12.409674  12.206555   \n",
       "\n",
       "            6          7          8          9     ...       3004       3005  \\\n",
       "0       3.464102   3.464102   2.000000   2.645751  ...   3.162278   6.557438   \n",
       "1       3.464102   3.872983   2.236068   2.828427  ...   4.795832   6.782330   \n",
       "2       3.464102   4.000000   2.236068   3.316625  ...   5.000000   7.615773   \n",
       "3       4.123106   4.000000   2.645751   3.316625  ...   5.099020   7.745967   \n",
       "4       4.242640   4.000000   2.645751   3.316625  ...   5.099020   7.810250   \n",
       "...          ...        ...        ...        ...  ...        ...        ...   \n",
       "12049  11.958261  12.000000  11.874342  11.958261  ...  12.328828  12.449900   \n",
       "12050  12.083046  12.165525  12.041595  12.124355  ...  12.449900  12.529964   \n",
       "12051  12.247449  12.206555  12.165525  12.206555  ...  12.529964  12.727922   \n",
       "12052  12.727922  12.328828  12.206555  12.247449  ...  12.609520  12.727922   \n",
       "12053  12.845233  12.449900  12.328828  12.409674  ...  12.884099  12.922848   \n",
       "\n",
       "            3006       3007       3008       3009       3010       3011  \\\n",
       "0       4.898980   3.464102   3.872983   3.605551   4.898980   3.000000   \n",
       "1       5.744563   3.605551   5.291502   5.385165   5.385165   7.141428   \n",
       "2       5.744563   3.741657   5.291502   6.855655   5.385165   7.549834   \n",
       "3       5.830952   3.872983   5.477226   7.000000   5.477226   8.485281   \n",
       "4       5.916080   4.000000   5.477226   7.000000   5.477226   8.485281   \n",
       "...          ...        ...        ...        ...        ...        ...   \n",
       "12049  13.266500  12.206555  12.409674  12.727922  11.789826  13.304134   \n",
       "12050  13.416408  12.328828  12.449900  12.806249  11.832160  13.304134   \n",
       "12051  13.674794  12.369317  12.649111  12.922848  12.000000  13.341664   \n",
       "12052  13.747727  12.449900  12.806249  12.922848  12.083046  13.490738   \n",
       "12053  13.784049  12.649111  13.076696  13.038404  12.288206  13.674794   \n",
       "\n",
       "            3012       3013  \n",
       "0       3.162278   5.656854  \n",
       "1       3.316625   5.916080  \n",
       "2       7.937254   6.082763  \n",
       "3       8.000000   6.082763  \n",
       "4       8.062258   6.244998  \n",
       "...          ...        ...  \n",
       "12049  12.922848  12.165525  \n",
       "12050  12.961481  12.288206  \n",
       "12051  12.961481  12.569805  \n",
       "12052  13.152946  12.569805  \n",
       "12053  13.228757  12.688578  \n",
       "\n",
       "[12054 rows x 3014 columns]"
      ]
     },
     "execution_count": 134,
     "metadata": {},
     "output_type": "execute_result"
    }
   ],
   "source": [
    "x_ts_AD=pd.DataFrame(neighbors_k_ts)\n",
    "x_ts_AD"
   ]
  },
  {
   "cell_type": "code",
   "execution_count": 135,
   "id": "b6cacf39",
   "metadata": {},
   "outputs": [
    {
     "name": "stdout",
     "output_type": "stream",
     "text": [
      "[2.    3.162 2.828 ... 3.    3.162 5.657]\n"
     ]
    }
   ],
   "source": [
    "similarity_ts= neighbors_k_ts\n",
    "cpd_AD=similarity_ts[0,:]\n",
    "cpd_value = np.round(cpd_AD, 3)\n",
    "print(cpd_value)"
   ]
  },
  {
   "cell_type": "code",
   "execution_count": 136,
   "id": "b316abb2",
   "metadata": {},
   "outputs": [
    {
     "name": "stdout",
     "output_type": "stream",
     "text": [
      "[ True  True  True ...  True  True False]\n"
     ]
    }
   ],
   "source": [
    "cpd_AD = np.where(cpd_value <= model_AD_limit, True, False)\n",
    "print(cpd_AD)"
   ]
  },
  {
   "cell_type": "code",
   "execution_count": 137,
   "id": "e977095b",
   "metadata": {},
   "outputs": [
    {
     "name": "stdout",
     "output_type": "stream",
     "text": [
      "Coverage =  0.7438619774386198\n"
     ]
    }
   ],
   "source": [
    "print(\"Coverage = \", sum(cpd_AD) / len(cpd_AD))"
   ]
  },
  {
   "cell_type": "code",
   "execution_count": 138,
   "id": "72dd9f6a",
   "metadata": {},
   "outputs": [
    {
     "name": "stdout",
     "output_type": "stream",
     "text": [
      "Indices of substances included in AD =  [   0    1    2 ... 3009 3011 3012]\n"
     ]
    }
   ],
   "source": [
    "print(\"Indices of substances included in AD = \", np.where(cpd_AD != 0)[0])"
   ]
  },
  {
   "cell_type": "code",
   "execution_count": 139,
   "id": "027b6964",
   "metadata": {},
   "outputs": [],
   "source": [
    "out_Ad=list(np.where(cpd_AD == 0)[0])"
   ]
  },
  {
   "cell_type": "markdown",
   "id": "630bc151",
   "metadata": {},
   "source": [
    "## Prediction only for molecules included in  AD"
   ]
  },
  {
   "cell_type": "code",
   "execution_count": 140,
   "id": "ea564892",
   "metadata": {},
   "outputs": [],
   "source": [
    "y_pred_con_ad=list(y_pred_con)"
   ]
  },
  {
   "cell_type": "code",
   "execution_count": 141,
   "id": "d02baef7",
   "metadata": {},
   "outputs": [],
   "source": [
    "y_pred_con_ad[:] = [x for i,x in enumerate(y_pred_con_ad) if i not in out_Ad]"
   ]
  },
  {
   "cell_type": "code",
   "execution_count": 142,
   "id": "fd45d8b8",
   "metadata": {},
   "outputs": [
    {
     "data": {
      "text/plain": [
       "2242"
      ]
     },
     "execution_count": 142,
     "metadata": {},
     "output_type": "execute_result"
    }
   ],
   "source": [
    "len(y_pred_con_ad)"
   ]
  },
  {
   "cell_type": "code",
   "execution_count": 143,
   "id": "d4d13d08",
   "metadata": {},
   "outputs": [],
   "source": [
    "y_ts_ad=list(y_ts)"
   ]
  },
  {
   "cell_type": "code",
   "execution_count": 144,
   "id": "7116e83a",
   "metadata": {},
   "outputs": [],
   "source": [
    "y_ts_ad[:] = [x for i,x in enumerate(y_ts_ad) if i not in out_Ad]"
   ]
  },
  {
   "cell_type": "code",
   "execution_count": 145,
   "id": "d2815d43",
   "metadata": {},
   "outputs": [
    {
     "data": {
      "text/plain": [
       "2242"
      ]
     },
     "execution_count": 145,
     "metadata": {},
     "output_type": "execute_result"
    }
   ],
   "source": [
    "len(y_ts_ad)"
   ]
  },
  {
   "cell_type": "code",
   "execution_count": 148,
   "id": "3612ac23",
   "metadata": {},
   "outputs": [
    {
     "data": {
      "text/plain": [
       "0.64"
      ]
     },
     "execution_count": 148,
     "metadata": {},
     "output_type": "execute_result"
    }
   ],
   "source": [
    "Q2_TS = round(r2_score(y_ts_ad, y_pred_con_ad), 2)\n",
    "Q2_TS"
   ]
  },
  {
   "cell_type": "code",
   "execution_count": 149,
   "id": "d6fe6a5b",
   "metadata": {},
   "outputs": [
    {
     "data": {
      "text/plain": [
       "0.4"
      ]
     },
     "execution_count": 149,
     "metadata": {},
     "output_type": "execute_result"
    }
   ],
   "source": [
    "RMSE_TS=round(np.sqrt(mean_squared_error(y_ts_ad, y_pred_con_ad)), 2)\n",
    "RMSE_TS"
   ]
  },
  {
   "cell_type": "markdown",
   "id": "9c231825",
   "metadata": {},
   "source": [
    "# MACCS -RF"
   ]
  },
  {
   "cell_type": "markdown",
   "id": "54767dec",
   "metadata": {},
   "source": [
    "## Calculation MACCS Fingerprints for work set"
   ]
  },
  {
   "cell_type": "code",
   "execution_count": 150,
   "id": "a00a1d6e",
   "metadata": {},
   "outputs": [],
   "source": [
    "from rdkit.Chem import MACCSkeys"
   ]
  },
  {
   "cell_type": "code",
   "execution_count": 151,
   "id": "497974db",
   "metadata": {},
   "outputs": [],
   "source": [
    "fp_tr = [MACCSkeys.GenMACCSKeys(m) for m in moldf_ws]"
   ]
  },
  {
   "cell_type": "code",
   "execution_count": 152,
   "id": "12324890",
   "metadata": {},
   "outputs": [],
   "source": [
    "def rdkit_numpy_convert(fp_tr):\n",
    "    output = []\n",
    "    for f in fp_tr:\n",
    "        arr = np.zeros((1,))\n",
    "        DataStructs.ConvertToNumpyArray(f, arr)\n",
    "        output.append(arr)\n",
    "    return np.asarray(output)"
   ]
  },
  {
   "cell_type": "code",
   "execution_count": 153,
   "id": "3b5343f6",
   "metadata": {},
   "outputs": [],
   "source": [
    "from numpy import savetxt\n",
    "x_tr = rdkit_numpy_convert(fp_tr)"
   ]
  },
  {
   "cell_type": "code",
   "execution_count": 154,
   "id": "c033392e",
   "metadata": {},
   "outputs": [],
   "source": [
    "savetxt('Models/MACCS/x_tr_MACCS.csv', x_tr, delimiter=',')"
   ]
  },
  {
   "cell_type": "code",
   "execution_count": 155,
   "id": "ea6963b3",
   "metadata": {},
   "outputs": [
    {
     "data": {
      "text/plain": [
       "(12054, 167)"
      ]
     },
     "execution_count": 155,
     "metadata": {},
     "output_type": "execute_result"
    }
   ],
   "source": [
    "x_tr.shape"
   ]
  },
  {
   "cell_type": "markdown",
   "id": "3ec36c2a",
   "metadata": {},
   "source": [
    "## Calculation  MACCS Fingerprint for test set"
   ]
  },
  {
   "cell_type": "code",
   "execution_count": 156,
   "id": "1e568a0f",
   "metadata": {},
   "outputs": [],
   "source": [
    "fp_ts = [MACCSkeys.GenMACCSKeys(m) for m in moldf_ts]"
   ]
  },
  {
   "cell_type": "code",
   "execution_count": 157,
   "id": "1f5f2b73",
   "metadata": {},
   "outputs": [],
   "source": [
    "def rdkit_numpy_convert(fp_ts):\n",
    "    output = []\n",
    "    for f in fp_ts:\n",
    "        arr = np.zeros((1,))\n",
    "        DataStructs.ConvertToNumpyArray(f, arr)\n",
    "        output.append(arr)\n",
    "    return np.asarray(output)"
   ]
  },
  {
   "cell_type": "code",
   "execution_count": 158,
   "id": "b812f748",
   "metadata": {},
   "outputs": [],
   "source": [
    "x_ts = rdkit_numpy_convert(fp_ts)"
   ]
  },
  {
   "cell_type": "code",
   "execution_count": 159,
   "id": "229537ed",
   "metadata": {},
   "outputs": [
    {
     "data": {
      "text/plain": [
       "(3014, 167)"
      ]
     },
     "execution_count": 159,
     "metadata": {},
     "output_type": "execute_result"
    }
   ],
   "source": [
    "x_ts.shape"
   ]
  },
  {
   "cell_type": "code",
   "execution_count": 160,
   "id": "382652e3",
   "metadata": {},
   "outputs": [],
   "source": [
    "x_tr = np.array(x_tr, dtype=np.float32)\n",
    "y_tr = np.array(y_tr, dtype=np.float32)"
   ]
  },
  {
   "cell_type": "markdown",
   "id": "13e12910",
   "metadata": {},
   "source": [
    "##  Random forest model building and validation¶"
   ]
  },
  {
   "cell_type": "code",
   "execution_count": 161,
   "id": "017b9483",
   "metadata": {},
   "outputs": [],
   "source": [
    "seed = 42"
   ]
  },
  {
   "cell_type": "code",
   "execution_count": 162,
   "id": "2b9feb96",
   "metadata": {},
   "outputs": [],
   "source": [
    "cv=KFold(n_splits=5, random_state=seed, shuffle=True)"
   ]
  },
  {
   "cell_type": "code",
   "execution_count": 46,
   "id": "360500ba",
   "metadata": {},
   "outputs": [],
   "source": [
    "param_grid = {\"max_features\": [x_tr.shape[1] // 10, x_tr.shape[1] // 7, x_tr.shape[1] // 5, x_tr.shape[1] // 3, x_tr.shape[1] // 2],\n",
    "              \"n_estimators\": [100, 250, 500, 1000]}"
   ]
  },
  {
   "cell_type": "code",
   "execution_count": 47,
   "id": "b13029a3",
   "metadata": {},
   "outputs": [],
   "source": [
    "m = GridSearchCV(RandomForestRegressor(), param_grid, n_jobs=2, cv=cv, verbose=1)"
   ]
  },
  {
   "cell_type": "code",
   "execution_count": 165,
   "id": "37aff82f",
   "metadata": {},
   "outputs": [
    {
     "name": "stdout",
     "output_type": "stream",
     "text": [
      "Fitting 5 folds for each of 20 candidates, totalling 100 fits\n"
     ]
    },
    {
     "data": {
      "text/html": [
       "<style>#sk-container-id-3 {color: black;}#sk-container-id-3 pre{padding: 0;}#sk-container-id-3 div.sk-toggleable {background-color: white;}#sk-container-id-3 label.sk-toggleable__label {cursor: pointer;display: block;width: 100%;margin-bottom: 0;padding: 0.3em;box-sizing: border-box;text-align: center;}#sk-container-id-3 label.sk-toggleable__label-arrow:before {content: \"▸\";float: left;margin-right: 0.25em;color: #696969;}#sk-container-id-3 label.sk-toggleable__label-arrow:hover:before {color: black;}#sk-container-id-3 div.sk-estimator:hover label.sk-toggleable__label-arrow:before {color: black;}#sk-container-id-3 div.sk-toggleable__content {max-height: 0;max-width: 0;overflow: hidden;text-align: left;background-color: #f0f8ff;}#sk-container-id-3 div.sk-toggleable__content pre {margin: 0.2em;color: black;border-radius: 0.25em;background-color: #f0f8ff;}#sk-container-id-3 input.sk-toggleable__control:checked~div.sk-toggleable__content {max-height: 200px;max-width: 100%;overflow: auto;}#sk-container-id-3 input.sk-toggleable__control:checked~label.sk-toggleable__label-arrow:before {content: \"▾\";}#sk-container-id-3 div.sk-estimator input.sk-toggleable__control:checked~label.sk-toggleable__label {background-color: #d4ebff;}#sk-container-id-3 div.sk-label input.sk-toggleable__control:checked~label.sk-toggleable__label {background-color: #d4ebff;}#sk-container-id-3 input.sk-hidden--visually {border: 0;clip: rect(1px 1px 1px 1px);clip: rect(1px, 1px, 1px, 1px);height: 1px;margin: -1px;overflow: hidden;padding: 0;position: absolute;width: 1px;}#sk-container-id-3 div.sk-estimator {font-family: monospace;background-color: #f0f8ff;border: 1px dotted black;border-radius: 0.25em;box-sizing: border-box;margin-bottom: 0.5em;}#sk-container-id-3 div.sk-estimator:hover {background-color: #d4ebff;}#sk-container-id-3 div.sk-parallel-item::after {content: \"\";width: 100%;border-bottom: 1px solid gray;flex-grow: 1;}#sk-container-id-3 div.sk-label:hover label.sk-toggleable__label {background-color: #d4ebff;}#sk-container-id-3 div.sk-serial::before {content: \"\";position: absolute;border-left: 1px solid gray;box-sizing: border-box;top: 0;bottom: 0;left: 50%;z-index: 0;}#sk-container-id-3 div.sk-serial {display: flex;flex-direction: column;align-items: center;background-color: white;padding-right: 0.2em;padding-left: 0.2em;position: relative;}#sk-container-id-3 div.sk-item {position: relative;z-index: 1;}#sk-container-id-3 div.sk-parallel {display: flex;align-items: stretch;justify-content: center;background-color: white;position: relative;}#sk-container-id-3 div.sk-item::before, #sk-container-id-3 div.sk-parallel-item::before {content: \"\";position: absolute;border-left: 1px solid gray;box-sizing: border-box;top: 0;bottom: 0;left: 50%;z-index: -1;}#sk-container-id-3 div.sk-parallel-item {display: flex;flex-direction: column;z-index: 1;position: relative;background-color: white;}#sk-container-id-3 div.sk-parallel-item:first-child::after {align-self: flex-end;width: 50%;}#sk-container-id-3 div.sk-parallel-item:last-child::after {align-self: flex-start;width: 50%;}#sk-container-id-3 div.sk-parallel-item:only-child::after {width: 0;}#sk-container-id-3 div.sk-dashed-wrapped {border: 1px dashed gray;margin: 0 0.4em 0.5em 0.4em;box-sizing: border-box;padding-bottom: 0.4em;background-color: white;}#sk-container-id-3 div.sk-label label {font-family: monospace;font-weight: bold;display: inline-block;line-height: 1.2em;}#sk-container-id-3 div.sk-label-container {text-align: center;}#sk-container-id-3 div.sk-container {/* jupyter's `normalize.less` sets `[hidden] { display: none; }` but bootstrap.min.css set `[hidden] { display: none !important; }` so we also need the `!important` here to be able to override the default hidden behavior on the sphinx rendered scikit-learn.org. See: https://github.com/scikit-learn/scikit-learn/issues/21755 */display: inline-block !important;position: relative;}#sk-container-id-3 div.sk-text-repr-fallback {display: none;}</style><div id=\"sk-container-id-3\" class=\"sk-top-container\"><div class=\"sk-text-repr-fallback\"><pre>GridSearchCV(cv=KFold(n_splits=5, random_state=42, shuffle=True),\n",
       "             estimator=RandomForestRegressor(), n_jobs=2,\n",
       "             param_grid={&#x27;max_features&#x27;: [16, 23, 33, 55, 83],\n",
       "                         &#x27;n_estimators&#x27;: [100, 250, 500, 1000]},\n",
       "             verbose=1)</pre><b>In a Jupyter environment, please rerun this cell to show the HTML representation or trust the notebook. <br />On GitHub, the HTML representation is unable to render, please try loading this page with nbviewer.org.</b></div><div class=\"sk-container\" hidden><div class=\"sk-item sk-dashed-wrapped\"><div class=\"sk-label-container\"><div class=\"sk-label sk-toggleable\"><input class=\"sk-toggleable__control sk-hidden--visually\" id=\"sk-estimator-id-7\" type=\"checkbox\" ><label for=\"sk-estimator-id-7\" class=\"sk-toggleable__label sk-toggleable__label-arrow\">GridSearchCV</label><div class=\"sk-toggleable__content\"><pre>GridSearchCV(cv=KFold(n_splits=5, random_state=42, shuffle=True),\n",
       "             estimator=RandomForestRegressor(), n_jobs=2,\n",
       "             param_grid={&#x27;max_features&#x27;: [16, 23, 33, 55, 83],\n",
       "                         &#x27;n_estimators&#x27;: [100, 250, 500, 1000]},\n",
       "             verbose=1)</pre></div></div></div><div class=\"sk-parallel\"><div class=\"sk-parallel-item\"><div class=\"sk-item\"><div class=\"sk-label-container\"><div class=\"sk-label sk-toggleable\"><input class=\"sk-toggleable__control sk-hidden--visually\" id=\"sk-estimator-id-8\" type=\"checkbox\" ><label for=\"sk-estimator-id-8\" class=\"sk-toggleable__label sk-toggleable__label-arrow\">estimator: RandomForestRegressor</label><div class=\"sk-toggleable__content\"><pre>RandomForestRegressor()</pre></div></div></div><div class=\"sk-serial\"><div class=\"sk-item\"><div class=\"sk-estimator sk-toggleable\"><input class=\"sk-toggleable__control sk-hidden--visually\" id=\"sk-estimator-id-9\" type=\"checkbox\" ><label for=\"sk-estimator-id-9\" class=\"sk-toggleable__label sk-toggleable__label-arrow\">RandomForestRegressor</label><div class=\"sk-toggleable__content\"><pre>RandomForestRegressor()</pre></div></div></div></div></div></div></div></div></div></div>"
      ],
      "text/plain": [
       "GridSearchCV(cv=KFold(n_splits=5, random_state=42, shuffle=True),\n",
       "             estimator=RandomForestRegressor(), n_jobs=2,\n",
       "             param_grid={'max_features': [16, 23, 33, 55, 83],\n",
       "                         'n_estimators': [100, 250, 500, 1000]},\n",
       "             verbose=1)"
      ]
     },
     "execution_count": 165,
     "metadata": {},
     "output_type": "execute_result"
    }
   ],
   "source": [
    "m.fit(x_tr, y_tr)"
   ]
  },
  {
   "cell_type": "code",
   "execution_count": 166,
   "id": "4e328aa8",
   "metadata": {},
   "outputs": [],
   "source": [
    "m.best_params_\n",
    "best_RF = m.best_estimator_"
   ]
  },
  {
   "cell_type": "code",
   "execution_count": 167,
   "id": "effc91b6",
   "metadata": {},
   "outputs": [
    {
     "data": {
      "text/plain": [
       "{'max_features': 55, 'n_estimators': 1000}"
      ]
     },
     "execution_count": 167,
     "metadata": {},
     "output_type": "execute_result"
    }
   ],
   "source": [
    "m.best_params_"
   ]
  },
  {
   "cell_type": "code",
   "execution_count": 164,
   "id": "dadb149d",
   "metadata": {},
   "outputs": [],
   "source": [
    "y_pred_CV_RF = cross_val_predict(best_RF, x_tr, y_tr, cv=cv)"
   ]
  },
  {
   "cell_type": "code",
   "execution_count": 165,
   "id": "5e780b69",
   "metadata": {},
   "outputs": [
    {
     "data": {
      "text/plain": [
       "0.53"
      ]
     },
     "execution_count": 165,
     "metadata": {},
     "output_type": "execute_result"
    }
   ],
   "source": [
    "Q2_CV = round(r2_score(y_tr, y_pred_CV_RF), 2)\n",
    "Q2_CV"
   ]
  },
  {
   "cell_type": "code",
   "execution_count": 167,
   "id": "003d34a4",
   "metadata": {},
   "outputs": [
    {
     "data": {
      "text/plain": [
       "0.46"
      ]
     },
     "execution_count": 167,
     "metadata": {},
     "output_type": "execute_result"
    }
   ],
   "source": [
    "RMSE_CV=round(np.sqrt(mean_squared_error(y_tr, y_pred_CV_RF)), 2)\n",
    "RMSE_CV"
   ]
  },
  {
   "cell_type": "markdown",
   "id": "8a65f9a0",
   "metadata": {},
   "source": [
    "##  Prediction for test set's molecules"
   ]
  },
  {
   "cell_type": "code",
   "execution_count": 168,
   "id": "12345908",
   "metadata": {},
   "outputs": [],
   "source": [
    "x_ts = np.array(x_ts, dtype=np.float32)\n",
    "y_ts = np.array(y_ts, dtype=np.float32)"
   ]
  },
  {
   "cell_type": "code",
   "execution_count": 169,
   "id": "17094652",
   "metadata": {},
   "outputs": [
    {
     "data": {
      "text/plain": [
       "3014"
      ]
     },
     "execution_count": 169,
     "metadata": {},
     "output_type": "execute_result"
    }
   ],
   "source": [
    "len(y_ts)"
   ]
  },
  {
   "cell_type": "code",
   "execution_count": 170,
   "id": "b4f412ec",
   "metadata": {},
   "outputs": [],
   "source": [
    "y_pred_rf = best_RF.predict(x_ts)"
   ]
  },
  {
   "cell_type": "code",
   "execution_count": 171,
   "id": "dac61efd",
   "metadata": {},
   "outputs": [
    {
     "data": {
      "text/plain": [
       "0.55"
      ]
     },
     "execution_count": 171,
     "metadata": {},
     "output_type": "execute_result"
    }
   ],
   "source": [
    "Q2_TS = round(r2_score(y_ts, y_pred_rf), 2)\n",
    "Q2_TS"
   ]
  },
  {
   "cell_type": "code",
   "execution_count": 173,
   "id": "a180a5f3",
   "metadata": {},
   "outputs": [
    {
     "data": {
      "text/plain": [
       "0.45"
      ]
     },
     "execution_count": 173,
     "metadata": {},
     "output_type": "execute_result"
    }
   ],
   "source": [
    "RMSE_TS=round(np.sqrt(mean_squared_error(y_ts, y_pred_rf)), 2)\n",
    "RMSE_TS"
   ]
  },
  {
   "cell_type": "markdown",
   "id": "e6a165f0",
   "metadata": {},
   "source": [
    "## save the model to disk"
   ]
  },
  {
   "cell_type": "code",
   "execution_count": 176,
   "id": "ca007e3f",
   "metadata": {},
   "outputs": [],
   "source": [
    "pickle.dump(best_RF, open('Models/MACCS/LD50_mouse_introvenus_RF_MACCS.pkl', 'wb'))"
   ]
  },
  {
   "cell_type": "markdown",
   "id": "2e6ace6e",
   "metadata": {},
   "source": [
    "## load the model from disk"
   ]
  },
  {
   "cell_type": "code",
   "execution_count": 163,
   "id": "96d5254e",
   "metadata": {},
   "outputs": [],
   "source": [
    "best_RF = pickle.load(open('Models/MACCS/LD50_mouse_introvenus_RF_MACCS.pkl', 'rb'))"
   ]
  },
  {
   "cell_type": "markdown",
   "id": "efcfcef5",
   "metadata": {},
   "source": [
    "##  Y-randomization RF model"
   ]
  },
  {
   "cell_type": "code",
   "execution_count": 49,
   "id": "1c1f5fef",
   "metadata": {},
   "outputs": [
    {
     "name": "stderr",
     "output_type": "stream",
     "text": [
      "[Parallel(n_jobs=10)]: Using backend LokyBackend with 10 concurrent workers.\n",
      "[Parallel(n_jobs=10)]: Done  30 tasks      | elapsed: 39.7min\n"
     ]
    },
    {
     "name": "stdout",
     "output_type": "stream",
     "text": [
      "True score =  0.53 \n",
      "Y-randomization =  -0.14 \n",
      "p-value =  0.0196\n"
     ]
    },
    {
     "name": "stderr",
     "output_type": "stream",
     "text": [
      "[Parallel(n_jobs=10)]: Done  50 out of  50 | elapsed: 66.2min finished\n"
     ]
    }
   ],
   "source": [
    "permutations = 50\n",
    "score, permutation_scores, pvalue = permutation_test_score(best_RF, x_tr, y_tr,\n",
    "                                                           cv=cv, scoring='r2',\n",
    "                                                           n_permutations=permutations,\n",
    "                                                           n_jobs=10,\n",
    "                                                           verbose=1,\n",
    "                                                           random_state=24)\n",
    "print('True score = ', score.round(2),\n",
    "      '\\nY-randomization = ', np.mean(permutation_scores).round(2),\n",
    "      '\\np-value = ', pvalue.round(4))"
   ]
  },
  {
   "cell_type": "markdown",
   "id": "d828b5f7",
   "metadata": {},
   "source": [
    "##  Estimating applicability domain. Method - Euclidian distances, K=1"
   ]
  },
  {
   "cell_type": "code",
   "execution_count": 174,
   "id": "7758ec50",
   "metadata": {},
   "outputs": [],
   "source": [
    "neighbors_k= pairwise_distances(x_tr, n_jobs=-1)\n",
    "neighbors_k.sort(0)"
   ]
  },
  {
   "cell_type": "code",
   "execution_count": 175,
   "id": "9a02dd8f",
   "metadata": {},
   "outputs": [
    {
     "data": {
      "text/html": [
       "<div>\n",
       "<style scoped>\n",
       "    .dataframe tbody tr th:only-of-type {\n",
       "        vertical-align: middle;\n",
       "    }\n",
       "\n",
       "    .dataframe tbody tr th {\n",
       "        vertical-align: top;\n",
       "    }\n",
       "\n",
       "    .dataframe thead th {\n",
       "        text-align: right;\n",
       "    }\n",
       "</style>\n",
       "<table border=\"1\" class=\"dataframe\">\n",
       "  <thead>\n",
       "    <tr style=\"text-align: right;\">\n",
       "      <th></th>\n",
       "      <th>0</th>\n",
       "      <th>1</th>\n",
       "      <th>2</th>\n",
       "      <th>3</th>\n",
       "      <th>4</th>\n",
       "      <th>5</th>\n",
       "      <th>6</th>\n",
       "      <th>7</th>\n",
       "      <th>8</th>\n",
       "      <th>9</th>\n",
       "      <th>...</th>\n",
       "      <th>12044</th>\n",
       "      <th>12045</th>\n",
       "      <th>12046</th>\n",
       "      <th>12047</th>\n",
       "      <th>12048</th>\n",
       "      <th>12049</th>\n",
       "      <th>12050</th>\n",
       "      <th>12051</th>\n",
       "      <th>12052</th>\n",
       "      <th>12053</th>\n",
       "    </tr>\n",
       "  </thead>\n",
       "  <tbody>\n",
       "    <tr>\n",
       "      <th>0</th>\n",
       "      <td>0.000000</td>\n",
       "      <td>0.000000</td>\n",
       "      <td>0.000000</td>\n",
       "      <td>0.000000</td>\n",
       "      <td>0.000000</td>\n",
       "      <td>0.000000</td>\n",
       "      <td>0.000000</td>\n",
       "      <td>0.000000</td>\n",
       "      <td>0.000000</td>\n",
       "      <td>0.000000</td>\n",
       "      <td>...</td>\n",
       "      <td>0.000000</td>\n",
       "      <td>0.000000</td>\n",
       "      <td>0.000000</td>\n",
       "      <td>0.000000</td>\n",
       "      <td>0.000000</td>\n",
       "      <td>0.000000</td>\n",
       "      <td>0.000000</td>\n",
       "      <td>0.000000</td>\n",
       "      <td>0.000000</td>\n",
       "      <td>0.000000</td>\n",
       "    </tr>\n",
       "    <tr>\n",
       "      <th>1</th>\n",
       "      <td>2.000000</td>\n",
       "      <td>2.000000</td>\n",
       "      <td>1.414214</td>\n",
       "      <td>3.316625</td>\n",
       "      <td>3.464102</td>\n",
       "      <td>2.449490</td>\n",
       "      <td>2.236068</td>\n",
       "      <td>2.828427</td>\n",
       "      <td>2.000000</td>\n",
       "      <td>3.000000</td>\n",
       "      <td>...</td>\n",
       "      <td>1.000000</td>\n",
       "      <td>1.000000</td>\n",
       "      <td>4.358899</td>\n",
       "      <td>2.000000</td>\n",
       "      <td>1.414214</td>\n",
       "      <td>2.449490</td>\n",
       "      <td>1.000000</td>\n",
       "      <td>0.000000</td>\n",
       "      <td>3.872983</td>\n",
       "      <td>3.872983</td>\n",
       "    </tr>\n",
       "    <tr>\n",
       "      <th>2</th>\n",
       "      <td>2.000000</td>\n",
       "      <td>2.645751</td>\n",
       "      <td>1.732051</td>\n",
       "      <td>3.316625</td>\n",
       "      <td>3.605551</td>\n",
       "      <td>2.645751</td>\n",
       "      <td>2.449490</td>\n",
       "      <td>2.828427</td>\n",
       "      <td>2.645751</td>\n",
       "      <td>3.000000</td>\n",
       "      <td>...</td>\n",
       "      <td>1.000000</td>\n",
       "      <td>4.000000</td>\n",
       "      <td>4.582576</td>\n",
       "      <td>2.000000</td>\n",
       "      <td>1.414214</td>\n",
       "      <td>2.449490</td>\n",
       "      <td>1.414214</td>\n",
       "      <td>1.414214</td>\n",
       "      <td>3.872983</td>\n",
       "      <td>4.000000</td>\n",
       "    </tr>\n",
       "    <tr>\n",
       "      <th>3</th>\n",
       "      <td>2.000000</td>\n",
       "      <td>2.645751</td>\n",
       "      <td>1.732051</td>\n",
       "      <td>3.316625</td>\n",
       "      <td>3.605551</td>\n",
       "      <td>2.645751</td>\n",
       "      <td>2.449490</td>\n",
       "      <td>3.000000</td>\n",
       "      <td>2.828427</td>\n",
       "      <td>3.741657</td>\n",
       "      <td>...</td>\n",
       "      <td>1.414214</td>\n",
       "      <td>4.000000</td>\n",
       "      <td>4.582576</td>\n",
       "      <td>2.449490</td>\n",
       "      <td>1.414214</td>\n",
       "      <td>3.464102</td>\n",
       "      <td>1.732051</td>\n",
       "      <td>1.732051</td>\n",
       "      <td>3.872983</td>\n",
       "      <td>4.242640</td>\n",
       "    </tr>\n",
       "    <tr>\n",
       "      <th>4</th>\n",
       "      <td>2.449490</td>\n",
       "      <td>2.828427</td>\n",
       "      <td>2.000000</td>\n",
       "      <td>3.464102</td>\n",
       "      <td>3.741657</td>\n",
       "      <td>2.828427</td>\n",
       "      <td>2.645751</td>\n",
       "      <td>3.162278</td>\n",
       "      <td>2.828427</td>\n",
       "      <td>3.872983</td>\n",
       "      <td>...</td>\n",
       "      <td>1.732051</td>\n",
       "      <td>4.358899</td>\n",
       "      <td>4.690416</td>\n",
       "      <td>2.449490</td>\n",
       "      <td>2.000000</td>\n",
       "      <td>3.741657</td>\n",
       "      <td>2.000000</td>\n",
       "      <td>2.000000</td>\n",
       "      <td>4.000000</td>\n",
       "      <td>4.242640</td>\n",
       "    </tr>\n",
       "    <tr>\n",
       "      <th>...</th>\n",
       "      <td>...</td>\n",
       "      <td>...</td>\n",
       "      <td>...</td>\n",
       "      <td>...</td>\n",
       "      <td>...</td>\n",
       "      <td>...</td>\n",
       "      <td>...</td>\n",
       "      <td>...</td>\n",
       "      <td>...</td>\n",
       "      <td>...</td>\n",
       "      <td>...</td>\n",
       "      <td>...</td>\n",
       "      <td>...</td>\n",
       "      <td>...</td>\n",
       "      <td>...</td>\n",
       "      <td>...</td>\n",
       "      <td>...</td>\n",
       "      <td>...</td>\n",
       "      <td>...</td>\n",
       "      <td>...</td>\n",
       "      <td>...</td>\n",
       "    </tr>\n",
       "    <tr>\n",
       "      <th>12049</th>\n",
       "      <td>9.110434</td>\n",
       "      <td>9.110434</td>\n",
       "      <td>8.246211</td>\n",
       "      <td>8.544003</td>\n",
       "      <td>9.055386</td>\n",
       "      <td>9.000000</td>\n",
       "      <td>8.717798</td>\n",
       "      <td>8.831760</td>\n",
       "      <td>8.426149</td>\n",
       "      <td>8.306623</td>\n",
       "      <td>...</td>\n",
       "      <td>8.774964</td>\n",
       "      <td>8.944272</td>\n",
       "      <td>9.165152</td>\n",
       "      <td>8.944272</td>\n",
       "      <td>8.717798</td>\n",
       "      <td>8.717798</td>\n",
       "      <td>8.831760</td>\n",
       "      <td>8.831760</td>\n",
       "      <td>8.831760</td>\n",
       "      <td>9.219544</td>\n",
       "    </tr>\n",
       "    <tr>\n",
       "      <th>12050</th>\n",
       "      <td>9.165152</td>\n",
       "      <td>9.165152</td>\n",
       "      <td>8.366600</td>\n",
       "      <td>8.544003</td>\n",
       "      <td>9.055386</td>\n",
       "      <td>9.000000</td>\n",
       "      <td>8.774964</td>\n",
       "      <td>8.888194</td>\n",
       "      <td>8.426149</td>\n",
       "      <td>8.306623</td>\n",
       "      <td>...</td>\n",
       "      <td>8.774964</td>\n",
       "      <td>8.944272</td>\n",
       "      <td>9.219544</td>\n",
       "      <td>8.944272</td>\n",
       "      <td>8.774964</td>\n",
       "      <td>8.717798</td>\n",
       "      <td>8.888194</td>\n",
       "      <td>8.831760</td>\n",
       "      <td>8.831760</td>\n",
       "      <td>9.273619</td>\n",
       "    </tr>\n",
       "    <tr>\n",
       "      <th>12051</th>\n",
       "      <td>9.165152</td>\n",
       "      <td>9.219544</td>\n",
       "      <td>8.426149</td>\n",
       "      <td>8.602325</td>\n",
       "      <td>9.055386</td>\n",
       "      <td>9.055386</td>\n",
       "      <td>8.774964</td>\n",
       "      <td>8.944272</td>\n",
       "      <td>8.485281</td>\n",
       "      <td>8.366600</td>\n",
       "      <td>...</td>\n",
       "      <td>8.774964</td>\n",
       "      <td>8.944272</td>\n",
       "      <td>9.219544</td>\n",
       "      <td>8.944272</td>\n",
       "      <td>8.774964</td>\n",
       "      <td>8.717798</td>\n",
       "      <td>8.888194</td>\n",
       "      <td>8.888194</td>\n",
       "      <td>8.888194</td>\n",
       "      <td>9.273619</td>\n",
       "    </tr>\n",
       "    <tr>\n",
       "      <th>12052</th>\n",
       "      <td>9.219544</td>\n",
       "      <td>9.219544</td>\n",
       "      <td>8.426149</td>\n",
       "      <td>8.602325</td>\n",
       "      <td>9.110434</td>\n",
       "      <td>9.110434</td>\n",
       "      <td>8.831760</td>\n",
       "      <td>9.000000</td>\n",
       "      <td>8.485281</td>\n",
       "      <td>8.366600</td>\n",
       "      <td>...</td>\n",
       "      <td>8.774964</td>\n",
       "      <td>8.944272</td>\n",
       "      <td>9.219544</td>\n",
       "      <td>8.944272</td>\n",
       "      <td>8.888194</td>\n",
       "      <td>8.717798</td>\n",
       "      <td>9.000000</td>\n",
       "      <td>8.944272</td>\n",
       "      <td>8.888194</td>\n",
       "      <td>9.273619</td>\n",
       "    </tr>\n",
       "    <tr>\n",
       "      <th>12053</th>\n",
       "      <td>9.327379</td>\n",
       "      <td>9.433981</td>\n",
       "      <td>8.485281</td>\n",
       "      <td>8.660254</td>\n",
       "      <td>9.165152</td>\n",
       "      <td>9.110434</td>\n",
       "      <td>8.944272</td>\n",
       "      <td>9.000000</td>\n",
       "      <td>8.485281</td>\n",
       "      <td>8.426149</td>\n",
       "      <td>...</td>\n",
       "      <td>8.944272</td>\n",
       "      <td>9.055386</td>\n",
       "      <td>9.273619</td>\n",
       "      <td>9.000000</td>\n",
       "      <td>8.888194</td>\n",
       "      <td>8.774964</td>\n",
       "      <td>9.110434</td>\n",
       "      <td>9.055386</td>\n",
       "      <td>8.944272</td>\n",
       "      <td>9.327379</td>\n",
       "    </tr>\n",
       "  </tbody>\n",
       "</table>\n",
       "<p>12054 rows × 12054 columns</p>\n",
       "</div>"
      ],
      "text/plain": [
       "          0         1         2         3         4         5         6      \\\n",
       "0      0.000000  0.000000  0.000000  0.000000  0.000000  0.000000  0.000000   \n",
       "1      2.000000  2.000000  1.414214  3.316625  3.464102  2.449490  2.236068   \n",
       "2      2.000000  2.645751  1.732051  3.316625  3.605551  2.645751  2.449490   \n",
       "3      2.000000  2.645751  1.732051  3.316625  3.605551  2.645751  2.449490   \n",
       "4      2.449490  2.828427  2.000000  3.464102  3.741657  2.828427  2.645751   \n",
       "...         ...       ...       ...       ...       ...       ...       ...   \n",
       "12049  9.110434  9.110434  8.246211  8.544003  9.055386  9.000000  8.717798   \n",
       "12050  9.165152  9.165152  8.366600  8.544003  9.055386  9.000000  8.774964   \n",
       "12051  9.165152  9.219544  8.426149  8.602325  9.055386  9.055386  8.774964   \n",
       "12052  9.219544  9.219544  8.426149  8.602325  9.110434  9.110434  8.831760   \n",
       "12053  9.327379  9.433981  8.485281  8.660254  9.165152  9.110434  8.944272   \n",
       "\n",
       "          7         8         9      ...     12044     12045     12046  \\\n",
       "0      0.000000  0.000000  0.000000  ...  0.000000  0.000000  0.000000   \n",
       "1      2.828427  2.000000  3.000000  ...  1.000000  1.000000  4.358899   \n",
       "2      2.828427  2.645751  3.000000  ...  1.000000  4.000000  4.582576   \n",
       "3      3.000000  2.828427  3.741657  ...  1.414214  4.000000  4.582576   \n",
       "4      3.162278  2.828427  3.872983  ...  1.732051  4.358899  4.690416   \n",
       "...         ...       ...       ...  ...       ...       ...       ...   \n",
       "12049  8.831760  8.426149  8.306623  ...  8.774964  8.944272  9.165152   \n",
       "12050  8.888194  8.426149  8.306623  ...  8.774964  8.944272  9.219544   \n",
       "12051  8.944272  8.485281  8.366600  ...  8.774964  8.944272  9.219544   \n",
       "12052  9.000000  8.485281  8.366600  ...  8.774964  8.944272  9.219544   \n",
       "12053  9.000000  8.485281  8.426149  ...  8.944272  9.055386  9.273619   \n",
       "\n",
       "          12047     12048     12049     12050     12051     12052     12053  \n",
       "0      0.000000  0.000000  0.000000  0.000000  0.000000  0.000000  0.000000  \n",
       "1      2.000000  1.414214  2.449490  1.000000  0.000000  3.872983  3.872983  \n",
       "2      2.000000  1.414214  2.449490  1.414214  1.414214  3.872983  4.000000  \n",
       "3      2.449490  1.414214  3.464102  1.732051  1.732051  3.872983  4.242640  \n",
       "4      2.449490  2.000000  3.741657  2.000000  2.000000  4.000000  4.242640  \n",
       "...         ...       ...       ...       ...       ...       ...       ...  \n",
       "12049  8.944272  8.717798  8.717798  8.831760  8.831760  8.831760  9.219544  \n",
       "12050  8.944272  8.774964  8.717798  8.888194  8.831760  8.831760  9.273619  \n",
       "12051  8.944272  8.774964  8.717798  8.888194  8.888194  8.888194  9.273619  \n",
       "12052  8.944272  8.888194  8.717798  9.000000  8.944272  8.888194  9.273619  \n",
       "12053  9.000000  8.888194  8.774964  9.110434  9.055386  8.944272  9.327379  \n",
       "\n",
       "[12054 rows x 12054 columns]"
      ]
     },
     "execution_count": 175,
     "metadata": {},
     "output_type": "execute_result"
    }
   ],
   "source": [
    "df_tr=pd.DataFrame(neighbors_k)\n",
    "df_tr"
   ]
  },
  {
   "cell_type": "code",
   "execution_count": 176,
   "id": "63d9d938",
   "metadata": {},
   "outputs": [],
   "source": [
    "similarity= neighbors_k"
   ]
  },
  {
   "cell_type": "code",
   "execution_count": 177,
   "id": "c1282180",
   "metadata": {},
   "outputs": [],
   "source": [
    "Dmean=np.mean(similarity[1,:])"
   ]
  },
  {
   "cell_type": "code",
   "execution_count": 178,
   "id": "76d4ef27",
   "metadata": {},
   "outputs": [
    {
     "data": {
      "text/plain": [
       "1.92"
      ]
     },
     "execution_count": 178,
     "metadata": {},
     "output_type": "execute_result"
    }
   ],
   "source": [
    "round(Dmean, 2)"
   ]
  },
  {
   "cell_type": "code",
   "execution_count": 179,
   "id": "9dede9ee",
   "metadata": {},
   "outputs": [],
   "source": [
    "std=np.std(similarity[1,:])"
   ]
  },
  {
   "cell_type": "code",
   "execution_count": 180,
   "id": "323fbc6a",
   "metadata": {},
   "outputs": [
    {
     "data": {
      "text/plain": [
       "1.05"
      ]
     },
     "execution_count": 180,
     "metadata": {},
     "output_type": "execute_result"
    }
   ],
   "source": [
    "round(std, 2)"
   ]
  },
  {
   "cell_type": "code",
   "execution_count": 181,
   "id": "8609fafb",
   "metadata": {},
   "outputs": [
    {
     "name": "stdout",
     "output_type": "stream",
     "text": [
      "2.45\n"
     ]
    }
   ],
   "source": [
    "model_AD_limit=Dmean+std*0.5\n",
    "print(np.round(model_AD_limit, 2))"
   ]
  },
  {
   "cell_type": "code",
   "execution_count": 182,
   "id": "48881b46",
   "metadata": {},
   "outputs": [],
   "source": [
    "neighbors_k_ts= pairwise_distances(x_tr,Y=x_ts, n_jobs=-1)\n",
    "neighbors_k_ts.sort(0)"
   ]
  },
  {
   "cell_type": "code",
   "execution_count": 183,
   "id": "2f2d5fd7",
   "metadata": {},
   "outputs": [
    {
     "data": {
      "text/html": [
       "<div>\n",
       "<style scoped>\n",
       "    .dataframe tbody tr th:only-of-type {\n",
       "        vertical-align: middle;\n",
       "    }\n",
       "\n",
       "    .dataframe tbody tr th {\n",
       "        vertical-align: top;\n",
       "    }\n",
       "\n",
       "    .dataframe thead th {\n",
       "        text-align: right;\n",
       "    }\n",
       "</style>\n",
       "<table border=\"1\" class=\"dataframe\">\n",
       "  <thead>\n",
       "    <tr style=\"text-align: right;\">\n",
       "      <th></th>\n",
       "      <th>0</th>\n",
       "      <th>1</th>\n",
       "      <th>2</th>\n",
       "      <th>3</th>\n",
       "      <th>4</th>\n",
       "      <th>5</th>\n",
       "      <th>6</th>\n",
       "      <th>7</th>\n",
       "      <th>8</th>\n",
       "      <th>9</th>\n",
       "      <th>...</th>\n",
       "      <th>3004</th>\n",
       "      <th>3005</th>\n",
       "      <th>3006</th>\n",
       "      <th>3007</th>\n",
       "      <th>3008</th>\n",
       "      <th>3009</th>\n",
       "      <th>3010</th>\n",
       "      <th>3011</th>\n",
       "      <th>3012</th>\n",
       "      <th>3013</th>\n",
       "    </tr>\n",
       "  </thead>\n",
       "  <tbody>\n",
       "    <tr>\n",
       "      <th>0</th>\n",
       "      <td>2.000000</td>\n",
       "      <td>1.414214</td>\n",
       "      <td>1.000000</td>\n",
       "      <td>2.236068</td>\n",
       "      <td>1.732051</td>\n",
       "      <td>1.000000</td>\n",
       "      <td>1.732051</td>\n",
       "      <td>2.645751</td>\n",
       "      <td>2.000000</td>\n",
       "      <td>2.828427</td>\n",
       "      <td>...</td>\n",
       "      <td>1.000000</td>\n",
       "      <td>2.000000</td>\n",
       "      <td>0.000000</td>\n",
       "      <td>2.449490</td>\n",
       "      <td>2.000000</td>\n",
       "      <td>0.000000</td>\n",
       "      <td>3.605551</td>\n",
       "      <td>1.414214</td>\n",
       "      <td>2.000000</td>\n",
       "      <td>2.000000</td>\n",
       "    </tr>\n",
       "    <tr>\n",
       "      <th>1</th>\n",
       "      <td>2.449490</td>\n",
       "      <td>1.732051</td>\n",
       "      <td>1.414214</td>\n",
       "      <td>2.236068</td>\n",
       "      <td>2.645751</td>\n",
       "      <td>1.414214</td>\n",
       "      <td>2.000000</td>\n",
       "      <td>2.645751</td>\n",
       "      <td>2.000000</td>\n",
       "      <td>2.828427</td>\n",
       "      <td>...</td>\n",
       "      <td>3.162278</td>\n",
       "      <td>2.828427</td>\n",
       "      <td>1.000000</td>\n",
       "      <td>3.162278</td>\n",
       "      <td>3.872983</td>\n",
       "      <td>1.000000</td>\n",
       "      <td>3.872983</td>\n",
       "      <td>2.000000</td>\n",
       "      <td>2.000000</td>\n",
       "      <td>2.236068</td>\n",
       "    </tr>\n",
       "    <tr>\n",
       "      <th>2</th>\n",
       "      <td>2.645751</td>\n",
       "      <td>1.732051</td>\n",
       "      <td>1.732051</td>\n",
       "      <td>2.645751</td>\n",
       "      <td>2.828427</td>\n",
       "      <td>1.732051</td>\n",
       "      <td>2.236068</td>\n",
       "      <td>3.162278</td>\n",
       "      <td>2.236068</td>\n",
       "      <td>2.828427</td>\n",
       "      <td>...</td>\n",
       "      <td>3.162278</td>\n",
       "      <td>4.358899</td>\n",
       "      <td>1.000000</td>\n",
       "      <td>3.316625</td>\n",
       "      <td>3.872983</td>\n",
       "      <td>3.872983</td>\n",
       "      <td>3.872983</td>\n",
       "      <td>2.000000</td>\n",
       "      <td>4.582576</td>\n",
       "      <td>2.236068</td>\n",
       "    </tr>\n",
       "    <tr>\n",
       "      <th>3</th>\n",
       "      <td>2.828427</td>\n",
       "      <td>1.732051</td>\n",
       "      <td>2.000000</td>\n",
       "      <td>2.645751</td>\n",
       "      <td>2.828427</td>\n",
       "      <td>2.000000</td>\n",
       "      <td>2.236068</td>\n",
       "      <td>3.316625</td>\n",
       "      <td>2.449490</td>\n",
       "      <td>3.162278</td>\n",
       "      <td>...</td>\n",
       "      <td>3.162278</td>\n",
       "      <td>4.582576</td>\n",
       "      <td>1.414214</td>\n",
       "      <td>3.872983</td>\n",
       "      <td>4.242640</td>\n",
       "      <td>3.872983</td>\n",
       "      <td>4.000000</td>\n",
       "      <td>2.449490</td>\n",
       "      <td>4.582576</td>\n",
       "      <td>2.449490</td>\n",
       "    </tr>\n",
       "    <tr>\n",
       "      <th>4</th>\n",
       "      <td>2.828427</td>\n",
       "      <td>1.732051</td>\n",
       "      <td>2.236068</td>\n",
       "      <td>2.828427</td>\n",
       "      <td>3.000000</td>\n",
       "      <td>2.236068</td>\n",
       "      <td>2.236068</td>\n",
       "      <td>3.464102</td>\n",
       "      <td>2.645751</td>\n",
       "      <td>3.316625</td>\n",
       "      <td>...</td>\n",
       "      <td>3.162278</td>\n",
       "      <td>4.582576</td>\n",
       "      <td>1.414214</td>\n",
       "      <td>3.872983</td>\n",
       "      <td>4.898980</td>\n",
       "      <td>3.872983</td>\n",
       "      <td>4.000000</td>\n",
       "      <td>2.449490</td>\n",
       "      <td>4.582576</td>\n",
       "      <td>2.645751</td>\n",
       "    </tr>\n",
       "    <tr>\n",
       "      <th>...</th>\n",
       "      <td>...</td>\n",
       "      <td>...</td>\n",
       "      <td>...</td>\n",
       "      <td>...</td>\n",
       "      <td>...</td>\n",
       "      <td>...</td>\n",
       "      <td>...</td>\n",
       "      <td>...</td>\n",
       "      <td>...</td>\n",
       "      <td>...</td>\n",
       "      <td>...</td>\n",
       "      <td>...</td>\n",
       "      <td>...</td>\n",
       "      <td>...</td>\n",
       "      <td>...</td>\n",
       "      <td>...</td>\n",
       "      <td>...</td>\n",
       "      <td>...</td>\n",
       "      <td>...</td>\n",
       "      <td>...</td>\n",
       "      <td>...</td>\n",
       "    </tr>\n",
       "    <tr>\n",
       "      <th>12049</th>\n",
       "      <td>8.831760</td>\n",
       "      <td>9.327379</td>\n",
       "      <td>8.888194</td>\n",
       "      <td>8.888194</td>\n",
       "      <td>8.831760</td>\n",
       "      <td>8.888194</td>\n",
       "      <td>8.366600</td>\n",
       "      <td>8.831760</td>\n",
       "      <td>9.055386</td>\n",
       "      <td>9.165152</td>\n",
       "      <td>...</td>\n",
       "      <td>8.888194</td>\n",
       "      <td>8.944272</td>\n",
       "      <td>8.774964</td>\n",
       "      <td>8.485281</td>\n",
       "      <td>8.544003</td>\n",
       "      <td>9.000000</td>\n",
       "      <td>8.485281</td>\n",
       "      <td>8.888194</td>\n",
       "      <td>8.602325</td>\n",
       "      <td>8.888194</td>\n",
       "    </tr>\n",
       "    <tr>\n",
       "      <th>12050</th>\n",
       "      <td>8.888194</td>\n",
       "      <td>9.327379</td>\n",
       "      <td>8.944272</td>\n",
       "      <td>8.944272</td>\n",
       "      <td>8.831760</td>\n",
       "      <td>8.944272</td>\n",
       "      <td>8.366600</td>\n",
       "      <td>8.831760</td>\n",
       "      <td>9.055386</td>\n",
       "      <td>9.219544</td>\n",
       "      <td>...</td>\n",
       "      <td>8.888194</td>\n",
       "      <td>8.944272</td>\n",
       "      <td>8.774964</td>\n",
       "      <td>8.544003</td>\n",
       "      <td>8.544003</td>\n",
       "      <td>9.055386</td>\n",
       "      <td>8.485281</td>\n",
       "      <td>8.944272</td>\n",
       "      <td>8.602325</td>\n",
       "      <td>8.888194</td>\n",
       "    </tr>\n",
       "    <tr>\n",
       "      <th>12051</th>\n",
       "      <td>8.888194</td>\n",
       "      <td>9.380832</td>\n",
       "      <td>9.000000</td>\n",
       "      <td>8.944272</td>\n",
       "      <td>8.831760</td>\n",
       "      <td>9.000000</td>\n",
       "      <td>8.426149</td>\n",
       "      <td>8.944272</td>\n",
       "      <td>9.110434</td>\n",
       "      <td>9.219544</td>\n",
       "      <td>...</td>\n",
       "      <td>8.888194</td>\n",
       "      <td>8.944272</td>\n",
       "      <td>8.831760</td>\n",
       "      <td>8.660254</td>\n",
       "      <td>8.544003</td>\n",
       "      <td>9.055386</td>\n",
       "      <td>8.544003</td>\n",
       "      <td>8.944272</td>\n",
       "      <td>8.660254</td>\n",
       "      <td>8.888194</td>\n",
       "    </tr>\n",
       "    <tr>\n",
       "      <th>12052</th>\n",
       "      <td>8.944272</td>\n",
       "      <td>9.433981</td>\n",
       "      <td>9.000000</td>\n",
       "      <td>9.000000</td>\n",
       "      <td>8.888194</td>\n",
       "      <td>9.000000</td>\n",
       "      <td>8.485281</td>\n",
       "      <td>8.944272</td>\n",
       "      <td>9.165152</td>\n",
       "      <td>9.273619</td>\n",
       "      <td>...</td>\n",
       "      <td>8.888194</td>\n",
       "      <td>8.944272</td>\n",
       "      <td>8.831760</td>\n",
       "      <td>8.717798</td>\n",
       "      <td>8.660254</td>\n",
       "      <td>9.055386</td>\n",
       "      <td>8.602325</td>\n",
       "      <td>8.944272</td>\n",
       "      <td>8.660254</td>\n",
       "      <td>8.944272</td>\n",
       "    </tr>\n",
       "    <tr>\n",
       "      <th>12053</th>\n",
       "      <td>9.000000</td>\n",
       "      <td>9.486833</td>\n",
       "      <td>9.219544</td>\n",
       "      <td>9.165152</td>\n",
       "      <td>9.055386</td>\n",
       "      <td>9.219544</td>\n",
       "      <td>8.544003</td>\n",
       "      <td>9.055386</td>\n",
       "      <td>9.219544</td>\n",
       "      <td>9.433981</td>\n",
       "      <td>...</td>\n",
       "      <td>8.888194</td>\n",
       "      <td>9.110434</td>\n",
       "      <td>8.888194</td>\n",
       "      <td>8.774964</td>\n",
       "      <td>8.717798</td>\n",
       "      <td>9.055386</td>\n",
       "      <td>8.602325</td>\n",
       "      <td>9.000000</td>\n",
       "      <td>8.774964</td>\n",
       "      <td>8.944272</td>\n",
       "    </tr>\n",
       "  </tbody>\n",
       "</table>\n",
       "<p>12054 rows × 3014 columns</p>\n",
       "</div>"
      ],
      "text/plain": [
       "           0         1         2         3         4         5         6     \\\n",
       "0      2.000000  1.414214  1.000000  2.236068  1.732051  1.000000  1.732051   \n",
       "1      2.449490  1.732051  1.414214  2.236068  2.645751  1.414214  2.000000   \n",
       "2      2.645751  1.732051  1.732051  2.645751  2.828427  1.732051  2.236068   \n",
       "3      2.828427  1.732051  2.000000  2.645751  2.828427  2.000000  2.236068   \n",
       "4      2.828427  1.732051  2.236068  2.828427  3.000000  2.236068  2.236068   \n",
       "...         ...       ...       ...       ...       ...       ...       ...   \n",
       "12049  8.831760  9.327379  8.888194  8.888194  8.831760  8.888194  8.366600   \n",
       "12050  8.888194  9.327379  8.944272  8.944272  8.831760  8.944272  8.366600   \n",
       "12051  8.888194  9.380832  9.000000  8.944272  8.831760  9.000000  8.426149   \n",
       "12052  8.944272  9.433981  9.000000  9.000000  8.888194  9.000000  8.485281   \n",
       "12053  9.000000  9.486833  9.219544  9.165152  9.055386  9.219544  8.544003   \n",
       "\n",
       "           7         8         9     ...      3004      3005      3006  \\\n",
       "0      2.645751  2.000000  2.828427  ...  1.000000  2.000000  0.000000   \n",
       "1      2.645751  2.000000  2.828427  ...  3.162278  2.828427  1.000000   \n",
       "2      3.162278  2.236068  2.828427  ...  3.162278  4.358899  1.000000   \n",
       "3      3.316625  2.449490  3.162278  ...  3.162278  4.582576  1.414214   \n",
       "4      3.464102  2.645751  3.316625  ...  3.162278  4.582576  1.414214   \n",
       "...         ...       ...       ...  ...       ...       ...       ...   \n",
       "12049  8.831760  9.055386  9.165152  ...  8.888194  8.944272  8.774964   \n",
       "12050  8.831760  9.055386  9.219544  ...  8.888194  8.944272  8.774964   \n",
       "12051  8.944272  9.110434  9.219544  ...  8.888194  8.944272  8.831760   \n",
       "12052  8.944272  9.165152  9.273619  ...  8.888194  8.944272  8.831760   \n",
       "12053  9.055386  9.219544  9.433981  ...  8.888194  9.110434  8.888194   \n",
       "\n",
       "           3007      3008      3009      3010      3011      3012      3013  \n",
       "0      2.449490  2.000000  0.000000  3.605551  1.414214  2.000000  2.000000  \n",
       "1      3.162278  3.872983  1.000000  3.872983  2.000000  2.000000  2.236068  \n",
       "2      3.316625  3.872983  3.872983  3.872983  2.000000  4.582576  2.236068  \n",
       "3      3.872983  4.242640  3.872983  4.000000  2.449490  4.582576  2.449490  \n",
       "4      3.872983  4.898980  3.872983  4.000000  2.449490  4.582576  2.645751  \n",
       "...         ...       ...       ...       ...       ...       ...       ...  \n",
       "12049  8.485281  8.544003  9.000000  8.485281  8.888194  8.602325  8.888194  \n",
       "12050  8.544003  8.544003  9.055386  8.485281  8.944272  8.602325  8.888194  \n",
       "12051  8.660254  8.544003  9.055386  8.544003  8.944272  8.660254  8.888194  \n",
       "12052  8.717798  8.660254  9.055386  8.602325  8.944272  8.660254  8.944272  \n",
       "12053  8.774964  8.717798  9.055386  8.602325  9.000000  8.774964  8.944272  \n",
       "\n",
       "[12054 rows x 3014 columns]"
      ]
     },
     "execution_count": 183,
     "metadata": {},
     "output_type": "execute_result"
    }
   ],
   "source": [
    "x_ts_AD=pd.DataFrame(neighbors_k_ts)\n",
    "x_ts_AD"
   ]
  },
  {
   "cell_type": "code",
   "execution_count": 184,
   "id": "5568b4e4",
   "metadata": {},
   "outputs": [
    {
     "name": "stdout",
     "output_type": "stream",
     "text": [
      "[2.    1.414 1.    ... 1.414 2.    2.   ]\n"
     ]
    }
   ],
   "source": [
    "similarity_ts= neighbors_k_ts\n",
    "cpd_AD=similarity_ts[0,:]\n",
    "cpd_value = np.round(cpd_AD, 3)\n",
    "print(cpd_value)"
   ]
  },
  {
   "cell_type": "code",
   "execution_count": 185,
   "id": "f707437e",
   "metadata": {},
   "outputs": [
    {
     "name": "stdout",
     "output_type": "stream",
     "text": [
      "[ True  True  True ...  True  True  True]\n"
     ]
    }
   ],
   "source": [
    "cpd_AD = np.where(cpd_value <= model_AD_limit, True, False)\n",
    "print(cpd_AD)"
   ]
  },
  {
   "cell_type": "code",
   "execution_count": 186,
   "id": "06782691",
   "metadata": {},
   "outputs": [
    {
     "name": "stdout",
     "output_type": "stream",
     "text": [
      "Coverage =  0.72\n"
     ]
    }
   ],
   "source": [
    "print(\"Coverage = \", round(sum(cpd_AD) / len(cpd_AD),2))"
   ]
  },
  {
   "cell_type": "code",
   "execution_count": 187,
   "id": "18847b28",
   "metadata": {},
   "outputs": [
    {
     "name": "stdout",
     "output_type": "stream",
     "text": [
      "Indices of substances included in AD =  [   0    1    2 ... 3011 3012 3013]\n"
     ]
    }
   ],
   "source": [
    "print(\"Indices of substances included in AD = \", np.where(cpd_AD != 0)[0])"
   ]
  },
  {
   "cell_type": "code",
   "execution_count": 188,
   "id": "d2af845d",
   "metadata": {},
   "outputs": [],
   "source": [
    "out_Ad=list(np.where(cpd_AD == 0)[0])"
   ]
  },
  {
   "cell_type": "markdown",
   "id": "730487d0",
   "metadata": {},
   "source": [
    "## Prediction only for molecules included in  AD"
   ]
  },
  {
   "cell_type": "code",
   "execution_count": 193,
   "id": "0460f76c",
   "metadata": {},
   "outputs": [],
   "source": [
    "y_pred_rf_ad=list(y_pred_rf)"
   ]
  },
  {
   "cell_type": "code",
   "execution_count": 194,
   "id": "7c107529",
   "metadata": {},
   "outputs": [],
   "source": [
    "y_pred_rf_ad[:] = [x for i,x in enumerate(y_pred_rf_ad) if i not in out_Ad]"
   ]
  },
  {
   "cell_type": "code",
   "execution_count": 195,
   "id": "1143da10",
   "metadata": {},
   "outputs": [
    {
     "data": {
      "text/plain": [
       "2177"
      ]
     },
     "execution_count": 195,
     "metadata": {},
     "output_type": "execute_result"
    }
   ],
   "source": [
    "len(y_pred_rf_ad)"
   ]
  },
  {
   "cell_type": "code",
   "execution_count": 196,
   "id": "044effeb",
   "metadata": {},
   "outputs": [],
   "source": [
    "y_ts_ad=list(y_ts)"
   ]
  },
  {
   "cell_type": "code",
   "execution_count": 197,
   "id": "f6d5c289",
   "metadata": {},
   "outputs": [],
   "source": [
    "y_ts_ad[:] = [x for i,x in enumerate(y_ts_ad) if i not in out_Ad]"
   ]
  },
  {
   "cell_type": "code",
   "execution_count": 198,
   "id": "a5995c33",
   "metadata": {},
   "outputs": [
    {
     "data": {
      "text/plain": [
       "2177"
      ]
     },
     "execution_count": 198,
     "metadata": {},
     "output_type": "execute_result"
    }
   ],
   "source": [
    "len(y_ts_ad)"
   ]
  },
  {
   "cell_type": "code",
   "execution_count": 201,
   "id": "900d0d29",
   "metadata": {
    "scrolled": true
   },
   "outputs": [
    {
     "data": {
      "text/plain": [
       "0.64"
      ]
     },
     "execution_count": 201,
     "metadata": {},
     "output_type": "execute_result"
    }
   ],
   "source": [
    "Q2_TS = round(r2_score(y_ts_ad, y_pred_rf_ad), 2)\n",
    "Q2_TS"
   ]
  },
  {
   "cell_type": "code",
   "execution_count": 200,
   "id": "a5733d19",
   "metadata": {},
   "outputs": [
    {
     "data": {
      "text/plain": [
       "0.41"
      ]
     },
     "execution_count": 200,
     "metadata": {},
     "output_type": "execute_result"
    }
   ],
   "source": [
    "RMSE_TS=round(np.sqrt(mean_squared_error(y_ts_ad, y_pred_rf_ad)), 2)\n",
    "RMSE_TS"
   ]
  },
  {
   "cell_type": "code",
   "execution_count": null,
   "id": "e45cf53b",
   "metadata": {},
   "outputs": [],
   "source": []
  },
  {
   "cell_type": "markdown",
   "id": "9874bf5b",
   "metadata": {},
   "source": [
    "# MACCS FP_SVM model building and validation"
   ]
  },
  {
   "cell_type": "code",
   "execution_count": 200,
   "id": "44530b70",
   "metadata": {},
   "outputs": [],
   "source": [
    "param_grid = {\"C\": [10 ** i for i in range(0, 5)],\n",
    "              \"gamma\": [10 ** i for i in range(-6, 0)]}"
   ]
  },
  {
   "cell_type": "code",
   "execution_count": 201,
   "id": "d29225f3",
   "metadata": {},
   "outputs": [],
   "source": [
    "seed = 42\n",
    "cv=KFold(n_splits=5, random_state=seed, shuffle=True)"
   ]
  },
  {
   "cell_type": "code",
   "execution_count": 202,
   "id": "75f2694e",
   "metadata": {},
   "outputs": [],
   "source": [
    "svm = GridSearchCV(SVR(C=1.0, epsilon=0.2), param_grid, n_jobs=2, cv=cv, verbose=1)"
   ]
  },
  {
   "cell_type": "code",
   "execution_count": 203,
   "id": "5d1b0ea7",
   "metadata": {},
   "outputs": [
    {
     "name": "stdout",
     "output_type": "stream",
     "text": [
      "Fitting 5 folds for each of 30 candidates, totalling 150 fits\n"
     ]
    },
    {
     "data": {
      "text/html": [
       "<style>#sk-container-id-4 {color: black;}#sk-container-id-4 pre{padding: 0;}#sk-container-id-4 div.sk-toggleable {background-color: white;}#sk-container-id-4 label.sk-toggleable__label {cursor: pointer;display: block;width: 100%;margin-bottom: 0;padding: 0.3em;box-sizing: border-box;text-align: center;}#sk-container-id-4 label.sk-toggleable__label-arrow:before {content: \"▸\";float: left;margin-right: 0.25em;color: #696969;}#sk-container-id-4 label.sk-toggleable__label-arrow:hover:before {color: black;}#sk-container-id-4 div.sk-estimator:hover label.sk-toggleable__label-arrow:before {color: black;}#sk-container-id-4 div.sk-toggleable__content {max-height: 0;max-width: 0;overflow: hidden;text-align: left;background-color: #f0f8ff;}#sk-container-id-4 div.sk-toggleable__content pre {margin: 0.2em;color: black;border-radius: 0.25em;background-color: #f0f8ff;}#sk-container-id-4 input.sk-toggleable__control:checked~div.sk-toggleable__content {max-height: 200px;max-width: 100%;overflow: auto;}#sk-container-id-4 input.sk-toggleable__control:checked~label.sk-toggleable__label-arrow:before {content: \"▾\";}#sk-container-id-4 div.sk-estimator input.sk-toggleable__control:checked~label.sk-toggleable__label {background-color: #d4ebff;}#sk-container-id-4 div.sk-label input.sk-toggleable__control:checked~label.sk-toggleable__label {background-color: #d4ebff;}#sk-container-id-4 input.sk-hidden--visually {border: 0;clip: rect(1px 1px 1px 1px);clip: rect(1px, 1px, 1px, 1px);height: 1px;margin: -1px;overflow: hidden;padding: 0;position: absolute;width: 1px;}#sk-container-id-4 div.sk-estimator {font-family: monospace;background-color: #f0f8ff;border: 1px dotted black;border-radius: 0.25em;box-sizing: border-box;margin-bottom: 0.5em;}#sk-container-id-4 div.sk-estimator:hover {background-color: #d4ebff;}#sk-container-id-4 div.sk-parallel-item::after {content: \"\";width: 100%;border-bottom: 1px solid gray;flex-grow: 1;}#sk-container-id-4 div.sk-label:hover label.sk-toggleable__label {background-color: #d4ebff;}#sk-container-id-4 div.sk-serial::before {content: \"\";position: absolute;border-left: 1px solid gray;box-sizing: border-box;top: 0;bottom: 0;left: 50%;z-index: 0;}#sk-container-id-4 div.sk-serial {display: flex;flex-direction: column;align-items: center;background-color: white;padding-right: 0.2em;padding-left: 0.2em;position: relative;}#sk-container-id-4 div.sk-item {position: relative;z-index: 1;}#sk-container-id-4 div.sk-parallel {display: flex;align-items: stretch;justify-content: center;background-color: white;position: relative;}#sk-container-id-4 div.sk-item::before, #sk-container-id-4 div.sk-parallel-item::before {content: \"\";position: absolute;border-left: 1px solid gray;box-sizing: border-box;top: 0;bottom: 0;left: 50%;z-index: -1;}#sk-container-id-4 div.sk-parallel-item {display: flex;flex-direction: column;z-index: 1;position: relative;background-color: white;}#sk-container-id-4 div.sk-parallel-item:first-child::after {align-self: flex-end;width: 50%;}#sk-container-id-4 div.sk-parallel-item:last-child::after {align-self: flex-start;width: 50%;}#sk-container-id-4 div.sk-parallel-item:only-child::after {width: 0;}#sk-container-id-4 div.sk-dashed-wrapped {border: 1px dashed gray;margin: 0 0.4em 0.5em 0.4em;box-sizing: border-box;padding-bottom: 0.4em;background-color: white;}#sk-container-id-4 div.sk-label label {font-family: monospace;font-weight: bold;display: inline-block;line-height: 1.2em;}#sk-container-id-4 div.sk-label-container {text-align: center;}#sk-container-id-4 div.sk-container {/* jupyter's `normalize.less` sets `[hidden] { display: none; }` but bootstrap.min.css set `[hidden] { display: none !important; }` so we also need the `!important` here to be able to override the default hidden behavior on the sphinx rendered scikit-learn.org. See: https://github.com/scikit-learn/scikit-learn/issues/21755 */display: inline-block !important;position: relative;}#sk-container-id-4 div.sk-text-repr-fallback {display: none;}</style><div id=\"sk-container-id-4\" class=\"sk-top-container\"><div class=\"sk-text-repr-fallback\"><pre>GridSearchCV(cv=KFold(n_splits=5, random_state=42, shuffle=True),\n",
       "             estimator=SVR(epsilon=0.2), n_jobs=2,\n",
       "             param_grid={&#x27;C&#x27;: [1, 10, 100, 1000, 10000],\n",
       "                         &#x27;gamma&#x27;: [1e-06, 1e-05, 0.0001, 0.001, 0.01, 0.1]},\n",
       "             verbose=1)</pre><b>In a Jupyter environment, please rerun this cell to show the HTML representation or trust the notebook. <br />On GitHub, the HTML representation is unable to render, please try loading this page with nbviewer.org.</b></div><div class=\"sk-container\" hidden><div class=\"sk-item sk-dashed-wrapped\"><div class=\"sk-label-container\"><div class=\"sk-label sk-toggleable\"><input class=\"sk-toggleable__control sk-hidden--visually\" id=\"sk-estimator-id-10\" type=\"checkbox\" ><label for=\"sk-estimator-id-10\" class=\"sk-toggleable__label sk-toggleable__label-arrow\">GridSearchCV</label><div class=\"sk-toggleable__content\"><pre>GridSearchCV(cv=KFold(n_splits=5, random_state=42, shuffle=True),\n",
       "             estimator=SVR(epsilon=0.2), n_jobs=2,\n",
       "             param_grid={&#x27;C&#x27;: [1, 10, 100, 1000, 10000],\n",
       "                         &#x27;gamma&#x27;: [1e-06, 1e-05, 0.0001, 0.001, 0.01, 0.1]},\n",
       "             verbose=1)</pre></div></div></div><div class=\"sk-parallel\"><div class=\"sk-parallel-item\"><div class=\"sk-item\"><div class=\"sk-label-container\"><div class=\"sk-label sk-toggleable\"><input class=\"sk-toggleable__control sk-hidden--visually\" id=\"sk-estimator-id-11\" type=\"checkbox\" ><label for=\"sk-estimator-id-11\" class=\"sk-toggleable__label sk-toggleable__label-arrow\">estimator: SVR</label><div class=\"sk-toggleable__content\"><pre>SVR(epsilon=0.2)</pre></div></div></div><div class=\"sk-serial\"><div class=\"sk-item\"><div class=\"sk-estimator sk-toggleable\"><input class=\"sk-toggleable__control sk-hidden--visually\" id=\"sk-estimator-id-12\" type=\"checkbox\" ><label for=\"sk-estimator-id-12\" class=\"sk-toggleable__label sk-toggleable__label-arrow\">SVR</label><div class=\"sk-toggleable__content\"><pre>SVR(epsilon=0.2)</pre></div></div></div></div></div></div></div></div></div></div>"
      ],
      "text/plain": [
       "GridSearchCV(cv=KFold(n_splits=5, random_state=42, shuffle=True),\n",
       "             estimator=SVR(epsilon=0.2), n_jobs=2,\n",
       "             param_grid={'C': [1, 10, 100, 1000, 10000],\n",
       "                         'gamma': [1e-06, 1e-05, 0.0001, 0.001, 0.01, 0.1]},\n",
       "             verbose=1)"
      ]
     },
     "execution_count": 203,
     "metadata": {},
     "output_type": "execute_result"
    }
   ],
   "source": [
    "svm.fit(x_tr, y_tr)"
   ]
  },
  {
   "cell_type": "code",
   "execution_count": 204,
   "id": "24b2ef53",
   "metadata": {},
   "outputs": [],
   "source": [
    "svm.best_params_\n",
    "best_svm = svm.best_estimator_"
   ]
  },
  {
   "cell_type": "code",
   "execution_count": 203,
   "id": "c7809dbc",
   "metadata": {},
   "outputs": [],
   "source": [
    "y_pred_CV_svm = cross_val_predict(best_svm, x_tr, y_tr, cv=cv)"
   ]
  },
  {
   "cell_type": "code",
   "execution_count": 204,
   "id": "42cf215f",
   "metadata": {},
   "outputs": [
    {
     "data": {
      "text/plain": [
       "0.53"
      ]
     },
     "execution_count": 204,
     "metadata": {},
     "output_type": "execute_result"
    }
   ],
   "source": [
    "Q2_CV = round(r2_score(y_tr, y_pred_CV_svm), 2)\n",
    "Q2_CV"
   ]
  },
  {
   "cell_type": "code",
   "execution_count": 206,
   "id": "e9712445",
   "metadata": {},
   "outputs": [
    {
     "data": {
      "text/plain": [
       "0.46"
      ]
     },
     "execution_count": 206,
     "metadata": {},
     "output_type": "execute_result"
    }
   ],
   "source": [
    "RMSE_CV=round(np.sqrt(mean_squared_error(y_tr, y_pred_CV_svm)), 2)\n",
    "RMSE_CV"
   ]
  },
  {
   "cell_type": "markdown",
   "id": "44b11930",
   "metadata": {},
   "source": [
    "## Prediction for test set's molecules"
   ]
  },
  {
   "cell_type": "code",
   "execution_count": 207,
   "id": "ba5facd8",
   "metadata": {},
   "outputs": [],
   "source": [
    "x_ts = np.array(x_ts, dtype=np.float32)\n",
    "y_ts = np.array(y_ts, dtype=np.float32)"
   ]
  },
  {
   "cell_type": "code",
   "execution_count": 208,
   "id": "81370684",
   "metadata": {},
   "outputs": [],
   "source": [
    "y_pred_svm = best_svm.predict(x_ts)"
   ]
  },
  {
   "cell_type": "code",
   "execution_count": 209,
   "id": "9a5ab55f",
   "metadata": {},
   "outputs": [
    {
     "data": {
      "text/plain": [
       "0.55"
      ]
     },
     "execution_count": 209,
     "metadata": {},
     "output_type": "execute_result"
    }
   ],
   "source": [
    "Q2_TS = round(r2_score(y_ts, y_pred_svm), 2)\n",
    "Q2_TS"
   ]
  },
  {
   "cell_type": "code",
   "execution_count": 210,
   "id": "4cf8e859",
   "metadata": {},
   "outputs": [
    {
     "data": {
      "text/plain": [
       "0.46"
      ]
     },
     "execution_count": 210,
     "metadata": {},
     "output_type": "execute_result"
    }
   ],
   "source": [
    "RMSE_TS=round(np.sqrt(mean_squared_error(y_ts, y_pred_svm)), 2)\n",
    "RMSE_TS"
   ]
  },
  {
   "cell_type": "markdown",
   "id": "c09a190d",
   "metadata": {},
   "source": [
    "save the model to disk"
   ]
  },
  {
   "cell_type": "code",
   "execution_count": 212,
   "id": "130e5c02",
   "metadata": {},
   "outputs": [],
   "source": [
    "pickle.dump(best_svm, open('Models/MACCS/LD50_mouse_introvenus_SVM_MACCS.pkl', 'wb'))"
   ]
  },
  {
   "cell_type": "markdown",
   "id": "db975997",
   "metadata": {},
   "source": [
    "load the model from disk"
   ]
  },
  {
   "cell_type": "code",
   "execution_count": 202,
   "id": "3c789932",
   "metadata": {},
   "outputs": [],
   "source": [
    "best_svm = pickle.load(open('Models/MACCS/LD50_mouse_introvenus_SVM_MACCS.pkl', 'rb'))"
   ]
  },
  {
   "cell_type": "markdown",
   "id": "3d548854",
   "metadata": {},
   "source": [
    "## Y-randomization SVM model"
   ]
  },
  {
   "cell_type": "code",
   "execution_count": 51,
   "id": "a7aa5a58",
   "metadata": {},
   "outputs": [
    {
     "name": "stderr",
     "output_type": "stream",
     "text": [
      "[Parallel(n_jobs=10)]: Using backend LokyBackend with 10 concurrent workers.\n",
      "[Parallel(n_jobs=10)]: Done  30 tasks      | elapsed: 13.7min\n"
     ]
    },
    {
     "name": "stdout",
     "output_type": "stream",
     "text": [
      "True score =  0.53 \n",
      "Y-randomization =  -0.1 \n",
      "p-value =  0.0196\n"
     ]
    },
    {
     "name": "stderr",
     "output_type": "stream",
     "text": [
      "[Parallel(n_jobs=10)]: Done  50 out of  50 | elapsed: 19.3min finished\n"
     ]
    }
   ],
   "source": [
    "permutations = 50\n",
    "score, permutation_scores, pvalue = permutation_test_score(best_svm, x_tr, y_tr,\n",
    "                                                           cv=cv, scoring='r2',\n",
    "                                                           n_permutations=permutations,\n",
    "                                                           n_jobs=10,\n",
    "                                                           verbose=1,\n",
    "                                                           random_state=24)\n",
    "print('True score = ', score.round(2),\n",
    "      '\\nY-randomization = ', np.mean(permutation_scores).round(2),\n",
    "      '\\np-value = ', pvalue.round(4))"
   ]
  },
  {
   "cell_type": "markdown",
   "id": "d1f8da2a",
   "metadata": {},
   "source": [
    "## Estimating applicability domain. Method - Euclidian distances, K=1"
   ]
  },
  {
   "cell_type": "code",
   "execution_count": 211,
   "id": "50a134d1",
   "metadata": {},
   "outputs": [],
   "source": [
    "neighbors_k= pairwise_distances(x_tr, n_jobs=-1)\n",
    "neighbors_k.sort(0)"
   ]
  },
  {
   "cell_type": "code",
   "execution_count": 212,
   "id": "fb147f60",
   "metadata": {},
   "outputs": [
    {
     "data": {
      "text/html": [
       "<div>\n",
       "<style scoped>\n",
       "    .dataframe tbody tr th:only-of-type {\n",
       "        vertical-align: middle;\n",
       "    }\n",
       "\n",
       "    .dataframe tbody tr th {\n",
       "        vertical-align: top;\n",
       "    }\n",
       "\n",
       "    .dataframe thead th {\n",
       "        text-align: right;\n",
       "    }\n",
       "</style>\n",
       "<table border=\"1\" class=\"dataframe\">\n",
       "  <thead>\n",
       "    <tr style=\"text-align: right;\">\n",
       "      <th></th>\n",
       "      <th>0</th>\n",
       "      <th>1</th>\n",
       "      <th>2</th>\n",
       "      <th>3</th>\n",
       "      <th>4</th>\n",
       "      <th>5</th>\n",
       "      <th>6</th>\n",
       "      <th>7</th>\n",
       "      <th>8</th>\n",
       "      <th>9</th>\n",
       "      <th>...</th>\n",
       "      <th>12044</th>\n",
       "      <th>12045</th>\n",
       "      <th>12046</th>\n",
       "      <th>12047</th>\n",
       "      <th>12048</th>\n",
       "      <th>12049</th>\n",
       "      <th>12050</th>\n",
       "      <th>12051</th>\n",
       "      <th>12052</th>\n",
       "      <th>12053</th>\n",
       "    </tr>\n",
       "  </thead>\n",
       "  <tbody>\n",
       "    <tr>\n",
       "      <th>0</th>\n",
       "      <td>0.000000</td>\n",
       "      <td>0.000000</td>\n",
       "      <td>0.000000</td>\n",
       "      <td>0.000000</td>\n",
       "      <td>0.000000</td>\n",
       "      <td>0.000000</td>\n",
       "      <td>0.000000</td>\n",
       "      <td>0.000000</td>\n",
       "      <td>0.000000</td>\n",
       "      <td>0.000000</td>\n",
       "      <td>...</td>\n",
       "      <td>0.000000</td>\n",
       "      <td>0.000000</td>\n",
       "      <td>0.000000</td>\n",
       "      <td>0.000000</td>\n",
       "      <td>0.000000</td>\n",
       "      <td>0.000000</td>\n",
       "      <td>0.000000</td>\n",
       "      <td>0.000000</td>\n",
       "      <td>0.000000</td>\n",
       "      <td>0.000000</td>\n",
       "    </tr>\n",
       "    <tr>\n",
       "      <th>1</th>\n",
       "      <td>2.000000</td>\n",
       "      <td>2.000000</td>\n",
       "      <td>1.414214</td>\n",
       "      <td>3.316625</td>\n",
       "      <td>3.464102</td>\n",
       "      <td>2.449490</td>\n",
       "      <td>2.236068</td>\n",
       "      <td>2.828427</td>\n",
       "      <td>2.000000</td>\n",
       "      <td>3.000000</td>\n",
       "      <td>...</td>\n",
       "      <td>1.000000</td>\n",
       "      <td>1.000000</td>\n",
       "      <td>4.358899</td>\n",
       "      <td>2.000000</td>\n",
       "      <td>1.414214</td>\n",
       "      <td>2.449490</td>\n",
       "      <td>1.000000</td>\n",
       "      <td>0.000000</td>\n",
       "      <td>3.872983</td>\n",
       "      <td>3.872983</td>\n",
       "    </tr>\n",
       "    <tr>\n",
       "      <th>2</th>\n",
       "      <td>2.000000</td>\n",
       "      <td>2.645751</td>\n",
       "      <td>1.732051</td>\n",
       "      <td>3.316625</td>\n",
       "      <td>3.605551</td>\n",
       "      <td>2.645751</td>\n",
       "      <td>2.449490</td>\n",
       "      <td>2.828427</td>\n",
       "      <td>2.645751</td>\n",
       "      <td>3.000000</td>\n",
       "      <td>...</td>\n",
       "      <td>1.000000</td>\n",
       "      <td>4.000000</td>\n",
       "      <td>4.582576</td>\n",
       "      <td>2.000000</td>\n",
       "      <td>1.414214</td>\n",
       "      <td>2.449490</td>\n",
       "      <td>1.414214</td>\n",
       "      <td>1.414214</td>\n",
       "      <td>3.872983</td>\n",
       "      <td>4.000000</td>\n",
       "    </tr>\n",
       "    <tr>\n",
       "      <th>3</th>\n",
       "      <td>2.000000</td>\n",
       "      <td>2.645751</td>\n",
       "      <td>1.732051</td>\n",
       "      <td>3.316625</td>\n",
       "      <td>3.605551</td>\n",
       "      <td>2.645751</td>\n",
       "      <td>2.449490</td>\n",
       "      <td>3.000000</td>\n",
       "      <td>2.828427</td>\n",
       "      <td>3.741657</td>\n",
       "      <td>...</td>\n",
       "      <td>1.414214</td>\n",
       "      <td>4.000000</td>\n",
       "      <td>4.582576</td>\n",
       "      <td>2.449490</td>\n",
       "      <td>1.414214</td>\n",
       "      <td>3.464102</td>\n",
       "      <td>1.732051</td>\n",
       "      <td>1.732051</td>\n",
       "      <td>3.872983</td>\n",
       "      <td>4.242640</td>\n",
       "    </tr>\n",
       "    <tr>\n",
       "      <th>4</th>\n",
       "      <td>2.449490</td>\n",
       "      <td>2.828427</td>\n",
       "      <td>2.000000</td>\n",
       "      <td>3.464102</td>\n",
       "      <td>3.741657</td>\n",
       "      <td>2.828427</td>\n",
       "      <td>2.645751</td>\n",
       "      <td>3.162278</td>\n",
       "      <td>2.828427</td>\n",
       "      <td>3.872983</td>\n",
       "      <td>...</td>\n",
       "      <td>1.732051</td>\n",
       "      <td>4.358899</td>\n",
       "      <td>4.690416</td>\n",
       "      <td>2.449490</td>\n",
       "      <td>2.000000</td>\n",
       "      <td>3.741657</td>\n",
       "      <td>2.000000</td>\n",
       "      <td>2.000000</td>\n",
       "      <td>4.000000</td>\n",
       "      <td>4.242640</td>\n",
       "    </tr>\n",
       "    <tr>\n",
       "      <th>...</th>\n",
       "      <td>...</td>\n",
       "      <td>...</td>\n",
       "      <td>...</td>\n",
       "      <td>...</td>\n",
       "      <td>...</td>\n",
       "      <td>...</td>\n",
       "      <td>...</td>\n",
       "      <td>...</td>\n",
       "      <td>...</td>\n",
       "      <td>...</td>\n",
       "      <td>...</td>\n",
       "      <td>...</td>\n",
       "      <td>...</td>\n",
       "      <td>...</td>\n",
       "      <td>...</td>\n",
       "      <td>...</td>\n",
       "      <td>...</td>\n",
       "      <td>...</td>\n",
       "      <td>...</td>\n",
       "      <td>...</td>\n",
       "      <td>...</td>\n",
       "    </tr>\n",
       "    <tr>\n",
       "      <th>12049</th>\n",
       "      <td>9.110434</td>\n",
       "      <td>9.110434</td>\n",
       "      <td>8.246211</td>\n",
       "      <td>8.544003</td>\n",
       "      <td>9.055386</td>\n",
       "      <td>9.000000</td>\n",
       "      <td>8.717798</td>\n",
       "      <td>8.831760</td>\n",
       "      <td>8.426149</td>\n",
       "      <td>8.306623</td>\n",
       "      <td>...</td>\n",
       "      <td>8.774964</td>\n",
       "      <td>8.944272</td>\n",
       "      <td>9.165152</td>\n",
       "      <td>8.944272</td>\n",
       "      <td>8.717798</td>\n",
       "      <td>8.717798</td>\n",
       "      <td>8.831760</td>\n",
       "      <td>8.831760</td>\n",
       "      <td>8.831760</td>\n",
       "      <td>9.219544</td>\n",
       "    </tr>\n",
       "    <tr>\n",
       "      <th>12050</th>\n",
       "      <td>9.165152</td>\n",
       "      <td>9.165152</td>\n",
       "      <td>8.366600</td>\n",
       "      <td>8.544003</td>\n",
       "      <td>9.055386</td>\n",
       "      <td>9.000000</td>\n",
       "      <td>8.774964</td>\n",
       "      <td>8.888194</td>\n",
       "      <td>8.426149</td>\n",
       "      <td>8.306623</td>\n",
       "      <td>...</td>\n",
       "      <td>8.774964</td>\n",
       "      <td>8.944272</td>\n",
       "      <td>9.219544</td>\n",
       "      <td>8.944272</td>\n",
       "      <td>8.774964</td>\n",
       "      <td>8.717798</td>\n",
       "      <td>8.888194</td>\n",
       "      <td>8.831760</td>\n",
       "      <td>8.831760</td>\n",
       "      <td>9.273619</td>\n",
       "    </tr>\n",
       "    <tr>\n",
       "      <th>12051</th>\n",
       "      <td>9.165152</td>\n",
       "      <td>9.219544</td>\n",
       "      <td>8.426149</td>\n",
       "      <td>8.602325</td>\n",
       "      <td>9.055386</td>\n",
       "      <td>9.055386</td>\n",
       "      <td>8.774964</td>\n",
       "      <td>8.944272</td>\n",
       "      <td>8.485281</td>\n",
       "      <td>8.366600</td>\n",
       "      <td>...</td>\n",
       "      <td>8.774964</td>\n",
       "      <td>8.944272</td>\n",
       "      <td>9.219544</td>\n",
       "      <td>8.944272</td>\n",
       "      <td>8.774964</td>\n",
       "      <td>8.717798</td>\n",
       "      <td>8.888194</td>\n",
       "      <td>8.888194</td>\n",
       "      <td>8.888194</td>\n",
       "      <td>9.273619</td>\n",
       "    </tr>\n",
       "    <tr>\n",
       "      <th>12052</th>\n",
       "      <td>9.219544</td>\n",
       "      <td>9.219544</td>\n",
       "      <td>8.426149</td>\n",
       "      <td>8.602325</td>\n",
       "      <td>9.110434</td>\n",
       "      <td>9.110434</td>\n",
       "      <td>8.831760</td>\n",
       "      <td>9.000000</td>\n",
       "      <td>8.485281</td>\n",
       "      <td>8.366600</td>\n",
       "      <td>...</td>\n",
       "      <td>8.774964</td>\n",
       "      <td>8.944272</td>\n",
       "      <td>9.219544</td>\n",
       "      <td>8.944272</td>\n",
       "      <td>8.888194</td>\n",
       "      <td>8.717798</td>\n",
       "      <td>9.000000</td>\n",
       "      <td>8.944272</td>\n",
       "      <td>8.888194</td>\n",
       "      <td>9.273619</td>\n",
       "    </tr>\n",
       "    <tr>\n",
       "      <th>12053</th>\n",
       "      <td>9.327379</td>\n",
       "      <td>9.433981</td>\n",
       "      <td>8.485281</td>\n",
       "      <td>8.660254</td>\n",
       "      <td>9.165152</td>\n",
       "      <td>9.110434</td>\n",
       "      <td>8.944272</td>\n",
       "      <td>9.000000</td>\n",
       "      <td>8.485281</td>\n",
       "      <td>8.426149</td>\n",
       "      <td>...</td>\n",
       "      <td>8.944272</td>\n",
       "      <td>9.055386</td>\n",
       "      <td>9.273619</td>\n",
       "      <td>9.000000</td>\n",
       "      <td>8.888194</td>\n",
       "      <td>8.774964</td>\n",
       "      <td>9.110434</td>\n",
       "      <td>9.055386</td>\n",
       "      <td>8.944272</td>\n",
       "      <td>9.327379</td>\n",
       "    </tr>\n",
       "  </tbody>\n",
       "</table>\n",
       "<p>12054 rows × 12054 columns</p>\n",
       "</div>"
      ],
      "text/plain": [
       "          0         1         2         3         4         5         6      \\\n",
       "0      0.000000  0.000000  0.000000  0.000000  0.000000  0.000000  0.000000   \n",
       "1      2.000000  2.000000  1.414214  3.316625  3.464102  2.449490  2.236068   \n",
       "2      2.000000  2.645751  1.732051  3.316625  3.605551  2.645751  2.449490   \n",
       "3      2.000000  2.645751  1.732051  3.316625  3.605551  2.645751  2.449490   \n",
       "4      2.449490  2.828427  2.000000  3.464102  3.741657  2.828427  2.645751   \n",
       "...         ...       ...       ...       ...       ...       ...       ...   \n",
       "12049  9.110434  9.110434  8.246211  8.544003  9.055386  9.000000  8.717798   \n",
       "12050  9.165152  9.165152  8.366600  8.544003  9.055386  9.000000  8.774964   \n",
       "12051  9.165152  9.219544  8.426149  8.602325  9.055386  9.055386  8.774964   \n",
       "12052  9.219544  9.219544  8.426149  8.602325  9.110434  9.110434  8.831760   \n",
       "12053  9.327379  9.433981  8.485281  8.660254  9.165152  9.110434  8.944272   \n",
       "\n",
       "          7         8         9      ...     12044     12045     12046  \\\n",
       "0      0.000000  0.000000  0.000000  ...  0.000000  0.000000  0.000000   \n",
       "1      2.828427  2.000000  3.000000  ...  1.000000  1.000000  4.358899   \n",
       "2      2.828427  2.645751  3.000000  ...  1.000000  4.000000  4.582576   \n",
       "3      3.000000  2.828427  3.741657  ...  1.414214  4.000000  4.582576   \n",
       "4      3.162278  2.828427  3.872983  ...  1.732051  4.358899  4.690416   \n",
       "...         ...       ...       ...  ...       ...       ...       ...   \n",
       "12049  8.831760  8.426149  8.306623  ...  8.774964  8.944272  9.165152   \n",
       "12050  8.888194  8.426149  8.306623  ...  8.774964  8.944272  9.219544   \n",
       "12051  8.944272  8.485281  8.366600  ...  8.774964  8.944272  9.219544   \n",
       "12052  9.000000  8.485281  8.366600  ...  8.774964  8.944272  9.219544   \n",
       "12053  9.000000  8.485281  8.426149  ...  8.944272  9.055386  9.273619   \n",
       "\n",
       "          12047     12048     12049     12050     12051     12052     12053  \n",
       "0      0.000000  0.000000  0.000000  0.000000  0.000000  0.000000  0.000000  \n",
       "1      2.000000  1.414214  2.449490  1.000000  0.000000  3.872983  3.872983  \n",
       "2      2.000000  1.414214  2.449490  1.414214  1.414214  3.872983  4.000000  \n",
       "3      2.449490  1.414214  3.464102  1.732051  1.732051  3.872983  4.242640  \n",
       "4      2.449490  2.000000  3.741657  2.000000  2.000000  4.000000  4.242640  \n",
       "...         ...       ...       ...       ...       ...       ...       ...  \n",
       "12049  8.944272  8.717798  8.717798  8.831760  8.831760  8.831760  9.219544  \n",
       "12050  8.944272  8.774964  8.717798  8.888194  8.831760  8.831760  9.273619  \n",
       "12051  8.944272  8.774964  8.717798  8.888194  8.888194  8.888194  9.273619  \n",
       "12052  8.944272  8.888194  8.717798  9.000000  8.944272  8.888194  9.273619  \n",
       "12053  9.000000  8.888194  8.774964  9.110434  9.055386  8.944272  9.327379  \n",
       "\n",
       "[12054 rows x 12054 columns]"
      ]
     },
     "execution_count": 212,
     "metadata": {},
     "output_type": "execute_result"
    }
   ],
   "source": [
    "df_tr=pd.DataFrame(neighbors_k)\n",
    "df_tr"
   ]
  },
  {
   "cell_type": "code",
   "execution_count": 213,
   "id": "07abe5fd",
   "metadata": {},
   "outputs": [],
   "source": [
    "similarity= neighbors_k"
   ]
  },
  {
   "cell_type": "code",
   "execution_count": 214,
   "id": "d35c8bea",
   "metadata": {},
   "outputs": [],
   "source": [
    "Dmean=np.mean(similarity[1,:])"
   ]
  },
  {
   "cell_type": "code",
   "execution_count": 215,
   "id": "4d3bc2c6",
   "metadata": {},
   "outputs": [
    {
     "data": {
      "text/plain": [
       "1.92"
      ]
     },
     "execution_count": 215,
     "metadata": {},
     "output_type": "execute_result"
    }
   ],
   "source": [
    "round(Dmean, 2)"
   ]
  },
  {
   "cell_type": "code",
   "execution_count": 216,
   "id": "747c19fe",
   "metadata": {},
   "outputs": [],
   "source": [
    "std=np.std(similarity[1,:])"
   ]
  },
  {
   "cell_type": "code",
   "execution_count": 217,
   "id": "4edd0966",
   "metadata": {},
   "outputs": [
    {
     "data": {
      "text/plain": [
       "1.05"
      ]
     },
     "execution_count": 217,
     "metadata": {},
     "output_type": "execute_result"
    }
   ],
   "source": [
    "round(std, 2)"
   ]
  },
  {
   "cell_type": "code",
   "execution_count": 218,
   "id": "49e08b42",
   "metadata": {},
   "outputs": [
    {
     "name": "stdout",
     "output_type": "stream",
     "text": [
      "2.45\n"
     ]
    }
   ],
   "source": [
    "model_AD_limit=Dmean+std*0.5\n",
    "print(np.round(model_AD_limit, 2))"
   ]
  },
  {
   "cell_type": "code",
   "execution_count": 219,
   "id": "fac8fcda",
   "metadata": {},
   "outputs": [],
   "source": [
    "neighbors_k_ts= pairwise_distances(x_tr,Y=x_ts, n_jobs=-1)\n",
    "neighbors_k_ts.sort(0)"
   ]
  },
  {
   "cell_type": "code",
   "execution_count": 220,
   "id": "b8f55612",
   "metadata": {},
   "outputs": [
    {
     "data": {
      "text/html": [
       "<div>\n",
       "<style scoped>\n",
       "    .dataframe tbody tr th:only-of-type {\n",
       "        vertical-align: middle;\n",
       "    }\n",
       "\n",
       "    .dataframe tbody tr th {\n",
       "        vertical-align: top;\n",
       "    }\n",
       "\n",
       "    .dataframe thead th {\n",
       "        text-align: right;\n",
       "    }\n",
       "</style>\n",
       "<table border=\"1\" class=\"dataframe\">\n",
       "  <thead>\n",
       "    <tr style=\"text-align: right;\">\n",
       "      <th></th>\n",
       "      <th>0</th>\n",
       "      <th>1</th>\n",
       "      <th>2</th>\n",
       "      <th>3</th>\n",
       "      <th>4</th>\n",
       "      <th>5</th>\n",
       "      <th>6</th>\n",
       "      <th>7</th>\n",
       "      <th>8</th>\n",
       "      <th>9</th>\n",
       "      <th>...</th>\n",
       "      <th>3004</th>\n",
       "      <th>3005</th>\n",
       "      <th>3006</th>\n",
       "      <th>3007</th>\n",
       "      <th>3008</th>\n",
       "      <th>3009</th>\n",
       "      <th>3010</th>\n",
       "      <th>3011</th>\n",
       "      <th>3012</th>\n",
       "      <th>3013</th>\n",
       "    </tr>\n",
       "  </thead>\n",
       "  <tbody>\n",
       "    <tr>\n",
       "      <th>0</th>\n",
       "      <td>2.000000</td>\n",
       "      <td>1.414214</td>\n",
       "      <td>1.000000</td>\n",
       "      <td>2.236068</td>\n",
       "      <td>1.732051</td>\n",
       "      <td>1.000000</td>\n",
       "      <td>1.732051</td>\n",
       "      <td>2.645751</td>\n",
       "      <td>2.000000</td>\n",
       "      <td>2.828427</td>\n",
       "      <td>...</td>\n",
       "      <td>1.000000</td>\n",
       "      <td>2.000000</td>\n",
       "      <td>0.000000</td>\n",
       "      <td>2.449490</td>\n",
       "      <td>2.000000</td>\n",
       "      <td>0.000000</td>\n",
       "      <td>3.605551</td>\n",
       "      <td>1.414214</td>\n",
       "      <td>2.000000</td>\n",
       "      <td>2.000000</td>\n",
       "    </tr>\n",
       "    <tr>\n",
       "      <th>1</th>\n",
       "      <td>2.449490</td>\n",
       "      <td>1.732051</td>\n",
       "      <td>1.414214</td>\n",
       "      <td>2.236068</td>\n",
       "      <td>2.645751</td>\n",
       "      <td>1.414214</td>\n",
       "      <td>2.000000</td>\n",
       "      <td>2.645751</td>\n",
       "      <td>2.000000</td>\n",
       "      <td>2.828427</td>\n",
       "      <td>...</td>\n",
       "      <td>3.162278</td>\n",
       "      <td>2.828427</td>\n",
       "      <td>1.000000</td>\n",
       "      <td>3.162278</td>\n",
       "      <td>3.872983</td>\n",
       "      <td>1.000000</td>\n",
       "      <td>3.872983</td>\n",
       "      <td>2.000000</td>\n",
       "      <td>2.000000</td>\n",
       "      <td>2.236068</td>\n",
       "    </tr>\n",
       "    <tr>\n",
       "      <th>2</th>\n",
       "      <td>2.645751</td>\n",
       "      <td>1.732051</td>\n",
       "      <td>1.732051</td>\n",
       "      <td>2.645751</td>\n",
       "      <td>2.828427</td>\n",
       "      <td>1.732051</td>\n",
       "      <td>2.236068</td>\n",
       "      <td>3.162278</td>\n",
       "      <td>2.236068</td>\n",
       "      <td>2.828427</td>\n",
       "      <td>...</td>\n",
       "      <td>3.162278</td>\n",
       "      <td>4.358899</td>\n",
       "      <td>1.000000</td>\n",
       "      <td>3.316625</td>\n",
       "      <td>3.872983</td>\n",
       "      <td>3.872983</td>\n",
       "      <td>3.872983</td>\n",
       "      <td>2.000000</td>\n",
       "      <td>4.582576</td>\n",
       "      <td>2.236068</td>\n",
       "    </tr>\n",
       "    <tr>\n",
       "      <th>3</th>\n",
       "      <td>2.828427</td>\n",
       "      <td>1.732051</td>\n",
       "      <td>2.000000</td>\n",
       "      <td>2.645751</td>\n",
       "      <td>2.828427</td>\n",
       "      <td>2.000000</td>\n",
       "      <td>2.236068</td>\n",
       "      <td>3.316625</td>\n",
       "      <td>2.449490</td>\n",
       "      <td>3.162278</td>\n",
       "      <td>...</td>\n",
       "      <td>3.162278</td>\n",
       "      <td>4.582576</td>\n",
       "      <td>1.414214</td>\n",
       "      <td>3.872983</td>\n",
       "      <td>4.242640</td>\n",
       "      <td>3.872983</td>\n",
       "      <td>4.000000</td>\n",
       "      <td>2.449490</td>\n",
       "      <td>4.582576</td>\n",
       "      <td>2.449490</td>\n",
       "    </tr>\n",
       "    <tr>\n",
       "      <th>4</th>\n",
       "      <td>2.828427</td>\n",
       "      <td>1.732051</td>\n",
       "      <td>2.236068</td>\n",
       "      <td>2.828427</td>\n",
       "      <td>3.000000</td>\n",
       "      <td>2.236068</td>\n",
       "      <td>2.236068</td>\n",
       "      <td>3.464102</td>\n",
       "      <td>2.645751</td>\n",
       "      <td>3.316625</td>\n",
       "      <td>...</td>\n",
       "      <td>3.162278</td>\n",
       "      <td>4.582576</td>\n",
       "      <td>1.414214</td>\n",
       "      <td>3.872983</td>\n",
       "      <td>4.898980</td>\n",
       "      <td>3.872983</td>\n",
       "      <td>4.000000</td>\n",
       "      <td>2.449490</td>\n",
       "      <td>4.582576</td>\n",
       "      <td>2.645751</td>\n",
       "    </tr>\n",
       "    <tr>\n",
       "      <th>...</th>\n",
       "      <td>...</td>\n",
       "      <td>...</td>\n",
       "      <td>...</td>\n",
       "      <td>...</td>\n",
       "      <td>...</td>\n",
       "      <td>...</td>\n",
       "      <td>...</td>\n",
       "      <td>...</td>\n",
       "      <td>...</td>\n",
       "      <td>...</td>\n",
       "      <td>...</td>\n",
       "      <td>...</td>\n",
       "      <td>...</td>\n",
       "      <td>...</td>\n",
       "      <td>...</td>\n",
       "      <td>...</td>\n",
       "      <td>...</td>\n",
       "      <td>...</td>\n",
       "      <td>...</td>\n",
       "      <td>...</td>\n",
       "      <td>...</td>\n",
       "    </tr>\n",
       "    <tr>\n",
       "      <th>12049</th>\n",
       "      <td>8.831760</td>\n",
       "      <td>9.327379</td>\n",
       "      <td>8.888194</td>\n",
       "      <td>8.888194</td>\n",
       "      <td>8.831760</td>\n",
       "      <td>8.888194</td>\n",
       "      <td>8.366600</td>\n",
       "      <td>8.831760</td>\n",
       "      <td>9.055386</td>\n",
       "      <td>9.165152</td>\n",
       "      <td>...</td>\n",
       "      <td>8.888194</td>\n",
       "      <td>8.944272</td>\n",
       "      <td>8.774964</td>\n",
       "      <td>8.485281</td>\n",
       "      <td>8.544003</td>\n",
       "      <td>9.000000</td>\n",
       "      <td>8.485281</td>\n",
       "      <td>8.888194</td>\n",
       "      <td>8.602325</td>\n",
       "      <td>8.888194</td>\n",
       "    </tr>\n",
       "    <tr>\n",
       "      <th>12050</th>\n",
       "      <td>8.888194</td>\n",
       "      <td>9.327379</td>\n",
       "      <td>8.944272</td>\n",
       "      <td>8.944272</td>\n",
       "      <td>8.831760</td>\n",
       "      <td>8.944272</td>\n",
       "      <td>8.366600</td>\n",
       "      <td>8.831760</td>\n",
       "      <td>9.055386</td>\n",
       "      <td>9.219544</td>\n",
       "      <td>...</td>\n",
       "      <td>8.888194</td>\n",
       "      <td>8.944272</td>\n",
       "      <td>8.774964</td>\n",
       "      <td>8.544003</td>\n",
       "      <td>8.544003</td>\n",
       "      <td>9.055386</td>\n",
       "      <td>8.485281</td>\n",
       "      <td>8.944272</td>\n",
       "      <td>8.602325</td>\n",
       "      <td>8.888194</td>\n",
       "    </tr>\n",
       "    <tr>\n",
       "      <th>12051</th>\n",
       "      <td>8.888194</td>\n",
       "      <td>9.380832</td>\n",
       "      <td>9.000000</td>\n",
       "      <td>8.944272</td>\n",
       "      <td>8.831760</td>\n",
       "      <td>9.000000</td>\n",
       "      <td>8.426149</td>\n",
       "      <td>8.944272</td>\n",
       "      <td>9.110434</td>\n",
       "      <td>9.219544</td>\n",
       "      <td>...</td>\n",
       "      <td>8.888194</td>\n",
       "      <td>8.944272</td>\n",
       "      <td>8.831760</td>\n",
       "      <td>8.660254</td>\n",
       "      <td>8.544003</td>\n",
       "      <td>9.055386</td>\n",
       "      <td>8.544003</td>\n",
       "      <td>8.944272</td>\n",
       "      <td>8.660254</td>\n",
       "      <td>8.888194</td>\n",
       "    </tr>\n",
       "    <tr>\n",
       "      <th>12052</th>\n",
       "      <td>8.944272</td>\n",
       "      <td>9.433981</td>\n",
       "      <td>9.000000</td>\n",
       "      <td>9.000000</td>\n",
       "      <td>8.888194</td>\n",
       "      <td>9.000000</td>\n",
       "      <td>8.485281</td>\n",
       "      <td>8.944272</td>\n",
       "      <td>9.165152</td>\n",
       "      <td>9.273619</td>\n",
       "      <td>...</td>\n",
       "      <td>8.888194</td>\n",
       "      <td>8.944272</td>\n",
       "      <td>8.831760</td>\n",
       "      <td>8.717798</td>\n",
       "      <td>8.660254</td>\n",
       "      <td>9.055386</td>\n",
       "      <td>8.602325</td>\n",
       "      <td>8.944272</td>\n",
       "      <td>8.660254</td>\n",
       "      <td>8.944272</td>\n",
       "    </tr>\n",
       "    <tr>\n",
       "      <th>12053</th>\n",
       "      <td>9.000000</td>\n",
       "      <td>9.486833</td>\n",
       "      <td>9.219544</td>\n",
       "      <td>9.165152</td>\n",
       "      <td>9.055386</td>\n",
       "      <td>9.219544</td>\n",
       "      <td>8.544003</td>\n",
       "      <td>9.055386</td>\n",
       "      <td>9.219544</td>\n",
       "      <td>9.433981</td>\n",
       "      <td>...</td>\n",
       "      <td>8.888194</td>\n",
       "      <td>9.110434</td>\n",
       "      <td>8.888194</td>\n",
       "      <td>8.774964</td>\n",
       "      <td>8.717798</td>\n",
       "      <td>9.055386</td>\n",
       "      <td>8.602325</td>\n",
       "      <td>9.000000</td>\n",
       "      <td>8.774964</td>\n",
       "      <td>8.944272</td>\n",
       "    </tr>\n",
       "  </tbody>\n",
       "</table>\n",
       "<p>12054 rows × 3014 columns</p>\n",
       "</div>"
      ],
      "text/plain": [
       "           0         1         2         3         4         5         6     \\\n",
       "0      2.000000  1.414214  1.000000  2.236068  1.732051  1.000000  1.732051   \n",
       "1      2.449490  1.732051  1.414214  2.236068  2.645751  1.414214  2.000000   \n",
       "2      2.645751  1.732051  1.732051  2.645751  2.828427  1.732051  2.236068   \n",
       "3      2.828427  1.732051  2.000000  2.645751  2.828427  2.000000  2.236068   \n",
       "4      2.828427  1.732051  2.236068  2.828427  3.000000  2.236068  2.236068   \n",
       "...         ...       ...       ...       ...       ...       ...       ...   \n",
       "12049  8.831760  9.327379  8.888194  8.888194  8.831760  8.888194  8.366600   \n",
       "12050  8.888194  9.327379  8.944272  8.944272  8.831760  8.944272  8.366600   \n",
       "12051  8.888194  9.380832  9.000000  8.944272  8.831760  9.000000  8.426149   \n",
       "12052  8.944272  9.433981  9.000000  9.000000  8.888194  9.000000  8.485281   \n",
       "12053  9.000000  9.486833  9.219544  9.165152  9.055386  9.219544  8.544003   \n",
       "\n",
       "           7         8         9     ...      3004      3005      3006  \\\n",
       "0      2.645751  2.000000  2.828427  ...  1.000000  2.000000  0.000000   \n",
       "1      2.645751  2.000000  2.828427  ...  3.162278  2.828427  1.000000   \n",
       "2      3.162278  2.236068  2.828427  ...  3.162278  4.358899  1.000000   \n",
       "3      3.316625  2.449490  3.162278  ...  3.162278  4.582576  1.414214   \n",
       "4      3.464102  2.645751  3.316625  ...  3.162278  4.582576  1.414214   \n",
       "...         ...       ...       ...  ...       ...       ...       ...   \n",
       "12049  8.831760  9.055386  9.165152  ...  8.888194  8.944272  8.774964   \n",
       "12050  8.831760  9.055386  9.219544  ...  8.888194  8.944272  8.774964   \n",
       "12051  8.944272  9.110434  9.219544  ...  8.888194  8.944272  8.831760   \n",
       "12052  8.944272  9.165152  9.273619  ...  8.888194  8.944272  8.831760   \n",
       "12053  9.055386  9.219544  9.433981  ...  8.888194  9.110434  8.888194   \n",
       "\n",
       "           3007      3008      3009      3010      3011      3012      3013  \n",
       "0      2.449490  2.000000  0.000000  3.605551  1.414214  2.000000  2.000000  \n",
       "1      3.162278  3.872983  1.000000  3.872983  2.000000  2.000000  2.236068  \n",
       "2      3.316625  3.872983  3.872983  3.872983  2.000000  4.582576  2.236068  \n",
       "3      3.872983  4.242640  3.872983  4.000000  2.449490  4.582576  2.449490  \n",
       "4      3.872983  4.898980  3.872983  4.000000  2.449490  4.582576  2.645751  \n",
       "...         ...       ...       ...       ...       ...       ...       ...  \n",
       "12049  8.485281  8.544003  9.000000  8.485281  8.888194  8.602325  8.888194  \n",
       "12050  8.544003  8.544003  9.055386  8.485281  8.944272  8.602325  8.888194  \n",
       "12051  8.660254  8.544003  9.055386  8.544003  8.944272  8.660254  8.888194  \n",
       "12052  8.717798  8.660254  9.055386  8.602325  8.944272  8.660254  8.944272  \n",
       "12053  8.774964  8.717798  9.055386  8.602325  9.000000  8.774964  8.944272  \n",
       "\n",
       "[12054 rows x 3014 columns]"
      ]
     },
     "execution_count": 220,
     "metadata": {},
     "output_type": "execute_result"
    }
   ],
   "source": [
    "x_ts_AD=pd.DataFrame(neighbors_k_ts)\n",
    "x_ts_AD"
   ]
  },
  {
   "cell_type": "code",
   "execution_count": 221,
   "id": "49378c44",
   "metadata": {},
   "outputs": [
    {
     "name": "stdout",
     "output_type": "stream",
     "text": [
      "[2.    1.414 1.    ... 1.414 2.    2.   ]\n"
     ]
    }
   ],
   "source": [
    "similarity_ts= neighbors_k_ts\n",
    "cpd_AD=similarity_ts[0,:]\n",
    "cpd_value = np.round(cpd_AD, 3)\n",
    "print(cpd_value)"
   ]
  },
  {
   "cell_type": "code",
   "execution_count": 222,
   "id": "88fc911e",
   "metadata": {},
   "outputs": [
    {
     "name": "stdout",
     "output_type": "stream",
     "text": [
      "[ True  True  True ...  True  True  True]\n"
     ]
    }
   ],
   "source": [
    "cpd_AD = np.where(cpd_value <= model_AD_limit, True, False)\n",
    "print(cpd_AD)"
   ]
  },
  {
   "cell_type": "code",
   "execution_count": 223,
   "id": "ef419713",
   "metadata": {},
   "outputs": [
    {
     "name": "stdout",
     "output_type": "stream",
     "text": [
      "Coverage =  0.7222959522229595\n"
     ]
    }
   ],
   "source": [
    "print(\"Coverage = \", sum(cpd_AD) / len(cpd_AD))"
   ]
  },
  {
   "cell_type": "code",
   "execution_count": 224,
   "id": "e255e405",
   "metadata": {},
   "outputs": [
    {
     "name": "stdout",
     "output_type": "stream",
     "text": [
      "Indices of substances included in AD =  [   0    1    2 ... 3011 3012 3013]\n"
     ]
    }
   ],
   "source": [
    "print(\"Indices of substances included in AD = \", np.where(cpd_AD != 0)[0])"
   ]
  },
  {
   "cell_type": "code",
   "execution_count": 225,
   "id": "7fe08a8a",
   "metadata": {},
   "outputs": [],
   "source": [
    "out_Ad=list(np.where(cpd_AD == 0)[0])"
   ]
  },
  {
   "cell_type": "markdown",
   "id": "0c73a366",
   "metadata": {},
   "source": [
    "##  Prediction only for molecules included in  AD"
   ]
  },
  {
   "cell_type": "code",
   "execution_count": 226,
   "id": "d6591da7",
   "metadata": {},
   "outputs": [],
   "source": [
    "y_pred_svm_ad=list(y_pred_svm)"
   ]
  },
  {
   "cell_type": "code",
   "execution_count": 227,
   "id": "677c2877",
   "metadata": {},
   "outputs": [],
   "source": [
    "y_pred_svm_ad[:] = [x for i,x in enumerate(y_pred_svm_ad) if i not in out_Ad]"
   ]
  },
  {
   "cell_type": "code",
   "execution_count": 228,
   "id": "7b44edd6",
   "metadata": {},
   "outputs": [
    {
     "data": {
      "text/plain": [
       "2177"
      ]
     },
     "execution_count": 228,
     "metadata": {},
     "output_type": "execute_result"
    }
   ],
   "source": [
    "len(y_pred_svm_ad)"
   ]
  },
  {
   "cell_type": "code",
   "execution_count": 229,
   "id": "13bb336d",
   "metadata": {},
   "outputs": [],
   "source": [
    "y_ts_ad=list(y_ts)"
   ]
  },
  {
   "cell_type": "code",
   "execution_count": 230,
   "id": "f780e94b",
   "metadata": {},
   "outputs": [],
   "source": [
    "y_ts_ad[:] = [x for i,x in enumerate(y_ts_ad) if i not in out_Ad]"
   ]
  },
  {
   "cell_type": "code",
   "execution_count": 231,
   "id": "825d48de",
   "metadata": {},
   "outputs": [
    {
     "data": {
      "text/plain": [
       "2177"
      ]
     },
     "execution_count": 231,
     "metadata": {},
     "output_type": "execute_result"
    }
   ],
   "source": [
    "len(y_ts_ad)"
   ]
  },
  {
   "cell_type": "code",
   "execution_count": 232,
   "id": "75ed2307",
   "metadata": {},
   "outputs": [
    {
     "data": {
      "text/plain": [
       "0.63"
      ]
     },
     "execution_count": 232,
     "metadata": {},
     "output_type": "execute_result"
    }
   ],
   "source": [
    "Q2_TS = round(r2_score(y_ts_ad, y_pred_svm_ad), 2)\n",
    "Q2_TS"
   ]
  },
  {
   "cell_type": "code",
   "execution_count": 233,
   "id": "b77c0b55",
   "metadata": {},
   "outputs": [
    {
     "data": {
      "text/plain": [
       "0.41"
      ]
     },
     "execution_count": 233,
     "metadata": {},
     "output_type": "execute_result"
    }
   ],
   "source": [
    "RMSE_TS=round(np.sqrt(mean_squared_error(y_ts_ad, y_pred_svm_ad)), 2)\n",
    "RMSE_TS"
   ]
  },
  {
   "cell_type": "markdown",
   "id": "e8299d34",
   "metadata": {},
   "source": [
    "# Consensus"
   ]
  },
  {
   "cell_type": "markdown",
   "id": "2470fc69",
   "metadata": {},
   "source": [
    "##  load the models from disk"
   ]
  },
  {
   "cell_type": "code",
   "execution_count": 237,
   "id": "7e41e0d0",
   "metadata": {},
   "outputs": [],
   "source": [
    "best_svm = pickle.load(open('Models/MACCS/LD50_mouse_introvenus_SVM_MACCS.pkl', 'rb'))"
   ]
  },
  {
   "cell_type": "code",
   "execution_count": 238,
   "id": "88904575",
   "metadata": {},
   "outputs": [],
   "source": [
    "best_rf = pickle.load(open('Models/MACCS/LD50_mouse_introvenus_RF_MACCS.pkl', 'rb'))"
   ]
  },
  {
   "cell_type": "markdown",
   "id": "709396e2",
   "metadata": {},
   "source": [
    "## Prediction for CV"
   ]
  },
  {
   "cell_type": "code",
   "execution_count": 239,
   "id": "6446a674",
   "metadata": {},
   "outputs": [],
   "source": [
    "seed = 42\n",
    "cv=KFold(n_splits=5, random_state=seed, shuffle=True)"
   ]
  },
  {
   "cell_type": "code",
   "execution_count": 240,
   "id": "3d062e83",
   "metadata": {},
   "outputs": [],
   "source": [
    "y_pred_CV_svm = cross_val_predict(best_svm, x_tr, y_tr, cv=cv)"
   ]
  },
  {
   "cell_type": "code",
   "execution_count": 241,
   "id": "2fe85aa5",
   "metadata": {},
   "outputs": [],
   "source": [
    "y_pred_CV_rf = cross_val_predict(best_rf, x_tr, y_tr, cv=cv)"
   ]
  },
  {
   "cell_type": "code",
   "execution_count": 242,
   "id": "4e54a506",
   "metadata": {},
   "outputs": [],
   "source": [
    "y_pred_con=(y_pred_CV_svm+y_pred_CV_rf)/2"
   ]
  },
  {
   "cell_type": "code",
   "execution_count": 243,
   "id": "c9fbf7c3",
   "metadata": {},
   "outputs": [
    {
     "data": {
      "text/plain": [
       "0.54"
      ]
     },
     "execution_count": 243,
     "metadata": {},
     "output_type": "execute_result"
    }
   ],
   "source": [
    "Q2_CV = round(r2_score(y_tr, y_pred_con), 2)\n",
    "Q2_CV"
   ]
  },
  {
   "cell_type": "code",
   "execution_count": 244,
   "id": "5f568250",
   "metadata": {},
   "outputs": [
    {
     "data": {
      "text/plain": [
       "0.46"
      ]
     },
     "execution_count": 244,
     "metadata": {},
     "output_type": "execute_result"
    }
   ],
   "source": [
    "RMSE_CV=round(np.sqrt(mean_squared_error(y_tr, y_pred_con)),2)\n",
    "RMSE_CV"
   ]
  },
  {
   "cell_type": "markdown",
   "id": "f56a6be2",
   "metadata": {},
   "source": [
    "## Prediction for test set's molecules"
   ]
  },
  {
   "cell_type": "code",
   "execution_count": 245,
   "id": "00362c06",
   "metadata": {},
   "outputs": [],
   "source": [
    "x_ts = np.array(x_ts, dtype=np.float32)\n",
    "y_ts = np.array(y_ts, dtype=np.float32)"
   ]
  },
  {
   "cell_type": "code",
   "execution_count": 246,
   "id": "d4bede08",
   "metadata": {},
   "outputs": [],
   "source": [
    "y_pred_svm = best_svm.predict(x_ts)"
   ]
  },
  {
   "cell_type": "code",
   "execution_count": 247,
   "id": "e2a0f4e4",
   "metadata": {},
   "outputs": [],
   "source": [
    "y_pred_rf = best_rf.predict(x_ts)"
   ]
  },
  {
   "cell_type": "code",
   "execution_count": 248,
   "id": "c46aed99",
   "metadata": {},
   "outputs": [
    {
     "data": {
      "text/plain": [
       "array([2.20281439, 2.51684199, 2.18160521, ..., 5.236939  , 5.19370257,\n",
       "       5.49704032])"
      ]
     },
     "execution_count": 248,
     "metadata": {},
     "output_type": "execute_result"
    }
   ],
   "source": [
    "y_pred_rf"
   ]
  },
  {
   "cell_type": "code",
   "execution_count": 249,
   "id": "d25126af",
   "metadata": {},
   "outputs": [],
   "source": [
    "y_pred_con=(y_pred_svm+y_pred_rf)/2"
   ]
  },
  {
   "cell_type": "code",
   "execution_count": 250,
   "id": "35000d30",
   "metadata": {},
   "outputs": [
    {
     "data": {
      "text/plain": [
       "0.56"
      ]
     },
     "execution_count": 250,
     "metadata": {},
     "output_type": "execute_result"
    }
   ],
   "source": [
    "Q2_TS = round(r2_score(y_ts, y_pred_con), 2)\n",
    "Q2_TS"
   ]
  },
  {
   "cell_type": "code",
   "execution_count": 251,
   "id": "31146987",
   "metadata": {},
   "outputs": [
    {
     "data": {
      "text/plain": [
       "0.45"
      ]
     },
     "execution_count": 251,
     "metadata": {},
     "output_type": "execute_result"
    }
   ],
   "source": [
    "RMSE_TS=round(np.sqrt(mean_squared_error(y_ts, y_pred_con)), 2)\n",
    "RMSE_TS"
   ]
  },
  {
   "cell_type": "markdown",
   "id": "355cf06c",
   "metadata": {},
   "source": [
    "## Estimating applicability domain. Method - Euclidian distances, K=1"
   ]
  },
  {
   "cell_type": "code",
   "execution_count": 252,
   "id": "23bb9746",
   "metadata": {},
   "outputs": [],
   "source": [
    "neighbors_k= pairwise_distances(x_tr, n_jobs=-1)\n",
    "neighbors_k.sort(0)"
   ]
  },
  {
   "cell_type": "code",
   "execution_count": 253,
   "id": "cfcaa036",
   "metadata": {},
   "outputs": [
    {
     "data": {
      "text/html": [
       "<div>\n",
       "<style scoped>\n",
       "    .dataframe tbody tr th:only-of-type {\n",
       "        vertical-align: middle;\n",
       "    }\n",
       "\n",
       "    .dataframe tbody tr th {\n",
       "        vertical-align: top;\n",
       "    }\n",
       "\n",
       "    .dataframe thead th {\n",
       "        text-align: right;\n",
       "    }\n",
       "</style>\n",
       "<table border=\"1\" class=\"dataframe\">\n",
       "  <thead>\n",
       "    <tr style=\"text-align: right;\">\n",
       "      <th></th>\n",
       "      <th>0</th>\n",
       "      <th>1</th>\n",
       "      <th>2</th>\n",
       "      <th>3</th>\n",
       "      <th>4</th>\n",
       "      <th>5</th>\n",
       "      <th>6</th>\n",
       "      <th>7</th>\n",
       "      <th>8</th>\n",
       "      <th>9</th>\n",
       "      <th>...</th>\n",
       "      <th>12044</th>\n",
       "      <th>12045</th>\n",
       "      <th>12046</th>\n",
       "      <th>12047</th>\n",
       "      <th>12048</th>\n",
       "      <th>12049</th>\n",
       "      <th>12050</th>\n",
       "      <th>12051</th>\n",
       "      <th>12052</th>\n",
       "      <th>12053</th>\n",
       "    </tr>\n",
       "  </thead>\n",
       "  <tbody>\n",
       "    <tr>\n",
       "      <th>0</th>\n",
       "      <td>0.000000</td>\n",
       "      <td>0.000000</td>\n",
       "      <td>0.000000</td>\n",
       "      <td>0.000000</td>\n",
       "      <td>0.000000</td>\n",
       "      <td>0.000000</td>\n",
       "      <td>0.000000</td>\n",
       "      <td>0.000000</td>\n",
       "      <td>0.000000</td>\n",
       "      <td>0.000000</td>\n",
       "      <td>...</td>\n",
       "      <td>0.000000</td>\n",
       "      <td>0.000000</td>\n",
       "      <td>0.000000</td>\n",
       "      <td>0.000000</td>\n",
       "      <td>0.000000</td>\n",
       "      <td>0.000000</td>\n",
       "      <td>0.000000</td>\n",
       "      <td>0.000000</td>\n",
       "      <td>0.000000</td>\n",
       "      <td>0.000000</td>\n",
       "    </tr>\n",
       "    <tr>\n",
       "      <th>1</th>\n",
       "      <td>2.000000</td>\n",
       "      <td>2.000000</td>\n",
       "      <td>1.414214</td>\n",
       "      <td>3.316625</td>\n",
       "      <td>3.464102</td>\n",
       "      <td>2.449490</td>\n",
       "      <td>2.236068</td>\n",
       "      <td>2.828427</td>\n",
       "      <td>2.000000</td>\n",
       "      <td>3.000000</td>\n",
       "      <td>...</td>\n",
       "      <td>1.000000</td>\n",
       "      <td>1.000000</td>\n",
       "      <td>4.358899</td>\n",
       "      <td>2.000000</td>\n",
       "      <td>1.414214</td>\n",
       "      <td>2.449490</td>\n",
       "      <td>1.000000</td>\n",
       "      <td>0.000000</td>\n",
       "      <td>3.872983</td>\n",
       "      <td>3.872983</td>\n",
       "    </tr>\n",
       "    <tr>\n",
       "      <th>2</th>\n",
       "      <td>2.000000</td>\n",
       "      <td>2.645751</td>\n",
       "      <td>1.732051</td>\n",
       "      <td>3.316625</td>\n",
       "      <td>3.605551</td>\n",
       "      <td>2.645751</td>\n",
       "      <td>2.449490</td>\n",
       "      <td>2.828427</td>\n",
       "      <td>2.645751</td>\n",
       "      <td>3.000000</td>\n",
       "      <td>...</td>\n",
       "      <td>1.000000</td>\n",
       "      <td>4.000000</td>\n",
       "      <td>4.582576</td>\n",
       "      <td>2.000000</td>\n",
       "      <td>1.414214</td>\n",
       "      <td>2.449490</td>\n",
       "      <td>1.414214</td>\n",
       "      <td>1.414214</td>\n",
       "      <td>3.872983</td>\n",
       "      <td>4.000000</td>\n",
       "    </tr>\n",
       "    <tr>\n",
       "      <th>3</th>\n",
       "      <td>2.000000</td>\n",
       "      <td>2.645751</td>\n",
       "      <td>1.732051</td>\n",
       "      <td>3.316625</td>\n",
       "      <td>3.605551</td>\n",
       "      <td>2.645751</td>\n",
       "      <td>2.449490</td>\n",
       "      <td>3.000000</td>\n",
       "      <td>2.828427</td>\n",
       "      <td>3.741657</td>\n",
       "      <td>...</td>\n",
       "      <td>1.414214</td>\n",
       "      <td>4.000000</td>\n",
       "      <td>4.582576</td>\n",
       "      <td>2.449490</td>\n",
       "      <td>1.414214</td>\n",
       "      <td>3.464102</td>\n",
       "      <td>1.732051</td>\n",
       "      <td>1.732051</td>\n",
       "      <td>3.872983</td>\n",
       "      <td>4.242640</td>\n",
       "    </tr>\n",
       "    <tr>\n",
       "      <th>4</th>\n",
       "      <td>2.449490</td>\n",
       "      <td>2.828427</td>\n",
       "      <td>2.000000</td>\n",
       "      <td>3.464102</td>\n",
       "      <td>3.741657</td>\n",
       "      <td>2.828427</td>\n",
       "      <td>2.645751</td>\n",
       "      <td>3.162278</td>\n",
       "      <td>2.828427</td>\n",
       "      <td>3.872983</td>\n",
       "      <td>...</td>\n",
       "      <td>1.732051</td>\n",
       "      <td>4.358899</td>\n",
       "      <td>4.690416</td>\n",
       "      <td>2.449490</td>\n",
       "      <td>2.000000</td>\n",
       "      <td>3.741657</td>\n",
       "      <td>2.000000</td>\n",
       "      <td>2.000000</td>\n",
       "      <td>4.000000</td>\n",
       "      <td>4.242640</td>\n",
       "    </tr>\n",
       "    <tr>\n",
       "      <th>...</th>\n",
       "      <td>...</td>\n",
       "      <td>...</td>\n",
       "      <td>...</td>\n",
       "      <td>...</td>\n",
       "      <td>...</td>\n",
       "      <td>...</td>\n",
       "      <td>...</td>\n",
       "      <td>...</td>\n",
       "      <td>...</td>\n",
       "      <td>...</td>\n",
       "      <td>...</td>\n",
       "      <td>...</td>\n",
       "      <td>...</td>\n",
       "      <td>...</td>\n",
       "      <td>...</td>\n",
       "      <td>...</td>\n",
       "      <td>...</td>\n",
       "      <td>...</td>\n",
       "      <td>...</td>\n",
       "      <td>...</td>\n",
       "      <td>...</td>\n",
       "    </tr>\n",
       "    <tr>\n",
       "      <th>12049</th>\n",
       "      <td>9.110434</td>\n",
       "      <td>9.110434</td>\n",
       "      <td>8.246211</td>\n",
       "      <td>8.544003</td>\n",
       "      <td>9.055386</td>\n",
       "      <td>9.000000</td>\n",
       "      <td>8.717798</td>\n",
       "      <td>8.831760</td>\n",
       "      <td>8.426149</td>\n",
       "      <td>8.306623</td>\n",
       "      <td>...</td>\n",
       "      <td>8.774964</td>\n",
       "      <td>8.944272</td>\n",
       "      <td>9.165152</td>\n",
       "      <td>8.944272</td>\n",
       "      <td>8.717798</td>\n",
       "      <td>8.717798</td>\n",
       "      <td>8.831760</td>\n",
       "      <td>8.831760</td>\n",
       "      <td>8.831760</td>\n",
       "      <td>9.219544</td>\n",
       "    </tr>\n",
       "    <tr>\n",
       "      <th>12050</th>\n",
       "      <td>9.165152</td>\n",
       "      <td>9.165152</td>\n",
       "      <td>8.366600</td>\n",
       "      <td>8.544003</td>\n",
       "      <td>9.055386</td>\n",
       "      <td>9.000000</td>\n",
       "      <td>8.774964</td>\n",
       "      <td>8.888194</td>\n",
       "      <td>8.426149</td>\n",
       "      <td>8.306623</td>\n",
       "      <td>...</td>\n",
       "      <td>8.774964</td>\n",
       "      <td>8.944272</td>\n",
       "      <td>9.219544</td>\n",
       "      <td>8.944272</td>\n",
       "      <td>8.774964</td>\n",
       "      <td>8.717798</td>\n",
       "      <td>8.888194</td>\n",
       "      <td>8.831760</td>\n",
       "      <td>8.831760</td>\n",
       "      <td>9.273619</td>\n",
       "    </tr>\n",
       "    <tr>\n",
       "      <th>12051</th>\n",
       "      <td>9.165152</td>\n",
       "      <td>9.219544</td>\n",
       "      <td>8.426149</td>\n",
       "      <td>8.602325</td>\n",
       "      <td>9.055386</td>\n",
       "      <td>9.055386</td>\n",
       "      <td>8.774964</td>\n",
       "      <td>8.944272</td>\n",
       "      <td>8.485281</td>\n",
       "      <td>8.366600</td>\n",
       "      <td>...</td>\n",
       "      <td>8.774964</td>\n",
       "      <td>8.944272</td>\n",
       "      <td>9.219544</td>\n",
       "      <td>8.944272</td>\n",
       "      <td>8.774964</td>\n",
       "      <td>8.717798</td>\n",
       "      <td>8.888194</td>\n",
       "      <td>8.888194</td>\n",
       "      <td>8.888194</td>\n",
       "      <td>9.273619</td>\n",
       "    </tr>\n",
       "    <tr>\n",
       "      <th>12052</th>\n",
       "      <td>9.219544</td>\n",
       "      <td>9.219544</td>\n",
       "      <td>8.426149</td>\n",
       "      <td>8.602325</td>\n",
       "      <td>9.110434</td>\n",
       "      <td>9.110434</td>\n",
       "      <td>8.831760</td>\n",
       "      <td>9.000000</td>\n",
       "      <td>8.485281</td>\n",
       "      <td>8.366600</td>\n",
       "      <td>...</td>\n",
       "      <td>8.774964</td>\n",
       "      <td>8.944272</td>\n",
       "      <td>9.219544</td>\n",
       "      <td>8.944272</td>\n",
       "      <td>8.888194</td>\n",
       "      <td>8.717798</td>\n",
       "      <td>9.000000</td>\n",
       "      <td>8.944272</td>\n",
       "      <td>8.888194</td>\n",
       "      <td>9.273619</td>\n",
       "    </tr>\n",
       "    <tr>\n",
       "      <th>12053</th>\n",
       "      <td>9.327379</td>\n",
       "      <td>9.433981</td>\n",
       "      <td>8.485281</td>\n",
       "      <td>8.660254</td>\n",
       "      <td>9.165152</td>\n",
       "      <td>9.110434</td>\n",
       "      <td>8.944272</td>\n",
       "      <td>9.000000</td>\n",
       "      <td>8.485281</td>\n",
       "      <td>8.426149</td>\n",
       "      <td>...</td>\n",
       "      <td>8.944272</td>\n",
       "      <td>9.055386</td>\n",
       "      <td>9.273619</td>\n",
       "      <td>9.000000</td>\n",
       "      <td>8.888194</td>\n",
       "      <td>8.774964</td>\n",
       "      <td>9.110434</td>\n",
       "      <td>9.055386</td>\n",
       "      <td>8.944272</td>\n",
       "      <td>9.327379</td>\n",
       "    </tr>\n",
       "  </tbody>\n",
       "</table>\n",
       "<p>12054 rows × 12054 columns</p>\n",
       "</div>"
      ],
      "text/plain": [
       "          0         1         2         3         4         5         6      \\\n",
       "0      0.000000  0.000000  0.000000  0.000000  0.000000  0.000000  0.000000   \n",
       "1      2.000000  2.000000  1.414214  3.316625  3.464102  2.449490  2.236068   \n",
       "2      2.000000  2.645751  1.732051  3.316625  3.605551  2.645751  2.449490   \n",
       "3      2.000000  2.645751  1.732051  3.316625  3.605551  2.645751  2.449490   \n",
       "4      2.449490  2.828427  2.000000  3.464102  3.741657  2.828427  2.645751   \n",
       "...         ...       ...       ...       ...       ...       ...       ...   \n",
       "12049  9.110434  9.110434  8.246211  8.544003  9.055386  9.000000  8.717798   \n",
       "12050  9.165152  9.165152  8.366600  8.544003  9.055386  9.000000  8.774964   \n",
       "12051  9.165152  9.219544  8.426149  8.602325  9.055386  9.055386  8.774964   \n",
       "12052  9.219544  9.219544  8.426149  8.602325  9.110434  9.110434  8.831760   \n",
       "12053  9.327379  9.433981  8.485281  8.660254  9.165152  9.110434  8.944272   \n",
       "\n",
       "          7         8         9      ...     12044     12045     12046  \\\n",
       "0      0.000000  0.000000  0.000000  ...  0.000000  0.000000  0.000000   \n",
       "1      2.828427  2.000000  3.000000  ...  1.000000  1.000000  4.358899   \n",
       "2      2.828427  2.645751  3.000000  ...  1.000000  4.000000  4.582576   \n",
       "3      3.000000  2.828427  3.741657  ...  1.414214  4.000000  4.582576   \n",
       "4      3.162278  2.828427  3.872983  ...  1.732051  4.358899  4.690416   \n",
       "...         ...       ...       ...  ...       ...       ...       ...   \n",
       "12049  8.831760  8.426149  8.306623  ...  8.774964  8.944272  9.165152   \n",
       "12050  8.888194  8.426149  8.306623  ...  8.774964  8.944272  9.219544   \n",
       "12051  8.944272  8.485281  8.366600  ...  8.774964  8.944272  9.219544   \n",
       "12052  9.000000  8.485281  8.366600  ...  8.774964  8.944272  9.219544   \n",
       "12053  9.000000  8.485281  8.426149  ...  8.944272  9.055386  9.273619   \n",
       "\n",
       "          12047     12048     12049     12050     12051     12052     12053  \n",
       "0      0.000000  0.000000  0.000000  0.000000  0.000000  0.000000  0.000000  \n",
       "1      2.000000  1.414214  2.449490  1.000000  0.000000  3.872983  3.872983  \n",
       "2      2.000000  1.414214  2.449490  1.414214  1.414214  3.872983  4.000000  \n",
       "3      2.449490  1.414214  3.464102  1.732051  1.732051  3.872983  4.242640  \n",
       "4      2.449490  2.000000  3.741657  2.000000  2.000000  4.000000  4.242640  \n",
       "...         ...       ...       ...       ...       ...       ...       ...  \n",
       "12049  8.944272  8.717798  8.717798  8.831760  8.831760  8.831760  9.219544  \n",
       "12050  8.944272  8.774964  8.717798  8.888194  8.831760  8.831760  9.273619  \n",
       "12051  8.944272  8.774964  8.717798  8.888194  8.888194  8.888194  9.273619  \n",
       "12052  8.944272  8.888194  8.717798  9.000000  8.944272  8.888194  9.273619  \n",
       "12053  9.000000  8.888194  8.774964  9.110434  9.055386  8.944272  9.327379  \n",
       "\n",
       "[12054 rows x 12054 columns]"
      ]
     },
     "execution_count": 253,
     "metadata": {},
     "output_type": "execute_result"
    }
   ],
   "source": [
    "df_tr=pd.DataFrame(neighbors_k)\n",
    "df_tr"
   ]
  },
  {
   "cell_type": "code",
   "execution_count": 254,
   "id": "fefd0fc9",
   "metadata": {},
   "outputs": [],
   "source": [
    "similarity= neighbors_k"
   ]
  },
  {
   "cell_type": "code",
   "execution_count": 255,
   "id": "048c7487",
   "metadata": {},
   "outputs": [],
   "source": [
    "Dmean=np.mean(similarity[1,:])"
   ]
  },
  {
   "cell_type": "code",
   "execution_count": 256,
   "id": "36135a82",
   "metadata": {},
   "outputs": [
    {
     "data": {
      "text/plain": [
       "1.92"
      ]
     },
     "execution_count": 256,
     "metadata": {},
     "output_type": "execute_result"
    }
   ],
   "source": [
    "round(Dmean, 2)"
   ]
  },
  {
   "cell_type": "code",
   "execution_count": 257,
   "id": "0e67d553",
   "metadata": {},
   "outputs": [],
   "source": [
    "std=np.std(similarity[1,:])"
   ]
  },
  {
   "cell_type": "code",
   "execution_count": 258,
   "id": "90822bff",
   "metadata": {},
   "outputs": [
    {
     "data": {
      "text/plain": [
       "1.05"
      ]
     },
     "execution_count": 258,
     "metadata": {},
     "output_type": "execute_result"
    }
   ],
   "source": [
    "round(std, 2)"
   ]
  },
  {
   "cell_type": "code",
   "execution_count": 259,
   "id": "2f60af3d",
   "metadata": {},
   "outputs": [
    {
     "name": "stdout",
     "output_type": "stream",
     "text": [
      "2.45\n"
     ]
    }
   ],
   "source": [
    "model_AD_limit=Dmean+std*0.5\n",
    "print(np.round(model_AD_limit, 2))"
   ]
  },
  {
   "cell_type": "code",
   "execution_count": 260,
   "id": "d50dcb49",
   "metadata": {},
   "outputs": [],
   "source": [
    "neighbors_k_ts= pairwise_distances(x_tr,Y=x_ts, n_jobs=-1)\n",
    "neighbors_k_ts.sort(0)"
   ]
  },
  {
   "cell_type": "code",
   "execution_count": 261,
   "id": "ec4139c8",
   "metadata": {},
   "outputs": [
    {
     "data": {
      "text/html": [
       "<div>\n",
       "<style scoped>\n",
       "    .dataframe tbody tr th:only-of-type {\n",
       "        vertical-align: middle;\n",
       "    }\n",
       "\n",
       "    .dataframe tbody tr th {\n",
       "        vertical-align: top;\n",
       "    }\n",
       "\n",
       "    .dataframe thead th {\n",
       "        text-align: right;\n",
       "    }\n",
       "</style>\n",
       "<table border=\"1\" class=\"dataframe\">\n",
       "  <thead>\n",
       "    <tr style=\"text-align: right;\">\n",
       "      <th></th>\n",
       "      <th>0</th>\n",
       "      <th>1</th>\n",
       "      <th>2</th>\n",
       "      <th>3</th>\n",
       "      <th>4</th>\n",
       "      <th>5</th>\n",
       "      <th>6</th>\n",
       "      <th>7</th>\n",
       "      <th>8</th>\n",
       "      <th>9</th>\n",
       "      <th>...</th>\n",
       "      <th>3004</th>\n",
       "      <th>3005</th>\n",
       "      <th>3006</th>\n",
       "      <th>3007</th>\n",
       "      <th>3008</th>\n",
       "      <th>3009</th>\n",
       "      <th>3010</th>\n",
       "      <th>3011</th>\n",
       "      <th>3012</th>\n",
       "      <th>3013</th>\n",
       "    </tr>\n",
       "  </thead>\n",
       "  <tbody>\n",
       "    <tr>\n",
       "      <th>0</th>\n",
       "      <td>2.000000</td>\n",
       "      <td>1.414214</td>\n",
       "      <td>1.000000</td>\n",
       "      <td>2.236068</td>\n",
       "      <td>1.732051</td>\n",
       "      <td>1.000000</td>\n",
       "      <td>1.732051</td>\n",
       "      <td>2.645751</td>\n",
       "      <td>2.000000</td>\n",
       "      <td>2.828427</td>\n",
       "      <td>...</td>\n",
       "      <td>1.000000</td>\n",
       "      <td>2.000000</td>\n",
       "      <td>0.000000</td>\n",
       "      <td>2.449490</td>\n",
       "      <td>2.000000</td>\n",
       "      <td>0.000000</td>\n",
       "      <td>3.605551</td>\n",
       "      <td>1.414214</td>\n",
       "      <td>2.000000</td>\n",
       "      <td>2.000000</td>\n",
       "    </tr>\n",
       "    <tr>\n",
       "      <th>1</th>\n",
       "      <td>2.449490</td>\n",
       "      <td>1.732051</td>\n",
       "      <td>1.414214</td>\n",
       "      <td>2.236068</td>\n",
       "      <td>2.645751</td>\n",
       "      <td>1.414214</td>\n",
       "      <td>2.000000</td>\n",
       "      <td>2.645751</td>\n",
       "      <td>2.000000</td>\n",
       "      <td>2.828427</td>\n",
       "      <td>...</td>\n",
       "      <td>3.162278</td>\n",
       "      <td>2.828427</td>\n",
       "      <td>1.000000</td>\n",
       "      <td>3.162278</td>\n",
       "      <td>3.872983</td>\n",
       "      <td>1.000000</td>\n",
       "      <td>3.872983</td>\n",
       "      <td>2.000000</td>\n",
       "      <td>2.000000</td>\n",
       "      <td>2.236068</td>\n",
       "    </tr>\n",
       "    <tr>\n",
       "      <th>2</th>\n",
       "      <td>2.645751</td>\n",
       "      <td>1.732051</td>\n",
       "      <td>1.732051</td>\n",
       "      <td>2.645751</td>\n",
       "      <td>2.828427</td>\n",
       "      <td>1.732051</td>\n",
       "      <td>2.236068</td>\n",
       "      <td>3.162278</td>\n",
       "      <td>2.236068</td>\n",
       "      <td>2.828427</td>\n",
       "      <td>...</td>\n",
       "      <td>3.162278</td>\n",
       "      <td>4.358899</td>\n",
       "      <td>1.000000</td>\n",
       "      <td>3.316625</td>\n",
       "      <td>3.872983</td>\n",
       "      <td>3.872983</td>\n",
       "      <td>3.872983</td>\n",
       "      <td>2.000000</td>\n",
       "      <td>4.582576</td>\n",
       "      <td>2.236068</td>\n",
       "    </tr>\n",
       "    <tr>\n",
       "      <th>3</th>\n",
       "      <td>2.828427</td>\n",
       "      <td>1.732051</td>\n",
       "      <td>2.000000</td>\n",
       "      <td>2.645751</td>\n",
       "      <td>2.828427</td>\n",
       "      <td>2.000000</td>\n",
       "      <td>2.236068</td>\n",
       "      <td>3.316625</td>\n",
       "      <td>2.449490</td>\n",
       "      <td>3.162278</td>\n",
       "      <td>...</td>\n",
       "      <td>3.162278</td>\n",
       "      <td>4.582576</td>\n",
       "      <td>1.414214</td>\n",
       "      <td>3.872983</td>\n",
       "      <td>4.242640</td>\n",
       "      <td>3.872983</td>\n",
       "      <td>4.000000</td>\n",
       "      <td>2.449490</td>\n",
       "      <td>4.582576</td>\n",
       "      <td>2.449490</td>\n",
       "    </tr>\n",
       "    <tr>\n",
       "      <th>4</th>\n",
       "      <td>2.828427</td>\n",
       "      <td>1.732051</td>\n",
       "      <td>2.236068</td>\n",
       "      <td>2.828427</td>\n",
       "      <td>3.000000</td>\n",
       "      <td>2.236068</td>\n",
       "      <td>2.236068</td>\n",
       "      <td>3.464102</td>\n",
       "      <td>2.645751</td>\n",
       "      <td>3.316625</td>\n",
       "      <td>...</td>\n",
       "      <td>3.162278</td>\n",
       "      <td>4.582576</td>\n",
       "      <td>1.414214</td>\n",
       "      <td>3.872983</td>\n",
       "      <td>4.898980</td>\n",
       "      <td>3.872983</td>\n",
       "      <td>4.000000</td>\n",
       "      <td>2.449490</td>\n",
       "      <td>4.582576</td>\n",
       "      <td>2.645751</td>\n",
       "    </tr>\n",
       "    <tr>\n",
       "      <th>...</th>\n",
       "      <td>...</td>\n",
       "      <td>...</td>\n",
       "      <td>...</td>\n",
       "      <td>...</td>\n",
       "      <td>...</td>\n",
       "      <td>...</td>\n",
       "      <td>...</td>\n",
       "      <td>...</td>\n",
       "      <td>...</td>\n",
       "      <td>...</td>\n",
       "      <td>...</td>\n",
       "      <td>...</td>\n",
       "      <td>...</td>\n",
       "      <td>...</td>\n",
       "      <td>...</td>\n",
       "      <td>...</td>\n",
       "      <td>...</td>\n",
       "      <td>...</td>\n",
       "      <td>...</td>\n",
       "      <td>...</td>\n",
       "      <td>...</td>\n",
       "    </tr>\n",
       "    <tr>\n",
       "      <th>12049</th>\n",
       "      <td>8.831760</td>\n",
       "      <td>9.327379</td>\n",
       "      <td>8.888194</td>\n",
       "      <td>8.888194</td>\n",
       "      <td>8.831760</td>\n",
       "      <td>8.888194</td>\n",
       "      <td>8.366600</td>\n",
       "      <td>8.831760</td>\n",
       "      <td>9.055386</td>\n",
       "      <td>9.165152</td>\n",
       "      <td>...</td>\n",
       "      <td>8.888194</td>\n",
       "      <td>8.944272</td>\n",
       "      <td>8.774964</td>\n",
       "      <td>8.485281</td>\n",
       "      <td>8.544003</td>\n",
       "      <td>9.000000</td>\n",
       "      <td>8.485281</td>\n",
       "      <td>8.888194</td>\n",
       "      <td>8.602325</td>\n",
       "      <td>8.888194</td>\n",
       "    </tr>\n",
       "    <tr>\n",
       "      <th>12050</th>\n",
       "      <td>8.888194</td>\n",
       "      <td>9.327379</td>\n",
       "      <td>8.944272</td>\n",
       "      <td>8.944272</td>\n",
       "      <td>8.831760</td>\n",
       "      <td>8.944272</td>\n",
       "      <td>8.366600</td>\n",
       "      <td>8.831760</td>\n",
       "      <td>9.055386</td>\n",
       "      <td>9.219544</td>\n",
       "      <td>...</td>\n",
       "      <td>8.888194</td>\n",
       "      <td>8.944272</td>\n",
       "      <td>8.774964</td>\n",
       "      <td>8.544003</td>\n",
       "      <td>8.544003</td>\n",
       "      <td>9.055386</td>\n",
       "      <td>8.485281</td>\n",
       "      <td>8.944272</td>\n",
       "      <td>8.602325</td>\n",
       "      <td>8.888194</td>\n",
       "    </tr>\n",
       "    <tr>\n",
       "      <th>12051</th>\n",
       "      <td>8.888194</td>\n",
       "      <td>9.380832</td>\n",
       "      <td>9.000000</td>\n",
       "      <td>8.944272</td>\n",
       "      <td>8.831760</td>\n",
       "      <td>9.000000</td>\n",
       "      <td>8.426149</td>\n",
       "      <td>8.944272</td>\n",
       "      <td>9.110434</td>\n",
       "      <td>9.219544</td>\n",
       "      <td>...</td>\n",
       "      <td>8.888194</td>\n",
       "      <td>8.944272</td>\n",
       "      <td>8.831760</td>\n",
       "      <td>8.660254</td>\n",
       "      <td>8.544003</td>\n",
       "      <td>9.055386</td>\n",
       "      <td>8.544003</td>\n",
       "      <td>8.944272</td>\n",
       "      <td>8.660254</td>\n",
       "      <td>8.888194</td>\n",
       "    </tr>\n",
       "    <tr>\n",
       "      <th>12052</th>\n",
       "      <td>8.944272</td>\n",
       "      <td>9.433981</td>\n",
       "      <td>9.000000</td>\n",
       "      <td>9.000000</td>\n",
       "      <td>8.888194</td>\n",
       "      <td>9.000000</td>\n",
       "      <td>8.485281</td>\n",
       "      <td>8.944272</td>\n",
       "      <td>9.165152</td>\n",
       "      <td>9.273619</td>\n",
       "      <td>...</td>\n",
       "      <td>8.888194</td>\n",
       "      <td>8.944272</td>\n",
       "      <td>8.831760</td>\n",
       "      <td>8.717798</td>\n",
       "      <td>8.660254</td>\n",
       "      <td>9.055386</td>\n",
       "      <td>8.602325</td>\n",
       "      <td>8.944272</td>\n",
       "      <td>8.660254</td>\n",
       "      <td>8.944272</td>\n",
       "    </tr>\n",
       "    <tr>\n",
       "      <th>12053</th>\n",
       "      <td>9.000000</td>\n",
       "      <td>9.486833</td>\n",
       "      <td>9.219544</td>\n",
       "      <td>9.165152</td>\n",
       "      <td>9.055386</td>\n",
       "      <td>9.219544</td>\n",
       "      <td>8.544003</td>\n",
       "      <td>9.055386</td>\n",
       "      <td>9.219544</td>\n",
       "      <td>9.433981</td>\n",
       "      <td>...</td>\n",
       "      <td>8.888194</td>\n",
       "      <td>9.110434</td>\n",
       "      <td>8.888194</td>\n",
       "      <td>8.774964</td>\n",
       "      <td>8.717798</td>\n",
       "      <td>9.055386</td>\n",
       "      <td>8.602325</td>\n",
       "      <td>9.000000</td>\n",
       "      <td>8.774964</td>\n",
       "      <td>8.944272</td>\n",
       "    </tr>\n",
       "  </tbody>\n",
       "</table>\n",
       "<p>12054 rows × 3014 columns</p>\n",
       "</div>"
      ],
      "text/plain": [
       "           0         1         2         3         4         5         6     \\\n",
       "0      2.000000  1.414214  1.000000  2.236068  1.732051  1.000000  1.732051   \n",
       "1      2.449490  1.732051  1.414214  2.236068  2.645751  1.414214  2.000000   \n",
       "2      2.645751  1.732051  1.732051  2.645751  2.828427  1.732051  2.236068   \n",
       "3      2.828427  1.732051  2.000000  2.645751  2.828427  2.000000  2.236068   \n",
       "4      2.828427  1.732051  2.236068  2.828427  3.000000  2.236068  2.236068   \n",
       "...         ...       ...       ...       ...       ...       ...       ...   \n",
       "12049  8.831760  9.327379  8.888194  8.888194  8.831760  8.888194  8.366600   \n",
       "12050  8.888194  9.327379  8.944272  8.944272  8.831760  8.944272  8.366600   \n",
       "12051  8.888194  9.380832  9.000000  8.944272  8.831760  9.000000  8.426149   \n",
       "12052  8.944272  9.433981  9.000000  9.000000  8.888194  9.000000  8.485281   \n",
       "12053  9.000000  9.486833  9.219544  9.165152  9.055386  9.219544  8.544003   \n",
       "\n",
       "           7         8         9     ...      3004      3005      3006  \\\n",
       "0      2.645751  2.000000  2.828427  ...  1.000000  2.000000  0.000000   \n",
       "1      2.645751  2.000000  2.828427  ...  3.162278  2.828427  1.000000   \n",
       "2      3.162278  2.236068  2.828427  ...  3.162278  4.358899  1.000000   \n",
       "3      3.316625  2.449490  3.162278  ...  3.162278  4.582576  1.414214   \n",
       "4      3.464102  2.645751  3.316625  ...  3.162278  4.582576  1.414214   \n",
       "...         ...       ...       ...  ...       ...       ...       ...   \n",
       "12049  8.831760  9.055386  9.165152  ...  8.888194  8.944272  8.774964   \n",
       "12050  8.831760  9.055386  9.219544  ...  8.888194  8.944272  8.774964   \n",
       "12051  8.944272  9.110434  9.219544  ...  8.888194  8.944272  8.831760   \n",
       "12052  8.944272  9.165152  9.273619  ...  8.888194  8.944272  8.831760   \n",
       "12053  9.055386  9.219544  9.433981  ...  8.888194  9.110434  8.888194   \n",
       "\n",
       "           3007      3008      3009      3010      3011      3012      3013  \n",
       "0      2.449490  2.000000  0.000000  3.605551  1.414214  2.000000  2.000000  \n",
       "1      3.162278  3.872983  1.000000  3.872983  2.000000  2.000000  2.236068  \n",
       "2      3.316625  3.872983  3.872983  3.872983  2.000000  4.582576  2.236068  \n",
       "3      3.872983  4.242640  3.872983  4.000000  2.449490  4.582576  2.449490  \n",
       "4      3.872983  4.898980  3.872983  4.000000  2.449490  4.582576  2.645751  \n",
       "...         ...       ...       ...       ...       ...       ...       ...  \n",
       "12049  8.485281  8.544003  9.000000  8.485281  8.888194  8.602325  8.888194  \n",
       "12050  8.544003  8.544003  9.055386  8.485281  8.944272  8.602325  8.888194  \n",
       "12051  8.660254  8.544003  9.055386  8.544003  8.944272  8.660254  8.888194  \n",
       "12052  8.717798  8.660254  9.055386  8.602325  8.944272  8.660254  8.944272  \n",
       "12053  8.774964  8.717798  9.055386  8.602325  9.000000  8.774964  8.944272  \n",
       "\n",
       "[12054 rows x 3014 columns]"
      ]
     },
     "execution_count": 261,
     "metadata": {},
     "output_type": "execute_result"
    }
   ],
   "source": [
    "x_ts_AD=pd.DataFrame(neighbors_k_ts)\n",
    "x_ts_AD"
   ]
  },
  {
   "cell_type": "code",
   "execution_count": 262,
   "id": "27dd74ae",
   "metadata": {},
   "outputs": [
    {
     "name": "stdout",
     "output_type": "stream",
     "text": [
      "[2.    1.414 1.    ... 1.414 2.    2.   ]\n"
     ]
    }
   ],
   "source": [
    "similarity_ts= neighbors_k_ts\n",
    "cpd_AD=similarity_ts[0,:]\n",
    "cpd_value = np.round(cpd_AD, 3)\n",
    "print(cpd_value)"
   ]
  },
  {
   "cell_type": "code",
   "execution_count": 263,
   "id": "c37e87fa",
   "metadata": {},
   "outputs": [
    {
     "name": "stdout",
     "output_type": "stream",
     "text": [
      "[ True  True  True ...  True  True  True]\n"
     ]
    }
   ],
   "source": [
    "cpd_AD = np.where(cpd_value <= model_AD_limit, True, False)\n",
    "print(cpd_AD)"
   ]
  },
  {
   "cell_type": "code",
   "execution_count": 264,
   "id": "da7c9ac6",
   "metadata": {},
   "outputs": [
    {
     "name": "stdout",
     "output_type": "stream",
     "text": [
      "Coverage =  0.7222959522229595\n"
     ]
    }
   ],
   "source": [
    "print(\"Coverage = \", sum(cpd_AD) / len(cpd_AD))"
   ]
  },
  {
   "cell_type": "code",
   "execution_count": 265,
   "id": "b522d6df",
   "metadata": {},
   "outputs": [
    {
     "name": "stdout",
     "output_type": "stream",
     "text": [
      "Indices of substances included in AD =  [   0    1    2 ... 3011 3012 3013]\n"
     ]
    }
   ],
   "source": [
    "print(\"Indices of substances included in AD = \", np.where(cpd_AD != 0)[0])"
   ]
  },
  {
   "cell_type": "code",
   "execution_count": 266,
   "id": "193764f0",
   "metadata": {},
   "outputs": [],
   "source": [
    "out_Ad=list(np.where(cpd_AD == 0)[0])"
   ]
  },
  {
   "cell_type": "markdown",
   "id": "44050c4e",
   "metadata": {},
   "source": [
    "## Prediction only for molecules included in  AD"
   ]
  },
  {
   "cell_type": "code",
   "execution_count": 267,
   "id": "95aed519",
   "metadata": {},
   "outputs": [],
   "source": [
    "y_pred_con_ad=list(y_pred_con)"
   ]
  },
  {
   "cell_type": "code",
   "execution_count": 268,
   "id": "6c311335",
   "metadata": {},
   "outputs": [],
   "source": [
    "y_pred_con_ad[:] = [x for i,x in enumerate(y_pred_con_ad) if i not in out_Ad]"
   ]
  },
  {
   "cell_type": "code",
   "execution_count": 269,
   "id": "9a34c1a8",
   "metadata": {},
   "outputs": [
    {
     "data": {
      "text/plain": [
       "2177"
      ]
     },
     "execution_count": 269,
     "metadata": {},
     "output_type": "execute_result"
    }
   ],
   "source": [
    "len(y_pred_con_ad)"
   ]
  },
  {
   "cell_type": "code",
   "execution_count": 270,
   "id": "043990dd",
   "metadata": {},
   "outputs": [],
   "source": [
    "y_ts_ad=list(y_ts)"
   ]
  },
  {
   "cell_type": "code",
   "execution_count": 271,
   "id": "b5179c24",
   "metadata": {},
   "outputs": [],
   "source": [
    "y_ts_ad[:] = [x for i,x in enumerate(y_ts_ad) if i not in out_Ad]"
   ]
  },
  {
   "cell_type": "code",
   "execution_count": 272,
   "id": "bda2fe4a",
   "metadata": {},
   "outputs": [
    {
     "data": {
      "text/plain": [
       "2177"
      ]
     },
     "execution_count": 272,
     "metadata": {},
     "output_type": "execute_result"
    }
   ],
   "source": [
    "len(y_ts_ad)"
   ]
  },
  {
   "cell_type": "code",
   "execution_count": 273,
   "id": "5e132347",
   "metadata": {},
   "outputs": [
    {
     "data": {
      "text/plain": [
       "0.64"
      ]
     },
     "execution_count": 273,
     "metadata": {},
     "output_type": "execute_result"
    }
   ],
   "source": [
    "Q2_TS = round(r2_score(y_ts_ad, y_pred_con_ad), 2)\n",
    "Q2_TS"
   ]
  },
  {
   "cell_type": "code",
   "execution_count": 274,
   "id": "e37dd997",
   "metadata": {},
   "outputs": [
    {
     "data": {
      "text/plain": [
       "0.4"
      ]
     },
     "execution_count": 274,
     "metadata": {},
     "output_type": "execute_result"
    }
   ],
   "source": [
    "RMSE_TS=round(np.sqrt(mean_squared_error(y_ts_ad, y_pred_con_ad)), 2)\n",
    "RMSE_TS"
   ]
  },
  {
   "cell_type": "code",
   "execution_count": null,
   "id": "f8507a29",
   "metadata": {},
   "outputs": [],
   "source": []
  }
 ],
 "metadata": {
  "kernelspec": {
   "display_name": "Python3 (rdkit)",
   "language": "python",
   "name": "my-rdkit-env"
  },
  "language_info": {
   "codemirror_mode": {
    "name": "ipython",
    "version": 3
   },
   "file_extension": ".py",
   "mimetype": "text/x-python",
   "name": "python",
   "nbconvert_exporter": "python",
   "pygments_lexer": "ipython3",
   "version": "3.10.12"
  },
  "toc": {
   "base_numbering": 1,
   "nav_menu": {
    "height": "336.335px",
    "width": "851.591px"
   },
   "number_sections": true,
   "sideBar": true,
   "skip_h1_title": false,
   "title_cell": "Table of Contents",
   "title_sidebar": "Contents",
   "toc_cell": false,
   "toc_position": {
    "height": "calc(100% - 180px)",
    "left": "10px",
    "top": "150px",
    "width": "238.253px"
   },
   "toc_section_display": true,
   "toc_window_display": true
  }
 },
 "nbformat": 4,
 "nbformat_minor": 5
}
