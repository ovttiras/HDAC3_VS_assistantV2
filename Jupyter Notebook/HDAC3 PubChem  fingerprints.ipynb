{
 "cells": [
  {
   "cell_type": "markdown",
   "metadata": {},
   "source": [
    "# 1. Importing modules and functions"
   ]
  },
  {
   "cell_type": "code",
   "execution_count": 118,
   "metadata": {},
   "outputs": [],
   "source": [
    "from rdkit import Chem, DataStructs\n",
    "from rdkit.Chem import AllChem, Descriptors\n",
    "from rdkit.ML.Descriptors import MoleculeDescriptors\n",
    "from molvs import standardize_smiles\n",
    "import numpy as np\n",
    "import pandas as pd\n",
    "from sklearn.svm import SVC\n",
    "from sklearn.model_selection import KFold, GridSearchCV\n",
    "from sklearn.metrics import mean_squared_error\n",
    "from sklearn.metrics import r2_score\n",
    "from sklearn.ensemble import GradientBoostingRegressor\n",
    "from sklearn.svm import SVR\n",
    "from sklearn.model_selection import permutation_test_score\n",
    "from sklearn.preprocessing import StandardScaler\n",
    "from sklearn.model_selection import cross_val_predict\n",
    "from sklearn import metrics\n",
    "from sklearn.metrics import pairwise_distances\n",
    "import joblib\n",
    "import pickle\n",
    "from numpy import savetxt\n",
    "from padelpy import from_sdf\n",
    "import shap\n",
    "from tqdm.notebook import tqdm\n",
    "import matplotlib.pyplot as plt"
   ]
  },
  {
   "cell_type": "code",
   "execution_count": 2,
   "metadata": {},
   "outputs": [
    {
     "data": {
      "text/plain": [
       "['fingerprints_xml\\\\AtomPairs2DFingerprintCount.xml',\n",
       " 'fingerprints_xml\\\\AtomPairs2DFingerprinter.xml',\n",
       " 'fingerprints_xml\\\\EStateFingerprinter.xml',\n",
       " 'fingerprints_xml\\\\ExtendedFingerprinter.xml',\n",
       " 'fingerprints_xml\\\\Fingerprinter.xml',\n",
       " 'fingerprints_xml\\\\GraphOnlyFingerprinter.xml',\n",
       " 'fingerprints_xml\\\\KlekotaRothFingerprintCount.xml',\n",
       " 'fingerprints_xml\\\\KlekotaRothFingerprinter.xml',\n",
       " 'fingerprints_xml\\\\MACCSFingerprinter.xml',\n",
       " 'fingerprints_xml\\\\PubchemFingerprinter.xml',\n",
       " 'fingerprints_xml\\\\SubstructureFingerprintCount.xml',\n",
       " 'fingerprints_xml\\\\SubstructureFingerprinter.xml']"
      ]
     },
     "execution_count": 2,
     "metadata": {},
     "output_type": "execute_result"
    }
   ],
   "source": [
    "import glob\n",
    "xml_files = glob.glob(\"fingerprints_xml/*.xml\")\n",
    "xml_files.sort()\n",
    "xml_files"
   ]
  },
  {
   "cell_type": "code",
   "execution_count": 4,
   "metadata": {},
   "outputs": [],
   "source": [
    "FP_list = ['AtomPairs2DCount',\n",
    " 'AtomPairs2D',\n",
    " 'EState',\n",
    " 'CDKextended',\n",
    " 'CDK',\n",
    " 'CDKgraphonly',\n",
    " 'KlekotaRothCount',\n",
    " 'KlekotaRoth',\n",
    " 'MACCS',\n",
    " 'PubChem',\n",
    " 'SubstructureCount',\n",
    " 'Substructure']"
   ]
  },
  {
   "cell_type": "code",
   "execution_count": 5,
   "metadata": {},
   "outputs": [
    {
     "data": {
      "text/plain": [
       "{'AtomPairs2DCount': 'fingerprints_xml\\\\AtomPairs2DFingerprintCount.xml',\n",
       " 'AtomPairs2D': 'fingerprints_xml\\\\AtomPairs2DFingerprinter.xml',\n",
       " 'EState': 'fingerprints_xml\\\\EStateFingerprinter.xml',\n",
       " 'CDKextended': 'fingerprints_xml\\\\ExtendedFingerprinter.xml',\n",
       " 'CDK': 'fingerprints_xml\\\\Fingerprinter.xml',\n",
       " 'CDKgraphonly': 'fingerprints_xml\\\\GraphOnlyFingerprinter.xml',\n",
       " 'KlekotaRothCount': 'fingerprints_xml\\\\KlekotaRothFingerprintCount.xml',\n",
       " 'KlekotaRoth': 'fingerprints_xml\\\\KlekotaRothFingerprinter.xml',\n",
       " 'MACCS': 'fingerprints_xml\\\\MACCSFingerprinter.xml',\n",
       " 'PubChem': 'fingerprints_xml\\\\PubchemFingerprinter.xml',\n",
       " 'SubstructureCount': 'fingerprints_xml\\\\SubstructureFingerprintCount.xml',\n",
       " 'Substructure': 'fingerprints_xml\\\\SubstructureFingerprinter.xml'}"
      ]
     },
     "execution_count": 5,
     "metadata": {},
     "output_type": "execute_result"
    }
   ],
   "source": [
    "fp = dict(zip(FP_list, xml_files))\n",
    "fp"
   ]
  },
  {
   "cell_type": "markdown",
   "metadata": {},
   "source": [
    "# 2.Data entry and curation work set"
   ]
  },
  {
   "cell_type": "code",
   "execution_count": 6,
   "metadata": {},
   "outputs": [
    {
     "name": "stdout",
     "output_type": "stream",
     "text": [
      "Original data:  1400 molecules\n",
      "Failed data:  0 molecules\n"
     ]
    },
    {
     "data": {
      "text/html": [
       "<div>\n",
       "<style scoped>\n",
       "    .dataframe tbody tr th:only-of-type {\n",
       "        vertical-align: middle;\n",
       "    }\n",
       "\n",
       "    .dataframe tbody tr th {\n",
       "        vertical-align: top;\n",
       "    }\n",
       "\n",
       "    .dataframe thead th {\n",
       "        text-align: right;\n",
       "    }\n",
       "</style>\n",
       "<table border=\"1\" class=\"dataframe\">\n",
       "  <thead>\n",
       "    <tr style=\"text-align: right;\">\n",
       "      <th></th>\n",
       "      <th>No. failed molecule in original set</th>\n",
       "      <th>SMILES of wrong structure:</th>\n",
       "    </tr>\n",
       "    <tr>\n",
       "      <th>No.</th>\n",
       "      <th></th>\n",
       "      <th></th>\n",
       "    </tr>\n",
       "  </thead>\n",
       "  <tbody>\n",
       "  </tbody>\n",
       "</table>\n",
       "</div>"
      ],
      "text/plain": [
       "Empty DataFrame\n",
       "Columns: [No. failed molecule in original set, SMILES of wrong structure: ]\n",
       "Index: []"
      ]
     },
     "execution_count": 6,
     "metadata": {},
     "output_type": "execute_result"
    }
   ],
   "source": [
    "uploaded_file_ws=\"datasets/HDAC3_work.sdf\"\n",
    "supplier_ws = Chem.ForwardSDMolSupplier(uploaded_file_ws,sanitize=False)\n",
    "failed_mols_ws = []\n",
    "all_mols_ws =[]\n",
    "wrong_structure_ws=[]\n",
    "wrong_smiles_ws=[]\n",
    "y_tr = []\n",
    "y_bad_index=[]\n",
    "\n",
    "for i, m in enumerate(supplier_ws):\n",
    "    structure = Chem.Mol(m)\n",
    "    all_mols_ws.append(structure)\n",
    "    y_tr.append(m.GetProp(\"pchembl_value_mean\"))\n",
    "    try:\n",
    "        Chem.SanitizeMol(structure)\n",
    "    except:\n",
    "        failed_mols_ws.append(m)\n",
    "        wrong_smiles_ws.append(Chem.MolToSmiles(m))\n",
    "        wrong_structure_ws.append(str(i+1))\n",
    "        y_bad_index.append(i)\n",
    "print('Original data: ', len(all_mols_ws), 'molecules')\n",
    "print('Failed data: ', len(failed_mols_ws), 'molecules')\n",
    "number_ws =[]\n",
    "for i in range(len(failed_mols_ws)):\n",
    "        number_ws.append(str(i+1))\n",
    "bad_molecules_ws = pd.DataFrame({'No. failed molecule in original set': wrong_structure_ws, 'SMILES of wrong structure: ': wrong_smiles_ws, 'No.': number_ws}, index=None)\n",
    "bad_molecules_ws = bad_molecules_ws.set_index('No.')\n",
    "bad_molecules_ws"
   ]
  },
  {
   "cell_type": "markdown",
   "metadata": {},
   "source": [
    "deleting activity values for substances with incorrect structure"
   ]
  },
  {
   "cell_type": "code",
   "execution_count": 7,
   "metadata": {},
   "outputs": [],
   "source": [
    "y_tr[:] = [x for i,x in enumerate(y_tr) if i not in y_bad_index]"
   ]
  },
  {
   "cell_type": "code",
   "execution_count": 8,
   "metadata": {},
   "outputs": [
    {
     "data": {
      "text/plain": [
       "1400"
      ]
     },
     "execution_count": 8,
     "metadata": {},
     "output_type": "execute_result"
    }
   ],
   "source": [
    "len(y_tr)"
   ]
  },
  {
   "cell_type": "markdown",
   "metadata": {},
   "source": [
    "# 3.Standardization SDF file for work set"
   ]
  },
  {
   "cell_type": "code",
   "execution_count": 9,
   "metadata": {},
   "outputs": [
    {
     "name": "stdout",
     "output_type": "stream",
     "text": [
      "Kept data:  1400 molecules\n"
     ]
    }
   ],
   "source": [
    "all_mols_ws[:] = [x for i,x in enumerate(all_mols_ws) if i not in y_bad_index] \n",
    "records = []\n",
    "for i in range(len(all_mols_ws)):\n",
    "    record = Chem.MolToSmiles(all_mols_ws[i])\n",
    "    records.append(record)\n",
    "\n",
    "moldf_ws = []\n",
    "for i,record in enumerate(records):\n",
    "    standard_record = standardize_smiles(record)\n",
    "    m = Chem.MolFromSmiles(standard_record)\n",
    "    moldf_ws.append(m)\n",
    "    \n",
    "print('Kept data: ', len(moldf_ws), 'molecules')"
   ]
  },
  {
   "cell_type": "code",
   "execution_count": 10,
   "metadata": {},
   "outputs": [],
   "source": [
    "records_ws = []\n",
    "for i in range(len(moldf_ws)):\n",
    "    record = Chem.MolToSmiles(moldf_ws[i])\n",
    "    records_ws.append(record)"
   ]
  },
  {
   "cell_type": "code",
   "execution_count": 11,
   "metadata": {},
   "outputs": [],
   "source": [
    "df = pd.DataFrame(records_ws, columns=[\"Smiles\"])\n",
    "df.to_csv('datasets/molecule_ws.smi', sep=',', index=False, header=False)"
   ]
  },
  {
   "cell_type": "markdown",
   "metadata": {},
   "source": [
    "# 4.Data entry and curation test set"
   ]
  },
  {
   "cell_type": "code",
   "execution_count": 12,
   "metadata": {},
   "outputs": [
    {
     "name": "stdout",
     "output_type": "stream",
     "text": [
      "Original data:  351 molecules\n",
      "Failed data:  0 molecules\n"
     ]
    },
    {
     "data": {
      "text/html": [
       "<div>\n",
       "<style scoped>\n",
       "    .dataframe tbody tr th:only-of-type {\n",
       "        vertical-align: middle;\n",
       "    }\n",
       "\n",
       "    .dataframe tbody tr th {\n",
       "        vertical-align: top;\n",
       "    }\n",
       "\n",
       "    .dataframe thead th {\n",
       "        text-align: right;\n",
       "    }\n",
       "</style>\n",
       "<table border=\"1\" class=\"dataframe\">\n",
       "  <thead>\n",
       "    <tr style=\"text-align: right;\">\n",
       "      <th></th>\n",
       "      <th>No. failed molecule in original set</th>\n",
       "      <th>SMILES of wrong structure:</th>\n",
       "    </tr>\n",
       "    <tr>\n",
       "      <th>No.</th>\n",
       "      <th></th>\n",
       "      <th></th>\n",
       "    </tr>\n",
       "  </thead>\n",
       "  <tbody>\n",
       "  </tbody>\n",
       "</table>\n",
       "</div>"
      ],
      "text/plain": [
       "Empty DataFrame\n",
       "Columns: [No. failed molecule in original set, SMILES of wrong structure: ]\n",
       "Index: []"
      ]
     },
     "execution_count": 12,
     "metadata": {},
     "output_type": "execute_result"
    }
   ],
   "source": [
    "uploaded_file_ts=\"datasets/HDAC3_test.sdf\"\n",
    "supplier_ts = Chem.ForwardSDMolSupplier(uploaded_file_ts,sanitize=False)\n",
    "failed_mols_ts = []\n",
    "all_mols_ts =[]\n",
    "wrong_structure_ts=[]\n",
    "wrong_smiles_ts=[]\n",
    "y_ts = []\n",
    "y_bad_index=[]\n",
    "for i, m in enumerate(supplier_ts):\n",
    "    structure = Chem.Mol(m)\n",
    "    all_mols_ts.append(structure)\n",
    "    y_ts.append(m.GetProp(\"pchembl_value_mean\"))\n",
    "    try:\n",
    "        Chem.SanitizeMol(structure)\n",
    "    except:\n",
    "        failed_mols_ts.append(m)\n",
    "        wrong_smiles_ts.append(Chem.MolToSmiles(m))\n",
    "        wrong_structure_ts.append(str(i+1))\n",
    "        y_bad_index.append(i)\n",
    "print('Original data: ', len(all_mols_ts), 'molecules')\n",
    "print('Failed data: ', len(failed_mols_ts), 'molecules')\n",
    "number_ts =[]\n",
    "for i in range(len(failed_mols_ts)):\n",
    "        number_ts.append(str(i+1))\n",
    "bad_molecules_ts = pd.DataFrame({'No. failed molecule in original set': wrong_structure_ts, 'SMILES of wrong structure: ': wrong_smiles_ts, 'No.': number_ts}, index=None)\n",
    "bad_molecules_ts = bad_molecules_ts.set_index('No.')\n",
    "bad_molecules_ts"
   ]
  },
  {
   "cell_type": "markdown",
   "metadata": {},
   "source": [
    "deleting activity values for substances with incorrect structure"
   ]
  },
  {
   "cell_type": "code",
   "execution_count": 13,
   "metadata": {},
   "outputs": [],
   "source": [
    "y_ts[:] = [x for i,x in enumerate(y_ts) if i not in y_bad_index]"
   ]
  },
  {
   "cell_type": "code",
   "execution_count": 14,
   "metadata": {},
   "outputs": [
    {
     "data": {
      "text/plain": [
       "351"
      ]
     },
     "execution_count": 14,
     "metadata": {},
     "output_type": "execute_result"
    }
   ],
   "source": [
    "len(y_ts)"
   ]
  },
  {
   "cell_type": "markdown",
   "metadata": {
    "scrolled": true
   },
   "source": [
    "# 5.Standardization SDF file for test set"
   ]
  },
  {
   "cell_type": "code",
   "execution_count": 15,
   "metadata": {},
   "outputs": [
    {
     "name": "stdout",
     "output_type": "stream",
     "text": [
      "Kept data:  351 molecules\n"
     ]
    }
   ],
   "source": [
    "all_mols_ts[:] = [x for i,x in enumerate(all_mols_ts) if i not in y_bad_index] \n",
    "records = []\n",
    "for i in range(len(all_mols_ts)):\n",
    "    record = Chem.MolToSmiles(all_mols_ts[i])\n",
    "    records.append(record)\n",
    "\n",
    "moldf_ts = []\n",
    "for i,record in enumerate(records):\n",
    "    standard_record = standardize_smiles(record)\n",
    "    m = Chem.MolFromSmiles(standard_record)\n",
    "    moldf_ts.append(m)\n",
    "    \n",
    "print('Kept data: ', len(moldf_ts), 'molecules')"
   ]
  },
  {
   "cell_type": "code",
   "execution_count": 16,
   "metadata": {},
   "outputs": [],
   "source": [
    "records_ts = []\n",
    "for i in range(len(moldf_ts)):\n",
    "    record = Chem.MolToSmiles(moldf_ts[i])\n",
    "    records_ts.append(record)"
   ]
  },
  {
   "cell_type": "code",
   "execution_count": 17,
   "metadata": {},
   "outputs": [],
   "source": [
    "df_ts = pd.DataFrame(records_ts, columns=[\"Smiles\"])\n",
    "df_ts.to_csv('datasets/molecule_ts.smi', sep=',', index=False, header=False)"
   ]
  },
  {
   "cell_type": "markdown",
   "metadata": {},
   "source": [
    "# 6.Descriptor calculation for work set"
   ]
  },
  {
   "cell_type": "code",
   "execution_count": 18,
   "metadata": {},
   "outputs": [
    {
     "data": {
      "text/plain": [
       "{'AtomPairs2DCount': 'fingerprints_xml\\\\AtomPairs2DFingerprintCount.xml',\n",
       " 'AtomPairs2D': 'fingerprints_xml\\\\AtomPairs2DFingerprinter.xml',\n",
       " 'EState': 'fingerprints_xml\\\\EStateFingerprinter.xml',\n",
       " 'CDKextended': 'fingerprints_xml\\\\ExtendedFingerprinter.xml',\n",
       " 'CDK': 'fingerprints_xml\\\\Fingerprinter.xml',\n",
       " 'CDKgraphonly': 'fingerprints_xml\\\\GraphOnlyFingerprinter.xml',\n",
       " 'KlekotaRothCount': 'fingerprints_xml\\\\KlekotaRothFingerprintCount.xml',\n",
       " 'KlekotaRoth': 'fingerprints_xml\\\\KlekotaRothFingerprinter.xml',\n",
       " 'MACCS': 'fingerprints_xml\\\\MACCSFingerprinter.xml',\n",
       " 'PubChem': 'fingerprints_xml\\\\PubchemFingerprinter.xml',\n",
       " 'SubstructureCount': 'fingerprints_xml\\\\SubstructureFingerprintCount.xml',\n",
       " 'Substructure': 'fingerprints_xml\\\\SubstructureFingerprinter.xml'}"
      ]
     },
     "execution_count": 18,
     "metadata": {},
     "output_type": "execute_result"
    }
   ],
   "source": [
    "fp"
   ]
  },
  {
   "cell_type": "markdown",
   "metadata": {},
   "source": [
    "### PubChem FPs"
   ]
  },
  {
   "cell_type": "code",
   "execution_count": 19,
   "metadata": {},
   "outputs": [],
   "source": [
    "from padelpy import padeldescriptor\n",
    "\n",
    "fingerprint = 'PubChem'\n",
    "\n",
    "fingerprint_output_file = ''.join([fingerprint,'.csv']) \n",
    "fingerprint_descriptortypes = fp[fingerprint]\n",
    "\n",
    "padeldescriptor(mol_dir='datasets/molecule_ws.smi', \n",
    "                d_file=fingerprint_output_file, \n",
    "                descriptortypes= fingerprint_descriptortypes,\n",
    "                detectaromaticity=True,\n",
    "                standardizenitro=True,\n",
    "                standardizetautomers=True,\n",
    "                threads=2,\n",
    "                removesalt=True,\n",
    "                log=True,\n",
    "                fingerprints=True)"
   ]
  },
  {
   "cell_type": "code",
   "execution_count": 20,
   "metadata": {},
   "outputs": [],
   "source": [
    "descriptors_PubChem = pd.read_csv('PubChem.csv')"
   ]
  },
  {
   "cell_type": "code",
   "execution_count": 21,
   "metadata": {},
   "outputs": [
    {
     "data": {
      "text/html": [
       "<div>\n",
       "<style scoped>\n",
       "    .dataframe tbody tr th:only-of-type {\n",
       "        vertical-align: middle;\n",
       "    }\n",
       "\n",
       "    .dataframe tbody tr th {\n",
       "        vertical-align: top;\n",
       "    }\n",
       "\n",
       "    .dataframe thead th {\n",
       "        text-align: right;\n",
       "    }\n",
       "</style>\n",
       "<table border=\"1\" class=\"dataframe\">\n",
       "  <thead>\n",
       "    <tr style=\"text-align: right;\">\n",
       "      <th></th>\n",
       "      <th>Name</th>\n",
       "      <th>PubchemFP0</th>\n",
       "      <th>PubchemFP1</th>\n",
       "      <th>PubchemFP2</th>\n",
       "      <th>PubchemFP3</th>\n",
       "      <th>PubchemFP4</th>\n",
       "      <th>PubchemFP5</th>\n",
       "      <th>PubchemFP6</th>\n",
       "      <th>PubchemFP7</th>\n",
       "      <th>PubchemFP8</th>\n",
       "      <th>...</th>\n",
       "      <th>PubchemFP871</th>\n",
       "      <th>PubchemFP872</th>\n",
       "      <th>PubchemFP873</th>\n",
       "      <th>PubchemFP874</th>\n",
       "      <th>PubchemFP875</th>\n",
       "      <th>PubchemFP876</th>\n",
       "      <th>PubchemFP877</th>\n",
       "      <th>PubchemFP878</th>\n",
       "      <th>PubchemFP879</th>\n",
       "      <th>PubchemFP880</th>\n",
       "    </tr>\n",
       "  </thead>\n",
       "  <tbody>\n",
       "    <tr>\n",
       "      <th>0</th>\n",
       "      <td>AUTOGEN_molecule_ws_1</td>\n",
       "      <td>1</td>\n",
       "      <td>1</td>\n",
       "      <td>1</td>\n",
       "      <td>0</td>\n",
       "      <td>0</td>\n",
       "      <td>0</td>\n",
       "      <td>0</td>\n",
       "      <td>0</td>\n",
       "      <td>0</td>\n",
       "      <td>...</td>\n",
       "      <td>0</td>\n",
       "      <td>0</td>\n",
       "      <td>0</td>\n",
       "      <td>0</td>\n",
       "      <td>0</td>\n",
       "      <td>0</td>\n",
       "      <td>0</td>\n",
       "      <td>0</td>\n",
       "      <td>0</td>\n",
       "      <td>0</td>\n",
       "    </tr>\n",
       "    <tr>\n",
       "      <th>1</th>\n",
       "      <td>AUTOGEN_molecule_ws_2</td>\n",
       "      <td>1</td>\n",
       "      <td>1</td>\n",
       "      <td>1</td>\n",
       "      <td>0</td>\n",
       "      <td>0</td>\n",
       "      <td>0</td>\n",
       "      <td>0</td>\n",
       "      <td>0</td>\n",
       "      <td>0</td>\n",
       "      <td>...</td>\n",
       "      <td>0</td>\n",
       "      <td>0</td>\n",
       "      <td>0</td>\n",
       "      <td>0</td>\n",
       "      <td>0</td>\n",
       "      <td>0</td>\n",
       "      <td>0</td>\n",
       "      <td>0</td>\n",
       "      <td>0</td>\n",
       "      <td>0</td>\n",
       "    </tr>\n",
       "    <tr>\n",
       "      <th>2</th>\n",
       "      <td>AUTOGEN_molecule_ws_3</td>\n",
       "      <td>0</td>\n",
       "      <td>0</td>\n",
       "      <td>0</td>\n",
       "      <td>0</td>\n",
       "      <td>0</td>\n",
       "      <td>0</td>\n",
       "      <td>0</td>\n",
       "      <td>0</td>\n",
       "      <td>0</td>\n",
       "      <td>...</td>\n",
       "      <td>0</td>\n",
       "      <td>0</td>\n",
       "      <td>0</td>\n",
       "      <td>0</td>\n",
       "      <td>0</td>\n",
       "      <td>0</td>\n",
       "      <td>0</td>\n",
       "      <td>0</td>\n",
       "      <td>0</td>\n",
       "      <td>0</td>\n",
       "    </tr>\n",
       "    <tr>\n",
       "      <th>3</th>\n",
       "      <td>AUTOGEN_molecule_ws_4</td>\n",
       "      <td>1</td>\n",
       "      <td>1</td>\n",
       "      <td>1</td>\n",
       "      <td>0</td>\n",
       "      <td>0</td>\n",
       "      <td>0</td>\n",
       "      <td>0</td>\n",
       "      <td>0</td>\n",
       "      <td>0</td>\n",
       "      <td>...</td>\n",
       "      <td>0</td>\n",
       "      <td>0</td>\n",
       "      <td>0</td>\n",
       "      <td>0</td>\n",
       "      <td>0</td>\n",
       "      <td>0</td>\n",
       "      <td>0</td>\n",
       "      <td>0</td>\n",
       "      <td>0</td>\n",
       "      <td>0</td>\n",
       "    </tr>\n",
       "    <tr>\n",
       "      <th>4</th>\n",
       "      <td>AUTOGEN_molecule_ws_5</td>\n",
       "      <td>1</td>\n",
       "      <td>1</td>\n",
       "      <td>1</td>\n",
       "      <td>0</td>\n",
       "      <td>0</td>\n",
       "      <td>0</td>\n",
       "      <td>0</td>\n",
       "      <td>0</td>\n",
       "      <td>0</td>\n",
       "      <td>...</td>\n",
       "      <td>0</td>\n",
       "      <td>0</td>\n",
       "      <td>0</td>\n",
       "      <td>0</td>\n",
       "      <td>0</td>\n",
       "      <td>0</td>\n",
       "      <td>0</td>\n",
       "      <td>0</td>\n",
       "      <td>0</td>\n",
       "      <td>0</td>\n",
       "    </tr>\n",
       "    <tr>\n",
       "      <th>...</th>\n",
       "      <td>...</td>\n",
       "      <td>...</td>\n",
       "      <td>...</td>\n",
       "      <td>...</td>\n",
       "      <td>...</td>\n",
       "      <td>...</td>\n",
       "      <td>...</td>\n",
       "      <td>...</td>\n",
       "      <td>...</td>\n",
       "      <td>...</td>\n",
       "      <td>...</td>\n",
       "      <td>...</td>\n",
       "      <td>...</td>\n",
       "      <td>...</td>\n",
       "      <td>...</td>\n",
       "      <td>...</td>\n",
       "      <td>...</td>\n",
       "      <td>...</td>\n",
       "      <td>...</td>\n",
       "      <td>...</td>\n",
       "      <td>...</td>\n",
       "    </tr>\n",
       "    <tr>\n",
       "      <th>1395</th>\n",
       "      <td>AUTOGEN_molecule_ws_1396</td>\n",
       "      <td>0</td>\n",
       "      <td>0</td>\n",
       "      <td>0</td>\n",
       "      <td>0</td>\n",
       "      <td>0</td>\n",
       "      <td>0</td>\n",
       "      <td>0</td>\n",
       "      <td>0</td>\n",
       "      <td>0</td>\n",
       "      <td>...</td>\n",
       "      <td>0</td>\n",
       "      <td>0</td>\n",
       "      <td>0</td>\n",
       "      <td>0</td>\n",
       "      <td>0</td>\n",
       "      <td>0</td>\n",
       "      <td>0</td>\n",
       "      <td>0</td>\n",
       "      <td>0</td>\n",
       "      <td>0</td>\n",
       "    </tr>\n",
       "    <tr>\n",
       "      <th>1396</th>\n",
       "      <td>AUTOGEN_molecule_ws_1397</td>\n",
       "      <td>0</td>\n",
       "      <td>0</td>\n",
       "      <td>0</td>\n",
       "      <td>0</td>\n",
       "      <td>0</td>\n",
       "      <td>0</td>\n",
       "      <td>0</td>\n",
       "      <td>0</td>\n",
       "      <td>0</td>\n",
       "      <td>...</td>\n",
       "      <td>0</td>\n",
       "      <td>0</td>\n",
       "      <td>0</td>\n",
       "      <td>0</td>\n",
       "      <td>0</td>\n",
       "      <td>0</td>\n",
       "      <td>0</td>\n",
       "      <td>0</td>\n",
       "      <td>0</td>\n",
       "      <td>0</td>\n",
       "    </tr>\n",
       "    <tr>\n",
       "      <th>1397</th>\n",
       "      <td>AUTOGEN_molecule_ws_1398</td>\n",
       "      <td>0</td>\n",
       "      <td>0</td>\n",
       "      <td>0</td>\n",
       "      <td>0</td>\n",
       "      <td>0</td>\n",
       "      <td>0</td>\n",
       "      <td>0</td>\n",
       "      <td>0</td>\n",
       "      <td>0</td>\n",
       "      <td>...</td>\n",
       "      <td>0</td>\n",
       "      <td>0</td>\n",
       "      <td>0</td>\n",
       "      <td>0</td>\n",
       "      <td>0</td>\n",
       "      <td>0</td>\n",
       "      <td>0</td>\n",
       "      <td>0</td>\n",
       "      <td>0</td>\n",
       "      <td>0</td>\n",
       "    </tr>\n",
       "    <tr>\n",
       "      <th>1398</th>\n",
       "      <td>AUTOGEN_molecule_ws_1399</td>\n",
       "      <td>1</td>\n",
       "      <td>1</td>\n",
       "      <td>1</td>\n",
       "      <td>0</td>\n",
       "      <td>0</td>\n",
       "      <td>0</td>\n",
       "      <td>0</td>\n",
       "      <td>0</td>\n",
       "      <td>0</td>\n",
       "      <td>...</td>\n",
       "      <td>0</td>\n",
       "      <td>0</td>\n",
       "      <td>0</td>\n",
       "      <td>0</td>\n",
       "      <td>0</td>\n",
       "      <td>0</td>\n",
       "      <td>0</td>\n",
       "      <td>0</td>\n",
       "      <td>0</td>\n",
       "      <td>0</td>\n",
       "    </tr>\n",
       "    <tr>\n",
       "      <th>1399</th>\n",
       "      <td>AUTOGEN_molecule_ws_1400</td>\n",
       "      <td>0</td>\n",
       "      <td>0</td>\n",
       "      <td>0</td>\n",
       "      <td>0</td>\n",
       "      <td>0</td>\n",
       "      <td>0</td>\n",
       "      <td>0</td>\n",
       "      <td>0</td>\n",
       "      <td>0</td>\n",
       "      <td>...</td>\n",
       "      <td>0</td>\n",
       "      <td>0</td>\n",
       "      <td>0</td>\n",
       "      <td>0</td>\n",
       "      <td>0</td>\n",
       "      <td>0</td>\n",
       "      <td>0</td>\n",
       "      <td>0</td>\n",
       "      <td>0</td>\n",
       "      <td>0</td>\n",
       "    </tr>\n",
       "  </tbody>\n",
       "</table>\n",
       "<p>1400 rows × 882 columns</p>\n",
       "</div>"
      ],
      "text/plain": [
       "                          Name  PubchemFP0  PubchemFP1  PubchemFP2  \\\n",
       "0        AUTOGEN_molecule_ws_1           1           1           1   \n",
       "1        AUTOGEN_molecule_ws_2           1           1           1   \n",
       "2        AUTOGEN_molecule_ws_3           0           0           0   \n",
       "3        AUTOGEN_molecule_ws_4           1           1           1   \n",
       "4        AUTOGEN_molecule_ws_5           1           1           1   \n",
       "...                        ...         ...         ...         ...   \n",
       "1395  AUTOGEN_molecule_ws_1396           0           0           0   \n",
       "1396  AUTOGEN_molecule_ws_1397           0           0           0   \n",
       "1397  AUTOGEN_molecule_ws_1398           0           0           0   \n",
       "1398  AUTOGEN_molecule_ws_1399           1           1           1   \n",
       "1399  AUTOGEN_molecule_ws_1400           0           0           0   \n",
       "\n",
       "      PubchemFP3  PubchemFP4  PubchemFP5  PubchemFP6  PubchemFP7  PubchemFP8  \\\n",
       "0              0           0           0           0           0           0   \n",
       "1              0           0           0           0           0           0   \n",
       "2              0           0           0           0           0           0   \n",
       "3              0           0           0           0           0           0   \n",
       "4              0           0           0           0           0           0   \n",
       "...          ...         ...         ...         ...         ...         ...   \n",
       "1395           0           0           0           0           0           0   \n",
       "1396           0           0           0           0           0           0   \n",
       "1397           0           0           0           0           0           0   \n",
       "1398           0           0           0           0           0           0   \n",
       "1399           0           0           0           0           0           0   \n",
       "\n",
       "      ...  PubchemFP871  PubchemFP872  PubchemFP873  PubchemFP874  \\\n",
       "0     ...             0             0             0             0   \n",
       "1     ...             0             0             0             0   \n",
       "2     ...             0             0             0             0   \n",
       "3     ...             0             0             0             0   \n",
       "4     ...             0             0             0             0   \n",
       "...   ...           ...           ...           ...           ...   \n",
       "1395  ...             0             0             0             0   \n",
       "1396  ...             0             0             0             0   \n",
       "1397  ...             0             0             0             0   \n",
       "1398  ...             0             0             0             0   \n",
       "1399  ...             0             0             0             0   \n",
       "\n",
       "      PubchemFP875  PubchemFP876  PubchemFP877  PubchemFP878  PubchemFP879  \\\n",
       "0                0             0             0             0             0   \n",
       "1                0             0             0             0             0   \n",
       "2                0             0             0             0             0   \n",
       "3                0             0             0             0             0   \n",
       "4                0             0             0             0             0   \n",
       "...            ...           ...           ...           ...           ...   \n",
       "1395             0             0             0             0             0   \n",
       "1396             0             0             0             0             0   \n",
       "1397             0             0             0             0             0   \n",
       "1398             0             0             0             0             0   \n",
       "1399             0             0             0             0             0   \n",
       "\n",
       "      PubchemFP880  \n",
       "0                0  \n",
       "1                0  \n",
       "2                0  \n",
       "3                0  \n",
       "4                0  \n",
       "...            ...  \n",
       "1395             0  \n",
       "1396             0  \n",
       "1397             0  \n",
       "1398             0  \n",
       "1399             0  \n",
       "\n",
       "[1400 rows x 882 columns]"
      ]
     },
     "execution_count": 21,
     "metadata": {},
     "output_type": "execute_result"
    }
   ],
   "source": [
    "descriptors_PubChem"
   ]
  },
  {
   "cell_type": "code",
   "execution_count": 62,
   "metadata": {},
   "outputs": [],
   "source": [
    "descriptors_ws = descriptors_PubChem.drop('Name', axis=1)"
   ]
  },
  {
   "cell_type": "code",
   "execution_count": 23,
   "metadata": {},
   "outputs": [],
   "source": [
    "x_tr = np.array(descriptors_ws, dtype=np.float32)\n",
    "y_tr = np.array(y_tr, dtype=np.float32)"
   ]
  },
  {
   "cell_type": "code",
   "execution_count": 24,
   "metadata": {},
   "outputs": [],
   "source": [
    "savetxt('Models/Padels/x_tr_PubChem.csv', x_tr, delimiter=',')"
   ]
  },
  {
   "cell_type": "code",
   "execution_count": 25,
   "metadata": {},
   "outputs": [
    {
     "data": {
      "text/plain": [
       "(1400, 881)"
      ]
     },
     "execution_count": 25,
     "metadata": {},
     "output_type": "execute_result"
    }
   ],
   "source": [
    "x_tr.shape"
   ]
  },
  {
   "cell_type": "markdown",
   "metadata": {},
   "source": [
    "# 7.Descriptor calculation for test set"
   ]
  },
  {
   "cell_type": "code",
   "execution_count": 26,
   "metadata": {},
   "outputs": [],
   "source": [
    "from padelpy import padeldescriptor\n",
    "\n",
    "fingerprint = 'PubChem'\n",
    "\n",
    "fingerprint_output_file = ''.join([fingerprint,'_ts.csv']) #PubChem.csv\n",
    "fingerprint_descriptortypes = fp[fingerprint]\n",
    "\n",
    "padeldescriptor(mol_dir='datasets/molecule_ts.smi', \n",
    "                d_file=fingerprint_output_file, #'PubChem.csv'\n",
    "                #descriptortypes='PubChem.xml', \n",
    "                descriptortypes= fingerprint_descriptortypes,\n",
    "                detectaromaticity=True,\n",
    "                standardizenitro=True,\n",
    "                standardizetautomers=True,\n",
    "                threads=2,\n",
    "                removesalt=True,\n",
    "                log=False,\n",
    "                fingerprints=True)"
   ]
  },
  {
   "cell_type": "code",
   "execution_count": 27,
   "metadata": {},
   "outputs": [],
   "source": [
    "descriptors_PubChem_ts = pd.read_csv('PubChem_ts.csv')"
   ]
  },
  {
   "cell_type": "code",
   "execution_count": 104,
   "metadata": {},
   "outputs": [],
   "source": [
    "x_ts = descriptors_PubChem_ts.drop('Name', axis=1)"
   ]
  },
  {
   "cell_type": "code",
   "execution_count": 105,
   "metadata": {},
   "outputs": [],
   "source": [
    "desc_ts=x_ts"
   ]
  },
  {
   "cell_type": "code",
   "execution_count": 29,
   "metadata": {},
   "outputs": [
    {
     "data": {
      "text/plain": [
       "(351, 881)"
      ]
     },
     "execution_count": 29,
     "metadata": {},
     "output_type": "execute_result"
    }
   ],
   "source": [
    "x_ts.shape"
   ]
  },
  {
   "cell_type": "markdown",
   "metadata": {},
   "source": [
    " # BASELINE GradientBoostingRegressor"
   ]
  },
  {
   "cell_type": "code",
   "execution_count": 30,
   "metadata": {},
   "outputs": [],
   "source": [
    "seed = 42"
   ]
  },
  {
   "cell_type": "code",
   "execution_count": 31,
   "metadata": {},
   "outputs": [],
   "source": [
    "cv=KFold(n_splits=5, random_state=seed, shuffle=True)"
   ]
  },
  {
   "cell_type": "code",
   "execution_count": 32,
   "metadata": {},
   "outputs": [],
   "source": [
    "param_grid = {'learning_rate': [0.01, 0.04],\n",
    "                  'subsample'    : [0.9, 0.5],\n",
    "                  'n_estimators' : [100,1000, 2000],\n",
    "                  'max_depth'    : [4, 10]\n",
    "                 }"
   ]
  },
  {
   "cell_type": "code",
   "execution_count": 33,
   "metadata": {},
   "outputs": [],
   "source": [
    "m = GridSearchCV(GradientBoostingRegressor(), param_grid, n_jobs=-1, cv=cv, verbose=1)"
   ]
  },
  {
   "cell_type": "code",
   "execution_count": 37,
   "metadata": {},
   "outputs": [
    {
     "name": "stdout",
     "output_type": "stream",
     "text": [
      "Fitting 5 folds for each of 24 candidates, totalling 120 fits\n"
     ]
    },
    {
     "data": {
      "text/html": [
       "<style>#sk-container-id-2 {color: black;}#sk-container-id-2 pre{padding: 0;}#sk-container-id-2 div.sk-toggleable {background-color: white;}#sk-container-id-2 label.sk-toggleable__label {cursor: pointer;display: block;width: 100%;margin-bottom: 0;padding: 0.3em;box-sizing: border-box;text-align: center;}#sk-container-id-2 label.sk-toggleable__label-arrow:before {content: \"▸\";float: left;margin-right: 0.25em;color: #696969;}#sk-container-id-2 label.sk-toggleable__label-arrow:hover:before {color: black;}#sk-container-id-2 div.sk-estimator:hover label.sk-toggleable__label-arrow:before {color: black;}#sk-container-id-2 div.sk-toggleable__content {max-height: 0;max-width: 0;overflow: hidden;text-align: left;background-color: #f0f8ff;}#sk-container-id-2 div.sk-toggleable__content pre {margin: 0.2em;color: black;border-radius: 0.25em;background-color: #f0f8ff;}#sk-container-id-2 input.sk-toggleable__control:checked~div.sk-toggleable__content {max-height: 200px;max-width: 100%;overflow: auto;}#sk-container-id-2 input.sk-toggleable__control:checked~label.sk-toggleable__label-arrow:before {content: \"▾\";}#sk-container-id-2 div.sk-estimator input.sk-toggleable__control:checked~label.sk-toggleable__label {background-color: #d4ebff;}#sk-container-id-2 div.sk-label input.sk-toggleable__control:checked~label.sk-toggleable__label {background-color: #d4ebff;}#sk-container-id-2 input.sk-hidden--visually {border: 0;clip: rect(1px 1px 1px 1px);clip: rect(1px, 1px, 1px, 1px);height: 1px;margin: -1px;overflow: hidden;padding: 0;position: absolute;width: 1px;}#sk-container-id-2 div.sk-estimator {font-family: monospace;background-color: #f0f8ff;border: 1px dotted black;border-radius: 0.25em;box-sizing: border-box;margin-bottom: 0.5em;}#sk-container-id-2 div.sk-estimator:hover {background-color: #d4ebff;}#sk-container-id-2 div.sk-parallel-item::after {content: \"\";width: 100%;border-bottom: 1px solid gray;flex-grow: 1;}#sk-container-id-2 div.sk-label:hover label.sk-toggleable__label {background-color: #d4ebff;}#sk-container-id-2 div.sk-serial::before {content: \"\";position: absolute;border-left: 1px solid gray;box-sizing: border-box;top: 0;bottom: 0;left: 50%;z-index: 0;}#sk-container-id-2 div.sk-serial {display: flex;flex-direction: column;align-items: center;background-color: white;padding-right: 0.2em;padding-left: 0.2em;position: relative;}#sk-container-id-2 div.sk-item {position: relative;z-index: 1;}#sk-container-id-2 div.sk-parallel {display: flex;align-items: stretch;justify-content: center;background-color: white;position: relative;}#sk-container-id-2 div.sk-item::before, #sk-container-id-2 div.sk-parallel-item::before {content: \"\";position: absolute;border-left: 1px solid gray;box-sizing: border-box;top: 0;bottom: 0;left: 50%;z-index: -1;}#sk-container-id-2 div.sk-parallel-item {display: flex;flex-direction: column;z-index: 1;position: relative;background-color: white;}#sk-container-id-2 div.sk-parallel-item:first-child::after {align-self: flex-end;width: 50%;}#sk-container-id-2 div.sk-parallel-item:last-child::after {align-self: flex-start;width: 50%;}#sk-container-id-2 div.sk-parallel-item:only-child::after {width: 0;}#sk-container-id-2 div.sk-dashed-wrapped {border: 1px dashed gray;margin: 0 0.4em 0.5em 0.4em;box-sizing: border-box;padding-bottom: 0.4em;background-color: white;}#sk-container-id-2 div.sk-label label {font-family: monospace;font-weight: bold;display: inline-block;line-height: 1.2em;}#sk-container-id-2 div.sk-label-container {text-align: center;}#sk-container-id-2 div.sk-container {/* jupyter's `normalize.less` sets `[hidden] { display: none; }` but bootstrap.min.css set `[hidden] { display: none !important; }` so we also need the `!important` here to be able to override the default hidden behavior on the sphinx rendered scikit-learn.org. See: https://github.com/scikit-learn/scikit-learn/issues/21755 */display: inline-block !important;position: relative;}#sk-container-id-2 div.sk-text-repr-fallback {display: none;}</style><div id=\"sk-container-id-2\" class=\"sk-top-container\"><div class=\"sk-text-repr-fallback\"><pre>GridSearchCV(cv=KFold(n_splits=5, random_state=42, shuffle=True),\n",
       "             estimator=GradientBoostingRegressor(), n_jobs=-1,\n",
       "             param_grid={&#x27;learning_rate&#x27;: [0.01, 0.04], &#x27;max_depth&#x27;: [4, 10],\n",
       "                         &#x27;n_estimators&#x27;: [100, 1000, 2000],\n",
       "                         &#x27;subsample&#x27;: [0.9, 0.5]},\n",
       "             verbose=1)</pre><b>In a Jupyter environment, please rerun this cell to show the HTML representation or trust the notebook. <br />On GitHub, the HTML representation is unable to render, please try loading this page with nbviewer.org.</b></div><div class=\"sk-container\" hidden><div class=\"sk-item sk-dashed-wrapped\"><div class=\"sk-label-container\"><div class=\"sk-label sk-toggleable\"><input class=\"sk-toggleable__control sk-hidden--visually\" id=\"sk-estimator-id-4\" type=\"checkbox\" ><label for=\"sk-estimator-id-4\" class=\"sk-toggleable__label sk-toggleable__label-arrow\">GridSearchCV</label><div class=\"sk-toggleable__content\"><pre>GridSearchCV(cv=KFold(n_splits=5, random_state=42, shuffle=True),\n",
       "             estimator=GradientBoostingRegressor(), n_jobs=-1,\n",
       "             param_grid={&#x27;learning_rate&#x27;: [0.01, 0.04], &#x27;max_depth&#x27;: [4, 10],\n",
       "                         &#x27;n_estimators&#x27;: [100, 1000, 2000],\n",
       "                         &#x27;subsample&#x27;: [0.9, 0.5]},\n",
       "             verbose=1)</pre></div></div></div><div class=\"sk-parallel\"><div class=\"sk-parallel-item\"><div class=\"sk-item\"><div class=\"sk-label-container\"><div class=\"sk-label sk-toggleable\"><input class=\"sk-toggleable__control sk-hidden--visually\" id=\"sk-estimator-id-5\" type=\"checkbox\" ><label for=\"sk-estimator-id-5\" class=\"sk-toggleable__label sk-toggleable__label-arrow\">estimator: GradientBoostingRegressor</label><div class=\"sk-toggleable__content\"><pre>GradientBoostingRegressor()</pre></div></div></div><div class=\"sk-serial\"><div class=\"sk-item\"><div class=\"sk-estimator sk-toggleable\"><input class=\"sk-toggleable__control sk-hidden--visually\" id=\"sk-estimator-id-6\" type=\"checkbox\" ><label for=\"sk-estimator-id-6\" class=\"sk-toggleable__label sk-toggleable__label-arrow\">GradientBoostingRegressor</label><div class=\"sk-toggleable__content\"><pre>GradientBoostingRegressor()</pre></div></div></div></div></div></div></div></div></div></div>"
      ],
      "text/plain": [
       "GridSearchCV(cv=KFold(n_splits=5, random_state=42, shuffle=True),\n",
       "             estimator=GradientBoostingRegressor(), n_jobs=-1,\n",
       "             param_grid={'learning_rate': [0.01, 0.04], 'max_depth': [4, 10],\n",
       "                         'n_estimators': [100, 1000, 2000],\n",
       "                         'subsample': [0.9, 0.5]},\n",
       "             verbose=1)"
      ]
     },
     "execution_count": 37,
     "metadata": {},
     "output_type": "execute_result"
    }
   ],
   "source": [
    "m.fit(x_tr, y_tr)"
   ]
  },
  {
   "cell_type": "code",
   "execution_count": 38,
   "metadata": {},
   "outputs": [],
   "source": [
    "best_GBR = m.best_estimator_"
   ]
  },
  {
   "cell_type": "code",
   "execution_count": 39,
   "metadata": {},
   "outputs": [
    {
     "data": {
      "text/plain": [
       "{'learning_rate': 0.01,\n",
       " 'max_depth': 10,\n",
       " 'n_estimators': 1000,\n",
       " 'subsample': 0.5}"
      ]
     },
     "execution_count": 39,
     "metadata": {},
     "output_type": "execute_result"
    }
   ],
   "source": [
    "m.best_params_"
   ]
  },
  {
   "cell_type": "code",
   "execution_count": 74,
   "metadata": {},
   "outputs": [],
   "source": [
    "y_pred_CV_GBR = cross_val_predict(best_GBR, x_tr, y_tr, cv=cv)"
   ]
  },
  {
   "cell_type": "code",
   "execution_count": 75,
   "metadata": {},
   "outputs": [
    {
     "data": {
      "text/plain": [
       "array([4.66001691, 4.93949643, 5.45580664, ..., 9.60259037, 7.21988858,\n",
       "       9.19001709])"
      ]
     },
     "execution_count": 75,
     "metadata": {},
     "output_type": "execute_result"
    }
   ],
   "source": [
    "y_pred_CV_GBR"
   ]
  },
  {
   "cell_type": "code",
   "execution_count": 78,
   "metadata": {},
   "outputs": [
    {
     "data": {
      "text/plain": [
       "0.64"
      ]
     },
     "execution_count": 78,
     "metadata": {},
     "output_type": "execute_result"
    }
   ],
   "source": [
    "Q2_CV = round(r2_score(y_tr, y_pred_CV_GBR), 2)\n",
    "Q2_CV"
   ]
  },
  {
   "cell_type": "code",
   "execution_count": 79,
   "metadata": {},
   "outputs": [
    {
     "data": {
      "text/plain": [
       "0.73"
      ]
     },
     "execution_count": 79,
     "metadata": {},
     "output_type": "execute_result"
    }
   ],
   "source": [
    "RMSE_CV=round(np.sqrt(mean_squared_error(y_tr, y_pred_CV_GBR)), 2)\n",
    "RMSE_CV"
   ]
  },
  {
   "cell_type": "markdown",
   "metadata": {},
   "source": [
    "# 9. Prediction for test set's molecules"
   ]
  },
  {
   "cell_type": "code",
   "execution_count": 80,
   "metadata": {},
   "outputs": [
    {
     "data": {
      "text/plain": [
       "351"
      ]
     },
     "execution_count": 80,
     "metadata": {},
     "output_type": "execute_result"
    }
   ],
   "source": [
    "x_ts = np.array(x_ts, dtype=np.float32)\n",
    "y_ts = np.array(y_ts, dtype=np.float32)\n",
    "len(y_ts)"
   ]
  },
  {
   "cell_type": "code",
   "execution_count": 81,
   "metadata": {},
   "outputs": [],
   "source": [
    "y_pred_GBR = best_GBR.predict(x_ts)"
   ]
  },
  {
   "cell_type": "code",
   "execution_count": 82,
   "metadata": {},
   "outputs": [
    {
     "data": {
      "text/plain": [
       "0.66"
      ]
     },
     "execution_count": 82,
     "metadata": {},
     "output_type": "execute_result"
    }
   ],
   "source": [
    "Q2_TS = round(r2_score(y_ts, y_pred_GBR), 2)\n",
    "Q2_TS"
   ]
  },
  {
   "cell_type": "code",
   "execution_count": 83,
   "metadata": {},
   "outputs": [
    {
     "data": {
      "text/plain": [
       "0.72"
      ]
     },
     "execution_count": 83,
     "metadata": {},
     "output_type": "execute_result"
    }
   ],
   "source": [
    "RMSE_TS=round(np.sqrt(mean_squared_error(y_ts, y_pred_GBR)), 2)\n",
    "RMSE_TS"
   ]
  },
  {
   "cell_type": "markdown",
   "metadata": {},
   "source": [
    "# save the model to disk"
   ]
  },
  {
   "cell_type": "code",
   "execution_count": 57,
   "metadata": {},
   "outputs": [],
   "source": [
    "pickle.dump(best_GBR, open('Models/Padels/HDAC6_GBR_PubChem.pkl', 'wb'))"
   ]
  },
  {
   "cell_type": "markdown",
   "metadata": {},
   "source": [
    "# load the model from disk"
   ]
  },
  {
   "cell_type": "code",
   "execution_count": 73,
   "metadata": {},
   "outputs": [],
   "source": [
    "best_GBR = pickle.load(open('Models/Padels/HDAC6_GBR_PubChem.pkl', 'rb'))"
   ]
  },
  {
   "cell_type": "code",
   "execution_count": 58,
   "metadata": {},
   "outputs": [],
   "source": [
    "estimator = GradientBoostingRegressor(learning_rate=0.01,subsample= 0.5, n_estimators=1000, max_depth= 10,  random_state=seed)"
   ]
  },
  {
   "cell_type": "markdown",
   "metadata": {},
   "source": [
    "# VarianceThreshold"
   ]
  },
  {
   "cell_type": "code",
   "execution_count": 59,
   "metadata": {},
   "outputs": [],
   "source": [
    "from sklearn.feature_selection import VarianceThreshold"
   ]
  },
  {
   "cell_type": "code",
   "execution_count": 60,
   "metadata": {},
   "outputs": [],
   "source": [
    "def variance_threshold_selector(data, threshold=0.5):\n",
    "    selector = VarianceThreshold(threshold)\n",
    "    selector.fit(data)\n",
    "    return data[data.columns[selector.get_support(indices=True)]]"
   ]
  },
  {
   "cell_type": "code",
   "execution_count": 63,
   "metadata": {},
   "outputs": [
    {
     "data": {
      "text/html": [
       "<div>\n",
       "<style scoped>\n",
       "    .dataframe tbody tr th:only-of-type {\n",
       "        vertical-align: middle;\n",
       "    }\n",
       "\n",
       "    .dataframe tbody tr th {\n",
       "        vertical-align: top;\n",
       "    }\n",
       "\n",
       "    .dataframe thead th {\n",
       "        text-align: right;\n",
       "    }\n",
       "</style>\n",
       "<table border=\"1\" class=\"dataframe\">\n",
       "  <thead>\n",
       "    <tr style=\"text-align: right;\">\n",
       "      <th></th>\n",
       "      <th>PubchemFP0</th>\n",
       "      <th>PubchemFP1</th>\n",
       "      <th>PubchemFP2</th>\n",
       "      <th>PubchemFP12</th>\n",
       "      <th>PubchemFP13</th>\n",
       "      <th>PubchemFP16</th>\n",
       "      <th>PubchemFP19</th>\n",
       "      <th>PubchemFP20</th>\n",
       "      <th>PubchemFP23</th>\n",
       "      <th>PubchemFP24</th>\n",
       "      <th>...</th>\n",
       "      <th>PubchemFP779</th>\n",
       "      <th>PubchemFP797</th>\n",
       "      <th>PubchemFP798</th>\n",
       "      <th>PubchemFP800</th>\n",
       "      <th>PubchemFP803</th>\n",
       "      <th>PubchemFP818</th>\n",
       "      <th>PubchemFP819</th>\n",
       "      <th>PubchemFP821</th>\n",
       "      <th>PubchemFP824</th>\n",
       "      <th>PubchemFP833</th>\n",
       "    </tr>\n",
       "  </thead>\n",
       "  <tbody>\n",
       "    <tr>\n",
       "      <th>0</th>\n",
       "      <td>1</td>\n",
       "      <td>1</td>\n",
       "      <td>1</td>\n",
       "      <td>1</td>\n",
       "      <td>0</td>\n",
       "      <td>0</td>\n",
       "      <td>1</td>\n",
       "      <td>0</td>\n",
       "      <td>0</td>\n",
       "      <td>0</td>\n",
       "      <td>...</td>\n",
       "      <td>0</td>\n",
       "      <td>0</td>\n",
       "      <td>0</td>\n",
       "      <td>0</td>\n",
       "      <td>0</td>\n",
       "      <td>0</td>\n",
       "      <td>0</td>\n",
       "      <td>0</td>\n",
       "      <td>0</td>\n",
       "      <td>0</td>\n",
       "    </tr>\n",
       "    <tr>\n",
       "      <th>1</th>\n",
       "      <td>1</td>\n",
       "      <td>1</td>\n",
       "      <td>1</td>\n",
       "      <td>1</td>\n",
       "      <td>0</td>\n",
       "      <td>0</td>\n",
       "      <td>1</td>\n",
       "      <td>0</td>\n",
       "      <td>0</td>\n",
       "      <td>0</td>\n",
       "      <td>...</td>\n",
       "      <td>0</td>\n",
       "      <td>0</td>\n",
       "      <td>0</td>\n",
       "      <td>0</td>\n",
       "      <td>0</td>\n",
       "      <td>0</td>\n",
       "      <td>0</td>\n",
       "      <td>0</td>\n",
       "      <td>0</td>\n",
       "      <td>0</td>\n",
       "    </tr>\n",
       "    <tr>\n",
       "      <th>2</th>\n",
       "      <td>0</td>\n",
       "      <td>0</td>\n",
       "      <td>0</td>\n",
       "      <td>1</td>\n",
       "      <td>0</td>\n",
       "      <td>1</td>\n",
       "      <td>1</td>\n",
       "      <td>1</td>\n",
       "      <td>0</td>\n",
       "      <td>0</td>\n",
       "      <td>...</td>\n",
       "      <td>0</td>\n",
       "      <td>0</td>\n",
       "      <td>0</td>\n",
       "      <td>1</td>\n",
       "      <td>0</td>\n",
       "      <td>0</td>\n",
       "      <td>0</td>\n",
       "      <td>0</td>\n",
       "      <td>0</td>\n",
       "      <td>0</td>\n",
       "    </tr>\n",
       "    <tr>\n",
       "      <th>3</th>\n",
       "      <td>1</td>\n",
       "      <td>1</td>\n",
       "      <td>1</td>\n",
       "      <td>1</td>\n",
       "      <td>0</td>\n",
       "      <td>0</td>\n",
       "      <td>1</td>\n",
       "      <td>0</td>\n",
       "      <td>0</td>\n",
       "      <td>0</td>\n",
       "      <td>...</td>\n",
       "      <td>0</td>\n",
       "      <td>0</td>\n",
       "      <td>0</td>\n",
       "      <td>0</td>\n",
       "      <td>0</td>\n",
       "      <td>0</td>\n",
       "      <td>0</td>\n",
       "      <td>0</td>\n",
       "      <td>0</td>\n",
       "      <td>0</td>\n",
       "    </tr>\n",
       "    <tr>\n",
       "      <th>4</th>\n",
       "      <td>1</td>\n",
       "      <td>1</td>\n",
       "      <td>1</td>\n",
       "      <td>0</td>\n",
       "      <td>0</td>\n",
       "      <td>1</td>\n",
       "      <td>1</td>\n",
       "      <td>0</td>\n",
       "      <td>0</td>\n",
       "      <td>0</td>\n",
       "      <td>...</td>\n",
       "      <td>0</td>\n",
       "      <td>0</td>\n",
       "      <td>0</td>\n",
       "      <td>0</td>\n",
       "      <td>0</td>\n",
       "      <td>0</td>\n",
       "      <td>0</td>\n",
       "      <td>0</td>\n",
       "      <td>0</td>\n",
       "      <td>0</td>\n",
       "    </tr>\n",
       "    <tr>\n",
       "      <th>...</th>\n",
       "      <td>...</td>\n",
       "      <td>...</td>\n",
       "      <td>...</td>\n",
       "      <td>...</td>\n",
       "      <td>...</td>\n",
       "      <td>...</td>\n",
       "      <td>...</td>\n",
       "      <td>...</td>\n",
       "      <td>...</td>\n",
       "      <td>...</td>\n",
       "      <td>...</td>\n",
       "      <td>...</td>\n",
       "      <td>...</td>\n",
       "      <td>...</td>\n",
       "      <td>...</td>\n",
       "      <td>...</td>\n",
       "      <td>...</td>\n",
       "      <td>...</td>\n",
       "      <td>...</td>\n",
       "      <td>...</td>\n",
       "      <td>...</td>\n",
       "    </tr>\n",
       "    <tr>\n",
       "      <th>1395</th>\n",
       "      <td>0</td>\n",
       "      <td>0</td>\n",
       "      <td>0</td>\n",
       "      <td>1</td>\n",
       "      <td>1</td>\n",
       "      <td>1</td>\n",
       "      <td>1</td>\n",
       "      <td>0</td>\n",
       "      <td>0</td>\n",
       "      <td>0</td>\n",
       "      <td>...</td>\n",
       "      <td>0</td>\n",
       "      <td>0</td>\n",
       "      <td>0</td>\n",
       "      <td>0</td>\n",
       "      <td>0</td>\n",
       "      <td>0</td>\n",
       "      <td>0</td>\n",
       "      <td>1</td>\n",
       "      <td>0</td>\n",
       "      <td>0</td>\n",
       "    </tr>\n",
       "    <tr>\n",
       "      <th>1396</th>\n",
       "      <td>0</td>\n",
       "      <td>0</td>\n",
       "      <td>0</td>\n",
       "      <td>1</td>\n",
       "      <td>1</td>\n",
       "      <td>1</td>\n",
       "      <td>1</td>\n",
       "      <td>0</td>\n",
       "      <td>0</td>\n",
       "      <td>0</td>\n",
       "      <td>...</td>\n",
       "      <td>1</td>\n",
       "      <td>1</td>\n",
       "      <td>0</td>\n",
       "      <td>0</td>\n",
       "      <td>0</td>\n",
       "      <td>0</td>\n",
       "      <td>1</td>\n",
       "      <td>1</td>\n",
       "      <td>0</td>\n",
       "      <td>0</td>\n",
       "    </tr>\n",
       "    <tr>\n",
       "      <th>1397</th>\n",
       "      <td>0</td>\n",
       "      <td>0</td>\n",
       "      <td>0</td>\n",
       "      <td>1</td>\n",
       "      <td>1</td>\n",
       "      <td>1</td>\n",
       "      <td>1</td>\n",
       "      <td>0</td>\n",
       "      <td>0</td>\n",
       "      <td>0</td>\n",
       "      <td>...</td>\n",
       "      <td>0</td>\n",
       "      <td>0</td>\n",
       "      <td>0</td>\n",
       "      <td>0</td>\n",
       "      <td>0</td>\n",
       "      <td>0</td>\n",
       "      <td>0</td>\n",
       "      <td>1</td>\n",
       "      <td>0</td>\n",
       "      <td>0</td>\n",
       "    </tr>\n",
       "    <tr>\n",
       "      <th>1398</th>\n",
       "      <td>1</td>\n",
       "      <td>1</td>\n",
       "      <td>1</td>\n",
       "      <td>1</td>\n",
       "      <td>0</td>\n",
       "      <td>1</td>\n",
       "      <td>1</td>\n",
       "      <td>0</td>\n",
       "      <td>1</td>\n",
       "      <td>0</td>\n",
       "      <td>...</td>\n",
       "      <td>0</td>\n",
       "      <td>0</td>\n",
       "      <td>0</td>\n",
       "      <td>0</td>\n",
       "      <td>0</td>\n",
       "      <td>0</td>\n",
       "      <td>0</td>\n",
       "      <td>0</td>\n",
       "      <td>0</td>\n",
       "      <td>0</td>\n",
       "    </tr>\n",
       "    <tr>\n",
       "      <th>1399</th>\n",
       "      <td>0</td>\n",
       "      <td>0</td>\n",
       "      <td>0</td>\n",
       "      <td>1</td>\n",
       "      <td>1</td>\n",
       "      <td>1</td>\n",
       "      <td>1</td>\n",
       "      <td>1</td>\n",
       "      <td>0</td>\n",
       "      <td>0</td>\n",
       "      <td>...</td>\n",
       "      <td>1</td>\n",
       "      <td>1</td>\n",
       "      <td>0</td>\n",
       "      <td>0</td>\n",
       "      <td>0</td>\n",
       "      <td>0</td>\n",
       "      <td>1</td>\n",
       "      <td>1</td>\n",
       "      <td>0</td>\n",
       "      <td>0</td>\n",
       "    </tr>\n",
       "  </tbody>\n",
       "</table>\n",
       "<p>1400 rows × 307 columns</p>\n",
       "</div>"
      ],
      "text/plain": [
       "      PubchemFP0  PubchemFP1  PubchemFP2  PubchemFP12  PubchemFP13  \\\n",
       "0              1           1           1            1            0   \n",
       "1              1           1           1            1            0   \n",
       "2              0           0           0            1            0   \n",
       "3              1           1           1            1            0   \n",
       "4              1           1           1            0            0   \n",
       "...          ...         ...         ...          ...          ...   \n",
       "1395           0           0           0            1            1   \n",
       "1396           0           0           0            1            1   \n",
       "1397           0           0           0            1            1   \n",
       "1398           1           1           1            1            0   \n",
       "1399           0           0           0            1            1   \n",
       "\n",
       "      PubchemFP16  PubchemFP19  PubchemFP20  PubchemFP23  PubchemFP24  ...  \\\n",
       "0               0            1            0            0            0  ...   \n",
       "1               0            1            0            0            0  ...   \n",
       "2               1            1            1            0            0  ...   \n",
       "3               0            1            0            0            0  ...   \n",
       "4               1            1            0            0            0  ...   \n",
       "...           ...          ...          ...          ...          ...  ...   \n",
       "1395            1            1            0            0            0  ...   \n",
       "1396            1            1            0            0            0  ...   \n",
       "1397            1            1            0            0            0  ...   \n",
       "1398            1            1            0            1            0  ...   \n",
       "1399            1            1            1            0            0  ...   \n",
       "\n",
       "      PubchemFP779  PubchemFP797  PubchemFP798  PubchemFP800  PubchemFP803  \\\n",
       "0                0             0             0             0             0   \n",
       "1                0             0             0             0             0   \n",
       "2                0             0             0             1             0   \n",
       "3                0             0             0             0             0   \n",
       "4                0             0             0             0             0   \n",
       "...            ...           ...           ...           ...           ...   \n",
       "1395             0             0             0             0             0   \n",
       "1396             1             1             0             0             0   \n",
       "1397             0             0             0             0             0   \n",
       "1398             0             0             0             0             0   \n",
       "1399             1             1             0             0             0   \n",
       "\n",
       "      PubchemFP818  PubchemFP819  PubchemFP821  PubchemFP824  PubchemFP833  \n",
       "0                0             0             0             0             0  \n",
       "1                0             0             0             0             0  \n",
       "2                0             0             0             0             0  \n",
       "3                0             0             0             0             0  \n",
       "4                0             0             0             0             0  \n",
       "...            ...           ...           ...           ...           ...  \n",
       "1395             0             0             1             0             0  \n",
       "1396             0             1             1             0             0  \n",
       "1397             0             0             1             0             0  \n",
       "1398             0             0             0             0             0  \n",
       "1399             0             1             1             0             0  \n",
       "\n",
       "[1400 rows x 307 columns]"
      ]
     },
     "execution_count": 63,
     "metadata": {},
     "output_type": "execute_result"
    }
   ],
   "source": [
    "x_tr_const_and_nearcont=variance_threshold_selector(descriptors_ws, 0.05)\n",
    "x_tr_const_and_nearcont"
   ]
  },
  {
   "cell_type": "code",
   "execution_count": 64,
   "metadata": {},
   "outputs": [
    {
     "data": {
      "text/html": [
       "<style>#sk-container-id-3 {color: black;}#sk-container-id-3 pre{padding: 0;}#sk-container-id-3 div.sk-toggleable {background-color: white;}#sk-container-id-3 label.sk-toggleable__label {cursor: pointer;display: block;width: 100%;margin-bottom: 0;padding: 0.3em;box-sizing: border-box;text-align: center;}#sk-container-id-3 label.sk-toggleable__label-arrow:before {content: \"▸\";float: left;margin-right: 0.25em;color: #696969;}#sk-container-id-3 label.sk-toggleable__label-arrow:hover:before {color: black;}#sk-container-id-3 div.sk-estimator:hover label.sk-toggleable__label-arrow:before {color: black;}#sk-container-id-3 div.sk-toggleable__content {max-height: 0;max-width: 0;overflow: hidden;text-align: left;background-color: #f0f8ff;}#sk-container-id-3 div.sk-toggleable__content pre {margin: 0.2em;color: black;border-radius: 0.25em;background-color: #f0f8ff;}#sk-container-id-3 input.sk-toggleable__control:checked~div.sk-toggleable__content {max-height: 200px;max-width: 100%;overflow: auto;}#sk-container-id-3 input.sk-toggleable__control:checked~label.sk-toggleable__label-arrow:before {content: \"▾\";}#sk-container-id-3 div.sk-estimator input.sk-toggleable__control:checked~label.sk-toggleable__label {background-color: #d4ebff;}#sk-container-id-3 div.sk-label input.sk-toggleable__control:checked~label.sk-toggleable__label {background-color: #d4ebff;}#sk-container-id-3 input.sk-hidden--visually {border: 0;clip: rect(1px 1px 1px 1px);clip: rect(1px, 1px, 1px, 1px);height: 1px;margin: -1px;overflow: hidden;padding: 0;position: absolute;width: 1px;}#sk-container-id-3 div.sk-estimator {font-family: monospace;background-color: #f0f8ff;border: 1px dotted black;border-radius: 0.25em;box-sizing: border-box;margin-bottom: 0.5em;}#sk-container-id-3 div.sk-estimator:hover {background-color: #d4ebff;}#sk-container-id-3 div.sk-parallel-item::after {content: \"\";width: 100%;border-bottom: 1px solid gray;flex-grow: 1;}#sk-container-id-3 div.sk-label:hover label.sk-toggleable__label {background-color: #d4ebff;}#sk-container-id-3 div.sk-serial::before {content: \"\";position: absolute;border-left: 1px solid gray;box-sizing: border-box;top: 0;bottom: 0;left: 50%;z-index: 0;}#sk-container-id-3 div.sk-serial {display: flex;flex-direction: column;align-items: center;background-color: white;padding-right: 0.2em;padding-left: 0.2em;position: relative;}#sk-container-id-3 div.sk-item {position: relative;z-index: 1;}#sk-container-id-3 div.sk-parallel {display: flex;align-items: stretch;justify-content: center;background-color: white;position: relative;}#sk-container-id-3 div.sk-item::before, #sk-container-id-3 div.sk-parallel-item::before {content: \"\";position: absolute;border-left: 1px solid gray;box-sizing: border-box;top: 0;bottom: 0;left: 50%;z-index: -1;}#sk-container-id-3 div.sk-parallel-item {display: flex;flex-direction: column;z-index: 1;position: relative;background-color: white;}#sk-container-id-3 div.sk-parallel-item:first-child::after {align-self: flex-end;width: 50%;}#sk-container-id-3 div.sk-parallel-item:last-child::after {align-self: flex-start;width: 50%;}#sk-container-id-3 div.sk-parallel-item:only-child::after {width: 0;}#sk-container-id-3 div.sk-dashed-wrapped {border: 1px dashed gray;margin: 0 0.4em 0.5em 0.4em;box-sizing: border-box;padding-bottom: 0.4em;background-color: white;}#sk-container-id-3 div.sk-label label {font-family: monospace;font-weight: bold;display: inline-block;line-height: 1.2em;}#sk-container-id-3 div.sk-label-container {text-align: center;}#sk-container-id-3 div.sk-container {/* jupyter's `normalize.less` sets `[hidden] { display: none; }` but bootstrap.min.css set `[hidden] { display: none !important; }` so we also need the `!important` here to be able to override the default hidden behavior on the sphinx rendered scikit-learn.org. See: https://github.com/scikit-learn/scikit-learn/issues/21755 */display: inline-block !important;position: relative;}#sk-container-id-3 div.sk-text-repr-fallback {display: none;}</style><div id=\"sk-container-id-3\" class=\"sk-top-container\"><div class=\"sk-text-repr-fallback\"><pre>GradientBoostingRegressor(learning_rate=0.01, max_depth=10, n_estimators=1000,\n",
       "                          random_state=42, subsample=0.5)</pre><b>In a Jupyter environment, please rerun this cell to show the HTML representation or trust the notebook. <br />On GitHub, the HTML representation is unable to render, please try loading this page with nbviewer.org.</b></div><div class=\"sk-container\" hidden><div class=\"sk-item\"><div class=\"sk-estimator sk-toggleable\"><input class=\"sk-toggleable__control sk-hidden--visually\" id=\"sk-estimator-id-7\" type=\"checkbox\" checked><label for=\"sk-estimator-id-7\" class=\"sk-toggleable__label sk-toggleable__label-arrow\">GradientBoostingRegressor</label><div class=\"sk-toggleable__content\"><pre>GradientBoostingRegressor(learning_rate=0.01, max_depth=10, n_estimators=1000,\n",
       "                          random_state=42, subsample=0.5)</pre></div></div></div></div></div>"
      ],
      "text/plain": [
       "GradientBoostingRegressor(learning_rate=0.01, max_depth=10, n_estimators=1000,\n",
       "                          random_state=42, subsample=0.5)"
      ]
     },
     "execution_count": 64,
     "metadata": {},
     "output_type": "execute_result"
    }
   ],
   "source": [
    "estimator.fit(x_tr_const_and_nearcont, y_tr)"
   ]
  },
  {
   "cell_type": "code",
   "execution_count": 84,
   "metadata": {},
   "outputs": [],
   "source": [
    "y_pred_CV_GBR = cross_val_predict(estimator, x_tr_const_and_nearcont, y_tr, cv=cv, n_jobs=-1)"
   ]
  },
  {
   "cell_type": "code",
   "execution_count": 85,
   "metadata": {},
   "outputs": [
    {
     "data": {
      "text/plain": [
       "0.64"
      ]
     },
     "execution_count": 85,
     "metadata": {},
     "output_type": "execute_result"
    }
   ],
   "source": [
    "Q2_CV = round(r2_score(y_tr, y_pred_CV_GBR), 2)\n",
    "Q2_CV"
   ]
  },
  {
   "cell_type": "code",
   "execution_count": 86,
   "metadata": {},
   "outputs": [
    {
     "data": {
      "text/plain": [
       "0.73"
      ]
     },
     "execution_count": 86,
     "metadata": {},
     "output_type": "execute_result"
    }
   ],
   "source": [
    "RMSE_CV=round(np.sqrt(mean_squared_error(y_tr, y_pred_CV_GBR)), 2)\n",
    "RMSE_CV"
   ]
  },
  {
   "cell_type": "markdown",
   "metadata": {},
   "source": [
    "# Removing highly correlated features"
   ]
  },
  {
   "cell_type": "code",
   "execution_count": 91,
   "metadata": {},
   "outputs": [
    {
     "data": {
      "text/html": [
       "<div>\n",
       "<style scoped>\n",
       "    .dataframe tbody tr th:only-of-type {\n",
       "        vertical-align: middle;\n",
       "    }\n",
       "\n",
       "    .dataframe tbody tr th {\n",
       "        vertical-align: top;\n",
       "    }\n",
       "\n",
       "    .dataframe thead th {\n",
       "        text-align: right;\n",
       "    }\n",
       "</style>\n",
       "<table border=\"1\" class=\"dataframe\">\n",
       "  <thead>\n",
       "    <tr style=\"text-align: right;\">\n",
       "      <th></th>\n",
       "      <th>PubchemFP0</th>\n",
       "      <th>PubchemFP1</th>\n",
       "      <th>PubchemFP2</th>\n",
       "      <th>PubchemFP12</th>\n",
       "      <th>PubchemFP13</th>\n",
       "      <th>PubchemFP16</th>\n",
       "      <th>PubchemFP19</th>\n",
       "      <th>PubchemFP20</th>\n",
       "      <th>PubchemFP23</th>\n",
       "      <th>PubchemFP24</th>\n",
       "      <th>...</th>\n",
       "      <th>PubchemFP779</th>\n",
       "      <th>PubchemFP797</th>\n",
       "      <th>PubchemFP798</th>\n",
       "      <th>PubchemFP800</th>\n",
       "      <th>PubchemFP803</th>\n",
       "      <th>PubchemFP818</th>\n",
       "      <th>PubchemFP819</th>\n",
       "      <th>PubchemFP821</th>\n",
       "      <th>PubchemFP824</th>\n",
       "      <th>PubchemFP833</th>\n",
       "    </tr>\n",
       "  </thead>\n",
       "  <tbody>\n",
       "    <tr>\n",
       "      <th>PubchemFP0</th>\n",
       "      <td>1.000000</td>\n",
       "      <td>0.974432</td>\n",
       "      <td>0.745128</td>\n",
       "      <td>0.199785</td>\n",
       "      <td>0.477958</td>\n",
       "      <td>0.147781</td>\n",
       "      <td>0.064406</td>\n",
       "      <td>0.271942</td>\n",
       "      <td>0.127935</td>\n",
       "      <td>0.126702</td>\n",
       "      <td>...</td>\n",
       "      <td>0.069585</td>\n",
       "      <td>0.157275</td>\n",
       "      <td>0.172077</td>\n",
       "      <td>0.008834</td>\n",
       "      <td>0.147790</td>\n",
       "      <td>0.123082</td>\n",
       "      <td>0.129788</td>\n",
       "      <td>0.234136</td>\n",
       "      <td>0.110133</td>\n",
       "      <td>0.107868</td>\n",
       "    </tr>\n",
       "    <tr>\n",
       "      <th>PubchemFP1</th>\n",
       "      <td>0.974432</td>\n",
       "      <td>1.000000</td>\n",
       "      <td>0.764679</td>\n",
       "      <td>0.144962</td>\n",
       "      <td>0.464066</td>\n",
       "      <td>0.122131</td>\n",
       "      <td>0.055025</td>\n",
       "      <td>0.253294</td>\n",
       "      <td>0.104984</td>\n",
       "      <td>0.095620</td>\n",
       "      <td>...</td>\n",
       "      <td>0.058205</td>\n",
       "      <td>0.145292</td>\n",
       "      <td>0.162152</td>\n",
       "      <td>0.000571</td>\n",
       "      <td>0.140197</td>\n",
       "      <td>0.113030</td>\n",
       "      <td>0.121771</td>\n",
       "      <td>0.217848</td>\n",
       "      <td>0.102972</td>\n",
       "      <td>0.117640</td>\n",
       "    </tr>\n",
       "    <tr>\n",
       "      <th>PubchemFP2</th>\n",
       "      <td>0.745128</td>\n",
       "      <td>0.764679</td>\n",
       "      <td>1.000000</td>\n",
       "      <td>0.247008</td>\n",
       "      <td>0.336876</td>\n",
       "      <td>0.070357</td>\n",
       "      <td>0.046191</td>\n",
       "      <td>0.123495</td>\n",
       "      <td>0.066441</td>\n",
       "      <td>0.128883</td>\n",
       "      <td>...</td>\n",
       "      <td>0.006899</td>\n",
       "      <td>0.106240</td>\n",
       "      <td>0.089085</td>\n",
       "      <td>0.049472</td>\n",
       "      <td>0.078893</td>\n",
       "      <td>0.052763</td>\n",
       "      <td>0.071212</td>\n",
       "      <td>0.073004</td>\n",
       "      <td>0.056907</td>\n",
       "      <td>0.191850</td>\n",
       "    </tr>\n",
       "    <tr>\n",
       "      <th>PubchemFP12</th>\n",
       "      <td>0.199785</td>\n",
       "      <td>0.144962</td>\n",
       "      <td>0.247008</td>\n",
       "      <td>1.000000</td>\n",
       "      <td>0.130179</td>\n",
       "      <td>0.049513</td>\n",
       "      <td>0.082497</td>\n",
       "      <td>0.184806</td>\n",
       "      <td>0.115083</td>\n",
       "      <td>0.174306</td>\n",
       "      <td>...</td>\n",
       "      <td>0.132125</td>\n",
       "      <td>0.093726</td>\n",
       "      <td>0.095792</td>\n",
       "      <td>0.117778</td>\n",
       "      <td>0.086805</td>\n",
       "      <td>0.091856</td>\n",
       "      <td>0.086507</td>\n",
       "      <td>0.209710</td>\n",
       "      <td>0.072981</td>\n",
       "      <td>0.180405</td>\n",
       "    </tr>\n",
       "    <tr>\n",
       "      <th>PubchemFP13</th>\n",
       "      <td>0.477958</td>\n",
       "      <td>0.464066</td>\n",
       "      <td>0.336876</td>\n",
       "      <td>0.130179</td>\n",
       "      <td>1.000000</td>\n",
       "      <td>0.067710</td>\n",
       "      <td>0.076251</td>\n",
       "      <td>0.264748</td>\n",
       "      <td>0.087266</td>\n",
       "      <td>0.044914</td>\n",
       "      <td>...</td>\n",
       "      <td>0.123486</td>\n",
       "      <td>0.211643</td>\n",
       "      <td>0.253734</td>\n",
       "      <td>0.054847</td>\n",
       "      <td>0.210568</td>\n",
       "      <td>0.211015</td>\n",
       "      <td>0.052206</td>\n",
       "      <td>0.236580</td>\n",
       "      <td>0.222293</td>\n",
       "      <td>0.018461</td>\n",
       "    </tr>\n",
       "    <tr>\n",
       "      <th>...</th>\n",
       "      <td>...</td>\n",
       "      <td>...</td>\n",
       "      <td>...</td>\n",
       "      <td>...</td>\n",
       "      <td>...</td>\n",
       "      <td>...</td>\n",
       "      <td>...</td>\n",
       "      <td>...</td>\n",
       "      <td>...</td>\n",
       "      <td>...</td>\n",
       "      <td>...</td>\n",
       "      <td>...</td>\n",
       "      <td>...</td>\n",
       "      <td>...</td>\n",
       "      <td>...</td>\n",
       "      <td>...</td>\n",
       "      <td>...</td>\n",
       "      <td>...</td>\n",
       "      <td>...</td>\n",
       "      <td>...</td>\n",
       "      <td>...</td>\n",
       "    </tr>\n",
       "    <tr>\n",
       "      <th>PubchemFP818</th>\n",
       "      <td>0.123082</td>\n",
       "      <td>0.113030</td>\n",
       "      <td>0.052763</td>\n",
       "      <td>0.091856</td>\n",
       "      <td>0.211015</td>\n",
       "      <td>0.082472</td>\n",
       "      <td>0.037285</td>\n",
       "      <td>0.093194</td>\n",
       "      <td>0.023564</td>\n",
       "      <td>0.010830</td>\n",
       "      <td>...</td>\n",
       "      <td>0.159962</td>\n",
       "      <td>0.388332</td>\n",
       "      <td>0.157228</td>\n",
       "      <td>0.222575</td>\n",
       "      <td>0.325099</td>\n",
       "      <td>1.000000</td>\n",
       "      <td>0.128831</td>\n",
       "      <td>0.023073</td>\n",
       "      <td>0.220122</td>\n",
       "      <td>0.038716</td>\n",
       "    </tr>\n",
       "    <tr>\n",
       "      <th>PubchemFP819</th>\n",
       "      <td>0.129788</td>\n",
       "      <td>0.121771</td>\n",
       "      <td>0.071212</td>\n",
       "      <td>0.086507</td>\n",
       "      <td>0.052206</td>\n",
       "      <td>0.138830</td>\n",
       "      <td>0.077509</td>\n",
       "      <td>0.212170</td>\n",
       "      <td>0.002503</td>\n",
       "      <td>0.001824</td>\n",
       "      <td>...</td>\n",
       "      <td>0.043015</td>\n",
       "      <td>0.259059</td>\n",
       "      <td>0.170482</td>\n",
       "      <td>0.020915</td>\n",
       "      <td>0.300642</td>\n",
       "      <td>0.128831</td>\n",
       "      <td>1.000000</td>\n",
       "      <td>0.093819</td>\n",
       "      <td>0.161281</td>\n",
       "      <td>0.024849</td>\n",
       "    </tr>\n",
       "    <tr>\n",
       "      <th>PubchemFP821</th>\n",
       "      <td>0.234136</td>\n",
       "      <td>0.217848</td>\n",
       "      <td>0.073004</td>\n",
       "      <td>0.209710</td>\n",
       "      <td>0.236580</td>\n",
       "      <td>0.061694</td>\n",
       "      <td>0.056009</td>\n",
       "      <td>0.120953</td>\n",
       "      <td>0.111100</td>\n",
       "      <td>0.152377</td>\n",
       "      <td>...</td>\n",
       "      <td>0.166272</td>\n",
       "      <td>0.195668</td>\n",
       "      <td>0.210763</td>\n",
       "      <td>0.071065</td>\n",
       "      <td>0.048687</td>\n",
       "      <td>0.023073</td>\n",
       "      <td>0.093819</td>\n",
       "      <td>1.000000</td>\n",
       "      <td>0.099181</td>\n",
       "      <td>0.011138</td>\n",
       "    </tr>\n",
       "    <tr>\n",
       "      <th>PubchemFP824</th>\n",
       "      <td>0.110133</td>\n",
       "      <td>0.102972</td>\n",
       "      <td>0.056907</td>\n",
       "      <td>0.072981</td>\n",
       "      <td>0.222293</td>\n",
       "      <td>0.221165</td>\n",
       "      <td>0.070332</td>\n",
       "      <td>0.365781</td>\n",
       "      <td>0.120006</td>\n",
       "      <td>0.084714</td>\n",
       "      <td>...</td>\n",
       "      <td>0.146768</td>\n",
       "      <td>0.145455</td>\n",
       "      <td>0.740720</td>\n",
       "      <td>0.102045</td>\n",
       "      <td>0.676240</td>\n",
       "      <td>0.220122</td>\n",
       "      <td>0.161281</td>\n",
       "      <td>0.099181</td>\n",
       "      <td>1.000000</td>\n",
       "      <td>0.022080</td>\n",
       "    </tr>\n",
       "    <tr>\n",
       "      <th>PubchemFP833</th>\n",
       "      <td>0.107868</td>\n",
       "      <td>0.117640</td>\n",
       "      <td>0.191850</td>\n",
       "      <td>0.180405</td>\n",
       "      <td>0.018461</td>\n",
       "      <td>0.048406</td>\n",
       "      <td>0.155348</td>\n",
       "      <td>0.187393</td>\n",
       "      <td>0.006203</td>\n",
       "      <td>0.063915</td>\n",
       "      <td>...</td>\n",
       "      <td>0.137620</td>\n",
       "      <td>0.071629</td>\n",
       "      <td>0.011960</td>\n",
       "      <td>0.139690</td>\n",
       "      <td>0.007851</td>\n",
       "      <td>0.038716</td>\n",
       "      <td>0.024849</td>\n",
       "      <td>0.011138</td>\n",
       "      <td>0.022080</td>\n",
       "      <td>1.000000</td>\n",
       "    </tr>\n",
       "  </tbody>\n",
       "</table>\n",
       "<p>307 rows × 307 columns</p>\n",
       "</div>"
      ],
      "text/plain": [
       "              PubchemFP0  PubchemFP1  PubchemFP2  PubchemFP12  PubchemFP13  \\\n",
       "PubchemFP0      1.000000    0.974432    0.745128     0.199785     0.477958   \n",
       "PubchemFP1      0.974432    1.000000    0.764679     0.144962     0.464066   \n",
       "PubchemFP2      0.745128    0.764679    1.000000     0.247008     0.336876   \n",
       "PubchemFP12     0.199785    0.144962    0.247008     1.000000     0.130179   \n",
       "PubchemFP13     0.477958    0.464066    0.336876     0.130179     1.000000   \n",
       "...                  ...         ...         ...          ...          ...   \n",
       "PubchemFP818    0.123082    0.113030    0.052763     0.091856     0.211015   \n",
       "PubchemFP819    0.129788    0.121771    0.071212     0.086507     0.052206   \n",
       "PubchemFP821    0.234136    0.217848    0.073004     0.209710     0.236580   \n",
       "PubchemFP824    0.110133    0.102972    0.056907     0.072981     0.222293   \n",
       "PubchemFP833    0.107868    0.117640    0.191850     0.180405     0.018461   \n",
       "\n",
       "              PubchemFP16  PubchemFP19  PubchemFP20  PubchemFP23  PubchemFP24  \\\n",
       "PubchemFP0       0.147781     0.064406     0.271942     0.127935     0.126702   \n",
       "PubchemFP1       0.122131     0.055025     0.253294     0.104984     0.095620   \n",
       "PubchemFP2       0.070357     0.046191     0.123495     0.066441     0.128883   \n",
       "PubchemFP12      0.049513     0.082497     0.184806     0.115083     0.174306   \n",
       "PubchemFP13      0.067710     0.076251     0.264748     0.087266     0.044914   \n",
       "...                   ...          ...          ...          ...          ...   \n",
       "PubchemFP818     0.082472     0.037285     0.093194     0.023564     0.010830   \n",
       "PubchemFP819     0.138830     0.077509     0.212170     0.002503     0.001824   \n",
       "PubchemFP821     0.061694     0.056009     0.120953     0.111100     0.152377   \n",
       "PubchemFP824     0.221165     0.070332     0.365781     0.120006     0.084714   \n",
       "PubchemFP833     0.048406     0.155348     0.187393     0.006203     0.063915   \n",
       "\n",
       "              ...  PubchemFP779  PubchemFP797  PubchemFP798  PubchemFP800  \\\n",
       "PubchemFP0    ...      0.069585      0.157275      0.172077      0.008834   \n",
       "PubchemFP1    ...      0.058205      0.145292      0.162152      0.000571   \n",
       "PubchemFP2    ...      0.006899      0.106240      0.089085      0.049472   \n",
       "PubchemFP12   ...      0.132125      0.093726      0.095792      0.117778   \n",
       "PubchemFP13   ...      0.123486      0.211643      0.253734      0.054847   \n",
       "...           ...           ...           ...           ...           ...   \n",
       "PubchemFP818  ...      0.159962      0.388332      0.157228      0.222575   \n",
       "PubchemFP819  ...      0.043015      0.259059      0.170482      0.020915   \n",
       "PubchemFP821  ...      0.166272      0.195668      0.210763      0.071065   \n",
       "PubchemFP824  ...      0.146768      0.145455      0.740720      0.102045   \n",
       "PubchemFP833  ...      0.137620      0.071629      0.011960      0.139690   \n",
       "\n",
       "              PubchemFP803  PubchemFP818  PubchemFP819  PubchemFP821  \\\n",
       "PubchemFP0        0.147790      0.123082      0.129788      0.234136   \n",
       "PubchemFP1        0.140197      0.113030      0.121771      0.217848   \n",
       "PubchemFP2        0.078893      0.052763      0.071212      0.073004   \n",
       "PubchemFP12       0.086805      0.091856      0.086507      0.209710   \n",
       "PubchemFP13       0.210568      0.211015      0.052206      0.236580   \n",
       "...                    ...           ...           ...           ...   \n",
       "PubchemFP818      0.325099      1.000000      0.128831      0.023073   \n",
       "PubchemFP819      0.300642      0.128831      1.000000      0.093819   \n",
       "PubchemFP821      0.048687      0.023073      0.093819      1.000000   \n",
       "PubchemFP824      0.676240      0.220122      0.161281      0.099181   \n",
       "PubchemFP833      0.007851      0.038716      0.024849      0.011138   \n",
       "\n",
       "              PubchemFP824  PubchemFP833  \n",
       "PubchemFP0        0.110133      0.107868  \n",
       "PubchemFP1        0.102972      0.117640  \n",
       "PubchemFP2        0.056907      0.191850  \n",
       "PubchemFP12       0.072981      0.180405  \n",
       "PubchemFP13       0.222293      0.018461  \n",
       "...                    ...           ...  \n",
       "PubchemFP818      0.220122      0.038716  \n",
       "PubchemFP819      0.161281      0.024849  \n",
       "PubchemFP821      0.099181      0.011138  \n",
       "PubchemFP824      1.000000      0.022080  \n",
       "PubchemFP833      0.022080      1.000000  \n",
       "\n",
       "[307 rows x 307 columns]"
      ]
     },
     "execution_count": 91,
     "metadata": {},
     "output_type": "execute_result"
    }
   ],
   "source": [
    "cor_df = x_tr_const_and_nearcont.corr().abs()\n",
    "cor_df"
   ]
  },
  {
   "cell_type": "code",
   "execution_count": 92,
   "metadata": {},
   "outputs": [
    {
     "data": {
      "text/html": [
       "<div>\n",
       "<style scoped>\n",
       "    .dataframe tbody tr th:only-of-type {\n",
       "        vertical-align: middle;\n",
       "    }\n",
       "\n",
       "    .dataframe tbody tr th {\n",
       "        vertical-align: top;\n",
       "    }\n",
       "\n",
       "    .dataframe thead th {\n",
       "        text-align: right;\n",
       "    }\n",
       "</style>\n",
       "<table border=\"1\" class=\"dataframe\">\n",
       "  <thead>\n",
       "    <tr style=\"text-align: right;\">\n",
       "      <th></th>\n",
       "      <th>PubchemFP0</th>\n",
       "      <th>PubchemFP1</th>\n",
       "      <th>PubchemFP2</th>\n",
       "      <th>PubchemFP12</th>\n",
       "      <th>PubchemFP13</th>\n",
       "      <th>PubchemFP16</th>\n",
       "      <th>PubchemFP19</th>\n",
       "      <th>PubchemFP20</th>\n",
       "      <th>PubchemFP23</th>\n",
       "      <th>PubchemFP24</th>\n",
       "      <th>...</th>\n",
       "      <th>PubchemFP779</th>\n",
       "      <th>PubchemFP797</th>\n",
       "      <th>PubchemFP798</th>\n",
       "      <th>PubchemFP800</th>\n",
       "      <th>PubchemFP803</th>\n",
       "      <th>PubchemFP818</th>\n",
       "      <th>PubchemFP819</th>\n",
       "      <th>PubchemFP821</th>\n",
       "      <th>PubchemFP824</th>\n",
       "      <th>PubchemFP833</th>\n",
       "    </tr>\n",
       "  </thead>\n",
       "  <tbody>\n",
       "    <tr>\n",
       "      <th>PubchemFP0</th>\n",
       "      <td>1.000000</td>\n",
       "      <td>0.974432</td>\n",
       "      <td>0.745128</td>\n",
       "      <td>0.199785</td>\n",
       "      <td>0.477958</td>\n",
       "      <td>0.147781</td>\n",
       "      <td>0.064406</td>\n",
       "      <td>0.271942</td>\n",
       "      <td>0.127935</td>\n",
       "      <td>0.126702</td>\n",
       "      <td>...</td>\n",
       "      <td>0.069585</td>\n",
       "      <td>0.157275</td>\n",
       "      <td>0.172077</td>\n",
       "      <td>0.008834</td>\n",
       "      <td>0.147790</td>\n",
       "      <td>0.123082</td>\n",
       "      <td>0.129788</td>\n",
       "      <td>0.234136</td>\n",
       "      <td>0.110133</td>\n",
       "      <td>0.107868</td>\n",
       "    </tr>\n",
       "    <tr>\n",
       "      <th>PubchemFP1</th>\n",
       "      <td>0.974432</td>\n",
       "      <td>1.000000</td>\n",
       "      <td>0.764679</td>\n",
       "      <td>0.144962</td>\n",
       "      <td>0.464066</td>\n",
       "      <td>0.122131</td>\n",
       "      <td>0.055025</td>\n",
       "      <td>0.253294</td>\n",
       "      <td>0.104984</td>\n",
       "      <td>0.095620</td>\n",
       "      <td>...</td>\n",
       "      <td>0.058205</td>\n",
       "      <td>0.145292</td>\n",
       "      <td>0.162152</td>\n",
       "      <td>0.000571</td>\n",
       "      <td>0.140197</td>\n",
       "      <td>0.113030</td>\n",
       "      <td>0.121771</td>\n",
       "      <td>0.217848</td>\n",
       "      <td>0.102972</td>\n",
       "      <td>0.117640</td>\n",
       "    </tr>\n",
       "    <tr>\n",
       "      <th>PubchemFP2</th>\n",
       "      <td>0.745128</td>\n",
       "      <td>0.764679</td>\n",
       "      <td>1.000000</td>\n",
       "      <td>0.247008</td>\n",
       "      <td>0.336876</td>\n",
       "      <td>0.070357</td>\n",
       "      <td>0.046191</td>\n",
       "      <td>0.123495</td>\n",
       "      <td>0.066441</td>\n",
       "      <td>0.128883</td>\n",
       "      <td>...</td>\n",
       "      <td>0.006899</td>\n",
       "      <td>0.106240</td>\n",
       "      <td>0.089085</td>\n",
       "      <td>0.049472</td>\n",
       "      <td>0.078893</td>\n",
       "      <td>0.052763</td>\n",
       "      <td>0.071212</td>\n",
       "      <td>0.073004</td>\n",
       "      <td>0.056907</td>\n",
       "      <td>0.191850</td>\n",
       "    </tr>\n",
       "    <tr>\n",
       "      <th>PubchemFP12</th>\n",
       "      <td>0.199785</td>\n",
       "      <td>0.144962</td>\n",
       "      <td>0.247008</td>\n",
       "      <td>1.000000</td>\n",
       "      <td>0.130179</td>\n",
       "      <td>0.049513</td>\n",
       "      <td>0.082497</td>\n",
       "      <td>0.184806</td>\n",
       "      <td>0.115083</td>\n",
       "      <td>0.174306</td>\n",
       "      <td>...</td>\n",
       "      <td>0.132125</td>\n",
       "      <td>0.093726</td>\n",
       "      <td>0.095792</td>\n",
       "      <td>0.117778</td>\n",
       "      <td>0.086805</td>\n",
       "      <td>0.091856</td>\n",
       "      <td>0.086507</td>\n",
       "      <td>0.209710</td>\n",
       "      <td>0.072981</td>\n",
       "      <td>0.180405</td>\n",
       "    </tr>\n",
       "    <tr>\n",
       "      <th>PubchemFP13</th>\n",
       "      <td>0.477958</td>\n",
       "      <td>0.464066</td>\n",
       "      <td>0.336876</td>\n",
       "      <td>0.130179</td>\n",
       "      <td>1.000000</td>\n",
       "      <td>0.067710</td>\n",
       "      <td>0.076251</td>\n",
       "      <td>0.264748</td>\n",
       "      <td>0.087266</td>\n",
       "      <td>0.044914</td>\n",
       "      <td>...</td>\n",
       "      <td>0.123486</td>\n",
       "      <td>0.211643</td>\n",
       "      <td>0.253734</td>\n",
       "      <td>0.054847</td>\n",
       "      <td>0.210568</td>\n",
       "      <td>0.211015</td>\n",
       "      <td>0.052206</td>\n",
       "      <td>0.236580</td>\n",
       "      <td>0.222293</td>\n",
       "      <td>0.018461</td>\n",
       "    </tr>\n",
       "    <tr>\n",
       "      <th>...</th>\n",
       "      <td>...</td>\n",
       "      <td>...</td>\n",
       "      <td>...</td>\n",
       "      <td>...</td>\n",
       "      <td>...</td>\n",
       "      <td>...</td>\n",
       "      <td>...</td>\n",
       "      <td>...</td>\n",
       "      <td>...</td>\n",
       "      <td>...</td>\n",
       "      <td>...</td>\n",
       "      <td>...</td>\n",
       "      <td>...</td>\n",
       "      <td>...</td>\n",
       "      <td>...</td>\n",
       "      <td>...</td>\n",
       "      <td>...</td>\n",
       "      <td>...</td>\n",
       "      <td>...</td>\n",
       "      <td>...</td>\n",
       "      <td>...</td>\n",
       "    </tr>\n",
       "    <tr>\n",
       "      <th>PubchemFP818</th>\n",
       "      <td>0.123082</td>\n",
       "      <td>0.113030</td>\n",
       "      <td>0.052763</td>\n",
       "      <td>0.091856</td>\n",
       "      <td>0.211015</td>\n",
       "      <td>0.082472</td>\n",
       "      <td>0.037285</td>\n",
       "      <td>0.093194</td>\n",
       "      <td>0.023564</td>\n",
       "      <td>0.010830</td>\n",
       "      <td>...</td>\n",
       "      <td>0.159962</td>\n",
       "      <td>0.388332</td>\n",
       "      <td>0.157228</td>\n",
       "      <td>0.222575</td>\n",
       "      <td>0.325099</td>\n",
       "      <td>1.000000</td>\n",
       "      <td>0.128831</td>\n",
       "      <td>0.023073</td>\n",
       "      <td>0.220122</td>\n",
       "      <td>0.038716</td>\n",
       "    </tr>\n",
       "    <tr>\n",
       "      <th>PubchemFP819</th>\n",
       "      <td>0.129788</td>\n",
       "      <td>0.121771</td>\n",
       "      <td>0.071212</td>\n",
       "      <td>0.086507</td>\n",
       "      <td>0.052206</td>\n",
       "      <td>0.138830</td>\n",
       "      <td>0.077509</td>\n",
       "      <td>0.212170</td>\n",
       "      <td>0.002503</td>\n",
       "      <td>0.001824</td>\n",
       "      <td>...</td>\n",
       "      <td>0.043015</td>\n",
       "      <td>0.259059</td>\n",
       "      <td>0.170482</td>\n",
       "      <td>0.020915</td>\n",
       "      <td>0.300642</td>\n",
       "      <td>0.128831</td>\n",
       "      <td>1.000000</td>\n",
       "      <td>0.093819</td>\n",
       "      <td>0.161281</td>\n",
       "      <td>0.024849</td>\n",
       "    </tr>\n",
       "    <tr>\n",
       "      <th>PubchemFP821</th>\n",
       "      <td>0.234136</td>\n",
       "      <td>0.217848</td>\n",
       "      <td>0.073004</td>\n",
       "      <td>0.209710</td>\n",
       "      <td>0.236580</td>\n",
       "      <td>0.061694</td>\n",
       "      <td>0.056009</td>\n",
       "      <td>0.120953</td>\n",
       "      <td>0.111100</td>\n",
       "      <td>0.152377</td>\n",
       "      <td>...</td>\n",
       "      <td>0.166272</td>\n",
       "      <td>0.195668</td>\n",
       "      <td>0.210763</td>\n",
       "      <td>0.071065</td>\n",
       "      <td>0.048687</td>\n",
       "      <td>0.023073</td>\n",
       "      <td>0.093819</td>\n",
       "      <td>1.000000</td>\n",
       "      <td>0.099181</td>\n",
       "      <td>0.011138</td>\n",
       "    </tr>\n",
       "    <tr>\n",
       "      <th>PubchemFP824</th>\n",
       "      <td>0.110133</td>\n",
       "      <td>0.102972</td>\n",
       "      <td>0.056907</td>\n",
       "      <td>0.072981</td>\n",
       "      <td>0.222293</td>\n",
       "      <td>0.221165</td>\n",
       "      <td>0.070332</td>\n",
       "      <td>0.365781</td>\n",
       "      <td>0.120006</td>\n",
       "      <td>0.084714</td>\n",
       "      <td>...</td>\n",
       "      <td>0.146768</td>\n",
       "      <td>0.145455</td>\n",
       "      <td>0.740720</td>\n",
       "      <td>0.102045</td>\n",
       "      <td>0.676240</td>\n",
       "      <td>0.220122</td>\n",
       "      <td>0.161281</td>\n",
       "      <td>0.099181</td>\n",
       "      <td>1.000000</td>\n",
       "      <td>0.022080</td>\n",
       "    </tr>\n",
       "    <tr>\n",
       "      <th>PubchemFP833</th>\n",
       "      <td>0.107868</td>\n",
       "      <td>0.117640</td>\n",
       "      <td>0.191850</td>\n",
       "      <td>0.180405</td>\n",
       "      <td>0.018461</td>\n",
       "      <td>0.048406</td>\n",
       "      <td>0.155348</td>\n",
       "      <td>0.187393</td>\n",
       "      <td>0.006203</td>\n",
       "      <td>0.063915</td>\n",
       "      <td>...</td>\n",
       "      <td>0.137620</td>\n",
       "      <td>0.071629</td>\n",
       "      <td>0.011960</td>\n",
       "      <td>0.139690</td>\n",
       "      <td>0.007851</td>\n",
       "      <td>0.038716</td>\n",
       "      <td>0.024849</td>\n",
       "      <td>0.011138</td>\n",
       "      <td>0.022080</td>\n",
       "      <td>1.000000</td>\n",
       "    </tr>\n",
       "  </tbody>\n",
       "</table>\n",
       "<p>307 rows × 307 columns</p>\n",
       "</div>"
      ],
      "text/plain": [
       "              PubchemFP0  PubchemFP1  PubchemFP2  PubchemFP12  PubchemFP13  \\\n",
       "PubchemFP0      1.000000    0.974432    0.745128     0.199785     0.477958   \n",
       "PubchemFP1      0.974432    1.000000    0.764679     0.144962     0.464066   \n",
       "PubchemFP2      0.745128    0.764679    1.000000     0.247008     0.336876   \n",
       "PubchemFP12     0.199785    0.144962    0.247008     1.000000     0.130179   \n",
       "PubchemFP13     0.477958    0.464066    0.336876     0.130179     1.000000   \n",
       "...                  ...         ...         ...          ...          ...   \n",
       "PubchemFP818    0.123082    0.113030    0.052763     0.091856     0.211015   \n",
       "PubchemFP819    0.129788    0.121771    0.071212     0.086507     0.052206   \n",
       "PubchemFP821    0.234136    0.217848    0.073004     0.209710     0.236580   \n",
       "PubchemFP824    0.110133    0.102972    0.056907     0.072981     0.222293   \n",
       "PubchemFP833    0.107868    0.117640    0.191850     0.180405     0.018461   \n",
       "\n",
       "              PubchemFP16  PubchemFP19  PubchemFP20  PubchemFP23  PubchemFP24  \\\n",
       "PubchemFP0       0.147781     0.064406     0.271942     0.127935     0.126702   \n",
       "PubchemFP1       0.122131     0.055025     0.253294     0.104984     0.095620   \n",
       "PubchemFP2       0.070357     0.046191     0.123495     0.066441     0.128883   \n",
       "PubchemFP12      0.049513     0.082497     0.184806     0.115083     0.174306   \n",
       "PubchemFP13      0.067710     0.076251     0.264748     0.087266     0.044914   \n",
       "...                   ...          ...          ...          ...          ...   \n",
       "PubchemFP818     0.082472     0.037285     0.093194     0.023564     0.010830   \n",
       "PubchemFP819     0.138830     0.077509     0.212170     0.002503     0.001824   \n",
       "PubchemFP821     0.061694     0.056009     0.120953     0.111100     0.152377   \n",
       "PubchemFP824     0.221165     0.070332     0.365781     0.120006     0.084714   \n",
       "PubchemFP833     0.048406     0.155348     0.187393     0.006203     0.063915   \n",
       "\n",
       "              ...  PubchemFP779  PubchemFP797  PubchemFP798  PubchemFP800  \\\n",
       "PubchemFP0    ...      0.069585      0.157275      0.172077      0.008834   \n",
       "PubchemFP1    ...      0.058205      0.145292      0.162152      0.000571   \n",
       "PubchemFP2    ...      0.006899      0.106240      0.089085      0.049472   \n",
       "PubchemFP12   ...      0.132125      0.093726      0.095792      0.117778   \n",
       "PubchemFP13   ...      0.123486      0.211643      0.253734      0.054847   \n",
       "...           ...           ...           ...           ...           ...   \n",
       "PubchemFP818  ...      0.159962      0.388332      0.157228      0.222575   \n",
       "PubchemFP819  ...      0.043015      0.259059      0.170482      0.020915   \n",
       "PubchemFP821  ...      0.166272      0.195668      0.210763      0.071065   \n",
       "PubchemFP824  ...      0.146768      0.145455      0.740720      0.102045   \n",
       "PubchemFP833  ...      0.137620      0.071629      0.011960      0.139690   \n",
       "\n",
       "              PubchemFP803  PubchemFP818  PubchemFP819  PubchemFP821  \\\n",
       "PubchemFP0        0.147790      0.123082      0.129788      0.234136   \n",
       "PubchemFP1        0.140197      0.113030      0.121771      0.217848   \n",
       "PubchemFP2        0.078893      0.052763      0.071212      0.073004   \n",
       "PubchemFP12       0.086805      0.091856      0.086507      0.209710   \n",
       "PubchemFP13       0.210568      0.211015      0.052206      0.236580   \n",
       "...                    ...           ...           ...           ...   \n",
       "PubchemFP818      0.325099      1.000000      0.128831      0.023073   \n",
       "PubchemFP819      0.300642      0.128831      1.000000      0.093819   \n",
       "PubchemFP821      0.048687      0.023073      0.093819      1.000000   \n",
       "PubchemFP824      0.676240      0.220122      0.161281      0.099181   \n",
       "PubchemFP833      0.007851      0.038716      0.024849      0.011138   \n",
       "\n",
       "              PubchemFP824  PubchemFP833  \n",
       "PubchemFP0        0.110133      0.107868  \n",
       "PubchemFP1        0.102972      0.117640  \n",
       "PubchemFP2        0.056907      0.191850  \n",
       "PubchemFP12       0.072981      0.180405  \n",
       "PubchemFP13       0.222293      0.018461  \n",
       "...                    ...           ...  \n",
       "PubchemFP818      0.220122      0.038716  \n",
       "PubchemFP819      0.161281      0.024849  \n",
       "PubchemFP821      0.099181      0.011138  \n",
       "PubchemFP824      1.000000      0.022080  \n",
       "PubchemFP833      0.022080      1.000000  \n",
       "\n",
       "[307 rows x 307 columns]"
      ]
     },
     "execution_count": 92,
     "metadata": {},
     "output_type": "execute_result"
    }
   ],
   "source": [
    "cor_df = x_tr_const_and_nearcont.corr().abs()\n",
    "cor_df"
   ]
  },
  {
   "cell_type": "code",
   "execution_count": 93,
   "metadata": {},
   "outputs": [],
   "source": [
    "mask=np.triu(np.ones_like(cor_df, dtype=bool))"
   ]
  },
  {
   "cell_type": "code",
   "execution_count": 94,
   "metadata": {},
   "outputs": [
    {
     "data": {
      "text/html": [
       "<div>\n",
       "<style scoped>\n",
       "    .dataframe tbody tr th:only-of-type {\n",
       "        vertical-align: middle;\n",
       "    }\n",
       "\n",
       "    .dataframe tbody tr th {\n",
       "        vertical-align: top;\n",
       "    }\n",
       "\n",
       "    .dataframe thead th {\n",
       "        text-align: right;\n",
       "    }\n",
       "</style>\n",
       "<table border=\"1\" class=\"dataframe\">\n",
       "  <thead>\n",
       "    <tr style=\"text-align: right;\">\n",
       "      <th></th>\n",
       "      <th>PubchemFP0</th>\n",
       "      <th>PubchemFP1</th>\n",
       "      <th>PubchemFP2</th>\n",
       "      <th>PubchemFP12</th>\n",
       "      <th>PubchemFP13</th>\n",
       "      <th>PubchemFP16</th>\n",
       "      <th>PubchemFP19</th>\n",
       "      <th>PubchemFP20</th>\n",
       "      <th>PubchemFP23</th>\n",
       "      <th>PubchemFP24</th>\n",
       "      <th>...</th>\n",
       "      <th>PubchemFP779</th>\n",
       "      <th>PubchemFP797</th>\n",
       "      <th>PubchemFP798</th>\n",
       "      <th>PubchemFP800</th>\n",
       "      <th>PubchemFP803</th>\n",
       "      <th>PubchemFP818</th>\n",
       "      <th>PubchemFP819</th>\n",
       "      <th>PubchemFP821</th>\n",
       "      <th>PubchemFP824</th>\n",
       "      <th>PubchemFP833</th>\n",
       "    </tr>\n",
       "  </thead>\n",
       "  <tbody>\n",
       "    <tr>\n",
       "      <th>PubchemFP0</th>\n",
       "      <td>NaN</td>\n",
       "      <td>NaN</td>\n",
       "      <td>NaN</td>\n",
       "      <td>NaN</td>\n",
       "      <td>NaN</td>\n",
       "      <td>NaN</td>\n",
       "      <td>NaN</td>\n",
       "      <td>NaN</td>\n",
       "      <td>NaN</td>\n",
       "      <td>NaN</td>\n",
       "      <td>...</td>\n",
       "      <td>NaN</td>\n",
       "      <td>NaN</td>\n",
       "      <td>NaN</td>\n",
       "      <td>NaN</td>\n",
       "      <td>NaN</td>\n",
       "      <td>NaN</td>\n",
       "      <td>NaN</td>\n",
       "      <td>NaN</td>\n",
       "      <td>NaN</td>\n",
       "      <td>NaN</td>\n",
       "    </tr>\n",
       "    <tr>\n",
       "      <th>PubchemFP1</th>\n",
       "      <td>0.974432</td>\n",
       "      <td>NaN</td>\n",
       "      <td>NaN</td>\n",
       "      <td>NaN</td>\n",
       "      <td>NaN</td>\n",
       "      <td>NaN</td>\n",
       "      <td>NaN</td>\n",
       "      <td>NaN</td>\n",
       "      <td>NaN</td>\n",
       "      <td>NaN</td>\n",
       "      <td>...</td>\n",
       "      <td>NaN</td>\n",
       "      <td>NaN</td>\n",
       "      <td>NaN</td>\n",
       "      <td>NaN</td>\n",
       "      <td>NaN</td>\n",
       "      <td>NaN</td>\n",
       "      <td>NaN</td>\n",
       "      <td>NaN</td>\n",
       "      <td>NaN</td>\n",
       "      <td>NaN</td>\n",
       "    </tr>\n",
       "    <tr>\n",
       "      <th>PubchemFP2</th>\n",
       "      <td>0.745128</td>\n",
       "      <td>0.764679</td>\n",
       "      <td>NaN</td>\n",
       "      <td>NaN</td>\n",
       "      <td>NaN</td>\n",
       "      <td>NaN</td>\n",
       "      <td>NaN</td>\n",
       "      <td>NaN</td>\n",
       "      <td>NaN</td>\n",
       "      <td>NaN</td>\n",
       "      <td>...</td>\n",
       "      <td>NaN</td>\n",
       "      <td>NaN</td>\n",
       "      <td>NaN</td>\n",
       "      <td>NaN</td>\n",
       "      <td>NaN</td>\n",
       "      <td>NaN</td>\n",
       "      <td>NaN</td>\n",
       "      <td>NaN</td>\n",
       "      <td>NaN</td>\n",
       "      <td>NaN</td>\n",
       "    </tr>\n",
       "    <tr>\n",
       "      <th>PubchemFP12</th>\n",
       "      <td>0.199785</td>\n",
       "      <td>0.144962</td>\n",
       "      <td>0.247008</td>\n",
       "      <td>NaN</td>\n",
       "      <td>NaN</td>\n",
       "      <td>NaN</td>\n",
       "      <td>NaN</td>\n",
       "      <td>NaN</td>\n",
       "      <td>NaN</td>\n",
       "      <td>NaN</td>\n",
       "      <td>...</td>\n",
       "      <td>NaN</td>\n",
       "      <td>NaN</td>\n",
       "      <td>NaN</td>\n",
       "      <td>NaN</td>\n",
       "      <td>NaN</td>\n",
       "      <td>NaN</td>\n",
       "      <td>NaN</td>\n",
       "      <td>NaN</td>\n",
       "      <td>NaN</td>\n",
       "      <td>NaN</td>\n",
       "    </tr>\n",
       "    <tr>\n",
       "      <th>PubchemFP13</th>\n",
       "      <td>0.477958</td>\n",
       "      <td>0.464066</td>\n",
       "      <td>0.336876</td>\n",
       "      <td>0.130179</td>\n",
       "      <td>NaN</td>\n",
       "      <td>NaN</td>\n",
       "      <td>NaN</td>\n",
       "      <td>NaN</td>\n",
       "      <td>NaN</td>\n",
       "      <td>NaN</td>\n",
       "      <td>...</td>\n",
       "      <td>NaN</td>\n",
       "      <td>NaN</td>\n",
       "      <td>NaN</td>\n",
       "      <td>NaN</td>\n",
       "      <td>NaN</td>\n",
       "      <td>NaN</td>\n",
       "      <td>NaN</td>\n",
       "      <td>NaN</td>\n",
       "      <td>NaN</td>\n",
       "      <td>NaN</td>\n",
       "    </tr>\n",
       "    <tr>\n",
       "      <th>...</th>\n",
       "      <td>...</td>\n",
       "      <td>...</td>\n",
       "      <td>...</td>\n",
       "      <td>...</td>\n",
       "      <td>...</td>\n",
       "      <td>...</td>\n",
       "      <td>...</td>\n",
       "      <td>...</td>\n",
       "      <td>...</td>\n",
       "      <td>...</td>\n",
       "      <td>...</td>\n",
       "      <td>...</td>\n",
       "      <td>...</td>\n",
       "      <td>...</td>\n",
       "      <td>...</td>\n",
       "      <td>...</td>\n",
       "      <td>...</td>\n",
       "      <td>...</td>\n",
       "      <td>...</td>\n",
       "      <td>...</td>\n",
       "      <td>...</td>\n",
       "    </tr>\n",
       "    <tr>\n",
       "      <th>PubchemFP818</th>\n",
       "      <td>0.123082</td>\n",
       "      <td>0.113030</td>\n",
       "      <td>0.052763</td>\n",
       "      <td>0.091856</td>\n",
       "      <td>0.211015</td>\n",
       "      <td>0.082472</td>\n",
       "      <td>0.037285</td>\n",
       "      <td>0.093194</td>\n",
       "      <td>0.023564</td>\n",
       "      <td>0.010830</td>\n",
       "      <td>...</td>\n",
       "      <td>0.159962</td>\n",
       "      <td>0.388332</td>\n",
       "      <td>0.157228</td>\n",
       "      <td>0.222575</td>\n",
       "      <td>0.325099</td>\n",
       "      <td>NaN</td>\n",
       "      <td>NaN</td>\n",
       "      <td>NaN</td>\n",
       "      <td>NaN</td>\n",
       "      <td>NaN</td>\n",
       "    </tr>\n",
       "    <tr>\n",
       "      <th>PubchemFP819</th>\n",
       "      <td>0.129788</td>\n",
       "      <td>0.121771</td>\n",
       "      <td>0.071212</td>\n",
       "      <td>0.086507</td>\n",
       "      <td>0.052206</td>\n",
       "      <td>0.138830</td>\n",
       "      <td>0.077509</td>\n",
       "      <td>0.212170</td>\n",
       "      <td>0.002503</td>\n",
       "      <td>0.001824</td>\n",
       "      <td>...</td>\n",
       "      <td>0.043015</td>\n",
       "      <td>0.259059</td>\n",
       "      <td>0.170482</td>\n",
       "      <td>0.020915</td>\n",
       "      <td>0.300642</td>\n",
       "      <td>0.128831</td>\n",
       "      <td>NaN</td>\n",
       "      <td>NaN</td>\n",
       "      <td>NaN</td>\n",
       "      <td>NaN</td>\n",
       "    </tr>\n",
       "    <tr>\n",
       "      <th>PubchemFP821</th>\n",
       "      <td>0.234136</td>\n",
       "      <td>0.217848</td>\n",
       "      <td>0.073004</td>\n",
       "      <td>0.209710</td>\n",
       "      <td>0.236580</td>\n",
       "      <td>0.061694</td>\n",
       "      <td>0.056009</td>\n",
       "      <td>0.120953</td>\n",
       "      <td>0.111100</td>\n",
       "      <td>0.152377</td>\n",
       "      <td>...</td>\n",
       "      <td>0.166272</td>\n",
       "      <td>0.195668</td>\n",
       "      <td>0.210763</td>\n",
       "      <td>0.071065</td>\n",
       "      <td>0.048687</td>\n",
       "      <td>0.023073</td>\n",
       "      <td>0.093819</td>\n",
       "      <td>NaN</td>\n",
       "      <td>NaN</td>\n",
       "      <td>NaN</td>\n",
       "    </tr>\n",
       "    <tr>\n",
       "      <th>PubchemFP824</th>\n",
       "      <td>0.110133</td>\n",
       "      <td>0.102972</td>\n",
       "      <td>0.056907</td>\n",
       "      <td>0.072981</td>\n",
       "      <td>0.222293</td>\n",
       "      <td>0.221165</td>\n",
       "      <td>0.070332</td>\n",
       "      <td>0.365781</td>\n",
       "      <td>0.120006</td>\n",
       "      <td>0.084714</td>\n",
       "      <td>...</td>\n",
       "      <td>0.146768</td>\n",
       "      <td>0.145455</td>\n",
       "      <td>0.740720</td>\n",
       "      <td>0.102045</td>\n",
       "      <td>0.676240</td>\n",
       "      <td>0.220122</td>\n",
       "      <td>0.161281</td>\n",
       "      <td>0.099181</td>\n",
       "      <td>NaN</td>\n",
       "      <td>NaN</td>\n",
       "    </tr>\n",
       "    <tr>\n",
       "      <th>PubchemFP833</th>\n",
       "      <td>0.107868</td>\n",
       "      <td>0.117640</td>\n",
       "      <td>0.191850</td>\n",
       "      <td>0.180405</td>\n",
       "      <td>0.018461</td>\n",
       "      <td>0.048406</td>\n",
       "      <td>0.155348</td>\n",
       "      <td>0.187393</td>\n",
       "      <td>0.006203</td>\n",
       "      <td>0.063915</td>\n",
       "      <td>...</td>\n",
       "      <td>0.137620</td>\n",
       "      <td>0.071629</td>\n",
       "      <td>0.011960</td>\n",
       "      <td>0.139690</td>\n",
       "      <td>0.007851</td>\n",
       "      <td>0.038716</td>\n",
       "      <td>0.024849</td>\n",
       "      <td>0.011138</td>\n",
       "      <td>0.02208</td>\n",
       "      <td>NaN</td>\n",
       "    </tr>\n",
       "  </tbody>\n",
       "</table>\n",
       "<p>307 rows × 307 columns</p>\n",
       "</div>"
      ],
      "text/plain": [
       "              PubchemFP0  PubchemFP1  PubchemFP2  PubchemFP12  PubchemFP13  \\\n",
       "PubchemFP0           NaN         NaN         NaN          NaN          NaN   \n",
       "PubchemFP1      0.974432         NaN         NaN          NaN          NaN   \n",
       "PubchemFP2      0.745128    0.764679         NaN          NaN          NaN   \n",
       "PubchemFP12     0.199785    0.144962    0.247008          NaN          NaN   \n",
       "PubchemFP13     0.477958    0.464066    0.336876     0.130179          NaN   \n",
       "...                  ...         ...         ...          ...          ...   \n",
       "PubchemFP818    0.123082    0.113030    0.052763     0.091856     0.211015   \n",
       "PubchemFP819    0.129788    0.121771    0.071212     0.086507     0.052206   \n",
       "PubchemFP821    0.234136    0.217848    0.073004     0.209710     0.236580   \n",
       "PubchemFP824    0.110133    0.102972    0.056907     0.072981     0.222293   \n",
       "PubchemFP833    0.107868    0.117640    0.191850     0.180405     0.018461   \n",
       "\n",
       "              PubchemFP16  PubchemFP19  PubchemFP20  PubchemFP23  PubchemFP24  \\\n",
       "PubchemFP0            NaN          NaN          NaN          NaN          NaN   \n",
       "PubchemFP1            NaN          NaN          NaN          NaN          NaN   \n",
       "PubchemFP2            NaN          NaN          NaN          NaN          NaN   \n",
       "PubchemFP12           NaN          NaN          NaN          NaN          NaN   \n",
       "PubchemFP13           NaN          NaN          NaN          NaN          NaN   \n",
       "...                   ...          ...          ...          ...          ...   \n",
       "PubchemFP818     0.082472     0.037285     0.093194     0.023564     0.010830   \n",
       "PubchemFP819     0.138830     0.077509     0.212170     0.002503     0.001824   \n",
       "PubchemFP821     0.061694     0.056009     0.120953     0.111100     0.152377   \n",
       "PubchemFP824     0.221165     0.070332     0.365781     0.120006     0.084714   \n",
       "PubchemFP833     0.048406     0.155348     0.187393     0.006203     0.063915   \n",
       "\n",
       "              ...  PubchemFP779  PubchemFP797  PubchemFP798  PubchemFP800  \\\n",
       "PubchemFP0    ...           NaN           NaN           NaN           NaN   \n",
       "PubchemFP1    ...           NaN           NaN           NaN           NaN   \n",
       "PubchemFP2    ...           NaN           NaN           NaN           NaN   \n",
       "PubchemFP12   ...           NaN           NaN           NaN           NaN   \n",
       "PubchemFP13   ...           NaN           NaN           NaN           NaN   \n",
       "...           ...           ...           ...           ...           ...   \n",
       "PubchemFP818  ...      0.159962      0.388332      0.157228      0.222575   \n",
       "PubchemFP819  ...      0.043015      0.259059      0.170482      0.020915   \n",
       "PubchemFP821  ...      0.166272      0.195668      0.210763      0.071065   \n",
       "PubchemFP824  ...      0.146768      0.145455      0.740720      0.102045   \n",
       "PubchemFP833  ...      0.137620      0.071629      0.011960      0.139690   \n",
       "\n",
       "              PubchemFP803  PubchemFP818  PubchemFP819  PubchemFP821  \\\n",
       "PubchemFP0             NaN           NaN           NaN           NaN   \n",
       "PubchemFP1             NaN           NaN           NaN           NaN   \n",
       "PubchemFP2             NaN           NaN           NaN           NaN   \n",
       "PubchemFP12            NaN           NaN           NaN           NaN   \n",
       "PubchemFP13            NaN           NaN           NaN           NaN   \n",
       "...                    ...           ...           ...           ...   \n",
       "PubchemFP818      0.325099           NaN           NaN           NaN   \n",
       "PubchemFP819      0.300642      0.128831           NaN           NaN   \n",
       "PubchemFP821      0.048687      0.023073      0.093819           NaN   \n",
       "PubchemFP824      0.676240      0.220122      0.161281      0.099181   \n",
       "PubchemFP833      0.007851      0.038716      0.024849      0.011138   \n",
       "\n",
       "              PubchemFP824  PubchemFP833  \n",
       "PubchemFP0             NaN           NaN  \n",
       "PubchemFP1             NaN           NaN  \n",
       "PubchemFP2             NaN           NaN  \n",
       "PubchemFP12            NaN           NaN  \n",
       "PubchemFP13            NaN           NaN  \n",
       "...                    ...           ...  \n",
       "PubchemFP818           NaN           NaN  \n",
       "PubchemFP819           NaN           NaN  \n",
       "PubchemFP821           NaN           NaN  \n",
       "PubchemFP824           NaN           NaN  \n",
       "PubchemFP833       0.02208           NaN  \n",
       "\n",
       "[307 rows x 307 columns]"
      ]
     },
     "execution_count": 94,
     "metadata": {},
     "output_type": "execute_result"
    }
   ],
   "source": [
    "tri_df=cor_df.mask(mask)\n",
    "tri_df"
   ]
  },
  {
   "cell_type": "code",
   "execution_count": 95,
   "metadata": {},
   "outputs": [
    {
     "data": {
      "text/plain": [
       "['PubchemFP0',\n",
       " 'PubchemFP23',\n",
       " 'PubchemFP33',\n",
       " 'PubchemFP37',\n",
       " 'PubchemFP115',\n",
       " 'PubchemFP143',\n",
       " 'PubchemFP150',\n",
       " 'PubchemFP180',\n",
       " 'PubchemFP187',\n",
       " 'PubchemFP293',\n",
       " 'PubchemFP294',\n",
       " 'PubchemFP300',\n",
       " 'PubchemFP301',\n",
       " 'PubchemFP334',\n",
       " 'PubchemFP342',\n",
       " 'PubchemFP356',\n",
       " 'PubchemFP358',\n",
       " 'PubchemFP362',\n",
       " 'PubchemFP371',\n",
       " 'PubchemFP372',\n",
       " 'PubchemFP373',\n",
       " 'PubchemFP375',\n",
       " 'PubchemFP376',\n",
       " 'PubchemFP379',\n",
       " 'PubchemFP380',\n",
       " 'PubchemFP381',\n",
       " 'PubchemFP382',\n",
       " 'PubchemFP387',\n",
       " 'PubchemFP389',\n",
       " 'PubchemFP394',\n",
       " 'PubchemFP395',\n",
       " 'PubchemFP396',\n",
       " 'PubchemFP399',\n",
       " 'PubchemFP400',\n",
       " 'PubchemFP403',\n",
       " 'PubchemFP406',\n",
       " 'PubchemFP412',\n",
       " 'PubchemFP418',\n",
       " 'PubchemFP421',\n",
       " 'PubchemFP422',\n",
       " 'PubchemFP435',\n",
       " 'PubchemFP442',\n",
       " 'PubchemFP447',\n",
       " 'PubchemFP450',\n",
       " 'PubchemFP467',\n",
       " 'PubchemFP470',\n",
       " 'PubchemFP472',\n",
       " 'PubchemFP473',\n",
       " 'PubchemFP474',\n",
       " 'PubchemFP476',\n",
       " 'PubchemFP480',\n",
       " 'PubchemFP482',\n",
       " 'PubchemFP484',\n",
       " 'PubchemFP485',\n",
       " 'PubchemFP487',\n",
       " 'PubchemFP498',\n",
       " 'PubchemFP501',\n",
       " 'PubchemFP502',\n",
       " 'PubchemFP503',\n",
       " 'PubchemFP504',\n",
       " 'PubchemFP519',\n",
       " 'PubchemFP520',\n",
       " 'PubchemFP541',\n",
       " 'PubchemFP544',\n",
       " 'PubchemFP548',\n",
       " 'PubchemFP550',\n",
       " 'PubchemFP552',\n",
       " 'PubchemFP560',\n",
       " 'PubchemFP564',\n",
       " 'PubchemFP565',\n",
       " 'PubchemFP567',\n",
       " 'PubchemFP569',\n",
       " 'PubchemFP573',\n",
       " 'PubchemFP574',\n",
       " 'PubchemFP575',\n",
       " 'PubchemFP578',\n",
       " 'PubchemFP581',\n",
       " 'PubchemFP584',\n",
       " 'PubchemFP585',\n",
       " 'PubchemFP589',\n",
       " 'PubchemFP591',\n",
       " 'PubchemFP594',\n",
       " 'PubchemFP595',\n",
       " 'PubchemFP601',\n",
       " 'PubchemFP603',\n",
       " 'PubchemFP604',\n",
       " 'PubchemFP606',\n",
       " 'PubchemFP608',\n",
       " 'PubchemFP620',\n",
       " 'PubchemFP624',\n",
       " 'PubchemFP630',\n",
       " 'PubchemFP634',\n",
       " 'PubchemFP636',\n",
       " 'PubchemFP641',\n",
       " 'PubchemFP653',\n",
       " 'PubchemFP654',\n",
       " 'PubchemFP664',\n",
       " 'PubchemFP680',\n",
       " 'PubchemFP690',\n",
       " 'PubchemFP713',\n",
       " 'PubchemFP714',\n",
       " 'PubchemFP735',\n",
       " 'PubchemFP740',\n",
       " 'PubchemFP755',\n",
       " 'PubchemFP756',\n",
       " 'PubchemFP758',\n",
       " 'PubchemFP761',\n",
       " 'PubchemFP770']"
      ]
     },
     "execution_count": 95,
     "metadata": {},
     "output_type": "execute_result"
    }
   ],
   "source": [
    "to_drop=[c for c in tri_df.columns if any(tri_df[c]>0.95) ]\n",
    "to_drop"
   ]
  },
  {
   "cell_type": "code",
   "execution_count": 96,
   "metadata": {},
   "outputs": [],
   "source": [
    "reduced_df_cor=x_tr_const_and_nearcont.drop(to_drop, axis=1)"
   ]
  },
  {
   "cell_type": "code",
   "execution_count": 223,
   "metadata": {},
   "outputs": [
    {
     "data": {
      "text/html": [
       "<div>\n",
       "<style scoped>\n",
       "    .dataframe tbody tr th:only-of-type {\n",
       "        vertical-align: middle;\n",
       "    }\n",
       "\n",
       "    .dataframe tbody tr th {\n",
       "        vertical-align: top;\n",
       "    }\n",
       "\n",
       "    .dataframe thead th {\n",
       "        text-align: right;\n",
       "    }\n",
       "</style>\n",
       "<table border=\"1\" class=\"dataframe\">\n",
       "  <thead>\n",
       "    <tr style=\"text-align: right;\">\n",
       "      <th></th>\n",
       "      <th>PubchemFP1</th>\n",
       "      <th>PubchemFP2</th>\n",
       "      <th>PubchemFP12</th>\n",
       "      <th>PubchemFP13</th>\n",
       "      <th>PubchemFP16</th>\n",
       "      <th>PubchemFP19</th>\n",
       "      <th>PubchemFP20</th>\n",
       "      <th>PubchemFP24</th>\n",
       "      <th>PubchemFP34</th>\n",
       "      <th>PubchemFP116</th>\n",
       "      <th>...</th>\n",
       "      <th>PubchemFP779</th>\n",
       "      <th>PubchemFP797</th>\n",
       "      <th>PubchemFP798</th>\n",
       "      <th>PubchemFP800</th>\n",
       "      <th>PubchemFP803</th>\n",
       "      <th>PubchemFP818</th>\n",
       "      <th>PubchemFP819</th>\n",
       "      <th>PubchemFP821</th>\n",
       "      <th>PubchemFP824</th>\n",
       "      <th>PubchemFP833</th>\n",
       "    </tr>\n",
       "  </thead>\n",
       "  <tbody>\n",
       "    <tr>\n",
       "      <th>0</th>\n",
       "      <td>1</td>\n",
       "      <td>1</td>\n",
       "      <td>1</td>\n",
       "      <td>0</td>\n",
       "      <td>0</td>\n",
       "      <td>1</td>\n",
       "      <td>0</td>\n",
       "      <td>0</td>\n",
       "      <td>0</td>\n",
       "      <td>0</td>\n",
       "      <td>...</td>\n",
       "      <td>0</td>\n",
       "      <td>0</td>\n",
       "      <td>0</td>\n",
       "      <td>0</td>\n",
       "      <td>0</td>\n",
       "      <td>0</td>\n",
       "      <td>0</td>\n",
       "      <td>0</td>\n",
       "      <td>0</td>\n",
       "      <td>0</td>\n",
       "    </tr>\n",
       "    <tr>\n",
       "      <th>1</th>\n",
       "      <td>1</td>\n",
       "      <td>1</td>\n",
       "      <td>1</td>\n",
       "      <td>0</td>\n",
       "      <td>0</td>\n",
       "      <td>1</td>\n",
       "      <td>0</td>\n",
       "      <td>0</td>\n",
       "      <td>0</td>\n",
       "      <td>0</td>\n",
       "      <td>...</td>\n",
       "      <td>0</td>\n",
       "      <td>0</td>\n",
       "      <td>0</td>\n",
       "      <td>0</td>\n",
       "      <td>0</td>\n",
       "      <td>0</td>\n",
       "      <td>0</td>\n",
       "      <td>0</td>\n",
       "      <td>0</td>\n",
       "      <td>0</td>\n",
       "    </tr>\n",
       "    <tr>\n",
       "      <th>2</th>\n",
       "      <td>0</td>\n",
       "      <td>0</td>\n",
       "      <td>1</td>\n",
       "      <td>0</td>\n",
       "      <td>1</td>\n",
       "      <td>1</td>\n",
       "      <td>1</td>\n",
       "      <td>0</td>\n",
       "      <td>0</td>\n",
       "      <td>0</td>\n",
       "      <td>...</td>\n",
       "      <td>0</td>\n",
       "      <td>0</td>\n",
       "      <td>0</td>\n",
       "      <td>1</td>\n",
       "      <td>0</td>\n",
       "      <td>0</td>\n",
       "      <td>0</td>\n",
       "      <td>0</td>\n",
       "      <td>0</td>\n",
       "      <td>0</td>\n",
       "    </tr>\n",
       "    <tr>\n",
       "      <th>3</th>\n",
       "      <td>1</td>\n",
       "      <td>1</td>\n",
       "      <td>1</td>\n",
       "      <td>0</td>\n",
       "      <td>0</td>\n",
       "      <td>1</td>\n",
       "      <td>0</td>\n",
       "      <td>0</td>\n",
       "      <td>0</td>\n",
       "      <td>0</td>\n",
       "      <td>...</td>\n",
       "      <td>0</td>\n",
       "      <td>0</td>\n",
       "      <td>0</td>\n",
       "      <td>0</td>\n",
       "      <td>0</td>\n",
       "      <td>0</td>\n",
       "      <td>0</td>\n",
       "      <td>0</td>\n",
       "      <td>0</td>\n",
       "      <td>0</td>\n",
       "    </tr>\n",
       "    <tr>\n",
       "      <th>4</th>\n",
       "      <td>1</td>\n",
       "      <td>1</td>\n",
       "      <td>0</td>\n",
       "      <td>0</td>\n",
       "      <td>1</td>\n",
       "      <td>1</td>\n",
       "      <td>0</td>\n",
       "      <td>0</td>\n",
       "      <td>0</td>\n",
       "      <td>0</td>\n",
       "      <td>...</td>\n",
       "      <td>0</td>\n",
       "      <td>0</td>\n",
       "      <td>0</td>\n",
       "      <td>0</td>\n",
       "      <td>0</td>\n",
       "      <td>0</td>\n",
       "      <td>0</td>\n",
       "      <td>0</td>\n",
       "      <td>0</td>\n",
       "      <td>0</td>\n",
       "    </tr>\n",
       "    <tr>\n",
       "      <th>...</th>\n",
       "      <td>...</td>\n",
       "      <td>...</td>\n",
       "      <td>...</td>\n",
       "      <td>...</td>\n",
       "      <td>...</td>\n",
       "      <td>...</td>\n",
       "      <td>...</td>\n",
       "      <td>...</td>\n",
       "      <td>...</td>\n",
       "      <td>...</td>\n",
       "      <td>...</td>\n",
       "      <td>...</td>\n",
       "      <td>...</td>\n",
       "      <td>...</td>\n",
       "      <td>...</td>\n",
       "      <td>...</td>\n",
       "      <td>...</td>\n",
       "      <td>...</td>\n",
       "      <td>...</td>\n",
       "      <td>...</td>\n",
       "      <td>...</td>\n",
       "    </tr>\n",
       "    <tr>\n",
       "      <th>1395</th>\n",
       "      <td>0</td>\n",
       "      <td>0</td>\n",
       "      <td>1</td>\n",
       "      <td>1</td>\n",
       "      <td>1</td>\n",
       "      <td>1</td>\n",
       "      <td>0</td>\n",
       "      <td>0</td>\n",
       "      <td>0</td>\n",
       "      <td>1</td>\n",
       "      <td>...</td>\n",
       "      <td>0</td>\n",
       "      <td>0</td>\n",
       "      <td>0</td>\n",
       "      <td>0</td>\n",
       "      <td>0</td>\n",
       "      <td>0</td>\n",
       "      <td>0</td>\n",
       "      <td>1</td>\n",
       "      <td>0</td>\n",
       "      <td>0</td>\n",
       "    </tr>\n",
       "    <tr>\n",
       "      <th>1396</th>\n",
       "      <td>0</td>\n",
       "      <td>0</td>\n",
       "      <td>1</td>\n",
       "      <td>1</td>\n",
       "      <td>1</td>\n",
       "      <td>1</td>\n",
       "      <td>0</td>\n",
       "      <td>0</td>\n",
       "      <td>0</td>\n",
       "      <td>1</td>\n",
       "      <td>...</td>\n",
       "      <td>1</td>\n",
       "      <td>1</td>\n",
       "      <td>0</td>\n",
       "      <td>0</td>\n",
       "      <td>0</td>\n",
       "      <td>0</td>\n",
       "      <td>1</td>\n",
       "      <td>1</td>\n",
       "      <td>0</td>\n",
       "      <td>0</td>\n",
       "    </tr>\n",
       "    <tr>\n",
       "      <th>1397</th>\n",
       "      <td>0</td>\n",
       "      <td>0</td>\n",
       "      <td>1</td>\n",
       "      <td>1</td>\n",
       "      <td>1</td>\n",
       "      <td>1</td>\n",
       "      <td>0</td>\n",
       "      <td>0</td>\n",
       "      <td>0</td>\n",
       "      <td>1</td>\n",
       "      <td>...</td>\n",
       "      <td>0</td>\n",
       "      <td>0</td>\n",
       "      <td>0</td>\n",
       "      <td>0</td>\n",
       "      <td>0</td>\n",
       "      <td>0</td>\n",
       "      <td>0</td>\n",
       "      <td>1</td>\n",
       "      <td>0</td>\n",
       "      <td>0</td>\n",
       "    </tr>\n",
       "    <tr>\n",
       "      <th>1398</th>\n",
       "      <td>1</td>\n",
       "      <td>1</td>\n",
       "      <td>1</td>\n",
       "      <td>0</td>\n",
       "      <td>1</td>\n",
       "      <td>1</td>\n",
       "      <td>0</td>\n",
       "      <td>0</td>\n",
       "      <td>0</td>\n",
       "      <td>0</td>\n",
       "      <td>...</td>\n",
       "      <td>0</td>\n",
       "      <td>0</td>\n",
       "      <td>0</td>\n",
       "      <td>0</td>\n",
       "      <td>0</td>\n",
       "      <td>0</td>\n",
       "      <td>0</td>\n",
       "      <td>0</td>\n",
       "      <td>0</td>\n",
       "      <td>0</td>\n",
       "    </tr>\n",
       "    <tr>\n",
       "      <th>1399</th>\n",
       "      <td>0</td>\n",
       "      <td>0</td>\n",
       "      <td>1</td>\n",
       "      <td>1</td>\n",
       "      <td>1</td>\n",
       "      <td>1</td>\n",
       "      <td>1</td>\n",
       "      <td>0</td>\n",
       "      <td>0</td>\n",
       "      <td>1</td>\n",
       "      <td>...</td>\n",
       "      <td>1</td>\n",
       "      <td>1</td>\n",
       "      <td>0</td>\n",
       "      <td>0</td>\n",
       "      <td>0</td>\n",
       "      <td>0</td>\n",
       "      <td>1</td>\n",
       "      <td>1</td>\n",
       "      <td>0</td>\n",
       "      <td>0</td>\n",
       "    </tr>\n",
       "  </tbody>\n",
       "</table>\n",
       "<p>1400 rows × 199 columns</p>\n",
       "</div>"
      ],
      "text/plain": [
       "      PubchemFP1  PubchemFP2  PubchemFP12  PubchemFP13  PubchemFP16  \\\n",
       "0              1           1            1            0            0   \n",
       "1              1           1            1            0            0   \n",
       "2              0           0            1            0            1   \n",
       "3              1           1            1            0            0   \n",
       "4              1           1            0            0            1   \n",
       "...          ...         ...          ...          ...          ...   \n",
       "1395           0           0            1            1            1   \n",
       "1396           0           0            1            1            1   \n",
       "1397           0           0            1            1            1   \n",
       "1398           1           1            1            0            1   \n",
       "1399           0           0            1            1            1   \n",
       "\n",
       "      PubchemFP19  PubchemFP20  PubchemFP24  PubchemFP34  PubchemFP116  ...  \\\n",
       "0               1            0            0            0             0  ...   \n",
       "1               1            0            0            0             0  ...   \n",
       "2               1            1            0            0             0  ...   \n",
       "3               1            0            0            0             0  ...   \n",
       "4               1            0            0            0             0  ...   \n",
       "...           ...          ...          ...          ...           ...  ...   \n",
       "1395            1            0            0            0             1  ...   \n",
       "1396            1            0            0            0             1  ...   \n",
       "1397            1            0            0            0             1  ...   \n",
       "1398            1            0            0            0             0  ...   \n",
       "1399            1            1            0            0             1  ...   \n",
       "\n",
       "      PubchemFP779  PubchemFP797  PubchemFP798  PubchemFP800  PubchemFP803  \\\n",
       "0                0             0             0             0             0   \n",
       "1                0             0             0             0             0   \n",
       "2                0             0             0             1             0   \n",
       "3                0             0             0             0             0   \n",
       "4                0             0             0             0             0   \n",
       "...            ...           ...           ...           ...           ...   \n",
       "1395             0             0             0             0             0   \n",
       "1396             1             1             0             0             0   \n",
       "1397             0             0             0             0             0   \n",
       "1398             0             0             0             0             0   \n",
       "1399             1             1             0             0             0   \n",
       "\n",
       "      PubchemFP818  PubchemFP819  PubchemFP821  PubchemFP824  PubchemFP833  \n",
       "0                0             0             0             0             0  \n",
       "1                0             0             0             0             0  \n",
       "2                0             0             0             0             0  \n",
       "3                0             0             0             0             0  \n",
       "4                0             0             0             0             0  \n",
       "...            ...           ...           ...           ...           ...  \n",
       "1395             0             0             1             0             0  \n",
       "1396             0             1             1             0             0  \n",
       "1397             0             0             1             0             0  \n",
       "1398             0             0             0             0             0  \n",
       "1399             0             1             1             0             0  \n",
       "\n",
       "[1400 rows x 199 columns]"
      ]
     },
     "execution_count": 223,
     "metadata": {},
     "output_type": "execute_result"
    }
   ],
   "source": [
    "reduced_df_cor"
   ]
  },
  {
   "cell_type": "code",
   "execution_count": 98,
   "metadata": {},
   "outputs": [
    {
     "data": {
      "text/html": [
       "<style>#sk-container-id-4 {color: black;}#sk-container-id-4 pre{padding: 0;}#sk-container-id-4 div.sk-toggleable {background-color: white;}#sk-container-id-4 label.sk-toggleable__label {cursor: pointer;display: block;width: 100%;margin-bottom: 0;padding: 0.3em;box-sizing: border-box;text-align: center;}#sk-container-id-4 label.sk-toggleable__label-arrow:before {content: \"▸\";float: left;margin-right: 0.25em;color: #696969;}#sk-container-id-4 label.sk-toggleable__label-arrow:hover:before {color: black;}#sk-container-id-4 div.sk-estimator:hover label.sk-toggleable__label-arrow:before {color: black;}#sk-container-id-4 div.sk-toggleable__content {max-height: 0;max-width: 0;overflow: hidden;text-align: left;background-color: #f0f8ff;}#sk-container-id-4 div.sk-toggleable__content pre {margin: 0.2em;color: black;border-radius: 0.25em;background-color: #f0f8ff;}#sk-container-id-4 input.sk-toggleable__control:checked~div.sk-toggleable__content {max-height: 200px;max-width: 100%;overflow: auto;}#sk-container-id-4 input.sk-toggleable__control:checked~label.sk-toggleable__label-arrow:before {content: \"▾\";}#sk-container-id-4 div.sk-estimator input.sk-toggleable__control:checked~label.sk-toggleable__label {background-color: #d4ebff;}#sk-container-id-4 div.sk-label input.sk-toggleable__control:checked~label.sk-toggleable__label {background-color: #d4ebff;}#sk-container-id-4 input.sk-hidden--visually {border: 0;clip: rect(1px 1px 1px 1px);clip: rect(1px, 1px, 1px, 1px);height: 1px;margin: -1px;overflow: hidden;padding: 0;position: absolute;width: 1px;}#sk-container-id-4 div.sk-estimator {font-family: monospace;background-color: #f0f8ff;border: 1px dotted black;border-radius: 0.25em;box-sizing: border-box;margin-bottom: 0.5em;}#sk-container-id-4 div.sk-estimator:hover {background-color: #d4ebff;}#sk-container-id-4 div.sk-parallel-item::after {content: \"\";width: 100%;border-bottom: 1px solid gray;flex-grow: 1;}#sk-container-id-4 div.sk-label:hover label.sk-toggleable__label {background-color: #d4ebff;}#sk-container-id-4 div.sk-serial::before {content: \"\";position: absolute;border-left: 1px solid gray;box-sizing: border-box;top: 0;bottom: 0;left: 50%;z-index: 0;}#sk-container-id-4 div.sk-serial {display: flex;flex-direction: column;align-items: center;background-color: white;padding-right: 0.2em;padding-left: 0.2em;position: relative;}#sk-container-id-4 div.sk-item {position: relative;z-index: 1;}#sk-container-id-4 div.sk-parallel {display: flex;align-items: stretch;justify-content: center;background-color: white;position: relative;}#sk-container-id-4 div.sk-item::before, #sk-container-id-4 div.sk-parallel-item::before {content: \"\";position: absolute;border-left: 1px solid gray;box-sizing: border-box;top: 0;bottom: 0;left: 50%;z-index: -1;}#sk-container-id-4 div.sk-parallel-item {display: flex;flex-direction: column;z-index: 1;position: relative;background-color: white;}#sk-container-id-4 div.sk-parallel-item:first-child::after {align-self: flex-end;width: 50%;}#sk-container-id-4 div.sk-parallel-item:last-child::after {align-self: flex-start;width: 50%;}#sk-container-id-4 div.sk-parallel-item:only-child::after {width: 0;}#sk-container-id-4 div.sk-dashed-wrapped {border: 1px dashed gray;margin: 0 0.4em 0.5em 0.4em;box-sizing: border-box;padding-bottom: 0.4em;background-color: white;}#sk-container-id-4 div.sk-label label {font-family: monospace;font-weight: bold;display: inline-block;line-height: 1.2em;}#sk-container-id-4 div.sk-label-container {text-align: center;}#sk-container-id-4 div.sk-container {/* jupyter's `normalize.less` sets `[hidden] { display: none; }` but bootstrap.min.css set `[hidden] { display: none !important; }` so we also need the `!important` here to be able to override the default hidden behavior on the sphinx rendered scikit-learn.org. See: https://github.com/scikit-learn/scikit-learn/issues/21755 */display: inline-block !important;position: relative;}#sk-container-id-4 div.sk-text-repr-fallback {display: none;}</style><div id=\"sk-container-id-4\" class=\"sk-top-container\"><div class=\"sk-text-repr-fallback\"><pre>GradientBoostingRegressor(learning_rate=0.01, max_depth=10, n_estimators=1000,\n",
       "                          random_state=42, subsample=0.5)</pre><b>In a Jupyter environment, please rerun this cell to show the HTML representation or trust the notebook. <br />On GitHub, the HTML representation is unable to render, please try loading this page with nbviewer.org.</b></div><div class=\"sk-container\" hidden><div class=\"sk-item\"><div class=\"sk-estimator sk-toggleable\"><input class=\"sk-toggleable__control sk-hidden--visually\" id=\"sk-estimator-id-8\" type=\"checkbox\" checked><label for=\"sk-estimator-id-8\" class=\"sk-toggleable__label sk-toggleable__label-arrow\">GradientBoostingRegressor</label><div class=\"sk-toggleable__content\"><pre>GradientBoostingRegressor(learning_rate=0.01, max_depth=10, n_estimators=1000,\n",
       "                          random_state=42, subsample=0.5)</pre></div></div></div></div></div>"
      ],
      "text/plain": [
       "GradientBoostingRegressor(learning_rate=0.01, max_depth=10, n_estimators=1000,\n",
       "                          random_state=42, subsample=0.5)"
      ]
     },
     "execution_count": 98,
     "metadata": {},
     "output_type": "execute_result"
    }
   ],
   "source": [
    "estimator.fit(reduced_df_cor, y_tr)"
   ]
  },
  {
   "cell_type": "code",
   "execution_count": 99,
   "metadata": {},
   "outputs": [],
   "source": [
    "y_pred_CV_GBR = cross_val_predict(estimator, reduced_df_cor, y_tr, cv=cv, n_jobs=-1)"
   ]
  },
  {
   "cell_type": "code",
   "execution_count": 100,
   "metadata": {},
   "outputs": [
    {
     "data": {
      "text/plain": [
       "0.64"
      ]
     },
     "execution_count": 100,
     "metadata": {},
     "output_type": "execute_result"
    }
   ],
   "source": [
    "Q2_CV = round(r2_score(y_tr, y_pred_CV_GBR), 2)\n",
    "Q2_CV"
   ]
  },
  {
   "cell_type": "code",
   "execution_count": 101,
   "metadata": {},
   "outputs": [
    {
     "data": {
      "text/plain": [
       "0.73"
      ]
     },
     "execution_count": 101,
     "metadata": {},
     "output_type": "execute_result"
    }
   ],
   "source": [
    "RMSE_CV=round(np.sqrt(mean_squared_error(y_tr, y_pred_CV_GBR)), 2)\n",
    "RMSE_CV"
   ]
  },
  {
   "cell_type": "code",
   "execution_count": 102,
   "metadata": {},
   "outputs": [
    {
     "data": {
      "text/plain": [
       "199"
      ]
     },
     "execution_count": 102,
     "metadata": {},
     "output_type": "execute_result"
    }
   ],
   "source": [
    "feature_name_reduced_df_cor = reduced_df_cor.columns.tolist()\n",
    "len(feature_name_reduced_df_cor)"
   ]
  },
  {
   "cell_type": "markdown",
   "metadata": {},
   "source": [
    "# Prediction for test set's molecules"
   ]
  },
  {
   "cell_type": "code",
   "execution_count": 106,
   "metadata": {},
   "outputs": [],
   "source": [
    "x_ts=desc_ts[feature_name_reduced_df_cor]"
   ]
  },
  {
   "cell_type": "code",
   "execution_count": 107,
   "metadata": {},
   "outputs": [],
   "source": [
    "y_ts = np.array(y_ts, dtype=np.float32)"
   ]
  },
  {
   "cell_type": "code",
   "execution_count": 108,
   "metadata": {},
   "outputs": [],
   "source": [
    "y_pred_GBR = estimator.predict(x_ts)"
   ]
  },
  {
   "cell_type": "code",
   "execution_count": 109,
   "metadata": {},
   "outputs": [
    {
     "data": {
      "text/plain": [
       "0.68"
      ]
     },
     "execution_count": 109,
     "metadata": {},
     "output_type": "execute_result"
    }
   ],
   "source": [
    "Q2_TS = round(r2_score(y_ts, y_pred_GBR), 2)\n",
    "Q2_TS"
   ]
  },
  {
   "cell_type": "code",
   "execution_count": 110,
   "metadata": {},
   "outputs": [
    {
     "data": {
      "text/plain": [
       "0.7"
      ]
     },
     "execution_count": 110,
     "metadata": {},
     "output_type": "execute_result"
    }
   ],
   "source": [
    "RMSE_TS=round(np.sqrt(mean_squared_error(y_ts, y_pred_GBR)), 2)\n",
    "RMSE_TS"
   ]
  },
  {
   "cell_type": "markdown",
   "metadata": {},
   "source": [
    "# save the model to disk"
   ]
  },
  {
   "cell_type": "code",
   "execution_count": 114,
   "metadata": {},
   "outputs": [],
   "source": [
    "pickle.dump(estimator, open('Models/Padels/GBR_after_cross_corr_PubChem.pkl', 'wb'))"
   ]
  },
  {
   "cell_type": "markdown",
   "metadata": {},
   "source": [
    "# load the model from disk"
   ]
  },
  {
   "cell_type": "code",
   "execution_count": 73,
   "metadata": {},
   "outputs": [],
   "source": [
    "GBR_after_cross_corr_PubChem = pickle.load(open('Models/Padels/GBR_after_cross_corr_PubChem.pkl', 'rb'))"
   ]
  },
  {
   "cell_type": "markdown",
   "metadata": {},
   "source": [
    " # Recursive feature elimination"
   ]
  },
  {
   "cell_type": "code",
   "execution_count": 115,
   "metadata": {},
   "outputs": [
    {
     "data": {
      "text/html": [
       "<style>#sk-container-id-5 {color: black;}#sk-container-id-5 pre{padding: 0;}#sk-container-id-5 div.sk-toggleable {background-color: white;}#sk-container-id-5 label.sk-toggleable__label {cursor: pointer;display: block;width: 100%;margin-bottom: 0;padding: 0.3em;box-sizing: border-box;text-align: center;}#sk-container-id-5 label.sk-toggleable__label-arrow:before {content: \"▸\";float: left;margin-right: 0.25em;color: #696969;}#sk-container-id-5 label.sk-toggleable__label-arrow:hover:before {color: black;}#sk-container-id-5 div.sk-estimator:hover label.sk-toggleable__label-arrow:before {color: black;}#sk-container-id-5 div.sk-toggleable__content {max-height: 0;max-width: 0;overflow: hidden;text-align: left;background-color: #f0f8ff;}#sk-container-id-5 div.sk-toggleable__content pre {margin: 0.2em;color: black;border-radius: 0.25em;background-color: #f0f8ff;}#sk-container-id-5 input.sk-toggleable__control:checked~div.sk-toggleable__content {max-height: 200px;max-width: 100%;overflow: auto;}#sk-container-id-5 input.sk-toggleable__control:checked~label.sk-toggleable__label-arrow:before {content: \"▾\";}#sk-container-id-5 div.sk-estimator input.sk-toggleable__control:checked~label.sk-toggleable__label {background-color: #d4ebff;}#sk-container-id-5 div.sk-label input.sk-toggleable__control:checked~label.sk-toggleable__label {background-color: #d4ebff;}#sk-container-id-5 input.sk-hidden--visually {border: 0;clip: rect(1px 1px 1px 1px);clip: rect(1px, 1px, 1px, 1px);height: 1px;margin: -1px;overflow: hidden;padding: 0;position: absolute;width: 1px;}#sk-container-id-5 div.sk-estimator {font-family: monospace;background-color: #f0f8ff;border: 1px dotted black;border-radius: 0.25em;box-sizing: border-box;margin-bottom: 0.5em;}#sk-container-id-5 div.sk-estimator:hover {background-color: #d4ebff;}#sk-container-id-5 div.sk-parallel-item::after {content: \"\";width: 100%;border-bottom: 1px solid gray;flex-grow: 1;}#sk-container-id-5 div.sk-label:hover label.sk-toggleable__label {background-color: #d4ebff;}#sk-container-id-5 div.sk-serial::before {content: \"\";position: absolute;border-left: 1px solid gray;box-sizing: border-box;top: 0;bottom: 0;left: 50%;z-index: 0;}#sk-container-id-5 div.sk-serial {display: flex;flex-direction: column;align-items: center;background-color: white;padding-right: 0.2em;padding-left: 0.2em;position: relative;}#sk-container-id-5 div.sk-item {position: relative;z-index: 1;}#sk-container-id-5 div.sk-parallel {display: flex;align-items: stretch;justify-content: center;background-color: white;position: relative;}#sk-container-id-5 div.sk-item::before, #sk-container-id-5 div.sk-parallel-item::before {content: \"\";position: absolute;border-left: 1px solid gray;box-sizing: border-box;top: 0;bottom: 0;left: 50%;z-index: -1;}#sk-container-id-5 div.sk-parallel-item {display: flex;flex-direction: column;z-index: 1;position: relative;background-color: white;}#sk-container-id-5 div.sk-parallel-item:first-child::after {align-self: flex-end;width: 50%;}#sk-container-id-5 div.sk-parallel-item:last-child::after {align-self: flex-start;width: 50%;}#sk-container-id-5 div.sk-parallel-item:only-child::after {width: 0;}#sk-container-id-5 div.sk-dashed-wrapped {border: 1px dashed gray;margin: 0 0.4em 0.5em 0.4em;box-sizing: border-box;padding-bottom: 0.4em;background-color: white;}#sk-container-id-5 div.sk-label label {font-family: monospace;font-weight: bold;display: inline-block;line-height: 1.2em;}#sk-container-id-5 div.sk-label-container {text-align: center;}#sk-container-id-5 div.sk-container {/* jupyter's `normalize.less` sets `[hidden] { display: none; }` but bootstrap.min.css set `[hidden] { display: none !important; }` so we also need the `!important` here to be able to override the default hidden behavior on the sphinx rendered scikit-learn.org. See: https://github.com/scikit-learn/scikit-learn/issues/21755 */display: inline-block !important;position: relative;}#sk-container-id-5 div.sk-text-repr-fallback {display: none;}</style><div id=\"sk-container-id-5\" class=\"sk-top-container\"><div class=\"sk-text-repr-fallback\"><pre>GradientBoostingRegressor(learning_rate=0.01, max_depth=10, n_estimators=1000,\n",
       "                          random_state=42, subsample=0.5)</pre><b>In a Jupyter environment, please rerun this cell to show the HTML representation or trust the notebook. <br />On GitHub, the HTML representation is unable to render, please try loading this page with nbviewer.org.</b></div><div class=\"sk-container\" hidden><div class=\"sk-item\"><div class=\"sk-estimator sk-toggleable\"><input class=\"sk-toggleable__control sk-hidden--visually\" id=\"sk-estimator-id-9\" type=\"checkbox\" checked><label for=\"sk-estimator-id-9\" class=\"sk-toggleable__label sk-toggleable__label-arrow\">GradientBoostingRegressor</label><div class=\"sk-toggleable__content\"><pre>GradientBoostingRegressor(learning_rate=0.01, max_depth=10, n_estimators=1000,\n",
       "                          random_state=42, subsample=0.5)</pre></div></div></div></div></div>"
      ],
      "text/plain": [
       "GradientBoostingRegressor(learning_rate=0.01, max_depth=10, n_estimators=1000,\n",
       "                          random_state=42, subsample=0.5)"
      ]
     },
     "execution_count": 115,
     "metadata": {},
     "output_type": "execute_result"
    }
   ],
   "source": [
    "from sklearn.feature_selection import RFECV\n",
    "estimator"
   ]
  },
  {
   "cell_type": "code",
   "execution_count": 116,
   "metadata": {},
   "outputs": [
    {
     "data": {
      "text/html": [
       "<style>#sk-container-id-6 {color: black;}#sk-container-id-6 pre{padding: 0;}#sk-container-id-6 div.sk-toggleable {background-color: white;}#sk-container-id-6 label.sk-toggleable__label {cursor: pointer;display: block;width: 100%;margin-bottom: 0;padding: 0.3em;box-sizing: border-box;text-align: center;}#sk-container-id-6 label.sk-toggleable__label-arrow:before {content: \"▸\";float: left;margin-right: 0.25em;color: #696969;}#sk-container-id-6 label.sk-toggleable__label-arrow:hover:before {color: black;}#sk-container-id-6 div.sk-estimator:hover label.sk-toggleable__label-arrow:before {color: black;}#sk-container-id-6 div.sk-toggleable__content {max-height: 0;max-width: 0;overflow: hidden;text-align: left;background-color: #f0f8ff;}#sk-container-id-6 div.sk-toggleable__content pre {margin: 0.2em;color: black;border-radius: 0.25em;background-color: #f0f8ff;}#sk-container-id-6 input.sk-toggleable__control:checked~div.sk-toggleable__content {max-height: 200px;max-width: 100%;overflow: auto;}#sk-container-id-6 input.sk-toggleable__control:checked~label.sk-toggleable__label-arrow:before {content: \"▾\";}#sk-container-id-6 div.sk-estimator input.sk-toggleable__control:checked~label.sk-toggleable__label {background-color: #d4ebff;}#sk-container-id-6 div.sk-label input.sk-toggleable__control:checked~label.sk-toggleable__label {background-color: #d4ebff;}#sk-container-id-6 input.sk-hidden--visually {border: 0;clip: rect(1px 1px 1px 1px);clip: rect(1px, 1px, 1px, 1px);height: 1px;margin: -1px;overflow: hidden;padding: 0;position: absolute;width: 1px;}#sk-container-id-6 div.sk-estimator {font-family: monospace;background-color: #f0f8ff;border: 1px dotted black;border-radius: 0.25em;box-sizing: border-box;margin-bottom: 0.5em;}#sk-container-id-6 div.sk-estimator:hover {background-color: #d4ebff;}#sk-container-id-6 div.sk-parallel-item::after {content: \"\";width: 100%;border-bottom: 1px solid gray;flex-grow: 1;}#sk-container-id-6 div.sk-label:hover label.sk-toggleable__label {background-color: #d4ebff;}#sk-container-id-6 div.sk-serial::before {content: \"\";position: absolute;border-left: 1px solid gray;box-sizing: border-box;top: 0;bottom: 0;left: 50%;z-index: 0;}#sk-container-id-6 div.sk-serial {display: flex;flex-direction: column;align-items: center;background-color: white;padding-right: 0.2em;padding-left: 0.2em;position: relative;}#sk-container-id-6 div.sk-item {position: relative;z-index: 1;}#sk-container-id-6 div.sk-parallel {display: flex;align-items: stretch;justify-content: center;background-color: white;position: relative;}#sk-container-id-6 div.sk-item::before, #sk-container-id-6 div.sk-parallel-item::before {content: \"\";position: absolute;border-left: 1px solid gray;box-sizing: border-box;top: 0;bottom: 0;left: 50%;z-index: -1;}#sk-container-id-6 div.sk-parallel-item {display: flex;flex-direction: column;z-index: 1;position: relative;background-color: white;}#sk-container-id-6 div.sk-parallel-item:first-child::after {align-self: flex-end;width: 50%;}#sk-container-id-6 div.sk-parallel-item:last-child::after {align-self: flex-start;width: 50%;}#sk-container-id-6 div.sk-parallel-item:only-child::after {width: 0;}#sk-container-id-6 div.sk-dashed-wrapped {border: 1px dashed gray;margin: 0 0.4em 0.5em 0.4em;box-sizing: border-box;padding-bottom: 0.4em;background-color: white;}#sk-container-id-6 div.sk-label label {font-family: monospace;font-weight: bold;display: inline-block;line-height: 1.2em;}#sk-container-id-6 div.sk-label-container {text-align: center;}#sk-container-id-6 div.sk-container {/* jupyter's `normalize.less` sets `[hidden] { display: none; }` but bootstrap.min.css set `[hidden] { display: none !important; }` so we also need the `!important` here to be able to override the default hidden behavior on the sphinx rendered scikit-learn.org. See: https://github.com/scikit-learn/scikit-learn/issues/21755 */display: inline-block !important;position: relative;}#sk-container-id-6 div.sk-text-repr-fallback {display: none;}</style><div id=\"sk-container-id-6\" class=\"sk-top-container\"><div class=\"sk-text-repr-fallback\"><pre>RFECV(cv=KFold(n_splits=5, random_state=42, shuffle=True),\n",
       "      estimator=GradientBoostingRegressor(learning_rate=0.01, max_depth=10,\n",
       "                                          n_estimators=1000, random_state=42,\n",
       "                                          subsample=0.5),\n",
       "      scoring=&#x27;r2&#x27;)</pre><b>In a Jupyter environment, please rerun this cell to show the HTML representation or trust the notebook. <br />On GitHub, the HTML representation is unable to render, please try loading this page with nbviewer.org.</b></div><div class=\"sk-container\" hidden><div class=\"sk-item sk-dashed-wrapped\"><div class=\"sk-label-container\"><div class=\"sk-label sk-toggleable\"><input class=\"sk-toggleable__control sk-hidden--visually\" id=\"sk-estimator-id-10\" type=\"checkbox\" ><label for=\"sk-estimator-id-10\" class=\"sk-toggleable__label sk-toggleable__label-arrow\">RFECV</label><div class=\"sk-toggleable__content\"><pre>RFECV(cv=KFold(n_splits=5, random_state=42, shuffle=True),\n",
       "      estimator=GradientBoostingRegressor(learning_rate=0.01, max_depth=10,\n",
       "                                          n_estimators=1000, random_state=42,\n",
       "                                          subsample=0.5),\n",
       "      scoring=&#x27;r2&#x27;)</pre></div></div></div><div class=\"sk-parallel\"><div class=\"sk-parallel-item\"><div class=\"sk-item\"><div class=\"sk-label-container\"><div class=\"sk-label sk-toggleable\"><input class=\"sk-toggleable__control sk-hidden--visually\" id=\"sk-estimator-id-11\" type=\"checkbox\" ><label for=\"sk-estimator-id-11\" class=\"sk-toggleable__label sk-toggleable__label-arrow\">estimator: GradientBoostingRegressor</label><div class=\"sk-toggleable__content\"><pre>GradientBoostingRegressor(learning_rate=0.01, max_depth=10, n_estimators=1000,\n",
       "                          random_state=42, subsample=0.5)</pre></div></div></div><div class=\"sk-serial\"><div class=\"sk-item\"><div class=\"sk-estimator sk-toggleable\"><input class=\"sk-toggleable__control sk-hidden--visually\" id=\"sk-estimator-id-12\" type=\"checkbox\" ><label for=\"sk-estimator-id-12\" class=\"sk-toggleable__label sk-toggleable__label-arrow\">GradientBoostingRegressor</label><div class=\"sk-toggleable__content\"><pre>GradientBoostingRegressor(learning_rate=0.01, max_depth=10, n_estimators=1000,\n",
       "                          random_state=42, subsample=0.5)</pre></div></div></div></div></div></div></div></div></div></div>"
      ],
      "text/plain": [
       "RFECV(cv=KFold(n_splits=5, random_state=42, shuffle=True),\n",
       "      estimator=GradientBoostingRegressor(learning_rate=0.01, max_depth=10,\n",
       "                                          n_estimators=1000, random_state=42,\n",
       "                                          subsample=0.5),\n",
       "      scoring='r2')"
      ]
     },
     "execution_count": 116,
     "metadata": {},
     "output_type": "execute_result"
    }
   ],
   "source": [
    "rfecv = RFECV(estimator=estimator, cv=cv, scoring='r2')\n",
    "rfecv.fit(reduced_df_cor, y_tr)"
   ]
  },
  {
   "cell_type": "code",
   "execution_count": 119,
   "metadata": {},
   "outputs": [
    {
     "data": {
      "image/png": "[encoded data removed]",
      "text/plain": [
       "<Figure size 640x480 with 1 Axes>"
      ]
     },
     "metadata": {},
     "output_type": "display_data"
    },
    {
     "name": "stdout",
     "output_type": "stream",
     "text": [
      "The optimal number of features: 152\n"
     ]
    }
   ],
   "source": [
    "plt.plot(range(1, len(rfecv.cv_results_[\"mean_test_score\"]) + 1), rfecv.cv_results_[\"mean_test_score\"], color='#303F9F', linewidth=3)\n",
    "plt.xlabel(\"Number of Selected Features\")\n",
    "plt.ylabel(\"CV Score\")\n",
    "plt.title(\"Recursive Feature Elimination (RFE)\")\n",
    "plt.show()\n",
    "print(\"The optimal number of features: {}\".format(rfecv.n_features_))"
   ]
  },
  {
   "cell_type": "markdown",
   "metadata": {},
   "source": [
    "Make a new DataFrame called \"X_rfe\" that contains selected features."
   ]
  },
  {
   "cell_type": "code",
   "execution_count": 120,
   "metadata": {},
   "outputs": [],
   "source": [
    "reduced_df_cor = np.array(reduced_df_cor, dtype=np.float32)"
   ]
  },
  {
   "cell_type": "code",
   "execution_count": 121,
   "metadata": {},
   "outputs": [],
   "source": [
    "X_rfe = reduced_df_cor[:, rfecv.support_]"
   ]
  },
  {
   "cell_type": "code",
   "execution_count": 122,
   "metadata": {},
   "outputs": [
    {
     "data": {
      "text/plain": [
       "(1400, 152)"
      ]
     },
     "execution_count": 122,
     "metadata": {},
     "output_type": "execute_result"
    }
   ],
   "source": [
    "X_rfe.shape"
   ]
  },
  {
   "cell_type": "code",
   "execution_count": 123,
   "metadata": {},
   "outputs": [
    {
     "data": {
      "text/html": [
       "<style>#sk-container-id-7 {color: black;}#sk-container-id-7 pre{padding: 0;}#sk-container-id-7 div.sk-toggleable {background-color: white;}#sk-container-id-7 label.sk-toggleable__label {cursor: pointer;display: block;width: 100%;margin-bottom: 0;padding: 0.3em;box-sizing: border-box;text-align: center;}#sk-container-id-7 label.sk-toggleable__label-arrow:before {content: \"▸\";float: left;margin-right: 0.25em;color: #696969;}#sk-container-id-7 label.sk-toggleable__label-arrow:hover:before {color: black;}#sk-container-id-7 div.sk-estimator:hover label.sk-toggleable__label-arrow:before {color: black;}#sk-container-id-7 div.sk-toggleable__content {max-height: 0;max-width: 0;overflow: hidden;text-align: left;background-color: #f0f8ff;}#sk-container-id-7 div.sk-toggleable__content pre {margin: 0.2em;color: black;border-radius: 0.25em;background-color: #f0f8ff;}#sk-container-id-7 input.sk-toggleable__control:checked~div.sk-toggleable__content {max-height: 200px;max-width: 100%;overflow: auto;}#sk-container-id-7 input.sk-toggleable__control:checked~label.sk-toggleable__label-arrow:before {content: \"▾\";}#sk-container-id-7 div.sk-estimator input.sk-toggleable__control:checked~label.sk-toggleable__label {background-color: #d4ebff;}#sk-container-id-7 div.sk-label input.sk-toggleable__control:checked~label.sk-toggleable__label {background-color: #d4ebff;}#sk-container-id-7 input.sk-hidden--visually {border: 0;clip: rect(1px 1px 1px 1px);clip: rect(1px, 1px, 1px, 1px);height: 1px;margin: -1px;overflow: hidden;padding: 0;position: absolute;width: 1px;}#sk-container-id-7 div.sk-estimator {font-family: monospace;background-color: #f0f8ff;border: 1px dotted black;border-radius: 0.25em;box-sizing: border-box;margin-bottom: 0.5em;}#sk-container-id-7 div.sk-estimator:hover {background-color: #d4ebff;}#sk-container-id-7 div.sk-parallel-item::after {content: \"\";width: 100%;border-bottom: 1px solid gray;flex-grow: 1;}#sk-container-id-7 div.sk-label:hover label.sk-toggleable__label {background-color: #d4ebff;}#sk-container-id-7 div.sk-serial::before {content: \"\";position: absolute;border-left: 1px solid gray;box-sizing: border-box;top: 0;bottom: 0;left: 50%;z-index: 0;}#sk-container-id-7 div.sk-serial {display: flex;flex-direction: column;align-items: center;background-color: white;padding-right: 0.2em;padding-left: 0.2em;position: relative;}#sk-container-id-7 div.sk-item {position: relative;z-index: 1;}#sk-container-id-7 div.sk-parallel {display: flex;align-items: stretch;justify-content: center;background-color: white;position: relative;}#sk-container-id-7 div.sk-item::before, #sk-container-id-7 div.sk-parallel-item::before {content: \"\";position: absolute;border-left: 1px solid gray;box-sizing: border-box;top: 0;bottom: 0;left: 50%;z-index: -1;}#sk-container-id-7 div.sk-parallel-item {display: flex;flex-direction: column;z-index: 1;position: relative;background-color: white;}#sk-container-id-7 div.sk-parallel-item:first-child::after {align-self: flex-end;width: 50%;}#sk-container-id-7 div.sk-parallel-item:last-child::after {align-self: flex-start;width: 50%;}#sk-container-id-7 div.sk-parallel-item:only-child::after {width: 0;}#sk-container-id-7 div.sk-dashed-wrapped {border: 1px dashed gray;margin: 0 0.4em 0.5em 0.4em;box-sizing: border-box;padding-bottom: 0.4em;background-color: white;}#sk-container-id-7 div.sk-label label {font-family: monospace;font-weight: bold;display: inline-block;line-height: 1.2em;}#sk-container-id-7 div.sk-label-container {text-align: center;}#sk-container-id-7 div.sk-container {/* jupyter's `normalize.less` sets `[hidden] { display: none; }` but bootstrap.min.css set `[hidden] { display: none !important; }` so we also need the `!important` here to be able to override the default hidden behavior on the sphinx rendered scikit-learn.org. See: https://github.com/scikit-learn/scikit-learn/issues/21755 */display: inline-block !important;position: relative;}#sk-container-id-7 div.sk-text-repr-fallback {display: none;}</style><div id=\"sk-container-id-7\" class=\"sk-top-container\"><div class=\"sk-text-repr-fallback\"><pre>GradientBoostingRegressor(learning_rate=0.01, max_depth=10, n_estimators=1000,\n",
       "                          random_state=42, subsample=0.5)</pre><b>In a Jupyter environment, please rerun this cell to show the HTML representation or trust the notebook. <br />On GitHub, the HTML representation is unable to render, please try loading this page with nbviewer.org.</b></div><div class=\"sk-container\" hidden><div class=\"sk-item\"><div class=\"sk-estimator sk-toggleable\"><input class=\"sk-toggleable__control sk-hidden--visually\" id=\"sk-estimator-id-13\" type=\"checkbox\" checked><label for=\"sk-estimator-id-13\" class=\"sk-toggleable__label sk-toggleable__label-arrow\">GradientBoostingRegressor</label><div class=\"sk-toggleable__content\"><pre>GradientBoostingRegressor(learning_rate=0.01, max_depth=10, n_estimators=1000,\n",
       "                          random_state=42, subsample=0.5)</pre></div></div></div></div></div>"
      ],
      "text/plain": [
       "GradientBoostingRegressor(learning_rate=0.01, max_depth=10, n_estimators=1000,\n",
       "                          random_state=42, subsample=0.5)"
      ]
     },
     "execution_count": 123,
     "metadata": {},
     "output_type": "execute_result"
    }
   ],
   "source": [
    "estimator.fit(X_rfe, y_tr)"
   ]
  },
  {
   "cell_type": "code",
   "execution_count": 124,
   "metadata": {},
   "outputs": [],
   "source": [
    "y_pred_CV_GBR = cross_val_predict(estimator, X_rfe, y_tr, cv=cv, n_jobs=-1)"
   ]
  },
  {
   "cell_type": "code",
   "execution_count": 125,
   "metadata": {},
   "outputs": [
    {
     "data": {
      "text/plain": [
       "0.64"
      ]
     },
     "execution_count": 125,
     "metadata": {},
     "output_type": "execute_result"
    }
   ],
   "source": [
    "Q2_CV = round(r2_score(y_tr, y_pred_CV_GBR), 2)\n",
    "Q2_CV"
   ]
  },
  {
   "cell_type": "code",
   "execution_count": 126,
   "metadata": {},
   "outputs": [
    {
     "data": {
      "text/plain": [
       "0.73"
      ]
     },
     "execution_count": 126,
     "metadata": {},
     "output_type": "execute_result"
    }
   ],
   "source": [
    "RMSE_CV=round(np.sqrt(mean_squared_error(y_tr, y_pred_CV_GBR)), 2)\n",
    "RMSE_CV"
   ]
  },
  {
   "cell_type": "code",
   "execution_count": 128,
   "metadata": {},
   "outputs": [],
   "source": [
    "reduced_df_cor=x_tr_const_and_nearcont.drop(to_drop, axis=1)"
   ]
  },
  {
   "cell_type": "code",
   "execution_count": 129,
   "metadata": {},
   "outputs": [
    {
     "data": {
      "text/plain": [
       "Index(['PubchemFP1', 'PubchemFP2', 'PubchemFP12', 'PubchemFP13', 'PubchemFP16',\n",
       "       'PubchemFP19', 'PubchemFP20', 'PubchemFP24', 'PubchemFP34',\n",
       "       'PubchemFP116',\n",
       "       ...\n",
       "       'PubchemFP776', 'PubchemFP777', 'PubchemFP779', 'PubchemFP797',\n",
       "       'PubchemFP798', 'PubchemFP800', 'PubchemFP818', 'PubchemFP819',\n",
       "       'PubchemFP821', 'PubchemFP833'],\n",
       "      dtype='object', length=152)"
      ]
     },
     "execution_count": 129,
     "metadata": {},
     "output_type": "execute_result"
    }
   ],
   "source": [
    "feature_idx = rfecv.get_support()\n",
    "feature_name_rfecv = reduced_df_cor.columns[feature_idx]\n",
    "feature_name_rfecv"
   ]
  },
  {
   "cell_type": "code",
   "execution_count": 350,
   "metadata": {},
   "outputs": [],
   "source": [
    "from pathlib import Path"
   ]
  },
  {
   "cell_type": "code",
   "execution_count": 351,
   "metadata": {},
   "outputs": [],
   "source": [
    "urls=list(feature_name_rfecv)"
   ]
  },
  {
   "cell_type": "code",
   "execution_count": 356,
   "metadata": {},
   "outputs": [],
   "source": [
    "path = Path('feature_name_rfecv_PubchemFP.txt')"
   ]
  },
  {
   "cell_type": "code",
   "execution_count": 357,
   "metadata": {},
   "outputs": [
    {
     "data": {
      "text/plain": [
       "1964"
      ]
     },
     "execution_count": 357,
     "metadata": {},
     "output_type": "execute_result"
    }
   ],
   "source": [
    "path.write_text('\\n'.join(urls))"
   ]
  },
  {
   "cell_type": "markdown",
   "metadata": {},
   "source": [
    "# Prediction for test set's molecules"
   ]
  },
  {
   "cell_type": "code",
   "execution_count": 150,
   "metadata": {},
   "outputs": [],
   "source": [
    "x_ts=desc_ts[feature_name_rfecv]"
   ]
  },
  {
   "cell_type": "code",
   "execution_count": 880,
   "metadata": {},
   "outputs": [],
   "source": [
    "y_ts = np.array(y_ts, dtype=np.float32)"
   ]
  },
  {
   "cell_type": "code",
   "execution_count": 881,
   "metadata": {},
   "outputs": [],
   "source": [
    "y_pred_GBR = estimator.predict(x_ts)"
   ]
  },
  {
   "cell_type": "code",
   "execution_count": 882,
   "metadata": {
    "scrolled": true
   },
   "outputs": [
    {
     "data": {
      "text/plain": [
       "0.71"
      ]
     },
     "execution_count": 882,
     "metadata": {},
     "output_type": "execute_result"
    }
   ],
   "source": [
    "Q2_TS = round(r2_score(y_ts, y_pred_GBR), 2)\n",
    "Q2_TS"
   ]
  },
  {
   "cell_type": "code",
   "execution_count": 883,
   "metadata": {
    "scrolled": true
   },
   "outputs": [
    {
     "data": {
      "text/plain": [
       "0.66"
      ]
     },
     "execution_count": 883,
     "metadata": {},
     "output_type": "execute_result"
    }
   ],
   "source": [
    "RMSE_TS=round(np.sqrt(mean_squared_error(y_ts, y_pred_GBR)), 2)\n",
    "RMSE_TS"
   ]
  },
  {
   "cell_type": "code",
   "execution_count": null,
   "metadata": {},
   "outputs": [],
   "source": []
  },
  {
   "cell_type": "markdown",
   "metadata": {},
   "source": [
    "# save the model to disk"
   ]
  },
  {
   "cell_type": "code",
   "execution_count": 273,
   "metadata": {},
   "outputs": [],
   "source": [
    "pickle.dump(estimator, open('Models/Padels/HDAC3_GBR_Pubchem_final_FS.pkl', 'wb'))"
   ]
  },
  {
   "cell_type": "markdown",
   "metadata": {},
   "source": [
    "# load the model from disk"
   ]
  },
  {
   "cell_type": "code",
   "execution_count": 134,
   "metadata": {},
   "outputs": [],
   "source": [
    "best_GBR = pickle.load(open('Models/Morgan_FP/HDAC3_GBR_Pubchem_final_FS.pkl', 'rb'))"
   ]
  },
  {
   "cell_type": "markdown",
   "metadata": {},
   "source": [
    "# Y-randomization GradientBoostingRegressor model"
   ]
  },
  {
   "cell_type": "code",
   "execution_count": 138,
   "metadata": {},
   "outputs": [
    {
     "name": "stderr",
     "output_type": "stream",
     "text": [
      "[Parallel(n_jobs=-1)]: Using backend LokyBackend with 16 concurrent workers.\n",
      "[Parallel(n_jobs=-1)]: Done  18 tasks      | elapsed:  5.1min\n"
     ]
    },
    {
     "name": "stdout",
     "output_type": "stream",
     "text": [
      "True score =  0.64 \n",
      "Y-randomization =  -0.39 \n",
      "p-value =  0.0196\n"
     ]
    },
    {
     "name": "stderr",
     "output_type": "stream",
     "text": [
      "[Parallel(n_jobs=-1)]: Done  50 out of  50 | elapsed:  9.9min finished\n"
     ]
    }
   ],
   "source": [
    "permutations = 50\n",
    "score, permutation_scores, pvalue = permutation_test_score(best_GBR, X_rfe, y_tr,\n",
    "                                                           cv=cv, scoring='r2',\n",
    "                                                           n_permutations=permutations,\n",
    "                                                           n_jobs=-1,\n",
    "                                                           verbose=1,\n",
    "                                                           random_state=seed)\n",
    "print('True score = ', score.round(2),\n",
    "      '\\nY-randomization = ', np.mean(permutation_scores).round(2),\n",
    "      '\\np-value = ', pvalue.round(4))"
   ]
  },
  {
   "cell_type": "markdown",
   "metadata": {},
   "source": [
    "# 11. Estimating applicability domain. Method - Euclidian distances, K=1"
   ]
  },
  {
   "cell_type": "code",
   "execution_count": 140,
   "metadata": {},
   "outputs": [],
   "source": [
    "neighbors_k= pairwise_distances(X_rfe, n_jobs=-1)\n",
    "neighbors_k.sort(0)"
   ]
  },
  {
   "cell_type": "code",
   "execution_count": 141,
   "metadata": {},
   "outputs": [
    {
     "data": {
      "text/html": [
       "<div>\n",
       "<style scoped>\n",
       "    .dataframe tbody tr th:only-of-type {\n",
       "        vertical-align: middle;\n",
       "    }\n",
       "\n",
       "    .dataframe tbody tr th {\n",
       "        vertical-align: top;\n",
       "    }\n",
       "\n",
       "    .dataframe thead th {\n",
       "        text-align: right;\n",
       "    }\n",
       "</style>\n",
       "<table border=\"1\" class=\"dataframe\">\n",
       "  <thead>\n",
       "    <tr style=\"text-align: right;\">\n",
       "      <th></th>\n",
       "      <th>0</th>\n",
       "      <th>1</th>\n",
       "      <th>2</th>\n",
       "      <th>3</th>\n",
       "      <th>4</th>\n",
       "      <th>5</th>\n",
       "      <th>6</th>\n",
       "      <th>7</th>\n",
       "      <th>8</th>\n",
       "      <th>9</th>\n",
       "      <th>...</th>\n",
       "      <th>1390</th>\n",
       "      <th>1391</th>\n",
       "      <th>1392</th>\n",
       "      <th>1393</th>\n",
       "      <th>1394</th>\n",
       "      <th>1395</th>\n",
       "      <th>1396</th>\n",
       "      <th>1397</th>\n",
       "      <th>1398</th>\n",
       "      <th>1399</th>\n",
       "    </tr>\n",
       "  </thead>\n",
       "  <tbody>\n",
       "    <tr>\n",
       "      <th>0</th>\n",
       "      <td>0.000000</td>\n",
       "      <td>0.000000</td>\n",
       "      <td>0.000000</td>\n",
       "      <td>0.000000</td>\n",
       "      <td>0.000000</td>\n",
       "      <td>0.000000</td>\n",
       "      <td>0.000000</td>\n",
       "      <td>0.000000</td>\n",
       "      <td>0.000000</td>\n",
       "      <td>0.000000</td>\n",
       "      <td>...</td>\n",
       "      <td>0.000000</td>\n",
       "      <td>0.000000</td>\n",
       "      <td>0.000000</td>\n",
       "      <td>0.000000</td>\n",
       "      <td>0.000000</td>\n",
       "      <td>0.000000</td>\n",
       "      <td>0.000000</td>\n",
       "      <td>0.000000</td>\n",
       "      <td>0.000000</td>\n",
       "      <td>0.000000</td>\n",
       "    </tr>\n",
       "    <tr>\n",
       "      <th>1</th>\n",
       "      <td>0.000000</td>\n",
       "      <td>0.000000</td>\n",
       "      <td>1.732051</td>\n",
       "      <td>0.000000</td>\n",
       "      <td>2.449490</td>\n",
       "      <td>2.449490</td>\n",
       "      <td>1.000000</td>\n",
       "      <td>3.000000</td>\n",
       "      <td>3.316625</td>\n",
       "      <td>3.162278</td>\n",
       "      <td>...</td>\n",
       "      <td>2.236068</td>\n",
       "      <td>1.000000</td>\n",
       "      <td>2.000000</td>\n",
       "      <td>2.000000</td>\n",
       "      <td>2.000000</td>\n",
       "      <td>0.000000</td>\n",
       "      <td>1.000000</td>\n",
       "      <td>0.000000</td>\n",
       "      <td>4.690416</td>\n",
       "      <td>2.828427</td>\n",
       "    </tr>\n",
       "    <tr>\n",
       "      <th>2</th>\n",
       "      <td>0.000000</td>\n",
       "      <td>0.000000</td>\n",
       "      <td>2.449490</td>\n",
       "      <td>2.828427</td>\n",
       "      <td>3.162278</td>\n",
       "      <td>3.464102</td>\n",
       "      <td>3.316625</td>\n",
       "      <td>3.605551</td>\n",
       "      <td>3.464102</td>\n",
       "      <td>3.316625</td>\n",
       "      <td>...</td>\n",
       "      <td>4.123106</td>\n",
       "      <td>2.236068</td>\n",
       "      <td>2.236068</td>\n",
       "      <td>2.449490</td>\n",
       "      <td>2.449490</td>\n",
       "      <td>0.000000</td>\n",
       "      <td>2.449490</td>\n",
       "      <td>0.000000</td>\n",
       "      <td>4.898980</td>\n",
       "      <td>2.828427</td>\n",
       "    </tr>\n",
       "    <tr>\n",
       "      <th>3</th>\n",
       "      <td>0.000000</td>\n",
       "      <td>1.000000</td>\n",
       "      <td>2.449490</td>\n",
       "      <td>2.828427</td>\n",
       "      <td>4.242640</td>\n",
       "      <td>3.872983</td>\n",
       "      <td>3.741657</td>\n",
       "      <td>4.000000</td>\n",
       "      <td>3.872983</td>\n",
       "      <td>3.605551</td>\n",
       "      <td>...</td>\n",
       "      <td>4.123106</td>\n",
       "      <td>2.449490</td>\n",
       "      <td>2.236068</td>\n",
       "      <td>2.449490</td>\n",
       "      <td>2.645751</td>\n",
       "      <td>1.000000</td>\n",
       "      <td>2.828427</td>\n",
       "      <td>1.000000</td>\n",
       "      <td>5.000000</td>\n",
       "      <td>3.162278</td>\n",
       "    </tr>\n",
       "    <tr>\n",
       "      <th>4</th>\n",
       "      <td>1.000000</td>\n",
       "      <td>2.236068</td>\n",
       "      <td>2.645751</td>\n",
       "      <td>2.828427</td>\n",
       "      <td>4.242640</td>\n",
       "      <td>4.000000</td>\n",
       "      <td>4.000000</td>\n",
       "      <td>4.123106</td>\n",
       "      <td>3.872983</td>\n",
       "      <td>3.605551</td>\n",
       "      <td>...</td>\n",
       "      <td>4.123106</td>\n",
       "      <td>4.123106</td>\n",
       "      <td>2.236068</td>\n",
       "      <td>2.645751</td>\n",
       "      <td>2.645751</td>\n",
       "      <td>1.414214</td>\n",
       "      <td>2.828427</td>\n",
       "      <td>1.414214</td>\n",
       "      <td>5.000000</td>\n",
       "      <td>3.316625</td>\n",
       "    </tr>\n",
       "    <tr>\n",
       "      <th>...</th>\n",
       "      <td>...</td>\n",
       "      <td>...</td>\n",
       "      <td>...</td>\n",
       "      <td>...</td>\n",
       "      <td>...</td>\n",
       "      <td>...</td>\n",
       "      <td>...</td>\n",
       "      <td>...</td>\n",
       "      <td>...</td>\n",
       "      <td>...</td>\n",
       "      <td>...</td>\n",
       "      <td>...</td>\n",
       "      <td>...</td>\n",
       "      <td>...</td>\n",
       "      <td>...</td>\n",
       "      <td>...</td>\n",
       "      <td>...</td>\n",
       "      <td>...</td>\n",
       "      <td>...</td>\n",
       "      <td>...</td>\n",
       "      <td>...</td>\n",
       "    </tr>\n",
       "    <tr>\n",
       "      <th>1395</th>\n",
       "      <td>8.602325</td>\n",
       "      <td>8.485281</td>\n",
       "      <td>8.000000</td>\n",
       "      <td>8.306623</td>\n",
       "      <td>8.831760</td>\n",
       "      <td>8.944272</td>\n",
       "      <td>8.888194</td>\n",
       "      <td>8.831760</td>\n",
       "      <td>8.944272</td>\n",
       "      <td>8.366600</td>\n",
       "      <td>...</td>\n",
       "      <td>8.246211</td>\n",
       "      <td>8.660254</td>\n",
       "      <td>8.944272</td>\n",
       "      <td>8.831760</td>\n",
       "      <td>8.831760</td>\n",
       "      <td>8.944272</td>\n",
       "      <td>9.165152</td>\n",
       "      <td>8.944272</td>\n",
       "      <td>9.055386</td>\n",
       "      <td>9.380832</td>\n",
       "    </tr>\n",
       "    <tr>\n",
       "      <th>1396</th>\n",
       "      <td>8.602325</td>\n",
       "      <td>8.485281</td>\n",
       "      <td>8.000000</td>\n",
       "      <td>8.306623</td>\n",
       "      <td>8.888194</td>\n",
       "      <td>8.944272</td>\n",
       "      <td>8.888194</td>\n",
       "      <td>8.888194</td>\n",
       "      <td>8.944272</td>\n",
       "      <td>8.366600</td>\n",
       "      <td>...</td>\n",
       "      <td>8.306623</td>\n",
       "      <td>8.660254</td>\n",
       "      <td>8.944272</td>\n",
       "      <td>8.944272</td>\n",
       "      <td>8.831760</td>\n",
       "      <td>9.000000</td>\n",
       "      <td>9.219544</td>\n",
       "      <td>9.000000</td>\n",
       "      <td>9.110434</td>\n",
       "      <td>9.380832</td>\n",
       "    </tr>\n",
       "    <tr>\n",
       "      <th>1397</th>\n",
       "      <td>8.602325</td>\n",
       "      <td>8.544003</td>\n",
       "      <td>8.000000</td>\n",
       "      <td>8.366600</td>\n",
       "      <td>8.888194</td>\n",
       "      <td>9.000000</td>\n",
       "      <td>8.888194</td>\n",
       "      <td>8.944272</td>\n",
       "      <td>9.000000</td>\n",
       "      <td>8.366600</td>\n",
       "      <td>...</td>\n",
       "      <td>8.366600</td>\n",
       "      <td>8.717798</td>\n",
       "      <td>8.944272</td>\n",
       "      <td>8.944272</td>\n",
       "      <td>8.888194</td>\n",
       "      <td>9.000000</td>\n",
       "      <td>9.219544</td>\n",
       "      <td>9.000000</td>\n",
       "      <td>9.165152</td>\n",
       "      <td>9.539392</td>\n",
       "    </tr>\n",
       "    <tr>\n",
       "      <th>1398</th>\n",
       "      <td>8.660254</td>\n",
       "      <td>8.544003</td>\n",
       "      <td>8.124039</td>\n",
       "      <td>8.426149</td>\n",
       "      <td>8.944272</td>\n",
       "      <td>9.000000</td>\n",
       "      <td>8.944272</td>\n",
       "      <td>8.944272</td>\n",
       "      <td>9.000000</td>\n",
       "      <td>8.426149</td>\n",
       "      <td>...</td>\n",
       "      <td>8.485281</td>\n",
       "      <td>8.717798</td>\n",
       "      <td>9.110434</td>\n",
       "      <td>9.000000</td>\n",
       "      <td>8.888194</td>\n",
       "      <td>9.000000</td>\n",
       "      <td>9.219544</td>\n",
       "      <td>9.000000</td>\n",
       "      <td>9.165152</td>\n",
       "      <td>9.591663</td>\n",
       "    </tr>\n",
       "    <tr>\n",
       "      <th>1399</th>\n",
       "      <td>8.660254</td>\n",
       "      <td>8.602325</td>\n",
       "      <td>8.306623</td>\n",
       "      <td>8.485281</td>\n",
       "      <td>9.110434</td>\n",
       "      <td>9.000000</td>\n",
       "      <td>9.055386</td>\n",
       "      <td>9.000000</td>\n",
       "      <td>9.000000</td>\n",
       "      <td>8.426149</td>\n",
       "      <td>...</td>\n",
       "      <td>8.544003</td>\n",
       "      <td>8.831760</td>\n",
       "      <td>9.165152</td>\n",
       "      <td>9.110434</td>\n",
       "      <td>9.000000</td>\n",
       "      <td>9.165152</td>\n",
       "      <td>9.380832</td>\n",
       "      <td>9.165152</td>\n",
       "      <td>9.273619</td>\n",
       "      <td>9.695360</td>\n",
       "    </tr>\n",
       "  </tbody>\n",
       "</table>\n",
       "<p>1400 rows × 1400 columns</p>\n",
       "</div>"
      ],
      "text/plain": [
       "          0         1         2         3         4         5         6     \\\n",
       "0     0.000000  0.000000  0.000000  0.000000  0.000000  0.000000  0.000000   \n",
       "1     0.000000  0.000000  1.732051  0.000000  2.449490  2.449490  1.000000   \n",
       "2     0.000000  0.000000  2.449490  2.828427  3.162278  3.464102  3.316625   \n",
       "3     0.000000  1.000000  2.449490  2.828427  4.242640  3.872983  3.741657   \n",
       "4     1.000000  2.236068  2.645751  2.828427  4.242640  4.000000  4.000000   \n",
       "...        ...       ...       ...       ...       ...       ...       ...   \n",
       "1395  8.602325  8.485281  8.000000  8.306623  8.831760  8.944272  8.888194   \n",
       "1396  8.602325  8.485281  8.000000  8.306623  8.888194  8.944272  8.888194   \n",
       "1397  8.602325  8.544003  8.000000  8.366600  8.888194  9.000000  8.888194   \n",
       "1398  8.660254  8.544003  8.124039  8.426149  8.944272  9.000000  8.944272   \n",
       "1399  8.660254  8.602325  8.306623  8.485281  9.110434  9.000000  9.055386   \n",
       "\n",
       "          7         8         9     ...      1390      1391      1392  \\\n",
       "0     0.000000  0.000000  0.000000  ...  0.000000  0.000000  0.000000   \n",
       "1     3.000000  3.316625  3.162278  ...  2.236068  1.000000  2.000000   \n",
       "2     3.605551  3.464102  3.316625  ...  4.123106  2.236068  2.236068   \n",
       "3     4.000000  3.872983  3.605551  ...  4.123106  2.449490  2.236068   \n",
       "4     4.123106  3.872983  3.605551  ...  4.123106  4.123106  2.236068   \n",
       "...        ...       ...       ...  ...       ...       ...       ...   \n",
       "1395  8.831760  8.944272  8.366600  ...  8.246211  8.660254  8.944272   \n",
       "1396  8.888194  8.944272  8.366600  ...  8.306623  8.660254  8.944272   \n",
       "1397  8.944272  9.000000  8.366600  ...  8.366600  8.717798  8.944272   \n",
       "1398  8.944272  9.000000  8.426149  ...  8.485281  8.717798  9.110434   \n",
       "1399  9.000000  9.000000  8.426149  ...  8.544003  8.831760  9.165152   \n",
       "\n",
       "          1393      1394      1395      1396      1397      1398      1399  \n",
       "0     0.000000  0.000000  0.000000  0.000000  0.000000  0.000000  0.000000  \n",
       "1     2.000000  2.000000  0.000000  1.000000  0.000000  4.690416  2.828427  \n",
       "2     2.449490  2.449490  0.000000  2.449490  0.000000  4.898980  2.828427  \n",
       "3     2.449490  2.645751  1.000000  2.828427  1.000000  5.000000  3.162278  \n",
       "4     2.645751  2.645751  1.414214  2.828427  1.414214  5.000000  3.316625  \n",
       "...        ...       ...       ...       ...       ...       ...       ...  \n",
       "1395  8.831760  8.831760  8.944272  9.165152  8.944272  9.055386  9.380832  \n",
       "1396  8.944272  8.831760  9.000000  9.219544  9.000000  9.110434  9.380832  \n",
       "1397  8.944272  8.888194  9.000000  9.219544  9.000000  9.165152  9.539392  \n",
       "1398  9.000000  8.888194  9.000000  9.219544  9.000000  9.165152  9.591663  \n",
       "1399  9.110434  9.000000  9.165152  9.380832  9.165152  9.273619  9.695360  \n",
       "\n",
       "[1400 rows x 1400 columns]"
      ]
     },
     "execution_count": 141,
     "metadata": {},
     "output_type": "execute_result"
    }
   ],
   "source": [
    "df_tr=pd.DataFrame(neighbors_k)\n",
    "df_tr"
   ]
  },
  {
   "cell_type": "code",
   "execution_count": 142,
   "metadata": {},
   "outputs": [],
   "source": [
    "similarity= neighbors_k"
   ]
  },
  {
   "cell_type": "code",
   "execution_count": 143,
   "metadata": {},
   "outputs": [],
   "source": [
    "Dmean=np.mean(similarity[1,:])"
   ]
  },
  {
   "cell_type": "code",
   "execution_count": 144,
   "metadata": {},
   "outputs": [
    {
     "data": {
      "text/plain": [
       "1.89"
      ]
     },
     "execution_count": 144,
     "metadata": {},
     "output_type": "execute_result"
    }
   ],
   "source": [
    "round(Dmean, 2)"
   ]
  },
  {
   "cell_type": "code",
   "execution_count": 145,
   "metadata": {},
   "outputs": [],
   "source": [
    "std=np.std(similarity[1,:])"
   ]
  },
  {
   "cell_type": "code",
   "execution_count": 146,
   "metadata": {},
   "outputs": [
    {
     "data": {
      "text/plain": [
       "1.27"
      ]
     },
     "execution_count": 146,
     "metadata": {},
     "output_type": "execute_result"
    }
   ],
   "source": [
    "round(std, 2)"
   ]
  },
  {
   "cell_type": "code",
   "execution_count": 147,
   "metadata": {},
   "outputs": [
    {
     "name": "stdout",
     "output_type": "stream",
     "text": [
      "2.53\n"
     ]
    }
   ],
   "source": [
    "model_AD_limit=Dmean+std*0.5\n",
    "print(np.round(model_AD_limit, 2))"
   ]
  },
  {
   "cell_type": "code",
   "execution_count": 152,
   "metadata": {},
   "outputs": [],
   "source": [
    "x_ts=desc_ts[feature_name_rfecv]"
   ]
  },
  {
   "cell_type": "code",
   "execution_count": 154,
   "metadata": {},
   "outputs": [],
   "source": [
    "neighbors_k_ts= pairwise_distances(X_rfe,Y=x_ts, n_jobs=-1)\n",
    "neighbors_k_ts.sort(0)"
   ]
  },
  {
   "cell_type": "code",
   "execution_count": 155,
   "metadata": {},
   "outputs": [
    {
     "data": {
      "text/html": [
       "<div>\n",
       "<style scoped>\n",
       "    .dataframe tbody tr th:only-of-type {\n",
       "        vertical-align: middle;\n",
       "    }\n",
       "\n",
       "    .dataframe tbody tr th {\n",
       "        vertical-align: top;\n",
       "    }\n",
       "\n",
       "    .dataframe thead th {\n",
       "        text-align: right;\n",
       "    }\n",
       "</style>\n",
       "<table border=\"1\" class=\"dataframe\">\n",
       "  <thead>\n",
       "    <tr style=\"text-align: right;\">\n",
       "      <th></th>\n",
       "      <th>0</th>\n",
       "      <th>1</th>\n",
       "      <th>2</th>\n",
       "      <th>3</th>\n",
       "      <th>4</th>\n",
       "      <th>5</th>\n",
       "      <th>6</th>\n",
       "      <th>7</th>\n",
       "      <th>8</th>\n",
       "      <th>9</th>\n",
       "      <th>...</th>\n",
       "      <th>341</th>\n",
       "      <th>342</th>\n",
       "      <th>343</th>\n",
       "      <th>344</th>\n",
       "      <th>345</th>\n",
       "      <th>346</th>\n",
       "      <th>347</th>\n",
       "      <th>348</th>\n",
       "      <th>349</th>\n",
       "      <th>350</th>\n",
       "    </tr>\n",
       "  </thead>\n",
       "  <tbody>\n",
       "    <tr>\n",
       "      <th>0</th>\n",
       "      <td>0.000000</td>\n",
       "      <td>3.162278</td>\n",
       "      <td>5.567764</td>\n",
       "      <td>2.000000</td>\n",
       "      <td>1.732051</td>\n",
       "      <td>3.605551</td>\n",
       "      <td>1.000000</td>\n",
       "      <td>1.732051</td>\n",
       "      <td>2.828427</td>\n",
       "      <td>3.162278</td>\n",
       "      <td>...</td>\n",
       "      <td>0.000000</td>\n",
       "      <td>2.645751</td>\n",
       "      <td>2.000000</td>\n",
       "      <td>1.732051</td>\n",
       "      <td>1.732051</td>\n",
       "      <td>2.000000</td>\n",
       "      <td>1.414214</td>\n",
       "      <td>2.000000</td>\n",
       "      <td>3.464102</td>\n",
       "      <td>2.236068</td>\n",
       "    </tr>\n",
       "    <tr>\n",
       "      <th>1</th>\n",
       "      <td>0.000000</td>\n",
       "      <td>4.898979</td>\n",
       "      <td>5.656854</td>\n",
       "      <td>3.316625</td>\n",
       "      <td>2.449490</td>\n",
       "      <td>4.000000</td>\n",
       "      <td>3.316625</td>\n",
       "      <td>1.732051</td>\n",
       "      <td>2.828427</td>\n",
       "      <td>3.162278</td>\n",
       "      <td>...</td>\n",
       "      <td>1.000000</td>\n",
       "      <td>3.000000</td>\n",
       "      <td>2.236068</td>\n",
       "      <td>2.000000</td>\n",
       "      <td>3.316625</td>\n",
       "      <td>2.236068</td>\n",
       "      <td>2.000000</td>\n",
       "      <td>2.236068</td>\n",
       "      <td>3.605551</td>\n",
       "      <td>2.645751</td>\n",
       "    </tr>\n",
       "    <tr>\n",
       "      <th>2</th>\n",
       "      <td>0.000000</td>\n",
       "      <td>5.744563</td>\n",
       "      <td>5.656854</td>\n",
       "      <td>3.464102</td>\n",
       "      <td>2.828427</td>\n",
       "      <td>4.123106</td>\n",
       "      <td>3.464102</td>\n",
       "      <td>2.000000</td>\n",
       "      <td>4.000000</td>\n",
       "      <td>3.316625</td>\n",
       "      <td>...</td>\n",
       "      <td>2.236068</td>\n",
       "      <td>3.000000</td>\n",
       "      <td>2.645751</td>\n",
       "      <td>3.000000</td>\n",
       "      <td>3.316625</td>\n",
       "      <td>2.236068</td>\n",
       "      <td>2.449490</td>\n",
       "      <td>2.449490</td>\n",
       "      <td>3.605551</td>\n",
       "      <td>2.645751</td>\n",
       "    </tr>\n",
       "    <tr>\n",
       "      <th>3</th>\n",
       "      <td>0.000000</td>\n",
       "      <td>5.744563</td>\n",
       "      <td>5.656854</td>\n",
       "      <td>3.605551</td>\n",
       "      <td>3.464102</td>\n",
       "      <td>4.123106</td>\n",
       "      <td>3.741657</td>\n",
       "      <td>2.828427</td>\n",
       "      <td>4.242641</td>\n",
       "      <td>3.872983</td>\n",
       "      <td>...</td>\n",
       "      <td>2.449490</td>\n",
       "      <td>3.000000</td>\n",
       "      <td>2.828427</td>\n",
       "      <td>3.000000</td>\n",
       "      <td>3.316625</td>\n",
       "      <td>2.236068</td>\n",
       "      <td>2.645751</td>\n",
       "      <td>2.449490</td>\n",
       "      <td>3.605551</td>\n",
       "      <td>2.828427</td>\n",
       "    </tr>\n",
       "    <tr>\n",
       "      <th>4</th>\n",
       "      <td>1.000000</td>\n",
       "      <td>5.830952</td>\n",
       "      <td>5.830952</td>\n",
       "      <td>3.872983</td>\n",
       "      <td>5.099020</td>\n",
       "      <td>4.242641</td>\n",
       "      <td>4.000000</td>\n",
       "      <td>3.316625</td>\n",
       "      <td>4.472136</td>\n",
       "      <td>4.242641</td>\n",
       "      <td>...</td>\n",
       "      <td>3.464102</td>\n",
       "      <td>3.162278</td>\n",
       "      <td>4.358899</td>\n",
       "      <td>3.162278</td>\n",
       "      <td>3.741657</td>\n",
       "      <td>2.449490</td>\n",
       "      <td>2.645751</td>\n",
       "      <td>2.645751</td>\n",
       "      <td>3.605551</td>\n",
       "      <td>2.828427</td>\n",
       "    </tr>\n",
       "    <tr>\n",
       "      <th>...</th>\n",
       "      <td>...</td>\n",
       "      <td>...</td>\n",
       "      <td>...</td>\n",
       "      <td>...</td>\n",
       "      <td>...</td>\n",
       "      <td>...</td>\n",
       "      <td>...</td>\n",
       "      <td>...</td>\n",
       "      <td>...</td>\n",
       "      <td>...</td>\n",
       "      <td>...</td>\n",
       "      <td>...</td>\n",
       "      <td>...</td>\n",
       "      <td>...</td>\n",
       "      <td>...</td>\n",
       "      <td>...</td>\n",
       "      <td>...</td>\n",
       "      <td>...</td>\n",
       "      <td>...</td>\n",
       "      <td>...</td>\n",
       "      <td>...</td>\n",
       "    </tr>\n",
       "    <tr>\n",
       "      <th>1395</th>\n",
       "      <td>8.602325</td>\n",
       "      <td>8.426150</td>\n",
       "      <td>8.717798</td>\n",
       "      <td>9.165151</td>\n",
       "      <td>9.110434</td>\n",
       "      <td>9.219544</td>\n",
       "      <td>9.000000</td>\n",
       "      <td>9.433981</td>\n",
       "      <td>8.185353</td>\n",
       "      <td>9.433981</td>\n",
       "      <td>...</td>\n",
       "      <td>8.544004</td>\n",
       "      <td>8.485281</td>\n",
       "      <td>8.774964</td>\n",
       "      <td>9.327379</td>\n",
       "      <td>9.219544</td>\n",
       "      <td>8.888194</td>\n",
       "      <td>9.165151</td>\n",
       "      <td>9.000000</td>\n",
       "      <td>9.055385</td>\n",
       "      <td>8.888194</td>\n",
       "    </tr>\n",
       "    <tr>\n",
       "      <th>1396</th>\n",
       "      <td>8.602325</td>\n",
       "      <td>8.426150</td>\n",
       "      <td>8.717798</td>\n",
       "      <td>9.219544</td>\n",
       "      <td>9.219544</td>\n",
       "      <td>9.219544</td>\n",
       "      <td>9.000000</td>\n",
       "      <td>9.486833</td>\n",
       "      <td>8.246211</td>\n",
       "      <td>9.486833</td>\n",
       "      <td>...</td>\n",
       "      <td>8.544004</td>\n",
       "      <td>8.544004</td>\n",
       "      <td>8.774964</td>\n",
       "      <td>9.380832</td>\n",
       "      <td>9.219544</td>\n",
       "      <td>8.888194</td>\n",
       "      <td>9.165151</td>\n",
       "      <td>9.055385</td>\n",
       "      <td>9.110434</td>\n",
       "      <td>8.944272</td>\n",
       "    </tr>\n",
       "    <tr>\n",
       "      <th>1397</th>\n",
       "      <td>8.602325</td>\n",
       "      <td>8.485281</td>\n",
       "      <td>8.774964</td>\n",
       "      <td>9.380832</td>\n",
       "      <td>9.273618</td>\n",
       "      <td>9.273618</td>\n",
       "      <td>9.055385</td>\n",
       "      <td>9.486833</td>\n",
       "      <td>8.246211</td>\n",
       "      <td>9.486833</td>\n",
       "      <td>...</td>\n",
       "      <td>8.544004</td>\n",
       "      <td>8.544004</td>\n",
       "      <td>8.831761</td>\n",
       "      <td>9.380832</td>\n",
       "      <td>9.380832</td>\n",
       "      <td>8.888194</td>\n",
       "      <td>9.273618</td>\n",
       "      <td>9.110434</td>\n",
       "      <td>9.327379</td>\n",
       "      <td>8.944272</td>\n",
       "    </tr>\n",
       "    <tr>\n",
       "      <th>1398</th>\n",
       "      <td>8.660254</td>\n",
       "      <td>8.485281</td>\n",
       "      <td>8.831761</td>\n",
       "      <td>9.433981</td>\n",
       "      <td>9.327379</td>\n",
       "      <td>9.327379</td>\n",
       "      <td>9.055385</td>\n",
       "      <td>9.591663</td>\n",
       "      <td>8.246211</td>\n",
       "      <td>9.591663</td>\n",
       "      <td>...</td>\n",
       "      <td>8.602325</td>\n",
       "      <td>8.602325</td>\n",
       "      <td>8.888194</td>\n",
       "      <td>9.380832</td>\n",
       "      <td>9.433981</td>\n",
       "      <td>8.888194</td>\n",
       "      <td>9.327379</td>\n",
       "      <td>9.273618</td>\n",
       "      <td>9.433981</td>\n",
       "      <td>9.000000</td>\n",
       "    </tr>\n",
       "    <tr>\n",
       "      <th>1399</th>\n",
       "      <td>8.660254</td>\n",
       "      <td>8.602325</td>\n",
       "      <td>8.888194</td>\n",
       "      <td>9.539392</td>\n",
       "      <td>9.433981</td>\n",
       "      <td>9.433981</td>\n",
       "      <td>9.055385</td>\n",
       "      <td>9.643651</td>\n",
       "      <td>8.306624</td>\n",
       "      <td>9.695360</td>\n",
       "      <td>...</td>\n",
       "      <td>8.660254</td>\n",
       "      <td>8.831761</td>\n",
       "      <td>8.944272</td>\n",
       "      <td>9.539392</td>\n",
       "      <td>9.539392</td>\n",
       "      <td>8.944272</td>\n",
       "      <td>9.380832</td>\n",
       "      <td>9.327379</td>\n",
       "      <td>9.591663</td>\n",
       "      <td>9.327379</td>\n",
       "    </tr>\n",
       "  </tbody>\n",
       "</table>\n",
       "<p>1400 rows × 351 columns</p>\n",
       "</div>"
      ],
      "text/plain": [
       "           0         1         2         3         4         5         6    \\\n",
       "0     0.000000  3.162278  5.567764  2.000000  1.732051  3.605551  1.000000   \n",
       "1     0.000000  4.898979  5.656854  3.316625  2.449490  4.000000  3.316625   \n",
       "2     0.000000  5.744563  5.656854  3.464102  2.828427  4.123106  3.464102   \n",
       "3     0.000000  5.744563  5.656854  3.605551  3.464102  4.123106  3.741657   \n",
       "4     1.000000  5.830952  5.830952  3.872983  5.099020  4.242641  4.000000   \n",
       "...        ...       ...       ...       ...       ...       ...       ...   \n",
       "1395  8.602325  8.426150  8.717798  9.165151  9.110434  9.219544  9.000000   \n",
       "1396  8.602325  8.426150  8.717798  9.219544  9.219544  9.219544  9.000000   \n",
       "1397  8.602325  8.485281  8.774964  9.380832  9.273618  9.273618  9.055385   \n",
       "1398  8.660254  8.485281  8.831761  9.433981  9.327379  9.327379  9.055385   \n",
       "1399  8.660254  8.602325  8.888194  9.539392  9.433981  9.433981  9.055385   \n",
       "\n",
       "           7         8         9    ...       341       342       343  \\\n",
       "0     1.732051  2.828427  3.162278  ...  0.000000  2.645751  2.000000   \n",
       "1     1.732051  2.828427  3.162278  ...  1.000000  3.000000  2.236068   \n",
       "2     2.000000  4.000000  3.316625  ...  2.236068  3.000000  2.645751   \n",
       "3     2.828427  4.242641  3.872983  ...  2.449490  3.000000  2.828427   \n",
       "4     3.316625  4.472136  4.242641  ...  3.464102  3.162278  4.358899   \n",
       "...        ...       ...       ...  ...       ...       ...       ...   \n",
       "1395  9.433981  8.185353  9.433981  ...  8.544004  8.485281  8.774964   \n",
       "1396  9.486833  8.246211  9.486833  ...  8.544004  8.544004  8.774964   \n",
       "1397  9.486833  8.246211  9.486833  ...  8.544004  8.544004  8.831761   \n",
       "1398  9.591663  8.246211  9.591663  ...  8.602325  8.602325  8.888194   \n",
       "1399  9.643651  8.306624  9.695360  ...  8.660254  8.831761  8.944272   \n",
       "\n",
       "           344       345       346       347       348       349       350  \n",
       "0     1.732051  1.732051  2.000000  1.414214  2.000000  3.464102  2.236068  \n",
       "1     2.000000  3.316625  2.236068  2.000000  2.236068  3.605551  2.645751  \n",
       "2     3.000000  3.316625  2.236068  2.449490  2.449490  3.605551  2.645751  \n",
       "3     3.000000  3.316625  2.236068  2.645751  2.449490  3.605551  2.828427  \n",
       "4     3.162278  3.741657  2.449490  2.645751  2.645751  3.605551  2.828427  \n",
       "...        ...       ...       ...       ...       ...       ...       ...  \n",
       "1395  9.327379  9.219544  8.888194  9.165151  9.000000  9.055385  8.888194  \n",
       "1396  9.380832  9.219544  8.888194  9.165151  9.055385  9.110434  8.944272  \n",
       "1397  9.380832  9.380832  8.888194  9.273618  9.110434  9.327379  8.944272  \n",
       "1398  9.380832  9.433981  8.888194  9.327379  9.273618  9.433981  9.000000  \n",
       "1399  9.539392  9.539392  8.944272  9.380832  9.327379  9.591663  9.327379  \n",
       "\n",
       "[1400 rows x 351 columns]"
      ]
     },
     "execution_count": 155,
     "metadata": {},
     "output_type": "execute_result"
    }
   ],
   "source": [
    "x_ts_AD=pd.DataFrame(neighbors_k_ts)\n",
    "x_ts_AD"
   ]
  },
  {
   "cell_type": "code",
   "execution_count": 156,
   "metadata": {},
   "outputs": [
    {
     "name": "stdout",
     "output_type": "stream",
     "text": [
      "[0.    3.162 5.568 2.    1.732 3.606 1.    1.732 2.828 3.162 3.    2.\n",
      " 4.123 2.236 2.236 1.732 1.    2.449 4.472 2.828 1.414 2.449 4.243 0.\n",
      " 0.    1.414 1.    1.    2.646 3.162 1.414 2.    2.449 2.646 2.828 2.\n",
      " 4.    2.    3.317 3.162 5.    4.123 2.828 4.359 3.162 3.    4.583 3.464\n",
      " 0.    0.    1.    3.742 2.646 1.    1.414 4.359 2.    1.    0.    1.\n",
      " 1.    2.    3.317 4.123 4.243 0.    3.464 2.    0.    3.317 3.317 1.414\n",
      " 2.646 1.414 1.    0.    1.    1.    0.    2.236 1.    3.162 2.236 2.\n",
      " 4.    0.    2.449 1.    0.    5.385 0.    5.099 2.449 2.646 0.    2.449\n",
      " 1.    1.732 0.    1.414 3.742 1.    3.873 1.    1.732 0.    3.    1.\n",
      " 1.    1.414 1.    1.    1.414 1.    4.123 1.414 1.    0.    1.732 3.162\n",
      " 3.    2.    1.414 2.646 1.732 2.236 2.236 3.606 1.732 2.    1.    4.\n",
      " 0.    1.732 1.414 0.    0.    1.    3.606 1.    4.472 1.414 1.414 1.732\n",
      " 0.    3.    1.414 1.    3.    3.742 1.    3.    1.414 1.414 0.    2.449\n",
      " 1.732 1.414 2.828 1.732 2.    2.    1.    2.    0.    2.449 4.    0.\n",
      " 3.    2.    0.    0.    0.    1.    2.646 4.359 2.    0.    1.732 2.\n",
      " 2.236 2.828 3.162 2.    0.    3.464 1.414 1.    2.449 1.732 1.414 0.\n",
      " 1.414 1.732 1.732 2.646 2.449 0.    1.    0.    2.828 0.    0.    2.236\n",
      " 0.    2.236 1.732 1.    2.    1.732 1.732 0.    1.732 0.    1.    1.414\n",
      " 0.    0.    1.    3.317 2.449 1.414 1.    1.    2.828 4.472 2.449 0.\n",
      " 1.414 3.162 0.    1.414 2.449 1.732 1.732 1.414 3.464 1.    2.236 0.\n",
      " 1.414 2.646 1.414 4.    1.    2.449 1.    1.    3.606 2.    1.    1.414\n",
      " 1.732 2.236 0.    1.414 0.    1.    1.    1.    3.    1.414 3.317 2.\n",
      " 2.236 2.646 1.414 1.732 0.    1.    0.    2.    2.236 3.873 2.236 0.\n",
      " 3.    0.    3.317 3.162 1.414 1.    1.414 2.236 1.    3.873 1.    2.\n",
      " 4.69  0.    3.464 2.    2.646 4.796 1.732 3.317 2.236 1.    0.    0.\n",
      " 0.    1.    3.162 0.    1.414 3.464 1.    2.646 2.    3.    2.828 2.449\n",
      " 0.    2.828 4.    0.    0.    1.    3.162 1.414 1.414 2.    2.    0.\n",
      " 0.    2.    2.828 0.    0.    1.414 2.449 1.    1.    1.    2.    1.732\n",
      " 1.414 2.449 1.414 1.    2.    0.    2.646 2.    1.732 1.732 2.    1.414\n",
      " 2.    3.464 2.236]\n"
     ]
    }
   ],
   "source": [
    "similarity_ts= neighbors_k_ts\n",
    "cpd_AD=similarity_ts[0,:]\n",
    "cpd_value = np.round(cpd_AD, 3)\n",
    "print(cpd_value)"
   ]
  },
  {
   "cell_type": "code",
   "execution_count": 157,
   "metadata": {},
   "outputs": [
    {
     "name": "stdout",
     "output_type": "stream",
     "text": [
      "[ True False False  True  True False  True  True False False False  True\n",
      " False  True  True  True  True  True False False  True  True False  True\n",
      "  True  True  True  True False False  True  True  True False False  True\n",
      " False  True False False False False False False False False False False\n",
      "  True  True  True False False  True  True False  True  True  True  True\n",
      "  True  True False False False  True False  True  True False False  True\n",
      " False  True  True  True  True  True  True  True  True False  True  True\n",
      " False  True  True  True  True False  True False  True False  True  True\n",
      "  True  True  True  True False  True False  True  True  True False  True\n",
      "  True  True  True  True  True  True False  True  True  True  True False\n",
      " False  True  True False  True  True  True False  True  True  True False\n",
      "  True  True  True  True  True  True False  True False  True  True  True\n",
      "  True False  True  True False False  True False  True  True  True  True\n",
      "  True  True False  True  True  True  True  True  True  True False  True\n",
      " False  True  True  True  True  True False False  True  True  True  True\n",
      "  True False False  True  True False  True  True  True  True  True  True\n",
      "  True  True  True False  True  True  True  True False  True  True  True\n",
      "  True  True  True  True  True  True  True  True  True  True  True  True\n",
      "  True  True  True False  True  True  True  True False False  True  True\n",
      "  True False  True  True  True  True  True  True False  True  True  True\n",
      "  True False  True False  True  True  True  True False  True  True  True\n",
      "  True  True  True  True  True  True  True  True False  True False  True\n",
      "  True False  True  True  True  True  True  True  True False  True  True\n",
      " False  True False False  True  True  True  True  True False  True  True\n",
      " False  True False  True False False  True False  True  True  True  True\n",
      "  True  True False  True  True False  True False  True False False  True\n",
      "  True False False  True  True  True False  True  True  True  True  True\n",
      "  True  True False  True  True  True  True  True  True  True  True  True\n",
      "  True  True  True  True  True  True False  True  True  True  True  True\n",
      "  True False  True]\n"
     ]
    }
   ],
   "source": [
    "cpd_AD = np.where(cpd_value <= model_AD_limit, True, False)\n",
    "print(cpd_AD)"
   ]
  },
  {
   "cell_type": "code",
   "execution_count": 158,
   "metadata": {},
   "outputs": [
    {
     "name": "stdout",
     "output_type": "stream",
     "text": [
      "Coverage =  0.72\n"
     ]
    }
   ],
   "source": [
    "print(\"Coverage = \", round(sum(cpd_AD) / len(cpd_AD), 2))"
   ]
  },
  {
   "cell_type": "code",
   "execution_count": 159,
   "metadata": {},
   "outputs": [
    {
     "name": "stdout",
     "output_type": "stream",
     "text": [
      "Indices of substances included in AD =  [  0   3   4   6   7  11  13  14  15  16  17  20  21  23  24  25  26  27\n",
      "  30  31  32  35  37  48  49  50  53  54  56  57  58  59  60  61  65  67\n",
      "  68  71  73  74  75  76  77  78  79  80  82  83  85  86  87  88  90  92\n",
      "  94  95  96  97  98  99 101 103 104 105 107 108 109 110 111 112 113 115\n",
      " 116 117 118 121 122 124 125 126 128 129 130 132 133 134 135 136 137 139\n",
      " 141 142 143 144 146 147 150 152 153 154 155 156 157 159 160 161 162 163\n",
      " 164 165 167 169 170 171 172 173 176 177 178 179 180 183 184 186 187 188\n",
      " 189 190 191 192 193 194 196 197 198 199 201 202 203 204 205 206 207 208\n",
      " 209 210 211 212 213 214 215 216 217 218 220 221 222 223 226 227 228 230\n",
      " 231 232 233 234 235 237 238 239 240 242 244 245 246 247 249 250 251 252\n",
      " 253 254 255 256 257 258 259 261 263 264 266 267 268 269 270 271 272 274\n",
      " 275 277 280 281 282 283 284 286 287 289 291 294 296 297 298 299 300 301\n",
      " 303 304 306 308 311 312 315 316 317 319 320 321 322 323 324 325 327 328\n",
      " 329 330 331 332 333 334 335 336 337 338 339 340 341 343 344 345 346 347\n",
      " 348 350]\n"
     ]
    }
   ],
   "source": [
    "print(\"Indices of substances included in AD = \", np.where(cpd_AD != 0)[0])"
   ]
  },
  {
   "cell_type": "code",
   "execution_count": 160,
   "metadata": {},
   "outputs": [],
   "source": [
    "out_Ad=list(np.where(cpd_AD == 0)[0])"
   ]
  },
  {
   "cell_type": "markdown",
   "metadata": {},
   "source": [
    "#  Prediction only for molecules included in  AD"
   ]
  },
  {
   "cell_type": "code",
   "execution_count": 161,
   "metadata": {},
   "outputs": [],
   "source": [
    "y_pred_GBR_ad=list(y_pred_GBR)"
   ]
  },
  {
   "cell_type": "code",
   "execution_count": 162,
   "metadata": {},
   "outputs": [],
   "source": [
    "y_pred_GBR_ad[:] = [x for i,x in enumerate(y_pred_GBR_ad) if i not in out_Ad]"
   ]
  },
  {
   "cell_type": "code",
   "execution_count": 163,
   "metadata": {},
   "outputs": [
    {
     "data": {
      "text/plain": [
       "254"
      ]
     },
     "execution_count": 163,
     "metadata": {},
     "output_type": "execute_result"
    }
   ],
   "source": [
    "len(y_pred_GBR_ad)"
   ]
  },
  {
   "cell_type": "code",
   "execution_count": 164,
   "metadata": {},
   "outputs": [],
   "source": [
    "y_ts_ad=list(y_ts)"
   ]
  },
  {
   "cell_type": "code",
   "execution_count": 165,
   "metadata": {},
   "outputs": [],
   "source": [
    "y_ts_ad[:] = [x for i,x in enumerate(y_ts_ad) if i not in out_Ad]"
   ]
  },
  {
   "cell_type": "code",
   "execution_count": 166,
   "metadata": {},
   "outputs": [
    {
     "data": {
      "text/plain": [
       "254"
      ]
     },
     "execution_count": 166,
     "metadata": {},
     "output_type": "execute_result"
    }
   ],
   "source": [
    "len(y_ts_ad)"
   ]
  },
  {
   "cell_type": "code",
   "execution_count": 228,
   "metadata": {},
   "outputs": [
    {
     "data": {
      "text/plain": [
       "0.73"
      ]
     },
     "execution_count": 228,
     "metadata": {},
     "output_type": "execute_result"
    }
   ],
   "source": [
    "Q2_TS = round(r2_score(y_ts_ad, y_pred_GBR_ad), 2)\n",
    "Q2_TS"
   ]
  },
  {
   "cell_type": "code",
   "execution_count": 227,
   "metadata": {},
   "outputs": [
    {
     "data": {
      "text/plain": [
       "0.62"
      ]
     },
     "execution_count": 227,
     "metadata": {},
     "output_type": "execute_result"
    }
   ],
   "source": [
    "RMSE_TS=round(np.sqrt(mean_squared_error(y_ts_ad, y_pred_GBR_ad)), 2)\n",
    "RMSE_TS"
   ]
  },
  {
   "cell_type": "markdown",
   "metadata": {},
   "source": [
    "# SVM model building and validation"
   ]
  },
  {
   "cell_type": "code",
   "execution_count": 229,
   "metadata": {},
   "outputs": [],
   "source": [
    "from sklearn.svm import SVR"
   ]
  },
  {
   "cell_type": "code",
   "execution_count": 230,
   "metadata": {},
   "outputs": [],
   "source": [
    "param_grid = {\"C\": [10 ** i for i in range(0, 5)],\n",
    "              \"gamma\": [10 ** i for i in range(-6, 0)]}"
   ]
  },
  {
   "cell_type": "code",
   "execution_count": 231,
   "metadata": {},
   "outputs": [],
   "source": [
    "seed = 42\n",
    "cv=KFold(n_splits=5, random_state=seed, shuffle=True)"
   ]
  },
  {
   "cell_type": "code",
   "execution_count": 232,
   "metadata": {},
   "outputs": [],
   "source": [
    "svm = GridSearchCV(SVR(C=1.0, epsilon=0.2), param_grid, n_jobs=-1, cv=cv, verbose=1)"
   ]
  },
  {
   "cell_type": "code",
   "execution_count": 233,
   "metadata": {},
   "outputs": [
    {
     "name": "stdout",
     "output_type": "stream",
     "text": [
      "Fitting 5 folds for each of 30 candidates, totalling 150 fits\n"
     ]
    },
    {
     "data": {
      "text/html": [
       "<style>#sk-container-id-9 {color: black;}#sk-container-id-9 pre{padding: 0;}#sk-container-id-9 div.sk-toggleable {background-color: white;}#sk-container-id-9 label.sk-toggleable__label {cursor: pointer;display: block;width: 100%;margin-bottom: 0;padding: 0.3em;box-sizing: border-box;text-align: center;}#sk-container-id-9 label.sk-toggleable__label-arrow:before {content: \"▸\";float: left;margin-right: 0.25em;color: #696969;}#sk-container-id-9 label.sk-toggleable__label-arrow:hover:before {color: black;}#sk-container-id-9 div.sk-estimator:hover label.sk-toggleable__label-arrow:before {color: black;}#sk-container-id-9 div.sk-toggleable__content {max-height: 0;max-width: 0;overflow: hidden;text-align: left;background-color: #f0f8ff;}#sk-container-id-9 div.sk-toggleable__content pre {margin: 0.2em;color: black;border-radius: 0.25em;background-color: #f0f8ff;}#sk-container-id-9 input.sk-toggleable__control:checked~div.sk-toggleable__content {max-height: 200px;max-width: 100%;overflow: auto;}#sk-container-id-9 input.sk-toggleable__control:checked~label.sk-toggleable__label-arrow:before {content: \"▾\";}#sk-container-id-9 div.sk-estimator input.sk-toggleable__control:checked~label.sk-toggleable__label {background-color: #d4ebff;}#sk-container-id-9 div.sk-label input.sk-toggleable__control:checked~label.sk-toggleable__label {background-color: #d4ebff;}#sk-container-id-9 input.sk-hidden--visually {border: 0;clip: rect(1px 1px 1px 1px);clip: rect(1px, 1px, 1px, 1px);height: 1px;margin: -1px;overflow: hidden;padding: 0;position: absolute;width: 1px;}#sk-container-id-9 div.sk-estimator {font-family: monospace;background-color: #f0f8ff;border: 1px dotted black;border-radius: 0.25em;box-sizing: border-box;margin-bottom: 0.5em;}#sk-container-id-9 div.sk-estimator:hover {background-color: #d4ebff;}#sk-container-id-9 div.sk-parallel-item::after {content: \"\";width: 100%;border-bottom: 1px solid gray;flex-grow: 1;}#sk-container-id-9 div.sk-label:hover label.sk-toggleable__label {background-color: #d4ebff;}#sk-container-id-9 div.sk-serial::before {content: \"\";position: absolute;border-left: 1px solid gray;box-sizing: border-box;top: 0;bottom: 0;left: 50%;z-index: 0;}#sk-container-id-9 div.sk-serial {display: flex;flex-direction: column;align-items: center;background-color: white;padding-right: 0.2em;padding-left: 0.2em;position: relative;}#sk-container-id-9 div.sk-item {position: relative;z-index: 1;}#sk-container-id-9 div.sk-parallel {display: flex;align-items: stretch;justify-content: center;background-color: white;position: relative;}#sk-container-id-9 div.sk-item::before, #sk-container-id-9 div.sk-parallel-item::before {content: \"\";position: absolute;border-left: 1px solid gray;box-sizing: border-box;top: 0;bottom: 0;left: 50%;z-index: -1;}#sk-container-id-9 div.sk-parallel-item {display: flex;flex-direction: column;z-index: 1;position: relative;background-color: white;}#sk-container-id-9 div.sk-parallel-item:first-child::after {align-self: flex-end;width: 50%;}#sk-container-id-9 div.sk-parallel-item:last-child::after {align-self: flex-start;width: 50%;}#sk-container-id-9 div.sk-parallel-item:only-child::after {width: 0;}#sk-container-id-9 div.sk-dashed-wrapped {border: 1px dashed gray;margin: 0 0.4em 0.5em 0.4em;box-sizing: border-box;padding-bottom: 0.4em;background-color: white;}#sk-container-id-9 div.sk-label label {font-family: monospace;font-weight: bold;display: inline-block;line-height: 1.2em;}#sk-container-id-9 div.sk-label-container {text-align: center;}#sk-container-id-9 div.sk-container {/* jupyter's `normalize.less` sets `[hidden] { display: none; }` but bootstrap.min.css set `[hidden] { display: none !important; }` so we also need the `!important` here to be able to override the default hidden behavior on the sphinx rendered scikit-learn.org. See: https://github.com/scikit-learn/scikit-learn/issues/21755 */display: inline-block !important;position: relative;}#sk-container-id-9 div.sk-text-repr-fallback {display: none;}</style><div id=\"sk-container-id-9\" class=\"sk-top-container\"><div class=\"sk-text-repr-fallback\"><pre>GridSearchCV(cv=KFold(n_splits=5, random_state=42, shuffle=True),\n",
       "             estimator=SVR(epsilon=0.2), n_jobs=-1,\n",
       "             param_grid={&#x27;C&#x27;: [1, 10, 100, 1000, 10000],\n",
       "                         &#x27;gamma&#x27;: [1e-06, 1e-05, 0.0001, 0.001, 0.01, 0.1]},\n",
       "             verbose=1)</pre><b>In a Jupyter environment, please rerun this cell to show the HTML representation or trust the notebook. <br />On GitHub, the HTML representation is unable to render, please try loading this page with nbviewer.org.</b></div><div class=\"sk-container\" hidden><div class=\"sk-item sk-dashed-wrapped\"><div class=\"sk-label-container\"><div class=\"sk-label sk-toggleable\"><input class=\"sk-toggleable__control sk-hidden--visually\" id=\"sk-estimator-id-17\" type=\"checkbox\" ><label for=\"sk-estimator-id-17\" class=\"sk-toggleable__label sk-toggleable__label-arrow\">GridSearchCV</label><div class=\"sk-toggleable__content\"><pre>GridSearchCV(cv=KFold(n_splits=5, random_state=42, shuffle=True),\n",
       "             estimator=SVR(epsilon=0.2), n_jobs=-1,\n",
       "             param_grid={&#x27;C&#x27;: [1, 10, 100, 1000, 10000],\n",
       "                         &#x27;gamma&#x27;: [1e-06, 1e-05, 0.0001, 0.001, 0.01, 0.1]},\n",
       "             verbose=1)</pre></div></div></div><div class=\"sk-parallel\"><div class=\"sk-parallel-item\"><div class=\"sk-item\"><div class=\"sk-label-container\"><div class=\"sk-label sk-toggleable\"><input class=\"sk-toggleable__control sk-hidden--visually\" id=\"sk-estimator-id-18\" type=\"checkbox\" ><label for=\"sk-estimator-id-18\" class=\"sk-toggleable__label sk-toggleable__label-arrow\">estimator: SVR</label><div class=\"sk-toggleable__content\"><pre>SVR(epsilon=0.2)</pre></div></div></div><div class=\"sk-serial\"><div class=\"sk-item\"><div class=\"sk-estimator sk-toggleable\"><input class=\"sk-toggleable__control sk-hidden--visually\" id=\"sk-estimator-id-19\" type=\"checkbox\" ><label for=\"sk-estimator-id-19\" class=\"sk-toggleable__label sk-toggleable__label-arrow\">SVR</label><div class=\"sk-toggleable__content\"><pre>SVR(epsilon=0.2)</pre></div></div></div></div></div></div></div></div></div></div>"
      ],
      "text/plain": [
       "GridSearchCV(cv=KFold(n_splits=5, random_state=42, shuffle=True),\n",
       "             estimator=SVR(epsilon=0.2), n_jobs=-1,\n",
       "             param_grid={'C': [1, 10, 100, 1000, 10000],\n",
       "                         'gamma': [1e-06, 1e-05, 0.0001, 0.001, 0.01, 0.1]},\n",
       "             verbose=1)"
      ]
     },
     "execution_count": 233,
     "metadata": {},
     "output_type": "execute_result"
    }
   ],
   "source": [
    "svm.fit(X_rfe, y_tr)"
   ]
  },
  {
   "cell_type": "code",
   "execution_count": 234,
   "metadata": {},
   "outputs": [],
   "source": [
    "svm.best_params_\n",
    "best_svm = svm.best_estimator_"
   ]
  },
  {
   "cell_type": "code",
   "execution_count": 235,
   "metadata": {},
   "outputs": [
    {
     "data": {
      "text/plain": [
       "{'C': 10, 'gamma': 0.1}"
      ]
     },
     "execution_count": 235,
     "metadata": {},
     "output_type": "execute_result"
    }
   ],
   "source": [
    "svm.best_params_"
   ]
  },
  {
   "cell_type": "code",
   "execution_count": 331,
   "metadata": {},
   "outputs": [],
   "source": [
    "y_pred_CV_svm = cross_val_predict(best_svm, X_rfe, y_tr, cv=cv)"
   ]
  },
  {
   "cell_type": "code",
   "execution_count": 332,
   "metadata": {},
   "outputs": [
    {
     "data": {
      "text/plain": [
       "0.61"
      ]
     },
     "execution_count": 332,
     "metadata": {},
     "output_type": "execute_result"
    }
   ],
   "source": [
    "Q2_CV = round(r2_score(y_tr, y_pred_CV_svm), 2)\n",
    "Q2_CV"
   ]
  },
  {
   "cell_type": "code",
   "execution_count": 333,
   "metadata": {},
   "outputs": [
    {
     "data": {
      "text/plain": [
       "0.76"
      ]
     },
     "execution_count": 333,
     "metadata": {},
     "output_type": "execute_result"
    }
   ],
   "source": [
    "RMSE_CV=round(np.sqrt(mean_squared_error(y_tr, y_pred_CV_svm)), 2)\n",
    "RMSE_CV"
   ]
  },
  {
   "cell_type": "markdown",
   "metadata": {},
   "source": [
    "#  Prediction for test set's molecules"
   ]
  },
  {
   "cell_type": "code",
   "execution_count": 239,
   "metadata": {},
   "outputs": [],
   "source": [
    "x_ts = np.array(x_ts, dtype=np.float32)\n",
    "y_ts = np.array(y_ts, dtype=np.float32)"
   ]
  },
  {
   "cell_type": "code",
   "execution_count": 240,
   "metadata": {},
   "outputs": [],
   "source": [
    "y_pred_svm = best_svm.predict(x_ts)"
   ]
  },
  {
   "cell_type": "code",
   "execution_count": 241,
   "metadata": {},
   "outputs": [
    {
     "data": {
      "text/plain": [
       "0.65"
      ]
     },
     "execution_count": 241,
     "metadata": {},
     "output_type": "execute_result"
    }
   ],
   "source": [
    "Q2_TS = round(r2_score(y_ts, y_pred_svm), 2)\n",
    "Q2_TS"
   ]
  },
  {
   "cell_type": "code",
   "execution_count": 242,
   "metadata": {},
   "outputs": [
    {
     "data": {
      "text/plain": [
       "0.73"
      ]
     },
     "execution_count": 242,
     "metadata": {},
     "output_type": "execute_result"
    }
   ],
   "source": [
    "RMSE_TS=round(np.sqrt(mean_squared_error(y_ts, y_pred_svm)), 2)\n",
    "RMSE_TS"
   ]
  },
  {
   "cell_type": "markdown",
   "metadata": {},
   "source": [
    "save the model to disk"
   ]
  },
  {
   "cell_type": "code",
   "execution_count": 274,
   "metadata": {},
   "outputs": [],
   "source": [
    "pickle.dump(best_svm, open('Models/Padels/HDAC3_SVM_PubChem.pkl', 'wb'))"
   ]
  },
  {
   "cell_type": "markdown",
   "metadata": {},
   "source": [
    "load the model from disk"
   ]
  },
  {
   "cell_type": "code",
   "execution_count": 275,
   "metadata": {},
   "outputs": [],
   "source": [
    "best_svm = pickle.load(open('Models/Padels/HDAC3_SVM_PubChem.pkl', 'rb'))"
   ]
  },
  {
   "cell_type": "markdown",
   "metadata": {},
   "source": [
    "# 10. Y-randomization SVM model"
   ]
  },
  {
   "cell_type": "code",
   "execution_count": 276,
   "metadata": {},
   "outputs": [
    {
     "name": "stderr",
     "output_type": "stream",
     "text": [
      "[Parallel(n_jobs=-1)]: Using backend LokyBackend with 16 concurrent workers.\n",
      "[Parallel(n_jobs=-1)]: Done  18 tasks      | elapsed:    4.9s\n"
     ]
    },
    {
     "name": "stdout",
     "output_type": "stream",
     "text": [
      "True score =  0.608 \n",
      "Y-randomization =  -0.33 \n",
      "p-value =  0.0196\n"
     ]
    },
    {
     "name": "stderr",
     "output_type": "stream",
     "text": [
      "[Parallel(n_jobs=-1)]: Done  50 out of  50 | elapsed:    7.6s finished\n"
     ]
    }
   ],
   "source": [
    "permutations = 50\n",
    "score, permutation_scores, pvalue = permutation_test_score(best_svm, X_rfe, y_tr,\n",
    "                                                           cv=cv, scoring='r2',\n",
    "                                                           n_permutations=permutations,\n",
    "                                                           n_jobs=-1,\n",
    "                                                           verbose=1,\n",
    "                                                           random_state=seed)\n",
    "print('True score = ', score.round(3),\n",
    "      '\\nY-randomization = ', np.mean(permutation_scores).round(2),\n",
    "      '\\np-value = ', pvalue.round(4))"
   ]
  },
  {
   "cell_type": "markdown",
   "metadata": {},
   "source": [
    "# 11. Estimating applicability domain. Method - Euclidian distances, K=1"
   ]
  },
  {
   "cell_type": "code",
   "execution_count": 304,
   "metadata": {},
   "outputs": [],
   "source": [
    "neighbors_k= pairwise_distances(X_rfe, n_jobs=-1)\n",
    "neighbors_k.sort(0)"
   ]
  },
  {
   "cell_type": "code",
   "execution_count": 305,
   "metadata": {},
   "outputs": [
    {
     "data": {
      "text/html": [
       "<div>\n",
       "<style scoped>\n",
       "    .dataframe tbody tr th:only-of-type {\n",
       "        vertical-align: middle;\n",
       "    }\n",
       "\n",
       "    .dataframe tbody tr th {\n",
       "        vertical-align: top;\n",
       "    }\n",
       "\n",
       "    .dataframe thead th {\n",
       "        text-align: right;\n",
       "    }\n",
       "</style>\n",
       "<table border=\"1\" class=\"dataframe\">\n",
       "  <thead>\n",
       "    <tr style=\"text-align: right;\">\n",
       "      <th></th>\n",
       "      <th>0</th>\n",
       "      <th>1</th>\n",
       "      <th>2</th>\n",
       "      <th>3</th>\n",
       "      <th>4</th>\n",
       "      <th>5</th>\n",
       "      <th>6</th>\n",
       "      <th>7</th>\n",
       "      <th>8</th>\n",
       "      <th>9</th>\n",
       "      <th>...</th>\n",
       "      <th>1390</th>\n",
       "      <th>1391</th>\n",
       "      <th>1392</th>\n",
       "      <th>1393</th>\n",
       "      <th>1394</th>\n",
       "      <th>1395</th>\n",
       "      <th>1396</th>\n",
       "      <th>1397</th>\n",
       "      <th>1398</th>\n",
       "      <th>1399</th>\n",
       "    </tr>\n",
       "  </thead>\n",
       "  <tbody>\n",
       "    <tr>\n",
       "      <th>0</th>\n",
       "      <td>0.000000</td>\n",
       "      <td>0.000000</td>\n",
       "      <td>0.000000</td>\n",
       "      <td>0.000000</td>\n",
       "      <td>0.000000</td>\n",
       "      <td>0.000000</td>\n",
       "      <td>0.000000</td>\n",
       "      <td>0.000000</td>\n",
       "      <td>0.000000</td>\n",
       "      <td>0.000000</td>\n",
       "      <td>...</td>\n",
       "      <td>0.000000</td>\n",
       "      <td>0.000000</td>\n",
       "      <td>0.000000</td>\n",
       "      <td>0.000000</td>\n",
       "      <td>0.000000</td>\n",
       "      <td>0.000000</td>\n",
       "      <td>0.000000</td>\n",
       "      <td>0.000000</td>\n",
       "      <td>0.000000</td>\n",
       "      <td>0.000000</td>\n",
       "    </tr>\n",
       "    <tr>\n",
       "      <th>1</th>\n",
       "      <td>0.000000</td>\n",
       "      <td>0.000000</td>\n",
       "      <td>1.732051</td>\n",
       "      <td>0.000000</td>\n",
       "      <td>2.449490</td>\n",
       "      <td>2.449490</td>\n",
       "      <td>1.000000</td>\n",
       "      <td>3.000000</td>\n",
       "      <td>3.316625</td>\n",
       "      <td>3.162278</td>\n",
       "      <td>...</td>\n",
       "      <td>2.236068</td>\n",
       "      <td>1.000000</td>\n",
       "      <td>2.000000</td>\n",
       "      <td>2.000000</td>\n",
       "      <td>2.000000</td>\n",
       "      <td>0.000000</td>\n",
       "      <td>1.000000</td>\n",
       "      <td>0.000000</td>\n",
       "      <td>4.690416</td>\n",
       "      <td>2.828427</td>\n",
       "    </tr>\n",
       "    <tr>\n",
       "      <th>2</th>\n",
       "      <td>0.000000</td>\n",
       "      <td>0.000000</td>\n",
       "      <td>2.449490</td>\n",
       "      <td>2.828427</td>\n",
       "      <td>3.162278</td>\n",
       "      <td>3.464102</td>\n",
       "      <td>3.316625</td>\n",
       "      <td>3.605551</td>\n",
       "      <td>3.464102</td>\n",
       "      <td>3.316625</td>\n",
       "      <td>...</td>\n",
       "      <td>4.123106</td>\n",
       "      <td>2.236068</td>\n",
       "      <td>2.236068</td>\n",
       "      <td>2.449490</td>\n",
       "      <td>2.449490</td>\n",
       "      <td>0.000000</td>\n",
       "      <td>2.449490</td>\n",
       "      <td>0.000000</td>\n",
       "      <td>4.898980</td>\n",
       "      <td>2.828427</td>\n",
       "    </tr>\n",
       "    <tr>\n",
       "      <th>3</th>\n",
       "      <td>0.000000</td>\n",
       "      <td>1.000000</td>\n",
       "      <td>2.449490</td>\n",
       "      <td>2.828427</td>\n",
       "      <td>4.242640</td>\n",
       "      <td>3.872983</td>\n",
       "      <td>3.741657</td>\n",
       "      <td>4.000000</td>\n",
       "      <td>3.872983</td>\n",
       "      <td>3.605551</td>\n",
       "      <td>...</td>\n",
       "      <td>4.123106</td>\n",
       "      <td>2.449490</td>\n",
       "      <td>2.236068</td>\n",
       "      <td>2.449490</td>\n",
       "      <td>2.645751</td>\n",
       "      <td>1.000000</td>\n",
       "      <td>2.828427</td>\n",
       "      <td>1.000000</td>\n",
       "      <td>5.000000</td>\n",
       "      <td>3.162278</td>\n",
       "    </tr>\n",
       "    <tr>\n",
       "      <th>4</th>\n",
       "      <td>1.000000</td>\n",
       "      <td>2.236068</td>\n",
       "      <td>2.645751</td>\n",
       "      <td>2.828427</td>\n",
       "      <td>4.242640</td>\n",
       "      <td>4.000000</td>\n",
       "      <td>4.000000</td>\n",
       "      <td>4.123106</td>\n",
       "      <td>3.872983</td>\n",
       "      <td>3.605551</td>\n",
       "      <td>...</td>\n",
       "      <td>4.123106</td>\n",
       "      <td>4.123106</td>\n",
       "      <td>2.236068</td>\n",
       "      <td>2.645751</td>\n",
       "      <td>2.645751</td>\n",
       "      <td>1.414214</td>\n",
       "      <td>2.828427</td>\n",
       "      <td>1.414214</td>\n",
       "      <td>5.000000</td>\n",
       "      <td>3.316625</td>\n",
       "    </tr>\n",
       "    <tr>\n",
       "      <th>...</th>\n",
       "      <td>...</td>\n",
       "      <td>...</td>\n",
       "      <td>...</td>\n",
       "      <td>...</td>\n",
       "      <td>...</td>\n",
       "      <td>...</td>\n",
       "      <td>...</td>\n",
       "      <td>...</td>\n",
       "      <td>...</td>\n",
       "      <td>...</td>\n",
       "      <td>...</td>\n",
       "      <td>...</td>\n",
       "      <td>...</td>\n",
       "      <td>...</td>\n",
       "      <td>...</td>\n",
       "      <td>...</td>\n",
       "      <td>...</td>\n",
       "      <td>...</td>\n",
       "      <td>...</td>\n",
       "      <td>...</td>\n",
       "      <td>...</td>\n",
       "    </tr>\n",
       "    <tr>\n",
       "      <th>1395</th>\n",
       "      <td>8.602325</td>\n",
       "      <td>8.485281</td>\n",
       "      <td>8.000000</td>\n",
       "      <td>8.306623</td>\n",
       "      <td>8.831760</td>\n",
       "      <td>8.944272</td>\n",
       "      <td>8.888194</td>\n",
       "      <td>8.831760</td>\n",
       "      <td>8.944272</td>\n",
       "      <td>8.366600</td>\n",
       "      <td>...</td>\n",
       "      <td>8.246211</td>\n",
       "      <td>8.660254</td>\n",
       "      <td>8.944272</td>\n",
       "      <td>8.831760</td>\n",
       "      <td>8.831760</td>\n",
       "      <td>8.944272</td>\n",
       "      <td>9.165152</td>\n",
       "      <td>8.944272</td>\n",
       "      <td>9.055386</td>\n",
       "      <td>9.380832</td>\n",
       "    </tr>\n",
       "    <tr>\n",
       "      <th>1396</th>\n",
       "      <td>8.602325</td>\n",
       "      <td>8.485281</td>\n",
       "      <td>8.000000</td>\n",
       "      <td>8.306623</td>\n",
       "      <td>8.888194</td>\n",
       "      <td>8.944272</td>\n",
       "      <td>8.888194</td>\n",
       "      <td>8.888194</td>\n",
       "      <td>8.944272</td>\n",
       "      <td>8.366600</td>\n",
       "      <td>...</td>\n",
       "      <td>8.306623</td>\n",
       "      <td>8.660254</td>\n",
       "      <td>8.944272</td>\n",
       "      <td>8.944272</td>\n",
       "      <td>8.831760</td>\n",
       "      <td>9.000000</td>\n",
       "      <td>9.219544</td>\n",
       "      <td>9.000000</td>\n",
       "      <td>9.110434</td>\n",
       "      <td>9.380832</td>\n",
       "    </tr>\n",
       "    <tr>\n",
       "      <th>1397</th>\n",
       "      <td>8.602325</td>\n",
       "      <td>8.544003</td>\n",
       "      <td>8.000000</td>\n",
       "      <td>8.366600</td>\n",
       "      <td>8.888194</td>\n",
       "      <td>9.000000</td>\n",
       "      <td>8.888194</td>\n",
       "      <td>8.944272</td>\n",
       "      <td>9.000000</td>\n",
       "      <td>8.366600</td>\n",
       "      <td>...</td>\n",
       "      <td>8.366600</td>\n",
       "      <td>8.717798</td>\n",
       "      <td>8.944272</td>\n",
       "      <td>8.944272</td>\n",
       "      <td>8.888194</td>\n",
       "      <td>9.000000</td>\n",
       "      <td>9.219544</td>\n",
       "      <td>9.000000</td>\n",
       "      <td>9.165152</td>\n",
       "      <td>9.539392</td>\n",
       "    </tr>\n",
       "    <tr>\n",
       "      <th>1398</th>\n",
       "      <td>8.660254</td>\n",
       "      <td>8.544003</td>\n",
       "      <td>8.124039</td>\n",
       "      <td>8.426149</td>\n",
       "      <td>8.944272</td>\n",
       "      <td>9.000000</td>\n",
       "      <td>8.944272</td>\n",
       "      <td>8.944272</td>\n",
       "      <td>9.000000</td>\n",
       "      <td>8.426149</td>\n",
       "      <td>...</td>\n",
       "      <td>8.485281</td>\n",
       "      <td>8.717798</td>\n",
       "      <td>9.110434</td>\n",
       "      <td>9.000000</td>\n",
       "      <td>8.888194</td>\n",
       "      <td>9.000000</td>\n",
       "      <td>9.219544</td>\n",
       "      <td>9.000000</td>\n",
       "      <td>9.165152</td>\n",
       "      <td>9.591663</td>\n",
       "    </tr>\n",
       "    <tr>\n",
       "      <th>1399</th>\n",
       "      <td>8.660254</td>\n",
       "      <td>8.602325</td>\n",
       "      <td>8.306623</td>\n",
       "      <td>8.485281</td>\n",
       "      <td>9.110434</td>\n",
       "      <td>9.000000</td>\n",
       "      <td>9.055386</td>\n",
       "      <td>9.000000</td>\n",
       "      <td>9.000000</td>\n",
       "      <td>8.426149</td>\n",
       "      <td>...</td>\n",
       "      <td>8.544003</td>\n",
       "      <td>8.831760</td>\n",
       "      <td>9.165152</td>\n",
       "      <td>9.110434</td>\n",
       "      <td>9.000000</td>\n",
       "      <td>9.165152</td>\n",
       "      <td>9.380832</td>\n",
       "      <td>9.165152</td>\n",
       "      <td>9.273619</td>\n",
       "      <td>9.695360</td>\n",
       "    </tr>\n",
       "  </tbody>\n",
       "</table>\n",
       "<p>1400 rows × 1400 columns</p>\n",
       "</div>"
      ],
      "text/plain": [
       "          0         1         2         3         4         5         6     \\\n",
       "0     0.000000  0.000000  0.000000  0.000000  0.000000  0.000000  0.000000   \n",
       "1     0.000000  0.000000  1.732051  0.000000  2.449490  2.449490  1.000000   \n",
       "2     0.000000  0.000000  2.449490  2.828427  3.162278  3.464102  3.316625   \n",
       "3     0.000000  1.000000  2.449490  2.828427  4.242640  3.872983  3.741657   \n",
       "4     1.000000  2.236068  2.645751  2.828427  4.242640  4.000000  4.000000   \n",
       "...        ...       ...       ...       ...       ...       ...       ...   \n",
       "1395  8.602325  8.485281  8.000000  8.306623  8.831760  8.944272  8.888194   \n",
       "1396  8.602325  8.485281  8.000000  8.306623  8.888194  8.944272  8.888194   \n",
       "1397  8.602325  8.544003  8.000000  8.366600  8.888194  9.000000  8.888194   \n",
       "1398  8.660254  8.544003  8.124039  8.426149  8.944272  9.000000  8.944272   \n",
       "1399  8.660254  8.602325  8.306623  8.485281  9.110434  9.000000  9.055386   \n",
       "\n",
       "          7         8         9     ...      1390      1391      1392  \\\n",
       "0     0.000000  0.000000  0.000000  ...  0.000000  0.000000  0.000000   \n",
       "1     3.000000  3.316625  3.162278  ...  2.236068  1.000000  2.000000   \n",
       "2     3.605551  3.464102  3.316625  ...  4.123106  2.236068  2.236068   \n",
       "3     4.000000  3.872983  3.605551  ...  4.123106  2.449490  2.236068   \n",
       "4     4.123106  3.872983  3.605551  ...  4.123106  4.123106  2.236068   \n",
       "...        ...       ...       ...  ...       ...       ...       ...   \n",
       "1395  8.831760  8.944272  8.366600  ...  8.246211  8.660254  8.944272   \n",
       "1396  8.888194  8.944272  8.366600  ...  8.306623  8.660254  8.944272   \n",
       "1397  8.944272  9.000000  8.366600  ...  8.366600  8.717798  8.944272   \n",
       "1398  8.944272  9.000000  8.426149  ...  8.485281  8.717798  9.110434   \n",
       "1399  9.000000  9.000000  8.426149  ...  8.544003  8.831760  9.165152   \n",
       "\n",
       "          1393      1394      1395      1396      1397      1398      1399  \n",
       "0     0.000000  0.000000  0.000000  0.000000  0.000000  0.000000  0.000000  \n",
       "1     2.000000  2.000000  0.000000  1.000000  0.000000  4.690416  2.828427  \n",
       "2     2.449490  2.449490  0.000000  2.449490  0.000000  4.898980  2.828427  \n",
       "3     2.449490  2.645751  1.000000  2.828427  1.000000  5.000000  3.162278  \n",
       "4     2.645751  2.645751  1.414214  2.828427  1.414214  5.000000  3.316625  \n",
       "...        ...       ...       ...       ...       ...       ...       ...  \n",
       "1395  8.831760  8.831760  8.944272  9.165152  8.944272  9.055386  9.380832  \n",
       "1396  8.944272  8.831760  9.000000  9.219544  9.000000  9.110434  9.380832  \n",
       "1397  8.944272  8.888194  9.000000  9.219544  9.000000  9.165152  9.539392  \n",
       "1398  9.000000  8.888194  9.000000  9.219544  9.000000  9.165152  9.591663  \n",
       "1399  9.110434  9.000000  9.165152  9.380832  9.165152  9.273619  9.695360  \n",
       "\n",
       "[1400 rows x 1400 columns]"
      ]
     },
     "execution_count": 305,
     "metadata": {},
     "output_type": "execute_result"
    }
   ],
   "source": [
    "df_tr=pd.DataFrame(neighbors_k)\n",
    "df_tr"
   ]
  },
  {
   "cell_type": "code",
   "execution_count": 306,
   "metadata": {},
   "outputs": [],
   "source": [
    "similarity= neighbors_k"
   ]
  },
  {
   "cell_type": "code",
   "execution_count": 307,
   "metadata": {},
   "outputs": [],
   "source": [
    "Dmean=np.mean(similarity[1,:])"
   ]
  },
  {
   "cell_type": "code",
   "execution_count": 308,
   "metadata": {},
   "outputs": [
    {
     "data": {
      "text/plain": [
       "1.89"
      ]
     },
     "execution_count": 308,
     "metadata": {},
     "output_type": "execute_result"
    }
   ],
   "source": [
    "round(Dmean, 2)"
   ]
  },
  {
   "cell_type": "code",
   "execution_count": 309,
   "metadata": {},
   "outputs": [],
   "source": [
    "std=np.std(similarity[1,:])"
   ]
  },
  {
   "cell_type": "code",
   "execution_count": 310,
   "metadata": {},
   "outputs": [
    {
     "data": {
      "text/plain": [
       "1.27"
      ]
     },
     "execution_count": 310,
     "metadata": {},
     "output_type": "execute_result"
    }
   ],
   "source": [
    "round(std, 2)"
   ]
  },
  {
   "cell_type": "code",
   "execution_count": 311,
   "metadata": {},
   "outputs": [
    {
     "name": "stdout",
     "output_type": "stream",
     "text": [
      "2.53\n"
     ]
    }
   ],
   "source": [
    "model_AD_limit=Dmean+std*0.5\n",
    "print(np.round(model_AD_limit, 2))"
   ]
  },
  {
   "cell_type": "code",
   "execution_count": 312,
   "metadata": {},
   "outputs": [],
   "source": [
    "x_ts=desc_ts[feature_name_rfecv]"
   ]
  },
  {
   "cell_type": "code",
   "execution_count": 313,
   "metadata": {},
   "outputs": [],
   "source": [
    "neighbors_k_ts= pairwise_distances(X_rfe,Y=x_ts, n_jobs=-1)\n",
    "neighbors_k_ts.sort(0)"
   ]
  },
  {
   "cell_type": "code",
   "execution_count": 314,
   "metadata": {},
   "outputs": [
    {
     "data": {
      "text/html": [
       "<div>\n",
       "<style scoped>\n",
       "    .dataframe tbody tr th:only-of-type {\n",
       "        vertical-align: middle;\n",
       "    }\n",
       "\n",
       "    .dataframe tbody tr th {\n",
       "        vertical-align: top;\n",
       "    }\n",
       "\n",
       "    .dataframe thead th {\n",
       "        text-align: right;\n",
       "    }\n",
       "</style>\n",
       "<table border=\"1\" class=\"dataframe\">\n",
       "  <thead>\n",
       "    <tr style=\"text-align: right;\">\n",
       "      <th></th>\n",
       "      <th>0</th>\n",
       "      <th>1</th>\n",
       "      <th>2</th>\n",
       "      <th>3</th>\n",
       "      <th>4</th>\n",
       "      <th>5</th>\n",
       "      <th>6</th>\n",
       "      <th>7</th>\n",
       "      <th>8</th>\n",
       "      <th>9</th>\n",
       "      <th>...</th>\n",
       "      <th>341</th>\n",
       "      <th>342</th>\n",
       "      <th>343</th>\n",
       "      <th>344</th>\n",
       "      <th>345</th>\n",
       "      <th>346</th>\n",
       "      <th>347</th>\n",
       "      <th>348</th>\n",
       "      <th>349</th>\n",
       "      <th>350</th>\n",
       "    </tr>\n",
       "  </thead>\n",
       "  <tbody>\n",
       "    <tr>\n",
       "      <th>0</th>\n",
       "      <td>0.000000</td>\n",
       "      <td>3.162278</td>\n",
       "      <td>5.567764</td>\n",
       "      <td>2.000000</td>\n",
       "      <td>1.732051</td>\n",
       "      <td>3.605551</td>\n",
       "      <td>1.000000</td>\n",
       "      <td>1.732051</td>\n",
       "      <td>2.828427</td>\n",
       "      <td>3.162278</td>\n",
       "      <td>...</td>\n",
       "      <td>0.000000</td>\n",
       "      <td>2.645751</td>\n",
       "      <td>2.000000</td>\n",
       "      <td>1.732051</td>\n",
       "      <td>1.732051</td>\n",
       "      <td>2.000000</td>\n",
       "      <td>1.414214</td>\n",
       "      <td>2.000000</td>\n",
       "      <td>3.464102</td>\n",
       "      <td>2.236068</td>\n",
       "    </tr>\n",
       "    <tr>\n",
       "      <th>1</th>\n",
       "      <td>0.000000</td>\n",
       "      <td>4.898979</td>\n",
       "      <td>5.656854</td>\n",
       "      <td>3.316625</td>\n",
       "      <td>2.449490</td>\n",
       "      <td>4.000000</td>\n",
       "      <td>3.316625</td>\n",
       "      <td>1.732051</td>\n",
       "      <td>2.828427</td>\n",
       "      <td>3.162278</td>\n",
       "      <td>...</td>\n",
       "      <td>1.000000</td>\n",
       "      <td>3.000000</td>\n",
       "      <td>2.236068</td>\n",
       "      <td>2.000000</td>\n",
       "      <td>3.316625</td>\n",
       "      <td>2.236068</td>\n",
       "      <td>2.000000</td>\n",
       "      <td>2.236068</td>\n",
       "      <td>3.605551</td>\n",
       "      <td>2.645751</td>\n",
       "    </tr>\n",
       "    <tr>\n",
       "      <th>2</th>\n",
       "      <td>0.000000</td>\n",
       "      <td>5.744563</td>\n",
       "      <td>5.656854</td>\n",
       "      <td>3.464102</td>\n",
       "      <td>2.828427</td>\n",
       "      <td>4.123106</td>\n",
       "      <td>3.464102</td>\n",
       "      <td>2.000000</td>\n",
       "      <td>4.000000</td>\n",
       "      <td>3.316625</td>\n",
       "      <td>...</td>\n",
       "      <td>2.236068</td>\n",
       "      <td>3.000000</td>\n",
       "      <td>2.645751</td>\n",
       "      <td>3.000000</td>\n",
       "      <td>3.316625</td>\n",
       "      <td>2.236068</td>\n",
       "      <td>2.449490</td>\n",
       "      <td>2.449490</td>\n",
       "      <td>3.605551</td>\n",
       "      <td>2.645751</td>\n",
       "    </tr>\n",
       "    <tr>\n",
       "      <th>3</th>\n",
       "      <td>0.000000</td>\n",
       "      <td>5.744563</td>\n",
       "      <td>5.656854</td>\n",
       "      <td>3.605551</td>\n",
       "      <td>3.464102</td>\n",
       "      <td>4.123106</td>\n",
       "      <td>3.741657</td>\n",
       "      <td>2.828427</td>\n",
       "      <td>4.242641</td>\n",
       "      <td>3.872983</td>\n",
       "      <td>...</td>\n",
       "      <td>2.449490</td>\n",
       "      <td>3.000000</td>\n",
       "      <td>2.828427</td>\n",
       "      <td>3.000000</td>\n",
       "      <td>3.316625</td>\n",
       "      <td>2.236068</td>\n",
       "      <td>2.645751</td>\n",
       "      <td>2.449490</td>\n",
       "      <td>3.605551</td>\n",
       "      <td>2.828427</td>\n",
       "    </tr>\n",
       "    <tr>\n",
       "      <th>4</th>\n",
       "      <td>1.000000</td>\n",
       "      <td>5.830952</td>\n",
       "      <td>5.830952</td>\n",
       "      <td>3.872983</td>\n",
       "      <td>5.099020</td>\n",
       "      <td>4.242641</td>\n",
       "      <td>4.000000</td>\n",
       "      <td>3.316625</td>\n",
       "      <td>4.472136</td>\n",
       "      <td>4.242641</td>\n",
       "      <td>...</td>\n",
       "      <td>3.464102</td>\n",
       "      <td>3.162278</td>\n",
       "      <td>4.358899</td>\n",
       "      <td>3.162278</td>\n",
       "      <td>3.741657</td>\n",
       "      <td>2.449490</td>\n",
       "      <td>2.645751</td>\n",
       "      <td>2.645751</td>\n",
       "      <td>3.605551</td>\n",
       "      <td>2.828427</td>\n",
       "    </tr>\n",
       "    <tr>\n",
       "      <th>...</th>\n",
       "      <td>...</td>\n",
       "      <td>...</td>\n",
       "      <td>...</td>\n",
       "      <td>...</td>\n",
       "      <td>...</td>\n",
       "      <td>...</td>\n",
       "      <td>...</td>\n",
       "      <td>...</td>\n",
       "      <td>...</td>\n",
       "      <td>...</td>\n",
       "      <td>...</td>\n",
       "      <td>...</td>\n",
       "      <td>...</td>\n",
       "      <td>...</td>\n",
       "      <td>...</td>\n",
       "      <td>...</td>\n",
       "      <td>...</td>\n",
       "      <td>...</td>\n",
       "      <td>...</td>\n",
       "      <td>...</td>\n",
       "      <td>...</td>\n",
       "    </tr>\n",
       "    <tr>\n",
       "      <th>1395</th>\n",
       "      <td>8.602325</td>\n",
       "      <td>8.426150</td>\n",
       "      <td>8.717798</td>\n",
       "      <td>9.165151</td>\n",
       "      <td>9.110434</td>\n",
       "      <td>9.219544</td>\n",
       "      <td>9.000000</td>\n",
       "      <td>9.433981</td>\n",
       "      <td>8.185353</td>\n",
       "      <td>9.433981</td>\n",
       "      <td>...</td>\n",
       "      <td>8.544004</td>\n",
       "      <td>8.485281</td>\n",
       "      <td>8.774964</td>\n",
       "      <td>9.327379</td>\n",
       "      <td>9.219544</td>\n",
       "      <td>8.888194</td>\n",
       "      <td>9.165151</td>\n",
       "      <td>9.000000</td>\n",
       "      <td>9.055385</td>\n",
       "      <td>8.888194</td>\n",
       "    </tr>\n",
       "    <tr>\n",
       "      <th>1396</th>\n",
       "      <td>8.602325</td>\n",
       "      <td>8.426150</td>\n",
       "      <td>8.717798</td>\n",
       "      <td>9.219544</td>\n",
       "      <td>9.219544</td>\n",
       "      <td>9.219544</td>\n",
       "      <td>9.000000</td>\n",
       "      <td>9.486833</td>\n",
       "      <td>8.246211</td>\n",
       "      <td>9.486833</td>\n",
       "      <td>...</td>\n",
       "      <td>8.544004</td>\n",
       "      <td>8.544004</td>\n",
       "      <td>8.774964</td>\n",
       "      <td>9.380832</td>\n",
       "      <td>9.219544</td>\n",
       "      <td>8.888194</td>\n",
       "      <td>9.165151</td>\n",
       "      <td>9.055385</td>\n",
       "      <td>9.110434</td>\n",
       "      <td>8.944272</td>\n",
       "    </tr>\n",
       "    <tr>\n",
       "      <th>1397</th>\n",
       "      <td>8.602325</td>\n",
       "      <td>8.485281</td>\n",
       "      <td>8.774964</td>\n",
       "      <td>9.380832</td>\n",
       "      <td>9.273618</td>\n",
       "      <td>9.273618</td>\n",
       "      <td>9.055385</td>\n",
       "      <td>9.486833</td>\n",
       "      <td>8.246211</td>\n",
       "      <td>9.486833</td>\n",
       "      <td>...</td>\n",
       "      <td>8.544004</td>\n",
       "      <td>8.544004</td>\n",
       "      <td>8.831761</td>\n",
       "      <td>9.380832</td>\n",
       "      <td>9.380832</td>\n",
       "      <td>8.888194</td>\n",
       "      <td>9.273618</td>\n",
       "      <td>9.110434</td>\n",
       "      <td>9.327379</td>\n",
       "      <td>8.944272</td>\n",
       "    </tr>\n",
       "    <tr>\n",
       "      <th>1398</th>\n",
       "      <td>8.660254</td>\n",
       "      <td>8.485281</td>\n",
       "      <td>8.831761</td>\n",
       "      <td>9.433981</td>\n",
       "      <td>9.327379</td>\n",
       "      <td>9.327379</td>\n",
       "      <td>9.055385</td>\n",
       "      <td>9.591663</td>\n",
       "      <td>8.246211</td>\n",
       "      <td>9.591663</td>\n",
       "      <td>...</td>\n",
       "      <td>8.602325</td>\n",
       "      <td>8.602325</td>\n",
       "      <td>8.888194</td>\n",
       "      <td>9.380832</td>\n",
       "      <td>9.433981</td>\n",
       "      <td>8.888194</td>\n",
       "      <td>9.327379</td>\n",
       "      <td>9.273618</td>\n",
       "      <td>9.433981</td>\n",
       "      <td>9.000000</td>\n",
       "    </tr>\n",
       "    <tr>\n",
       "      <th>1399</th>\n",
       "      <td>8.660254</td>\n",
       "      <td>8.602325</td>\n",
       "      <td>8.888194</td>\n",
       "      <td>9.539392</td>\n",
       "      <td>9.433981</td>\n",
       "      <td>9.433981</td>\n",
       "      <td>9.055385</td>\n",
       "      <td>9.643651</td>\n",
       "      <td>8.306624</td>\n",
       "      <td>9.695360</td>\n",
       "      <td>...</td>\n",
       "      <td>8.660254</td>\n",
       "      <td>8.831761</td>\n",
       "      <td>8.944272</td>\n",
       "      <td>9.539392</td>\n",
       "      <td>9.539392</td>\n",
       "      <td>8.944272</td>\n",
       "      <td>9.380832</td>\n",
       "      <td>9.327379</td>\n",
       "      <td>9.591663</td>\n",
       "      <td>9.327379</td>\n",
       "    </tr>\n",
       "  </tbody>\n",
       "</table>\n",
       "<p>1400 rows × 351 columns</p>\n",
       "</div>"
      ],
      "text/plain": [
       "           0         1         2         3         4         5         6    \\\n",
       "0     0.000000  3.162278  5.567764  2.000000  1.732051  3.605551  1.000000   \n",
       "1     0.000000  4.898979  5.656854  3.316625  2.449490  4.000000  3.316625   \n",
       "2     0.000000  5.744563  5.656854  3.464102  2.828427  4.123106  3.464102   \n",
       "3     0.000000  5.744563  5.656854  3.605551  3.464102  4.123106  3.741657   \n",
       "4     1.000000  5.830952  5.830952  3.872983  5.099020  4.242641  4.000000   \n",
       "...        ...       ...       ...       ...       ...       ...       ...   \n",
       "1395  8.602325  8.426150  8.717798  9.165151  9.110434  9.219544  9.000000   \n",
       "1396  8.602325  8.426150  8.717798  9.219544  9.219544  9.219544  9.000000   \n",
       "1397  8.602325  8.485281  8.774964  9.380832  9.273618  9.273618  9.055385   \n",
       "1398  8.660254  8.485281  8.831761  9.433981  9.327379  9.327379  9.055385   \n",
       "1399  8.660254  8.602325  8.888194  9.539392  9.433981  9.433981  9.055385   \n",
       "\n",
       "           7         8         9    ...       341       342       343  \\\n",
       "0     1.732051  2.828427  3.162278  ...  0.000000  2.645751  2.000000   \n",
       "1     1.732051  2.828427  3.162278  ...  1.000000  3.000000  2.236068   \n",
       "2     2.000000  4.000000  3.316625  ...  2.236068  3.000000  2.645751   \n",
       "3     2.828427  4.242641  3.872983  ...  2.449490  3.000000  2.828427   \n",
       "4     3.316625  4.472136  4.242641  ...  3.464102  3.162278  4.358899   \n",
       "...        ...       ...       ...  ...       ...       ...       ...   \n",
       "1395  9.433981  8.185353  9.433981  ...  8.544004  8.485281  8.774964   \n",
       "1396  9.486833  8.246211  9.486833  ...  8.544004  8.544004  8.774964   \n",
       "1397  9.486833  8.246211  9.486833  ...  8.544004  8.544004  8.831761   \n",
       "1398  9.591663  8.246211  9.591663  ...  8.602325  8.602325  8.888194   \n",
       "1399  9.643651  8.306624  9.695360  ...  8.660254  8.831761  8.944272   \n",
       "\n",
       "           344       345       346       347       348       349       350  \n",
       "0     1.732051  1.732051  2.000000  1.414214  2.000000  3.464102  2.236068  \n",
       "1     2.000000  3.316625  2.236068  2.000000  2.236068  3.605551  2.645751  \n",
       "2     3.000000  3.316625  2.236068  2.449490  2.449490  3.605551  2.645751  \n",
       "3     3.000000  3.316625  2.236068  2.645751  2.449490  3.605551  2.828427  \n",
       "4     3.162278  3.741657  2.449490  2.645751  2.645751  3.605551  2.828427  \n",
       "...        ...       ...       ...       ...       ...       ...       ...  \n",
       "1395  9.327379  9.219544  8.888194  9.165151  9.000000  9.055385  8.888194  \n",
       "1396  9.380832  9.219544  8.888194  9.165151  9.055385  9.110434  8.944272  \n",
       "1397  9.380832  9.380832  8.888194  9.273618  9.110434  9.327379  8.944272  \n",
       "1398  9.380832  9.433981  8.888194  9.327379  9.273618  9.433981  9.000000  \n",
       "1399  9.539392  9.539392  8.944272  9.380832  9.327379  9.591663  9.327379  \n",
       "\n",
       "[1400 rows x 351 columns]"
      ]
     },
     "execution_count": 314,
     "metadata": {},
     "output_type": "execute_result"
    }
   ],
   "source": [
    "x_ts_AD=pd.DataFrame(neighbors_k_ts)\n",
    "x_ts_AD"
   ]
  },
  {
   "cell_type": "code",
   "execution_count": 315,
   "metadata": {},
   "outputs": [
    {
     "name": "stdout",
     "output_type": "stream",
     "text": [
      "[0.    3.162 5.568 2.    1.732 3.606 1.    1.732 2.828 3.162 3.    2.\n",
      " 4.123 2.236 2.236 1.732 1.    2.449 4.472 2.828 1.414 2.449 4.243 0.\n",
      " 0.    1.414 1.    1.    2.646 3.162 1.414 2.    2.449 2.646 2.828 2.\n",
      " 4.    2.    3.317 3.162 5.    4.123 2.828 4.359 3.162 3.    4.583 3.464\n",
      " 0.    0.    1.    3.742 2.646 1.    1.414 4.359 2.    1.    0.    1.\n",
      " 1.    2.    3.317 4.123 4.243 0.    3.464 2.    0.    3.317 3.317 1.414\n",
      " 2.646 1.414 1.    0.    1.    1.    0.    2.236 1.    3.162 2.236 2.\n",
      " 4.    0.    2.449 1.    0.    5.385 0.    5.099 2.449 2.646 0.    2.449\n",
      " 1.    1.732 0.    1.414 3.742 1.    3.873 1.    1.732 0.    3.    1.\n",
      " 1.    1.414 1.    1.    1.414 1.    4.123 1.414 1.    0.    1.732 3.162\n",
      " 3.    2.    1.414 2.646 1.732 2.236 2.236 3.606 1.732 2.    1.    4.\n",
      " 0.    1.732 1.414 0.    0.    1.    3.606 1.    4.472 1.414 1.414 1.732\n",
      " 0.    3.    1.414 1.    3.    3.742 1.    3.    1.414 1.414 0.    2.449\n",
      " 1.732 1.414 2.828 1.732 2.    2.    1.    2.    0.    2.449 4.    0.\n",
      " 3.    2.    0.    0.    0.    1.    2.646 4.359 2.    0.    1.732 2.\n",
      " 2.236 2.828 3.162 2.    0.    3.464 1.414 1.    2.449 1.732 1.414 0.\n",
      " 1.414 1.732 1.732 2.646 2.449 0.    1.    0.    2.828 0.    0.    2.236\n",
      " 0.    2.236 1.732 1.    2.    1.732 1.732 0.    1.732 0.    1.    1.414\n",
      " 0.    0.    1.    3.317 2.449 1.414 1.    1.    2.828 4.472 2.449 0.\n",
      " 1.414 3.162 0.    1.414 2.449 1.732 1.732 1.414 3.464 1.    2.236 0.\n",
      " 1.414 2.646 1.414 4.    1.    2.449 1.    1.    3.606 2.    1.    1.414\n",
      " 1.732 2.236 0.    1.414 0.    1.    1.    1.    3.    1.414 3.317 2.\n",
      " 2.236 2.646 1.414 1.732 0.    1.    0.    2.    2.236 3.873 2.236 0.\n",
      " 3.    0.    3.317 3.162 1.414 1.    1.414 2.236 1.    3.873 1.    2.\n",
      " 4.69  0.    3.464 2.    2.646 4.796 1.732 3.317 2.236 1.    0.    0.\n",
      " 0.    1.    3.162 0.    1.414 3.464 1.    2.646 2.    3.    2.828 2.449\n",
      " 0.    2.828 4.    0.    0.    1.    3.162 1.414 1.414 2.    2.    0.\n",
      " 0.    2.    2.828 0.    0.    1.414 2.449 1.    1.    1.    2.    1.732\n",
      " 1.414 2.449 1.414 1.    2.    0.    2.646 2.    1.732 1.732 2.    1.414\n",
      " 2.    3.464 2.236]\n"
     ]
    }
   ],
   "source": [
    "similarity_ts= neighbors_k_ts\n",
    "cpd_AD=similarity_ts[0,:]\n",
    "cpd_value = np.round(cpd_AD, 3)\n",
    "print(cpd_value)"
   ]
  },
  {
   "cell_type": "code",
   "execution_count": 316,
   "metadata": {},
   "outputs": [
    {
     "name": "stdout",
     "output_type": "stream",
     "text": [
      "[ True False False  True  True False  True  True False False False  True\n",
      " False  True  True  True  True  True False False  True  True False  True\n",
      "  True  True  True  True False False  True  True  True False False  True\n",
      " False  True False False False False False False False False False False\n",
      "  True  True  True False False  True  True False  True  True  True  True\n",
      "  True  True False False False  True False  True  True False False  True\n",
      " False  True  True  True  True  True  True  True  True False  True  True\n",
      " False  True  True  True  True False  True False  True False  True  True\n",
      "  True  True  True  True False  True False  True  True  True False  True\n",
      "  True  True  True  True  True  True False  True  True  True  True False\n",
      " False  True  True False  True  True  True False  True  True  True False\n",
      "  True  True  True  True  True  True False  True False  True  True  True\n",
      "  True False  True  True False False  True False  True  True  True  True\n",
      "  True  True False  True  True  True  True  True  True  True False  True\n",
      " False  True  True  True  True  True False False  True  True  True  True\n",
      "  True False False  True  True False  True  True  True  True  True  True\n",
      "  True  True  True False  True  True  True  True False  True  True  True\n",
      "  True  True  True  True  True  True  True  True  True  True  True  True\n",
      "  True  True  True False  True  True  True  True False False  True  True\n",
      "  True False  True  True  True  True  True  True False  True  True  True\n",
      "  True False  True False  True  True  True  True False  True  True  True\n",
      "  True  True  True  True  True  True  True  True False  True False  True\n",
      "  True False  True  True  True  True  True  True  True False  True  True\n",
      " False  True False False  True  True  True  True  True False  True  True\n",
      " False  True False  True False False  True False  True  True  True  True\n",
      "  True  True False  True  True False  True False  True False False  True\n",
      "  True False False  True  True  True False  True  True  True  True  True\n",
      "  True  True False  True  True  True  True  True  True  True  True  True\n",
      "  True  True  True  True  True  True False  True  True  True  True  True\n",
      "  True False  True]\n"
     ]
    }
   ],
   "source": [
    "cpd_AD = np.where(cpd_value <= model_AD_limit, True, False)\n",
    "print(cpd_AD)"
   ]
  },
  {
   "cell_type": "code",
   "execution_count": 317,
   "metadata": {},
   "outputs": [
    {
     "name": "stdout",
     "output_type": "stream",
     "text": [
      "Coverage =  0.72\n"
     ]
    }
   ],
   "source": [
    "print(\"Coverage = \", round(sum(cpd_AD) / len(cpd_AD), 2))"
   ]
  },
  {
   "cell_type": "code",
   "execution_count": 318,
   "metadata": {},
   "outputs": [
    {
     "name": "stdout",
     "output_type": "stream",
     "text": [
      "Indices of substances included in AD =  [  0   3   4   6   7  11  13  14  15  16  17  20  21  23  24  25  26  27\n",
      "  30  31  32  35  37  48  49  50  53  54  56  57  58  59  60  61  65  67\n",
      "  68  71  73  74  75  76  77  78  79  80  82  83  85  86  87  88  90  92\n",
      "  94  95  96  97  98  99 101 103 104 105 107 108 109 110 111 112 113 115\n",
      " 116 117 118 121 122 124 125 126 128 129 130 132 133 134 135 136 137 139\n",
      " 141 142 143 144 146 147 150 152 153 154 155 156 157 159 160 161 162 163\n",
      " 164 165 167 169 170 171 172 173 176 177 178 179 180 183 184 186 187 188\n",
      " 189 190 191 192 193 194 196 197 198 199 201 202 203 204 205 206 207 208\n",
      " 209 210 211 212 213 214 215 216 217 218 220 221 222 223 226 227 228 230\n",
      " 231 232 233 234 235 237 238 239 240 242 244 245 246 247 249 250 251 252\n",
      " 253 254 255 256 257 258 259 261 263 264 266 267 268 269 270 271 272 274\n",
      " 275 277 280 281 282 283 284 286 287 289 291 294 296 297 298 299 300 301\n",
      " 303 304 306 308 311 312 315 316 317 319 320 321 322 323 324 325 327 328\n",
      " 329 330 331 332 333 334 335 336 337 338 339 340 341 343 344 345 346 347\n",
      " 348 350]\n"
     ]
    }
   ],
   "source": [
    "print(\"Indices of substances included in AD = \", np.where(cpd_AD != 0)[0])"
   ]
  },
  {
   "cell_type": "code",
   "execution_count": 319,
   "metadata": {},
   "outputs": [],
   "source": [
    "out_Ad=list(np.where(cpd_AD == 0)[0])"
   ]
  },
  {
   "cell_type": "markdown",
   "metadata": {},
   "source": [
    "# 12. Prediction only for molecules included in  AD"
   ]
  },
  {
   "cell_type": "code",
   "execution_count": 320,
   "metadata": {},
   "outputs": [],
   "source": [
    "y_pred_svm_ad=list(y_pred_svm)"
   ]
  },
  {
   "cell_type": "code",
   "execution_count": 321,
   "metadata": {},
   "outputs": [],
   "source": [
    "y_pred_svm_ad[:] = [x for i,x in enumerate(y_pred_svm_ad) if i not in out_Ad]"
   ]
  },
  {
   "cell_type": "code",
   "execution_count": 322,
   "metadata": {},
   "outputs": [
    {
     "data": {
      "text/plain": [
       "254"
      ]
     },
     "execution_count": 322,
     "metadata": {},
     "output_type": "execute_result"
    }
   ],
   "source": [
    "len(y_pred_svm_ad)"
   ]
  },
  {
   "cell_type": "code",
   "execution_count": 323,
   "metadata": {},
   "outputs": [],
   "source": [
    "y_ts_ad=list(y_ts)"
   ]
  },
  {
   "cell_type": "code",
   "execution_count": 324,
   "metadata": {},
   "outputs": [],
   "source": [
    "y_ts_ad[:] = [x for i,x in enumerate(y_ts_ad) if i not in out_Ad]"
   ]
  },
  {
   "cell_type": "code",
   "execution_count": 325,
   "metadata": {},
   "outputs": [
    {
     "data": {
      "text/plain": [
       "254"
      ]
     },
     "execution_count": 325,
     "metadata": {},
     "output_type": "execute_result"
    }
   ],
   "source": [
    "len(y_ts_ad)"
   ]
  },
  {
   "cell_type": "code",
   "execution_count": 326,
   "metadata": {},
   "outputs": [
    {
     "data": {
      "text/plain": [
       "0.72"
      ]
     },
     "execution_count": 326,
     "metadata": {},
     "output_type": "execute_result"
    }
   ],
   "source": [
    "Q2_TS = round(r2_score(y_ts_ad, y_pred_svm_ad), 2)\n",
    "Q2_TS"
   ]
  },
  {
   "cell_type": "code",
   "execution_count": 327,
   "metadata": {},
   "outputs": [
    {
     "data": {
      "text/plain": [
       "0.64"
      ]
     },
     "execution_count": 327,
     "metadata": {},
     "output_type": "execute_result"
    }
   ],
   "source": [
    "RMSE_TS=round(np.sqrt(mean_squared_error(y_ts_ad, y_pred_svm_ad)), 2)\n",
    "RMSE_TS"
   ]
  },
  {
   "cell_type": "code",
   "execution_count": null,
   "metadata": {},
   "outputs": [],
   "source": []
  },
  {
   "cell_type": "markdown",
   "metadata": {},
   "source": [
    "## Analyzing the importance of descriptors for the GBM model"
   ]
  },
  {
   "cell_type": "code",
   "execution_count": 328,
   "metadata": {},
   "outputs": [
    {
     "data": {
      "text/html": [
       "<div>\n",
       "<style scoped>\n",
       "    .dataframe tbody tr th:only-of-type {\n",
       "        vertical-align: middle;\n",
       "    }\n",
       "\n",
       "    .dataframe tbody tr th {\n",
       "        vertical-align: top;\n",
       "    }\n",
       "\n",
       "    .dataframe thead th {\n",
       "        text-align: right;\n",
       "    }\n",
       "</style>\n",
       "<table border=\"1\" class=\"dataframe\">\n",
       "  <thead>\n",
       "    <tr style=\"text-align: right;\">\n",
       "      <th></th>\n",
       "      <th>PubchemFP1</th>\n",
       "      <th>PubchemFP2</th>\n",
       "      <th>PubchemFP12</th>\n",
       "      <th>PubchemFP13</th>\n",
       "      <th>PubchemFP16</th>\n",
       "      <th>PubchemFP19</th>\n",
       "      <th>PubchemFP20</th>\n",
       "      <th>PubchemFP24</th>\n",
       "      <th>PubchemFP34</th>\n",
       "      <th>PubchemFP116</th>\n",
       "      <th>...</th>\n",
       "      <th>PubchemFP776</th>\n",
       "      <th>PubchemFP777</th>\n",
       "      <th>PubchemFP779</th>\n",
       "      <th>PubchemFP797</th>\n",
       "      <th>PubchemFP798</th>\n",
       "      <th>PubchemFP800</th>\n",
       "      <th>PubchemFP818</th>\n",
       "      <th>PubchemFP819</th>\n",
       "      <th>PubchemFP821</th>\n",
       "      <th>PubchemFP833</th>\n",
       "    </tr>\n",
       "  </thead>\n",
       "  <tbody>\n",
       "    <tr>\n",
       "      <th>0</th>\n",
       "      <td>1</td>\n",
       "      <td>1</td>\n",
       "      <td>1</td>\n",
       "      <td>0</td>\n",
       "      <td>0</td>\n",
       "      <td>1</td>\n",
       "      <td>0</td>\n",
       "      <td>0</td>\n",
       "      <td>0</td>\n",
       "      <td>0</td>\n",
       "      <td>...</td>\n",
       "      <td>0</td>\n",
       "      <td>0</td>\n",
       "      <td>0</td>\n",
       "      <td>0</td>\n",
       "      <td>0</td>\n",
       "      <td>0</td>\n",
       "      <td>0</td>\n",
       "      <td>0</td>\n",
       "      <td>0</td>\n",
       "      <td>0</td>\n",
       "    </tr>\n",
       "    <tr>\n",
       "      <th>1</th>\n",
       "      <td>1</td>\n",
       "      <td>1</td>\n",
       "      <td>1</td>\n",
       "      <td>0</td>\n",
       "      <td>0</td>\n",
       "      <td>1</td>\n",
       "      <td>0</td>\n",
       "      <td>0</td>\n",
       "      <td>0</td>\n",
       "      <td>0</td>\n",
       "      <td>...</td>\n",
       "      <td>0</td>\n",
       "      <td>0</td>\n",
       "      <td>0</td>\n",
       "      <td>0</td>\n",
       "      <td>0</td>\n",
       "      <td>0</td>\n",
       "      <td>0</td>\n",
       "      <td>0</td>\n",
       "      <td>0</td>\n",
       "      <td>0</td>\n",
       "    </tr>\n",
       "    <tr>\n",
       "      <th>2</th>\n",
       "      <td>0</td>\n",
       "      <td>0</td>\n",
       "      <td>1</td>\n",
       "      <td>0</td>\n",
       "      <td>1</td>\n",
       "      <td>1</td>\n",
       "      <td>1</td>\n",
       "      <td>0</td>\n",
       "      <td>0</td>\n",
       "      <td>0</td>\n",
       "      <td>...</td>\n",
       "      <td>0</td>\n",
       "      <td>0</td>\n",
       "      <td>0</td>\n",
       "      <td>0</td>\n",
       "      <td>0</td>\n",
       "      <td>1</td>\n",
       "      <td>0</td>\n",
       "      <td>0</td>\n",
       "      <td>0</td>\n",
       "      <td>0</td>\n",
       "    </tr>\n",
       "    <tr>\n",
       "      <th>3</th>\n",
       "      <td>1</td>\n",
       "      <td>1</td>\n",
       "      <td>1</td>\n",
       "      <td>0</td>\n",
       "      <td>0</td>\n",
       "      <td>1</td>\n",
       "      <td>0</td>\n",
       "      <td>0</td>\n",
       "      <td>0</td>\n",
       "      <td>0</td>\n",
       "      <td>...</td>\n",
       "      <td>0</td>\n",
       "      <td>0</td>\n",
       "      <td>0</td>\n",
       "      <td>0</td>\n",
       "      <td>0</td>\n",
       "      <td>0</td>\n",
       "      <td>0</td>\n",
       "      <td>0</td>\n",
       "      <td>0</td>\n",
       "      <td>0</td>\n",
       "    </tr>\n",
       "    <tr>\n",
       "      <th>4</th>\n",
       "      <td>1</td>\n",
       "      <td>1</td>\n",
       "      <td>0</td>\n",
       "      <td>0</td>\n",
       "      <td>1</td>\n",
       "      <td>1</td>\n",
       "      <td>0</td>\n",
       "      <td>0</td>\n",
       "      <td>0</td>\n",
       "      <td>0</td>\n",
       "      <td>...</td>\n",
       "      <td>0</td>\n",
       "      <td>0</td>\n",
       "      <td>0</td>\n",
       "      <td>0</td>\n",
       "      <td>0</td>\n",
       "      <td>0</td>\n",
       "      <td>0</td>\n",
       "      <td>0</td>\n",
       "      <td>0</td>\n",
       "      <td>0</td>\n",
       "    </tr>\n",
       "    <tr>\n",
       "      <th>...</th>\n",
       "      <td>...</td>\n",
       "      <td>...</td>\n",
       "      <td>...</td>\n",
       "      <td>...</td>\n",
       "      <td>...</td>\n",
       "      <td>...</td>\n",
       "      <td>...</td>\n",
       "      <td>...</td>\n",
       "      <td>...</td>\n",
       "      <td>...</td>\n",
       "      <td>...</td>\n",
       "      <td>...</td>\n",
       "      <td>...</td>\n",
       "      <td>...</td>\n",
       "      <td>...</td>\n",
       "      <td>...</td>\n",
       "      <td>...</td>\n",
       "      <td>...</td>\n",
       "      <td>...</td>\n",
       "      <td>...</td>\n",
       "      <td>...</td>\n",
       "    </tr>\n",
       "    <tr>\n",
       "      <th>1395</th>\n",
       "      <td>0</td>\n",
       "      <td>0</td>\n",
       "      <td>1</td>\n",
       "      <td>1</td>\n",
       "      <td>1</td>\n",
       "      <td>1</td>\n",
       "      <td>0</td>\n",
       "      <td>0</td>\n",
       "      <td>0</td>\n",
       "      <td>1</td>\n",
       "      <td>...</td>\n",
       "      <td>0</td>\n",
       "      <td>0</td>\n",
       "      <td>0</td>\n",
       "      <td>0</td>\n",
       "      <td>0</td>\n",
       "      <td>0</td>\n",
       "      <td>0</td>\n",
       "      <td>0</td>\n",
       "      <td>1</td>\n",
       "      <td>0</td>\n",
       "    </tr>\n",
       "    <tr>\n",
       "      <th>1396</th>\n",
       "      <td>0</td>\n",
       "      <td>0</td>\n",
       "      <td>1</td>\n",
       "      <td>1</td>\n",
       "      <td>1</td>\n",
       "      <td>1</td>\n",
       "      <td>0</td>\n",
       "      <td>0</td>\n",
       "      <td>0</td>\n",
       "      <td>1</td>\n",
       "      <td>...</td>\n",
       "      <td>0</td>\n",
       "      <td>1</td>\n",
       "      <td>1</td>\n",
       "      <td>1</td>\n",
       "      <td>0</td>\n",
       "      <td>0</td>\n",
       "      <td>0</td>\n",
       "      <td>1</td>\n",
       "      <td>1</td>\n",
       "      <td>0</td>\n",
       "    </tr>\n",
       "    <tr>\n",
       "      <th>1397</th>\n",
       "      <td>0</td>\n",
       "      <td>0</td>\n",
       "      <td>1</td>\n",
       "      <td>1</td>\n",
       "      <td>1</td>\n",
       "      <td>1</td>\n",
       "      <td>0</td>\n",
       "      <td>0</td>\n",
       "      <td>0</td>\n",
       "      <td>1</td>\n",
       "      <td>...</td>\n",
       "      <td>0</td>\n",
       "      <td>0</td>\n",
       "      <td>0</td>\n",
       "      <td>0</td>\n",
       "      <td>0</td>\n",
       "      <td>0</td>\n",
       "      <td>0</td>\n",
       "      <td>0</td>\n",
       "      <td>1</td>\n",
       "      <td>0</td>\n",
       "    </tr>\n",
       "    <tr>\n",
       "      <th>1398</th>\n",
       "      <td>1</td>\n",
       "      <td>1</td>\n",
       "      <td>1</td>\n",
       "      <td>0</td>\n",
       "      <td>1</td>\n",
       "      <td>1</td>\n",
       "      <td>0</td>\n",
       "      <td>0</td>\n",
       "      <td>0</td>\n",
       "      <td>0</td>\n",
       "      <td>...</td>\n",
       "      <td>0</td>\n",
       "      <td>0</td>\n",
       "      <td>0</td>\n",
       "      <td>0</td>\n",
       "      <td>0</td>\n",
       "      <td>0</td>\n",
       "      <td>0</td>\n",
       "      <td>0</td>\n",
       "      <td>0</td>\n",
       "      <td>0</td>\n",
       "    </tr>\n",
       "    <tr>\n",
       "      <th>1399</th>\n",
       "      <td>0</td>\n",
       "      <td>0</td>\n",
       "      <td>1</td>\n",
       "      <td>1</td>\n",
       "      <td>1</td>\n",
       "      <td>1</td>\n",
       "      <td>1</td>\n",
       "      <td>0</td>\n",
       "      <td>0</td>\n",
       "      <td>1</td>\n",
       "      <td>...</td>\n",
       "      <td>0</td>\n",
       "      <td>1</td>\n",
       "      <td>1</td>\n",
       "      <td>1</td>\n",
       "      <td>0</td>\n",
       "      <td>0</td>\n",
       "      <td>0</td>\n",
       "      <td>1</td>\n",
       "      <td>1</td>\n",
       "      <td>0</td>\n",
       "    </tr>\n",
       "  </tbody>\n",
       "</table>\n",
       "<p>1400 rows × 152 columns</p>\n",
       "</div>"
      ],
      "text/plain": [
       "      PubchemFP1  PubchemFP2  PubchemFP12  PubchemFP13  PubchemFP16  \\\n",
       "0              1           1            1            0            0   \n",
       "1              1           1            1            0            0   \n",
       "2              0           0            1            0            1   \n",
       "3              1           1            1            0            0   \n",
       "4              1           1            0            0            1   \n",
       "...          ...         ...          ...          ...          ...   \n",
       "1395           0           0            1            1            1   \n",
       "1396           0           0            1            1            1   \n",
       "1397           0           0            1            1            1   \n",
       "1398           1           1            1            0            1   \n",
       "1399           0           0            1            1            1   \n",
       "\n",
       "      PubchemFP19  PubchemFP20  PubchemFP24  PubchemFP34  PubchemFP116  ...  \\\n",
       "0               1            0            0            0             0  ...   \n",
       "1               1            0            0            0             0  ...   \n",
       "2               1            1            0            0             0  ...   \n",
       "3               1            0            0            0             0  ...   \n",
       "4               1            0            0            0             0  ...   \n",
       "...           ...          ...          ...          ...           ...  ...   \n",
       "1395            1            0            0            0             1  ...   \n",
       "1396            1            0            0            0             1  ...   \n",
       "1397            1            0            0            0             1  ...   \n",
       "1398            1            0            0            0             0  ...   \n",
       "1399            1            1            0            0             1  ...   \n",
       "\n",
       "      PubchemFP776  PubchemFP777  PubchemFP779  PubchemFP797  PubchemFP798  \\\n",
       "0                0             0             0             0             0   \n",
       "1                0             0             0             0             0   \n",
       "2                0             0             0             0             0   \n",
       "3                0             0             0             0             0   \n",
       "4                0             0             0             0             0   \n",
       "...            ...           ...           ...           ...           ...   \n",
       "1395             0             0             0             0             0   \n",
       "1396             0             1             1             1             0   \n",
       "1397             0             0             0             0             0   \n",
       "1398             0             0             0             0             0   \n",
       "1399             0             1             1             1             0   \n",
       "\n",
       "      PubchemFP800  PubchemFP818  PubchemFP819  PubchemFP821  PubchemFP833  \n",
       "0                0             0             0             0             0  \n",
       "1                0             0             0             0             0  \n",
       "2                1             0             0             0             0  \n",
       "3                0             0             0             0             0  \n",
       "4                0             0             0             0             0  \n",
       "...            ...           ...           ...           ...           ...  \n",
       "1395             0             0             0             1             0  \n",
       "1396             0             0             1             1             0  \n",
       "1397             0             0             0             1             0  \n",
       "1398             0             0             0             0             0  \n",
       "1399             0             0             1             1             0  \n",
       "\n",
       "[1400 rows x 152 columns]"
      ]
     },
     "execution_count": 328,
     "metadata": {},
     "output_type": "execute_result"
    }
   ],
   "source": [
    "desc_for_analisis_ws=reduced_df_cor[feature_name_rfecv]\n",
    "desc_for_analisis_ws"
   ]
  },
  {
   "cell_type": "code",
   "execution_count": 349,
   "metadata": {},
   "outputs": [
    {
     "name": "stdout",
     "output_type": "stream",
     "text": [
      "PubchemFP353\n"
     ]
    }
   ],
   "source": [
    "number_feature=38\n",
    "index = number_feature-1\n",
    "column_name = desc_for_analisis_ws.columns[index]\n",
    "print(column_name)"
   ]
  },
  {
   "cell_type": "code",
   "execution_count": 329,
   "metadata": {},
   "outputs": [],
   "source": [
    "import shap"
   ]
  },
  {
   "cell_type": "code",
   "execution_count": 334,
   "metadata": {},
   "outputs": [],
   "source": [
    "explainer = shap.Explainer(best_GBR)"
   ]
  },
  {
   "cell_type": "code",
   "execution_count": 335,
   "metadata": {},
   "outputs": [],
   "source": [
    "shap_values = explainer(X_rfe)"
   ]
  },
  {
   "cell_type": "code",
   "execution_count": 336,
   "metadata": {},
   "outputs": [
    {
     "data": {
      "image/png": "[encoded data removed]",
      "text/plain": [
       "<Figure size 800x550 with 2 Axes>"
      ]
     },
     "metadata": {},
     "output_type": "display_data"
    }
   ],
   "source": [
    "shap.plots.beeswarm(shap_values)"
   ]
  },
  {
   "cell_type": "code",
   "execution_count": 337,
   "metadata": {},
   "outputs": [
    {
     "data": {
      "image/png": "[encoded data removed]",
      "text/plain": [
       "<Figure size 800x650 with 1 Axes>"
      ]
     },
     "metadata": {},
     "output_type": "display_data"
    }
   ],
   "source": [
    "shap.plots.bar(shap_values)"
   ]
  },
  {
   "cell_type": "code",
   "execution_count": null,
   "metadata": {},
   "outputs": [],
   "source": []
  }
 ],
 "metadata": {
  "kernelspec": {
   "display_name": "Python3 (rdkit)",
   "language": "python",
   "name": "my-rdkit-env"
  },
  "language_info": {
   "codemirror_mode": {
    "name": "ipython",
    "version": 3
   },
   "file_extension": ".py",
   "mimetype": "text/x-python",
   "name": "python",
   "nbconvert_exporter": "python",
   "pygments_lexer": "ipython3",
   "version": "3.10.12"
  }
 },
 "nbformat": 4,
 "nbformat_minor": 4
}
