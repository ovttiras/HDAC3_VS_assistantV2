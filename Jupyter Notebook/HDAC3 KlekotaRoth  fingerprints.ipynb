{
 "cells": [
  {
   "cell_type": "markdown",
   "metadata": {},
   "source": [
    "# 1. Importing modules and functions"
   ]
  },
  {
   "cell_type": "code",
   "execution_count": 81,
   "metadata": {},
   "outputs": [],
   "source": [
    "from rdkit import Chem, DataStructs\n",
    "from rdkit.Chem import AllChem, Descriptors\n",
    "from rdkit.ML.Descriptors import MoleculeDescriptors\n",
    "from molvs import standardize_smiles\n",
    "import numpy as np\n",
    "import pandas as pd\n",
    "from sklearn.svm import SVC\n",
    "from sklearn.model_selection import KFold, GridSearchCV\n",
    "from sklearn.metrics import mean_squared_error\n",
    "from sklearn.metrics import r2_score\n",
    "from sklearn.ensemble import GradientBoostingRegressor\n",
    "from sklearn.svm import SVR\n",
    "from sklearn.model_selection import permutation_test_score\n",
    "from sklearn.preprocessing import StandardScaler\n",
    "from sklearn.model_selection import cross_val_predict\n",
    "from sklearn import metrics\n",
    "from sklearn.metrics import pairwise_distances\n",
    "import joblib\n",
    "import pickle\n",
    "from numpy import savetxt\n",
    "from padelpy import from_sdf\n",
    "import shap\n",
    "from tqdm.notebook import tqdm\n",
    "import matplotlib.pyplot as plt\n",
    "import warnings\n",
    "warnings.filterwarnings('ignore')"
   ]
  },
  {
   "cell_type": "code",
   "execution_count": 2,
   "metadata": {},
   "outputs": [
    {
     "data": {
      "text/plain": [
       "['fingerprints_xml\\\\AtomPairs2DFingerprintCount.xml',\n",
       " 'fingerprints_xml\\\\AtomPairs2DFingerprinter.xml',\n",
       " 'fingerprints_xml\\\\EStateFingerprinter.xml',\n",
       " 'fingerprints_xml\\\\ExtendedFingerprinter.xml',\n",
       " 'fingerprints_xml\\\\Fingerprinter.xml',\n",
       " 'fingerprints_xml\\\\GraphOnlyFingerprinter.xml',\n",
       " 'fingerprints_xml\\\\KlekotaRothFingerprintCount.xml',\n",
       " 'fingerprints_xml\\\\KlekotaRothFingerprinter.xml',\n",
       " 'fingerprints_xml\\\\MACCSFingerprinter.xml',\n",
       " 'fingerprints_xml\\\\PubchemFingerprinter.xml',\n",
       " 'fingerprints_xml\\\\SubstructureFingerprintCount.xml',\n",
       " 'fingerprints_xml\\\\SubstructureFingerprinter.xml']"
      ]
     },
     "execution_count": 2,
     "metadata": {},
     "output_type": "execute_result"
    }
   ],
   "source": [
    "import glob\n",
    "xml_files = glob.glob(\"fingerprints_xml/*.xml\")\n",
    "xml_files.sort()\n",
    "xml_files"
   ]
  },
  {
   "cell_type": "code",
   "execution_count": 3,
   "metadata": {},
   "outputs": [],
   "source": [
    "FP_list = ['AtomPairs2DCount',\n",
    " 'AtomPairs2D',\n",
    " 'EState',\n",
    " 'CDKextended',\n",
    " 'CDK',\n",
    " 'CDKgraphonly',\n",
    " 'KlekotaRothCount',\n",
    " 'KlekotaRoth',\n",
    " 'MACCS',\n",
    " 'PubChem',\n",
    " 'SubstructureCount',\n",
    " 'Substructure']"
   ]
  },
  {
   "cell_type": "code",
   "execution_count": 4,
   "metadata": {},
   "outputs": [
    {
     "data": {
      "text/plain": [
       "{'AtomPairs2DCount': 'fingerprints_xml\\\\AtomPairs2DFingerprintCount.xml',\n",
       " 'AtomPairs2D': 'fingerprints_xml\\\\AtomPairs2DFingerprinter.xml',\n",
       " 'EState': 'fingerprints_xml\\\\EStateFingerprinter.xml',\n",
       " 'CDKextended': 'fingerprints_xml\\\\ExtendedFingerprinter.xml',\n",
       " 'CDK': 'fingerprints_xml\\\\Fingerprinter.xml',\n",
       " 'CDKgraphonly': 'fingerprints_xml\\\\GraphOnlyFingerprinter.xml',\n",
       " 'KlekotaRothCount': 'fingerprints_xml\\\\KlekotaRothFingerprintCount.xml',\n",
       " 'KlekotaRoth': 'fingerprints_xml\\\\KlekotaRothFingerprinter.xml',\n",
       " 'MACCS': 'fingerprints_xml\\\\MACCSFingerprinter.xml',\n",
       " 'PubChem': 'fingerprints_xml\\\\PubchemFingerprinter.xml',\n",
       " 'SubstructureCount': 'fingerprints_xml\\\\SubstructureFingerprintCount.xml',\n",
       " 'Substructure': 'fingerprints_xml\\\\SubstructureFingerprinter.xml'}"
      ]
     },
     "execution_count": 4,
     "metadata": {},
     "output_type": "execute_result"
    }
   ],
   "source": [
    "fp = dict(zip(FP_list, xml_files))\n",
    "fp"
   ]
  },
  {
   "cell_type": "markdown",
   "metadata": {},
   "source": [
    "# 2.Data entry and curation work set"
   ]
  },
  {
   "cell_type": "code",
   "execution_count": 5,
   "metadata": {},
   "outputs": [
    {
     "name": "stdout",
     "output_type": "stream",
     "text": [
      "Original data:  1400 molecules\n",
      "Failed data:  0 molecules\n"
     ]
    },
    {
     "data": {
      "text/html": [
       "<div>\n",
       "<style scoped>\n",
       "    .dataframe tbody tr th:only-of-type {\n",
       "        vertical-align: middle;\n",
       "    }\n",
       "\n",
       "    .dataframe tbody tr th {\n",
       "        vertical-align: top;\n",
       "    }\n",
       "\n",
       "    .dataframe thead th {\n",
       "        text-align: right;\n",
       "    }\n",
       "</style>\n",
       "<table border=\"1\" class=\"dataframe\">\n",
       "  <thead>\n",
       "    <tr style=\"text-align: right;\">\n",
       "      <th></th>\n",
       "      <th>No. failed molecule in original set</th>\n",
       "      <th>SMILES of wrong structure:</th>\n",
       "    </tr>\n",
       "    <tr>\n",
       "      <th>No.</th>\n",
       "      <th></th>\n",
       "      <th></th>\n",
       "    </tr>\n",
       "  </thead>\n",
       "  <tbody>\n",
       "  </tbody>\n",
       "</table>\n",
       "</div>"
      ],
      "text/plain": [
       "Empty DataFrame\n",
       "Columns: [No. failed molecule in original set, SMILES of wrong structure: ]\n",
       "Index: []"
      ]
     },
     "execution_count": 5,
     "metadata": {},
     "output_type": "execute_result"
    }
   ],
   "source": [
    "uploaded_file_ws=\"datasets/HDAC3_work.sdf\"\n",
    "supplier_ws = Chem.ForwardSDMolSupplier(uploaded_file_ws,sanitize=False)\n",
    "failed_mols_ws = []\n",
    "all_mols_ws =[]\n",
    "wrong_structure_ws=[]\n",
    "wrong_smiles_ws=[]\n",
    "y_tr = []\n",
    "y_bad_index=[]\n",
    "\n",
    "for i, m in enumerate(supplier_ws):\n",
    "    structure = Chem.Mol(m)\n",
    "    all_mols_ws.append(structure)\n",
    "    y_tr.append(m.GetProp(\"pchembl_value_mean\"))\n",
    "    try:\n",
    "        Chem.SanitizeMol(structure)\n",
    "    except:\n",
    "        failed_mols_ws.append(m)\n",
    "        wrong_smiles_ws.append(Chem.MolToSmiles(m))\n",
    "        wrong_structure_ws.append(str(i+1))\n",
    "        y_bad_index.append(i)\n",
    "print('Original data: ', len(all_mols_ws), 'molecules')\n",
    "print('Failed data: ', len(failed_mols_ws), 'molecules')\n",
    "number_ws =[]\n",
    "for i in range(len(failed_mols_ws)):\n",
    "        number_ws.append(str(i+1))\n",
    "bad_molecules_ws = pd.DataFrame({'No. failed molecule in original set': wrong_structure_ws, 'SMILES of wrong structure: ': wrong_smiles_ws, 'No.': number_ws}, index=None)\n",
    "bad_molecules_ws = bad_molecules_ws.set_index('No.')\n",
    "bad_molecules_ws"
   ]
  },
  {
   "cell_type": "markdown",
   "metadata": {},
   "source": [
    "deleting activity values for substances with incorrect structure"
   ]
  },
  {
   "cell_type": "code",
   "execution_count": 6,
   "metadata": {},
   "outputs": [],
   "source": [
    "y_tr[:] = [x for i,x in enumerate(y_tr) if i not in y_bad_index]"
   ]
  },
  {
   "cell_type": "code",
   "execution_count": 7,
   "metadata": {},
   "outputs": [
    {
     "data": {
      "text/plain": [
       "1400"
      ]
     },
     "execution_count": 7,
     "metadata": {},
     "output_type": "execute_result"
    }
   ],
   "source": [
    "len(y_tr)"
   ]
  },
  {
   "cell_type": "markdown",
   "metadata": {},
   "source": [
    "# 3.Standardization SDF file for work set"
   ]
  },
  {
   "cell_type": "code",
   "execution_count": 8,
   "metadata": {},
   "outputs": [
    {
     "name": "stdout",
     "output_type": "stream",
     "text": [
      "Kept data:  1400 molecules\n"
     ]
    }
   ],
   "source": [
    "all_mols_ws[:] = [x for i,x in enumerate(all_mols_ws) if i not in y_bad_index] \n",
    "records = []\n",
    "for i in range(len(all_mols_ws)):\n",
    "    record = Chem.MolToSmiles(all_mols_ws[i])\n",
    "    records.append(record)\n",
    "\n",
    "moldf_ws = []\n",
    "for i,record in enumerate(records):\n",
    "    standard_record = standardize_smiles(record)\n",
    "    m = Chem.MolFromSmiles(standard_record)\n",
    "    moldf_ws.append(m)\n",
    "    \n",
    "print('Kept data: ', len(moldf_ws), 'molecules')"
   ]
  },
  {
   "cell_type": "code",
   "execution_count": 9,
   "metadata": {},
   "outputs": [],
   "source": [
    "records_ws = []\n",
    "for i in range(len(moldf_ws)):\n",
    "    record = Chem.MolToSmiles(moldf_ws[i])\n",
    "    records_ws.append(record)"
   ]
  },
  {
   "cell_type": "code",
   "execution_count": 10,
   "metadata": {},
   "outputs": [],
   "source": [
    "df = pd.DataFrame(records_ws, columns=[\"Smiles\"])\n",
    "df.to_csv('datasets/molecule_ws.smi', sep=',', index=False, header=False)"
   ]
  },
  {
   "cell_type": "markdown",
   "metadata": {},
   "source": [
    "# 4.Data entry and curation test set"
   ]
  },
  {
   "cell_type": "code",
   "execution_count": 11,
   "metadata": {},
   "outputs": [
    {
     "name": "stdout",
     "output_type": "stream",
     "text": [
      "Original data:  351 molecules\n",
      "Failed data:  0 molecules\n"
     ]
    },
    {
     "data": {
      "text/html": [
       "<div>\n",
       "<style scoped>\n",
       "    .dataframe tbody tr th:only-of-type {\n",
       "        vertical-align: middle;\n",
       "    }\n",
       "\n",
       "    .dataframe tbody tr th {\n",
       "        vertical-align: top;\n",
       "    }\n",
       "\n",
       "    .dataframe thead th {\n",
       "        text-align: right;\n",
       "    }\n",
       "</style>\n",
       "<table border=\"1\" class=\"dataframe\">\n",
       "  <thead>\n",
       "    <tr style=\"text-align: right;\">\n",
       "      <th></th>\n",
       "      <th>No. failed molecule in original set</th>\n",
       "      <th>SMILES of wrong structure:</th>\n",
       "    </tr>\n",
       "    <tr>\n",
       "      <th>No.</th>\n",
       "      <th></th>\n",
       "      <th></th>\n",
       "    </tr>\n",
       "  </thead>\n",
       "  <tbody>\n",
       "  </tbody>\n",
       "</table>\n",
       "</div>"
      ],
      "text/plain": [
       "Empty DataFrame\n",
       "Columns: [No. failed molecule in original set, SMILES of wrong structure: ]\n",
       "Index: []"
      ]
     },
     "execution_count": 11,
     "metadata": {},
     "output_type": "execute_result"
    }
   ],
   "source": [
    "uploaded_file_ts=\"datasets/HDAC3_test.sdf\"\n",
    "supplier_ts = Chem.ForwardSDMolSupplier(uploaded_file_ts,sanitize=False)\n",
    "failed_mols_ts = []\n",
    "all_mols_ts =[]\n",
    "wrong_structure_ts=[]\n",
    "wrong_smiles_ts=[]\n",
    "y_ts = []\n",
    "y_bad_index=[]\n",
    "for i, m in enumerate(supplier_ts):\n",
    "    structure = Chem.Mol(m)\n",
    "    all_mols_ts.append(structure)\n",
    "    y_ts.append(m.GetProp(\"pchembl_value_mean\"))\n",
    "    try:\n",
    "        Chem.SanitizeMol(structure)\n",
    "    except:\n",
    "        failed_mols_ts.append(m)\n",
    "        wrong_smiles_ts.append(Chem.MolToSmiles(m))\n",
    "        wrong_structure_ts.append(str(i+1))\n",
    "        y_bad_index.append(i)\n",
    "print('Original data: ', len(all_mols_ts), 'molecules')\n",
    "print('Failed data: ', len(failed_mols_ts), 'molecules')\n",
    "number_ts =[]\n",
    "for i in range(len(failed_mols_ts)):\n",
    "        number_ts.append(str(i+1))\n",
    "bad_molecules_ts = pd.DataFrame({'No. failed molecule in original set': wrong_structure_ts, 'SMILES of wrong structure: ': wrong_smiles_ts, 'No.': number_ts}, index=None)\n",
    "bad_molecules_ts = bad_molecules_ts.set_index('No.')\n",
    "bad_molecules_ts"
   ]
  },
  {
   "cell_type": "markdown",
   "metadata": {},
   "source": [
    "deleting activity values for substances with incorrect structure"
   ]
  },
  {
   "cell_type": "code",
   "execution_count": 12,
   "metadata": {},
   "outputs": [],
   "source": [
    "y_ts[:] = [x for i,x in enumerate(y_ts) if i not in y_bad_index]"
   ]
  },
  {
   "cell_type": "code",
   "execution_count": 13,
   "metadata": {},
   "outputs": [
    {
     "data": {
      "text/plain": [
       "351"
      ]
     },
     "execution_count": 13,
     "metadata": {},
     "output_type": "execute_result"
    }
   ],
   "source": [
    "len(y_ts)"
   ]
  },
  {
   "cell_type": "markdown",
   "metadata": {
    "scrolled": true
   },
   "source": [
    "# 5.Standardization SDF file for test set"
   ]
  },
  {
   "cell_type": "code",
   "execution_count": 14,
   "metadata": {},
   "outputs": [
    {
     "name": "stdout",
     "output_type": "stream",
     "text": [
      "Kept data:  351 molecules\n"
     ]
    }
   ],
   "source": [
    "all_mols_ts[:] = [x for i,x in enumerate(all_mols_ts) if i not in y_bad_index] \n",
    "records = []\n",
    "for i in range(len(all_mols_ts)):\n",
    "    record = Chem.MolToSmiles(all_mols_ts[i])\n",
    "    records.append(record)\n",
    "\n",
    "moldf_ts = []\n",
    "for i,record in enumerate(records):\n",
    "    standard_record = standardize_smiles(record)\n",
    "    m = Chem.MolFromSmiles(standard_record)\n",
    "    moldf_ts.append(m)\n",
    "    \n",
    "print('Kept data: ', len(moldf_ts), 'molecules')"
   ]
  },
  {
   "cell_type": "code",
   "execution_count": 15,
   "metadata": {},
   "outputs": [],
   "source": [
    "records_ts = []\n",
    "for i in range(len(moldf_ts)):\n",
    "    record = Chem.MolToSmiles(moldf_ts[i])\n",
    "    records_ts.append(record)"
   ]
  },
  {
   "cell_type": "code",
   "execution_count": 16,
   "metadata": {},
   "outputs": [],
   "source": [
    "df_ts = pd.DataFrame(records_ts, columns=[\"Smiles\"])\n",
    "df_ts.to_csv('datasets/molecule_ts.smi', sep=',', index=False, header=False)"
   ]
  },
  {
   "cell_type": "markdown",
   "metadata": {},
   "source": [
    "# 6.Descriptor calculation for work set"
   ]
  },
  {
   "cell_type": "code",
   "execution_count": 17,
   "metadata": {},
   "outputs": [
    {
     "data": {
      "text/plain": [
       "{'AtomPairs2DCount': 'fingerprints_xml\\\\AtomPairs2DFingerprintCount.xml',\n",
       " 'AtomPairs2D': 'fingerprints_xml\\\\AtomPairs2DFingerprinter.xml',\n",
       " 'EState': 'fingerprints_xml\\\\EStateFingerprinter.xml',\n",
       " 'CDKextended': 'fingerprints_xml\\\\ExtendedFingerprinter.xml',\n",
       " 'CDK': 'fingerprints_xml\\\\Fingerprinter.xml',\n",
       " 'CDKgraphonly': 'fingerprints_xml\\\\GraphOnlyFingerprinter.xml',\n",
       " 'KlekotaRothCount': 'fingerprints_xml\\\\KlekotaRothFingerprintCount.xml',\n",
       " 'KlekotaRoth': 'fingerprints_xml\\\\KlekotaRothFingerprinter.xml',\n",
       " 'MACCS': 'fingerprints_xml\\\\MACCSFingerprinter.xml',\n",
       " 'PubChem': 'fingerprints_xml\\\\PubchemFingerprinter.xml',\n",
       " 'SubstructureCount': 'fingerprints_xml\\\\SubstructureFingerprintCount.xml',\n",
       " 'Substructure': 'fingerprints_xml\\\\SubstructureFingerprinter.xml'}"
      ]
     },
     "execution_count": 17,
     "metadata": {},
     "output_type": "execute_result"
    }
   ],
   "source": [
    "fp"
   ]
  },
  {
   "cell_type": "markdown",
   "metadata": {},
   "source": [
    "### KlekotaRoth FPs"
   ]
  },
  {
   "cell_type": "code",
   "execution_count": 18,
   "metadata": {},
   "outputs": [],
   "source": [
    "from padelpy import padeldescriptor\n",
    "\n",
    "fingerprint = 'KlekotaRoth'\n",
    "\n",
    "fingerprint_output_file = ''.join([fingerprint,'.csv']) \n",
    "fingerprint_descriptortypes = fp[fingerprint]\n",
    "\n",
    "padeldescriptor(mol_dir='datasets/molecule_ws.smi', \n",
    "                d_file=fingerprint_output_file, \n",
    "                descriptortypes= fingerprint_descriptortypes,\n",
    "                detectaromaticity=True,\n",
    "                standardizenitro=True,\n",
    "                standardizetautomers=True,\n",
    "                threads=2,\n",
    "                removesalt=True,\n",
    "                log=True,\n",
    "                fingerprints=True)"
   ]
  },
  {
   "cell_type": "code",
   "execution_count": 23,
   "metadata": {},
   "outputs": [],
   "source": [
    "descriptors_KlekotaRoth = pd.read_csv('KlekotaRoth.csv')"
   ]
  },
  {
   "cell_type": "code",
   "execution_count": 24,
   "metadata": {},
   "outputs": [
    {
     "data": {
      "text/html": [
       "<div>\n",
       "<style scoped>\n",
       "    .dataframe tbody tr th:only-of-type {\n",
       "        vertical-align: middle;\n",
       "    }\n",
       "\n",
       "    .dataframe tbody tr th {\n",
       "        vertical-align: top;\n",
       "    }\n",
       "\n",
       "    .dataframe thead th {\n",
       "        text-align: right;\n",
       "    }\n",
       "</style>\n",
       "<table border=\"1\" class=\"dataframe\">\n",
       "  <thead>\n",
       "    <tr style=\"text-align: right;\">\n",
       "      <th></th>\n",
       "      <th>Name</th>\n",
       "      <th>KRFP1</th>\n",
       "      <th>KRFP2</th>\n",
       "      <th>KRFP3</th>\n",
       "      <th>KRFP4</th>\n",
       "      <th>KRFP5</th>\n",
       "      <th>KRFP6</th>\n",
       "      <th>KRFP7</th>\n",
       "      <th>KRFP8</th>\n",
       "      <th>KRFP9</th>\n",
       "      <th>...</th>\n",
       "      <th>KRFP4851</th>\n",
       "      <th>KRFP4852</th>\n",
       "      <th>KRFP4853</th>\n",
       "      <th>KRFP4854</th>\n",
       "      <th>KRFP4855</th>\n",
       "      <th>KRFP4856</th>\n",
       "      <th>KRFP4857</th>\n",
       "      <th>KRFP4858</th>\n",
       "      <th>KRFP4859</th>\n",
       "      <th>KRFP4860</th>\n",
       "    </tr>\n",
       "  </thead>\n",
       "  <tbody>\n",
       "    <tr>\n",
       "      <th>0</th>\n",
       "      <td>AUTOGEN_molecule_ws_1</td>\n",
       "      <td>1</td>\n",
       "      <td>0</td>\n",
       "      <td>0</td>\n",
       "      <td>0</td>\n",
       "      <td>0</td>\n",
       "      <td>0</td>\n",
       "      <td>0</td>\n",
       "      <td>0</td>\n",
       "      <td>0</td>\n",
       "      <td>...</td>\n",
       "      <td>0</td>\n",
       "      <td>0</td>\n",
       "      <td>0</td>\n",
       "      <td>0</td>\n",
       "      <td>0</td>\n",
       "      <td>0</td>\n",
       "      <td>0</td>\n",
       "      <td>0</td>\n",
       "      <td>0</td>\n",
       "      <td>0</td>\n",
       "    </tr>\n",
       "    <tr>\n",
       "      <th>1</th>\n",
       "      <td>AUTOGEN_molecule_ws_2</td>\n",
       "      <td>1</td>\n",
       "      <td>0</td>\n",
       "      <td>0</td>\n",
       "      <td>0</td>\n",
       "      <td>0</td>\n",
       "      <td>0</td>\n",
       "      <td>0</td>\n",
       "      <td>0</td>\n",
       "      <td>0</td>\n",
       "      <td>...</td>\n",
       "      <td>0</td>\n",
       "      <td>0</td>\n",
       "      <td>0</td>\n",
       "      <td>0</td>\n",
       "      <td>0</td>\n",
       "      <td>0</td>\n",
       "      <td>0</td>\n",
       "      <td>0</td>\n",
       "      <td>0</td>\n",
       "      <td>0</td>\n",
       "    </tr>\n",
       "    <tr>\n",
       "      <th>2</th>\n",
       "      <td>AUTOGEN_molecule_ws_3</td>\n",
       "      <td>0</td>\n",
       "      <td>0</td>\n",
       "      <td>0</td>\n",
       "      <td>0</td>\n",
       "      <td>0</td>\n",
       "      <td>0</td>\n",
       "      <td>0</td>\n",
       "      <td>0</td>\n",
       "      <td>0</td>\n",
       "      <td>...</td>\n",
       "      <td>0</td>\n",
       "      <td>0</td>\n",
       "      <td>0</td>\n",
       "      <td>0</td>\n",
       "      <td>0</td>\n",
       "      <td>0</td>\n",
       "      <td>0</td>\n",
       "      <td>0</td>\n",
       "      <td>0</td>\n",
       "      <td>0</td>\n",
       "    </tr>\n",
       "    <tr>\n",
       "      <th>3</th>\n",
       "      <td>AUTOGEN_molecule_ws_4</td>\n",
       "      <td>0</td>\n",
       "      <td>0</td>\n",
       "      <td>0</td>\n",
       "      <td>0</td>\n",
       "      <td>0</td>\n",
       "      <td>0</td>\n",
       "      <td>0</td>\n",
       "      <td>0</td>\n",
       "      <td>0</td>\n",
       "      <td>...</td>\n",
       "      <td>0</td>\n",
       "      <td>0</td>\n",
       "      <td>0</td>\n",
       "      <td>0</td>\n",
       "      <td>0</td>\n",
       "      <td>0</td>\n",
       "      <td>0</td>\n",
       "      <td>0</td>\n",
       "      <td>0</td>\n",
       "      <td>0</td>\n",
       "    </tr>\n",
       "    <tr>\n",
       "      <th>4</th>\n",
       "      <td>AUTOGEN_molecule_ws_5</td>\n",
       "      <td>0</td>\n",
       "      <td>0</td>\n",
       "      <td>0</td>\n",
       "      <td>0</td>\n",
       "      <td>0</td>\n",
       "      <td>0</td>\n",
       "      <td>0</td>\n",
       "      <td>0</td>\n",
       "      <td>0</td>\n",
       "      <td>...</td>\n",
       "      <td>0</td>\n",
       "      <td>0</td>\n",
       "      <td>0</td>\n",
       "      <td>0</td>\n",
       "      <td>0</td>\n",
       "      <td>0</td>\n",
       "      <td>0</td>\n",
       "      <td>0</td>\n",
       "      <td>0</td>\n",
       "      <td>0</td>\n",
       "    </tr>\n",
       "    <tr>\n",
       "      <th>...</th>\n",
       "      <td>...</td>\n",
       "      <td>...</td>\n",
       "      <td>...</td>\n",
       "      <td>...</td>\n",
       "      <td>...</td>\n",
       "      <td>...</td>\n",
       "      <td>...</td>\n",
       "      <td>...</td>\n",
       "      <td>...</td>\n",
       "      <td>...</td>\n",
       "      <td>...</td>\n",
       "      <td>...</td>\n",
       "      <td>...</td>\n",
       "      <td>...</td>\n",
       "      <td>...</td>\n",
       "      <td>...</td>\n",
       "      <td>...</td>\n",
       "      <td>...</td>\n",
       "      <td>...</td>\n",
       "      <td>...</td>\n",
       "      <td>...</td>\n",
       "    </tr>\n",
       "    <tr>\n",
       "      <th>1395</th>\n",
       "      <td>AUTOGEN_molecule_ws_1396</td>\n",
       "      <td>1</td>\n",
       "      <td>0</td>\n",
       "      <td>0</td>\n",
       "      <td>0</td>\n",
       "      <td>0</td>\n",
       "      <td>0</td>\n",
       "      <td>0</td>\n",
       "      <td>0</td>\n",
       "      <td>0</td>\n",
       "      <td>...</td>\n",
       "      <td>0</td>\n",
       "      <td>0</td>\n",
       "      <td>0</td>\n",
       "      <td>0</td>\n",
       "      <td>0</td>\n",
       "      <td>0</td>\n",
       "      <td>0</td>\n",
       "      <td>0</td>\n",
       "      <td>0</td>\n",
       "      <td>0</td>\n",
       "    </tr>\n",
       "    <tr>\n",
       "      <th>1396</th>\n",
       "      <td>AUTOGEN_molecule_ws_1397</td>\n",
       "      <td>1</td>\n",
       "      <td>0</td>\n",
       "      <td>0</td>\n",
       "      <td>0</td>\n",
       "      <td>0</td>\n",
       "      <td>0</td>\n",
       "      <td>0</td>\n",
       "      <td>0</td>\n",
       "      <td>0</td>\n",
       "      <td>...</td>\n",
       "      <td>0</td>\n",
       "      <td>0</td>\n",
       "      <td>0</td>\n",
       "      <td>0</td>\n",
       "      <td>0</td>\n",
       "      <td>0</td>\n",
       "      <td>0</td>\n",
       "      <td>0</td>\n",
       "      <td>0</td>\n",
       "      <td>0</td>\n",
       "    </tr>\n",
       "    <tr>\n",
       "      <th>1397</th>\n",
       "      <td>AUTOGEN_molecule_ws_1398</td>\n",
       "      <td>1</td>\n",
       "      <td>0</td>\n",
       "      <td>0</td>\n",
       "      <td>0</td>\n",
       "      <td>0</td>\n",
       "      <td>0</td>\n",
       "      <td>0</td>\n",
       "      <td>0</td>\n",
       "      <td>0</td>\n",
       "      <td>...</td>\n",
       "      <td>0</td>\n",
       "      <td>0</td>\n",
       "      <td>0</td>\n",
       "      <td>0</td>\n",
       "      <td>0</td>\n",
       "      <td>0</td>\n",
       "      <td>0</td>\n",
       "      <td>0</td>\n",
       "      <td>0</td>\n",
       "      <td>0</td>\n",
       "    </tr>\n",
       "    <tr>\n",
       "      <th>1398</th>\n",
       "      <td>AUTOGEN_molecule_ws_1399</td>\n",
       "      <td>1</td>\n",
       "      <td>0</td>\n",
       "      <td>0</td>\n",
       "      <td>0</td>\n",
       "      <td>0</td>\n",
       "      <td>0</td>\n",
       "      <td>0</td>\n",
       "      <td>0</td>\n",
       "      <td>0</td>\n",
       "      <td>...</td>\n",
       "      <td>0</td>\n",
       "      <td>0</td>\n",
       "      <td>0</td>\n",
       "      <td>0</td>\n",
       "      <td>0</td>\n",
       "      <td>0</td>\n",
       "      <td>0</td>\n",
       "      <td>0</td>\n",
       "      <td>0</td>\n",
       "      <td>0</td>\n",
       "    </tr>\n",
       "    <tr>\n",
       "      <th>1399</th>\n",
       "      <td>AUTOGEN_molecule_ws_1400</td>\n",
       "      <td>1</td>\n",
       "      <td>0</td>\n",
       "      <td>0</td>\n",
       "      <td>0</td>\n",
       "      <td>0</td>\n",
       "      <td>0</td>\n",
       "      <td>0</td>\n",
       "      <td>0</td>\n",
       "      <td>0</td>\n",
       "      <td>...</td>\n",
       "      <td>0</td>\n",
       "      <td>0</td>\n",
       "      <td>0</td>\n",
       "      <td>0</td>\n",
       "      <td>0</td>\n",
       "      <td>0</td>\n",
       "      <td>0</td>\n",
       "      <td>0</td>\n",
       "      <td>0</td>\n",
       "      <td>0</td>\n",
       "    </tr>\n",
       "  </tbody>\n",
       "</table>\n",
       "<p>1400 rows × 4861 columns</p>\n",
       "</div>"
      ],
      "text/plain": [
       "                          Name  KRFP1  KRFP2  KRFP3  KRFP4  KRFP5  KRFP6  \\\n",
       "0        AUTOGEN_molecule_ws_1      1      0      0      0      0      0   \n",
       "1        AUTOGEN_molecule_ws_2      1      0      0      0      0      0   \n",
       "2        AUTOGEN_molecule_ws_3      0      0      0      0      0      0   \n",
       "3        AUTOGEN_molecule_ws_4      0      0      0      0      0      0   \n",
       "4        AUTOGEN_molecule_ws_5      0      0      0      0      0      0   \n",
       "...                        ...    ...    ...    ...    ...    ...    ...   \n",
       "1395  AUTOGEN_molecule_ws_1396      1      0      0      0      0      0   \n",
       "1396  AUTOGEN_molecule_ws_1397      1      0      0      0      0      0   \n",
       "1397  AUTOGEN_molecule_ws_1398      1      0      0      0      0      0   \n",
       "1398  AUTOGEN_molecule_ws_1399      1      0      0      0      0      0   \n",
       "1399  AUTOGEN_molecule_ws_1400      1      0      0      0      0      0   \n",
       "\n",
       "      KRFP7  KRFP8  KRFP9  ...  KRFP4851  KRFP4852  KRFP4853  KRFP4854  \\\n",
       "0         0      0      0  ...         0         0         0         0   \n",
       "1         0      0      0  ...         0         0         0         0   \n",
       "2         0      0      0  ...         0         0         0         0   \n",
       "3         0      0      0  ...         0         0         0         0   \n",
       "4         0      0      0  ...         0         0         0         0   \n",
       "...     ...    ...    ...  ...       ...       ...       ...       ...   \n",
       "1395      0      0      0  ...         0         0         0         0   \n",
       "1396      0      0      0  ...         0         0         0         0   \n",
       "1397      0      0      0  ...         0         0         0         0   \n",
       "1398      0      0      0  ...         0         0         0         0   \n",
       "1399      0      0      0  ...         0         0         0         0   \n",
       "\n",
       "      KRFP4855  KRFP4856  KRFP4857  KRFP4858  KRFP4859  KRFP4860  \n",
       "0            0         0         0         0         0         0  \n",
       "1            0         0         0         0         0         0  \n",
       "2            0         0         0         0         0         0  \n",
       "3            0         0         0         0         0         0  \n",
       "4            0         0         0         0         0         0  \n",
       "...        ...       ...       ...       ...       ...       ...  \n",
       "1395         0         0         0         0         0         0  \n",
       "1396         0         0         0         0         0         0  \n",
       "1397         0         0         0         0         0         0  \n",
       "1398         0         0         0         0         0         0  \n",
       "1399         0         0         0         0         0         0  \n",
       "\n",
       "[1400 rows x 4861 columns]"
      ]
     },
     "execution_count": 24,
     "metadata": {},
     "output_type": "execute_result"
    }
   ],
   "source": [
    "descriptors_KlekotaRoth"
   ]
  },
  {
   "cell_type": "code",
   "execution_count": 25,
   "metadata": {},
   "outputs": [
    {
     "data": {
      "text/html": [
       "<div>\n",
       "<style scoped>\n",
       "    .dataframe tbody tr th:only-of-type {\n",
       "        vertical-align: middle;\n",
       "    }\n",
       "\n",
       "    .dataframe tbody tr th {\n",
       "        vertical-align: top;\n",
       "    }\n",
       "\n",
       "    .dataframe thead th {\n",
       "        text-align: right;\n",
       "    }\n",
       "</style>\n",
       "<table border=\"1\" class=\"dataframe\">\n",
       "  <thead>\n",
       "    <tr style=\"text-align: right;\">\n",
       "      <th></th>\n",
       "      <th>Name</th>\n",
       "      <th>KRFP1</th>\n",
       "      <th>KRFP2</th>\n",
       "      <th>KRFP3</th>\n",
       "      <th>KRFP4</th>\n",
       "      <th>KRFP5</th>\n",
       "      <th>KRFP6</th>\n",
       "      <th>KRFP7</th>\n",
       "      <th>KRFP8</th>\n",
       "      <th>KRFP9</th>\n",
       "      <th>...</th>\n",
       "      <th>KRFP4851</th>\n",
       "      <th>KRFP4852</th>\n",
       "      <th>KRFP4853</th>\n",
       "      <th>KRFP4854</th>\n",
       "      <th>KRFP4855</th>\n",
       "      <th>KRFP4856</th>\n",
       "      <th>KRFP4857</th>\n",
       "      <th>KRFP4858</th>\n",
       "      <th>KRFP4859</th>\n",
       "      <th>KRFP4860</th>\n",
       "    </tr>\n",
       "  </thead>\n",
       "  <tbody>\n",
       "    <tr>\n",
       "      <th>213</th>\n",
       "      <td>AUTOGEN_molecule_ws_214</td>\n",
       "      <td>1</td>\n",
       "      <td>0</td>\n",
       "      <td>0</td>\n",
       "      <td>0</td>\n",
       "      <td>0</td>\n",
       "      <td>0</td>\n",
       "      <td>0</td>\n",
       "      <td>0</td>\n",
       "      <td>0</td>\n",
       "      <td>...</td>\n",
       "      <td>0</td>\n",
       "      <td>0</td>\n",
       "      <td>0</td>\n",
       "      <td>0</td>\n",
       "      <td>0</td>\n",
       "      <td>0</td>\n",
       "      <td>0</td>\n",
       "      <td>0</td>\n",
       "      <td>0</td>\n",
       "      <td>0</td>\n",
       "    </tr>\n",
       "    <tr>\n",
       "      <th>698</th>\n",
       "      <td>AUTOGEN_molecule_ws_699</td>\n",
       "      <td>1</td>\n",
       "      <td>0</td>\n",
       "      <td>0</td>\n",
       "      <td>0</td>\n",
       "      <td>0</td>\n",
       "      <td>0</td>\n",
       "      <td>0</td>\n",
       "      <td>0</td>\n",
       "      <td>0</td>\n",
       "      <td>...</td>\n",
       "      <td>0</td>\n",
       "      <td>0</td>\n",
       "      <td>0</td>\n",
       "      <td>0</td>\n",
       "      <td>0</td>\n",
       "      <td>0</td>\n",
       "      <td>0</td>\n",
       "      <td>0</td>\n",
       "      <td>0</td>\n",
       "      <td>0</td>\n",
       "    </tr>\n",
       "    <tr>\n",
       "      <th>712</th>\n",
       "      <td>AUTOGEN_molecule_ws_713</td>\n",
       "      <td>1</td>\n",
       "      <td>0</td>\n",
       "      <td>0</td>\n",
       "      <td>0</td>\n",
       "      <td>0</td>\n",
       "      <td>0</td>\n",
       "      <td>0</td>\n",
       "      <td>0</td>\n",
       "      <td>0</td>\n",
       "      <td>...</td>\n",
       "      <td>0</td>\n",
       "      <td>0</td>\n",
       "      <td>0</td>\n",
       "      <td>0</td>\n",
       "      <td>0</td>\n",
       "      <td>0</td>\n",
       "      <td>0</td>\n",
       "      <td>0</td>\n",
       "      <td>0</td>\n",
       "      <td>0</td>\n",
       "    </tr>\n",
       "    <tr>\n",
       "      <th>752</th>\n",
       "      <td>AUTOGEN_molecule_ws_753</td>\n",
       "      <td>1</td>\n",
       "      <td>0</td>\n",
       "      <td>0</td>\n",
       "      <td>0</td>\n",
       "      <td>0</td>\n",
       "      <td>0</td>\n",
       "      <td>0</td>\n",
       "      <td>0</td>\n",
       "      <td>0</td>\n",
       "      <td>...</td>\n",
       "      <td>0</td>\n",
       "      <td>0</td>\n",
       "      <td>0</td>\n",
       "      <td>0</td>\n",
       "      <td>0</td>\n",
       "      <td>0</td>\n",
       "      <td>0</td>\n",
       "      <td>0</td>\n",
       "      <td>0</td>\n",
       "      <td>0</td>\n",
       "    </tr>\n",
       "    <tr>\n",
       "      <th>817</th>\n",
       "      <td>AUTOGEN_molecule_ws_818</td>\n",
       "      <td>1</td>\n",
       "      <td>0</td>\n",
       "      <td>0</td>\n",
       "      <td>0</td>\n",
       "      <td>0</td>\n",
       "      <td>0</td>\n",
       "      <td>0</td>\n",
       "      <td>0</td>\n",
       "      <td>0</td>\n",
       "      <td>...</td>\n",
       "      <td>0</td>\n",
       "      <td>0</td>\n",
       "      <td>0</td>\n",
       "      <td>0</td>\n",
       "      <td>0</td>\n",
       "      <td>0</td>\n",
       "      <td>0</td>\n",
       "      <td>0</td>\n",
       "      <td>0</td>\n",
       "      <td>0</td>\n",
       "    </tr>\n",
       "    <tr>\n",
       "      <th>...</th>\n",
       "      <td>...</td>\n",
       "      <td>...</td>\n",
       "      <td>...</td>\n",
       "      <td>...</td>\n",
       "      <td>...</td>\n",
       "      <td>...</td>\n",
       "      <td>...</td>\n",
       "      <td>...</td>\n",
       "      <td>...</td>\n",
       "      <td>...</td>\n",
       "      <td>...</td>\n",
       "      <td>...</td>\n",
       "      <td>...</td>\n",
       "      <td>...</td>\n",
       "      <td>...</td>\n",
       "      <td>...</td>\n",
       "      <td>...</td>\n",
       "      <td>...</td>\n",
       "      <td>...</td>\n",
       "      <td>...</td>\n",
       "      <td>...</td>\n",
       "    </tr>\n",
       "    <tr>\n",
       "      <th>1394</th>\n",
       "      <td>AUTOGEN_molecule_ws_1395</td>\n",
       "      <td>1</td>\n",
       "      <td>0</td>\n",
       "      <td>0</td>\n",
       "      <td>0</td>\n",
       "      <td>0</td>\n",
       "      <td>0</td>\n",
       "      <td>0</td>\n",
       "      <td>0</td>\n",
       "      <td>0</td>\n",
       "      <td>...</td>\n",
       "      <td>0</td>\n",
       "      <td>0</td>\n",
       "      <td>0</td>\n",
       "      <td>0</td>\n",
       "      <td>0</td>\n",
       "      <td>0</td>\n",
       "      <td>0</td>\n",
       "      <td>0</td>\n",
       "      <td>0</td>\n",
       "      <td>0</td>\n",
       "    </tr>\n",
       "    <tr>\n",
       "      <th>1395</th>\n",
       "      <td>AUTOGEN_molecule_ws_1396</td>\n",
       "      <td>1</td>\n",
       "      <td>0</td>\n",
       "      <td>0</td>\n",
       "      <td>0</td>\n",
       "      <td>0</td>\n",
       "      <td>0</td>\n",
       "      <td>0</td>\n",
       "      <td>0</td>\n",
       "      <td>0</td>\n",
       "      <td>...</td>\n",
       "      <td>0</td>\n",
       "      <td>0</td>\n",
       "      <td>0</td>\n",
       "      <td>0</td>\n",
       "      <td>0</td>\n",
       "      <td>0</td>\n",
       "      <td>0</td>\n",
       "      <td>0</td>\n",
       "      <td>0</td>\n",
       "      <td>0</td>\n",
       "    </tr>\n",
       "    <tr>\n",
       "      <th>1396</th>\n",
       "      <td>AUTOGEN_molecule_ws_1397</td>\n",
       "      <td>1</td>\n",
       "      <td>0</td>\n",
       "      <td>0</td>\n",
       "      <td>0</td>\n",
       "      <td>0</td>\n",
       "      <td>0</td>\n",
       "      <td>0</td>\n",
       "      <td>0</td>\n",
       "      <td>0</td>\n",
       "      <td>...</td>\n",
       "      <td>0</td>\n",
       "      <td>0</td>\n",
       "      <td>0</td>\n",
       "      <td>0</td>\n",
       "      <td>0</td>\n",
       "      <td>0</td>\n",
       "      <td>0</td>\n",
       "      <td>0</td>\n",
       "      <td>0</td>\n",
       "      <td>0</td>\n",
       "    </tr>\n",
       "    <tr>\n",
       "      <th>1397</th>\n",
       "      <td>AUTOGEN_molecule_ws_1398</td>\n",
       "      <td>1</td>\n",
       "      <td>0</td>\n",
       "      <td>0</td>\n",
       "      <td>0</td>\n",
       "      <td>0</td>\n",
       "      <td>0</td>\n",
       "      <td>0</td>\n",
       "      <td>0</td>\n",
       "      <td>0</td>\n",
       "      <td>...</td>\n",
       "      <td>0</td>\n",
       "      <td>0</td>\n",
       "      <td>0</td>\n",
       "      <td>0</td>\n",
       "      <td>0</td>\n",
       "      <td>0</td>\n",
       "      <td>0</td>\n",
       "      <td>0</td>\n",
       "      <td>0</td>\n",
       "      <td>0</td>\n",
       "    </tr>\n",
       "    <tr>\n",
       "      <th>1399</th>\n",
       "      <td>AUTOGEN_molecule_ws_1400</td>\n",
       "      <td>1</td>\n",
       "      <td>0</td>\n",
       "      <td>0</td>\n",
       "      <td>0</td>\n",
       "      <td>0</td>\n",
       "      <td>0</td>\n",
       "      <td>0</td>\n",
       "      <td>0</td>\n",
       "      <td>0</td>\n",
       "      <td>...</td>\n",
       "      <td>0</td>\n",
       "      <td>0</td>\n",
       "      <td>0</td>\n",
       "      <td>0</td>\n",
       "      <td>0</td>\n",
       "      <td>0</td>\n",
       "      <td>0</td>\n",
       "      <td>0</td>\n",
       "      <td>0</td>\n",
       "      <td>0</td>\n",
       "    </tr>\n",
       "  </tbody>\n",
       "</table>\n",
       "<p>110 rows × 4861 columns</p>\n",
       "</div>"
      ],
      "text/plain": [
       "                          Name  KRFP1  KRFP2  KRFP3  KRFP4  KRFP5  KRFP6  \\\n",
       "213    AUTOGEN_molecule_ws_214      1      0      0      0      0      0   \n",
       "698    AUTOGEN_molecule_ws_699      1      0      0      0      0      0   \n",
       "712    AUTOGEN_molecule_ws_713      1      0      0      0      0      0   \n",
       "752    AUTOGEN_molecule_ws_753      1      0      0      0      0      0   \n",
       "817    AUTOGEN_molecule_ws_818      1      0      0      0      0      0   \n",
       "...                        ...    ...    ...    ...    ...    ...    ...   \n",
       "1394  AUTOGEN_molecule_ws_1395      1      0      0      0      0      0   \n",
       "1395  AUTOGEN_molecule_ws_1396      1      0      0      0      0      0   \n",
       "1396  AUTOGEN_molecule_ws_1397      1      0      0      0      0      0   \n",
       "1397  AUTOGEN_molecule_ws_1398      1      0      0      0      0      0   \n",
       "1399  AUTOGEN_molecule_ws_1400      1      0      0      0      0      0   \n",
       "\n",
       "      KRFP7  KRFP8  KRFP9  ...  KRFP4851  KRFP4852  KRFP4853  KRFP4854  \\\n",
       "213       0      0      0  ...         0         0         0         0   \n",
       "698       0      0      0  ...         0         0         0         0   \n",
       "712       0      0      0  ...         0         0         0         0   \n",
       "752       0      0      0  ...         0         0         0         0   \n",
       "817       0      0      0  ...         0         0         0         0   \n",
       "...     ...    ...    ...  ...       ...       ...       ...       ...   \n",
       "1394      0      0      0  ...         0         0         0         0   \n",
       "1395      0      0      0  ...         0         0         0         0   \n",
       "1396      0      0      0  ...         0         0         0         0   \n",
       "1397      0      0      0  ...         0         0         0         0   \n",
       "1399      0      0      0  ...         0         0         0         0   \n",
       "\n",
       "      KRFP4855  KRFP4856  KRFP4857  KRFP4858  KRFP4859  KRFP4860  \n",
       "213          0         0         0         0         0         0  \n",
       "698          0         0         0         0         0         0  \n",
       "712          0         0         0         0         0         0  \n",
       "752          0         0         0         0         0         0  \n",
       "817          0         0         0         0         0         0  \n",
       "...        ...       ...       ...       ...       ...       ...  \n",
       "1394         0         0         0         0         0         0  \n",
       "1395         0         0         0         0         0         0  \n",
       "1396         0         0         0         0         0         0  \n",
       "1397         0         0         0         0         0         0  \n",
       "1399         0         0         0         0         0         0  \n",
       "\n",
       "[110 rows x 4861 columns]"
      ]
     },
     "execution_count": 25,
     "metadata": {},
     "output_type": "execute_result"
    }
   ],
   "source": [
    "descriptors_KlekotaRoth[descriptors_KlekotaRoth['KRFP1236']==1]"
   ]
  },
  {
   "cell_type": "code",
   "execution_count": 27,
   "metadata": {},
   "outputs": [],
   "source": [
    "descriptors_ws = descriptors_KlekotaRoth.drop('Name', axis=1)"
   ]
  },
  {
   "cell_type": "code",
   "execution_count": 28,
   "metadata": {},
   "outputs": [],
   "source": [
    "x_tr = np.array(descriptors_ws, dtype=np.float32)\n",
    "y_tr = np.array(y_tr, dtype=np.float32)"
   ]
  },
  {
   "cell_type": "code",
   "execution_count": 29,
   "metadata": {},
   "outputs": [],
   "source": [
    "savetxt('Models/Padels/x_tr_KlekotaRoth.csv', x_tr, delimiter=',')"
   ]
  },
  {
   "cell_type": "code",
   "execution_count": 30,
   "metadata": {},
   "outputs": [
    {
     "data": {
      "text/plain": [
       "(1400, 4860)"
      ]
     },
     "execution_count": 30,
     "metadata": {},
     "output_type": "execute_result"
    }
   ],
   "source": [
    "x_tr.shape"
   ]
  },
  {
   "cell_type": "markdown",
   "metadata": {},
   "source": [
    "# 7.Descriptor calculation for test set"
   ]
  },
  {
   "cell_type": "code",
   "execution_count": null,
   "metadata": {},
   "outputs": [],
   "source": [
    "from padelpy import padeldescriptor\n",
    "\n",
    "fingerprint = 'KlekotaRoth'\n",
    "\n",
    "fingerprint_output_file = ''.join([fingerprint,'_ts.csv']) \n",
    "fingerprint_descriptortypes = fp[fingerprint]\n",
    "\n",
    "padeldescriptor(mol_dir='datasets/molecule_ts.smi', \n",
    "                d_file=fingerprint_output_file, \n",
    "                descriptortypes= fingerprint_descriptortypes,\n",
    "                detectaromaticity=True,\n",
    "                standardizenitro=True,\n",
    "                standardizetautomers=True,\n",
    "                threads=2,\n",
    "                removesalt=True,\n",
    "                log=False,\n",
    "                fingerprints=True)"
   ]
  },
  {
   "cell_type": "code",
   "execution_count": 31,
   "metadata": {},
   "outputs": [],
   "source": [
    "descriptors_KlekotaRoth_ts = pd.read_csv('KlekotaRoth_ts.csv')"
   ]
  },
  {
   "cell_type": "code",
   "execution_count": 32,
   "metadata": {},
   "outputs": [],
   "source": [
    "x_ts = descriptors_KlekotaRoth_ts.drop('Name', axis=1)"
   ]
  },
  {
   "cell_type": "code",
   "execution_count": 33,
   "metadata": {},
   "outputs": [],
   "source": [
    "desc_ts=x_ts"
   ]
  },
  {
   "cell_type": "code",
   "execution_count": 34,
   "metadata": {},
   "outputs": [
    {
     "data": {
      "text/plain": [
       "(351, 4860)"
      ]
     },
     "execution_count": 34,
     "metadata": {},
     "output_type": "execute_result"
    }
   ],
   "source": [
    "x_ts.shape"
   ]
  },
  {
   "cell_type": "markdown",
   "metadata": {},
   "source": [
    " # BASELINE GradientBoostingRegressor"
   ]
  },
  {
   "cell_type": "code",
   "execution_count": 35,
   "metadata": {},
   "outputs": [],
   "source": [
    "seed = 42"
   ]
  },
  {
   "cell_type": "code",
   "execution_count": 36,
   "metadata": {},
   "outputs": [],
   "source": [
    "cv=KFold(n_splits=5, random_state=seed, shuffle=True)"
   ]
  },
  {
   "cell_type": "code",
   "execution_count": 37,
   "metadata": {},
   "outputs": [],
   "source": [
    "param_grid = {'learning_rate': [0.01, 0.04],\n",
    "                  'subsample'    : [0.9, 0.5],\n",
    "                  'n_estimators' : [100,1000, 2000],\n",
    "                  'max_depth'    : [4, 10]\n",
    "                 }"
   ]
  },
  {
   "cell_type": "code",
   "execution_count": 38,
   "metadata": {},
   "outputs": [],
   "source": [
    "m = GridSearchCV(GradientBoostingRegressor(), param_grid, n_jobs=-1, cv=cv, verbose=1)"
   ]
  },
  {
   "cell_type": "code",
   "execution_count": 39,
   "metadata": {},
   "outputs": [
    {
     "name": "stdout",
     "output_type": "stream",
     "text": [
      "Fitting 5 folds for each of 24 candidates, totalling 120 fits\n"
     ]
    },
    {
     "data": {
      "text/html": [
       "<style>#sk-container-id-1 {color: black;}#sk-container-id-1 pre{padding: 0;}#sk-container-id-1 div.sk-toggleable {background-color: white;}#sk-container-id-1 label.sk-toggleable__label {cursor: pointer;display: block;width: 100%;margin-bottom: 0;padding: 0.3em;box-sizing: border-box;text-align: center;}#sk-container-id-1 label.sk-toggleable__label-arrow:before {content: \"▸\";float: left;margin-right: 0.25em;color: #696969;}#sk-container-id-1 label.sk-toggleable__label-arrow:hover:before {color: black;}#sk-container-id-1 div.sk-estimator:hover label.sk-toggleable__label-arrow:before {color: black;}#sk-container-id-1 div.sk-toggleable__content {max-height: 0;max-width: 0;overflow: hidden;text-align: left;background-color: #f0f8ff;}#sk-container-id-1 div.sk-toggleable__content pre {margin: 0.2em;color: black;border-radius: 0.25em;background-color: #f0f8ff;}#sk-container-id-1 input.sk-toggleable__control:checked~div.sk-toggleable__content {max-height: 200px;max-width: 100%;overflow: auto;}#sk-container-id-1 input.sk-toggleable__control:checked~label.sk-toggleable__label-arrow:before {content: \"▾\";}#sk-container-id-1 div.sk-estimator input.sk-toggleable__control:checked~label.sk-toggleable__label {background-color: #d4ebff;}#sk-container-id-1 div.sk-label input.sk-toggleable__control:checked~label.sk-toggleable__label {background-color: #d4ebff;}#sk-container-id-1 input.sk-hidden--visually {border: 0;clip: rect(1px 1px 1px 1px);clip: rect(1px, 1px, 1px, 1px);height: 1px;margin: -1px;overflow: hidden;padding: 0;position: absolute;width: 1px;}#sk-container-id-1 div.sk-estimator {font-family: monospace;background-color: #f0f8ff;border: 1px dotted black;border-radius: 0.25em;box-sizing: border-box;margin-bottom: 0.5em;}#sk-container-id-1 div.sk-estimator:hover {background-color: #d4ebff;}#sk-container-id-1 div.sk-parallel-item::after {content: \"\";width: 100%;border-bottom: 1px solid gray;flex-grow: 1;}#sk-container-id-1 div.sk-label:hover label.sk-toggleable__label {background-color: #d4ebff;}#sk-container-id-1 div.sk-serial::before {content: \"\";position: absolute;border-left: 1px solid gray;box-sizing: border-box;top: 0;bottom: 0;left: 50%;z-index: 0;}#sk-container-id-1 div.sk-serial {display: flex;flex-direction: column;align-items: center;background-color: white;padding-right: 0.2em;padding-left: 0.2em;position: relative;}#sk-container-id-1 div.sk-item {position: relative;z-index: 1;}#sk-container-id-1 div.sk-parallel {display: flex;align-items: stretch;justify-content: center;background-color: white;position: relative;}#sk-container-id-1 div.sk-item::before, #sk-container-id-1 div.sk-parallel-item::before {content: \"\";position: absolute;border-left: 1px solid gray;box-sizing: border-box;top: 0;bottom: 0;left: 50%;z-index: -1;}#sk-container-id-1 div.sk-parallel-item {display: flex;flex-direction: column;z-index: 1;position: relative;background-color: white;}#sk-container-id-1 div.sk-parallel-item:first-child::after {align-self: flex-end;width: 50%;}#sk-container-id-1 div.sk-parallel-item:last-child::after {align-self: flex-start;width: 50%;}#sk-container-id-1 div.sk-parallel-item:only-child::after {width: 0;}#sk-container-id-1 div.sk-dashed-wrapped {border: 1px dashed gray;margin: 0 0.4em 0.5em 0.4em;box-sizing: border-box;padding-bottom: 0.4em;background-color: white;}#sk-container-id-1 div.sk-label label {font-family: monospace;font-weight: bold;display: inline-block;line-height: 1.2em;}#sk-container-id-1 div.sk-label-container {text-align: center;}#sk-container-id-1 div.sk-container {/* jupyter's `normalize.less` sets `[hidden] { display: none; }` but bootstrap.min.css set `[hidden] { display: none !important; }` so we also need the `!important` here to be able to override the default hidden behavior on the sphinx rendered scikit-learn.org. See: https://github.com/scikit-learn/scikit-learn/issues/21755 */display: inline-block !important;position: relative;}#sk-container-id-1 div.sk-text-repr-fallback {display: none;}</style><div id=\"sk-container-id-1\" class=\"sk-top-container\"><div class=\"sk-text-repr-fallback\"><pre>GridSearchCV(cv=KFold(n_splits=5, random_state=42, shuffle=True),\n",
       "             estimator=GradientBoostingRegressor(), n_jobs=-1,\n",
       "             param_grid={&#x27;learning_rate&#x27;: [0.01, 0.04], &#x27;max_depth&#x27;: [4, 10],\n",
       "                         &#x27;n_estimators&#x27;: [100, 1000, 2000],\n",
       "                         &#x27;subsample&#x27;: [0.9, 0.5]},\n",
       "             verbose=1)</pre><b>In a Jupyter environment, please rerun this cell to show the HTML representation or trust the notebook. <br />On GitHub, the HTML representation is unable to render, please try loading this page with nbviewer.org.</b></div><div class=\"sk-container\" hidden><div class=\"sk-item sk-dashed-wrapped\"><div class=\"sk-label-container\"><div class=\"sk-label sk-toggleable\"><input class=\"sk-toggleable__control sk-hidden--visually\" id=\"sk-estimator-id-1\" type=\"checkbox\" ><label for=\"sk-estimator-id-1\" class=\"sk-toggleable__label sk-toggleable__label-arrow\">GridSearchCV</label><div class=\"sk-toggleable__content\"><pre>GridSearchCV(cv=KFold(n_splits=5, random_state=42, shuffle=True),\n",
       "             estimator=GradientBoostingRegressor(), n_jobs=-1,\n",
       "             param_grid={&#x27;learning_rate&#x27;: [0.01, 0.04], &#x27;max_depth&#x27;: [4, 10],\n",
       "                         &#x27;n_estimators&#x27;: [100, 1000, 2000],\n",
       "                         &#x27;subsample&#x27;: [0.9, 0.5]},\n",
       "             verbose=1)</pre></div></div></div><div class=\"sk-parallel\"><div class=\"sk-parallel-item\"><div class=\"sk-item\"><div class=\"sk-label-container\"><div class=\"sk-label sk-toggleable\"><input class=\"sk-toggleable__control sk-hidden--visually\" id=\"sk-estimator-id-2\" type=\"checkbox\" ><label for=\"sk-estimator-id-2\" class=\"sk-toggleable__label sk-toggleable__label-arrow\">estimator: GradientBoostingRegressor</label><div class=\"sk-toggleable__content\"><pre>GradientBoostingRegressor()</pre></div></div></div><div class=\"sk-serial\"><div class=\"sk-item\"><div class=\"sk-estimator sk-toggleable\"><input class=\"sk-toggleable__control sk-hidden--visually\" id=\"sk-estimator-id-3\" type=\"checkbox\" ><label for=\"sk-estimator-id-3\" class=\"sk-toggleable__label sk-toggleable__label-arrow\">GradientBoostingRegressor</label><div class=\"sk-toggleable__content\"><pre>GradientBoostingRegressor()</pre></div></div></div></div></div></div></div></div></div></div>"
      ],
      "text/plain": [
       "GridSearchCV(cv=KFold(n_splits=5, random_state=42, shuffle=True),\n",
       "             estimator=GradientBoostingRegressor(), n_jobs=-1,\n",
       "             param_grid={'learning_rate': [0.01, 0.04], 'max_depth': [4, 10],\n",
       "                         'n_estimators': [100, 1000, 2000],\n",
       "                         'subsample': [0.9, 0.5]},\n",
       "             verbose=1)"
      ]
     },
     "execution_count": 39,
     "metadata": {},
     "output_type": "execute_result"
    }
   ],
   "source": [
    "m.fit(x_tr, y_tr)"
   ]
  },
  {
   "cell_type": "code",
   "execution_count": 40,
   "metadata": {},
   "outputs": [],
   "source": [
    "best_GBR = m.best_estimator_"
   ]
  },
  {
   "cell_type": "code",
   "execution_count": 41,
   "metadata": {},
   "outputs": [
    {
     "data": {
      "text/plain": [
       "{'learning_rate': 0.01,\n",
       " 'max_depth': 10,\n",
       " 'n_estimators': 1000,\n",
       " 'subsample': 0.5}"
      ]
     },
     "execution_count": 41,
     "metadata": {},
     "output_type": "execute_result"
    }
   ],
   "source": [
    "m.best_params_"
   ]
  },
  {
   "cell_type": "code",
   "execution_count": 42,
   "metadata": {},
   "outputs": [],
   "source": [
    "y_pred_CV_GBR = cross_val_predict(best_GBR, x_tr, y_tr, cv=cv)"
   ]
  },
  {
   "cell_type": "code",
   "execution_count": 43,
   "metadata": {},
   "outputs": [
    {
     "data": {
      "text/plain": [
       "array([5.4219498 , 5.94124989, 4.51220331, ..., 9.52333084, 6.57314152,\n",
       "       9.24872124])"
      ]
     },
     "execution_count": 43,
     "metadata": {},
     "output_type": "execute_result"
    }
   ],
   "source": [
    "y_pred_CV_GBR"
   ]
  },
  {
   "cell_type": "code",
   "execution_count": 44,
   "metadata": {},
   "outputs": [
    {
     "data": {
      "text/plain": [
       "0.67"
      ]
     },
     "execution_count": 44,
     "metadata": {},
     "output_type": "execute_result"
    }
   ],
   "source": [
    "Q2_CV = round(r2_score(y_tr, y_pred_CV_GBR), 2)\n",
    "Q2_CV"
   ]
  },
  {
   "cell_type": "code",
   "execution_count": 46,
   "metadata": {},
   "outputs": [
    {
     "data": {
      "text/plain": [
       "0.7"
      ]
     },
     "execution_count": 46,
     "metadata": {},
     "output_type": "execute_result"
    }
   ],
   "source": [
    "RMSE_CV=round(np.sqrt(mean_squared_error(y_tr, y_pred_CV_GBR)), 2)\n",
    "RMSE_CV"
   ]
  },
  {
   "cell_type": "markdown",
   "metadata": {},
   "source": [
    "# 9. Prediction for test set's molecules"
   ]
  },
  {
   "cell_type": "code",
   "execution_count": 47,
   "metadata": {},
   "outputs": [
    {
     "data": {
      "text/plain": [
       "351"
      ]
     },
     "execution_count": 47,
     "metadata": {},
     "output_type": "execute_result"
    }
   ],
   "source": [
    "x_ts = np.array(x_ts, dtype=np.float32)\n",
    "y_ts = np.array(y_ts, dtype=np.float32)\n",
    "len(y_ts)"
   ]
  },
  {
   "cell_type": "code",
   "execution_count": 48,
   "metadata": {},
   "outputs": [],
   "source": [
    "y_pred_GBR = best_GBR.predict(x_ts)"
   ]
  },
  {
   "cell_type": "code",
   "execution_count": 49,
   "metadata": {},
   "outputs": [
    {
     "data": {
      "text/plain": [
       "0.69"
      ]
     },
     "execution_count": 49,
     "metadata": {},
     "output_type": "execute_result"
    }
   ],
   "source": [
    "Q2_TS = round(r2_score(y_ts, y_pred_GBR), 2)\n",
    "Q2_TS"
   ]
  },
  {
   "cell_type": "code",
   "execution_count": 50,
   "metadata": {},
   "outputs": [
    {
     "data": {
      "text/plain": [
       "0.68"
      ]
     },
     "execution_count": 50,
     "metadata": {},
     "output_type": "execute_result"
    }
   ],
   "source": [
    "RMSE_TS=round(np.sqrt(mean_squared_error(y_ts, y_pred_GBR)), 2)\n",
    "RMSE_TS"
   ]
  },
  {
   "cell_type": "markdown",
   "metadata": {},
   "source": [
    "# save the model to disk"
   ]
  },
  {
   "cell_type": "code",
   "execution_count": 51,
   "metadata": {},
   "outputs": [],
   "source": [
    "pickle.dump(best_GBR, open('Models/Padels/HDAC3_GBR_KlekotaRoth.pkl', 'wb'))"
   ]
  },
  {
   "cell_type": "markdown",
   "metadata": {},
   "source": [
    "# load the model from disk"
   ]
  },
  {
   "cell_type": "code",
   "execution_count": 27,
   "metadata": {},
   "outputs": [],
   "source": [
    "best_GBR = pickle.load(open('Models/Padels/HDAC3_GBR_KlekotaRoth.pkl', 'rb'))"
   ]
  },
  {
   "cell_type": "code",
   "execution_count": 55,
   "metadata": {},
   "outputs": [],
   "source": [
    "estimator = GradientBoostingRegressor(learning_rate=0.01,subsample= 0.5, n_estimators=1000, max_depth= 10,  random_state=seed)"
   ]
  },
  {
   "cell_type": "markdown",
   "metadata": {},
   "source": [
    "# VarianceThreshold"
   ]
  },
  {
   "cell_type": "code",
   "execution_count": 52,
   "metadata": {},
   "outputs": [],
   "source": [
    "from sklearn.feature_selection import VarianceThreshold"
   ]
  },
  {
   "cell_type": "code",
   "execution_count": 53,
   "metadata": {},
   "outputs": [],
   "source": [
    "def variance_threshold_selector(data, threshold=0.5):\n",
    "    selector = VarianceThreshold(threshold)\n",
    "    selector.fit(data)\n",
    "    return data[data.columns[selector.get_support(indices=True)]]"
   ]
  },
  {
   "cell_type": "code",
   "execution_count": 54,
   "metadata": {},
   "outputs": [
    {
     "data": {
      "text/html": [
       "<div>\n",
       "<style scoped>\n",
       "    .dataframe tbody tr th:only-of-type {\n",
       "        vertical-align: middle;\n",
       "    }\n",
       "\n",
       "    .dataframe tbody tr th {\n",
       "        vertical-align: top;\n",
       "    }\n",
       "\n",
       "    .dataframe thead th {\n",
       "        text-align: right;\n",
       "    }\n",
       "</style>\n",
       "<table border=\"1\" class=\"dataframe\">\n",
       "  <thead>\n",
       "    <tr style=\"text-align: right;\">\n",
       "      <th></th>\n",
       "      <th>KRFP1</th>\n",
       "      <th>KRFP2</th>\n",
       "      <th>KRFP14</th>\n",
       "      <th>KRFP16</th>\n",
       "      <th>KRFP20</th>\n",
       "      <th>KRFP92</th>\n",
       "      <th>KRFP126</th>\n",
       "      <th>KRFP133</th>\n",
       "      <th>KRFP297</th>\n",
       "      <th>KRFP298</th>\n",
       "      <th>...</th>\n",
       "      <th>KRFP4301</th>\n",
       "      <th>KRFP4317</th>\n",
       "      <th>KRFP4479</th>\n",
       "      <th>KRFP4525</th>\n",
       "      <th>KRFP4531</th>\n",
       "      <th>KRFP4695</th>\n",
       "      <th>KRFP4752</th>\n",
       "      <th>KRFP4770</th>\n",
       "      <th>KRFP4835</th>\n",
       "      <th>KRFP4843</th>\n",
       "    </tr>\n",
       "  </thead>\n",
       "  <tbody>\n",
       "    <tr>\n",
       "      <th>0</th>\n",
       "      <td>1</td>\n",
       "      <td>0</td>\n",
       "      <td>0</td>\n",
       "      <td>0</td>\n",
       "      <td>0</td>\n",
       "      <td>0</td>\n",
       "      <td>0</td>\n",
       "      <td>0</td>\n",
       "      <td>1</td>\n",
       "      <td>1</td>\n",
       "      <td>...</td>\n",
       "      <td>0</td>\n",
       "      <td>0</td>\n",
       "      <td>0</td>\n",
       "      <td>1</td>\n",
       "      <td>0</td>\n",
       "      <td>0</td>\n",
       "      <td>0</td>\n",
       "      <td>0</td>\n",
       "      <td>1</td>\n",
       "      <td>0</td>\n",
       "    </tr>\n",
       "    <tr>\n",
       "      <th>1</th>\n",
       "      <td>1</td>\n",
       "      <td>0</td>\n",
       "      <td>0</td>\n",
       "      <td>0</td>\n",
       "      <td>1</td>\n",
       "      <td>0</td>\n",
       "      <td>0</td>\n",
       "      <td>0</td>\n",
       "      <td>1</td>\n",
       "      <td>1</td>\n",
       "      <td>...</td>\n",
       "      <td>0</td>\n",
       "      <td>0</td>\n",
       "      <td>0</td>\n",
       "      <td>1</td>\n",
       "      <td>0</td>\n",
       "      <td>0</td>\n",
       "      <td>0</td>\n",
       "      <td>0</td>\n",
       "      <td>1</td>\n",
       "      <td>0</td>\n",
       "    </tr>\n",
       "    <tr>\n",
       "      <th>2</th>\n",
       "      <td>0</td>\n",
       "      <td>0</td>\n",
       "      <td>0</td>\n",
       "      <td>0</td>\n",
       "      <td>0</td>\n",
       "      <td>0</td>\n",
       "      <td>0</td>\n",
       "      <td>0</td>\n",
       "      <td>1</td>\n",
       "      <td>0</td>\n",
       "      <td>...</td>\n",
       "      <td>0</td>\n",
       "      <td>0</td>\n",
       "      <td>0</td>\n",
       "      <td>0</td>\n",
       "      <td>0</td>\n",
       "      <td>1</td>\n",
       "      <td>0</td>\n",
       "      <td>0</td>\n",
       "      <td>0</td>\n",
       "      <td>0</td>\n",
       "    </tr>\n",
       "    <tr>\n",
       "      <th>3</th>\n",
       "      <td>0</td>\n",
       "      <td>0</td>\n",
       "      <td>0</td>\n",
       "      <td>0</td>\n",
       "      <td>0</td>\n",
       "      <td>0</td>\n",
       "      <td>0</td>\n",
       "      <td>0</td>\n",
       "      <td>1</td>\n",
       "      <td>0</td>\n",
       "      <td>...</td>\n",
       "      <td>0</td>\n",
       "      <td>0</td>\n",
       "      <td>0</td>\n",
       "      <td>0</td>\n",
       "      <td>0</td>\n",
       "      <td>0</td>\n",
       "      <td>0</td>\n",
       "      <td>0</td>\n",
       "      <td>0</td>\n",
       "      <td>0</td>\n",
       "    </tr>\n",
       "    <tr>\n",
       "      <th>4</th>\n",
       "      <td>0</td>\n",
       "      <td>0</td>\n",
       "      <td>0</td>\n",
       "      <td>0</td>\n",
       "      <td>0</td>\n",
       "      <td>0</td>\n",
       "      <td>0</td>\n",
       "      <td>0</td>\n",
       "      <td>1</td>\n",
       "      <td>0</td>\n",
       "      <td>...</td>\n",
       "      <td>0</td>\n",
       "      <td>0</td>\n",
       "      <td>0</td>\n",
       "      <td>0</td>\n",
       "      <td>0</td>\n",
       "      <td>1</td>\n",
       "      <td>0</td>\n",
       "      <td>0</td>\n",
       "      <td>0</td>\n",
       "      <td>1</td>\n",
       "    </tr>\n",
       "    <tr>\n",
       "      <th>...</th>\n",
       "      <td>...</td>\n",
       "      <td>...</td>\n",
       "      <td>...</td>\n",
       "      <td>...</td>\n",
       "      <td>...</td>\n",
       "      <td>...</td>\n",
       "      <td>...</td>\n",
       "      <td>...</td>\n",
       "      <td>...</td>\n",
       "      <td>...</td>\n",
       "      <td>...</td>\n",
       "      <td>...</td>\n",
       "      <td>...</td>\n",
       "      <td>...</td>\n",
       "      <td>...</td>\n",
       "      <td>...</td>\n",
       "      <td>...</td>\n",
       "      <td>...</td>\n",
       "      <td>...</td>\n",
       "      <td>...</td>\n",
       "      <td>...</td>\n",
       "    </tr>\n",
       "    <tr>\n",
       "      <th>1395</th>\n",
       "      <td>1</td>\n",
       "      <td>0</td>\n",
       "      <td>1</td>\n",
       "      <td>1</td>\n",
       "      <td>1</td>\n",
       "      <td>1</td>\n",
       "      <td>0</td>\n",
       "      <td>0</td>\n",
       "      <td>1</td>\n",
       "      <td>1</td>\n",
       "      <td>...</td>\n",
       "      <td>0</td>\n",
       "      <td>0</td>\n",
       "      <td>1</td>\n",
       "      <td>0</td>\n",
       "      <td>0</td>\n",
       "      <td>0</td>\n",
       "      <td>0</td>\n",
       "      <td>0</td>\n",
       "      <td>0</td>\n",
       "      <td>0</td>\n",
       "    </tr>\n",
       "    <tr>\n",
       "      <th>1396</th>\n",
       "      <td>1</td>\n",
       "      <td>0</td>\n",
       "      <td>0</td>\n",
       "      <td>1</td>\n",
       "      <td>1</td>\n",
       "      <td>0</td>\n",
       "      <td>0</td>\n",
       "      <td>0</td>\n",
       "      <td>1</td>\n",
       "      <td>1</td>\n",
       "      <td>...</td>\n",
       "      <td>0</td>\n",
       "      <td>0</td>\n",
       "      <td>1</td>\n",
       "      <td>0</td>\n",
       "      <td>0</td>\n",
       "      <td>0</td>\n",
       "      <td>0</td>\n",
       "      <td>0</td>\n",
       "      <td>0</td>\n",
       "      <td>0</td>\n",
       "    </tr>\n",
       "    <tr>\n",
       "      <th>1397</th>\n",
       "      <td>1</td>\n",
       "      <td>0</td>\n",
       "      <td>0</td>\n",
       "      <td>1</td>\n",
       "      <td>1</td>\n",
       "      <td>0</td>\n",
       "      <td>0</td>\n",
       "      <td>0</td>\n",
       "      <td>1</td>\n",
       "      <td>1</td>\n",
       "      <td>...</td>\n",
       "      <td>0</td>\n",
       "      <td>0</td>\n",
       "      <td>1</td>\n",
       "      <td>0</td>\n",
       "      <td>0</td>\n",
       "      <td>0</td>\n",
       "      <td>0</td>\n",
       "      <td>0</td>\n",
       "      <td>0</td>\n",
       "      <td>0</td>\n",
       "    </tr>\n",
       "    <tr>\n",
       "      <th>1398</th>\n",
       "      <td>1</td>\n",
       "      <td>0</td>\n",
       "      <td>0</td>\n",
       "      <td>1</td>\n",
       "      <td>1</td>\n",
       "      <td>0</td>\n",
       "      <td>0</td>\n",
       "      <td>0</td>\n",
       "      <td>1</td>\n",
       "      <td>1</td>\n",
       "      <td>...</td>\n",
       "      <td>0</td>\n",
       "      <td>0</td>\n",
       "      <td>0</td>\n",
       "      <td>0</td>\n",
       "      <td>0</td>\n",
       "      <td>0</td>\n",
       "      <td>0</td>\n",
       "      <td>0</td>\n",
       "      <td>0</td>\n",
       "      <td>0</td>\n",
       "    </tr>\n",
       "    <tr>\n",
       "      <th>1399</th>\n",
       "      <td>1</td>\n",
       "      <td>0</td>\n",
       "      <td>0</td>\n",
       "      <td>1</td>\n",
       "      <td>1</td>\n",
       "      <td>0</td>\n",
       "      <td>0</td>\n",
       "      <td>0</td>\n",
       "      <td>1</td>\n",
       "      <td>1</td>\n",
       "      <td>...</td>\n",
       "      <td>0</td>\n",
       "      <td>0</td>\n",
       "      <td>1</td>\n",
       "      <td>0</td>\n",
       "      <td>0</td>\n",
       "      <td>0</td>\n",
       "      <td>0</td>\n",
       "      <td>0</td>\n",
       "      <td>0</td>\n",
       "      <td>0</td>\n",
       "    </tr>\n",
       "  </tbody>\n",
       "</table>\n",
       "<p>1400 rows × 226 columns</p>\n",
       "</div>"
      ],
      "text/plain": [
       "      KRFP1  KRFP2  KRFP14  KRFP16  KRFP20  KRFP92  KRFP126  KRFP133  KRFP297  \\\n",
       "0         1      0       0       0       0       0        0        0        1   \n",
       "1         1      0       0       0       1       0        0        0        1   \n",
       "2         0      0       0       0       0       0        0        0        1   \n",
       "3         0      0       0       0       0       0        0        0        1   \n",
       "4         0      0       0       0       0       0        0        0        1   \n",
       "...     ...    ...     ...     ...     ...     ...      ...      ...      ...   \n",
       "1395      1      0       1       1       1       1        0        0        1   \n",
       "1396      1      0       0       1       1       0        0        0        1   \n",
       "1397      1      0       0       1       1       0        0        0        1   \n",
       "1398      1      0       0       1       1       0        0        0        1   \n",
       "1399      1      0       0       1       1       0        0        0        1   \n",
       "\n",
       "      KRFP298  ...  KRFP4301  KRFP4317  KRFP4479  KRFP4525  KRFP4531  \\\n",
       "0           1  ...         0         0         0         1         0   \n",
       "1           1  ...         0         0         0         1         0   \n",
       "2           0  ...         0         0         0         0         0   \n",
       "3           0  ...         0         0         0         0         0   \n",
       "4           0  ...         0         0         0         0         0   \n",
       "...       ...  ...       ...       ...       ...       ...       ...   \n",
       "1395        1  ...         0         0         1         0         0   \n",
       "1396        1  ...         0         0         1         0         0   \n",
       "1397        1  ...         0         0         1         0         0   \n",
       "1398        1  ...         0         0         0         0         0   \n",
       "1399        1  ...         0         0         1         0         0   \n",
       "\n",
       "      KRFP4695  KRFP4752  KRFP4770  KRFP4835  KRFP4843  \n",
       "0            0         0         0         1         0  \n",
       "1            0         0         0         1         0  \n",
       "2            1         0         0         0         0  \n",
       "3            0         0         0         0         0  \n",
       "4            1         0         0         0         1  \n",
       "...        ...       ...       ...       ...       ...  \n",
       "1395         0         0         0         0         0  \n",
       "1396         0         0         0         0         0  \n",
       "1397         0         0         0         0         0  \n",
       "1398         0         0         0         0         0  \n",
       "1399         0         0         0         0         0  \n",
       "\n",
       "[1400 rows x 226 columns]"
      ]
     },
     "execution_count": 54,
     "metadata": {},
     "output_type": "execute_result"
    }
   ],
   "source": [
    "x_tr_const_and_nearcont=variance_threshold_selector(descriptors_ws, 0.05)\n",
    "x_tr_const_and_nearcont"
   ]
  },
  {
   "cell_type": "code",
   "execution_count": 56,
   "metadata": {},
   "outputs": [
    {
     "data": {
      "text/html": [
       "<style>#sk-container-id-2 {color: black;}#sk-container-id-2 pre{padding: 0;}#sk-container-id-2 div.sk-toggleable {background-color: white;}#sk-container-id-2 label.sk-toggleable__label {cursor: pointer;display: block;width: 100%;margin-bottom: 0;padding: 0.3em;box-sizing: border-box;text-align: center;}#sk-container-id-2 label.sk-toggleable__label-arrow:before {content: \"▸\";float: left;margin-right: 0.25em;color: #696969;}#sk-container-id-2 label.sk-toggleable__label-arrow:hover:before {color: black;}#sk-container-id-2 div.sk-estimator:hover label.sk-toggleable__label-arrow:before {color: black;}#sk-container-id-2 div.sk-toggleable__content {max-height: 0;max-width: 0;overflow: hidden;text-align: left;background-color: #f0f8ff;}#sk-container-id-2 div.sk-toggleable__content pre {margin: 0.2em;color: black;border-radius: 0.25em;background-color: #f0f8ff;}#sk-container-id-2 input.sk-toggleable__control:checked~div.sk-toggleable__content {max-height: 200px;max-width: 100%;overflow: auto;}#sk-container-id-2 input.sk-toggleable__control:checked~label.sk-toggleable__label-arrow:before {content: \"▾\";}#sk-container-id-2 div.sk-estimator input.sk-toggleable__control:checked~label.sk-toggleable__label {background-color: #d4ebff;}#sk-container-id-2 div.sk-label input.sk-toggleable__control:checked~label.sk-toggleable__label {background-color: #d4ebff;}#sk-container-id-2 input.sk-hidden--visually {border: 0;clip: rect(1px 1px 1px 1px);clip: rect(1px, 1px, 1px, 1px);height: 1px;margin: -1px;overflow: hidden;padding: 0;position: absolute;width: 1px;}#sk-container-id-2 div.sk-estimator {font-family: monospace;background-color: #f0f8ff;border: 1px dotted black;border-radius: 0.25em;box-sizing: border-box;margin-bottom: 0.5em;}#sk-container-id-2 div.sk-estimator:hover {background-color: #d4ebff;}#sk-container-id-2 div.sk-parallel-item::after {content: \"\";width: 100%;border-bottom: 1px solid gray;flex-grow: 1;}#sk-container-id-2 div.sk-label:hover label.sk-toggleable__label {background-color: #d4ebff;}#sk-container-id-2 div.sk-serial::before {content: \"\";position: absolute;border-left: 1px solid gray;box-sizing: border-box;top: 0;bottom: 0;left: 50%;z-index: 0;}#sk-container-id-2 div.sk-serial {display: flex;flex-direction: column;align-items: center;background-color: white;padding-right: 0.2em;padding-left: 0.2em;position: relative;}#sk-container-id-2 div.sk-item {position: relative;z-index: 1;}#sk-container-id-2 div.sk-parallel {display: flex;align-items: stretch;justify-content: center;background-color: white;position: relative;}#sk-container-id-2 div.sk-item::before, #sk-container-id-2 div.sk-parallel-item::before {content: \"\";position: absolute;border-left: 1px solid gray;box-sizing: border-box;top: 0;bottom: 0;left: 50%;z-index: -1;}#sk-container-id-2 div.sk-parallel-item {display: flex;flex-direction: column;z-index: 1;position: relative;background-color: white;}#sk-container-id-2 div.sk-parallel-item:first-child::after {align-self: flex-end;width: 50%;}#sk-container-id-2 div.sk-parallel-item:last-child::after {align-self: flex-start;width: 50%;}#sk-container-id-2 div.sk-parallel-item:only-child::after {width: 0;}#sk-container-id-2 div.sk-dashed-wrapped {border: 1px dashed gray;margin: 0 0.4em 0.5em 0.4em;box-sizing: border-box;padding-bottom: 0.4em;background-color: white;}#sk-container-id-2 div.sk-label label {font-family: monospace;font-weight: bold;display: inline-block;line-height: 1.2em;}#sk-container-id-2 div.sk-label-container {text-align: center;}#sk-container-id-2 div.sk-container {/* jupyter's `normalize.less` sets `[hidden] { display: none; }` but bootstrap.min.css set `[hidden] { display: none !important; }` so we also need the `!important` here to be able to override the default hidden behavior on the sphinx rendered scikit-learn.org. See: https://github.com/scikit-learn/scikit-learn/issues/21755 */display: inline-block !important;position: relative;}#sk-container-id-2 div.sk-text-repr-fallback {display: none;}</style><div id=\"sk-container-id-2\" class=\"sk-top-container\"><div class=\"sk-text-repr-fallback\"><pre>GradientBoostingRegressor(learning_rate=0.01, max_depth=10, n_estimators=1000,\n",
       "                          random_state=42, subsample=0.5)</pre><b>In a Jupyter environment, please rerun this cell to show the HTML representation or trust the notebook. <br />On GitHub, the HTML representation is unable to render, please try loading this page with nbviewer.org.</b></div><div class=\"sk-container\" hidden><div class=\"sk-item\"><div class=\"sk-estimator sk-toggleable\"><input class=\"sk-toggleable__control sk-hidden--visually\" id=\"sk-estimator-id-4\" type=\"checkbox\" checked><label for=\"sk-estimator-id-4\" class=\"sk-toggleable__label sk-toggleable__label-arrow\">GradientBoostingRegressor</label><div class=\"sk-toggleable__content\"><pre>GradientBoostingRegressor(learning_rate=0.01, max_depth=10, n_estimators=1000,\n",
       "                          random_state=42, subsample=0.5)</pre></div></div></div></div></div>"
      ],
      "text/plain": [
       "GradientBoostingRegressor(learning_rate=0.01, max_depth=10, n_estimators=1000,\n",
       "                          random_state=42, subsample=0.5)"
      ]
     },
     "execution_count": 56,
     "metadata": {},
     "output_type": "execute_result"
    }
   ],
   "source": [
    "estimator.fit(x_tr_const_and_nearcont, y_tr)"
   ]
  },
  {
   "cell_type": "code",
   "execution_count": 57,
   "metadata": {},
   "outputs": [],
   "source": [
    "y_pred_CV_GBR = cross_val_predict(estimator, x_tr_const_and_nearcont, y_tr, cv=cv, n_jobs=-1)"
   ]
  },
  {
   "cell_type": "code",
   "execution_count": 58,
   "metadata": {},
   "outputs": [
    {
     "data": {
      "text/plain": [
       "0.65"
      ]
     },
     "execution_count": 58,
     "metadata": {},
     "output_type": "execute_result"
    }
   ],
   "source": [
    "Q2_CV = round(r2_score(y_tr, y_pred_CV_GBR), 2)\n",
    "Q2_CV"
   ]
  },
  {
   "cell_type": "code",
   "execution_count": 59,
   "metadata": {},
   "outputs": [
    {
     "data": {
      "text/plain": [
       "0.72"
      ]
     },
     "execution_count": 59,
     "metadata": {},
     "output_type": "execute_result"
    }
   ],
   "source": [
    "RMSE_CV=round(np.sqrt(mean_squared_error(y_tr, y_pred_CV_GBR)), 2)\n",
    "RMSE_CV"
   ]
  },
  {
   "cell_type": "markdown",
   "metadata": {},
   "source": [
    "# Removing highly correlated features"
   ]
  },
  {
   "cell_type": "code",
   "execution_count": 60,
   "metadata": {},
   "outputs": [
    {
     "data": {
      "text/html": [
       "<div>\n",
       "<style scoped>\n",
       "    .dataframe tbody tr th:only-of-type {\n",
       "        vertical-align: middle;\n",
       "    }\n",
       "\n",
       "    .dataframe tbody tr th {\n",
       "        vertical-align: top;\n",
       "    }\n",
       "\n",
       "    .dataframe thead th {\n",
       "        text-align: right;\n",
       "    }\n",
       "</style>\n",
       "<table border=\"1\" class=\"dataframe\">\n",
       "  <thead>\n",
       "    <tr style=\"text-align: right;\">\n",
       "      <th></th>\n",
       "      <th>KRFP1</th>\n",
       "      <th>KRFP2</th>\n",
       "      <th>KRFP14</th>\n",
       "      <th>KRFP16</th>\n",
       "      <th>KRFP20</th>\n",
       "      <th>KRFP92</th>\n",
       "      <th>KRFP126</th>\n",
       "      <th>KRFP133</th>\n",
       "      <th>KRFP297</th>\n",
       "      <th>KRFP298</th>\n",
       "      <th>...</th>\n",
       "      <th>KRFP4301</th>\n",
       "      <th>KRFP4317</th>\n",
       "      <th>KRFP4479</th>\n",
       "      <th>KRFP4525</th>\n",
       "      <th>KRFP4531</th>\n",
       "      <th>KRFP4695</th>\n",
       "      <th>KRFP4752</th>\n",
       "      <th>KRFP4770</th>\n",
       "      <th>KRFP4835</th>\n",
       "      <th>KRFP4843</th>\n",
       "    </tr>\n",
       "  </thead>\n",
       "  <tbody>\n",
       "    <tr>\n",
       "      <th>KRFP1</th>\n",
       "      <td>1.000000</td>\n",
       "      <td>0.319435</td>\n",
       "      <td>0.405381</td>\n",
       "      <td>0.622856</td>\n",
       "      <td>0.673174</td>\n",
       "      <td>0.359434</td>\n",
       "      <td>0.014195</td>\n",
       "      <td>0.090015</td>\n",
       "      <td>0.139301</td>\n",
       "      <td>0.835266</td>\n",
       "      <td>...</td>\n",
       "      <td>0.191059</td>\n",
       "      <td>0.189786</td>\n",
       "      <td>0.349752</td>\n",
       "      <td>0.056149</td>\n",
       "      <td>0.344055</td>\n",
       "      <td>0.163163</td>\n",
       "      <td>0.101695</td>\n",
       "      <td>0.031184</td>\n",
       "      <td>0.147949</td>\n",
       "      <td>0.079000</td>\n",
       "    </tr>\n",
       "    <tr>\n",
       "      <th>KRFP2</th>\n",
       "      <td>0.319435</td>\n",
       "      <td>1.000000</td>\n",
       "      <td>0.435205</td>\n",
       "      <td>0.184842</td>\n",
       "      <td>0.377593</td>\n",
       "      <td>0.392072</td>\n",
       "      <td>0.221563</td>\n",
       "      <td>0.032162</td>\n",
       "      <td>0.062596</td>\n",
       "      <td>0.295286</td>\n",
       "      <td>...</td>\n",
       "      <td>0.063004</td>\n",
       "      <td>0.062608</td>\n",
       "      <td>0.043027</td>\n",
       "      <td>0.058984</td>\n",
       "      <td>0.330902</td>\n",
       "      <td>0.424515</td>\n",
       "      <td>0.250875</td>\n",
       "      <td>0.234422</td>\n",
       "      <td>0.002453</td>\n",
       "      <td>0.216409</td>\n",
       "    </tr>\n",
       "    <tr>\n",
       "      <th>KRFP14</th>\n",
       "      <td>0.405381</td>\n",
       "      <td>0.435205</td>\n",
       "      <td>1.000000</td>\n",
       "      <td>0.262185</td>\n",
       "      <td>0.237228</td>\n",
       "      <td>0.886657</td>\n",
       "      <td>0.159416</td>\n",
       "      <td>0.042796</td>\n",
       "      <td>0.048003</td>\n",
       "      <td>0.222813</td>\n",
       "      <td>...</td>\n",
       "      <td>0.079955</td>\n",
       "      <td>0.079453</td>\n",
       "      <td>0.065577</td>\n",
       "      <td>0.054341</td>\n",
       "      <td>0.401607</td>\n",
       "      <td>0.162742</td>\n",
       "      <td>0.027848</td>\n",
       "      <td>0.082430</td>\n",
       "      <td>0.028514</td>\n",
       "      <td>0.198342</td>\n",
       "    </tr>\n",
       "    <tr>\n",
       "      <th>KRFP16</th>\n",
       "      <td>0.622856</td>\n",
       "      <td>0.184842</td>\n",
       "      <td>0.262185</td>\n",
       "      <td>1.000000</td>\n",
       "      <td>0.654184</td>\n",
       "      <td>0.252883</td>\n",
       "      <td>0.066862</td>\n",
       "      <td>0.095841</td>\n",
       "      <td>0.123864</td>\n",
       "      <td>0.693757</td>\n",
       "      <td>...</td>\n",
       "      <td>0.122849</td>\n",
       "      <td>0.122078</td>\n",
       "      <td>0.496594</td>\n",
       "      <td>0.030523</td>\n",
       "      <td>0.539599</td>\n",
       "      <td>0.147499</td>\n",
       "      <td>0.050639</td>\n",
       "      <td>0.059741</td>\n",
       "      <td>0.383404</td>\n",
       "      <td>0.155819</td>\n",
       "    </tr>\n",
       "    <tr>\n",
       "      <th>KRFP20</th>\n",
       "      <td>0.673174</td>\n",
       "      <td>0.377593</td>\n",
       "      <td>0.237228</td>\n",
       "      <td>0.654184</td>\n",
       "      <td>1.000000</td>\n",
       "      <td>0.231165</td>\n",
       "      <td>0.035043</td>\n",
       "      <td>0.122590</td>\n",
       "      <td>0.098203</td>\n",
       "      <td>0.699135</td>\n",
       "      <td>...</td>\n",
       "      <td>0.125484</td>\n",
       "      <td>0.124610</td>\n",
       "      <td>0.519556</td>\n",
       "      <td>0.057138</td>\n",
       "      <td>0.516270</td>\n",
       "      <td>0.298056</td>\n",
       "      <td>0.055070</td>\n",
       "      <td>0.047656</td>\n",
       "      <td>0.237082</td>\n",
       "      <td>0.121277</td>\n",
       "    </tr>\n",
       "    <tr>\n",
       "      <th>...</th>\n",
       "      <td>...</td>\n",
       "      <td>...</td>\n",
       "      <td>...</td>\n",
       "      <td>...</td>\n",
       "      <td>...</td>\n",
       "      <td>...</td>\n",
       "      <td>...</td>\n",
       "      <td>...</td>\n",
       "      <td>...</td>\n",
       "      <td>...</td>\n",
       "      <td>...</td>\n",
       "      <td>...</td>\n",
       "      <td>...</td>\n",
       "      <td>...</td>\n",
       "      <td>...</td>\n",
       "      <td>...</td>\n",
       "      <td>...</td>\n",
       "      <td>...</td>\n",
       "      <td>...</td>\n",
       "      <td>...</td>\n",
       "      <td>...</td>\n",
       "    </tr>\n",
       "    <tr>\n",
       "      <th>KRFP4695</th>\n",
       "      <td>0.163163</td>\n",
       "      <td>0.424515</td>\n",
       "      <td>0.162742</td>\n",
       "      <td>0.147499</td>\n",
       "      <td>0.298056</td>\n",
       "      <td>0.192072</td>\n",
       "      <td>0.114990</td>\n",
       "      <td>0.087375</td>\n",
       "      <td>0.084508</td>\n",
       "      <td>0.211875</td>\n",
       "      <td>...</td>\n",
       "      <td>0.079955</td>\n",
       "      <td>0.079453</td>\n",
       "      <td>0.055701</td>\n",
       "      <td>0.062251</td>\n",
       "      <td>0.346630</td>\n",
       "      <td>1.000000</td>\n",
       "      <td>0.176654</td>\n",
       "      <td>0.161807</td>\n",
       "      <td>0.038501</td>\n",
       "      <td>0.167132</td>\n",
       "    </tr>\n",
       "    <tr>\n",
       "      <th>KRFP4752</th>\n",
       "      <td>0.101695</td>\n",
       "      <td>0.250875</td>\n",
       "      <td>0.027848</td>\n",
       "      <td>0.050639</td>\n",
       "      <td>0.055070</td>\n",
       "      <td>0.048019</td>\n",
       "      <td>0.020587</td>\n",
       "      <td>0.043153</td>\n",
       "      <td>0.036957</td>\n",
       "      <td>0.078328</td>\n",
       "      <td>...</td>\n",
       "      <td>0.050678</td>\n",
       "      <td>0.050209</td>\n",
       "      <td>0.067678</td>\n",
       "      <td>0.021167</td>\n",
       "      <td>0.073909</td>\n",
       "      <td>0.176654</td>\n",
       "      <td>1.000000</td>\n",
       "      <td>0.703572</td>\n",
       "      <td>0.084516</td>\n",
       "      <td>0.090229</td>\n",
       "    </tr>\n",
       "    <tr>\n",
       "      <th>KRFP4770</th>\n",
       "      <td>0.031184</td>\n",
       "      <td>0.234422</td>\n",
       "      <td>0.082430</td>\n",
       "      <td>0.059741</td>\n",
       "      <td>0.047656</td>\n",
       "      <td>0.073087</td>\n",
       "      <td>0.131632</td>\n",
       "      <td>0.190234</td>\n",
       "      <td>0.060394</td>\n",
       "      <td>0.066278</td>\n",
       "      <td>...</td>\n",
       "      <td>0.066640</td>\n",
       "      <td>0.066221</td>\n",
       "      <td>0.059595</td>\n",
       "      <td>0.056235</td>\n",
       "      <td>0.056284</td>\n",
       "      <td>0.161807</td>\n",
       "      <td>0.703572</td>\n",
       "      <td>1.000000</td>\n",
       "      <td>0.086112</td>\n",
       "      <td>0.085712</td>\n",
       "    </tr>\n",
       "    <tr>\n",
       "      <th>KRFP4835</th>\n",
       "      <td>0.147949</td>\n",
       "      <td>0.002453</td>\n",
       "      <td>0.028514</td>\n",
       "      <td>0.383404</td>\n",
       "      <td>0.237082</td>\n",
       "      <td>0.043475</td>\n",
       "      <td>0.029746</td>\n",
       "      <td>0.134626</td>\n",
       "      <td>0.101648</td>\n",
       "      <td>0.211747</td>\n",
       "      <td>...</td>\n",
       "      <td>0.147536</td>\n",
       "      <td>0.145265</td>\n",
       "      <td>0.233559</td>\n",
       "      <td>0.178304</td>\n",
       "      <td>0.194293</td>\n",
       "      <td>0.038501</td>\n",
       "      <td>0.084516</td>\n",
       "      <td>0.086112</td>\n",
       "      <td>1.000000</td>\n",
       "      <td>0.117044</td>\n",
       "    </tr>\n",
       "    <tr>\n",
       "      <th>KRFP4843</th>\n",
       "      <td>0.079000</td>\n",
       "      <td>0.216409</td>\n",
       "      <td>0.198342</td>\n",
       "      <td>0.155819</td>\n",
       "      <td>0.121277</td>\n",
       "      <td>0.218467</td>\n",
       "      <td>0.184316</td>\n",
       "      <td>0.023018</td>\n",
       "      <td>0.017892</td>\n",
       "      <td>0.103213</td>\n",
       "      <td>...</td>\n",
       "      <td>0.063918</td>\n",
       "      <td>0.063185</td>\n",
       "      <td>0.089315</td>\n",
       "      <td>0.114408</td>\n",
       "      <td>0.310885</td>\n",
       "      <td>0.167132</td>\n",
       "      <td>0.090229</td>\n",
       "      <td>0.085712</td>\n",
       "      <td>0.117044</td>\n",
       "      <td>1.000000</td>\n",
       "    </tr>\n",
       "  </tbody>\n",
       "</table>\n",
       "<p>226 rows × 226 columns</p>\n",
       "</div>"
      ],
      "text/plain": [
       "             KRFP1     KRFP2    KRFP14    KRFP16    KRFP20    KRFP92  \\\n",
       "KRFP1     1.000000  0.319435  0.405381  0.622856  0.673174  0.359434   \n",
       "KRFP2     0.319435  1.000000  0.435205  0.184842  0.377593  0.392072   \n",
       "KRFP14    0.405381  0.435205  1.000000  0.262185  0.237228  0.886657   \n",
       "KRFP16    0.622856  0.184842  0.262185  1.000000  0.654184  0.252883   \n",
       "KRFP20    0.673174  0.377593  0.237228  0.654184  1.000000  0.231165   \n",
       "...            ...       ...       ...       ...       ...       ...   \n",
       "KRFP4695  0.163163  0.424515  0.162742  0.147499  0.298056  0.192072   \n",
       "KRFP4752  0.101695  0.250875  0.027848  0.050639  0.055070  0.048019   \n",
       "KRFP4770  0.031184  0.234422  0.082430  0.059741  0.047656  0.073087   \n",
       "KRFP4835  0.147949  0.002453  0.028514  0.383404  0.237082  0.043475   \n",
       "KRFP4843  0.079000  0.216409  0.198342  0.155819  0.121277  0.218467   \n",
       "\n",
       "           KRFP126   KRFP133   KRFP297   KRFP298  ...  KRFP4301  KRFP4317  \\\n",
       "KRFP1     0.014195  0.090015  0.139301  0.835266  ...  0.191059  0.189786   \n",
       "KRFP2     0.221563  0.032162  0.062596  0.295286  ...  0.063004  0.062608   \n",
       "KRFP14    0.159416  0.042796  0.048003  0.222813  ...  0.079955  0.079453   \n",
       "KRFP16    0.066862  0.095841  0.123864  0.693757  ...  0.122849  0.122078   \n",
       "KRFP20    0.035043  0.122590  0.098203  0.699135  ...  0.125484  0.124610   \n",
       "...            ...       ...       ...       ...  ...       ...       ...   \n",
       "KRFP4695  0.114990  0.087375  0.084508  0.211875  ...  0.079955  0.079453   \n",
       "KRFP4752  0.020587  0.043153  0.036957  0.078328  ...  0.050678  0.050209   \n",
       "KRFP4770  0.131632  0.190234  0.060394  0.066278  ...  0.066640  0.066221   \n",
       "KRFP4835  0.029746  0.134626  0.101648  0.211747  ...  0.147536  0.145265   \n",
       "KRFP4843  0.184316  0.023018  0.017892  0.103213  ...  0.063918  0.063185   \n",
       "\n",
       "          KRFP4479  KRFP4525  KRFP4531  KRFP4695  KRFP4752  KRFP4770  \\\n",
       "KRFP1     0.349752  0.056149  0.344055  0.163163  0.101695  0.031184   \n",
       "KRFP2     0.043027  0.058984  0.330902  0.424515  0.250875  0.234422   \n",
       "KRFP14    0.065577  0.054341  0.401607  0.162742  0.027848  0.082430   \n",
       "KRFP16    0.496594  0.030523  0.539599  0.147499  0.050639  0.059741   \n",
       "KRFP20    0.519556  0.057138  0.516270  0.298056  0.055070  0.047656   \n",
       "...            ...       ...       ...       ...       ...       ...   \n",
       "KRFP4695  0.055701  0.062251  0.346630  1.000000  0.176654  0.161807   \n",
       "KRFP4752  0.067678  0.021167  0.073909  0.176654  1.000000  0.703572   \n",
       "KRFP4770  0.059595  0.056235  0.056284  0.161807  0.703572  1.000000   \n",
       "KRFP4835  0.233559  0.178304  0.194293  0.038501  0.084516  0.086112   \n",
       "KRFP4843  0.089315  0.114408  0.310885  0.167132  0.090229  0.085712   \n",
       "\n",
       "          KRFP4835  KRFP4843  \n",
       "KRFP1     0.147949  0.079000  \n",
       "KRFP2     0.002453  0.216409  \n",
       "KRFP14    0.028514  0.198342  \n",
       "KRFP16    0.383404  0.155819  \n",
       "KRFP20    0.237082  0.121277  \n",
       "...            ...       ...  \n",
       "KRFP4695  0.038501  0.167132  \n",
       "KRFP4752  0.084516  0.090229  \n",
       "KRFP4770  0.086112  0.085712  \n",
       "KRFP4835  1.000000  0.117044  \n",
       "KRFP4843  0.117044  1.000000  \n",
       "\n",
       "[226 rows x 226 columns]"
      ]
     },
     "execution_count": 60,
     "metadata": {},
     "output_type": "execute_result"
    }
   ],
   "source": [
    "cor_df = x_tr_const_and_nearcont.corr().abs()\n",
    "cor_df"
   ]
  },
  {
   "cell_type": "code",
   "execution_count": 61,
   "metadata": {},
   "outputs": [
    {
     "data": {
      "text/html": [
       "<div>\n",
       "<style scoped>\n",
       "    .dataframe tbody tr th:only-of-type {\n",
       "        vertical-align: middle;\n",
       "    }\n",
       "\n",
       "    .dataframe tbody tr th {\n",
       "        vertical-align: top;\n",
       "    }\n",
       "\n",
       "    .dataframe thead th {\n",
       "        text-align: right;\n",
       "    }\n",
       "</style>\n",
       "<table border=\"1\" class=\"dataframe\">\n",
       "  <thead>\n",
       "    <tr style=\"text-align: right;\">\n",
       "      <th></th>\n",
       "      <th>KRFP1</th>\n",
       "      <th>KRFP2</th>\n",
       "      <th>KRFP14</th>\n",
       "      <th>KRFP16</th>\n",
       "      <th>KRFP20</th>\n",
       "      <th>KRFP92</th>\n",
       "      <th>KRFP126</th>\n",
       "      <th>KRFP133</th>\n",
       "      <th>KRFP297</th>\n",
       "      <th>KRFP298</th>\n",
       "      <th>...</th>\n",
       "      <th>KRFP4301</th>\n",
       "      <th>KRFP4317</th>\n",
       "      <th>KRFP4479</th>\n",
       "      <th>KRFP4525</th>\n",
       "      <th>KRFP4531</th>\n",
       "      <th>KRFP4695</th>\n",
       "      <th>KRFP4752</th>\n",
       "      <th>KRFP4770</th>\n",
       "      <th>KRFP4835</th>\n",
       "      <th>KRFP4843</th>\n",
       "    </tr>\n",
       "  </thead>\n",
       "  <tbody>\n",
       "    <tr>\n",
       "      <th>KRFP1</th>\n",
       "      <td>1.000000</td>\n",
       "      <td>0.319435</td>\n",
       "      <td>0.405381</td>\n",
       "      <td>0.622856</td>\n",
       "      <td>0.673174</td>\n",
       "      <td>0.359434</td>\n",
       "      <td>0.014195</td>\n",
       "      <td>0.090015</td>\n",
       "      <td>0.139301</td>\n",
       "      <td>0.835266</td>\n",
       "      <td>...</td>\n",
       "      <td>0.191059</td>\n",
       "      <td>0.189786</td>\n",
       "      <td>0.349752</td>\n",
       "      <td>0.056149</td>\n",
       "      <td>0.344055</td>\n",
       "      <td>0.163163</td>\n",
       "      <td>0.101695</td>\n",
       "      <td>0.031184</td>\n",
       "      <td>0.147949</td>\n",
       "      <td>0.079000</td>\n",
       "    </tr>\n",
       "    <tr>\n",
       "      <th>KRFP2</th>\n",
       "      <td>0.319435</td>\n",
       "      <td>1.000000</td>\n",
       "      <td>0.435205</td>\n",
       "      <td>0.184842</td>\n",
       "      <td>0.377593</td>\n",
       "      <td>0.392072</td>\n",
       "      <td>0.221563</td>\n",
       "      <td>0.032162</td>\n",
       "      <td>0.062596</td>\n",
       "      <td>0.295286</td>\n",
       "      <td>...</td>\n",
       "      <td>0.063004</td>\n",
       "      <td>0.062608</td>\n",
       "      <td>0.043027</td>\n",
       "      <td>0.058984</td>\n",
       "      <td>0.330902</td>\n",
       "      <td>0.424515</td>\n",
       "      <td>0.250875</td>\n",
       "      <td>0.234422</td>\n",
       "      <td>0.002453</td>\n",
       "      <td>0.216409</td>\n",
       "    </tr>\n",
       "    <tr>\n",
       "      <th>KRFP14</th>\n",
       "      <td>0.405381</td>\n",
       "      <td>0.435205</td>\n",
       "      <td>1.000000</td>\n",
       "      <td>0.262185</td>\n",
       "      <td>0.237228</td>\n",
       "      <td>0.886657</td>\n",
       "      <td>0.159416</td>\n",
       "      <td>0.042796</td>\n",
       "      <td>0.048003</td>\n",
       "      <td>0.222813</td>\n",
       "      <td>...</td>\n",
       "      <td>0.079955</td>\n",
       "      <td>0.079453</td>\n",
       "      <td>0.065577</td>\n",
       "      <td>0.054341</td>\n",
       "      <td>0.401607</td>\n",
       "      <td>0.162742</td>\n",
       "      <td>0.027848</td>\n",
       "      <td>0.082430</td>\n",
       "      <td>0.028514</td>\n",
       "      <td>0.198342</td>\n",
       "    </tr>\n",
       "    <tr>\n",
       "      <th>KRFP16</th>\n",
       "      <td>0.622856</td>\n",
       "      <td>0.184842</td>\n",
       "      <td>0.262185</td>\n",
       "      <td>1.000000</td>\n",
       "      <td>0.654184</td>\n",
       "      <td>0.252883</td>\n",
       "      <td>0.066862</td>\n",
       "      <td>0.095841</td>\n",
       "      <td>0.123864</td>\n",
       "      <td>0.693757</td>\n",
       "      <td>...</td>\n",
       "      <td>0.122849</td>\n",
       "      <td>0.122078</td>\n",
       "      <td>0.496594</td>\n",
       "      <td>0.030523</td>\n",
       "      <td>0.539599</td>\n",
       "      <td>0.147499</td>\n",
       "      <td>0.050639</td>\n",
       "      <td>0.059741</td>\n",
       "      <td>0.383404</td>\n",
       "      <td>0.155819</td>\n",
       "    </tr>\n",
       "    <tr>\n",
       "      <th>KRFP20</th>\n",
       "      <td>0.673174</td>\n",
       "      <td>0.377593</td>\n",
       "      <td>0.237228</td>\n",
       "      <td>0.654184</td>\n",
       "      <td>1.000000</td>\n",
       "      <td>0.231165</td>\n",
       "      <td>0.035043</td>\n",
       "      <td>0.122590</td>\n",
       "      <td>0.098203</td>\n",
       "      <td>0.699135</td>\n",
       "      <td>...</td>\n",
       "      <td>0.125484</td>\n",
       "      <td>0.124610</td>\n",
       "      <td>0.519556</td>\n",
       "      <td>0.057138</td>\n",
       "      <td>0.516270</td>\n",
       "      <td>0.298056</td>\n",
       "      <td>0.055070</td>\n",
       "      <td>0.047656</td>\n",
       "      <td>0.237082</td>\n",
       "      <td>0.121277</td>\n",
       "    </tr>\n",
       "    <tr>\n",
       "      <th>...</th>\n",
       "      <td>...</td>\n",
       "      <td>...</td>\n",
       "      <td>...</td>\n",
       "      <td>...</td>\n",
       "      <td>...</td>\n",
       "      <td>...</td>\n",
       "      <td>...</td>\n",
       "      <td>...</td>\n",
       "      <td>...</td>\n",
       "      <td>...</td>\n",
       "      <td>...</td>\n",
       "      <td>...</td>\n",
       "      <td>...</td>\n",
       "      <td>...</td>\n",
       "      <td>...</td>\n",
       "      <td>...</td>\n",
       "      <td>...</td>\n",
       "      <td>...</td>\n",
       "      <td>...</td>\n",
       "      <td>...</td>\n",
       "      <td>...</td>\n",
       "    </tr>\n",
       "    <tr>\n",
       "      <th>KRFP4695</th>\n",
       "      <td>0.163163</td>\n",
       "      <td>0.424515</td>\n",
       "      <td>0.162742</td>\n",
       "      <td>0.147499</td>\n",
       "      <td>0.298056</td>\n",
       "      <td>0.192072</td>\n",
       "      <td>0.114990</td>\n",
       "      <td>0.087375</td>\n",
       "      <td>0.084508</td>\n",
       "      <td>0.211875</td>\n",
       "      <td>...</td>\n",
       "      <td>0.079955</td>\n",
       "      <td>0.079453</td>\n",
       "      <td>0.055701</td>\n",
       "      <td>0.062251</td>\n",
       "      <td>0.346630</td>\n",
       "      <td>1.000000</td>\n",
       "      <td>0.176654</td>\n",
       "      <td>0.161807</td>\n",
       "      <td>0.038501</td>\n",
       "      <td>0.167132</td>\n",
       "    </tr>\n",
       "    <tr>\n",
       "      <th>KRFP4752</th>\n",
       "      <td>0.101695</td>\n",
       "      <td>0.250875</td>\n",
       "      <td>0.027848</td>\n",
       "      <td>0.050639</td>\n",
       "      <td>0.055070</td>\n",
       "      <td>0.048019</td>\n",
       "      <td>0.020587</td>\n",
       "      <td>0.043153</td>\n",
       "      <td>0.036957</td>\n",
       "      <td>0.078328</td>\n",
       "      <td>...</td>\n",
       "      <td>0.050678</td>\n",
       "      <td>0.050209</td>\n",
       "      <td>0.067678</td>\n",
       "      <td>0.021167</td>\n",
       "      <td>0.073909</td>\n",
       "      <td>0.176654</td>\n",
       "      <td>1.000000</td>\n",
       "      <td>0.703572</td>\n",
       "      <td>0.084516</td>\n",
       "      <td>0.090229</td>\n",
       "    </tr>\n",
       "    <tr>\n",
       "      <th>KRFP4770</th>\n",
       "      <td>0.031184</td>\n",
       "      <td>0.234422</td>\n",
       "      <td>0.082430</td>\n",
       "      <td>0.059741</td>\n",
       "      <td>0.047656</td>\n",
       "      <td>0.073087</td>\n",
       "      <td>0.131632</td>\n",
       "      <td>0.190234</td>\n",
       "      <td>0.060394</td>\n",
       "      <td>0.066278</td>\n",
       "      <td>...</td>\n",
       "      <td>0.066640</td>\n",
       "      <td>0.066221</td>\n",
       "      <td>0.059595</td>\n",
       "      <td>0.056235</td>\n",
       "      <td>0.056284</td>\n",
       "      <td>0.161807</td>\n",
       "      <td>0.703572</td>\n",
       "      <td>1.000000</td>\n",
       "      <td>0.086112</td>\n",
       "      <td>0.085712</td>\n",
       "    </tr>\n",
       "    <tr>\n",
       "      <th>KRFP4835</th>\n",
       "      <td>0.147949</td>\n",
       "      <td>0.002453</td>\n",
       "      <td>0.028514</td>\n",
       "      <td>0.383404</td>\n",
       "      <td>0.237082</td>\n",
       "      <td>0.043475</td>\n",
       "      <td>0.029746</td>\n",
       "      <td>0.134626</td>\n",
       "      <td>0.101648</td>\n",
       "      <td>0.211747</td>\n",
       "      <td>...</td>\n",
       "      <td>0.147536</td>\n",
       "      <td>0.145265</td>\n",
       "      <td>0.233559</td>\n",
       "      <td>0.178304</td>\n",
       "      <td>0.194293</td>\n",
       "      <td>0.038501</td>\n",
       "      <td>0.084516</td>\n",
       "      <td>0.086112</td>\n",
       "      <td>1.000000</td>\n",
       "      <td>0.117044</td>\n",
       "    </tr>\n",
       "    <tr>\n",
       "      <th>KRFP4843</th>\n",
       "      <td>0.079000</td>\n",
       "      <td>0.216409</td>\n",
       "      <td>0.198342</td>\n",
       "      <td>0.155819</td>\n",
       "      <td>0.121277</td>\n",
       "      <td>0.218467</td>\n",
       "      <td>0.184316</td>\n",
       "      <td>0.023018</td>\n",
       "      <td>0.017892</td>\n",
       "      <td>0.103213</td>\n",
       "      <td>...</td>\n",
       "      <td>0.063918</td>\n",
       "      <td>0.063185</td>\n",
       "      <td>0.089315</td>\n",
       "      <td>0.114408</td>\n",
       "      <td>0.310885</td>\n",
       "      <td>0.167132</td>\n",
       "      <td>0.090229</td>\n",
       "      <td>0.085712</td>\n",
       "      <td>0.117044</td>\n",
       "      <td>1.000000</td>\n",
       "    </tr>\n",
       "  </tbody>\n",
       "</table>\n",
       "<p>226 rows × 226 columns</p>\n",
       "</div>"
      ],
      "text/plain": [
       "             KRFP1     KRFP2    KRFP14    KRFP16    KRFP20    KRFP92  \\\n",
       "KRFP1     1.000000  0.319435  0.405381  0.622856  0.673174  0.359434   \n",
       "KRFP2     0.319435  1.000000  0.435205  0.184842  0.377593  0.392072   \n",
       "KRFP14    0.405381  0.435205  1.000000  0.262185  0.237228  0.886657   \n",
       "KRFP16    0.622856  0.184842  0.262185  1.000000  0.654184  0.252883   \n",
       "KRFP20    0.673174  0.377593  0.237228  0.654184  1.000000  0.231165   \n",
       "...            ...       ...       ...       ...       ...       ...   \n",
       "KRFP4695  0.163163  0.424515  0.162742  0.147499  0.298056  0.192072   \n",
       "KRFP4752  0.101695  0.250875  0.027848  0.050639  0.055070  0.048019   \n",
       "KRFP4770  0.031184  0.234422  0.082430  0.059741  0.047656  0.073087   \n",
       "KRFP4835  0.147949  0.002453  0.028514  0.383404  0.237082  0.043475   \n",
       "KRFP4843  0.079000  0.216409  0.198342  0.155819  0.121277  0.218467   \n",
       "\n",
       "           KRFP126   KRFP133   KRFP297   KRFP298  ...  KRFP4301  KRFP4317  \\\n",
       "KRFP1     0.014195  0.090015  0.139301  0.835266  ...  0.191059  0.189786   \n",
       "KRFP2     0.221563  0.032162  0.062596  0.295286  ...  0.063004  0.062608   \n",
       "KRFP14    0.159416  0.042796  0.048003  0.222813  ...  0.079955  0.079453   \n",
       "KRFP16    0.066862  0.095841  0.123864  0.693757  ...  0.122849  0.122078   \n",
       "KRFP20    0.035043  0.122590  0.098203  0.699135  ...  0.125484  0.124610   \n",
       "...            ...       ...       ...       ...  ...       ...       ...   \n",
       "KRFP4695  0.114990  0.087375  0.084508  0.211875  ...  0.079955  0.079453   \n",
       "KRFP4752  0.020587  0.043153  0.036957  0.078328  ...  0.050678  0.050209   \n",
       "KRFP4770  0.131632  0.190234  0.060394  0.066278  ...  0.066640  0.066221   \n",
       "KRFP4835  0.029746  0.134626  0.101648  0.211747  ...  0.147536  0.145265   \n",
       "KRFP4843  0.184316  0.023018  0.017892  0.103213  ...  0.063918  0.063185   \n",
       "\n",
       "          KRFP4479  KRFP4525  KRFP4531  KRFP4695  KRFP4752  KRFP4770  \\\n",
       "KRFP1     0.349752  0.056149  0.344055  0.163163  0.101695  0.031184   \n",
       "KRFP2     0.043027  0.058984  0.330902  0.424515  0.250875  0.234422   \n",
       "KRFP14    0.065577  0.054341  0.401607  0.162742  0.027848  0.082430   \n",
       "KRFP16    0.496594  0.030523  0.539599  0.147499  0.050639  0.059741   \n",
       "KRFP20    0.519556  0.057138  0.516270  0.298056  0.055070  0.047656   \n",
       "...            ...       ...       ...       ...       ...       ...   \n",
       "KRFP4695  0.055701  0.062251  0.346630  1.000000  0.176654  0.161807   \n",
       "KRFP4752  0.067678  0.021167  0.073909  0.176654  1.000000  0.703572   \n",
       "KRFP4770  0.059595  0.056235  0.056284  0.161807  0.703572  1.000000   \n",
       "KRFP4835  0.233559  0.178304  0.194293  0.038501  0.084516  0.086112   \n",
       "KRFP4843  0.089315  0.114408  0.310885  0.167132  0.090229  0.085712   \n",
       "\n",
       "          KRFP4835  KRFP4843  \n",
       "KRFP1     0.147949  0.079000  \n",
       "KRFP2     0.002453  0.216409  \n",
       "KRFP14    0.028514  0.198342  \n",
       "KRFP16    0.383404  0.155819  \n",
       "KRFP20    0.237082  0.121277  \n",
       "...            ...       ...  \n",
       "KRFP4695  0.038501  0.167132  \n",
       "KRFP4752  0.084516  0.090229  \n",
       "KRFP4770  0.086112  0.085712  \n",
       "KRFP4835  1.000000  0.117044  \n",
       "KRFP4843  0.117044  1.000000  \n",
       "\n",
       "[226 rows x 226 columns]"
      ]
     },
     "execution_count": 61,
     "metadata": {},
     "output_type": "execute_result"
    }
   ],
   "source": [
    "cor_df = x_tr_const_and_nearcont.corr().abs()\n",
    "cor_df"
   ]
  },
  {
   "cell_type": "code",
   "execution_count": 62,
   "metadata": {},
   "outputs": [],
   "source": [
    "mask=np.triu(np.ones_like(cor_df, dtype=bool))"
   ]
  },
  {
   "cell_type": "code",
   "execution_count": 63,
   "metadata": {},
   "outputs": [
    {
     "data": {
      "text/html": [
       "<div>\n",
       "<style scoped>\n",
       "    .dataframe tbody tr th:only-of-type {\n",
       "        vertical-align: middle;\n",
       "    }\n",
       "\n",
       "    .dataframe tbody tr th {\n",
       "        vertical-align: top;\n",
       "    }\n",
       "\n",
       "    .dataframe thead th {\n",
       "        text-align: right;\n",
       "    }\n",
       "</style>\n",
       "<table border=\"1\" class=\"dataframe\">\n",
       "  <thead>\n",
       "    <tr style=\"text-align: right;\">\n",
       "      <th></th>\n",
       "      <th>KRFP1</th>\n",
       "      <th>KRFP2</th>\n",
       "      <th>KRFP14</th>\n",
       "      <th>KRFP16</th>\n",
       "      <th>KRFP20</th>\n",
       "      <th>KRFP92</th>\n",
       "      <th>KRFP126</th>\n",
       "      <th>KRFP133</th>\n",
       "      <th>KRFP297</th>\n",
       "      <th>KRFP298</th>\n",
       "      <th>...</th>\n",
       "      <th>KRFP4301</th>\n",
       "      <th>KRFP4317</th>\n",
       "      <th>KRFP4479</th>\n",
       "      <th>KRFP4525</th>\n",
       "      <th>KRFP4531</th>\n",
       "      <th>KRFP4695</th>\n",
       "      <th>KRFP4752</th>\n",
       "      <th>KRFP4770</th>\n",
       "      <th>KRFP4835</th>\n",
       "      <th>KRFP4843</th>\n",
       "    </tr>\n",
       "  </thead>\n",
       "  <tbody>\n",
       "    <tr>\n",
       "      <th>KRFP1</th>\n",
       "      <td>NaN</td>\n",
       "      <td>NaN</td>\n",
       "      <td>NaN</td>\n",
       "      <td>NaN</td>\n",
       "      <td>NaN</td>\n",
       "      <td>NaN</td>\n",
       "      <td>NaN</td>\n",
       "      <td>NaN</td>\n",
       "      <td>NaN</td>\n",
       "      <td>NaN</td>\n",
       "      <td>...</td>\n",
       "      <td>NaN</td>\n",
       "      <td>NaN</td>\n",
       "      <td>NaN</td>\n",
       "      <td>NaN</td>\n",
       "      <td>NaN</td>\n",
       "      <td>NaN</td>\n",
       "      <td>NaN</td>\n",
       "      <td>NaN</td>\n",
       "      <td>NaN</td>\n",
       "      <td>NaN</td>\n",
       "    </tr>\n",
       "    <tr>\n",
       "      <th>KRFP2</th>\n",
       "      <td>0.319435</td>\n",
       "      <td>NaN</td>\n",
       "      <td>NaN</td>\n",
       "      <td>NaN</td>\n",
       "      <td>NaN</td>\n",
       "      <td>NaN</td>\n",
       "      <td>NaN</td>\n",
       "      <td>NaN</td>\n",
       "      <td>NaN</td>\n",
       "      <td>NaN</td>\n",
       "      <td>...</td>\n",
       "      <td>NaN</td>\n",
       "      <td>NaN</td>\n",
       "      <td>NaN</td>\n",
       "      <td>NaN</td>\n",
       "      <td>NaN</td>\n",
       "      <td>NaN</td>\n",
       "      <td>NaN</td>\n",
       "      <td>NaN</td>\n",
       "      <td>NaN</td>\n",
       "      <td>NaN</td>\n",
       "    </tr>\n",
       "    <tr>\n",
       "      <th>KRFP14</th>\n",
       "      <td>0.405381</td>\n",
       "      <td>0.435205</td>\n",
       "      <td>NaN</td>\n",
       "      <td>NaN</td>\n",
       "      <td>NaN</td>\n",
       "      <td>NaN</td>\n",
       "      <td>NaN</td>\n",
       "      <td>NaN</td>\n",
       "      <td>NaN</td>\n",
       "      <td>NaN</td>\n",
       "      <td>...</td>\n",
       "      <td>NaN</td>\n",
       "      <td>NaN</td>\n",
       "      <td>NaN</td>\n",
       "      <td>NaN</td>\n",
       "      <td>NaN</td>\n",
       "      <td>NaN</td>\n",
       "      <td>NaN</td>\n",
       "      <td>NaN</td>\n",
       "      <td>NaN</td>\n",
       "      <td>NaN</td>\n",
       "    </tr>\n",
       "    <tr>\n",
       "      <th>KRFP16</th>\n",
       "      <td>0.622856</td>\n",
       "      <td>0.184842</td>\n",
       "      <td>0.262185</td>\n",
       "      <td>NaN</td>\n",
       "      <td>NaN</td>\n",
       "      <td>NaN</td>\n",
       "      <td>NaN</td>\n",
       "      <td>NaN</td>\n",
       "      <td>NaN</td>\n",
       "      <td>NaN</td>\n",
       "      <td>...</td>\n",
       "      <td>NaN</td>\n",
       "      <td>NaN</td>\n",
       "      <td>NaN</td>\n",
       "      <td>NaN</td>\n",
       "      <td>NaN</td>\n",
       "      <td>NaN</td>\n",
       "      <td>NaN</td>\n",
       "      <td>NaN</td>\n",
       "      <td>NaN</td>\n",
       "      <td>NaN</td>\n",
       "    </tr>\n",
       "    <tr>\n",
       "      <th>KRFP20</th>\n",
       "      <td>0.673174</td>\n",
       "      <td>0.377593</td>\n",
       "      <td>0.237228</td>\n",
       "      <td>0.654184</td>\n",
       "      <td>NaN</td>\n",
       "      <td>NaN</td>\n",
       "      <td>NaN</td>\n",
       "      <td>NaN</td>\n",
       "      <td>NaN</td>\n",
       "      <td>NaN</td>\n",
       "      <td>...</td>\n",
       "      <td>NaN</td>\n",
       "      <td>NaN</td>\n",
       "      <td>NaN</td>\n",
       "      <td>NaN</td>\n",
       "      <td>NaN</td>\n",
       "      <td>NaN</td>\n",
       "      <td>NaN</td>\n",
       "      <td>NaN</td>\n",
       "      <td>NaN</td>\n",
       "      <td>NaN</td>\n",
       "    </tr>\n",
       "    <tr>\n",
       "      <th>...</th>\n",
       "      <td>...</td>\n",
       "      <td>...</td>\n",
       "      <td>...</td>\n",
       "      <td>...</td>\n",
       "      <td>...</td>\n",
       "      <td>...</td>\n",
       "      <td>...</td>\n",
       "      <td>...</td>\n",
       "      <td>...</td>\n",
       "      <td>...</td>\n",
       "      <td>...</td>\n",
       "      <td>...</td>\n",
       "      <td>...</td>\n",
       "      <td>...</td>\n",
       "      <td>...</td>\n",
       "      <td>...</td>\n",
       "      <td>...</td>\n",
       "      <td>...</td>\n",
       "      <td>...</td>\n",
       "      <td>...</td>\n",
       "      <td>...</td>\n",
       "    </tr>\n",
       "    <tr>\n",
       "      <th>KRFP4695</th>\n",
       "      <td>0.163163</td>\n",
       "      <td>0.424515</td>\n",
       "      <td>0.162742</td>\n",
       "      <td>0.147499</td>\n",
       "      <td>0.298056</td>\n",
       "      <td>0.192072</td>\n",
       "      <td>0.114990</td>\n",
       "      <td>0.087375</td>\n",
       "      <td>0.084508</td>\n",
       "      <td>0.211875</td>\n",
       "      <td>...</td>\n",
       "      <td>0.079955</td>\n",
       "      <td>0.079453</td>\n",
       "      <td>0.055701</td>\n",
       "      <td>0.062251</td>\n",
       "      <td>0.346630</td>\n",
       "      <td>NaN</td>\n",
       "      <td>NaN</td>\n",
       "      <td>NaN</td>\n",
       "      <td>NaN</td>\n",
       "      <td>NaN</td>\n",
       "    </tr>\n",
       "    <tr>\n",
       "      <th>KRFP4752</th>\n",
       "      <td>0.101695</td>\n",
       "      <td>0.250875</td>\n",
       "      <td>0.027848</td>\n",
       "      <td>0.050639</td>\n",
       "      <td>0.055070</td>\n",
       "      <td>0.048019</td>\n",
       "      <td>0.020587</td>\n",
       "      <td>0.043153</td>\n",
       "      <td>0.036957</td>\n",
       "      <td>0.078328</td>\n",
       "      <td>...</td>\n",
       "      <td>0.050678</td>\n",
       "      <td>0.050209</td>\n",
       "      <td>0.067678</td>\n",
       "      <td>0.021167</td>\n",
       "      <td>0.073909</td>\n",
       "      <td>0.176654</td>\n",
       "      <td>NaN</td>\n",
       "      <td>NaN</td>\n",
       "      <td>NaN</td>\n",
       "      <td>NaN</td>\n",
       "    </tr>\n",
       "    <tr>\n",
       "      <th>KRFP4770</th>\n",
       "      <td>0.031184</td>\n",
       "      <td>0.234422</td>\n",
       "      <td>0.082430</td>\n",
       "      <td>0.059741</td>\n",
       "      <td>0.047656</td>\n",
       "      <td>0.073087</td>\n",
       "      <td>0.131632</td>\n",
       "      <td>0.190234</td>\n",
       "      <td>0.060394</td>\n",
       "      <td>0.066278</td>\n",
       "      <td>...</td>\n",
       "      <td>0.066640</td>\n",
       "      <td>0.066221</td>\n",
       "      <td>0.059595</td>\n",
       "      <td>0.056235</td>\n",
       "      <td>0.056284</td>\n",
       "      <td>0.161807</td>\n",
       "      <td>0.703572</td>\n",
       "      <td>NaN</td>\n",
       "      <td>NaN</td>\n",
       "      <td>NaN</td>\n",
       "    </tr>\n",
       "    <tr>\n",
       "      <th>KRFP4835</th>\n",
       "      <td>0.147949</td>\n",
       "      <td>0.002453</td>\n",
       "      <td>0.028514</td>\n",
       "      <td>0.383404</td>\n",
       "      <td>0.237082</td>\n",
       "      <td>0.043475</td>\n",
       "      <td>0.029746</td>\n",
       "      <td>0.134626</td>\n",
       "      <td>0.101648</td>\n",
       "      <td>0.211747</td>\n",
       "      <td>...</td>\n",
       "      <td>0.147536</td>\n",
       "      <td>0.145265</td>\n",
       "      <td>0.233559</td>\n",
       "      <td>0.178304</td>\n",
       "      <td>0.194293</td>\n",
       "      <td>0.038501</td>\n",
       "      <td>0.084516</td>\n",
       "      <td>0.086112</td>\n",
       "      <td>NaN</td>\n",
       "      <td>NaN</td>\n",
       "    </tr>\n",
       "    <tr>\n",
       "      <th>KRFP4843</th>\n",
       "      <td>0.079000</td>\n",
       "      <td>0.216409</td>\n",
       "      <td>0.198342</td>\n",
       "      <td>0.155819</td>\n",
       "      <td>0.121277</td>\n",
       "      <td>0.218467</td>\n",
       "      <td>0.184316</td>\n",
       "      <td>0.023018</td>\n",
       "      <td>0.017892</td>\n",
       "      <td>0.103213</td>\n",
       "      <td>...</td>\n",
       "      <td>0.063918</td>\n",
       "      <td>0.063185</td>\n",
       "      <td>0.089315</td>\n",
       "      <td>0.114408</td>\n",
       "      <td>0.310885</td>\n",
       "      <td>0.167132</td>\n",
       "      <td>0.090229</td>\n",
       "      <td>0.085712</td>\n",
       "      <td>0.117044</td>\n",
       "      <td>NaN</td>\n",
       "    </tr>\n",
       "  </tbody>\n",
       "</table>\n",
       "<p>226 rows × 226 columns</p>\n",
       "</div>"
      ],
      "text/plain": [
       "             KRFP1     KRFP2    KRFP14    KRFP16    KRFP20    KRFP92  \\\n",
       "KRFP1          NaN       NaN       NaN       NaN       NaN       NaN   \n",
       "KRFP2     0.319435       NaN       NaN       NaN       NaN       NaN   \n",
       "KRFP14    0.405381  0.435205       NaN       NaN       NaN       NaN   \n",
       "KRFP16    0.622856  0.184842  0.262185       NaN       NaN       NaN   \n",
       "KRFP20    0.673174  0.377593  0.237228  0.654184       NaN       NaN   \n",
       "...            ...       ...       ...       ...       ...       ...   \n",
       "KRFP4695  0.163163  0.424515  0.162742  0.147499  0.298056  0.192072   \n",
       "KRFP4752  0.101695  0.250875  0.027848  0.050639  0.055070  0.048019   \n",
       "KRFP4770  0.031184  0.234422  0.082430  0.059741  0.047656  0.073087   \n",
       "KRFP4835  0.147949  0.002453  0.028514  0.383404  0.237082  0.043475   \n",
       "KRFP4843  0.079000  0.216409  0.198342  0.155819  0.121277  0.218467   \n",
       "\n",
       "           KRFP126   KRFP133   KRFP297   KRFP298  ...  KRFP4301  KRFP4317  \\\n",
       "KRFP1          NaN       NaN       NaN       NaN  ...       NaN       NaN   \n",
       "KRFP2          NaN       NaN       NaN       NaN  ...       NaN       NaN   \n",
       "KRFP14         NaN       NaN       NaN       NaN  ...       NaN       NaN   \n",
       "KRFP16         NaN       NaN       NaN       NaN  ...       NaN       NaN   \n",
       "KRFP20         NaN       NaN       NaN       NaN  ...       NaN       NaN   \n",
       "...            ...       ...       ...       ...  ...       ...       ...   \n",
       "KRFP4695  0.114990  0.087375  0.084508  0.211875  ...  0.079955  0.079453   \n",
       "KRFP4752  0.020587  0.043153  0.036957  0.078328  ...  0.050678  0.050209   \n",
       "KRFP4770  0.131632  0.190234  0.060394  0.066278  ...  0.066640  0.066221   \n",
       "KRFP4835  0.029746  0.134626  0.101648  0.211747  ...  0.147536  0.145265   \n",
       "KRFP4843  0.184316  0.023018  0.017892  0.103213  ...  0.063918  0.063185   \n",
       "\n",
       "          KRFP4479  KRFP4525  KRFP4531  KRFP4695  KRFP4752  KRFP4770  \\\n",
       "KRFP1          NaN       NaN       NaN       NaN       NaN       NaN   \n",
       "KRFP2          NaN       NaN       NaN       NaN       NaN       NaN   \n",
       "KRFP14         NaN       NaN       NaN       NaN       NaN       NaN   \n",
       "KRFP16         NaN       NaN       NaN       NaN       NaN       NaN   \n",
       "KRFP20         NaN       NaN       NaN       NaN       NaN       NaN   \n",
       "...            ...       ...       ...       ...       ...       ...   \n",
       "KRFP4695  0.055701  0.062251  0.346630       NaN       NaN       NaN   \n",
       "KRFP4752  0.067678  0.021167  0.073909  0.176654       NaN       NaN   \n",
       "KRFP4770  0.059595  0.056235  0.056284  0.161807  0.703572       NaN   \n",
       "KRFP4835  0.233559  0.178304  0.194293  0.038501  0.084516  0.086112   \n",
       "KRFP4843  0.089315  0.114408  0.310885  0.167132  0.090229  0.085712   \n",
       "\n",
       "          KRFP4835  KRFP4843  \n",
       "KRFP1          NaN       NaN  \n",
       "KRFP2          NaN       NaN  \n",
       "KRFP14         NaN       NaN  \n",
       "KRFP16         NaN       NaN  \n",
       "KRFP20         NaN       NaN  \n",
       "...            ...       ...  \n",
       "KRFP4695       NaN       NaN  \n",
       "KRFP4752       NaN       NaN  \n",
       "KRFP4770       NaN       NaN  \n",
       "KRFP4835       NaN       NaN  \n",
       "KRFP4843  0.117044       NaN  \n",
       "\n",
       "[226 rows x 226 columns]"
      ]
     },
     "execution_count": 63,
     "metadata": {},
     "output_type": "execute_result"
    }
   ],
   "source": [
    "tri_df=cor_df.mask(mask)\n",
    "tri_df"
   ]
  },
  {
   "cell_type": "code",
   "execution_count": 64,
   "metadata": {},
   "outputs": [
    {
     "data": {
      "text/plain": [
       "['KRFP133',\n",
       " 'KRFP355',\n",
       " 'KRFP368',\n",
       " 'KRFP369',\n",
       " 'KRFP438',\n",
       " 'KRFP859',\n",
       " 'KRFP1148',\n",
       " 'KRFP1310',\n",
       " 'KRFP1536',\n",
       " 'KRFP2025',\n",
       " 'KRFP2259',\n",
       " 'KRFP2260',\n",
       " 'KRFP2673',\n",
       " 'KRFP2986',\n",
       " 'KRFP3010',\n",
       " 'KRFP3268',\n",
       " 'KRFP3328',\n",
       " 'KRFP3336',\n",
       " 'KRFP3467',\n",
       " 'KRFP3468',\n",
       " 'KRFP3647',\n",
       " 'KRFP3654',\n",
       " 'KRFP3692',\n",
       " 'KRFP3719',\n",
       " 'KRFP3751',\n",
       " 'KRFP3789',\n",
       " 'KRFP3821',\n",
       " 'KRFP3949',\n",
       " 'KRFP4005',\n",
       " 'KRFP4301']"
      ]
     },
     "execution_count": 64,
     "metadata": {},
     "output_type": "execute_result"
    }
   ],
   "source": [
    "to_drop=[c for c in tri_df.columns if any(tri_df[c]>0.95) ]\n",
    "to_drop"
   ]
  },
  {
   "cell_type": "code",
   "execution_count": 65,
   "metadata": {},
   "outputs": [],
   "source": [
    "reduced_df_cor=x_tr_const_and_nearcont.drop(to_drop, axis=1)"
   ]
  },
  {
   "cell_type": "code",
   "execution_count": 66,
   "metadata": {},
   "outputs": [
    {
     "data": {
      "text/html": [
       "<div>\n",
       "<style scoped>\n",
       "    .dataframe tbody tr th:only-of-type {\n",
       "        vertical-align: middle;\n",
       "    }\n",
       "\n",
       "    .dataframe tbody tr th {\n",
       "        vertical-align: top;\n",
       "    }\n",
       "\n",
       "    .dataframe thead th {\n",
       "        text-align: right;\n",
       "    }\n",
       "</style>\n",
       "<table border=\"1\" class=\"dataframe\">\n",
       "  <thead>\n",
       "    <tr style=\"text-align: right;\">\n",
       "      <th></th>\n",
       "      <th>KRFP1</th>\n",
       "      <th>KRFP2</th>\n",
       "      <th>KRFP14</th>\n",
       "      <th>KRFP16</th>\n",
       "      <th>KRFP20</th>\n",
       "      <th>KRFP92</th>\n",
       "      <th>KRFP126</th>\n",
       "      <th>KRFP297</th>\n",
       "      <th>KRFP298</th>\n",
       "      <th>KRFP302</th>\n",
       "      <th>...</th>\n",
       "      <th>KRFP4295</th>\n",
       "      <th>KRFP4317</th>\n",
       "      <th>KRFP4479</th>\n",
       "      <th>KRFP4525</th>\n",
       "      <th>KRFP4531</th>\n",
       "      <th>KRFP4695</th>\n",
       "      <th>KRFP4752</th>\n",
       "      <th>KRFP4770</th>\n",
       "      <th>KRFP4835</th>\n",
       "      <th>KRFP4843</th>\n",
       "    </tr>\n",
       "  </thead>\n",
       "  <tbody>\n",
       "    <tr>\n",
       "      <th>0</th>\n",
       "      <td>1</td>\n",
       "      <td>0</td>\n",
       "      <td>0</td>\n",
       "      <td>0</td>\n",
       "      <td>0</td>\n",
       "      <td>0</td>\n",
       "      <td>0</td>\n",
       "      <td>1</td>\n",
       "      <td>1</td>\n",
       "      <td>0</td>\n",
       "      <td>...</td>\n",
       "      <td>0</td>\n",
       "      <td>0</td>\n",
       "      <td>0</td>\n",
       "      <td>1</td>\n",
       "      <td>0</td>\n",
       "      <td>0</td>\n",
       "      <td>0</td>\n",
       "      <td>0</td>\n",
       "      <td>1</td>\n",
       "      <td>0</td>\n",
       "    </tr>\n",
       "    <tr>\n",
       "      <th>1</th>\n",
       "      <td>1</td>\n",
       "      <td>0</td>\n",
       "      <td>0</td>\n",
       "      <td>0</td>\n",
       "      <td>1</td>\n",
       "      <td>0</td>\n",
       "      <td>0</td>\n",
       "      <td>1</td>\n",
       "      <td>1</td>\n",
       "      <td>1</td>\n",
       "      <td>...</td>\n",
       "      <td>0</td>\n",
       "      <td>0</td>\n",
       "      <td>0</td>\n",
       "      <td>1</td>\n",
       "      <td>0</td>\n",
       "      <td>0</td>\n",
       "      <td>0</td>\n",
       "      <td>0</td>\n",
       "      <td>1</td>\n",
       "      <td>0</td>\n",
       "    </tr>\n",
       "    <tr>\n",
       "      <th>2</th>\n",
       "      <td>0</td>\n",
       "      <td>0</td>\n",
       "      <td>0</td>\n",
       "      <td>0</td>\n",
       "      <td>0</td>\n",
       "      <td>0</td>\n",
       "      <td>0</td>\n",
       "      <td>1</td>\n",
       "      <td>0</td>\n",
       "      <td>0</td>\n",
       "      <td>...</td>\n",
       "      <td>0</td>\n",
       "      <td>0</td>\n",
       "      <td>0</td>\n",
       "      <td>0</td>\n",
       "      <td>0</td>\n",
       "      <td>1</td>\n",
       "      <td>0</td>\n",
       "      <td>0</td>\n",
       "      <td>0</td>\n",
       "      <td>0</td>\n",
       "    </tr>\n",
       "    <tr>\n",
       "      <th>3</th>\n",
       "      <td>0</td>\n",
       "      <td>0</td>\n",
       "      <td>0</td>\n",
       "      <td>0</td>\n",
       "      <td>0</td>\n",
       "      <td>0</td>\n",
       "      <td>0</td>\n",
       "      <td>1</td>\n",
       "      <td>0</td>\n",
       "      <td>0</td>\n",
       "      <td>...</td>\n",
       "      <td>0</td>\n",
       "      <td>0</td>\n",
       "      <td>0</td>\n",
       "      <td>0</td>\n",
       "      <td>0</td>\n",
       "      <td>0</td>\n",
       "      <td>0</td>\n",
       "      <td>0</td>\n",
       "      <td>0</td>\n",
       "      <td>0</td>\n",
       "    </tr>\n",
       "    <tr>\n",
       "      <th>4</th>\n",
       "      <td>0</td>\n",
       "      <td>0</td>\n",
       "      <td>0</td>\n",
       "      <td>0</td>\n",
       "      <td>0</td>\n",
       "      <td>0</td>\n",
       "      <td>0</td>\n",
       "      <td>1</td>\n",
       "      <td>0</td>\n",
       "      <td>0</td>\n",
       "      <td>...</td>\n",
       "      <td>0</td>\n",
       "      <td>0</td>\n",
       "      <td>0</td>\n",
       "      <td>0</td>\n",
       "      <td>0</td>\n",
       "      <td>1</td>\n",
       "      <td>0</td>\n",
       "      <td>0</td>\n",
       "      <td>0</td>\n",
       "      <td>1</td>\n",
       "    </tr>\n",
       "    <tr>\n",
       "      <th>...</th>\n",
       "      <td>...</td>\n",
       "      <td>...</td>\n",
       "      <td>...</td>\n",
       "      <td>...</td>\n",
       "      <td>...</td>\n",
       "      <td>...</td>\n",
       "      <td>...</td>\n",
       "      <td>...</td>\n",
       "      <td>...</td>\n",
       "      <td>...</td>\n",
       "      <td>...</td>\n",
       "      <td>...</td>\n",
       "      <td>...</td>\n",
       "      <td>...</td>\n",
       "      <td>...</td>\n",
       "      <td>...</td>\n",
       "      <td>...</td>\n",
       "      <td>...</td>\n",
       "      <td>...</td>\n",
       "      <td>...</td>\n",
       "      <td>...</td>\n",
       "    </tr>\n",
       "    <tr>\n",
       "      <th>1395</th>\n",
       "      <td>1</td>\n",
       "      <td>0</td>\n",
       "      <td>1</td>\n",
       "      <td>1</td>\n",
       "      <td>1</td>\n",
       "      <td>1</td>\n",
       "      <td>0</td>\n",
       "      <td>1</td>\n",
       "      <td>1</td>\n",
       "      <td>0</td>\n",
       "      <td>...</td>\n",
       "      <td>0</td>\n",
       "      <td>0</td>\n",
       "      <td>1</td>\n",
       "      <td>0</td>\n",
       "      <td>0</td>\n",
       "      <td>0</td>\n",
       "      <td>0</td>\n",
       "      <td>0</td>\n",
       "      <td>0</td>\n",
       "      <td>0</td>\n",
       "    </tr>\n",
       "    <tr>\n",
       "      <th>1396</th>\n",
       "      <td>1</td>\n",
       "      <td>0</td>\n",
       "      <td>0</td>\n",
       "      <td>1</td>\n",
       "      <td>1</td>\n",
       "      <td>0</td>\n",
       "      <td>0</td>\n",
       "      <td>1</td>\n",
       "      <td>1</td>\n",
       "      <td>0</td>\n",
       "      <td>...</td>\n",
       "      <td>0</td>\n",
       "      <td>0</td>\n",
       "      <td>1</td>\n",
       "      <td>0</td>\n",
       "      <td>0</td>\n",
       "      <td>0</td>\n",
       "      <td>0</td>\n",
       "      <td>0</td>\n",
       "      <td>0</td>\n",
       "      <td>0</td>\n",
       "    </tr>\n",
       "    <tr>\n",
       "      <th>1397</th>\n",
       "      <td>1</td>\n",
       "      <td>0</td>\n",
       "      <td>0</td>\n",
       "      <td>1</td>\n",
       "      <td>1</td>\n",
       "      <td>0</td>\n",
       "      <td>0</td>\n",
       "      <td>1</td>\n",
       "      <td>1</td>\n",
       "      <td>0</td>\n",
       "      <td>...</td>\n",
       "      <td>0</td>\n",
       "      <td>0</td>\n",
       "      <td>1</td>\n",
       "      <td>0</td>\n",
       "      <td>0</td>\n",
       "      <td>0</td>\n",
       "      <td>0</td>\n",
       "      <td>0</td>\n",
       "      <td>0</td>\n",
       "      <td>0</td>\n",
       "    </tr>\n",
       "    <tr>\n",
       "      <th>1398</th>\n",
       "      <td>1</td>\n",
       "      <td>0</td>\n",
       "      <td>0</td>\n",
       "      <td>1</td>\n",
       "      <td>1</td>\n",
       "      <td>0</td>\n",
       "      <td>0</td>\n",
       "      <td>1</td>\n",
       "      <td>1</td>\n",
       "      <td>1</td>\n",
       "      <td>...</td>\n",
       "      <td>0</td>\n",
       "      <td>0</td>\n",
       "      <td>0</td>\n",
       "      <td>0</td>\n",
       "      <td>0</td>\n",
       "      <td>0</td>\n",
       "      <td>0</td>\n",
       "      <td>0</td>\n",
       "      <td>0</td>\n",
       "      <td>0</td>\n",
       "    </tr>\n",
       "    <tr>\n",
       "      <th>1399</th>\n",
       "      <td>1</td>\n",
       "      <td>0</td>\n",
       "      <td>0</td>\n",
       "      <td>1</td>\n",
       "      <td>1</td>\n",
       "      <td>0</td>\n",
       "      <td>0</td>\n",
       "      <td>1</td>\n",
       "      <td>1</td>\n",
       "      <td>0</td>\n",
       "      <td>...</td>\n",
       "      <td>0</td>\n",
       "      <td>0</td>\n",
       "      <td>1</td>\n",
       "      <td>0</td>\n",
       "      <td>0</td>\n",
       "      <td>0</td>\n",
       "      <td>0</td>\n",
       "      <td>0</td>\n",
       "      <td>0</td>\n",
       "      <td>0</td>\n",
       "    </tr>\n",
       "  </tbody>\n",
       "</table>\n",
       "<p>1400 rows × 196 columns</p>\n",
       "</div>"
      ],
      "text/plain": [
       "      KRFP1  KRFP2  KRFP14  KRFP16  KRFP20  KRFP92  KRFP126  KRFP297  KRFP298  \\\n",
       "0         1      0       0       0       0       0        0        1        1   \n",
       "1         1      0       0       0       1       0        0        1        1   \n",
       "2         0      0       0       0       0       0        0        1        0   \n",
       "3         0      0       0       0       0       0        0        1        0   \n",
       "4         0      0       0       0       0       0        0        1        0   \n",
       "...     ...    ...     ...     ...     ...     ...      ...      ...      ...   \n",
       "1395      1      0       1       1       1       1        0        1        1   \n",
       "1396      1      0       0       1       1       0        0        1        1   \n",
       "1397      1      0       0       1       1       0        0        1        1   \n",
       "1398      1      0       0       1       1       0        0        1        1   \n",
       "1399      1      0       0       1       1       0        0        1        1   \n",
       "\n",
       "      KRFP302  ...  KRFP4295  KRFP4317  KRFP4479  KRFP4525  KRFP4531  \\\n",
       "0           0  ...         0         0         0         1         0   \n",
       "1           1  ...         0         0         0         1         0   \n",
       "2           0  ...         0         0         0         0         0   \n",
       "3           0  ...         0         0         0         0         0   \n",
       "4           0  ...         0         0         0         0         0   \n",
       "...       ...  ...       ...       ...       ...       ...       ...   \n",
       "1395        0  ...         0         0         1         0         0   \n",
       "1396        0  ...         0         0         1         0         0   \n",
       "1397        0  ...         0         0         1         0         0   \n",
       "1398        1  ...         0         0         0         0         0   \n",
       "1399        0  ...         0         0         1         0         0   \n",
       "\n",
       "      KRFP4695  KRFP4752  KRFP4770  KRFP4835  KRFP4843  \n",
       "0            0         0         0         1         0  \n",
       "1            0         0         0         1         0  \n",
       "2            1         0         0         0         0  \n",
       "3            0         0         0         0         0  \n",
       "4            1         0         0         0         1  \n",
       "...        ...       ...       ...       ...       ...  \n",
       "1395         0         0         0         0         0  \n",
       "1396         0         0         0         0         0  \n",
       "1397         0         0         0         0         0  \n",
       "1398         0         0         0         0         0  \n",
       "1399         0         0         0         0         0  \n",
       "\n",
       "[1400 rows x 196 columns]"
      ]
     },
     "execution_count": 66,
     "metadata": {},
     "output_type": "execute_result"
    }
   ],
   "source": [
    "reduced_df_cor"
   ]
  },
  {
   "cell_type": "code",
   "execution_count": 67,
   "metadata": {},
   "outputs": [
    {
     "data": {
      "text/html": [
       "<style>#sk-container-id-3 {color: black;}#sk-container-id-3 pre{padding: 0;}#sk-container-id-3 div.sk-toggleable {background-color: white;}#sk-container-id-3 label.sk-toggleable__label {cursor: pointer;display: block;width: 100%;margin-bottom: 0;padding: 0.3em;box-sizing: border-box;text-align: center;}#sk-container-id-3 label.sk-toggleable__label-arrow:before {content: \"▸\";float: left;margin-right: 0.25em;color: #696969;}#sk-container-id-3 label.sk-toggleable__label-arrow:hover:before {color: black;}#sk-container-id-3 div.sk-estimator:hover label.sk-toggleable__label-arrow:before {color: black;}#sk-container-id-3 div.sk-toggleable__content {max-height: 0;max-width: 0;overflow: hidden;text-align: left;background-color: #f0f8ff;}#sk-container-id-3 div.sk-toggleable__content pre {margin: 0.2em;color: black;border-radius: 0.25em;background-color: #f0f8ff;}#sk-container-id-3 input.sk-toggleable__control:checked~div.sk-toggleable__content {max-height: 200px;max-width: 100%;overflow: auto;}#sk-container-id-3 input.sk-toggleable__control:checked~label.sk-toggleable__label-arrow:before {content: \"▾\";}#sk-container-id-3 div.sk-estimator input.sk-toggleable__control:checked~label.sk-toggleable__label {background-color: #d4ebff;}#sk-container-id-3 div.sk-label input.sk-toggleable__control:checked~label.sk-toggleable__label {background-color: #d4ebff;}#sk-container-id-3 input.sk-hidden--visually {border: 0;clip: rect(1px 1px 1px 1px);clip: rect(1px, 1px, 1px, 1px);height: 1px;margin: -1px;overflow: hidden;padding: 0;position: absolute;width: 1px;}#sk-container-id-3 div.sk-estimator {font-family: monospace;background-color: #f0f8ff;border: 1px dotted black;border-radius: 0.25em;box-sizing: border-box;margin-bottom: 0.5em;}#sk-container-id-3 div.sk-estimator:hover {background-color: #d4ebff;}#sk-container-id-3 div.sk-parallel-item::after {content: \"\";width: 100%;border-bottom: 1px solid gray;flex-grow: 1;}#sk-container-id-3 div.sk-label:hover label.sk-toggleable__label {background-color: #d4ebff;}#sk-container-id-3 div.sk-serial::before {content: \"\";position: absolute;border-left: 1px solid gray;box-sizing: border-box;top: 0;bottom: 0;left: 50%;z-index: 0;}#sk-container-id-3 div.sk-serial {display: flex;flex-direction: column;align-items: center;background-color: white;padding-right: 0.2em;padding-left: 0.2em;position: relative;}#sk-container-id-3 div.sk-item {position: relative;z-index: 1;}#sk-container-id-3 div.sk-parallel {display: flex;align-items: stretch;justify-content: center;background-color: white;position: relative;}#sk-container-id-3 div.sk-item::before, #sk-container-id-3 div.sk-parallel-item::before {content: \"\";position: absolute;border-left: 1px solid gray;box-sizing: border-box;top: 0;bottom: 0;left: 50%;z-index: -1;}#sk-container-id-3 div.sk-parallel-item {display: flex;flex-direction: column;z-index: 1;position: relative;background-color: white;}#sk-container-id-3 div.sk-parallel-item:first-child::after {align-self: flex-end;width: 50%;}#sk-container-id-3 div.sk-parallel-item:last-child::after {align-self: flex-start;width: 50%;}#sk-container-id-3 div.sk-parallel-item:only-child::after {width: 0;}#sk-container-id-3 div.sk-dashed-wrapped {border: 1px dashed gray;margin: 0 0.4em 0.5em 0.4em;box-sizing: border-box;padding-bottom: 0.4em;background-color: white;}#sk-container-id-3 div.sk-label label {font-family: monospace;font-weight: bold;display: inline-block;line-height: 1.2em;}#sk-container-id-3 div.sk-label-container {text-align: center;}#sk-container-id-3 div.sk-container {/* jupyter's `normalize.less` sets `[hidden] { display: none; }` but bootstrap.min.css set `[hidden] { display: none !important; }` so we also need the `!important` here to be able to override the default hidden behavior on the sphinx rendered scikit-learn.org. See: https://github.com/scikit-learn/scikit-learn/issues/21755 */display: inline-block !important;position: relative;}#sk-container-id-3 div.sk-text-repr-fallback {display: none;}</style><div id=\"sk-container-id-3\" class=\"sk-top-container\"><div class=\"sk-text-repr-fallback\"><pre>GradientBoostingRegressor(learning_rate=0.01, max_depth=10, n_estimators=1000,\n",
       "                          random_state=42, subsample=0.5)</pre><b>In a Jupyter environment, please rerun this cell to show the HTML representation or trust the notebook. <br />On GitHub, the HTML representation is unable to render, please try loading this page with nbviewer.org.</b></div><div class=\"sk-container\" hidden><div class=\"sk-item\"><div class=\"sk-estimator sk-toggleable\"><input class=\"sk-toggleable__control sk-hidden--visually\" id=\"sk-estimator-id-5\" type=\"checkbox\" checked><label for=\"sk-estimator-id-5\" class=\"sk-toggleable__label sk-toggleable__label-arrow\">GradientBoostingRegressor</label><div class=\"sk-toggleable__content\"><pre>GradientBoostingRegressor(learning_rate=0.01, max_depth=10, n_estimators=1000,\n",
       "                          random_state=42, subsample=0.5)</pre></div></div></div></div></div>"
      ],
      "text/plain": [
       "GradientBoostingRegressor(learning_rate=0.01, max_depth=10, n_estimators=1000,\n",
       "                          random_state=42, subsample=0.5)"
      ]
     },
     "execution_count": 67,
     "metadata": {},
     "output_type": "execute_result"
    }
   ],
   "source": [
    "estimator.fit(reduced_df_cor, y_tr)"
   ]
  },
  {
   "cell_type": "code",
   "execution_count": 68,
   "metadata": {},
   "outputs": [],
   "source": [
    "y_pred_CV_GBR = cross_val_predict(estimator, reduced_df_cor, y_tr, cv=cv, n_jobs=-1)"
   ]
  },
  {
   "cell_type": "code",
   "execution_count": 69,
   "metadata": {},
   "outputs": [
    {
     "data": {
      "text/plain": [
       "0.65"
      ]
     },
     "execution_count": 69,
     "metadata": {},
     "output_type": "execute_result"
    }
   ],
   "source": [
    "Q2_CV = round(r2_score(y_tr, y_pred_CV_GBR), 2)\n",
    "Q2_CV"
   ]
  },
  {
   "cell_type": "code",
   "execution_count": 70,
   "metadata": {},
   "outputs": [
    {
     "data": {
      "text/plain": [
       "0.72"
      ]
     },
     "execution_count": 70,
     "metadata": {},
     "output_type": "execute_result"
    }
   ],
   "source": [
    "RMSE_CV=round(np.sqrt(mean_squared_error(y_tr, y_pred_CV_GBR)), 2)\n",
    "RMSE_CV"
   ]
  },
  {
   "cell_type": "code",
   "execution_count": 71,
   "metadata": {},
   "outputs": [
    {
     "data": {
      "text/plain": [
       "196"
      ]
     },
     "execution_count": 71,
     "metadata": {},
     "output_type": "execute_result"
    }
   ],
   "source": [
    "feature_name_reduced_df_cor = reduced_df_cor.columns.tolist()\n",
    "len(feature_name_reduced_df_cor)"
   ]
  },
  {
   "cell_type": "markdown",
   "metadata": {},
   "source": [
    "# Prediction for test set's molecules"
   ]
  },
  {
   "cell_type": "code",
   "execution_count": 72,
   "metadata": {},
   "outputs": [],
   "source": [
    "x_ts=desc_ts[feature_name_reduced_df_cor]"
   ]
  },
  {
   "cell_type": "code",
   "execution_count": 73,
   "metadata": {},
   "outputs": [],
   "source": [
    "y_ts = np.array(y_ts, dtype=np.float32)"
   ]
  },
  {
   "cell_type": "code",
   "execution_count": 74,
   "metadata": {},
   "outputs": [],
   "source": [
    "y_pred_GBR = estimator.predict(x_ts)"
   ]
  },
  {
   "cell_type": "code",
   "execution_count": 75,
   "metadata": {},
   "outputs": [
    {
     "data": {
      "text/plain": [
       "0.7"
      ]
     },
     "execution_count": 75,
     "metadata": {},
     "output_type": "execute_result"
    }
   ],
   "source": [
    "Q2_TS = round(r2_score(y_ts, y_pred_GBR), 2)\n",
    "Q2_TS"
   ]
  },
  {
   "cell_type": "code",
   "execution_count": 76,
   "metadata": {},
   "outputs": [
    {
     "data": {
      "text/plain": [
       "0.68"
      ]
     },
     "execution_count": 76,
     "metadata": {},
     "output_type": "execute_result"
    }
   ],
   "source": [
    "RMSE_TS=round(np.sqrt(mean_squared_error(y_ts, y_pred_GBR)), 2)\n",
    "RMSE_TS"
   ]
  },
  {
   "cell_type": "markdown",
   "metadata": {},
   "source": [
    "# save the model to disk"
   ]
  },
  {
   "cell_type": "code",
   "execution_count": 77,
   "metadata": {},
   "outputs": [],
   "source": [
    "pickle.dump(estimator, open('Models/Padels/GBR_after_cross_corr_KRFP.pkl', 'wb'))"
   ]
  },
  {
   "cell_type": "markdown",
   "metadata": {},
   "source": [
    "# load the model from disk"
   ]
  },
  {
   "cell_type": "code",
   "execution_count": 234,
   "metadata": {},
   "outputs": [],
   "source": [
    "GBR_after_cross_corr_KRFP = pickle.load(open('Models/Padels/GBR_after_cross_corr_KRFP.pkl', 'rb'))"
   ]
  },
  {
   "cell_type": "markdown",
   "metadata": {},
   "source": [
    " # Recursive feature elimination"
   ]
  },
  {
   "cell_type": "code",
   "execution_count": 78,
   "metadata": {},
   "outputs": [
    {
     "data": {
      "text/html": [
       "<style>#sk-container-id-4 {color: black;}#sk-container-id-4 pre{padding: 0;}#sk-container-id-4 div.sk-toggleable {background-color: white;}#sk-container-id-4 label.sk-toggleable__label {cursor: pointer;display: block;width: 100%;margin-bottom: 0;padding: 0.3em;box-sizing: border-box;text-align: center;}#sk-container-id-4 label.sk-toggleable__label-arrow:before {content: \"▸\";float: left;margin-right: 0.25em;color: #696969;}#sk-container-id-4 label.sk-toggleable__label-arrow:hover:before {color: black;}#sk-container-id-4 div.sk-estimator:hover label.sk-toggleable__label-arrow:before {color: black;}#sk-container-id-4 div.sk-toggleable__content {max-height: 0;max-width: 0;overflow: hidden;text-align: left;background-color: #f0f8ff;}#sk-container-id-4 div.sk-toggleable__content pre {margin: 0.2em;color: black;border-radius: 0.25em;background-color: #f0f8ff;}#sk-container-id-4 input.sk-toggleable__control:checked~div.sk-toggleable__content {max-height: 200px;max-width: 100%;overflow: auto;}#sk-container-id-4 input.sk-toggleable__control:checked~label.sk-toggleable__label-arrow:before {content: \"▾\";}#sk-container-id-4 div.sk-estimator input.sk-toggleable__control:checked~label.sk-toggleable__label {background-color: #d4ebff;}#sk-container-id-4 div.sk-label input.sk-toggleable__control:checked~label.sk-toggleable__label {background-color: #d4ebff;}#sk-container-id-4 input.sk-hidden--visually {border: 0;clip: rect(1px 1px 1px 1px);clip: rect(1px, 1px, 1px, 1px);height: 1px;margin: -1px;overflow: hidden;padding: 0;position: absolute;width: 1px;}#sk-container-id-4 div.sk-estimator {font-family: monospace;background-color: #f0f8ff;border: 1px dotted black;border-radius: 0.25em;box-sizing: border-box;margin-bottom: 0.5em;}#sk-container-id-4 div.sk-estimator:hover {background-color: #d4ebff;}#sk-container-id-4 div.sk-parallel-item::after {content: \"\";width: 100%;border-bottom: 1px solid gray;flex-grow: 1;}#sk-container-id-4 div.sk-label:hover label.sk-toggleable__label {background-color: #d4ebff;}#sk-container-id-4 div.sk-serial::before {content: \"\";position: absolute;border-left: 1px solid gray;box-sizing: border-box;top: 0;bottom: 0;left: 50%;z-index: 0;}#sk-container-id-4 div.sk-serial {display: flex;flex-direction: column;align-items: center;background-color: white;padding-right: 0.2em;padding-left: 0.2em;position: relative;}#sk-container-id-4 div.sk-item {position: relative;z-index: 1;}#sk-container-id-4 div.sk-parallel {display: flex;align-items: stretch;justify-content: center;background-color: white;position: relative;}#sk-container-id-4 div.sk-item::before, #sk-container-id-4 div.sk-parallel-item::before {content: \"\";position: absolute;border-left: 1px solid gray;box-sizing: border-box;top: 0;bottom: 0;left: 50%;z-index: -1;}#sk-container-id-4 div.sk-parallel-item {display: flex;flex-direction: column;z-index: 1;position: relative;background-color: white;}#sk-container-id-4 div.sk-parallel-item:first-child::after {align-self: flex-end;width: 50%;}#sk-container-id-4 div.sk-parallel-item:last-child::after {align-self: flex-start;width: 50%;}#sk-container-id-4 div.sk-parallel-item:only-child::after {width: 0;}#sk-container-id-4 div.sk-dashed-wrapped {border: 1px dashed gray;margin: 0 0.4em 0.5em 0.4em;box-sizing: border-box;padding-bottom: 0.4em;background-color: white;}#sk-container-id-4 div.sk-label label {font-family: monospace;font-weight: bold;display: inline-block;line-height: 1.2em;}#sk-container-id-4 div.sk-label-container {text-align: center;}#sk-container-id-4 div.sk-container {/* jupyter's `normalize.less` sets `[hidden] { display: none; }` but bootstrap.min.css set `[hidden] { display: none !important; }` so we also need the `!important` here to be able to override the default hidden behavior on the sphinx rendered scikit-learn.org. See: https://github.com/scikit-learn/scikit-learn/issues/21755 */display: inline-block !important;position: relative;}#sk-container-id-4 div.sk-text-repr-fallback {display: none;}</style><div id=\"sk-container-id-4\" class=\"sk-top-container\"><div class=\"sk-text-repr-fallback\"><pre>GradientBoostingRegressor(learning_rate=0.01, max_depth=10, n_estimators=1000,\n",
       "                          random_state=42, subsample=0.5)</pre><b>In a Jupyter environment, please rerun this cell to show the HTML representation or trust the notebook. <br />On GitHub, the HTML representation is unable to render, please try loading this page with nbviewer.org.</b></div><div class=\"sk-container\" hidden><div class=\"sk-item\"><div class=\"sk-estimator sk-toggleable\"><input class=\"sk-toggleable__control sk-hidden--visually\" id=\"sk-estimator-id-6\" type=\"checkbox\" checked><label for=\"sk-estimator-id-6\" class=\"sk-toggleable__label sk-toggleable__label-arrow\">GradientBoostingRegressor</label><div class=\"sk-toggleable__content\"><pre>GradientBoostingRegressor(learning_rate=0.01, max_depth=10, n_estimators=1000,\n",
       "                          random_state=42, subsample=0.5)</pre></div></div></div></div></div>"
      ],
      "text/plain": [
       "GradientBoostingRegressor(learning_rate=0.01, max_depth=10, n_estimators=1000,\n",
       "                          random_state=42, subsample=0.5)"
      ]
     },
     "execution_count": 78,
     "metadata": {},
     "output_type": "execute_result"
    }
   ],
   "source": [
    "from sklearn.feature_selection import RFECV\n",
    "estimator"
   ]
  },
  {
   "cell_type": "code",
   "execution_count": 79,
   "metadata": {},
   "outputs": [
    {
     "data": {
      "text/html": [
       "<style>#sk-container-id-5 {color: black;}#sk-container-id-5 pre{padding: 0;}#sk-container-id-5 div.sk-toggleable {background-color: white;}#sk-container-id-5 label.sk-toggleable__label {cursor: pointer;display: block;width: 100%;margin-bottom: 0;padding: 0.3em;box-sizing: border-box;text-align: center;}#sk-container-id-5 label.sk-toggleable__label-arrow:before {content: \"▸\";float: left;margin-right: 0.25em;color: #696969;}#sk-container-id-5 label.sk-toggleable__label-arrow:hover:before {color: black;}#sk-container-id-5 div.sk-estimator:hover label.sk-toggleable__label-arrow:before {color: black;}#sk-container-id-5 div.sk-toggleable__content {max-height: 0;max-width: 0;overflow: hidden;text-align: left;background-color: #f0f8ff;}#sk-container-id-5 div.sk-toggleable__content pre {margin: 0.2em;color: black;border-radius: 0.25em;background-color: #f0f8ff;}#sk-container-id-5 input.sk-toggleable__control:checked~div.sk-toggleable__content {max-height: 200px;max-width: 100%;overflow: auto;}#sk-container-id-5 input.sk-toggleable__control:checked~label.sk-toggleable__label-arrow:before {content: \"▾\";}#sk-container-id-5 div.sk-estimator input.sk-toggleable__control:checked~label.sk-toggleable__label {background-color: #d4ebff;}#sk-container-id-5 div.sk-label input.sk-toggleable__control:checked~label.sk-toggleable__label {background-color: #d4ebff;}#sk-container-id-5 input.sk-hidden--visually {border: 0;clip: rect(1px 1px 1px 1px);clip: rect(1px, 1px, 1px, 1px);height: 1px;margin: -1px;overflow: hidden;padding: 0;position: absolute;width: 1px;}#sk-container-id-5 div.sk-estimator {font-family: monospace;background-color: #f0f8ff;border: 1px dotted black;border-radius: 0.25em;box-sizing: border-box;margin-bottom: 0.5em;}#sk-container-id-5 div.sk-estimator:hover {background-color: #d4ebff;}#sk-container-id-5 div.sk-parallel-item::after {content: \"\";width: 100%;border-bottom: 1px solid gray;flex-grow: 1;}#sk-container-id-5 div.sk-label:hover label.sk-toggleable__label {background-color: #d4ebff;}#sk-container-id-5 div.sk-serial::before {content: \"\";position: absolute;border-left: 1px solid gray;box-sizing: border-box;top: 0;bottom: 0;left: 50%;z-index: 0;}#sk-container-id-5 div.sk-serial {display: flex;flex-direction: column;align-items: center;background-color: white;padding-right: 0.2em;padding-left: 0.2em;position: relative;}#sk-container-id-5 div.sk-item {position: relative;z-index: 1;}#sk-container-id-5 div.sk-parallel {display: flex;align-items: stretch;justify-content: center;background-color: white;position: relative;}#sk-container-id-5 div.sk-item::before, #sk-container-id-5 div.sk-parallel-item::before {content: \"\";position: absolute;border-left: 1px solid gray;box-sizing: border-box;top: 0;bottom: 0;left: 50%;z-index: -1;}#sk-container-id-5 div.sk-parallel-item {display: flex;flex-direction: column;z-index: 1;position: relative;background-color: white;}#sk-container-id-5 div.sk-parallel-item:first-child::after {align-self: flex-end;width: 50%;}#sk-container-id-5 div.sk-parallel-item:last-child::after {align-self: flex-start;width: 50%;}#sk-container-id-5 div.sk-parallel-item:only-child::after {width: 0;}#sk-container-id-5 div.sk-dashed-wrapped {border: 1px dashed gray;margin: 0 0.4em 0.5em 0.4em;box-sizing: border-box;padding-bottom: 0.4em;background-color: white;}#sk-container-id-5 div.sk-label label {font-family: monospace;font-weight: bold;display: inline-block;line-height: 1.2em;}#sk-container-id-5 div.sk-label-container {text-align: center;}#sk-container-id-5 div.sk-container {/* jupyter's `normalize.less` sets `[hidden] { display: none; }` but bootstrap.min.css set `[hidden] { display: none !important; }` so we also need the `!important` here to be able to override the default hidden behavior on the sphinx rendered scikit-learn.org. See: https://github.com/scikit-learn/scikit-learn/issues/21755 */display: inline-block !important;position: relative;}#sk-container-id-5 div.sk-text-repr-fallback {display: none;}</style><div id=\"sk-container-id-5\" class=\"sk-top-container\"><div class=\"sk-text-repr-fallback\"><pre>RFECV(cv=KFold(n_splits=5, random_state=42, shuffle=True),\n",
       "      estimator=GradientBoostingRegressor(learning_rate=0.01, max_depth=10,\n",
       "                                          n_estimators=1000, random_state=42,\n",
       "                                          subsample=0.5),\n",
       "      scoring=&#x27;r2&#x27;)</pre><b>In a Jupyter environment, please rerun this cell to show the HTML representation or trust the notebook. <br />On GitHub, the HTML representation is unable to render, please try loading this page with nbviewer.org.</b></div><div class=\"sk-container\" hidden><div class=\"sk-item sk-dashed-wrapped\"><div class=\"sk-label-container\"><div class=\"sk-label sk-toggleable\"><input class=\"sk-toggleable__control sk-hidden--visually\" id=\"sk-estimator-id-7\" type=\"checkbox\" ><label for=\"sk-estimator-id-7\" class=\"sk-toggleable__label sk-toggleable__label-arrow\">RFECV</label><div class=\"sk-toggleable__content\"><pre>RFECV(cv=KFold(n_splits=5, random_state=42, shuffle=True),\n",
       "      estimator=GradientBoostingRegressor(learning_rate=0.01, max_depth=10,\n",
       "                                          n_estimators=1000, random_state=42,\n",
       "                                          subsample=0.5),\n",
       "      scoring=&#x27;r2&#x27;)</pre></div></div></div><div class=\"sk-parallel\"><div class=\"sk-parallel-item\"><div class=\"sk-item\"><div class=\"sk-label-container\"><div class=\"sk-label sk-toggleable\"><input class=\"sk-toggleable__control sk-hidden--visually\" id=\"sk-estimator-id-8\" type=\"checkbox\" ><label for=\"sk-estimator-id-8\" class=\"sk-toggleable__label sk-toggleable__label-arrow\">estimator: GradientBoostingRegressor</label><div class=\"sk-toggleable__content\"><pre>GradientBoostingRegressor(learning_rate=0.01, max_depth=10, n_estimators=1000,\n",
       "                          random_state=42, subsample=0.5)</pre></div></div></div><div class=\"sk-serial\"><div class=\"sk-item\"><div class=\"sk-estimator sk-toggleable\"><input class=\"sk-toggleable__control sk-hidden--visually\" id=\"sk-estimator-id-9\" type=\"checkbox\" ><label for=\"sk-estimator-id-9\" class=\"sk-toggleable__label sk-toggleable__label-arrow\">GradientBoostingRegressor</label><div class=\"sk-toggleable__content\"><pre>GradientBoostingRegressor(learning_rate=0.01, max_depth=10, n_estimators=1000,\n",
       "                          random_state=42, subsample=0.5)</pre></div></div></div></div></div></div></div></div></div></div>"
      ],
      "text/plain": [
       "RFECV(cv=KFold(n_splits=5, random_state=42, shuffle=True),\n",
       "      estimator=GradientBoostingRegressor(learning_rate=0.01, max_depth=10,\n",
       "                                          n_estimators=1000, random_state=42,\n",
       "                                          subsample=0.5),\n",
       "      scoring='r2')"
      ]
     },
     "execution_count": 79,
     "metadata": {},
     "output_type": "execute_result"
    }
   ],
   "source": [
    "rfecv = RFECV(estimator=estimator, cv=cv, scoring='r2')\n",
    "rfecv.fit(reduced_df_cor, y_tr)"
   ]
  },
  {
   "cell_type": "code",
   "execution_count": 82,
   "metadata": {},
   "outputs": [
    {
     "data": {
      "image/png": "[encoded data removed]",
      "text/plain": [
       "<Figure size 640x480 with 1 Axes>"
      ]
     },
     "metadata": {},
     "output_type": "display_data"
    },
    {
     "name": "stdout",
     "output_type": "stream",
     "text": [
      "The optimal number of features: 188\n"
     ]
    }
   ],
   "source": [
    "plt.plot(range(1, len(rfecv.cv_results_[\"mean_test_score\"]) + 1), rfecv.cv_results_[\"mean_test_score\"], color='#303F9F', linewidth=3)\n",
    "plt.xlabel(\"Number of Selected Features\")\n",
    "plt.ylabel(\"CV Score\")\n",
    "plt.title(\"Recursive Feature Elimination (RFE)\")\n",
    "plt.show()\n",
    "print(\"The optimal number of features: {}\".format(rfecv.n_features_))"
   ]
  },
  {
   "cell_type": "markdown",
   "metadata": {},
   "source": [
    "Make a new DataFrame called \"X_rfe\" that contains selected features."
   ]
  },
  {
   "cell_type": "code",
   "execution_count": 83,
   "metadata": {},
   "outputs": [],
   "source": [
    "reduced_df_cor = np.array(reduced_df_cor, dtype=np.float32)"
   ]
  },
  {
   "cell_type": "code",
   "execution_count": 84,
   "metadata": {},
   "outputs": [],
   "source": [
    "X_rfe = reduced_df_cor[:, rfecv.support_]"
   ]
  },
  {
   "cell_type": "code",
   "execution_count": 85,
   "metadata": {},
   "outputs": [
    {
     "data": {
      "text/plain": [
       "(1400, 188)"
      ]
     },
     "execution_count": 85,
     "metadata": {},
     "output_type": "execute_result"
    }
   ],
   "source": [
    "X_rfe.shape"
   ]
  },
  {
   "cell_type": "code",
   "execution_count": 86,
   "metadata": {},
   "outputs": [
    {
     "data": {
      "text/html": [
       "<style>#sk-container-id-6 {color: black;}#sk-container-id-6 pre{padding: 0;}#sk-container-id-6 div.sk-toggleable {background-color: white;}#sk-container-id-6 label.sk-toggleable__label {cursor: pointer;display: block;width: 100%;margin-bottom: 0;padding: 0.3em;box-sizing: border-box;text-align: center;}#sk-container-id-6 label.sk-toggleable__label-arrow:before {content: \"▸\";float: left;margin-right: 0.25em;color: #696969;}#sk-container-id-6 label.sk-toggleable__label-arrow:hover:before {color: black;}#sk-container-id-6 div.sk-estimator:hover label.sk-toggleable__label-arrow:before {color: black;}#sk-container-id-6 div.sk-toggleable__content {max-height: 0;max-width: 0;overflow: hidden;text-align: left;background-color: #f0f8ff;}#sk-container-id-6 div.sk-toggleable__content pre {margin: 0.2em;color: black;border-radius: 0.25em;background-color: #f0f8ff;}#sk-container-id-6 input.sk-toggleable__control:checked~div.sk-toggleable__content {max-height: 200px;max-width: 100%;overflow: auto;}#sk-container-id-6 input.sk-toggleable__control:checked~label.sk-toggleable__label-arrow:before {content: \"▾\";}#sk-container-id-6 div.sk-estimator input.sk-toggleable__control:checked~label.sk-toggleable__label {background-color: #d4ebff;}#sk-container-id-6 div.sk-label input.sk-toggleable__control:checked~label.sk-toggleable__label {background-color: #d4ebff;}#sk-container-id-6 input.sk-hidden--visually {border: 0;clip: rect(1px 1px 1px 1px);clip: rect(1px, 1px, 1px, 1px);height: 1px;margin: -1px;overflow: hidden;padding: 0;position: absolute;width: 1px;}#sk-container-id-6 div.sk-estimator {font-family: monospace;background-color: #f0f8ff;border: 1px dotted black;border-radius: 0.25em;box-sizing: border-box;margin-bottom: 0.5em;}#sk-container-id-6 div.sk-estimator:hover {background-color: #d4ebff;}#sk-container-id-6 div.sk-parallel-item::after {content: \"\";width: 100%;border-bottom: 1px solid gray;flex-grow: 1;}#sk-container-id-6 div.sk-label:hover label.sk-toggleable__label {background-color: #d4ebff;}#sk-container-id-6 div.sk-serial::before {content: \"\";position: absolute;border-left: 1px solid gray;box-sizing: border-box;top: 0;bottom: 0;left: 50%;z-index: 0;}#sk-container-id-6 div.sk-serial {display: flex;flex-direction: column;align-items: center;background-color: white;padding-right: 0.2em;padding-left: 0.2em;position: relative;}#sk-container-id-6 div.sk-item {position: relative;z-index: 1;}#sk-container-id-6 div.sk-parallel {display: flex;align-items: stretch;justify-content: center;background-color: white;position: relative;}#sk-container-id-6 div.sk-item::before, #sk-container-id-6 div.sk-parallel-item::before {content: \"\";position: absolute;border-left: 1px solid gray;box-sizing: border-box;top: 0;bottom: 0;left: 50%;z-index: -1;}#sk-container-id-6 div.sk-parallel-item {display: flex;flex-direction: column;z-index: 1;position: relative;background-color: white;}#sk-container-id-6 div.sk-parallel-item:first-child::after {align-self: flex-end;width: 50%;}#sk-container-id-6 div.sk-parallel-item:last-child::after {align-self: flex-start;width: 50%;}#sk-container-id-6 div.sk-parallel-item:only-child::after {width: 0;}#sk-container-id-6 div.sk-dashed-wrapped {border: 1px dashed gray;margin: 0 0.4em 0.5em 0.4em;box-sizing: border-box;padding-bottom: 0.4em;background-color: white;}#sk-container-id-6 div.sk-label label {font-family: monospace;font-weight: bold;display: inline-block;line-height: 1.2em;}#sk-container-id-6 div.sk-label-container {text-align: center;}#sk-container-id-6 div.sk-container {/* jupyter's `normalize.less` sets `[hidden] { display: none; }` but bootstrap.min.css set `[hidden] { display: none !important; }` so we also need the `!important` here to be able to override the default hidden behavior on the sphinx rendered scikit-learn.org. See: https://github.com/scikit-learn/scikit-learn/issues/21755 */display: inline-block !important;position: relative;}#sk-container-id-6 div.sk-text-repr-fallback {display: none;}</style><div id=\"sk-container-id-6\" class=\"sk-top-container\"><div class=\"sk-text-repr-fallback\"><pre>GradientBoostingRegressor(learning_rate=0.01, max_depth=10, n_estimators=1000,\n",
       "                          random_state=42, subsample=0.5)</pre><b>In a Jupyter environment, please rerun this cell to show the HTML representation or trust the notebook. <br />On GitHub, the HTML representation is unable to render, please try loading this page with nbviewer.org.</b></div><div class=\"sk-container\" hidden><div class=\"sk-item\"><div class=\"sk-estimator sk-toggleable\"><input class=\"sk-toggleable__control sk-hidden--visually\" id=\"sk-estimator-id-10\" type=\"checkbox\" checked><label for=\"sk-estimator-id-10\" class=\"sk-toggleable__label sk-toggleable__label-arrow\">GradientBoostingRegressor</label><div class=\"sk-toggleable__content\"><pre>GradientBoostingRegressor(learning_rate=0.01, max_depth=10, n_estimators=1000,\n",
       "                          random_state=42, subsample=0.5)</pre></div></div></div></div></div>"
      ],
      "text/plain": [
       "GradientBoostingRegressor(learning_rate=0.01, max_depth=10, n_estimators=1000,\n",
       "                          random_state=42, subsample=0.5)"
      ]
     },
     "execution_count": 86,
     "metadata": {},
     "output_type": "execute_result"
    }
   ],
   "source": [
    "estimator.fit(X_rfe, y_tr)"
   ]
  },
  {
   "cell_type": "code",
   "execution_count": 87,
   "metadata": {},
   "outputs": [],
   "source": [
    "y_pred_CV_GBR = cross_val_predict(estimator, X_rfe, y_tr, cv=cv, n_jobs=-1)"
   ]
  },
  {
   "cell_type": "code",
   "execution_count": 88,
   "metadata": {},
   "outputs": [
    {
     "data": {
      "text/plain": [
       "0.65"
      ]
     },
     "execution_count": 88,
     "metadata": {},
     "output_type": "execute_result"
    }
   ],
   "source": [
    "Q2_CV = round(r2_score(y_tr, y_pred_CV_GBR), 2)\n",
    "Q2_CV"
   ]
  },
  {
   "cell_type": "code",
   "execution_count": 89,
   "metadata": {},
   "outputs": [
    {
     "data": {
      "text/plain": [
       "0.72"
      ]
     },
     "execution_count": 89,
     "metadata": {},
     "output_type": "execute_result"
    }
   ],
   "source": [
    "RMSE_CV=round(np.sqrt(mean_squared_error(y_tr, y_pred_CV_GBR)), 2)\n",
    "RMSE_CV"
   ]
  },
  {
   "cell_type": "code",
   "execution_count": 90,
   "metadata": {},
   "outputs": [],
   "source": [
    "reduced_df_cor=x_tr_const_and_nearcont.drop(to_drop, axis=1)"
   ]
  },
  {
   "cell_type": "code",
   "execution_count": 91,
   "metadata": {},
   "outputs": [
    {
     "data": {
      "text/plain": [
       "Index(['KRFP1', 'KRFP2', 'KRFP14', 'KRFP16', 'KRFP20', 'KRFP92', 'KRFP126',\n",
       "       'KRFP297', 'KRFP298', 'KRFP302',\n",
       "       ...\n",
       "       'KRFP4294', 'KRFP4295', 'KRFP4317', 'KRFP4479', 'KRFP4525', 'KRFP4695',\n",
       "       'KRFP4752', 'KRFP4770', 'KRFP4835', 'KRFP4843'],\n",
       "      dtype='object', length=188)"
      ]
     },
     "execution_count": 91,
     "metadata": {},
     "output_type": "execute_result"
    }
   ],
   "source": [
    "feature_idx = rfecv.get_support()\n",
    "feature_name_rfecv = reduced_df_cor.columns[feature_idx]\n",
    "feature_name_rfecv"
   ]
  },
  {
   "cell_type": "code",
   "execution_count": 92,
   "metadata": {},
   "outputs": [],
   "source": [
    "desc_name_rfecv=list(feature_name_rfecv)"
   ]
  },
  {
   "cell_type": "code",
   "execution_count": 235,
   "metadata": {},
   "outputs": [],
   "source": [
    "from pathlib import Path"
   ]
  },
  {
   "cell_type": "code",
   "execution_count": 236,
   "metadata": {},
   "outputs": [],
   "source": [
    "urls=list(feature_name_rfecv)"
   ]
  },
  {
   "cell_type": "code",
   "execution_count": 239,
   "metadata": {},
   "outputs": [],
   "source": [
    "path = Path('feature_name_rfecv_KRFPFP.txt')"
   ]
  },
  {
   "cell_type": "code",
   "execution_count": 240,
   "metadata": {},
   "outputs": [
    {
     "data": {
      "text/plain": [
       "1639"
      ]
     },
     "execution_count": 240,
     "metadata": {},
     "output_type": "execute_result"
    }
   ],
   "source": [
    "path.write_text('\\n'.join(urls))"
   ]
  },
  {
   "cell_type": "markdown",
   "metadata": {},
   "source": [
    "# Prediction for test set's molecules"
   ]
  },
  {
   "cell_type": "code",
   "execution_count": 95,
   "metadata": {},
   "outputs": [],
   "source": [
    "x_ts=desc_ts[feature_name_rfecv]"
   ]
  },
  {
   "cell_type": "code",
   "execution_count": 96,
   "metadata": {},
   "outputs": [],
   "source": [
    "y_ts = np.array(y_ts, dtype=np.float32)"
   ]
  },
  {
   "cell_type": "code",
   "execution_count": 97,
   "metadata": {},
   "outputs": [],
   "source": [
    "y_pred_GBR = estimator.predict(x_ts)"
   ]
  },
  {
   "cell_type": "code",
   "execution_count": 98,
   "metadata": {
    "scrolled": true
   },
   "outputs": [
    {
     "data": {
      "text/plain": [
       "0.7"
      ]
     },
     "execution_count": 98,
     "metadata": {},
     "output_type": "execute_result"
    }
   ],
   "source": [
    "Q2_TS = round(r2_score(y_ts, y_pred_GBR), 2)\n",
    "Q2_TS"
   ]
  },
  {
   "cell_type": "code",
   "execution_count": 99,
   "metadata": {
    "scrolled": true
   },
   "outputs": [
    {
     "data": {
      "text/plain": [
       "0.67"
      ]
     },
     "execution_count": 99,
     "metadata": {},
     "output_type": "execute_result"
    }
   ],
   "source": [
    "RMSE_TS=round(np.sqrt(mean_squared_error(y_ts, y_pred_GBR)), 2)\n",
    "RMSE_TS"
   ]
  },
  {
   "cell_type": "code",
   "execution_count": null,
   "metadata": {},
   "outputs": [],
   "source": []
  },
  {
   "cell_type": "markdown",
   "metadata": {},
   "source": [
    "# save the model to disk"
   ]
  },
  {
   "cell_type": "code",
   "execution_count": 94,
   "metadata": {},
   "outputs": [],
   "source": [
    "pickle.dump(estimator, open('Models/Padels/HDAC3_GBR_KRFPFP_final_FS.pkl', 'wb'))"
   ]
  },
  {
   "cell_type": "markdown",
   "metadata": {},
   "source": [
    "# load the model from disk"
   ]
  },
  {
   "cell_type": "code",
   "execution_count": 100,
   "metadata": {},
   "outputs": [],
   "source": [
    "best_GBR = pickle.load(open('Models/Padels/HDAC3_GBR_KRFPFP_final_FS.pkl', 'rb'))"
   ]
  },
  {
   "cell_type": "markdown",
   "metadata": {},
   "source": [
    "# Y-randomization GradientBoostingRegressor model"
   ]
  },
  {
   "cell_type": "code",
   "execution_count": 102,
   "metadata": {},
   "outputs": [
    {
     "name": "stderr",
     "output_type": "stream",
     "text": [
      "[Parallel(n_jobs=-1)]: Using backend LokyBackend with 16 concurrent workers.\n",
      "[Parallel(n_jobs=-1)]: Done  18 tasks      | elapsed:  4.7min\n"
     ]
    },
    {
     "name": "stdout",
     "output_type": "stream",
     "text": [
      "True score =  0.65 \n",
      "Y-randomization =  -0.37 \n",
      "p-value =  0.0196\n"
     ]
    },
    {
     "name": "stderr",
     "output_type": "stream",
     "text": [
      "[Parallel(n_jobs=-1)]: Done  50 out of  50 | elapsed:  9.1min finished\n"
     ]
    }
   ],
   "source": [
    "permutations = 50\n",
    "score, permutation_scores, pvalue = permutation_test_score(best_GBR, X_rfe, y_tr,\n",
    "                                                           cv=cv, scoring='r2',\n",
    "                                                           n_permutations=permutations,\n",
    "                                                           n_jobs=-1,\n",
    "                                                           verbose=1,\n",
    "                                                           random_state=seed)\n",
    "print('True score = ', score.round(2),\n",
    "      '\\nY-randomization = ', np.mean(permutation_scores).round(2),\n",
    "      '\\np-value = ', pvalue.round(4))"
   ]
  },
  {
   "cell_type": "markdown",
   "metadata": {},
   "source": [
    "# 11. Estimating applicability domain. Method - Euclidian distances, K=1"
   ]
  },
  {
   "cell_type": "code",
   "execution_count": 103,
   "metadata": {},
   "outputs": [],
   "source": [
    "neighbors_k= pairwise_distances(X_rfe, n_jobs=-1)\n",
    "neighbors_k.sort(0)"
   ]
  },
  {
   "cell_type": "code",
   "execution_count": 104,
   "metadata": {},
   "outputs": [
    {
     "data": {
      "text/html": [
       "<div>\n",
       "<style scoped>\n",
       "    .dataframe tbody tr th:only-of-type {\n",
       "        vertical-align: middle;\n",
       "    }\n",
       "\n",
       "    .dataframe tbody tr th {\n",
       "        vertical-align: top;\n",
       "    }\n",
       "\n",
       "    .dataframe thead th {\n",
       "        text-align: right;\n",
       "    }\n",
       "</style>\n",
       "<table border=\"1\" class=\"dataframe\">\n",
       "  <thead>\n",
       "    <tr style=\"text-align: right;\">\n",
       "      <th></th>\n",
       "      <th>0</th>\n",
       "      <th>1</th>\n",
       "      <th>2</th>\n",
       "      <th>3</th>\n",
       "      <th>4</th>\n",
       "      <th>5</th>\n",
       "      <th>6</th>\n",
       "      <th>7</th>\n",
       "      <th>8</th>\n",
       "      <th>9</th>\n",
       "      <th>...</th>\n",
       "      <th>1390</th>\n",
       "      <th>1391</th>\n",
       "      <th>1392</th>\n",
       "      <th>1393</th>\n",
       "      <th>1394</th>\n",
       "      <th>1395</th>\n",
       "      <th>1396</th>\n",
       "      <th>1397</th>\n",
       "      <th>1398</th>\n",
       "      <th>1399</th>\n",
       "    </tr>\n",
       "  </thead>\n",
       "  <tbody>\n",
       "    <tr>\n",
       "      <th>0</th>\n",
       "      <td>0.000000</td>\n",
       "      <td>0.000000</td>\n",
       "      <td>0.000000</td>\n",
       "      <td>0.000000</td>\n",
       "      <td>0.000000</td>\n",
       "      <td>0.000000</td>\n",
       "      <td>0.000000</td>\n",
       "      <td>0.000000</td>\n",
       "      <td>0.000000</td>\n",
       "      <td>0.000000</td>\n",
       "      <td>...</td>\n",
       "      <td>0.000000</td>\n",
       "      <td>0.000000</td>\n",
       "      <td>0.000000</td>\n",
       "      <td>0.000000</td>\n",
       "      <td>0.000000</td>\n",
       "      <td>0.000000</td>\n",
       "      <td>0.000000</td>\n",
       "      <td>0.000000</td>\n",
       "      <td>0.000000</td>\n",
       "      <td>0.000000</td>\n",
       "    </tr>\n",
       "    <tr>\n",
       "      <th>1</th>\n",
       "      <td>1.414214</td>\n",
       "      <td>2.645751</td>\n",
       "      <td>2.000000</td>\n",
       "      <td>0.000000</td>\n",
       "      <td>1.414214</td>\n",
       "      <td>1.414214</td>\n",
       "      <td>1.414214</td>\n",
       "      <td>5.000000</td>\n",
       "      <td>2.645751</td>\n",
       "      <td>3.464102</td>\n",
       "      <td>...</td>\n",
       "      <td>2.645751</td>\n",
       "      <td>2.000000</td>\n",
       "      <td>1.000000</td>\n",
       "      <td>1.000000</td>\n",
       "      <td>2.000000</td>\n",
       "      <td>2.236068</td>\n",
       "      <td>1.000000</td>\n",
       "      <td>1.000000</td>\n",
       "      <td>2.828427</td>\n",
       "      <td>1.000000</td>\n",
       "    </tr>\n",
       "    <tr>\n",
       "      <th>2</th>\n",
       "      <td>1.732051</td>\n",
       "      <td>3.464102</td>\n",
       "      <td>3.872983</td>\n",
       "      <td>0.000000</td>\n",
       "      <td>3.741657</td>\n",
       "      <td>1.732051</td>\n",
       "      <td>2.236068</td>\n",
       "      <td>5.099020</td>\n",
       "      <td>2.645751</td>\n",
       "      <td>3.464102</td>\n",
       "      <td>...</td>\n",
       "      <td>3.605551</td>\n",
       "      <td>2.000000</td>\n",
       "      <td>1.000000</td>\n",
       "      <td>1.000000</td>\n",
       "      <td>2.236068</td>\n",
       "      <td>2.449490</td>\n",
       "      <td>1.000000</td>\n",
       "      <td>1.000000</td>\n",
       "      <td>2.828427</td>\n",
       "      <td>1.414214</td>\n",
       "    </tr>\n",
       "    <tr>\n",
       "      <th>3</th>\n",
       "      <td>1.732051</td>\n",
       "      <td>3.464102</td>\n",
       "      <td>4.242640</td>\n",
       "      <td>1.000000</td>\n",
       "      <td>4.358899</td>\n",
       "      <td>2.236068</td>\n",
       "      <td>2.645751</td>\n",
       "      <td>5.099020</td>\n",
       "      <td>2.645751</td>\n",
       "      <td>3.464102</td>\n",
       "      <td>...</td>\n",
       "      <td>3.605551</td>\n",
       "      <td>2.236068</td>\n",
       "      <td>1.000000</td>\n",
       "      <td>1.000000</td>\n",
       "      <td>2.449490</td>\n",
       "      <td>2.449490</td>\n",
       "      <td>1.414214</td>\n",
       "      <td>1.414214</td>\n",
       "      <td>3.162278</td>\n",
       "      <td>1.414214</td>\n",
       "    </tr>\n",
       "    <tr>\n",
       "      <th>4</th>\n",
       "      <td>1.732051</td>\n",
       "      <td>3.605551</td>\n",
       "      <td>4.358899</td>\n",
       "      <td>1.732051</td>\n",
       "      <td>4.582576</td>\n",
       "      <td>2.236068</td>\n",
       "      <td>2.645751</td>\n",
       "      <td>5.196152</td>\n",
       "      <td>2.828427</td>\n",
       "      <td>4.000000</td>\n",
       "      <td>...</td>\n",
       "      <td>3.741657</td>\n",
       "      <td>2.449490</td>\n",
       "      <td>1.000000</td>\n",
       "      <td>1.000000</td>\n",
       "      <td>2.449490</td>\n",
       "      <td>2.645751</td>\n",
       "      <td>1.414214</td>\n",
       "      <td>1.414214</td>\n",
       "      <td>3.316625</td>\n",
       "      <td>1.414214</td>\n",
       "    </tr>\n",
       "    <tr>\n",
       "      <th>...</th>\n",
       "      <td>...</td>\n",
       "      <td>...</td>\n",
       "      <td>...</td>\n",
       "      <td>...</td>\n",
       "      <td>...</td>\n",
       "      <td>...</td>\n",
       "      <td>...</td>\n",
       "      <td>...</td>\n",
       "      <td>...</td>\n",
       "      <td>...</td>\n",
       "      <td>...</td>\n",
       "      <td>...</td>\n",
       "      <td>...</td>\n",
       "      <td>...</td>\n",
       "      <td>...</td>\n",
       "      <td>...</td>\n",
       "      <td>...</td>\n",
       "      <td>...</td>\n",
       "      <td>...</td>\n",
       "      <td>...</td>\n",
       "      <td>...</td>\n",
       "    </tr>\n",
       "    <tr>\n",
       "      <th>1395</th>\n",
       "      <td>8.944272</td>\n",
       "      <td>9.110434</td>\n",
       "      <td>8.774964</td>\n",
       "      <td>8.660254</td>\n",
       "      <td>8.602325</td>\n",
       "      <td>9.486833</td>\n",
       "      <td>8.660254</td>\n",
       "      <td>8.774964</td>\n",
       "      <td>9.899495</td>\n",
       "      <td>9.539392</td>\n",
       "      <td>...</td>\n",
       "      <td>9.539392</td>\n",
       "      <td>9.327379</td>\n",
       "      <td>9.433981</td>\n",
       "      <td>9.380832</td>\n",
       "      <td>9.591663</td>\n",
       "      <td>9.486833</td>\n",
       "      <td>9.380832</td>\n",
       "      <td>9.327379</td>\n",
       "      <td>8.717798</td>\n",
       "      <td>9.273619</td>\n",
       "    </tr>\n",
       "    <tr>\n",
       "      <th>1396</th>\n",
       "      <td>9.000000</td>\n",
       "      <td>9.110434</td>\n",
       "      <td>8.774964</td>\n",
       "      <td>8.717798</td>\n",
       "      <td>8.660254</td>\n",
       "      <td>9.486833</td>\n",
       "      <td>8.660254</td>\n",
       "      <td>8.831760</td>\n",
       "      <td>9.949874</td>\n",
       "      <td>9.539392</td>\n",
       "      <td>...</td>\n",
       "      <td>9.539392</td>\n",
       "      <td>9.327379</td>\n",
       "      <td>9.433981</td>\n",
       "      <td>9.380832</td>\n",
       "      <td>9.591663</td>\n",
       "      <td>9.486833</td>\n",
       "      <td>9.433981</td>\n",
       "      <td>9.327379</td>\n",
       "      <td>8.774964</td>\n",
       "      <td>9.327379</td>\n",
       "    </tr>\n",
       "    <tr>\n",
       "      <th>1397</th>\n",
       "      <td>9.055386</td>\n",
       "      <td>9.165152</td>\n",
       "      <td>8.888194</td>\n",
       "      <td>8.717798</td>\n",
       "      <td>8.660254</td>\n",
       "      <td>9.539392</td>\n",
       "      <td>8.660254</td>\n",
       "      <td>8.831760</td>\n",
       "      <td>10.049875</td>\n",
       "      <td>9.539392</td>\n",
       "      <td>...</td>\n",
       "      <td>9.695360</td>\n",
       "      <td>9.327379</td>\n",
       "      <td>9.433981</td>\n",
       "      <td>9.433981</td>\n",
       "      <td>9.591663</td>\n",
       "      <td>9.486833</td>\n",
       "      <td>9.433981</td>\n",
       "      <td>9.380832</td>\n",
       "      <td>8.831760</td>\n",
       "      <td>9.327379</td>\n",
       "    </tr>\n",
       "    <tr>\n",
       "      <th>1398</th>\n",
       "      <td>9.055386</td>\n",
       "      <td>9.165152</td>\n",
       "      <td>9.055386</td>\n",
       "      <td>8.774964</td>\n",
       "      <td>8.660254</td>\n",
       "      <td>9.539392</td>\n",
       "      <td>8.717798</td>\n",
       "      <td>8.888194</td>\n",
       "      <td>10.049875</td>\n",
       "      <td>9.539392</td>\n",
       "      <td>...</td>\n",
       "      <td>9.695360</td>\n",
       "      <td>9.380832</td>\n",
       "      <td>9.433981</td>\n",
       "      <td>9.433981</td>\n",
       "      <td>9.591663</td>\n",
       "      <td>9.539392</td>\n",
       "      <td>9.433981</td>\n",
       "      <td>9.380832</td>\n",
       "      <td>8.888194</td>\n",
       "      <td>9.327379</td>\n",
       "    </tr>\n",
       "    <tr>\n",
       "      <th>1399</th>\n",
       "      <td>9.110434</td>\n",
       "      <td>9.165152</td>\n",
       "      <td>9.055386</td>\n",
       "      <td>8.888194</td>\n",
       "      <td>9.000000</td>\n",
       "      <td>10.049875</td>\n",
       "      <td>8.717798</td>\n",
       "      <td>8.888194</td>\n",
       "      <td>10.148891</td>\n",
       "      <td>9.643651</td>\n",
       "      <td>...</td>\n",
       "      <td>9.695360</td>\n",
       "      <td>9.591663</td>\n",
       "      <td>9.486833</td>\n",
       "      <td>9.486833</td>\n",
       "      <td>9.695360</td>\n",
       "      <td>9.539392</td>\n",
       "      <td>9.486833</td>\n",
       "      <td>9.486833</td>\n",
       "      <td>8.888194</td>\n",
       "      <td>9.380832</td>\n",
       "    </tr>\n",
       "  </tbody>\n",
       "</table>\n",
       "<p>1400 rows × 1400 columns</p>\n",
       "</div>"
      ],
      "text/plain": [
       "          0         1         2         3         4          5         6     \\\n",
       "0     0.000000  0.000000  0.000000  0.000000  0.000000   0.000000  0.000000   \n",
       "1     1.414214  2.645751  2.000000  0.000000  1.414214   1.414214  1.414214   \n",
       "2     1.732051  3.464102  3.872983  0.000000  3.741657   1.732051  2.236068   \n",
       "3     1.732051  3.464102  4.242640  1.000000  4.358899   2.236068  2.645751   \n",
       "4     1.732051  3.605551  4.358899  1.732051  4.582576   2.236068  2.645751   \n",
       "...        ...       ...       ...       ...       ...        ...       ...   \n",
       "1395  8.944272  9.110434  8.774964  8.660254  8.602325   9.486833  8.660254   \n",
       "1396  9.000000  9.110434  8.774964  8.717798  8.660254   9.486833  8.660254   \n",
       "1397  9.055386  9.165152  8.888194  8.717798  8.660254   9.539392  8.660254   \n",
       "1398  9.055386  9.165152  9.055386  8.774964  8.660254   9.539392  8.717798   \n",
       "1399  9.110434  9.165152  9.055386  8.888194  9.000000  10.049875  8.717798   \n",
       "\n",
       "          7          8         9     ...      1390      1391      1392  \\\n",
       "0     0.000000   0.000000  0.000000  ...  0.000000  0.000000  0.000000   \n",
       "1     5.000000   2.645751  3.464102  ...  2.645751  2.000000  1.000000   \n",
       "2     5.099020   2.645751  3.464102  ...  3.605551  2.000000  1.000000   \n",
       "3     5.099020   2.645751  3.464102  ...  3.605551  2.236068  1.000000   \n",
       "4     5.196152   2.828427  4.000000  ...  3.741657  2.449490  1.000000   \n",
       "...        ...        ...       ...  ...       ...       ...       ...   \n",
       "1395  8.774964   9.899495  9.539392  ...  9.539392  9.327379  9.433981   \n",
       "1396  8.831760   9.949874  9.539392  ...  9.539392  9.327379  9.433981   \n",
       "1397  8.831760  10.049875  9.539392  ...  9.695360  9.327379  9.433981   \n",
       "1398  8.888194  10.049875  9.539392  ...  9.695360  9.380832  9.433981   \n",
       "1399  8.888194  10.148891  9.643651  ...  9.695360  9.591663  9.486833   \n",
       "\n",
       "          1393      1394      1395      1396      1397      1398      1399  \n",
       "0     0.000000  0.000000  0.000000  0.000000  0.000000  0.000000  0.000000  \n",
       "1     1.000000  2.000000  2.236068  1.000000  1.000000  2.828427  1.000000  \n",
       "2     1.000000  2.236068  2.449490  1.000000  1.000000  2.828427  1.414214  \n",
       "3     1.000000  2.449490  2.449490  1.414214  1.414214  3.162278  1.414214  \n",
       "4     1.000000  2.449490  2.645751  1.414214  1.414214  3.316625  1.414214  \n",
       "...        ...       ...       ...       ...       ...       ...       ...  \n",
       "1395  9.380832  9.591663  9.486833  9.380832  9.327379  8.717798  9.273619  \n",
       "1396  9.380832  9.591663  9.486833  9.433981  9.327379  8.774964  9.327379  \n",
       "1397  9.433981  9.591663  9.486833  9.433981  9.380832  8.831760  9.327379  \n",
       "1398  9.433981  9.591663  9.539392  9.433981  9.380832  8.888194  9.327379  \n",
       "1399  9.486833  9.695360  9.539392  9.486833  9.486833  8.888194  9.380832  \n",
       "\n",
       "[1400 rows x 1400 columns]"
      ]
     },
     "execution_count": 104,
     "metadata": {},
     "output_type": "execute_result"
    }
   ],
   "source": [
    "df_tr=pd.DataFrame(neighbors_k)\n",
    "df_tr"
   ]
  },
  {
   "cell_type": "code",
   "execution_count": 105,
   "metadata": {},
   "outputs": [],
   "source": [
    "similarity= neighbors_k"
   ]
  },
  {
   "cell_type": "code",
   "execution_count": 106,
   "metadata": {},
   "outputs": [],
   "source": [
    "Dmean=np.mean(similarity[1,:])"
   ]
  },
  {
   "cell_type": "code",
   "execution_count": 107,
   "metadata": {},
   "outputs": [
    {
     "data": {
      "text/plain": [
       "1.74"
      ]
     },
     "execution_count": 107,
     "metadata": {},
     "output_type": "execute_result"
    }
   ],
   "source": [
    "round(Dmean, 2)"
   ]
  },
  {
   "cell_type": "code",
   "execution_count": 108,
   "metadata": {},
   "outputs": [],
   "source": [
    "std=np.std(similarity[1,:])"
   ]
  },
  {
   "cell_type": "code",
   "execution_count": 109,
   "metadata": {},
   "outputs": [
    {
     "data": {
      "text/plain": [
       "1.2"
      ]
     },
     "execution_count": 109,
     "metadata": {},
     "output_type": "execute_result"
    }
   ],
   "source": [
    "round(std, 2)"
   ]
  },
  {
   "cell_type": "code",
   "execution_count": 110,
   "metadata": {},
   "outputs": [
    {
     "name": "stdout",
     "output_type": "stream",
     "text": [
      "2.34\n"
     ]
    }
   ],
   "source": [
    "model_AD_limit=Dmean+std*0.5\n",
    "print(np.round(model_AD_limit, 2))"
   ]
  },
  {
   "cell_type": "code",
   "execution_count": 111,
   "metadata": {},
   "outputs": [],
   "source": [
    "x_ts=desc_ts[feature_name_rfecv]"
   ]
  },
  {
   "cell_type": "code",
   "execution_count": 112,
   "metadata": {},
   "outputs": [],
   "source": [
    "neighbors_k_ts= pairwise_distances(X_rfe,Y=x_ts, n_jobs=-1)\n",
    "neighbors_k_ts.sort(0)"
   ]
  },
  {
   "cell_type": "code",
   "execution_count": 113,
   "metadata": {},
   "outputs": [
    {
     "data": {
      "text/html": [
       "<div>\n",
       "<style scoped>\n",
       "    .dataframe tbody tr th:only-of-type {\n",
       "        vertical-align: middle;\n",
       "    }\n",
       "\n",
       "    .dataframe tbody tr th {\n",
       "        vertical-align: top;\n",
       "    }\n",
       "\n",
       "    .dataframe thead th {\n",
       "        text-align: right;\n",
       "    }\n",
       "</style>\n",
       "<table border=\"1\" class=\"dataframe\">\n",
       "  <thead>\n",
       "    <tr style=\"text-align: right;\">\n",
       "      <th></th>\n",
       "      <th>0</th>\n",
       "      <th>1</th>\n",
       "      <th>2</th>\n",
       "      <th>3</th>\n",
       "      <th>4</th>\n",
       "      <th>5</th>\n",
       "      <th>6</th>\n",
       "      <th>7</th>\n",
       "      <th>8</th>\n",
       "      <th>9</th>\n",
       "      <th>...</th>\n",
       "      <th>341</th>\n",
       "      <th>342</th>\n",
       "      <th>343</th>\n",
       "      <th>344</th>\n",
       "      <th>345</th>\n",
       "      <th>346</th>\n",
       "      <th>347</th>\n",
       "      <th>348</th>\n",
       "      <th>349</th>\n",
       "      <th>350</th>\n",
       "    </tr>\n",
       "  </thead>\n",
       "  <tbody>\n",
       "    <tr>\n",
       "      <th>0</th>\n",
       "      <td>0.000000</td>\n",
       "      <td>2.449490</td>\n",
       "      <td>4.472136</td>\n",
       "      <td>1.732051</td>\n",
       "      <td>1.732051</td>\n",
       "      <td>2.000000</td>\n",
       "      <td>1.732051</td>\n",
       "      <td>2.236068</td>\n",
       "      <td>2.828427</td>\n",
       "      <td>2.000000</td>\n",
       "      <td>...</td>\n",
       "      <td>0.000000</td>\n",
       "      <td>1.414214</td>\n",
       "      <td>1.000000</td>\n",
       "      <td>0.000000</td>\n",
       "      <td>2.828427</td>\n",
       "      <td>1.000000</td>\n",
       "      <td>1.000000</td>\n",
       "      <td>1.732051</td>\n",
       "      <td>2.449490</td>\n",
       "      <td>2.645751</td>\n",
       "    </tr>\n",
       "    <tr>\n",
       "      <th>1</th>\n",
       "      <td>2.645751</td>\n",
       "      <td>3.464102</td>\n",
       "      <td>4.690416</td>\n",
       "      <td>3.316625</td>\n",
       "      <td>2.645751</td>\n",
       "      <td>2.645751</td>\n",
       "      <td>2.645751</td>\n",
       "      <td>2.449490</td>\n",
       "      <td>3.316625</td>\n",
       "      <td>2.645751</td>\n",
       "      <td>...</td>\n",
       "      <td>1.000000</td>\n",
       "      <td>2.000000</td>\n",
       "      <td>1.414214</td>\n",
       "      <td>1.414214</td>\n",
       "      <td>3.000000</td>\n",
       "      <td>1.414214</td>\n",
       "      <td>1.000000</td>\n",
       "      <td>1.732051</td>\n",
       "      <td>2.449490</td>\n",
       "      <td>2.828427</td>\n",
       "    </tr>\n",
       "    <tr>\n",
       "      <th>2</th>\n",
       "      <td>3.000000</td>\n",
       "      <td>3.605551</td>\n",
       "      <td>4.898979</td>\n",
       "      <td>3.464102</td>\n",
       "      <td>3.000000</td>\n",
       "      <td>2.828427</td>\n",
       "      <td>2.828427</td>\n",
       "      <td>2.449490</td>\n",
       "      <td>4.358899</td>\n",
       "      <td>3.162278</td>\n",
       "      <td>...</td>\n",
       "      <td>1.414214</td>\n",
       "      <td>2.236068</td>\n",
       "      <td>1.732051</td>\n",
       "      <td>1.732051</td>\n",
       "      <td>3.000000</td>\n",
       "      <td>1.414214</td>\n",
       "      <td>1.000000</td>\n",
       "      <td>1.732051</td>\n",
       "      <td>2.449490</td>\n",
       "      <td>3.000000</td>\n",
       "    </tr>\n",
       "    <tr>\n",
       "      <th>3</th>\n",
       "      <td>3.000000</td>\n",
       "      <td>3.605551</td>\n",
       "      <td>4.898979</td>\n",
       "      <td>3.605551</td>\n",
       "      <td>3.316625</td>\n",
       "      <td>3.605551</td>\n",
       "      <td>2.828427</td>\n",
       "      <td>3.741657</td>\n",
       "      <td>4.690416</td>\n",
       "      <td>3.162278</td>\n",
       "      <td>...</td>\n",
       "      <td>1.414214</td>\n",
       "      <td>2.449490</td>\n",
       "      <td>1.732051</td>\n",
       "      <td>1.732051</td>\n",
       "      <td>3.162278</td>\n",
       "      <td>1.732051</td>\n",
       "      <td>1.414214</td>\n",
       "      <td>2.000000</td>\n",
       "      <td>2.645751</td>\n",
       "      <td>3.000000</td>\n",
       "    </tr>\n",
       "    <tr>\n",
       "      <th>4</th>\n",
       "      <td>3.162278</td>\n",
       "      <td>3.741657</td>\n",
       "      <td>5.000000</td>\n",
       "      <td>4.795832</td>\n",
       "      <td>4.000000</td>\n",
       "      <td>3.741657</td>\n",
       "      <td>2.828427</td>\n",
       "      <td>4.123106</td>\n",
       "      <td>4.898979</td>\n",
       "      <td>3.605551</td>\n",
       "      <td>...</td>\n",
       "      <td>1.414214</td>\n",
       "      <td>2.449490</td>\n",
       "      <td>1.732051</td>\n",
       "      <td>1.732051</td>\n",
       "      <td>3.162278</td>\n",
       "      <td>1.732051</td>\n",
       "      <td>1.414214</td>\n",
       "      <td>2.000000</td>\n",
       "      <td>2.645751</td>\n",
       "      <td>3.162278</td>\n",
       "    </tr>\n",
       "    <tr>\n",
       "      <th>...</th>\n",
       "      <td>...</td>\n",
       "      <td>...</td>\n",
       "      <td>...</td>\n",
       "      <td>...</td>\n",
       "      <td>...</td>\n",
       "      <td>...</td>\n",
       "      <td>...</td>\n",
       "      <td>...</td>\n",
       "      <td>...</td>\n",
       "      <td>...</td>\n",
       "      <td>...</td>\n",
       "      <td>...</td>\n",
       "      <td>...</td>\n",
       "      <td>...</td>\n",
       "      <td>...</td>\n",
       "      <td>...</td>\n",
       "      <td>...</td>\n",
       "      <td>...</td>\n",
       "      <td>...</td>\n",
       "      <td>...</td>\n",
       "      <td>...</td>\n",
       "    </tr>\n",
       "    <tr>\n",
       "      <th>1395</th>\n",
       "      <td>9.055385</td>\n",
       "      <td>9.433981</td>\n",
       "      <td>8.660254</td>\n",
       "      <td>9.695360</td>\n",
       "      <td>9.055385</td>\n",
       "      <td>9.110434</td>\n",
       "      <td>9.949874</td>\n",
       "      <td>9.110434</td>\n",
       "      <td>9.380832</td>\n",
       "      <td>9.219544</td>\n",
       "      <td>...</td>\n",
       "      <td>9.273618</td>\n",
       "      <td>9.433981</td>\n",
       "      <td>9.273618</td>\n",
       "      <td>9.433981</td>\n",
       "      <td>9.539392</td>\n",
       "      <td>9.327379</td>\n",
       "      <td>9.380832</td>\n",
       "      <td>9.486833</td>\n",
       "      <td>9.591663</td>\n",
       "      <td>9.695360</td>\n",
       "    </tr>\n",
       "    <tr>\n",
       "      <th>1396</th>\n",
       "      <td>9.110434</td>\n",
       "      <td>9.486833</td>\n",
       "      <td>8.660254</td>\n",
       "      <td>9.797959</td>\n",
       "      <td>9.055385</td>\n",
       "      <td>9.110434</td>\n",
       "      <td>10.000000</td>\n",
       "      <td>9.165151</td>\n",
       "      <td>9.380832</td>\n",
       "      <td>9.219544</td>\n",
       "      <td>...</td>\n",
       "      <td>9.327379</td>\n",
       "      <td>9.433981</td>\n",
       "      <td>9.273618</td>\n",
       "      <td>9.433981</td>\n",
       "      <td>9.591663</td>\n",
       "      <td>9.327379</td>\n",
       "      <td>9.380832</td>\n",
       "      <td>9.486833</td>\n",
       "      <td>9.591663</td>\n",
       "      <td>9.695360</td>\n",
       "    </tr>\n",
       "    <tr>\n",
       "      <th>1397</th>\n",
       "      <td>9.110434</td>\n",
       "      <td>9.591663</td>\n",
       "      <td>8.717798</td>\n",
       "      <td>9.848858</td>\n",
       "      <td>9.055385</td>\n",
       "      <td>9.165151</td>\n",
       "      <td>10.099505</td>\n",
       "      <td>9.165151</td>\n",
       "      <td>9.433981</td>\n",
       "      <td>9.380832</td>\n",
       "      <td>...</td>\n",
       "      <td>9.433981</td>\n",
       "      <td>9.433981</td>\n",
       "      <td>9.380832</td>\n",
       "      <td>9.433981</td>\n",
       "      <td>9.591663</td>\n",
       "      <td>9.327379</td>\n",
       "      <td>9.380832</td>\n",
       "      <td>9.486833</td>\n",
       "      <td>9.695360</td>\n",
       "      <td>9.695360</td>\n",
       "    </tr>\n",
       "    <tr>\n",
       "      <th>1398</th>\n",
       "      <td>9.110434</td>\n",
       "      <td>9.591663</td>\n",
       "      <td>8.774964</td>\n",
       "      <td>9.848858</td>\n",
       "      <td>9.055385</td>\n",
       "      <td>9.165151</td>\n",
       "      <td>10.099505</td>\n",
       "      <td>9.219544</td>\n",
       "      <td>9.433981</td>\n",
       "      <td>9.380832</td>\n",
       "      <td>...</td>\n",
       "      <td>9.433981</td>\n",
       "      <td>9.486833</td>\n",
       "      <td>9.433981</td>\n",
       "      <td>9.433981</td>\n",
       "      <td>9.591663</td>\n",
       "      <td>9.327379</td>\n",
       "      <td>9.380832</td>\n",
       "      <td>9.539392</td>\n",
       "      <td>9.695360</td>\n",
       "      <td>9.797959</td>\n",
       "    </tr>\n",
       "    <tr>\n",
       "      <th>1399</th>\n",
       "      <td>9.273618</td>\n",
       "      <td>9.695360</td>\n",
       "      <td>8.831761</td>\n",
       "      <td>10.049876</td>\n",
       "      <td>9.165151</td>\n",
       "      <td>9.848858</td>\n",
       "      <td>10.198039</td>\n",
       "      <td>9.949874</td>\n",
       "      <td>9.486833</td>\n",
       "      <td>10.049876</td>\n",
       "      <td>...</td>\n",
       "      <td>9.486833</td>\n",
       "      <td>9.695360</td>\n",
       "      <td>9.486833</td>\n",
       "      <td>9.486833</td>\n",
       "      <td>9.591663</td>\n",
       "      <td>9.486833</td>\n",
       "      <td>9.433981</td>\n",
       "      <td>9.591663</td>\n",
       "      <td>9.695360</td>\n",
       "      <td>9.797959</td>\n",
       "    </tr>\n",
       "  </tbody>\n",
       "</table>\n",
       "<p>1400 rows × 351 columns</p>\n",
       "</div>"
      ],
      "text/plain": [
       "           0         1         2          3         4         5          6    \\\n",
       "0     0.000000  2.449490  4.472136   1.732051  1.732051  2.000000   1.732051   \n",
       "1     2.645751  3.464102  4.690416   3.316625  2.645751  2.645751   2.645751   \n",
       "2     3.000000  3.605551  4.898979   3.464102  3.000000  2.828427   2.828427   \n",
       "3     3.000000  3.605551  4.898979   3.605551  3.316625  3.605551   2.828427   \n",
       "4     3.162278  3.741657  5.000000   4.795832  4.000000  3.741657   2.828427   \n",
       "...        ...       ...       ...        ...       ...       ...        ...   \n",
       "1395  9.055385  9.433981  8.660254   9.695360  9.055385  9.110434   9.949874   \n",
       "1396  9.110434  9.486833  8.660254   9.797959  9.055385  9.110434  10.000000   \n",
       "1397  9.110434  9.591663  8.717798   9.848858  9.055385  9.165151  10.099505   \n",
       "1398  9.110434  9.591663  8.774964   9.848858  9.055385  9.165151  10.099505   \n",
       "1399  9.273618  9.695360  8.831761  10.049876  9.165151  9.848858  10.198039   \n",
       "\n",
       "           7         8          9    ...       341       342       343  \\\n",
       "0     2.236068  2.828427   2.000000  ...  0.000000  1.414214  1.000000   \n",
       "1     2.449490  3.316625   2.645751  ...  1.000000  2.000000  1.414214   \n",
       "2     2.449490  4.358899   3.162278  ...  1.414214  2.236068  1.732051   \n",
       "3     3.741657  4.690416   3.162278  ...  1.414214  2.449490  1.732051   \n",
       "4     4.123106  4.898979   3.605551  ...  1.414214  2.449490  1.732051   \n",
       "...        ...       ...        ...  ...       ...       ...       ...   \n",
       "1395  9.110434  9.380832   9.219544  ...  9.273618  9.433981  9.273618   \n",
       "1396  9.165151  9.380832   9.219544  ...  9.327379  9.433981  9.273618   \n",
       "1397  9.165151  9.433981   9.380832  ...  9.433981  9.433981  9.380832   \n",
       "1398  9.219544  9.433981   9.380832  ...  9.433981  9.486833  9.433981   \n",
       "1399  9.949874  9.486833  10.049876  ...  9.486833  9.695360  9.486833   \n",
       "\n",
       "           344       345       346       347       348       349       350  \n",
       "0     0.000000  2.828427  1.000000  1.000000  1.732051  2.449490  2.645751  \n",
       "1     1.414214  3.000000  1.414214  1.000000  1.732051  2.449490  2.828427  \n",
       "2     1.732051  3.000000  1.414214  1.000000  1.732051  2.449490  3.000000  \n",
       "3     1.732051  3.162278  1.732051  1.414214  2.000000  2.645751  3.000000  \n",
       "4     1.732051  3.162278  1.732051  1.414214  2.000000  2.645751  3.162278  \n",
       "...        ...       ...       ...       ...       ...       ...       ...  \n",
       "1395  9.433981  9.539392  9.327379  9.380832  9.486833  9.591663  9.695360  \n",
       "1396  9.433981  9.591663  9.327379  9.380832  9.486833  9.591663  9.695360  \n",
       "1397  9.433981  9.591663  9.327379  9.380832  9.486833  9.695360  9.695360  \n",
       "1398  9.433981  9.591663  9.327379  9.380832  9.539392  9.695360  9.797959  \n",
       "1399  9.486833  9.591663  9.486833  9.433981  9.591663  9.695360  9.797959  \n",
       "\n",
       "[1400 rows x 351 columns]"
      ]
     },
     "execution_count": 113,
     "metadata": {},
     "output_type": "execute_result"
    }
   ],
   "source": [
    "x_ts_AD=pd.DataFrame(neighbors_k_ts)\n",
    "x_ts_AD"
   ]
  },
  {
   "cell_type": "code",
   "execution_count": 114,
   "metadata": {},
   "outputs": [
    {
     "name": "stdout",
     "output_type": "stream",
     "text": [
      "[0.    2.449 4.472 1.732 1.732 2.    1.732 2.236 2.828 2.    3.873 2.\n",
      " 1.    2.    2.    1.414 1.    2.449 3.873 1.414 1.414 2.646 4.69  1.\n",
      " 1.732 1.732 2.646 2.236 1.414 1.    4.69  0.    3.    1.414 1.    1.414\n",
      " 1.732 1.414 1.414 1.414 1.414 5.292 2.828 1.    1.414 1.    3.742 2.646\n",
      " 1.732 1.732 2.    3.    2.    1.414 1.732 3.742 1.414 1.414 1.    2.\n",
      " 0.    3.317 1.732 3.606 2.828 1.414 3.873 0.    2.    4.    3.317 1.732\n",
      " 0.    1.    1.414 1.732 1.414 2.236 2.828 2.449 0.    1.    2.    1.414\n",
      " 1.    1.    0.    1.732 0.    5.    2.236 5.    1.414 2.    1.732 2.828\n",
      " 1.414 2.449 0.    1.732 5.196 1.    0.    1.    2.    1.414 4.243 1.414\n",
      " 1.732 1.    1.    2.236 1.732 1.    1.732 2.449 1.732 2.    2.236 0.\n",
      " 2.646 3.    2.449 2.    2.449 2.646 1.732 1.414 1.    3.464 2.236 2.828\n",
      " 1.    2.646 1.    1.732 1.414 1.732 2.236 2.    3.873 1.    2.    1.\n",
      " 1.414 2.236 1.414 1.414 0.    3.742 1.732 1.    1.732 1.414 2.449 2.646\n",
      " 1.414 1.732 1.    1.414 1.    0.    1.732 1.414 1.732 0.    1.    0.\n",
      " 0.    2.    1.732 0.    0.    0.    2.236 2.236 3.162 2.646 2.    1.732\n",
      " 1.732 2.828 4.796 1.414 1.    1.    2.236 1.    1.414 2.    1.732 1.\n",
      " 1.    1.414 1.414 0.    2.646 1.414 2.    1.    3.317 1.    0.    0.\n",
      " 1.732 2.646 2.236 2.449 2.646 2.646 1.732 1.414 2.    1.    1.414 2.236\n",
      " 1.414 1.414 1.414 2.449 1.732 0.    1.414 0.    2.    2.    1.414 1.732\n",
      " 0.    3.317 1.414 4.    2.    1.414 1.732 2.236 2.646 0.    1.    2.\n",
      " 1.414 3.742 1.414 2.449 1.414 3.    0.    1.732 1.    2.236 1.732 1.732\n",
      " 1.    3.    0.    1.    1.    1.    0.    0.    2.    2.    5.657 0.\n",
      " 0.    1.732 0.    2.236 1.    0.    0.    2.449 2.646 4.796 1.732 0.\n",
      " 3.742 0.    2.449 3.162 1.    1.414 2.    2.    1.414 2.449 1.414 1.\n",
      " 3.464 0.    2.449 1.732 1.    2.828 2.828 1.    2.    0.    1.414 1.414\n",
      " 2.646 2.236 3.464 0.    1.414 2.236 1.414 0.    1.732 2.646 2.    2.\n",
      " 0.    1.414 2.236 2.449 2.    1.    4.123 0.    1.414 0.    4.    1.414\n",
      " 3.    0.    1.    2.    1.    2.449 1.414 0.    0.    1.    1.732 1.732\n",
      " 2.236 1.    1.414 0.    2.    0.    1.414 1.    0.    2.828 1.    1.\n",
      " 1.732 2.449 2.646]\n"
     ]
    }
   ],
   "source": [
    "similarity_ts= neighbors_k_ts\n",
    "cpd_AD=similarity_ts[0,:]\n",
    "cpd_value = np.round(cpd_AD, 3)\n",
    "print(cpd_value)"
   ]
  },
  {
   "cell_type": "code",
   "execution_count": 115,
   "metadata": {},
   "outputs": [
    {
     "name": "stdout",
     "output_type": "stream",
     "text": [
      "[ True False False  True  True  True  True  True False  True False  True\n",
      "  True  True  True  True  True False False  True  True False False  True\n",
      "  True  True False  True  True  True False  True False  True  True  True\n",
      "  True  True  True  True  True False False  True  True  True False False\n",
      "  True  True  True False  True  True  True False  True  True  True  True\n",
      "  True False  True False False  True False  True  True False False  True\n",
      "  True  True  True  True  True  True False False  True  True  True  True\n",
      "  True  True  True  True  True False  True False  True  True  True False\n",
      "  True False  True  True False  True  True  True  True  True False  True\n",
      "  True  True  True  True  True  True  True False  True  True  True  True\n",
      " False False False  True False False  True  True  True False  True False\n",
      "  True False  True  True  True  True  True  True False  True  True  True\n",
      "  True  True  True  True  True False  True  True  True  True False False\n",
      "  True  True  True  True  True  True  True  True  True  True  True  True\n",
      "  True  True  True  True  True  True  True  True False False  True  True\n",
      "  True False False  True  True  True  True  True  True  True  True  True\n",
      "  True  True  True  True False  True  True  True False  True  True  True\n",
      "  True False  True False False False  True  True  True  True  True  True\n",
      "  True  True  True False  True  True  True  True  True  True  True  True\n",
      "  True False  True False  True  True  True  True False  True  True  True\n",
      "  True False  True False  True False  True  True  True  True  True  True\n",
      "  True False  True  True  True  True  True  True  True  True False  True\n",
      "  True  True  True  True  True  True  True False False False  True  True\n",
      " False  True False False  True  True  True  True  True False  True  True\n",
      " False  True False  True  True False False  True  True  True  True  True\n",
      " False  True False  True  True  True  True  True  True False  True  True\n",
      "  True  True  True False  True  True False  True  True  True False  True\n",
      " False  True  True  True  True False  True  True  True  True  True  True\n",
      "  True  True  True  True  True  True  True  True  True False  True  True\n",
      "  True False False]\n"
     ]
    }
   ],
   "source": [
    "cpd_AD = np.where(cpd_value <= model_AD_limit, True, False)\n",
    "print(cpd_AD)"
   ]
  },
  {
   "cell_type": "code",
   "execution_count": 116,
   "metadata": {},
   "outputs": [
    {
     "name": "stdout",
     "output_type": "stream",
     "text": [
      "Coverage =  0.76\n"
     ]
    }
   ],
   "source": [
    "print(\"Coverage = \", round(sum(cpd_AD) / len(cpd_AD), 2))"
   ]
  },
  {
   "cell_type": "code",
   "execution_count": 117,
   "metadata": {},
   "outputs": [
    {
     "name": "stdout",
     "output_type": "stream",
     "text": [
      "Indices of substances included in AD =  [  0   3   4   5   6   7   9  11  12  13  14  15  16  19  20  23  24  25\n",
      "  27  28  29  31  33  34  35  36  37  38  39  40  43  44  45  48  49  50\n",
      "  52  53  54  56  57  58  59  60  62  65  67  68  71  72  73  74  75  76\n",
      "  77  80  81  82  83  84  85  86  87  88  90  92  93  94  96  98  99 101\n",
      " 102 103 104 105 107 108 109 110 111 112 113 114 116 117 118 119 123 126\n",
      " 127 128 130 132 134 135 136 137 138 139 141 142 143 144 145 146 147 148\n",
      " 150 151 152 153 156 157 158 159 160 161 162 163 164 165 166 167 168 169\n",
      " 170 171 172 173 174 175 178 179 180 183 184 185 186 187 188 189 190 191\n",
      " 192 193 194 195 197 198 199 201 202 203 204 206 210 211 212 213 214 215\n",
      " 216 217 218 220 221 222 223 224 225 226 227 228 230 232 233 234 235 237\n",
      " 238 239 240 242 244 246 247 248 249 250 251 252 254 255 256 257 258 259\n",
      " 260 261 263 264 265 266 267 268 269 270 274 275 277 280 281 282 283 284\n",
      " 286 287 289 291 292 295 296 297 298 299 301 303 304 305 306 307 308 310\n",
      " 311 312 313 314 316 317 319 320 321 323 325 326 327 328 330 331 332 333\n",
      " 334 335 336 337 338 339 340 341 342 343 344 346 347 348]\n"
     ]
    }
   ],
   "source": [
    "print(\"Indices of substances included in AD = \", np.where(cpd_AD != 0)[0])"
   ]
  },
  {
   "cell_type": "code",
   "execution_count": 118,
   "metadata": {},
   "outputs": [],
   "source": [
    "out_Ad=list(np.where(cpd_AD == 0)[0])"
   ]
  },
  {
   "cell_type": "markdown",
   "metadata": {},
   "source": [
    "#  Prediction only for molecules included in  AD"
   ]
  },
  {
   "cell_type": "code",
   "execution_count": 119,
   "metadata": {},
   "outputs": [],
   "source": [
    "y_pred_GBR_ad=list(y_pred_GBR)"
   ]
  },
  {
   "cell_type": "code",
   "execution_count": 120,
   "metadata": {},
   "outputs": [],
   "source": [
    "y_pred_GBR_ad[:] = [x for i,x in enumerate(y_pred_GBR_ad) if i not in out_Ad]"
   ]
  },
  {
   "cell_type": "code",
   "execution_count": 121,
   "metadata": {},
   "outputs": [
    {
     "data": {
      "text/plain": [
       "266"
      ]
     },
     "execution_count": 121,
     "metadata": {},
     "output_type": "execute_result"
    }
   ],
   "source": [
    "len(y_pred_GBR_ad)"
   ]
  },
  {
   "cell_type": "code",
   "execution_count": 122,
   "metadata": {},
   "outputs": [],
   "source": [
    "y_ts_ad=list(y_ts)"
   ]
  },
  {
   "cell_type": "code",
   "execution_count": 123,
   "metadata": {},
   "outputs": [],
   "source": [
    "y_ts_ad[:] = [x for i,x in enumerate(y_ts_ad) if i not in out_Ad]"
   ]
  },
  {
   "cell_type": "code",
   "execution_count": 124,
   "metadata": {},
   "outputs": [
    {
     "data": {
      "text/plain": [
       "266"
      ]
     },
     "execution_count": 124,
     "metadata": {},
     "output_type": "execute_result"
    }
   ],
   "source": [
    "len(y_ts_ad)"
   ]
  },
  {
   "cell_type": "code",
   "execution_count": 125,
   "metadata": {},
   "outputs": [
    {
     "data": {
      "text/plain": [
       "0.76"
      ]
     },
     "execution_count": 125,
     "metadata": {},
     "output_type": "execute_result"
    }
   ],
   "source": [
    "Q2_TS = round(r2_score(y_ts_ad, y_pred_GBR_ad), 2)\n",
    "Q2_TS"
   ]
  },
  {
   "cell_type": "code",
   "execution_count": 126,
   "metadata": {},
   "outputs": [
    {
     "data": {
      "text/plain": [
       "0.6"
      ]
     },
     "execution_count": 126,
     "metadata": {},
     "output_type": "execute_result"
    }
   ],
   "source": [
    "RMSE_TS=round(np.sqrt(mean_squared_error(y_ts_ad, y_pred_GBR_ad)), 2)\n",
    "RMSE_TS"
   ]
  },
  {
   "cell_type": "markdown",
   "metadata": {},
   "source": [
    "# SVM model building and validation"
   ]
  },
  {
   "cell_type": "code",
   "execution_count": 127,
   "metadata": {},
   "outputs": [],
   "source": [
    "from sklearn.svm import SVR"
   ]
  },
  {
   "cell_type": "code",
   "execution_count": 128,
   "metadata": {},
   "outputs": [],
   "source": [
    "param_grid = {\"C\": [10 ** i for i in range(0, 5)],\n",
    "              \"gamma\": [10 ** i for i in range(-6, 0)]}"
   ]
  },
  {
   "cell_type": "code",
   "execution_count": 129,
   "metadata": {},
   "outputs": [],
   "source": [
    "seed = 42\n",
    "cv=KFold(n_splits=5, random_state=seed, shuffle=True)"
   ]
  },
  {
   "cell_type": "code",
   "execution_count": 130,
   "metadata": {},
   "outputs": [],
   "source": [
    "svm = GridSearchCV(SVR(C=1.0, epsilon=0.2), param_grid, n_jobs=-1, cv=cv, verbose=1)"
   ]
  },
  {
   "cell_type": "code",
   "execution_count": 131,
   "metadata": {},
   "outputs": [
    {
     "name": "stdout",
     "output_type": "stream",
     "text": [
      "Fitting 5 folds for each of 30 candidates, totalling 150 fits\n"
     ]
    },
    {
     "data": {
      "text/html": [
       "<style>#sk-container-id-7 {color: black;}#sk-container-id-7 pre{padding: 0;}#sk-container-id-7 div.sk-toggleable {background-color: white;}#sk-container-id-7 label.sk-toggleable__label {cursor: pointer;display: block;width: 100%;margin-bottom: 0;padding: 0.3em;box-sizing: border-box;text-align: center;}#sk-container-id-7 label.sk-toggleable__label-arrow:before {content: \"▸\";float: left;margin-right: 0.25em;color: #696969;}#sk-container-id-7 label.sk-toggleable__label-arrow:hover:before {color: black;}#sk-container-id-7 div.sk-estimator:hover label.sk-toggleable__label-arrow:before {color: black;}#sk-container-id-7 div.sk-toggleable__content {max-height: 0;max-width: 0;overflow: hidden;text-align: left;background-color: #f0f8ff;}#sk-container-id-7 div.sk-toggleable__content pre {margin: 0.2em;color: black;border-radius: 0.25em;background-color: #f0f8ff;}#sk-container-id-7 input.sk-toggleable__control:checked~div.sk-toggleable__content {max-height: 200px;max-width: 100%;overflow: auto;}#sk-container-id-7 input.sk-toggleable__control:checked~label.sk-toggleable__label-arrow:before {content: \"▾\";}#sk-container-id-7 div.sk-estimator input.sk-toggleable__control:checked~label.sk-toggleable__label {background-color: #d4ebff;}#sk-container-id-7 div.sk-label input.sk-toggleable__control:checked~label.sk-toggleable__label {background-color: #d4ebff;}#sk-container-id-7 input.sk-hidden--visually {border: 0;clip: rect(1px 1px 1px 1px);clip: rect(1px, 1px, 1px, 1px);height: 1px;margin: -1px;overflow: hidden;padding: 0;position: absolute;width: 1px;}#sk-container-id-7 div.sk-estimator {font-family: monospace;background-color: #f0f8ff;border: 1px dotted black;border-radius: 0.25em;box-sizing: border-box;margin-bottom: 0.5em;}#sk-container-id-7 div.sk-estimator:hover {background-color: #d4ebff;}#sk-container-id-7 div.sk-parallel-item::after {content: \"\";width: 100%;border-bottom: 1px solid gray;flex-grow: 1;}#sk-container-id-7 div.sk-label:hover label.sk-toggleable__label {background-color: #d4ebff;}#sk-container-id-7 div.sk-serial::before {content: \"\";position: absolute;border-left: 1px solid gray;box-sizing: border-box;top: 0;bottom: 0;left: 50%;z-index: 0;}#sk-container-id-7 div.sk-serial {display: flex;flex-direction: column;align-items: center;background-color: white;padding-right: 0.2em;padding-left: 0.2em;position: relative;}#sk-container-id-7 div.sk-item {position: relative;z-index: 1;}#sk-container-id-7 div.sk-parallel {display: flex;align-items: stretch;justify-content: center;background-color: white;position: relative;}#sk-container-id-7 div.sk-item::before, #sk-container-id-7 div.sk-parallel-item::before {content: \"\";position: absolute;border-left: 1px solid gray;box-sizing: border-box;top: 0;bottom: 0;left: 50%;z-index: -1;}#sk-container-id-7 div.sk-parallel-item {display: flex;flex-direction: column;z-index: 1;position: relative;background-color: white;}#sk-container-id-7 div.sk-parallel-item:first-child::after {align-self: flex-end;width: 50%;}#sk-container-id-7 div.sk-parallel-item:last-child::after {align-self: flex-start;width: 50%;}#sk-container-id-7 div.sk-parallel-item:only-child::after {width: 0;}#sk-container-id-7 div.sk-dashed-wrapped {border: 1px dashed gray;margin: 0 0.4em 0.5em 0.4em;box-sizing: border-box;padding-bottom: 0.4em;background-color: white;}#sk-container-id-7 div.sk-label label {font-family: monospace;font-weight: bold;display: inline-block;line-height: 1.2em;}#sk-container-id-7 div.sk-label-container {text-align: center;}#sk-container-id-7 div.sk-container {/* jupyter's `normalize.less` sets `[hidden] { display: none; }` but bootstrap.min.css set `[hidden] { display: none !important; }` so we also need the `!important` here to be able to override the default hidden behavior on the sphinx rendered scikit-learn.org. See: https://github.com/scikit-learn/scikit-learn/issues/21755 */display: inline-block !important;position: relative;}#sk-container-id-7 div.sk-text-repr-fallback {display: none;}</style><div id=\"sk-container-id-7\" class=\"sk-top-container\"><div class=\"sk-text-repr-fallback\"><pre>GridSearchCV(cv=KFold(n_splits=5, random_state=42, shuffle=True),\n",
       "             estimator=SVR(epsilon=0.2), n_jobs=-1,\n",
       "             param_grid={&#x27;C&#x27;: [1, 10, 100, 1000, 10000],\n",
       "                         &#x27;gamma&#x27;: [1e-06, 1e-05, 0.0001, 0.001, 0.01, 0.1]},\n",
       "             verbose=1)</pre><b>In a Jupyter environment, please rerun this cell to show the HTML representation or trust the notebook. <br />On GitHub, the HTML representation is unable to render, please try loading this page with nbviewer.org.</b></div><div class=\"sk-container\" hidden><div class=\"sk-item sk-dashed-wrapped\"><div class=\"sk-label-container\"><div class=\"sk-label sk-toggleable\"><input class=\"sk-toggleable__control sk-hidden--visually\" id=\"sk-estimator-id-11\" type=\"checkbox\" ><label for=\"sk-estimator-id-11\" class=\"sk-toggleable__label sk-toggleable__label-arrow\">GridSearchCV</label><div class=\"sk-toggleable__content\"><pre>GridSearchCV(cv=KFold(n_splits=5, random_state=42, shuffle=True),\n",
       "             estimator=SVR(epsilon=0.2), n_jobs=-1,\n",
       "             param_grid={&#x27;C&#x27;: [1, 10, 100, 1000, 10000],\n",
       "                         &#x27;gamma&#x27;: [1e-06, 1e-05, 0.0001, 0.001, 0.01, 0.1]},\n",
       "             verbose=1)</pre></div></div></div><div class=\"sk-parallel\"><div class=\"sk-parallel-item\"><div class=\"sk-item\"><div class=\"sk-label-container\"><div class=\"sk-label sk-toggleable\"><input class=\"sk-toggleable__control sk-hidden--visually\" id=\"sk-estimator-id-12\" type=\"checkbox\" ><label for=\"sk-estimator-id-12\" class=\"sk-toggleable__label sk-toggleable__label-arrow\">estimator: SVR</label><div class=\"sk-toggleable__content\"><pre>SVR(epsilon=0.2)</pre></div></div></div><div class=\"sk-serial\"><div class=\"sk-item\"><div class=\"sk-estimator sk-toggleable\"><input class=\"sk-toggleable__control sk-hidden--visually\" id=\"sk-estimator-id-13\" type=\"checkbox\" ><label for=\"sk-estimator-id-13\" class=\"sk-toggleable__label sk-toggleable__label-arrow\">SVR</label><div class=\"sk-toggleable__content\"><pre>SVR(epsilon=0.2)</pre></div></div></div></div></div></div></div></div></div></div>"
      ],
      "text/plain": [
       "GridSearchCV(cv=KFold(n_splits=5, random_state=42, shuffle=True),\n",
       "             estimator=SVR(epsilon=0.2), n_jobs=-1,\n",
       "             param_grid={'C': [1, 10, 100, 1000, 10000],\n",
       "                         'gamma': [1e-06, 1e-05, 0.0001, 0.001, 0.01, 0.1]},\n",
       "             verbose=1)"
      ]
     },
     "execution_count": 131,
     "metadata": {},
     "output_type": "execute_result"
    }
   ],
   "source": [
    "svm.fit(X_rfe, y_tr)"
   ]
  },
  {
   "cell_type": "code",
   "execution_count": 132,
   "metadata": {},
   "outputs": [],
   "source": [
    "svm.best_params_\n",
    "best_svm = svm.best_estimator_"
   ]
  },
  {
   "cell_type": "code",
   "execution_count": 133,
   "metadata": {},
   "outputs": [
    {
     "data": {
      "text/plain": [
       "{'C': 10, 'gamma': 0.01}"
      ]
     },
     "execution_count": 133,
     "metadata": {},
     "output_type": "execute_result"
    }
   ],
   "source": [
    "svm.best_params_"
   ]
  },
  {
   "cell_type": "code",
   "execution_count": 134,
   "metadata": {},
   "outputs": [],
   "source": [
    "y_pred_CV_svm = cross_val_predict(best_svm, X_rfe, y_tr, cv=cv)"
   ]
  },
  {
   "cell_type": "code",
   "execution_count": 135,
   "metadata": {},
   "outputs": [
    {
     "data": {
      "text/plain": [
       "0.63"
      ]
     },
     "execution_count": 135,
     "metadata": {},
     "output_type": "execute_result"
    }
   ],
   "source": [
    "Q2_CV = round(r2_score(y_tr, y_pred_CV_svm), 2)\n",
    "Q2_CV"
   ]
  },
  {
   "cell_type": "code",
   "execution_count": 136,
   "metadata": {},
   "outputs": [
    {
     "data": {
      "text/plain": [
       "0.74"
      ]
     },
     "execution_count": 136,
     "metadata": {},
     "output_type": "execute_result"
    }
   ],
   "source": [
    "RMSE_CV=round(np.sqrt(mean_squared_error(y_tr, y_pred_CV_svm)), 2)\n",
    "RMSE_CV"
   ]
  },
  {
   "cell_type": "markdown",
   "metadata": {},
   "source": [
    "#  Prediction for test set's molecules"
   ]
  },
  {
   "cell_type": "code",
   "execution_count": 137,
   "metadata": {},
   "outputs": [],
   "source": [
    "x_ts = np.array(x_ts, dtype=np.float32)\n",
    "y_ts = np.array(y_ts, dtype=np.float32)"
   ]
  },
  {
   "cell_type": "code",
   "execution_count": 138,
   "metadata": {},
   "outputs": [],
   "source": [
    "y_pred_svm = best_svm.predict(x_ts)"
   ]
  },
  {
   "cell_type": "code",
   "execution_count": 139,
   "metadata": {},
   "outputs": [
    {
     "data": {
      "text/plain": [
       "0.63"
      ]
     },
     "execution_count": 139,
     "metadata": {},
     "output_type": "execute_result"
    }
   ],
   "source": [
    "Q2_TS = round(r2_score(y_ts, y_pred_svm), 2)\n",
    "Q2_TS"
   ]
  },
  {
   "cell_type": "code",
   "execution_count": 140,
   "metadata": {},
   "outputs": [
    {
     "data": {
      "text/plain": [
       "0.75"
      ]
     },
     "execution_count": 140,
     "metadata": {},
     "output_type": "execute_result"
    }
   ],
   "source": [
    "RMSE_TS=round(np.sqrt(mean_squared_error(y_ts, y_pred_svm)), 2)\n",
    "RMSE_TS"
   ]
  },
  {
   "cell_type": "markdown",
   "metadata": {},
   "source": [
    "save the model to disk"
   ]
  },
  {
   "cell_type": "code",
   "execution_count": 171,
   "metadata": {},
   "outputs": [],
   "source": [
    "pickle.dump(best_svm, open('Models/Padels/HDAC3_SVM_KRFPFP.pkl', 'wb'))"
   ]
  },
  {
   "cell_type": "markdown",
   "metadata": {},
   "source": [
    "load the model from disk"
   ]
  },
  {
   "cell_type": "code",
   "execution_count": 172,
   "metadata": {},
   "outputs": [],
   "source": [
    "best_svm = pickle.load(open('Models/Padels/HDAC3_SVM_KRFPFP.pkl', 'rb'))"
   ]
  },
  {
   "cell_type": "markdown",
   "metadata": {},
   "source": [
    "# 10. Y-randomization SVM model"
   ]
  },
  {
   "cell_type": "code",
   "execution_count": 173,
   "metadata": {},
   "outputs": [
    {
     "name": "stderr",
     "output_type": "stream",
     "text": [
      "[Parallel(n_jobs=-1)]: Using backend LokyBackend with 16 concurrent workers.\n",
      "[Parallel(n_jobs=-1)]: Done  18 tasks      | elapsed:    4.9s\n"
     ]
    },
    {
     "name": "stdout",
     "output_type": "stream",
     "text": [
      "True score =  0.631 \n",
      "Y-randomization =  -0.17 \n",
      "p-value =  0.0196\n"
     ]
    },
    {
     "name": "stderr",
     "output_type": "stream",
     "text": [
      "[Parallel(n_jobs=-1)]: Done  50 out of  50 | elapsed:    9.9s finished\n"
     ]
    }
   ],
   "source": [
    "permutations = 50\n",
    "score, permutation_scores, pvalue = permutation_test_score(best_svm, X_rfe, y_tr,\n",
    "                                                           cv=cv, scoring='r2',\n",
    "                                                           n_permutations=permutations,\n",
    "                                                           n_jobs=-1,\n",
    "                                                           verbose=1,\n",
    "                                                           random_state=seed)\n",
    "print('True score = ', score.round(3),\n",
    "      '\\nY-randomization = ', np.mean(permutation_scores).round(2),\n",
    "      '\\np-value = ', pvalue.round(4))"
   ]
  },
  {
   "cell_type": "markdown",
   "metadata": {},
   "source": [
    "# 11. Estimating applicability domain. Method - Euclidian distances, K=1"
   ]
  },
  {
   "cell_type": "code",
   "execution_count": 174,
   "metadata": {},
   "outputs": [],
   "source": [
    "neighbors_k= pairwise_distances(X_rfe, n_jobs=-1)\n",
    "neighbors_k.sort(0)"
   ]
  },
  {
   "cell_type": "code",
   "execution_count": 175,
   "metadata": {},
   "outputs": [
    {
     "data": {
      "text/html": [
       "<div>\n",
       "<style scoped>\n",
       "    .dataframe tbody tr th:only-of-type {\n",
       "        vertical-align: middle;\n",
       "    }\n",
       "\n",
       "    .dataframe tbody tr th {\n",
       "        vertical-align: top;\n",
       "    }\n",
       "\n",
       "    .dataframe thead th {\n",
       "        text-align: right;\n",
       "    }\n",
       "</style>\n",
       "<table border=\"1\" class=\"dataframe\">\n",
       "  <thead>\n",
       "    <tr style=\"text-align: right;\">\n",
       "      <th></th>\n",
       "      <th>0</th>\n",
       "      <th>1</th>\n",
       "      <th>2</th>\n",
       "      <th>3</th>\n",
       "      <th>4</th>\n",
       "      <th>5</th>\n",
       "      <th>6</th>\n",
       "      <th>7</th>\n",
       "      <th>8</th>\n",
       "      <th>9</th>\n",
       "      <th>...</th>\n",
       "      <th>1390</th>\n",
       "      <th>1391</th>\n",
       "      <th>1392</th>\n",
       "      <th>1393</th>\n",
       "      <th>1394</th>\n",
       "      <th>1395</th>\n",
       "      <th>1396</th>\n",
       "      <th>1397</th>\n",
       "      <th>1398</th>\n",
       "      <th>1399</th>\n",
       "    </tr>\n",
       "  </thead>\n",
       "  <tbody>\n",
       "    <tr>\n",
       "      <th>0</th>\n",
       "      <td>0.000000</td>\n",
       "      <td>0.000000</td>\n",
       "      <td>0.000000</td>\n",
       "      <td>0.000000</td>\n",
       "      <td>0.000000</td>\n",
       "      <td>0.000000</td>\n",
       "      <td>0.000000</td>\n",
       "      <td>0.000000</td>\n",
       "      <td>0.000000</td>\n",
       "      <td>0.000000</td>\n",
       "      <td>...</td>\n",
       "      <td>0.000000</td>\n",
       "      <td>0.000000</td>\n",
       "      <td>0.000000</td>\n",
       "      <td>0.000000</td>\n",
       "      <td>0.000000</td>\n",
       "      <td>0.000000</td>\n",
       "      <td>0.000000</td>\n",
       "      <td>0.000000</td>\n",
       "      <td>0.000000</td>\n",
       "      <td>0.000000</td>\n",
       "    </tr>\n",
       "    <tr>\n",
       "      <th>1</th>\n",
       "      <td>1.414214</td>\n",
       "      <td>2.645751</td>\n",
       "      <td>2.000000</td>\n",
       "      <td>0.000000</td>\n",
       "      <td>1.414214</td>\n",
       "      <td>1.414214</td>\n",
       "      <td>1.414214</td>\n",
       "      <td>5.000000</td>\n",
       "      <td>2.645751</td>\n",
       "      <td>3.464102</td>\n",
       "      <td>...</td>\n",
       "      <td>2.645751</td>\n",
       "      <td>2.000000</td>\n",
       "      <td>1.000000</td>\n",
       "      <td>1.000000</td>\n",
       "      <td>2.000000</td>\n",
       "      <td>2.236068</td>\n",
       "      <td>1.000000</td>\n",
       "      <td>1.000000</td>\n",
       "      <td>2.828427</td>\n",
       "      <td>1.000000</td>\n",
       "    </tr>\n",
       "    <tr>\n",
       "      <th>2</th>\n",
       "      <td>1.732051</td>\n",
       "      <td>3.464102</td>\n",
       "      <td>3.872983</td>\n",
       "      <td>0.000000</td>\n",
       "      <td>3.741657</td>\n",
       "      <td>1.732051</td>\n",
       "      <td>2.236068</td>\n",
       "      <td>5.099020</td>\n",
       "      <td>2.645751</td>\n",
       "      <td>3.464102</td>\n",
       "      <td>...</td>\n",
       "      <td>3.605551</td>\n",
       "      <td>2.000000</td>\n",
       "      <td>1.000000</td>\n",
       "      <td>1.000000</td>\n",
       "      <td>2.236068</td>\n",
       "      <td>2.449490</td>\n",
       "      <td>1.000000</td>\n",
       "      <td>1.000000</td>\n",
       "      <td>2.828427</td>\n",
       "      <td>1.414214</td>\n",
       "    </tr>\n",
       "    <tr>\n",
       "      <th>3</th>\n",
       "      <td>1.732051</td>\n",
       "      <td>3.464102</td>\n",
       "      <td>4.242640</td>\n",
       "      <td>1.000000</td>\n",
       "      <td>4.358899</td>\n",
       "      <td>2.236068</td>\n",
       "      <td>2.645751</td>\n",
       "      <td>5.099020</td>\n",
       "      <td>2.645751</td>\n",
       "      <td>3.464102</td>\n",
       "      <td>...</td>\n",
       "      <td>3.605551</td>\n",
       "      <td>2.236068</td>\n",
       "      <td>1.000000</td>\n",
       "      <td>1.000000</td>\n",
       "      <td>2.449490</td>\n",
       "      <td>2.449490</td>\n",
       "      <td>1.414214</td>\n",
       "      <td>1.414214</td>\n",
       "      <td>3.162278</td>\n",
       "      <td>1.414214</td>\n",
       "    </tr>\n",
       "    <tr>\n",
       "      <th>4</th>\n",
       "      <td>1.732051</td>\n",
       "      <td>3.605551</td>\n",
       "      <td>4.358899</td>\n",
       "      <td>1.732051</td>\n",
       "      <td>4.582576</td>\n",
       "      <td>2.236068</td>\n",
       "      <td>2.645751</td>\n",
       "      <td>5.196152</td>\n",
       "      <td>2.828427</td>\n",
       "      <td>4.000000</td>\n",
       "      <td>...</td>\n",
       "      <td>3.741657</td>\n",
       "      <td>2.449490</td>\n",
       "      <td>1.000000</td>\n",
       "      <td>1.000000</td>\n",
       "      <td>2.449490</td>\n",
       "      <td>2.645751</td>\n",
       "      <td>1.414214</td>\n",
       "      <td>1.414214</td>\n",
       "      <td>3.316625</td>\n",
       "      <td>1.414214</td>\n",
       "    </tr>\n",
       "    <tr>\n",
       "      <th>...</th>\n",
       "      <td>...</td>\n",
       "      <td>...</td>\n",
       "      <td>...</td>\n",
       "      <td>...</td>\n",
       "      <td>...</td>\n",
       "      <td>...</td>\n",
       "      <td>...</td>\n",
       "      <td>...</td>\n",
       "      <td>...</td>\n",
       "      <td>...</td>\n",
       "      <td>...</td>\n",
       "      <td>...</td>\n",
       "      <td>...</td>\n",
       "      <td>...</td>\n",
       "      <td>...</td>\n",
       "      <td>...</td>\n",
       "      <td>...</td>\n",
       "      <td>...</td>\n",
       "      <td>...</td>\n",
       "      <td>...</td>\n",
       "      <td>...</td>\n",
       "    </tr>\n",
       "    <tr>\n",
       "      <th>1395</th>\n",
       "      <td>8.944272</td>\n",
       "      <td>9.110434</td>\n",
       "      <td>8.774964</td>\n",
       "      <td>8.660254</td>\n",
       "      <td>8.602325</td>\n",
       "      <td>9.486833</td>\n",
       "      <td>8.660254</td>\n",
       "      <td>8.774964</td>\n",
       "      <td>9.899495</td>\n",
       "      <td>9.539392</td>\n",
       "      <td>...</td>\n",
       "      <td>9.539392</td>\n",
       "      <td>9.327379</td>\n",
       "      <td>9.433981</td>\n",
       "      <td>9.380832</td>\n",
       "      <td>9.591663</td>\n",
       "      <td>9.486833</td>\n",
       "      <td>9.380832</td>\n",
       "      <td>9.327379</td>\n",
       "      <td>8.717798</td>\n",
       "      <td>9.273619</td>\n",
       "    </tr>\n",
       "    <tr>\n",
       "      <th>1396</th>\n",
       "      <td>9.000000</td>\n",
       "      <td>9.110434</td>\n",
       "      <td>8.774964</td>\n",
       "      <td>8.717798</td>\n",
       "      <td>8.660254</td>\n",
       "      <td>9.486833</td>\n",
       "      <td>8.660254</td>\n",
       "      <td>8.831760</td>\n",
       "      <td>9.949874</td>\n",
       "      <td>9.539392</td>\n",
       "      <td>...</td>\n",
       "      <td>9.539392</td>\n",
       "      <td>9.327379</td>\n",
       "      <td>9.433981</td>\n",
       "      <td>9.380832</td>\n",
       "      <td>9.591663</td>\n",
       "      <td>9.486833</td>\n",
       "      <td>9.433981</td>\n",
       "      <td>9.327379</td>\n",
       "      <td>8.774964</td>\n",
       "      <td>9.327379</td>\n",
       "    </tr>\n",
       "    <tr>\n",
       "      <th>1397</th>\n",
       "      <td>9.055386</td>\n",
       "      <td>9.165152</td>\n",
       "      <td>8.888194</td>\n",
       "      <td>8.717798</td>\n",
       "      <td>8.660254</td>\n",
       "      <td>9.539392</td>\n",
       "      <td>8.660254</td>\n",
       "      <td>8.831760</td>\n",
       "      <td>10.049875</td>\n",
       "      <td>9.539392</td>\n",
       "      <td>...</td>\n",
       "      <td>9.695360</td>\n",
       "      <td>9.327379</td>\n",
       "      <td>9.433981</td>\n",
       "      <td>9.433981</td>\n",
       "      <td>9.591663</td>\n",
       "      <td>9.486833</td>\n",
       "      <td>9.433981</td>\n",
       "      <td>9.380832</td>\n",
       "      <td>8.831760</td>\n",
       "      <td>9.327379</td>\n",
       "    </tr>\n",
       "    <tr>\n",
       "      <th>1398</th>\n",
       "      <td>9.055386</td>\n",
       "      <td>9.165152</td>\n",
       "      <td>9.055386</td>\n",
       "      <td>8.774964</td>\n",
       "      <td>8.660254</td>\n",
       "      <td>9.539392</td>\n",
       "      <td>8.717798</td>\n",
       "      <td>8.888194</td>\n",
       "      <td>10.049875</td>\n",
       "      <td>9.539392</td>\n",
       "      <td>...</td>\n",
       "      <td>9.695360</td>\n",
       "      <td>9.380832</td>\n",
       "      <td>9.433981</td>\n",
       "      <td>9.433981</td>\n",
       "      <td>9.591663</td>\n",
       "      <td>9.539392</td>\n",
       "      <td>9.433981</td>\n",
       "      <td>9.380832</td>\n",
       "      <td>8.888194</td>\n",
       "      <td>9.327379</td>\n",
       "    </tr>\n",
       "    <tr>\n",
       "      <th>1399</th>\n",
       "      <td>9.110434</td>\n",
       "      <td>9.165152</td>\n",
       "      <td>9.055386</td>\n",
       "      <td>8.888194</td>\n",
       "      <td>9.000000</td>\n",
       "      <td>10.049875</td>\n",
       "      <td>8.717798</td>\n",
       "      <td>8.888194</td>\n",
       "      <td>10.148891</td>\n",
       "      <td>9.643651</td>\n",
       "      <td>...</td>\n",
       "      <td>9.695360</td>\n",
       "      <td>9.591663</td>\n",
       "      <td>9.486833</td>\n",
       "      <td>9.486833</td>\n",
       "      <td>9.695360</td>\n",
       "      <td>9.539392</td>\n",
       "      <td>9.486833</td>\n",
       "      <td>9.486833</td>\n",
       "      <td>8.888194</td>\n",
       "      <td>9.380832</td>\n",
       "    </tr>\n",
       "  </tbody>\n",
       "</table>\n",
       "<p>1400 rows × 1400 columns</p>\n",
       "</div>"
      ],
      "text/plain": [
       "          0         1         2         3         4          5         6     \\\n",
       "0     0.000000  0.000000  0.000000  0.000000  0.000000   0.000000  0.000000   \n",
       "1     1.414214  2.645751  2.000000  0.000000  1.414214   1.414214  1.414214   \n",
       "2     1.732051  3.464102  3.872983  0.000000  3.741657   1.732051  2.236068   \n",
       "3     1.732051  3.464102  4.242640  1.000000  4.358899   2.236068  2.645751   \n",
       "4     1.732051  3.605551  4.358899  1.732051  4.582576   2.236068  2.645751   \n",
       "...        ...       ...       ...       ...       ...        ...       ...   \n",
       "1395  8.944272  9.110434  8.774964  8.660254  8.602325   9.486833  8.660254   \n",
       "1396  9.000000  9.110434  8.774964  8.717798  8.660254   9.486833  8.660254   \n",
       "1397  9.055386  9.165152  8.888194  8.717798  8.660254   9.539392  8.660254   \n",
       "1398  9.055386  9.165152  9.055386  8.774964  8.660254   9.539392  8.717798   \n",
       "1399  9.110434  9.165152  9.055386  8.888194  9.000000  10.049875  8.717798   \n",
       "\n",
       "          7          8         9     ...      1390      1391      1392  \\\n",
       "0     0.000000   0.000000  0.000000  ...  0.000000  0.000000  0.000000   \n",
       "1     5.000000   2.645751  3.464102  ...  2.645751  2.000000  1.000000   \n",
       "2     5.099020   2.645751  3.464102  ...  3.605551  2.000000  1.000000   \n",
       "3     5.099020   2.645751  3.464102  ...  3.605551  2.236068  1.000000   \n",
       "4     5.196152   2.828427  4.000000  ...  3.741657  2.449490  1.000000   \n",
       "...        ...        ...       ...  ...       ...       ...       ...   \n",
       "1395  8.774964   9.899495  9.539392  ...  9.539392  9.327379  9.433981   \n",
       "1396  8.831760   9.949874  9.539392  ...  9.539392  9.327379  9.433981   \n",
       "1397  8.831760  10.049875  9.539392  ...  9.695360  9.327379  9.433981   \n",
       "1398  8.888194  10.049875  9.539392  ...  9.695360  9.380832  9.433981   \n",
       "1399  8.888194  10.148891  9.643651  ...  9.695360  9.591663  9.486833   \n",
       "\n",
       "          1393      1394      1395      1396      1397      1398      1399  \n",
       "0     0.000000  0.000000  0.000000  0.000000  0.000000  0.000000  0.000000  \n",
       "1     1.000000  2.000000  2.236068  1.000000  1.000000  2.828427  1.000000  \n",
       "2     1.000000  2.236068  2.449490  1.000000  1.000000  2.828427  1.414214  \n",
       "3     1.000000  2.449490  2.449490  1.414214  1.414214  3.162278  1.414214  \n",
       "4     1.000000  2.449490  2.645751  1.414214  1.414214  3.316625  1.414214  \n",
       "...        ...       ...       ...       ...       ...       ...       ...  \n",
       "1395  9.380832  9.591663  9.486833  9.380832  9.327379  8.717798  9.273619  \n",
       "1396  9.380832  9.591663  9.486833  9.433981  9.327379  8.774964  9.327379  \n",
       "1397  9.433981  9.591663  9.486833  9.433981  9.380832  8.831760  9.327379  \n",
       "1398  9.433981  9.591663  9.539392  9.433981  9.380832  8.888194  9.327379  \n",
       "1399  9.486833  9.695360  9.539392  9.486833  9.486833  8.888194  9.380832  \n",
       "\n",
       "[1400 rows x 1400 columns]"
      ]
     },
     "execution_count": 175,
     "metadata": {},
     "output_type": "execute_result"
    }
   ],
   "source": [
    "df_tr=pd.DataFrame(neighbors_k)\n",
    "df_tr"
   ]
  },
  {
   "cell_type": "code",
   "execution_count": 176,
   "metadata": {},
   "outputs": [],
   "source": [
    "similarity= neighbors_k"
   ]
  },
  {
   "cell_type": "code",
   "execution_count": 177,
   "metadata": {},
   "outputs": [],
   "source": [
    "Dmean=np.mean(similarity[1,:])"
   ]
  },
  {
   "cell_type": "code",
   "execution_count": 178,
   "metadata": {},
   "outputs": [
    {
     "data": {
      "text/plain": [
       "1.74"
      ]
     },
     "execution_count": 178,
     "metadata": {},
     "output_type": "execute_result"
    }
   ],
   "source": [
    "round(Dmean, 2)"
   ]
  },
  {
   "cell_type": "code",
   "execution_count": 179,
   "metadata": {},
   "outputs": [],
   "source": [
    "std=np.std(similarity[1,:])"
   ]
  },
  {
   "cell_type": "code",
   "execution_count": 180,
   "metadata": {},
   "outputs": [
    {
     "data": {
      "text/plain": [
       "1.2"
      ]
     },
     "execution_count": 180,
     "metadata": {},
     "output_type": "execute_result"
    }
   ],
   "source": [
    "round(std, 2)"
   ]
  },
  {
   "cell_type": "code",
   "execution_count": 181,
   "metadata": {},
   "outputs": [
    {
     "name": "stdout",
     "output_type": "stream",
     "text": [
      "2.34\n"
     ]
    }
   ],
   "source": [
    "model_AD_limit=Dmean+std*0.5\n",
    "print(np.round(model_AD_limit, 2))"
   ]
  },
  {
   "cell_type": "code",
   "execution_count": 182,
   "metadata": {},
   "outputs": [],
   "source": [
    "x_ts=desc_ts[feature_name_rfecv]"
   ]
  },
  {
   "cell_type": "code",
   "execution_count": 183,
   "metadata": {},
   "outputs": [],
   "source": [
    "neighbors_k_ts= pairwise_distances(X_rfe,Y=x_ts, n_jobs=-1)\n",
    "neighbors_k_ts.sort(0)"
   ]
  },
  {
   "cell_type": "code",
   "execution_count": 184,
   "metadata": {},
   "outputs": [
    {
     "data": {
      "text/html": [
       "<div>\n",
       "<style scoped>\n",
       "    .dataframe tbody tr th:only-of-type {\n",
       "        vertical-align: middle;\n",
       "    }\n",
       "\n",
       "    .dataframe tbody tr th {\n",
       "        vertical-align: top;\n",
       "    }\n",
       "\n",
       "    .dataframe thead th {\n",
       "        text-align: right;\n",
       "    }\n",
       "</style>\n",
       "<table border=\"1\" class=\"dataframe\">\n",
       "  <thead>\n",
       "    <tr style=\"text-align: right;\">\n",
       "      <th></th>\n",
       "      <th>0</th>\n",
       "      <th>1</th>\n",
       "      <th>2</th>\n",
       "      <th>3</th>\n",
       "      <th>4</th>\n",
       "      <th>5</th>\n",
       "      <th>6</th>\n",
       "      <th>7</th>\n",
       "      <th>8</th>\n",
       "      <th>9</th>\n",
       "      <th>...</th>\n",
       "      <th>341</th>\n",
       "      <th>342</th>\n",
       "      <th>343</th>\n",
       "      <th>344</th>\n",
       "      <th>345</th>\n",
       "      <th>346</th>\n",
       "      <th>347</th>\n",
       "      <th>348</th>\n",
       "      <th>349</th>\n",
       "      <th>350</th>\n",
       "    </tr>\n",
       "  </thead>\n",
       "  <tbody>\n",
       "    <tr>\n",
       "      <th>0</th>\n",
       "      <td>0.000000</td>\n",
       "      <td>2.449490</td>\n",
       "      <td>4.472136</td>\n",
       "      <td>1.732051</td>\n",
       "      <td>1.732051</td>\n",
       "      <td>2.000000</td>\n",
       "      <td>1.732051</td>\n",
       "      <td>2.236068</td>\n",
       "      <td>2.828427</td>\n",
       "      <td>2.000000</td>\n",
       "      <td>...</td>\n",
       "      <td>0.000000</td>\n",
       "      <td>1.414214</td>\n",
       "      <td>1.000000</td>\n",
       "      <td>0.000000</td>\n",
       "      <td>2.828427</td>\n",
       "      <td>1.000000</td>\n",
       "      <td>1.000000</td>\n",
       "      <td>1.732051</td>\n",
       "      <td>2.449490</td>\n",
       "      <td>2.645751</td>\n",
       "    </tr>\n",
       "    <tr>\n",
       "      <th>1</th>\n",
       "      <td>2.645751</td>\n",
       "      <td>3.464102</td>\n",
       "      <td>4.690416</td>\n",
       "      <td>3.316625</td>\n",
       "      <td>2.645751</td>\n",
       "      <td>2.645751</td>\n",
       "      <td>2.645751</td>\n",
       "      <td>2.449490</td>\n",
       "      <td>3.316625</td>\n",
       "      <td>2.645751</td>\n",
       "      <td>...</td>\n",
       "      <td>1.000000</td>\n",
       "      <td>2.000000</td>\n",
       "      <td>1.414214</td>\n",
       "      <td>1.414214</td>\n",
       "      <td>3.000000</td>\n",
       "      <td>1.414214</td>\n",
       "      <td>1.000000</td>\n",
       "      <td>1.732051</td>\n",
       "      <td>2.449490</td>\n",
       "      <td>2.828427</td>\n",
       "    </tr>\n",
       "    <tr>\n",
       "      <th>2</th>\n",
       "      <td>3.000000</td>\n",
       "      <td>3.605551</td>\n",
       "      <td>4.898979</td>\n",
       "      <td>3.464102</td>\n",
       "      <td>3.000000</td>\n",
       "      <td>2.828427</td>\n",
       "      <td>2.828427</td>\n",
       "      <td>2.449490</td>\n",
       "      <td>4.358899</td>\n",
       "      <td>3.162278</td>\n",
       "      <td>...</td>\n",
       "      <td>1.414214</td>\n",
       "      <td>2.236068</td>\n",
       "      <td>1.732051</td>\n",
       "      <td>1.732051</td>\n",
       "      <td>3.000000</td>\n",
       "      <td>1.414214</td>\n",
       "      <td>1.000000</td>\n",
       "      <td>1.732051</td>\n",
       "      <td>2.449490</td>\n",
       "      <td>3.000000</td>\n",
       "    </tr>\n",
       "    <tr>\n",
       "      <th>3</th>\n",
       "      <td>3.000000</td>\n",
       "      <td>3.605551</td>\n",
       "      <td>4.898979</td>\n",
       "      <td>3.605551</td>\n",
       "      <td>3.316625</td>\n",
       "      <td>3.605551</td>\n",
       "      <td>2.828427</td>\n",
       "      <td>3.741657</td>\n",
       "      <td>4.690416</td>\n",
       "      <td>3.162278</td>\n",
       "      <td>...</td>\n",
       "      <td>1.414214</td>\n",
       "      <td>2.449490</td>\n",
       "      <td>1.732051</td>\n",
       "      <td>1.732051</td>\n",
       "      <td>3.162278</td>\n",
       "      <td>1.732051</td>\n",
       "      <td>1.414214</td>\n",
       "      <td>2.000000</td>\n",
       "      <td>2.645751</td>\n",
       "      <td>3.000000</td>\n",
       "    </tr>\n",
       "    <tr>\n",
       "      <th>4</th>\n",
       "      <td>3.162278</td>\n",
       "      <td>3.741657</td>\n",
       "      <td>5.000000</td>\n",
       "      <td>4.795832</td>\n",
       "      <td>4.000000</td>\n",
       "      <td>3.741657</td>\n",
       "      <td>2.828427</td>\n",
       "      <td>4.123106</td>\n",
       "      <td>4.898979</td>\n",
       "      <td>3.605551</td>\n",
       "      <td>...</td>\n",
       "      <td>1.414214</td>\n",
       "      <td>2.449490</td>\n",
       "      <td>1.732051</td>\n",
       "      <td>1.732051</td>\n",
       "      <td>3.162278</td>\n",
       "      <td>1.732051</td>\n",
       "      <td>1.414214</td>\n",
       "      <td>2.000000</td>\n",
       "      <td>2.645751</td>\n",
       "      <td>3.162278</td>\n",
       "    </tr>\n",
       "    <tr>\n",
       "      <th>...</th>\n",
       "      <td>...</td>\n",
       "      <td>...</td>\n",
       "      <td>...</td>\n",
       "      <td>...</td>\n",
       "      <td>...</td>\n",
       "      <td>...</td>\n",
       "      <td>...</td>\n",
       "      <td>...</td>\n",
       "      <td>...</td>\n",
       "      <td>...</td>\n",
       "      <td>...</td>\n",
       "      <td>...</td>\n",
       "      <td>...</td>\n",
       "      <td>...</td>\n",
       "      <td>...</td>\n",
       "      <td>...</td>\n",
       "      <td>...</td>\n",
       "      <td>...</td>\n",
       "      <td>...</td>\n",
       "      <td>...</td>\n",
       "      <td>...</td>\n",
       "    </tr>\n",
       "    <tr>\n",
       "      <th>1395</th>\n",
       "      <td>9.055385</td>\n",
       "      <td>9.433981</td>\n",
       "      <td>8.660254</td>\n",
       "      <td>9.695360</td>\n",
       "      <td>9.055385</td>\n",
       "      <td>9.110434</td>\n",
       "      <td>9.949874</td>\n",
       "      <td>9.110434</td>\n",
       "      <td>9.380832</td>\n",
       "      <td>9.219544</td>\n",
       "      <td>...</td>\n",
       "      <td>9.273618</td>\n",
       "      <td>9.433981</td>\n",
       "      <td>9.273618</td>\n",
       "      <td>9.433981</td>\n",
       "      <td>9.539392</td>\n",
       "      <td>9.327379</td>\n",
       "      <td>9.380832</td>\n",
       "      <td>9.486833</td>\n",
       "      <td>9.591663</td>\n",
       "      <td>9.695360</td>\n",
       "    </tr>\n",
       "    <tr>\n",
       "      <th>1396</th>\n",
       "      <td>9.110434</td>\n",
       "      <td>9.486833</td>\n",
       "      <td>8.660254</td>\n",
       "      <td>9.797959</td>\n",
       "      <td>9.055385</td>\n",
       "      <td>9.110434</td>\n",
       "      <td>10.000000</td>\n",
       "      <td>9.165151</td>\n",
       "      <td>9.380832</td>\n",
       "      <td>9.219544</td>\n",
       "      <td>...</td>\n",
       "      <td>9.327379</td>\n",
       "      <td>9.433981</td>\n",
       "      <td>9.273618</td>\n",
       "      <td>9.433981</td>\n",
       "      <td>9.591663</td>\n",
       "      <td>9.327379</td>\n",
       "      <td>9.380832</td>\n",
       "      <td>9.486833</td>\n",
       "      <td>9.591663</td>\n",
       "      <td>9.695360</td>\n",
       "    </tr>\n",
       "    <tr>\n",
       "      <th>1397</th>\n",
       "      <td>9.110434</td>\n",
       "      <td>9.591663</td>\n",
       "      <td>8.717798</td>\n",
       "      <td>9.848858</td>\n",
       "      <td>9.055385</td>\n",
       "      <td>9.165151</td>\n",
       "      <td>10.099505</td>\n",
       "      <td>9.165151</td>\n",
       "      <td>9.433981</td>\n",
       "      <td>9.380832</td>\n",
       "      <td>...</td>\n",
       "      <td>9.433981</td>\n",
       "      <td>9.433981</td>\n",
       "      <td>9.380832</td>\n",
       "      <td>9.433981</td>\n",
       "      <td>9.591663</td>\n",
       "      <td>9.327379</td>\n",
       "      <td>9.380832</td>\n",
       "      <td>9.486833</td>\n",
       "      <td>9.695360</td>\n",
       "      <td>9.695360</td>\n",
       "    </tr>\n",
       "    <tr>\n",
       "      <th>1398</th>\n",
       "      <td>9.110434</td>\n",
       "      <td>9.591663</td>\n",
       "      <td>8.774964</td>\n",
       "      <td>9.848858</td>\n",
       "      <td>9.055385</td>\n",
       "      <td>9.165151</td>\n",
       "      <td>10.099505</td>\n",
       "      <td>9.219544</td>\n",
       "      <td>9.433981</td>\n",
       "      <td>9.380832</td>\n",
       "      <td>...</td>\n",
       "      <td>9.433981</td>\n",
       "      <td>9.486833</td>\n",
       "      <td>9.433981</td>\n",
       "      <td>9.433981</td>\n",
       "      <td>9.591663</td>\n",
       "      <td>9.327379</td>\n",
       "      <td>9.380832</td>\n",
       "      <td>9.539392</td>\n",
       "      <td>9.695360</td>\n",
       "      <td>9.797959</td>\n",
       "    </tr>\n",
       "    <tr>\n",
       "      <th>1399</th>\n",
       "      <td>9.273618</td>\n",
       "      <td>9.695360</td>\n",
       "      <td>8.831761</td>\n",
       "      <td>10.049876</td>\n",
       "      <td>9.165151</td>\n",
       "      <td>9.848858</td>\n",
       "      <td>10.198039</td>\n",
       "      <td>9.949874</td>\n",
       "      <td>9.486833</td>\n",
       "      <td>10.049876</td>\n",
       "      <td>...</td>\n",
       "      <td>9.486833</td>\n",
       "      <td>9.695360</td>\n",
       "      <td>9.486833</td>\n",
       "      <td>9.486833</td>\n",
       "      <td>9.591663</td>\n",
       "      <td>9.486833</td>\n",
       "      <td>9.433981</td>\n",
       "      <td>9.591663</td>\n",
       "      <td>9.695360</td>\n",
       "      <td>9.797959</td>\n",
       "    </tr>\n",
       "  </tbody>\n",
       "</table>\n",
       "<p>1400 rows × 351 columns</p>\n",
       "</div>"
      ],
      "text/plain": [
       "           0         1         2          3         4         5          6    \\\n",
       "0     0.000000  2.449490  4.472136   1.732051  1.732051  2.000000   1.732051   \n",
       "1     2.645751  3.464102  4.690416   3.316625  2.645751  2.645751   2.645751   \n",
       "2     3.000000  3.605551  4.898979   3.464102  3.000000  2.828427   2.828427   \n",
       "3     3.000000  3.605551  4.898979   3.605551  3.316625  3.605551   2.828427   \n",
       "4     3.162278  3.741657  5.000000   4.795832  4.000000  3.741657   2.828427   \n",
       "...        ...       ...       ...        ...       ...       ...        ...   \n",
       "1395  9.055385  9.433981  8.660254   9.695360  9.055385  9.110434   9.949874   \n",
       "1396  9.110434  9.486833  8.660254   9.797959  9.055385  9.110434  10.000000   \n",
       "1397  9.110434  9.591663  8.717798   9.848858  9.055385  9.165151  10.099505   \n",
       "1398  9.110434  9.591663  8.774964   9.848858  9.055385  9.165151  10.099505   \n",
       "1399  9.273618  9.695360  8.831761  10.049876  9.165151  9.848858  10.198039   \n",
       "\n",
       "           7         8          9    ...       341       342       343  \\\n",
       "0     2.236068  2.828427   2.000000  ...  0.000000  1.414214  1.000000   \n",
       "1     2.449490  3.316625   2.645751  ...  1.000000  2.000000  1.414214   \n",
       "2     2.449490  4.358899   3.162278  ...  1.414214  2.236068  1.732051   \n",
       "3     3.741657  4.690416   3.162278  ...  1.414214  2.449490  1.732051   \n",
       "4     4.123106  4.898979   3.605551  ...  1.414214  2.449490  1.732051   \n",
       "...        ...       ...        ...  ...       ...       ...       ...   \n",
       "1395  9.110434  9.380832   9.219544  ...  9.273618  9.433981  9.273618   \n",
       "1396  9.165151  9.380832   9.219544  ...  9.327379  9.433981  9.273618   \n",
       "1397  9.165151  9.433981   9.380832  ...  9.433981  9.433981  9.380832   \n",
       "1398  9.219544  9.433981   9.380832  ...  9.433981  9.486833  9.433981   \n",
       "1399  9.949874  9.486833  10.049876  ...  9.486833  9.695360  9.486833   \n",
       "\n",
       "           344       345       346       347       348       349       350  \n",
       "0     0.000000  2.828427  1.000000  1.000000  1.732051  2.449490  2.645751  \n",
       "1     1.414214  3.000000  1.414214  1.000000  1.732051  2.449490  2.828427  \n",
       "2     1.732051  3.000000  1.414214  1.000000  1.732051  2.449490  3.000000  \n",
       "3     1.732051  3.162278  1.732051  1.414214  2.000000  2.645751  3.000000  \n",
       "4     1.732051  3.162278  1.732051  1.414214  2.000000  2.645751  3.162278  \n",
       "...        ...       ...       ...       ...       ...       ...       ...  \n",
       "1395  9.433981  9.539392  9.327379  9.380832  9.486833  9.591663  9.695360  \n",
       "1396  9.433981  9.591663  9.327379  9.380832  9.486833  9.591663  9.695360  \n",
       "1397  9.433981  9.591663  9.327379  9.380832  9.486833  9.695360  9.695360  \n",
       "1398  9.433981  9.591663  9.327379  9.380832  9.539392  9.695360  9.797959  \n",
       "1399  9.486833  9.591663  9.486833  9.433981  9.591663  9.695360  9.797959  \n",
       "\n",
       "[1400 rows x 351 columns]"
      ]
     },
     "execution_count": 184,
     "metadata": {},
     "output_type": "execute_result"
    }
   ],
   "source": [
    "x_ts_AD=pd.DataFrame(neighbors_k_ts)\n",
    "x_ts_AD"
   ]
  },
  {
   "cell_type": "code",
   "execution_count": 185,
   "metadata": {},
   "outputs": [
    {
     "name": "stdout",
     "output_type": "stream",
     "text": [
      "[0.    2.449 4.472 1.732 1.732 2.    1.732 2.236 2.828 2.    3.873 2.\n",
      " 1.    2.    2.    1.414 1.    2.449 3.873 1.414 1.414 2.646 4.69  1.\n",
      " 1.732 1.732 2.646 2.236 1.414 1.    4.69  0.    3.    1.414 1.    1.414\n",
      " 1.732 1.414 1.414 1.414 1.414 5.292 2.828 1.    1.414 1.    3.742 2.646\n",
      " 1.732 1.732 2.    3.    2.    1.414 1.732 3.742 1.414 1.414 1.    2.\n",
      " 0.    3.317 1.732 3.606 2.828 1.414 3.873 0.    2.    4.    3.317 1.732\n",
      " 0.    1.    1.414 1.732 1.414 2.236 2.828 2.449 0.    1.    2.    1.414\n",
      " 1.    1.    0.    1.732 0.    5.    2.236 5.    1.414 2.    1.732 2.828\n",
      " 1.414 2.449 0.    1.732 5.196 1.    0.    1.    2.    1.414 4.243 1.414\n",
      " 1.732 1.    1.    2.236 1.732 1.    1.732 2.449 1.732 2.    2.236 0.\n",
      " 2.646 3.    2.449 2.    2.449 2.646 1.732 1.414 1.    3.464 2.236 2.828\n",
      " 1.    2.646 1.    1.732 1.414 1.732 2.236 2.    3.873 1.    2.    1.\n",
      " 1.414 2.236 1.414 1.414 0.    3.742 1.732 1.    1.732 1.414 2.449 2.646\n",
      " 1.414 1.732 1.    1.414 1.    0.    1.732 1.414 1.732 0.    1.    0.\n",
      " 0.    2.    1.732 0.    0.    0.    2.236 2.236 3.162 2.646 2.    1.732\n",
      " 1.732 2.828 4.796 1.414 1.    1.    2.236 1.    1.414 2.    1.732 1.\n",
      " 1.    1.414 1.414 0.    2.646 1.414 2.    1.    3.317 1.    0.    0.\n",
      " 1.732 2.646 2.236 2.449 2.646 2.646 1.732 1.414 2.    1.    1.414 2.236\n",
      " 1.414 1.414 1.414 2.449 1.732 0.    1.414 0.    2.    2.    1.414 1.732\n",
      " 0.    3.317 1.414 4.    2.    1.414 1.732 2.236 2.646 0.    1.    2.\n",
      " 1.414 3.742 1.414 2.449 1.414 3.    0.    1.732 1.    2.236 1.732 1.732\n",
      " 1.    3.    0.    1.    1.    1.    0.    0.    2.    2.    5.657 0.\n",
      " 0.    1.732 0.    2.236 1.    0.    0.    2.449 2.646 4.796 1.732 0.\n",
      " 3.742 0.    2.449 3.162 1.    1.414 2.    2.    1.414 2.449 1.414 1.\n",
      " 3.464 0.    2.449 1.732 1.    2.828 2.828 1.    2.    0.    1.414 1.414\n",
      " 2.646 2.236 3.464 0.    1.414 2.236 1.414 0.    1.732 2.646 2.    2.\n",
      " 0.    1.414 2.236 2.449 2.    1.    4.123 0.    1.414 0.    4.    1.414\n",
      " 3.    0.    1.    2.    1.    2.449 1.414 0.    0.    1.    1.732 1.732\n",
      " 2.236 1.    1.414 0.    2.    0.    1.414 1.    0.    2.828 1.    1.\n",
      " 1.732 2.449 2.646]\n"
     ]
    }
   ],
   "source": [
    "similarity_ts= neighbors_k_ts\n",
    "cpd_AD=similarity_ts[0,:]\n",
    "cpd_value = np.round(cpd_AD, 3)\n",
    "print(cpd_value)"
   ]
  },
  {
   "cell_type": "code",
   "execution_count": 186,
   "metadata": {},
   "outputs": [
    {
     "name": "stdout",
     "output_type": "stream",
     "text": [
      "[ True False False  True  True  True  True  True False  True False  True\n",
      "  True  True  True  True  True False False  True  True False False  True\n",
      "  True  True False  True  True  True False  True False  True  True  True\n",
      "  True  True  True  True  True False False  True  True  True False False\n",
      "  True  True  True False  True  True  True False  True  True  True  True\n",
      "  True False  True False False  True False  True  True False False  True\n",
      "  True  True  True  True  True  True False False  True  True  True  True\n",
      "  True  True  True  True  True False  True False  True  True  True False\n",
      "  True False  True  True False  True  True  True  True  True False  True\n",
      "  True  True  True  True  True  True  True False  True  True  True  True\n",
      " False False False  True False False  True  True  True False  True False\n",
      "  True False  True  True  True  True  True  True False  True  True  True\n",
      "  True  True  True  True  True False  True  True  True  True False False\n",
      "  True  True  True  True  True  True  True  True  True  True  True  True\n",
      "  True  True  True  True  True  True  True  True False False  True  True\n",
      "  True False False  True  True  True  True  True  True  True  True  True\n",
      "  True  True  True  True False  True  True  True False  True  True  True\n",
      "  True False  True False False False  True  True  True  True  True  True\n",
      "  True  True  True False  True  True  True  True  True  True  True  True\n",
      "  True False  True False  True  True  True  True False  True  True  True\n",
      "  True False  True False  True False  True  True  True  True  True  True\n",
      "  True False  True  True  True  True  True  True  True  True False  True\n",
      "  True  True  True  True  True  True  True False False False  True  True\n",
      " False  True False False  True  True  True  True  True False  True  True\n",
      " False  True False  True  True False False  True  True  True  True  True\n",
      " False  True False  True  True  True  True  True  True False  True  True\n",
      "  True  True  True False  True  True False  True  True  True False  True\n",
      " False  True  True  True  True False  True  True  True  True  True  True\n",
      "  True  True  True  True  True  True  True  True  True False  True  True\n",
      "  True False False]\n"
     ]
    }
   ],
   "source": [
    "cpd_AD = np.where(cpd_value <= model_AD_limit, True, False)\n",
    "print(cpd_AD)"
   ]
  },
  {
   "cell_type": "code",
   "execution_count": 187,
   "metadata": {},
   "outputs": [
    {
     "name": "stdout",
     "output_type": "stream",
     "text": [
      "Coverage =  0.76\n"
     ]
    }
   ],
   "source": [
    "print(\"Coverage = \", round(sum(cpd_AD) / len(cpd_AD), 2))"
   ]
  },
  {
   "cell_type": "code",
   "execution_count": 188,
   "metadata": {},
   "outputs": [
    {
     "name": "stdout",
     "output_type": "stream",
     "text": [
      "Indices of substances included in AD =  [  0   3   4   5   6   7   9  11  12  13  14  15  16  19  20  23  24  25\n",
      "  27  28  29  31  33  34  35  36  37  38  39  40  43  44  45  48  49  50\n",
      "  52  53  54  56  57  58  59  60  62  65  67  68  71  72  73  74  75  76\n",
      "  77  80  81  82  83  84  85  86  87  88  90  92  93  94  96  98  99 101\n",
      " 102 103 104 105 107 108 109 110 111 112 113 114 116 117 118 119 123 126\n",
      " 127 128 130 132 134 135 136 137 138 139 141 142 143 144 145 146 147 148\n",
      " 150 151 152 153 156 157 158 159 160 161 162 163 164 165 166 167 168 169\n",
      " 170 171 172 173 174 175 178 179 180 183 184 185 186 187 188 189 190 191\n",
      " 192 193 194 195 197 198 199 201 202 203 204 206 210 211 212 213 214 215\n",
      " 216 217 218 220 221 222 223 224 225 226 227 228 230 232 233 234 235 237\n",
      " 238 239 240 242 244 246 247 248 249 250 251 252 254 255 256 257 258 259\n",
      " 260 261 263 264 265 266 267 268 269 270 274 275 277 280 281 282 283 284\n",
      " 286 287 289 291 292 295 296 297 298 299 301 303 304 305 306 307 308 310\n",
      " 311 312 313 314 316 317 319 320 321 323 325 326 327 328 330 331 332 333\n",
      " 334 335 336 337 338 339 340 341 342 343 344 346 347 348]\n"
     ]
    }
   ],
   "source": [
    "print(\"Indices of substances included in AD = \", np.where(cpd_AD != 0)[0])"
   ]
  },
  {
   "cell_type": "code",
   "execution_count": 189,
   "metadata": {},
   "outputs": [],
   "source": [
    "out_Ad=list(np.where(cpd_AD == 0)[0])"
   ]
  },
  {
   "cell_type": "markdown",
   "metadata": {},
   "source": [
    "# 12. Prediction only for molecules included in  AD"
   ]
  },
  {
   "cell_type": "code",
   "execution_count": 190,
   "metadata": {},
   "outputs": [],
   "source": [
    "y_pred_svm_ad=list(y_pred_svm)"
   ]
  },
  {
   "cell_type": "code",
   "execution_count": 191,
   "metadata": {},
   "outputs": [],
   "source": [
    "y_pred_svm_ad[:] = [x for i,x in enumerate(y_pred_svm_ad) if i not in out_Ad]"
   ]
  },
  {
   "cell_type": "code",
   "execution_count": 192,
   "metadata": {},
   "outputs": [
    {
     "data": {
      "text/plain": [
       "266"
      ]
     },
     "execution_count": 192,
     "metadata": {},
     "output_type": "execute_result"
    }
   ],
   "source": [
    "len(y_pred_svm_ad)"
   ]
  },
  {
   "cell_type": "code",
   "execution_count": 193,
   "metadata": {},
   "outputs": [],
   "source": [
    "y_ts_ad=list(y_ts)"
   ]
  },
  {
   "cell_type": "code",
   "execution_count": 194,
   "metadata": {},
   "outputs": [],
   "source": [
    "y_ts_ad[:] = [x for i,x in enumerate(y_ts_ad) if i not in out_Ad]"
   ]
  },
  {
   "cell_type": "code",
   "execution_count": 195,
   "metadata": {},
   "outputs": [
    {
     "data": {
      "text/plain": [
       "266"
      ]
     },
     "execution_count": 195,
     "metadata": {},
     "output_type": "execute_result"
    }
   ],
   "source": [
    "len(y_ts_ad)"
   ]
  },
  {
   "cell_type": "code",
   "execution_count": 196,
   "metadata": {},
   "outputs": [
    {
     "data": {
      "text/plain": [
       "0.67"
      ]
     },
     "execution_count": 196,
     "metadata": {},
     "output_type": "execute_result"
    }
   ],
   "source": [
    "Q2_TS = round(r2_score(y_ts_ad, y_pred_svm_ad), 2)\n",
    "Q2_TS"
   ]
  },
  {
   "cell_type": "code",
   "execution_count": 197,
   "metadata": {},
   "outputs": [
    {
     "data": {
      "text/plain": [
       "0.7"
      ]
     },
     "execution_count": 197,
     "metadata": {},
     "output_type": "execute_result"
    }
   ],
   "source": [
    "RMSE_TS=round(np.sqrt(mean_squared_error(y_ts_ad, y_pred_svm_ad)), 2)\n",
    "RMSE_TS"
   ]
  },
  {
   "cell_type": "code",
   "execution_count": null,
   "metadata": {},
   "outputs": [],
   "source": []
  },
  {
   "cell_type": "markdown",
   "metadata": {},
   "source": [
    "## Analyzing the importance of descriptors for the GBM model"
   ]
  },
  {
   "cell_type": "code",
   "execution_count": 214,
   "metadata": {},
   "outputs": [
    {
     "data": {
      "text/html": [
       "<div>\n",
       "<style scoped>\n",
       "    .dataframe tbody tr th:only-of-type {\n",
       "        vertical-align: middle;\n",
       "    }\n",
       "\n",
       "    .dataframe tbody tr th {\n",
       "        vertical-align: top;\n",
       "    }\n",
       "\n",
       "    .dataframe thead th {\n",
       "        text-align: right;\n",
       "    }\n",
       "</style>\n",
       "<table border=\"1\" class=\"dataframe\">\n",
       "  <thead>\n",
       "    <tr style=\"text-align: right;\">\n",
       "      <th></th>\n",
       "      <th>KRFP1</th>\n",
       "      <th>KRFP2</th>\n",
       "      <th>KRFP14</th>\n",
       "      <th>KRFP16</th>\n",
       "      <th>KRFP20</th>\n",
       "      <th>KRFP92</th>\n",
       "      <th>KRFP126</th>\n",
       "      <th>KRFP297</th>\n",
       "      <th>KRFP298</th>\n",
       "      <th>KRFP302</th>\n",
       "      <th>...</th>\n",
       "      <th>KRFP4294</th>\n",
       "      <th>KRFP4295</th>\n",
       "      <th>KRFP4317</th>\n",
       "      <th>KRFP4479</th>\n",
       "      <th>KRFP4525</th>\n",
       "      <th>KRFP4695</th>\n",
       "      <th>KRFP4752</th>\n",
       "      <th>KRFP4770</th>\n",
       "      <th>KRFP4835</th>\n",
       "      <th>KRFP4843</th>\n",
       "    </tr>\n",
       "  </thead>\n",
       "  <tbody>\n",
       "    <tr>\n",
       "      <th>0</th>\n",
       "      <td>1</td>\n",
       "      <td>0</td>\n",
       "      <td>0</td>\n",
       "      <td>0</td>\n",
       "      <td>0</td>\n",
       "      <td>0</td>\n",
       "      <td>0</td>\n",
       "      <td>1</td>\n",
       "      <td>1</td>\n",
       "      <td>0</td>\n",
       "      <td>...</td>\n",
       "      <td>0</td>\n",
       "      <td>0</td>\n",
       "      <td>0</td>\n",
       "      <td>0</td>\n",
       "      <td>1</td>\n",
       "      <td>0</td>\n",
       "      <td>0</td>\n",
       "      <td>0</td>\n",
       "      <td>1</td>\n",
       "      <td>0</td>\n",
       "    </tr>\n",
       "    <tr>\n",
       "      <th>1</th>\n",
       "      <td>1</td>\n",
       "      <td>0</td>\n",
       "      <td>0</td>\n",
       "      <td>0</td>\n",
       "      <td>1</td>\n",
       "      <td>0</td>\n",
       "      <td>0</td>\n",
       "      <td>1</td>\n",
       "      <td>1</td>\n",
       "      <td>1</td>\n",
       "      <td>...</td>\n",
       "      <td>0</td>\n",
       "      <td>0</td>\n",
       "      <td>0</td>\n",
       "      <td>0</td>\n",
       "      <td>1</td>\n",
       "      <td>0</td>\n",
       "      <td>0</td>\n",
       "      <td>0</td>\n",
       "      <td>1</td>\n",
       "      <td>0</td>\n",
       "    </tr>\n",
       "    <tr>\n",
       "      <th>2</th>\n",
       "      <td>0</td>\n",
       "      <td>0</td>\n",
       "      <td>0</td>\n",
       "      <td>0</td>\n",
       "      <td>0</td>\n",
       "      <td>0</td>\n",
       "      <td>0</td>\n",
       "      <td>1</td>\n",
       "      <td>0</td>\n",
       "      <td>0</td>\n",
       "      <td>...</td>\n",
       "      <td>0</td>\n",
       "      <td>0</td>\n",
       "      <td>0</td>\n",
       "      <td>0</td>\n",
       "      <td>0</td>\n",
       "      <td>1</td>\n",
       "      <td>0</td>\n",
       "      <td>0</td>\n",
       "      <td>0</td>\n",
       "      <td>0</td>\n",
       "    </tr>\n",
       "    <tr>\n",
       "      <th>3</th>\n",
       "      <td>0</td>\n",
       "      <td>0</td>\n",
       "      <td>0</td>\n",
       "      <td>0</td>\n",
       "      <td>0</td>\n",
       "      <td>0</td>\n",
       "      <td>0</td>\n",
       "      <td>1</td>\n",
       "      <td>0</td>\n",
       "      <td>0</td>\n",
       "      <td>...</td>\n",
       "      <td>0</td>\n",
       "      <td>0</td>\n",
       "      <td>0</td>\n",
       "      <td>0</td>\n",
       "      <td>0</td>\n",
       "      <td>0</td>\n",
       "      <td>0</td>\n",
       "      <td>0</td>\n",
       "      <td>0</td>\n",
       "      <td>0</td>\n",
       "    </tr>\n",
       "    <tr>\n",
       "      <th>4</th>\n",
       "      <td>0</td>\n",
       "      <td>0</td>\n",
       "      <td>0</td>\n",
       "      <td>0</td>\n",
       "      <td>0</td>\n",
       "      <td>0</td>\n",
       "      <td>0</td>\n",
       "      <td>1</td>\n",
       "      <td>0</td>\n",
       "      <td>0</td>\n",
       "      <td>...</td>\n",
       "      <td>0</td>\n",
       "      <td>0</td>\n",
       "      <td>0</td>\n",
       "      <td>0</td>\n",
       "      <td>0</td>\n",
       "      <td>1</td>\n",
       "      <td>0</td>\n",
       "      <td>0</td>\n",
       "      <td>0</td>\n",
       "      <td>1</td>\n",
       "    </tr>\n",
       "    <tr>\n",
       "      <th>...</th>\n",
       "      <td>...</td>\n",
       "      <td>...</td>\n",
       "      <td>...</td>\n",
       "      <td>...</td>\n",
       "      <td>...</td>\n",
       "      <td>...</td>\n",
       "      <td>...</td>\n",
       "      <td>...</td>\n",
       "      <td>...</td>\n",
       "      <td>...</td>\n",
       "      <td>...</td>\n",
       "      <td>...</td>\n",
       "      <td>...</td>\n",
       "      <td>...</td>\n",
       "      <td>...</td>\n",
       "      <td>...</td>\n",
       "      <td>...</td>\n",
       "      <td>...</td>\n",
       "      <td>...</td>\n",
       "      <td>...</td>\n",
       "      <td>...</td>\n",
       "    </tr>\n",
       "    <tr>\n",
       "      <th>1395</th>\n",
       "      <td>1</td>\n",
       "      <td>0</td>\n",
       "      <td>1</td>\n",
       "      <td>1</td>\n",
       "      <td>1</td>\n",
       "      <td>1</td>\n",
       "      <td>0</td>\n",
       "      <td>1</td>\n",
       "      <td>1</td>\n",
       "      <td>0</td>\n",
       "      <td>...</td>\n",
       "      <td>0</td>\n",
       "      <td>0</td>\n",
       "      <td>0</td>\n",
       "      <td>1</td>\n",
       "      <td>0</td>\n",
       "      <td>0</td>\n",
       "      <td>0</td>\n",
       "      <td>0</td>\n",
       "      <td>0</td>\n",
       "      <td>0</td>\n",
       "    </tr>\n",
       "    <tr>\n",
       "      <th>1396</th>\n",
       "      <td>1</td>\n",
       "      <td>0</td>\n",
       "      <td>0</td>\n",
       "      <td>1</td>\n",
       "      <td>1</td>\n",
       "      <td>0</td>\n",
       "      <td>0</td>\n",
       "      <td>1</td>\n",
       "      <td>1</td>\n",
       "      <td>0</td>\n",
       "      <td>...</td>\n",
       "      <td>0</td>\n",
       "      <td>0</td>\n",
       "      <td>0</td>\n",
       "      <td>1</td>\n",
       "      <td>0</td>\n",
       "      <td>0</td>\n",
       "      <td>0</td>\n",
       "      <td>0</td>\n",
       "      <td>0</td>\n",
       "      <td>0</td>\n",
       "    </tr>\n",
       "    <tr>\n",
       "      <th>1397</th>\n",
       "      <td>1</td>\n",
       "      <td>0</td>\n",
       "      <td>0</td>\n",
       "      <td>1</td>\n",
       "      <td>1</td>\n",
       "      <td>0</td>\n",
       "      <td>0</td>\n",
       "      <td>1</td>\n",
       "      <td>1</td>\n",
       "      <td>0</td>\n",
       "      <td>...</td>\n",
       "      <td>0</td>\n",
       "      <td>0</td>\n",
       "      <td>0</td>\n",
       "      <td>1</td>\n",
       "      <td>0</td>\n",
       "      <td>0</td>\n",
       "      <td>0</td>\n",
       "      <td>0</td>\n",
       "      <td>0</td>\n",
       "      <td>0</td>\n",
       "    </tr>\n",
       "    <tr>\n",
       "      <th>1398</th>\n",
       "      <td>1</td>\n",
       "      <td>0</td>\n",
       "      <td>0</td>\n",
       "      <td>1</td>\n",
       "      <td>1</td>\n",
       "      <td>0</td>\n",
       "      <td>0</td>\n",
       "      <td>1</td>\n",
       "      <td>1</td>\n",
       "      <td>1</td>\n",
       "      <td>...</td>\n",
       "      <td>0</td>\n",
       "      <td>0</td>\n",
       "      <td>0</td>\n",
       "      <td>0</td>\n",
       "      <td>0</td>\n",
       "      <td>0</td>\n",
       "      <td>0</td>\n",
       "      <td>0</td>\n",
       "      <td>0</td>\n",
       "      <td>0</td>\n",
       "    </tr>\n",
       "    <tr>\n",
       "      <th>1399</th>\n",
       "      <td>1</td>\n",
       "      <td>0</td>\n",
       "      <td>0</td>\n",
       "      <td>1</td>\n",
       "      <td>1</td>\n",
       "      <td>0</td>\n",
       "      <td>0</td>\n",
       "      <td>1</td>\n",
       "      <td>1</td>\n",
       "      <td>0</td>\n",
       "      <td>...</td>\n",
       "      <td>0</td>\n",
       "      <td>0</td>\n",
       "      <td>0</td>\n",
       "      <td>1</td>\n",
       "      <td>0</td>\n",
       "      <td>0</td>\n",
       "      <td>0</td>\n",
       "      <td>0</td>\n",
       "      <td>0</td>\n",
       "      <td>0</td>\n",
       "    </tr>\n",
       "  </tbody>\n",
       "</table>\n",
       "<p>1400 rows × 188 columns</p>\n",
       "</div>"
      ],
      "text/plain": [
       "      KRFP1  KRFP2  KRFP14  KRFP16  KRFP20  KRFP92  KRFP126  KRFP297  KRFP298  \\\n",
       "0         1      0       0       0       0       0        0        1        1   \n",
       "1         1      0       0       0       1       0        0        1        1   \n",
       "2         0      0       0       0       0       0        0        1        0   \n",
       "3         0      0       0       0       0       0        0        1        0   \n",
       "4         0      0       0       0       0       0        0        1        0   \n",
       "...     ...    ...     ...     ...     ...     ...      ...      ...      ...   \n",
       "1395      1      0       1       1       1       1        0        1        1   \n",
       "1396      1      0       0       1       1       0        0        1        1   \n",
       "1397      1      0       0       1       1       0        0        1        1   \n",
       "1398      1      0       0       1       1       0        0        1        1   \n",
       "1399      1      0       0       1       1       0        0        1        1   \n",
       "\n",
       "      KRFP302  ...  KRFP4294  KRFP4295  KRFP4317  KRFP4479  KRFP4525  \\\n",
       "0           0  ...         0         0         0         0         1   \n",
       "1           1  ...         0         0         0         0         1   \n",
       "2           0  ...         0         0         0         0         0   \n",
       "3           0  ...         0         0         0         0         0   \n",
       "4           0  ...         0         0         0         0         0   \n",
       "...       ...  ...       ...       ...       ...       ...       ...   \n",
       "1395        0  ...         0         0         0         1         0   \n",
       "1396        0  ...         0         0         0         1         0   \n",
       "1397        0  ...         0         0         0         1         0   \n",
       "1398        1  ...         0         0         0         0         0   \n",
       "1399        0  ...         0         0         0         1         0   \n",
       "\n",
       "      KRFP4695  KRFP4752  KRFP4770  KRFP4835  KRFP4843  \n",
       "0            0         0         0         1         0  \n",
       "1            0         0         0         1         0  \n",
       "2            1         0         0         0         0  \n",
       "3            0         0         0         0         0  \n",
       "4            1         0         0         0         1  \n",
       "...        ...       ...       ...       ...       ...  \n",
       "1395         0         0         0         0         0  \n",
       "1396         0         0         0         0         0  \n",
       "1397         0         0         0         0         0  \n",
       "1398         0         0         0         0         0  \n",
       "1399         0         0         0         0         0  \n",
       "\n",
       "[1400 rows x 188 columns]"
      ]
     },
     "execution_count": 214,
     "metadata": {},
     "output_type": "execute_result"
    }
   ],
   "source": [
    "desc_for_analisis_ws=reduced_df_cor[feature_name_rfecv]\n",
    "desc_for_analisis_ws"
   ]
  },
  {
   "cell_type": "code",
   "execution_count": 233,
   "metadata": {},
   "outputs": [
    {
     "name": "stdout",
     "output_type": "stream",
     "text": [
      "KRFP3721\n"
     ]
    }
   ],
   "source": [
    "number_feature=125\n",
    "index = number_feature-1\n",
    "column_name = desc_for_analisis_ws.columns[index]\n",
    "print(column_name)"
   ]
  },
  {
   "cell_type": "code",
   "execution_count": 204,
   "metadata": {},
   "outputs": [
    {
     "data": {
      "text/plain": [
       "(1400, 188)"
      ]
     },
     "execution_count": 204,
     "metadata": {},
     "output_type": "execute_result"
    }
   ],
   "source": [
    "X_rfe.shape"
   ]
  },
  {
   "cell_type": "code",
   "execution_count": 201,
   "metadata": {},
   "outputs": [],
   "source": [
    "import shap"
   ]
  },
  {
   "cell_type": "code",
   "execution_count": 205,
   "metadata": {},
   "outputs": [],
   "source": [
    "explainer = shap.Explainer(best_GBR)"
   ]
  },
  {
   "cell_type": "code",
   "execution_count": 206,
   "metadata": {},
   "outputs": [],
   "source": [
    "shap_values = explainer(X_rfe)"
   ]
  },
  {
   "cell_type": "code",
   "execution_count": 207,
   "metadata": {},
   "outputs": [
    {
     "data": {
      "image/png": "[encoded data removed]",
      "text/plain": [
       "<Figure size 800x550 with 2 Axes>"
      ]
     },
     "metadata": {},
     "output_type": "display_data"
    }
   ],
   "source": [
    "shap.plots.beeswarm(shap_values)"
   ]
  },
  {
   "cell_type": "code",
   "execution_count": 208,
   "metadata": {},
   "outputs": [
    {
     "data": {
      "image/png": "[encoded data removed]",
      "text/plain": [
       "<Figure size 800x650 with 1 Axes>"
      ]
     },
     "metadata": {},
     "output_type": "display_data"
    }
   ],
   "source": [
    "shap.plots.bar(shap_values)"
   ]
  },
  {
   "cell_type": "code",
   "execution_count": null,
   "metadata": {},
   "outputs": [],
   "source": []
  }
 ],
 "metadata": {
  "kernelspec": {
   "display_name": "Python3 (rdkit)",
   "language": "python",
   "name": "my-rdkit-env"
  },
  "language_info": {
   "codemirror_mode": {
    "name": "ipython",
    "version": 3
   },
   "file_extension": ".py",
   "mimetype": "text/x-python",
   "name": "python",
   "nbconvert_exporter": "python",
   "pygments_lexer": "ipython3",
   "version": "3.10.12"
  }
 },
 "nbformat": 4,
 "nbformat_minor": 4
}
