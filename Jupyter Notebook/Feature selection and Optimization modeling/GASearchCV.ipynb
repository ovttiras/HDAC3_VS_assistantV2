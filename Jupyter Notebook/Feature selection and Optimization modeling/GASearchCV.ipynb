{
 "cells": [
  {
   "cell_type": "markdown",
   "id": "cd74688c-4cd8-4964-8055-98051101b738",
   "metadata": {},
   "source": [
    "# 1. Importing modules and functions"
   ]
  },
  {
   "cell_type": "code",
   "execution_count": 27,
   "id": "43de0de4-4bdb-4e6a-879b-683a7dab95b5",
   "metadata": {},
   "outputs": [],
   "source": [
    "import numpy as np\n",
    "import pandas as pd\n",
    "from rdkit import Chem, DataStructs\n",
    "from rdkit.Chem import AllChem, Descriptors\n",
    "from rdkit.ML.Descriptors import MoleculeDescriptors\n",
    "import chembl_structure_pipeline\n",
    "from molvs import standardize_smiles\n",
    "from sklearn.model_selection import KFold, GridSearchCV\n",
    "from sklearn.model_selection import permutation_test_score\n",
    "from sklearn.preprocessing import StandardScaler\n",
    "from sklearn.model_selection import cross_val_predict\n",
    "from sklearn import metrics\n",
    "from sklearn.metrics import pairwise_distances\n",
    "import joblib\n",
    "import pickle\n",
    "from numpy import savetxt\n",
    "from padelpy import from_sdf\n",
    "from IPython.display import HTML\n",
    "import matplotlib.pyplot as plt\n",
    "from sklearn.metrics import mean_squared_error\n",
    "from sklearn.metrics import mean_absolute_error\n",
    "from sklearn.metrics import r2_score\n",
    "from sklearn.ensemble import GradientBoostingRegressor\n",
    "from sklearn_genetic import GASearchCV\n",
    "from sklearn_genetic.space import Categorical, Integer, Continuous\n",
    "from sklearn.model_selection import cross_val_score\n",
    "import warnings\n",
    "warnings.filterwarnings('ignore')"
   ]
  },
  {
   "cell_type": "markdown",
   "id": "ca5ad580-80b9-4780-bd77-7796ef9e54b8",
   "metadata": {},
   "source": [
    "# 2.Data entry and curation work set"
   ]
  },
  {
   "cell_type": "code",
   "execution_count": 2,
   "id": "0b1047da-a80f-43cf-8a63-f47b1b297316",
   "metadata": {},
   "outputs": [
    {
     "name": "stdout",
     "output_type": "stream",
     "text": [
      "Original data:  1400 molecules\n",
      "Failed data:  0 molecules\n"
     ]
    },
    {
     "data": {
      "text/html": [
       "<div>\n",
       "<style scoped>\n",
       "    .dataframe tbody tr th:only-of-type {\n",
       "        vertical-align: middle;\n",
       "    }\n",
       "\n",
       "    .dataframe tbody tr th {\n",
       "        vertical-align: top;\n",
       "    }\n",
       "\n",
       "    .dataframe thead th {\n",
       "        text-align: right;\n",
       "    }\n",
       "</style>\n",
       "<table border=\"1\" class=\"dataframe\">\n",
       "  <thead>\n",
       "    <tr style=\"text-align: right;\">\n",
       "      <th></th>\n",
       "      <th>No. failed molecule in original set</th>\n",
       "      <th>SMILES of wrong structure:</th>\n",
       "    </tr>\n",
       "    <tr>\n",
       "      <th>No.</th>\n",
       "      <th></th>\n",
       "      <th></th>\n",
       "    </tr>\n",
       "  </thead>\n",
       "  <tbody>\n",
       "  </tbody>\n",
       "</table>\n",
       "</div>"
      ],
      "text/plain": [
       "Empty DataFrame\n",
       "Columns: [No. failed molecule in original set, SMILES of wrong structure: ]\n",
       "Index: []"
      ]
     },
     "execution_count": 2,
     "metadata": {},
     "output_type": "execute_result"
    }
   ],
   "source": [
    "uploaded_file_ws=\"datasets/HDAC3_work.sdf\"\n",
    "supplier_ws = Chem.ForwardSDMolSupplier(uploaded_file_ws,sanitize=False)\n",
    "failed_mols_ws = []\n",
    "all_mols_ws =[]\n",
    "wrong_structure_ws=[]\n",
    "wrong_smiles_ws=[]\n",
    "y_tr = []\n",
    "y_bad_index=[]\n",
    "\n",
    "for i, m in enumerate(supplier_ws):\n",
    "    structure = Chem.Mol(m)\n",
    "    all_mols_ws.append(structure)\n",
    "    y_tr.append(m.GetProp(\"pchembl_value_mean\"))\n",
    "    try:\n",
    "        Chem.SanitizeMol(structure)\n",
    "    except:\n",
    "        failed_mols_ws.append(m)\n",
    "        wrong_smiles_ws.append(Chem.MolToSmiles(m))\n",
    "        wrong_structure_ws.append(str(i+1))\n",
    "        y_bad_index.append(i)\n",
    "print('Original data: ', len(all_mols_ws), 'molecules')\n",
    "print('Failed data: ', len(failed_mols_ws), 'molecules')\n",
    "number_ws =[]\n",
    "for i in range(len(failed_mols_ws)):\n",
    "        number_ws.append(str(i+1))\n",
    "bad_molecules_ws = pd.DataFrame({'No. failed molecule in original set': wrong_structure_ws, 'SMILES of wrong structure: ': wrong_smiles_ws, 'No.': number_ws}, index=None)\n",
    "bad_molecules_ws = bad_molecules_ws.set_index('No.')\n",
    "bad_molecules_ws"
   ]
  },
  {
   "cell_type": "markdown",
   "id": "c70663d4-f502-41df-87a3-c98d4a7d57cb",
   "metadata": {},
   "source": [
    "deleting activity values for substances with incorrect structure"
   ]
  },
  {
   "cell_type": "code",
   "execution_count": 3,
   "id": "d6053e31-aac6-4108-8548-264204a4d150",
   "metadata": {},
   "outputs": [],
   "source": [
    "y_tr[:] = [x for i,x in enumerate(y_tr) if i not in y_bad_index]"
   ]
  },
  {
   "cell_type": "code",
   "execution_count": 4,
   "id": "d1570738-5cdc-4d1a-ac43-b180676f441f",
   "metadata": {},
   "outputs": [
    {
     "data": {
      "text/plain": [
       "1400"
      ]
     },
     "execution_count": 4,
     "metadata": {},
     "output_type": "execute_result"
    }
   ],
   "source": [
    "len(y_tr)"
   ]
  },
  {
   "cell_type": "markdown",
   "id": "feeb0e30-adc2-49f5-8478-2f06b7bc836a",
   "metadata": {},
   "source": [
    "# 3.Standardization SDF file for work set"
   ]
  },
  {
   "cell_type": "code",
   "execution_count": 5,
   "id": "1a5fb4e8-066b-4570-b288-472f2e0dba12",
   "metadata": {},
   "outputs": [
    {
     "name": "stdout",
     "output_type": "stream",
     "text": [
      "Kept data:  1400 molecules\n"
     ]
    }
   ],
   "source": [
    "all_mols_ws[:] = [x for i,x in enumerate(all_mols_ws) if i not in y_bad_index] \n",
    "records = []\n",
    "for i in range(len(all_mols_ws)):\n",
    "    record = Chem.MolToSmiles(all_mols_ws[i])\n",
    "    records.append(record)\n",
    "\n",
    "moldf_ws = []\n",
    "for i,record in enumerate(records):\n",
    "    standard_record = standardize_smiles(record)\n",
    "    m = Chem.MolFromSmiles(standard_record)\n",
    "    moldf_ws.append(m)\n",
    "    \n",
    "print('Kept data: ', len(moldf_ws), 'molecules')"
   ]
  },
  {
   "cell_type": "markdown",
   "id": "067abc92-40d2-46d6-b837-13b15cd8d0af",
   "metadata": {},
   "source": [
    "# 4.Data entry and curation test set"
   ]
  },
  {
   "cell_type": "code",
   "execution_count": 6,
   "id": "3a849485-9010-4303-91e9-7309946eccde",
   "metadata": {},
   "outputs": [
    {
     "name": "stdout",
     "output_type": "stream",
     "text": [
      "Original data:  351 molecules\n",
      "Failed data:  0 molecules\n"
     ]
    },
    {
     "data": {
      "text/html": [
       "<div>\n",
       "<style scoped>\n",
       "    .dataframe tbody tr th:only-of-type {\n",
       "        vertical-align: middle;\n",
       "    }\n",
       "\n",
       "    .dataframe tbody tr th {\n",
       "        vertical-align: top;\n",
       "    }\n",
       "\n",
       "    .dataframe thead th {\n",
       "        text-align: right;\n",
       "    }\n",
       "</style>\n",
       "<table border=\"1\" class=\"dataframe\">\n",
       "  <thead>\n",
       "    <tr style=\"text-align: right;\">\n",
       "      <th></th>\n",
       "      <th>No. failed molecule in original set</th>\n",
       "      <th>SMILES of wrong structure:</th>\n",
       "    </tr>\n",
       "    <tr>\n",
       "      <th>No.</th>\n",
       "      <th></th>\n",
       "      <th></th>\n",
       "    </tr>\n",
       "  </thead>\n",
       "  <tbody>\n",
       "  </tbody>\n",
       "</table>\n",
       "</div>"
      ],
      "text/plain": [
       "Empty DataFrame\n",
       "Columns: [No. failed molecule in original set, SMILES of wrong structure: ]\n",
       "Index: []"
      ]
     },
     "execution_count": 6,
     "metadata": {},
     "output_type": "execute_result"
    }
   ],
   "source": [
    "uploaded_file_ts=\"datasets/HDAC3_test.sdf\"\n",
    "supplier_ts = Chem.ForwardSDMolSupplier(uploaded_file_ts,sanitize=False)\n",
    "failed_mols_ts = []\n",
    "all_mols_ts =[]\n",
    "wrong_structure_ts=[]\n",
    "wrong_smiles_ts=[]\n",
    "y_ts = []\n",
    "y_bad_index=[]\n",
    "for i, m in enumerate(supplier_ts):\n",
    "    structure = Chem.Mol(m)\n",
    "    all_mols_ts.append(structure)\n",
    "    y_ts.append(m.GetProp(\"pchembl_value_mean\"))\n",
    "    try:\n",
    "        Chem.SanitizeMol(structure)\n",
    "    except:\n",
    "        failed_mols_ts.append(m)\n",
    "        wrong_smiles_ts.append(Chem.MolToSmiles(m))\n",
    "        wrong_structure_ts.append(str(i+1))\n",
    "        y_bad_index.append(i)\n",
    "print('Original data: ', len(all_mols_ts), 'molecules')\n",
    "print('Failed data: ', len(failed_mols_ts), 'molecules')\n",
    "number_ts =[]\n",
    "for i in range(len(failed_mols_ts)):\n",
    "        number_ts.append(str(i+1))\n",
    "bad_molecules_ts = pd.DataFrame({'No. failed molecule in original set': wrong_structure_ts, 'SMILES of wrong structure: ': wrong_smiles_ts, 'No.': number_ts}, index=None)\n",
    "bad_molecules_ts = bad_molecules_ts.set_index('No.')\n",
    "bad_molecules_ts"
   ]
  },
  {
   "cell_type": "markdown",
   "id": "c95ea28b-599d-4149-bb7b-89bbae0b543e",
   "metadata": {},
   "source": [
    "deleting activity values for substances with incorrect structure"
   ]
  },
  {
   "cell_type": "code",
   "execution_count": 7,
   "id": "a99c95b0-b193-4033-b992-2e737eb5a650",
   "metadata": {},
   "outputs": [],
   "source": [
    "y_ts[:] = [x for i,x in enumerate(y_ts) if i not in y_bad_index]"
   ]
  },
  {
   "cell_type": "code",
   "execution_count": 8,
   "id": "af380555-ea12-482d-b8fb-6dc691b8f6ab",
   "metadata": {},
   "outputs": [
    {
     "data": {
      "text/plain": [
       "351"
      ]
     },
     "execution_count": 8,
     "metadata": {},
     "output_type": "execute_result"
    }
   ],
   "source": [
    "len(y_ts)"
   ]
  },
  {
   "cell_type": "markdown",
   "id": "07265cf7-611b-4b5b-8a06-2fd190f84b85",
   "metadata": {},
   "source": [
    "# 5.Standardization SDF file for test set"
   ]
  },
  {
   "cell_type": "code",
   "execution_count": 9,
   "id": "ea01413e-94f5-43d7-a6cb-24c6c0308553",
   "metadata": {},
   "outputs": [
    {
     "name": "stdout",
     "output_type": "stream",
     "text": [
      "Kept data:  351 molecules\n"
     ]
    }
   ],
   "source": [
    "all_mols_ts[:] = [x for i,x in enumerate(all_mols_ts) if i not in y_bad_index] \n",
    "records = []\n",
    "for i in range(len(all_mols_ts)):\n",
    "    record = Chem.MolToSmiles(all_mols_ts[i])\n",
    "    records.append(record)\n",
    "\n",
    "moldf_ts = []\n",
    "for i,record in enumerate(records):\n",
    "    standard_record = standardize_smiles(record)\n",
    "    m = Chem.MolFromSmiles(standard_record)\n",
    "    moldf_ts.append(m)\n",
    "    \n",
    "print('Kept data: ', len(moldf_ts), 'molecules')"
   ]
  },
  {
   "cell_type": "markdown",
   "id": "9aaed104-6bc7-4af4-b7f1-7bfecbbc64d0",
   "metadata": {},
   "source": [
    "# 6.Calculation MorganFingerprint for work set"
   ]
  },
  {
   "cell_type": "code",
   "execution_count": 10,
   "id": "fb3fba09-73df-4d6e-9188-663be354e710",
   "metadata": {},
   "outputs": [],
   "source": [
    "fp_tr = [AllChem.GetMorganFingerprintAsBitVect(m, radius=2,nBits=1024,useFeatures=False,useChirality = False) for m in moldf_ws]"
   ]
  },
  {
   "cell_type": "code",
   "execution_count": 11,
   "id": "8e06e9a0-d2ea-48b5-aedb-f4675031f3ab",
   "metadata": {},
   "outputs": [],
   "source": [
    "def rdkit_numpy_convert(fp_tr):\n",
    "    output = []\n",
    "    for f in fp_tr:\n",
    "        arr = np.zeros((1,))\n",
    "        DataStructs.ConvertToNumpyArray(f, arr)\n",
    "        output.append(arr)\n",
    "    return np.asarray(output)"
   ]
  },
  {
   "cell_type": "code",
   "execution_count": 12,
   "id": "340c70b9-9100-48e0-b8c3-dd762b35c84f",
   "metadata": {},
   "outputs": [],
   "source": [
    "from numpy import savetxt\n",
    "x_tr = rdkit_numpy_convert(fp_tr)"
   ]
  },
  {
   "cell_type": "code",
   "execution_count": 13,
   "id": "99ca05a7-f0f2-4f03-a843-08916eef9f2a",
   "metadata": {},
   "outputs": [
    {
     "data": {
      "text/plain": [
       "(1400, 1024)"
      ]
     },
     "execution_count": 13,
     "metadata": {},
     "output_type": "execute_result"
    }
   ],
   "source": [
    "x_tr.shape"
   ]
  },
  {
   "cell_type": "markdown",
   "id": "58dd73c9-f400-4b14-ab10-912b47ae54fd",
   "metadata": {},
   "source": [
    "# 7.Calculation MorganFingerprint for test set"
   ]
  },
  {
   "cell_type": "code",
   "execution_count": 14,
   "id": "764b3b93-8c25-4bad-8c03-37150b475c3e",
   "metadata": {},
   "outputs": [],
   "source": [
    "fp_ts = [AllChem.GetMorganFingerprintAsBitVect(m, radius=2,nBits=1024,useFeatures=False,useChirality = False) for m in moldf_ts]"
   ]
  },
  {
   "cell_type": "code",
   "execution_count": 15,
   "id": "8dca2e7f-1e51-43c1-a302-49826789e1bf",
   "metadata": {},
   "outputs": [],
   "source": [
    "def rdkit_numpy_convert(fp_ts):\n",
    "    output = []\n",
    "    for f in fp_ts:\n",
    "        arr = np.zeros((1,))\n",
    "        DataStructs.ConvertToNumpyArray(f, arr)\n",
    "        output.append(arr)\n",
    "    return np.asarray(output)"
   ]
  },
  {
   "cell_type": "code",
   "execution_count": 16,
   "id": "0a7851f7-dc5a-40c6-b64e-eceac766bc45",
   "metadata": {},
   "outputs": [],
   "source": [
    "x_ts = rdkit_numpy_convert(fp_ts)"
   ]
  },
  {
   "cell_type": "code",
   "execution_count": 17,
   "id": "f0d2f79d-d3d5-4107-813f-98038d3c767d",
   "metadata": {},
   "outputs": [
    {
     "data": {
      "text/plain": [
       "(351, 1024)"
      ]
     },
     "execution_count": 17,
     "metadata": {},
     "output_type": "execute_result"
    }
   ],
   "source": [
    "x_ts.shape"
   ]
  },
  {
   "cell_type": "code",
   "execution_count": 18,
   "id": "b95dbe9a-192f-4b99-90da-5cdc897c16f3",
   "metadata": {},
   "outputs": [
    {
     "data": {
      "text/plain": [
       "numpy.ndarray"
      ]
     },
     "execution_count": 18,
     "metadata": {},
     "output_type": "execute_result"
    }
   ],
   "source": [
    "type(x_tr)"
   ]
  },
  {
   "cell_type": "code",
   "execution_count": 19,
   "id": "7bb76ba1-976e-48f7-8825-237da3cae5ef",
   "metadata": {},
   "outputs": [
    {
     "data": {
      "text/plain": [
       "array([[0., 1., 0., ..., 0., 0., 0.],\n",
       "       [0., 1., 0., ..., 0., 0., 0.],\n",
       "       [0., 0., 0., ..., 0., 0., 0.],\n",
       "       ...,\n",
       "       [0., 1., 0., ..., 0., 0., 0.],\n",
       "       [0., 1., 0., ..., 0., 0., 0.],\n",
       "       [0., 1., 0., ..., 0., 0., 0.]])"
      ]
     },
     "execution_count": 19,
     "metadata": {},
     "output_type": "execute_result"
    }
   ],
   "source": [
    "x_tr"
   ]
  },
  {
   "cell_type": "code",
   "execution_count": 20,
   "id": "45ca5db0-6f46-4719-825e-0f067ffb63ab",
   "metadata": {},
   "outputs": [],
   "source": [
    "x_tr = np.array(x_tr, dtype=np.float32)\n",
    "y_tr = np.array(y_tr, dtype=np.float32)"
   ]
  },
  {
   "cell_type": "code",
   "execution_count": 21,
   "id": "62514156-716c-46d4-948e-1eba907f6098",
   "metadata": {},
   "outputs": [
    {
     "data": {
      "text/plain": [
       "array([ 4.01,  4.04,  4.05, ..., 10.03, 10.06, 10.1 ], dtype=float32)"
      ]
     },
     "execution_count": 21,
     "metadata": {},
     "output_type": "execute_result"
    }
   ],
   "source": [
    "y_tr"
   ]
  },
  {
   "cell_type": "markdown",
   "id": "fb8739e3-ceff-4def-ab67-a9ca14348a94",
   "metadata": {},
   "source": [
    " ## GradientBoostingRegressor model building and validation"
   ]
  },
  {
   "cell_type": "code",
   "execution_count": 22,
   "id": "c2f18a7b-9beb-482d-8abb-1da45a038643",
   "metadata": {},
   "outputs": [],
   "source": [
    "seed = 42"
   ]
  },
  {
   "cell_type": "code",
   "execution_count": 23,
   "id": "522a84ab-bb3b-4868-bafb-058c4760af14",
   "metadata": {},
   "outputs": [],
   "source": [
    "cv=KFold(n_splits=5, random_state=seed, shuffle=True)"
   ]
  },
  {
   "cell_type": "code",
   "execution_count": 24,
   "id": "729607cb-ea38-48ac-93b3-3468bb5042a3",
   "metadata": {},
   "outputs": [],
   "source": [
    "param_grid = {'learning_rate': Continuous(0.01, 0.04),\n",
    "                  'subsample': Continuous(0.5, 0.9),\n",
    "                  'n_estimators': Integer(100, 2000),\n",
    "                  'max_depth': Integer(4, 10)\n",
    "                 }"
   ]
  },
  {
   "cell_type": "code",
   "execution_count": 25,
   "id": "3288d9d6-7625-44fa-b4ff-f504f2aeaf73",
   "metadata": {},
   "outputs": [],
   "source": [
    "evolved_estimator= GASearchCV(estimator=GradientBoostingRegressor(),\n",
    "                              cv=cv,\n",
    "                              scoring='r2',\n",
    "                              param_grid=param_grid,\n",
    "                              n_jobs=-1,\n",
    "                              verbose=True,\n",
    "                              population_size=10,\n",
    "                              generations=10)"
   ]
  },
  {
   "cell_type": "code",
   "execution_count": 26,
   "id": "33b676ef-3b7a-47dc-991d-ff47a5679acd",
   "metadata": {},
   "outputs": [
    {
     "name": "stdout",
     "output_type": "stream",
     "text": [
      "gen\tnevals\tfitness \tfitness_std\tfitness_max\tfitness_min\n",
      "0  \t10    \t0.669492\t0.0124053  \t0.680436   \t0.64039    \n",
      "1  \t20    \t0.67801 \t0.00481094 \t0.681994   \t0.668008   \n",
      "2  \t20    \t0.681688\t0.00187179 \t0.684746   \t0.678931   \n",
      "3  \t20    \t0.684023\t0.0022919  \t0.686789   \t0.679323   \n",
      "4  \t20    \t0.684922\t0.000773341\t0.686789   \t0.683464   \n",
      "5  \t20    \t0.685407\t0.000960994\t0.687711   \t0.684746   \n",
      "6  \t20    \t0.685559\t0.000707408\t0.686789   \t0.684746   \n",
      "7  \t20    \t0.685739\t0.000761736\t0.687126   \t0.685121   \n",
      "8  \t20    \t0.686405\t0.000618116\t0.687126   \t0.685154   \n",
      "9  \t20    \t0.686343\t0.000467866\t0.687126   \t0.685921   \n",
      "10 \t20    \t0.686852\t0.00132001 \t0.689097   \t0.684645   \n",
      "CPU times: total: 1min 40s\n",
      "Wall time: 3h 4min 35s\n"
     ]
    },
    {
     "data": {
      "text/html": [
       "<style>#sk-container-id-1 {color: black;}#sk-container-id-1 pre{padding: 0;}#sk-container-id-1 div.sk-toggleable {background-color: white;}#sk-container-id-1 label.sk-toggleable__label {cursor: pointer;display: block;width: 100%;margin-bottom: 0;padding: 0.3em;box-sizing: border-box;text-align: center;}#sk-container-id-1 label.sk-toggleable__label-arrow:before {content: \"▸\";float: left;margin-right: 0.25em;color: #696969;}#sk-container-id-1 label.sk-toggleable__label-arrow:hover:before {color: black;}#sk-container-id-1 div.sk-estimator:hover label.sk-toggleable__label-arrow:before {color: black;}#sk-container-id-1 div.sk-toggleable__content {max-height: 0;max-width: 0;overflow: hidden;text-align: left;background-color: #f0f8ff;}#sk-container-id-1 div.sk-toggleable__content pre {margin: 0.2em;color: black;border-radius: 0.25em;background-color: #f0f8ff;}#sk-container-id-1 input.sk-toggleable__control:checked~div.sk-toggleable__content {max-height: 200px;max-width: 100%;overflow: auto;}#sk-container-id-1 input.sk-toggleable__control:checked~label.sk-toggleable__label-arrow:before {content: \"▾\";}#sk-container-id-1 div.sk-estimator input.sk-toggleable__control:checked~label.sk-toggleable__label {background-color: #d4ebff;}#sk-container-id-1 div.sk-label input.sk-toggleable__control:checked~label.sk-toggleable__label {background-color: #d4ebff;}#sk-container-id-1 input.sk-hidden--visually {border: 0;clip: rect(1px 1px 1px 1px);clip: rect(1px, 1px, 1px, 1px);height: 1px;margin: -1px;overflow: hidden;padding: 0;position: absolute;width: 1px;}#sk-container-id-1 div.sk-estimator {font-family: monospace;background-color: #f0f8ff;border: 1px dotted black;border-radius: 0.25em;box-sizing: border-box;margin-bottom: 0.5em;}#sk-container-id-1 div.sk-estimator:hover {background-color: #d4ebff;}#sk-container-id-1 div.sk-parallel-item::after {content: \"\";width: 100%;border-bottom: 1px solid gray;flex-grow: 1;}#sk-container-id-1 div.sk-label:hover label.sk-toggleable__label {background-color: #d4ebff;}#sk-container-id-1 div.sk-serial::before {content: \"\";position: absolute;border-left: 1px solid gray;box-sizing: border-box;top: 0;bottom: 0;left: 50%;z-index: 0;}#sk-container-id-1 div.sk-serial {display: flex;flex-direction: column;align-items: center;background-color: white;padding-right: 0.2em;padding-left: 0.2em;position: relative;}#sk-container-id-1 div.sk-item {position: relative;z-index: 1;}#sk-container-id-1 div.sk-parallel {display: flex;align-items: stretch;justify-content: center;background-color: white;position: relative;}#sk-container-id-1 div.sk-item::before, #sk-container-id-1 div.sk-parallel-item::before {content: \"\";position: absolute;border-left: 1px solid gray;box-sizing: border-box;top: 0;bottom: 0;left: 50%;z-index: -1;}#sk-container-id-1 div.sk-parallel-item {display: flex;flex-direction: column;z-index: 1;position: relative;background-color: white;}#sk-container-id-1 div.sk-parallel-item:first-child::after {align-self: flex-end;width: 50%;}#sk-container-id-1 div.sk-parallel-item:last-child::after {align-self: flex-start;width: 50%;}#sk-container-id-1 div.sk-parallel-item:only-child::after {width: 0;}#sk-container-id-1 div.sk-dashed-wrapped {border: 1px dashed gray;margin: 0 0.4em 0.5em 0.4em;box-sizing: border-box;padding-bottom: 0.4em;background-color: white;}#sk-container-id-1 div.sk-label label {font-family: monospace;font-weight: bold;display: inline-block;line-height: 1.2em;}#sk-container-id-1 div.sk-label-container {text-align: center;}#sk-container-id-1 div.sk-container {/* jupyter's `normalize.less` sets `[hidden] { display: none; }` but bootstrap.min.css set `[hidden] { display: none !important; }` so we also need the `!important` here to be able to override the default hidden behavior on the sphinx rendered scikit-learn.org. See: https://github.com/scikit-learn/scikit-learn/issues/21755 */display: inline-block !important;position: relative;}#sk-container-id-1 div.sk-text-repr-fallback {display: none;}</style><div id=\"sk-container-id-1\" class=\"sk-top-container\"><div class=\"sk-text-repr-fallback\"><pre>GASearchCV(cv=KFold(n_splits=5, random_state=42, shuffle=True),\n",
       "           estimator=GradientBoostingRegressor(learning_rate=0.012188222156897334,\n",
       "                                               max_depth=10, n_estimators=1029,\n",
       "                                               subsample=0.5725587175671426),\n",
       "           generations=10, n_jobs=-1,\n",
       "           param_grid={&#x27;learning_rate&#x27;: &lt;sklearn_genetic.space.space.Continuous object at 0x0000017679539840&gt;,\n",
       "                       &#x27;max_depth&#x27;: &lt;sklearn_genetic.space.space.Integer object at 0x000001767953BEB0&gt;,\n",
       "                       &#x27;n_estimators&#x27;: &lt;sklearn_genetic.space.space.Integer object at 0x000001767953B970&gt;,\n",
       "                       &#x27;subsample&#x27;: &lt;sklearn_genetic.space.space.Continuous object at 0x000001767953B370&gt;},\n",
       "           population_size=10, return_train_score=True, scoring=&#x27;r2&#x27;,\n",
       "           warm_start_configs=[])</pre><b>In a Jupyter environment, please rerun this cell to show the HTML representation or trust the notebook. <br />On GitHub, the HTML representation is unable to render, please try loading this page with nbviewer.org.</b></div><div class=\"sk-container\" hidden><div class=\"sk-item sk-dashed-wrapped\"><div class=\"sk-label-container\"><div class=\"sk-label sk-toggleable\"><input class=\"sk-toggleable__control sk-hidden--visually\" id=\"sk-estimator-id-1\" type=\"checkbox\" ><label for=\"sk-estimator-id-1\" class=\"sk-toggleable__label sk-toggleable__label-arrow\">GASearchCV</label><div class=\"sk-toggleable__content\"><pre>GASearchCV(cv=KFold(n_splits=5, random_state=42, shuffle=True),\n",
       "           estimator=GradientBoostingRegressor(learning_rate=0.012188222156897334,\n",
       "                                               max_depth=10, n_estimators=1029,\n",
       "                                               subsample=0.5725587175671426),\n",
       "           generations=10, n_jobs=-1,\n",
       "           param_grid={&#x27;learning_rate&#x27;: &lt;sklearn_genetic.space.space.Continuous object at 0x0000017679539840&gt;,\n",
       "                       &#x27;max_depth&#x27;: &lt;sklearn_genetic.space.space.Integer object at 0x000001767953BEB0&gt;,\n",
       "                       &#x27;n_estimators&#x27;: &lt;sklearn_genetic.space.space.Integer object at 0x000001767953B970&gt;,\n",
       "                       &#x27;subsample&#x27;: &lt;sklearn_genetic.space.space.Continuous object at 0x000001767953B370&gt;},\n",
       "           population_size=10, return_train_score=True, scoring=&#x27;r2&#x27;,\n",
       "           warm_start_configs=[])</pre></div></div></div><div class=\"sk-parallel\"><div class=\"sk-parallel-item\"><div class=\"sk-item\"><div class=\"sk-label-container\"><div class=\"sk-label sk-toggleable\"><input class=\"sk-toggleable__control sk-hidden--visually\" id=\"sk-estimator-id-2\" type=\"checkbox\" ><label for=\"sk-estimator-id-2\" class=\"sk-toggleable__label sk-toggleable__label-arrow\">estimator: GradientBoostingRegressor</label><div class=\"sk-toggleable__content\"><pre>GradientBoostingRegressor(learning_rate=0.012188222156897334, max_depth=10,\n",
       "                          n_estimators=1029, subsample=0.5725587175671426)</pre></div></div></div><div class=\"sk-serial\"><div class=\"sk-item\"><div class=\"sk-estimator sk-toggleable\"><input class=\"sk-toggleable__control sk-hidden--visually\" id=\"sk-estimator-id-3\" type=\"checkbox\" ><label for=\"sk-estimator-id-3\" class=\"sk-toggleable__label sk-toggleable__label-arrow\">GradientBoostingRegressor</label><div class=\"sk-toggleable__content\"><pre>GradientBoostingRegressor(learning_rate=0.012188222156897334, max_depth=10,\n",
       "                          n_estimators=1029, subsample=0.5725587175671426)</pre></div></div></div></div></div></div></div></div></div></div>"
      ],
      "text/plain": [
       "GASearchCV(cv=KFold(n_splits=5, random_state=42, shuffle=True),\n",
       "           estimator=GradientBoostingRegressor(learning_rate=0.012188222156897334,\n",
       "                                               max_depth=10, n_estimators=1029,\n",
       "                                               subsample=0.5725587175671426),\n",
       "           generations=10, n_jobs=-1,\n",
       "           param_grid={'learning_rate': <sklearn_genetic.space.space.Continuous object at 0x0000017679539840>,\n",
       "                       'max_depth': <sklearn_genetic.space.space.Integer object at 0x000001767953BEB0>,\n",
       "                       'n_estimators': <sklearn_genetic.space.space.Integer object at 0x000001767953B970>,\n",
       "                       'subsample': <sklearn_genetic.space.space.Continuous object at 0x000001767953B370>},\n",
       "           population_size=10, return_train_score=True, scoring='r2',\n",
       "           warm_start_configs=[])"
      ]
     },
     "execution_count": 26,
     "metadata": {},
     "output_type": "execute_result"
    }
   ],
   "source": [
    "%%time\n",
    "evolved_estimator.fit(x_tr, y_tr)"
   ]
  },
  {
   "cell_type": "code",
   "execution_count": 28,
   "id": "649d6025-dc42-42d9-9945-455599bfab09",
   "metadata": {},
   "outputs": [
    {
     "name": "stdout",
     "output_type": "stream",
     "text": [
      "{'learning_rate': 0.012188222156897334, 'subsample': 0.5725587175671426, 'n_estimators': 1029, 'max_depth': 10}\n"
     ]
    }
   ],
   "source": [
    "# Best parameters found\n",
    "print(evolved_estimator.best_params_)"
   ]
  },
  {
   "cell_type": "markdown",
   "id": "b8cdde49-b69b-41d9-9984-776ae19a36a0",
   "metadata": {},
   "source": [
    "## Comparing with GridSearchCV"
   ]
  },
  {
   "cell_type": "code",
   "execution_count": 29,
   "id": "b97b644a-2941-4f7e-b451-0017d4aa2adb",
   "metadata": {},
   "outputs": [],
   "source": [
    "param_grid = {'learning_rate': [0.01, 0.04],\n",
    "                  'subsample'    : [0.9, 0.5],\n",
    "                  'n_estimators' : [100,1000, 2000],\n",
    "                  'max_depth'    : [4, 10]\n",
    "                 }"
   ]
  },
  {
   "cell_type": "code",
   "execution_count": 30,
   "id": "1a9dbddc-6a14-4cbc-9187-3012662104cc",
   "metadata": {},
   "outputs": [],
   "source": [
    "m = GridSearchCV(GradientBoostingRegressor(), param_grid, n_jobs=2, cv=cv, verbose=1)"
   ]
  },
  {
   "cell_type": "code",
   "execution_count": 31,
   "id": "20379214-0acb-423a-841e-7d602bd9dfd7",
   "metadata": {},
   "outputs": [
    {
     "name": "stdout",
     "output_type": "stream",
     "text": [
      "Fitting 5 folds for each of 24 candidates, totalling 120 fits\n",
      "CPU times: total: 1min 19s\n",
      "Wall time: 1h 20min 3s\n"
     ]
    },
    {
     "data": {
      "text/html": [
       "<style>#sk-container-id-2 {color: black;}#sk-container-id-2 pre{padding: 0;}#sk-container-id-2 div.sk-toggleable {background-color: white;}#sk-container-id-2 label.sk-toggleable__label {cursor: pointer;display: block;width: 100%;margin-bottom: 0;padding: 0.3em;box-sizing: border-box;text-align: center;}#sk-container-id-2 label.sk-toggleable__label-arrow:before {content: \"▸\";float: left;margin-right: 0.25em;color: #696969;}#sk-container-id-2 label.sk-toggleable__label-arrow:hover:before {color: black;}#sk-container-id-2 div.sk-estimator:hover label.sk-toggleable__label-arrow:before {color: black;}#sk-container-id-2 div.sk-toggleable__content {max-height: 0;max-width: 0;overflow: hidden;text-align: left;background-color: #f0f8ff;}#sk-container-id-2 div.sk-toggleable__content pre {margin: 0.2em;color: black;border-radius: 0.25em;background-color: #f0f8ff;}#sk-container-id-2 input.sk-toggleable__control:checked~div.sk-toggleable__content {max-height: 200px;max-width: 100%;overflow: auto;}#sk-container-id-2 input.sk-toggleable__control:checked~label.sk-toggleable__label-arrow:before {content: \"▾\";}#sk-container-id-2 div.sk-estimator input.sk-toggleable__control:checked~label.sk-toggleable__label {background-color: #d4ebff;}#sk-container-id-2 div.sk-label input.sk-toggleable__control:checked~label.sk-toggleable__label {background-color: #d4ebff;}#sk-container-id-2 input.sk-hidden--visually {border: 0;clip: rect(1px 1px 1px 1px);clip: rect(1px, 1px, 1px, 1px);height: 1px;margin: -1px;overflow: hidden;padding: 0;position: absolute;width: 1px;}#sk-container-id-2 div.sk-estimator {font-family: monospace;background-color: #f0f8ff;border: 1px dotted black;border-radius: 0.25em;box-sizing: border-box;margin-bottom: 0.5em;}#sk-container-id-2 div.sk-estimator:hover {background-color: #d4ebff;}#sk-container-id-2 div.sk-parallel-item::after {content: \"\";width: 100%;border-bottom: 1px solid gray;flex-grow: 1;}#sk-container-id-2 div.sk-label:hover label.sk-toggleable__label {background-color: #d4ebff;}#sk-container-id-2 div.sk-serial::before {content: \"\";position: absolute;border-left: 1px solid gray;box-sizing: border-box;top: 0;bottom: 0;left: 50%;z-index: 0;}#sk-container-id-2 div.sk-serial {display: flex;flex-direction: column;align-items: center;background-color: white;padding-right: 0.2em;padding-left: 0.2em;position: relative;}#sk-container-id-2 div.sk-item {position: relative;z-index: 1;}#sk-container-id-2 div.sk-parallel {display: flex;align-items: stretch;justify-content: center;background-color: white;position: relative;}#sk-container-id-2 div.sk-item::before, #sk-container-id-2 div.sk-parallel-item::before {content: \"\";position: absolute;border-left: 1px solid gray;box-sizing: border-box;top: 0;bottom: 0;left: 50%;z-index: -1;}#sk-container-id-2 div.sk-parallel-item {display: flex;flex-direction: column;z-index: 1;position: relative;background-color: white;}#sk-container-id-2 div.sk-parallel-item:first-child::after {align-self: flex-end;width: 50%;}#sk-container-id-2 div.sk-parallel-item:last-child::after {align-self: flex-start;width: 50%;}#sk-container-id-2 div.sk-parallel-item:only-child::after {width: 0;}#sk-container-id-2 div.sk-dashed-wrapped {border: 1px dashed gray;margin: 0 0.4em 0.5em 0.4em;box-sizing: border-box;padding-bottom: 0.4em;background-color: white;}#sk-container-id-2 div.sk-label label {font-family: monospace;font-weight: bold;display: inline-block;line-height: 1.2em;}#sk-container-id-2 div.sk-label-container {text-align: center;}#sk-container-id-2 div.sk-container {/* jupyter's `normalize.less` sets `[hidden] { display: none; }` but bootstrap.min.css set `[hidden] { display: none !important; }` so we also need the `!important` here to be able to override the default hidden behavior on the sphinx rendered scikit-learn.org. See: https://github.com/scikit-learn/scikit-learn/issues/21755 */display: inline-block !important;position: relative;}#sk-container-id-2 div.sk-text-repr-fallback {display: none;}</style><div id=\"sk-container-id-2\" class=\"sk-top-container\"><div class=\"sk-text-repr-fallback\"><pre>GridSearchCV(cv=KFold(n_splits=5, random_state=42, shuffle=True),\n",
       "             estimator=GradientBoostingRegressor(), n_jobs=2,\n",
       "             param_grid={&#x27;learning_rate&#x27;: [0.01, 0.04], &#x27;max_depth&#x27;: [4, 10],\n",
       "                         &#x27;n_estimators&#x27;: [100, 1000, 2000],\n",
       "                         &#x27;subsample&#x27;: [0.9, 0.5]},\n",
       "             verbose=1)</pre><b>In a Jupyter environment, please rerun this cell to show the HTML representation or trust the notebook. <br />On GitHub, the HTML representation is unable to render, please try loading this page with nbviewer.org.</b></div><div class=\"sk-container\" hidden><div class=\"sk-item sk-dashed-wrapped\"><div class=\"sk-label-container\"><div class=\"sk-label sk-toggleable\"><input class=\"sk-toggleable__control sk-hidden--visually\" id=\"sk-estimator-id-4\" type=\"checkbox\" ><label for=\"sk-estimator-id-4\" class=\"sk-toggleable__label sk-toggleable__label-arrow\">GridSearchCV</label><div class=\"sk-toggleable__content\"><pre>GridSearchCV(cv=KFold(n_splits=5, random_state=42, shuffle=True),\n",
       "             estimator=GradientBoostingRegressor(), n_jobs=2,\n",
       "             param_grid={&#x27;learning_rate&#x27;: [0.01, 0.04], &#x27;max_depth&#x27;: [4, 10],\n",
       "                         &#x27;n_estimators&#x27;: [100, 1000, 2000],\n",
       "                         &#x27;subsample&#x27;: [0.9, 0.5]},\n",
       "             verbose=1)</pre></div></div></div><div class=\"sk-parallel\"><div class=\"sk-parallel-item\"><div class=\"sk-item\"><div class=\"sk-label-container\"><div class=\"sk-label sk-toggleable\"><input class=\"sk-toggleable__control sk-hidden--visually\" id=\"sk-estimator-id-5\" type=\"checkbox\" ><label for=\"sk-estimator-id-5\" class=\"sk-toggleable__label sk-toggleable__label-arrow\">estimator: GradientBoostingRegressor</label><div class=\"sk-toggleable__content\"><pre>GradientBoostingRegressor()</pre></div></div></div><div class=\"sk-serial\"><div class=\"sk-item\"><div class=\"sk-estimator sk-toggleable\"><input class=\"sk-toggleable__control sk-hidden--visually\" id=\"sk-estimator-id-6\" type=\"checkbox\" ><label for=\"sk-estimator-id-6\" class=\"sk-toggleable__label sk-toggleable__label-arrow\">GradientBoostingRegressor</label><div class=\"sk-toggleable__content\"><pre>GradientBoostingRegressor()</pre></div></div></div></div></div></div></div></div></div></div>"
      ],
      "text/plain": [
       "GridSearchCV(cv=KFold(n_splits=5, random_state=42, shuffle=True),\n",
       "             estimator=GradientBoostingRegressor(), n_jobs=2,\n",
       "             param_grid={'learning_rate': [0.01, 0.04], 'max_depth': [4, 10],\n",
       "                         'n_estimators': [100, 1000, 2000],\n",
       "                         'subsample': [0.9, 0.5]},\n",
       "             verbose=1)"
      ]
     },
     "execution_count": 31,
     "metadata": {},
     "output_type": "execute_result"
    }
   ],
   "source": [
    "%%time\n",
    "m.fit(x_tr, y_tr)"
   ]
  },
  {
   "cell_type": "code",
   "execution_count": 32,
   "id": "a2010bfa-6951-44db-b4cf-d4a7c667cac4",
   "metadata": {},
   "outputs": [],
   "source": [
    "best_GBR = m.best_estimator_"
   ]
  },
  {
   "cell_type": "code",
   "execution_count": 33,
   "id": "850bfa7e-8b8e-4670-b2e7-f1d351ac2791",
   "metadata": {},
   "outputs": [
    {
     "data": {
      "text/plain": [
       "{'learning_rate': 0.01,\n",
       " 'max_depth': 10,\n",
       " 'n_estimators': 2000,\n",
       " 'subsample': 0.5}"
      ]
     },
     "execution_count": 33,
     "metadata": {},
     "output_type": "execute_result"
    }
   ],
   "source": [
    "m.best_params_"
   ]
  },
  {
   "cell_type": "code",
   "execution_count": 38,
   "id": "51f82c67-e88d-424b-947a-82f140707122",
   "metadata": {},
   "outputs": [],
   "source": [
    "y_pred_CV_GBR = cross_val_predict(best_GBR, x_tr, y_tr, cv=cv, n_jobs=-1)"
   ]
  },
  {
   "cell_type": "code",
   "execution_count": 39,
   "id": "af888741-08a1-4aea-a73a-da1829e984f3",
   "metadata": {},
   "outputs": [
    {
     "data": {
      "text/plain": [
       "array([5.53896186, 6.02256925, 4.80940266, ..., 9.54505482, 7.15069989,\n",
       "       9.73646898])"
      ]
     },
     "execution_count": 39,
     "metadata": {},
     "output_type": "execute_result"
    }
   ],
   "source": [
    "y_pred_CV_GBR"
   ]
  },
  {
   "cell_type": "code",
   "execution_count": 40,
   "id": "5a2e13b6-59c3-469d-998f-e6794929cc45",
   "metadata": {},
   "outputs": [
    {
     "data": {
      "text/plain": [
       "0.69"
      ]
     },
     "execution_count": 40,
     "metadata": {},
     "output_type": "execute_result"
    }
   ],
   "source": [
    "Q2_CV = round(r2_score(y_tr, y_pred_CV_GBR), 2)\n",
    "Q2_CV"
   ]
  },
  {
   "cell_type": "code",
   "execution_count": 41,
   "id": "e07a9173-df54-418c-8d81-a53e76d5e544",
   "metadata": {},
   "outputs": [
    {
     "data": {
      "text/plain": [
       "0.67"
      ]
     },
     "execution_count": 41,
     "metadata": {},
     "output_type": "execute_result"
    }
   ],
   "source": [
    "RMSE_CV=round(np.sqrt(mean_squared_error(y_tr, y_pred_CV_GBR)), 2)\n",
    "RMSE_CV"
   ]
  },
  {
   "cell_type": "code",
   "execution_count": null,
   "id": "d78a76ce-d090-44ec-b15c-5eb91abb72c4",
   "metadata": {},
   "outputs": [],
   "source": []
  }
 ],
 "metadata": {
  "kernelspec": {
   "display_name": "Python3 (rdkit)",
   "language": "python",
   "name": "my-rdkit-env"
  },
  "language_info": {
   "codemirror_mode": {
    "name": "ipython",
    "version": 3
   },
   "file_extension": ".py",
   "mimetype": "text/x-python",
   "name": "python",
   "nbconvert_exporter": "python",
   "pygments_lexer": "ipython3",
   "version": "3.10.12"
  }
 },
 "nbformat": 4,
 "nbformat_minor": 5
}
