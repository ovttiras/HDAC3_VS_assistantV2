{
 "cells": [
  {
   "cell_type": "markdown",
   "metadata": {},
   "source": [
    "# 1. Importing modules and functions"
   ]
  },
  {
   "cell_type": "code",
   "execution_count": 3,
   "metadata": {},
   "outputs": [
    {
     "name": "stderr",
     "output_type": "stream",
     "text": [
      "[02:53:28] Initializing Normalizer\n"
     ]
    }
   ],
   "source": [
    "import numpy as np\n",
    "import pandas as pd\n",
    "from rdkit import Chem, DataStructs\n",
    "from rdkit.Chem import AllChem, Descriptors\n",
    "from rdkit.ML.Descriptors import MoleculeDescriptors\n",
    "import chembl_structure_pipeline\n",
    "from molvs import standardize_smiles\n",
    "from sklearn.model_selection import KFold, GridSearchCV\n",
    "from sklearn.model_selection import permutation_test_score\n",
    "from sklearn.preprocessing import StandardScaler\n",
    "from sklearn.model_selection import cross_val_predict\n",
    "from sklearn import metrics\n",
    "from sklearn.metrics import pairwise_distances\n",
    "import joblib\n",
    "import pickle\n",
    "from numpy import savetxt\n",
    "from padelpy import from_sdf\n",
    "from IPython.display import HTML\n",
    "import matplotlib.pyplot as plt\n",
    "from sklearn.metrics import mean_squared_error\n",
    "from sklearn.metrics import r2_score\n",
    "from sklearn.ensemble import GradientBoostingRegressor\n",
    "import warnings\n",
    "warnings.filterwarnings('ignore')"
   ]
  },
  {
   "cell_type": "markdown",
   "metadata": {},
   "source": [
    "# 2.Data entry and curation work set"
   ]
  },
  {
   "cell_type": "code",
   "execution_count": 4,
   "metadata": {},
   "outputs": [
    {
     "name": "stdout",
     "output_type": "stream",
     "text": [
      "Original data:  1400 molecules\n",
      "Failed data:  0 molecules\n"
     ]
    },
    {
     "data": {
      "text/html": [
       "<div>\n",
       "<style scoped>\n",
       "    .dataframe tbody tr th:only-of-type {\n",
       "        vertical-align: middle;\n",
       "    }\n",
       "\n",
       "    .dataframe tbody tr th {\n",
       "        vertical-align: top;\n",
       "    }\n",
       "\n",
       "    .dataframe thead th {\n",
       "        text-align: right;\n",
       "    }\n",
       "</style>\n",
       "<table border=\"1\" class=\"dataframe\">\n",
       "  <thead>\n",
       "    <tr style=\"text-align: right;\">\n",
       "      <th></th>\n",
       "      <th>No. failed molecule in original set</th>\n",
       "      <th>SMILES of wrong structure:</th>\n",
       "    </tr>\n",
       "    <tr>\n",
       "      <th>No.</th>\n",
       "      <th></th>\n",
       "      <th></th>\n",
       "    </tr>\n",
       "  </thead>\n",
       "  <tbody>\n",
       "  </tbody>\n",
       "</table>\n",
       "</div>"
      ],
      "text/plain": [
       "Empty DataFrame\n",
       "Columns: [No. failed molecule in original set, SMILES of wrong structure: ]\n",
       "Index: []"
      ]
     },
     "execution_count": 4,
     "metadata": {},
     "output_type": "execute_result"
    }
   ],
   "source": [
    "uploaded_file_ws=\"datasets/HDAC3_work.sdf\"\n",
    "supplier_ws = Chem.ForwardSDMolSupplier(uploaded_file_ws,sanitize=False)\n",
    "failed_mols_ws = []\n",
    "all_mols_ws =[]\n",
    "wrong_structure_ws=[]\n",
    "wrong_smiles_ws=[]\n",
    "y_tr = []\n",
    "y_bad_index=[]\n",
    "\n",
    "for i, m in enumerate(supplier_ws):\n",
    "    structure = Chem.Mol(m)\n",
    "    all_mols_ws.append(structure)\n",
    "    y_tr.append(m.GetProp(\"pchembl_value_mean\"))\n",
    "    try:\n",
    "        Chem.SanitizeMol(structure)\n",
    "    except:\n",
    "        failed_mols_ws.append(m)\n",
    "        wrong_smiles_ws.append(Chem.MolToSmiles(m))\n",
    "        wrong_structure_ws.append(str(i+1))\n",
    "        y_bad_index.append(i)\n",
    "print('Original data: ', len(all_mols_ws), 'molecules')\n",
    "print('Failed data: ', len(failed_mols_ws), 'molecules')\n",
    "number_ws =[]\n",
    "for i in range(len(failed_mols_ws)):\n",
    "        number_ws.append(str(i+1))\n",
    "bad_molecules_ws = pd.DataFrame({'No. failed molecule in original set': wrong_structure_ws, 'SMILES of wrong structure: ': wrong_smiles_ws, 'No.': number_ws}, index=None)\n",
    "bad_molecules_ws = bad_molecules_ws.set_index('No.')\n",
    "bad_molecules_ws"
   ]
  },
  {
   "cell_type": "markdown",
   "metadata": {},
   "source": [
    "deleting activity values for substances with incorrect structure"
   ]
  },
  {
   "cell_type": "code",
   "execution_count": 5,
   "metadata": {},
   "outputs": [],
   "source": [
    "y_tr[:] = [x for i,x in enumerate(y_tr) if i not in y_bad_index]"
   ]
  },
  {
   "cell_type": "code",
   "execution_count": 6,
   "metadata": {},
   "outputs": [
    {
     "data": {
      "text/plain": [
       "1400"
      ]
     },
     "execution_count": 6,
     "metadata": {},
     "output_type": "execute_result"
    }
   ],
   "source": [
    "len(y_tr)"
   ]
  },
  {
   "cell_type": "markdown",
   "metadata": {},
   "source": [
    "# 3.Standardization SDF file for work set"
   ]
  },
  {
   "cell_type": "code",
   "execution_count": 7,
   "metadata": {},
   "outputs": [
    {
     "name": "stdout",
     "output_type": "stream",
     "text": [
      "Kept data:  1400 molecules\n"
     ]
    }
   ],
   "source": [
    "all_mols_ws[:] = [x for i,x in enumerate(all_mols_ws) if i not in y_bad_index] \n",
    "records = []\n",
    "for i in range(len(all_mols_ws)):\n",
    "    record = Chem.MolToSmiles(all_mols_ws[i])\n",
    "    records.append(record)\n",
    "\n",
    "moldf_ws = []\n",
    "for i,record in enumerate(records):\n",
    "    standard_record = standardize_smiles(record)\n",
    "    m = Chem.MolFromSmiles(standard_record)\n",
    "    moldf_ws.append(m)\n",
    "    \n",
    "print('Kept data: ', len(moldf_ws), 'molecules')"
   ]
  },
  {
   "cell_type": "code",
   "execution_count": 6,
   "metadata": {},
   "outputs": [
    {
     "data": {
      "text/html": [
       "<div>\n",
       "<style scoped>\n",
       "    .dataframe tbody tr th:only-of-type {\n",
       "        vertical-align: middle;\n",
       "    }\n",
       "\n",
       "    .dataframe tbody tr th {\n",
       "        vertical-align: top;\n",
       "    }\n",
       "\n",
       "    .dataframe thead th {\n",
       "        text-align: right;\n",
       "    }\n",
       "</style>\n",
       "<table border=\"1\" class=\"dataframe\">\n",
       "  <thead>\n",
       "    <tr style=\"text-align: right;\">\n",
       "      <th></th>\n",
       "      <th>Mol</th>\n",
       "    </tr>\n",
       "  </thead>\n",
       "  <tbody>\n",
       "    <tr>\n",
       "      <th>0</th>\n",
       "      <td>&lt;rdkit.Chem.rdchem.Mol object at 0x000001FA538...</td>\n",
       "    </tr>\n",
       "    <tr>\n",
       "      <th>1</th>\n",
       "      <td>&lt;rdkit.Chem.rdchem.Mol object at 0x000001FA10A...</td>\n",
       "    </tr>\n",
       "    <tr>\n",
       "      <th>2</th>\n",
       "      <td>&lt;rdkit.Chem.rdchem.Mol object at 0x000001FA538...</td>\n",
       "    </tr>\n",
       "    <tr>\n",
       "      <th>3</th>\n",
       "      <td>&lt;rdkit.Chem.rdchem.Mol object at 0x000001FA538...</td>\n",
       "    </tr>\n",
       "    <tr>\n",
       "      <th>4</th>\n",
       "      <td>&lt;rdkit.Chem.rdchem.Mol object at 0x000001FA538...</td>\n",
       "    </tr>\n",
       "    <tr>\n",
       "      <th>...</th>\n",
       "      <td>...</td>\n",
       "    </tr>\n",
       "    <tr>\n",
       "      <th>1395</th>\n",
       "      <td>&lt;rdkit.Chem.rdchem.Mol object at 0x000001FA558...</td>\n",
       "    </tr>\n",
       "    <tr>\n",
       "      <th>1396</th>\n",
       "      <td>&lt;rdkit.Chem.rdchem.Mol object at 0x000001FA558...</td>\n",
       "    </tr>\n",
       "    <tr>\n",
       "      <th>1397</th>\n",
       "      <td>&lt;rdkit.Chem.rdchem.Mol object at 0x000001FA558...</td>\n",
       "    </tr>\n",
       "    <tr>\n",
       "      <th>1398</th>\n",
       "      <td>&lt;rdkit.Chem.rdchem.Mol object at 0x000001FA558...</td>\n",
       "    </tr>\n",
       "    <tr>\n",
       "      <th>1399</th>\n",
       "      <td>&lt;rdkit.Chem.rdchem.Mol object at 0x000001FA558...</td>\n",
       "    </tr>\n",
       "  </tbody>\n",
       "</table>\n",
       "<p>1400 rows × 1 columns</p>\n",
       "</div>"
      ],
      "text/plain": [
       "                                                    Mol\n",
       "0     <rdkit.Chem.rdchem.Mol object at 0x000001FA538...\n",
       "1     <rdkit.Chem.rdchem.Mol object at 0x000001FA10A...\n",
       "2     <rdkit.Chem.rdchem.Mol object at 0x000001FA538...\n",
       "3     <rdkit.Chem.rdchem.Mol object at 0x000001FA538...\n",
       "4     <rdkit.Chem.rdchem.Mol object at 0x000001FA538...\n",
       "...                                                 ...\n",
       "1395  <rdkit.Chem.rdchem.Mol object at 0x000001FA558...\n",
       "1396  <rdkit.Chem.rdchem.Mol object at 0x000001FA558...\n",
       "1397  <rdkit.Chem.rdchem.Mol object at 0x000001FA558...\n",
       "1398  <rdkit.Chem.rdchem.Mol object at 0x000001FA558...\n",
       "1399  <rdkit.Chem.rdchem.Mol object at 0x000001FA558...\n",
       "\n",
       "[1400 rows x 1 columns]"
      ]
     },
     "execution_count": 6,
     "metadata": {},
     "output_type": "execute_result"
    }
   ],
   "source": [
    "moldf_ws=pd.DataFrame(moldf_ws, columns=['Mol'])\n",
    "moldf_ws"
   ]
  },
  {
   "cell_type": "markdown",
   "metadata": {},
   "source": [
    "# 4.Data entry and curation test set"
   ]
  },
  {
   "cell_type": "code",
   "execution_count": 7,
   "metadata": {},
   "outputs": [
    {
     "name": "stdout",
     "output_type": "stream",
     "text": [
      "Original data:  351 molecules\n",
      "Failed data:  0 molecules\n"
     ]
    },
    {
     "data": {
      "text/html": [
       "<div>\n",
       "<style scoped>\n",
       "    .dataframe tbody tr th:only-of-type {\n",
       "        vertical-align: middle;\n",
       "    }\n",
       "\n",
       "    .dataframe tbody tr th {\n",
       "        vertical-align: top;\n",
       "    }\n",
       "\n",
       "    .dataframe thead th {\n",
       "        text-align: right;\n",
       "    }\n",
       "</style>\n",
       "<table border=\"1\" class=\"dataframe\">\n",
       "  <thead>\n",
       "    <tr style=\"text-align: right;\">\n",
       "      <th></th>\n",
       "      <th>No. failed molecule in original set</th>\n",
       "      <th>SMILES of wrong structure:</th>\n",
       "    </tr>\n",
       "    <tr>\n",
       "      <th>No.</th>\n",
       "      <th></th>\n",
       "      <th></th>\n",
       "    </tr>\n",
       "  </thead>\n",
       "  <tbody>\n",
       "  </tbody>\n",
       "</table>\n",
       "</div>"
      ],
      "text/plain": [
       "Empty DataFrame\n",
       "Columns: [No. failed molecule in original set, SMILES of wrong structure: ]\n",
       "Index: []"
      ]
     },
     "execution_count": 7,
     "metadata": {},
     "output_type": "execute_result"
    }
   ],
   "source": [
    "uploaded_file_ts=\"datasets/HDAC3_test.sdf\"\n",
    "supplier_ts = Chem.ForwardSDMolSupplier(uploaded_file_ts,sanitize=False)\n",
    "failed_mols_ts = []\n",
    "all_mols_ts =[]\n",
    "wrong_structure_ts=[]\n",
    "wrong_smiles_ts=[]\n",
    "y_ts = []\n",
    "y_bad_index=[]\n",
    "for i, m in enumerate(supplier_ts):\n",
    "    structure = Chem.Mol(m)\n",
    "    all_mols_ts.append(structure)\n",
    "    y_ts.append(m.GetProp(\"pchembl_value_mean\"))\n",
    "    try:\n",
    "        Chem.SanitizeMol(structure)\n",
    "    except:\n",
    "        failed_mols_ts.append(m)\n",
    "        wrong_smiles_ts.append(Chem.MolToSmiles(m))\n",
    "        wrong_structure_ts.append(str(i+1))\n",
    "        y_bad_index.append(i)\n",
    "print('Original data: ', len(all_mols_ts), 'molecules')\n",
    "print('Failed data: ', len(failed_mols_ts), 'molecules')\n",
    "number_ts =[]\n",
    "for i in range(len(failed_mols_ts)):\n",
    "        number_ts.append(str(i+1))\n",
    "bad_molecules_ts = pd.DataFrame({'No. failed molecule in original set': wrong_structure_ts, 'SMILES of wrong structure: ': wrong_smiles_ts, 'No.': number_ts}, index=None)\n",
    "bad_molecules_ts = bad_molecules_ts.set_index('No.')\n",
    "bad_molecules_ts"
   ]
  },
  {
   "cell_type": "markdown",
   "metadata": {},
   "source": [
    "deleting activity values for substances with incorrect structure"
   ]
  },
  {
   "cell_type": "code",
   "execution_count": 8,
   "metadata": {},
   "outputs": [],
   "source": [
    "y_ts[:] = [x for i,x in enumerate(y_ts) if i not in y_bad_index]"
   ]
  },
  {
   "cell_type": "code",
   "execution_count": 9,
   "metadata": {},
   "outputs": [
    {
     "data": {
      "text/plain": [
       "351"
      ]
     },
     "execution_count": 9,
     "metadata": {},
     "output_type": "execute_result"
    }
   ],
   "source": [
    "len(y_ts)"
   ]
  },
  {
   "cell_type": "markdown",
   "metadata": {},
   "source": [
    "# 5.Standardization SDF file for test set"
   ]
  },
  {
   "cell_type": "code",
   "execution_count": 10,
   "metadata": {},
   "outputs": [
    {
     "name": "stdout",
     "output_type": "stream",
     "text": [
      "Kept data:  351 molecules\n"
     ]
    }
   ],
   "source": [
    "all_mols_ts[:] = [x for i,x in enumerate(all_mols_ts) if i not in y_bad_index] \n",
    "records = []\n",
    "for i in range(len(all_mols_ts)):\n",
    "    record = Chem.MolToSmiles(all_mols_ts[i])\n",
    "    records.append(record)\n",
    "\n",
    "moldf_ts = []\n",
    "for i,record in enumerate(records):\n",
    "    standard_record = standardize_smiles(record)\n",
    "    m = Chem.MolFromSmiles(standard_record)\n",
    "    moldf_ts.append(m)\n",
    "    \n",
    "print('Kept data: ', len(moldf_ts), 'molecules')"
   ]
  },
  {
   "cell_type": "code",
   "execution_count": 11,
   "metadata": {},
   "outputs": [
    {
     "data": {
      "text/html": [
       "<div>\n",
       "<style scoped>\n",
       "    .dataframe tbody tr th:only-of-type {\n",
       "        vertical-align: middle;\n",
       "    }\n",
       "\n",
       "    .dataframe tbody tr th {\n",
       "        vertical-align: top;\n",
       "    }\n",
       "\n",
       "    .dataframe thead th {\n",
       "        text-align: right;\n",
       "    }\n",
       "</style>\n",
       "<table border=\"1\" class=\"dataframe\">\n",
       "  <thead>\n",
       "    <tr style=\"text-align: right;\">\n",
       "      <th></th>\n",
       "      <th>Mol</th>\n",
       "    </tr>\n",
       "  </thead>\n",
       "  <tbody>\n",
       "    <tr>\n",
       "      <th>0</th>\n",
       "      <td>&lt;rdkit.Chem.rdchem.Mol object at 0x000001FA538...</td>\n",
       "    </tr>\n",
       "    <tr>\n",
       "      <th>1</th>\n",
       "      <td>&lt;rdkit.Chem.rdchem.Mol object at 0x000001FA538...</td>\n",
       "    </tr>\n",
       "    <tr>\n",
       "      <th>2</th>\n",
       "      <td>&lt;rdkit.Chem.rdchem.Mol object at 0x000001FA538...</td>\n",
       "    </tr>\n",
       "    <tr>\n",
       "      <th>3</th>\n",
       "      <td>&lt;rdkit.Chem.rdchem.Mol object at 0x000001FA538...</td>\n",
       "    </tr>\n",
       "    <tr>\n",
       "      <th>4</th>\n",
       "      <td>&lt;rdkit.Chem.rdchem.Mol object at 0x000001FA538...</td>\n",
       "    </tr>\n",
       "    <tr>\n",
       "      <th>...</th>\n",
       "      <td>...</td>\n",
       "    </tr>\n",
       "    <tr>\n",
       "      <th>346</th>\n",
       "      <td>&lt;rdkit.Chem.rdchem.Mol object at 0x000001FA538...</td>\n",
       "    </tr>\n",
       "    <tr>\n",
       "      <th>347</th>\n",
       "      <td>&lt;rdkit.Chem.rdchem.Mol object at 0x000001FA538...</td>\n",
       "    </tr>\n",
       "    <tr>\n",
       "      <th>348</th>\n",
       "      <td>&lt;rdkit.Chem.rdchem.Mol object at 0x000001FA538...</td>\n",
       "    </tr>\n",
       "    <tr>\n",
       "      <th>349</th>\n",
       "      <td>&lt;rdkit.Chem.rdchem.Mol object at 0x000001FA538...</td>\n",
       "    </tr>\n",
       "    <tr>\n",
       "      <th>350</th>\n",
       "      <td>&lt;rdkit.Chem.rdchem.Mol object at 0x000001FA538...</td>\n",
       "    </tr>\n",
       "  </tbody>\n",
       "</table>\n",
       "<p>351 rows × 1 columns</p>\n",
       "</div>"
      ],
      "text/plain": [
       "                                                   Mol\n",
       "0    <rdkit.Chem.rdchem.Mol object at 0x000001FA538...\n",
       "1    <rdkit.Chem.rdchem.Mol object at 0x000001FA538...\n",
       "2    <rdkit.Chem.rdchem.Mol object at 0x000001FA538...\n",
       "3    <rdkit.Chem.rdchem.Mol object at 0x000001FA538...\n",
       "4    <rdkit.Chem.rdchem.Mol object at 0x000001FA538...\n",
       "..                                                 ...\n",
       "346  <rdkit.Chem.rdchem.Mol object at 0x000001FA538...\n",
       "347  <rdkit.Chem.rdchem.Mol object at 0x000001FA538...\n",
       "348  <rdkit.Chem.rdchem.Mol object at 0x000001FA538...\n",
       "349  <rdkit.Chem.rdchem.Mol object at 0x000001FA538...\n",
       "350  <rdkit.Chem.rdchem.Mol object at 0x000001FA538...\n",
       "\n",
       "[351 rows x 1 columns]"
      ]
     },
     "execution_count": 11,
     "metadata": {},
     "output_type": "execute_result"
    }
   ],
   "source": [
    "moldf_ts=pd.DataFrame(moldf_ts, columns=['Mol'])\n",
    "moldf_ts"
   ]
  },
  {
   "cell_type": "markdown",
   "metadata": {},
   "source": [
    "# 6.Calculation MorganFingerprint for work set"
   ]
  },
  {
   "cell_type": "code",
   "execution_count": 12,
   "metadata": {},
   "outputs": [
    {
     "data": {
      "text/html": [
       "<div>\n",
       "<style scoped>\n",
       "    .dataframe tbody tr th:only-of-type {\n",
       "        vertical-align: middle;\n",
       "    }\n",
       "\n",
       "    .dataframe tbody tr th {\n",
       "        vertical-align: top;\n",
       "    }\n",
       "\n",
       "    .dataframe thead th {\n",
       "        text-align: right;\n",
       "    }\n",
       "</style>\n",
       "<table border=\"1\" class=\"dataframe\">\n",
       "  <thead>\n",
       "    <tr style=\"text-align: right;\">\n",
       "      <th></th>\n",
       "      <th>Bit_0</th>\n",
       "      <th>Bit_1</th>\n",
       "      <th>Bit_2</th>\n",
       "      <th>Bit_3</th>\n",
       "      <th>Bit_4</th>\n",
       "      <th>Bit_5</th>\n",
       "      <th>Bit_6</th>\n",
       "      <th>Bit_7</th>\n",
       "      <th>Bit_8</th>\n",
       "      <th>Bit_9</th>\n",
       "      <th>...</th>\n",
       "      <th>Bit_1014</th>\n",
       "      <th>Bit_1015</th>\n",
       "      <th>Bit_1016</th>\n",
       "      <th>Bit_1017</th>\n",
       "      <th>Bit_1018</th>\n",
       "      <th>Bit_1019</th>\n",
       "      <th>Bit_1020</th>\n",
       "      <th>Bit_1021</th>\n",
       "      <th>Bit_1022</th>\n",
       "      <th>Bit_1023</th>\n",
       "    </tr>\n",
       "  </thead>\n",
       "  <tbody>\n",
       "    <tr>\n",
       "      <th>0</th>\n",
       "      <td>0</td>\n",
       "      <td>1</td>\n",
       "      <td>0</td>\n",
       "      <td>0</td>\n",
       "      <td>0</td>\n",
       "      <td>0</td>\n",
       "      <td>0</td>\n",
       "      <td>0</td>\n",
       "      <td>0</td>\n",
       "      <td>0</td>\n",
       "      <td>...</td>\n",
       "      <td>0</td>\n",
       "      <td>0</td>\n",
       "      <td>0</td>\n",
       "      <td>0</td>\n",
       "      <td>0</td>\n",
       "      <td>0</td>\n",
       "      <td>0</td>\n",
       "      <td>0</td>\n",
       "      <td>0</td>\n",
       "      <td>0</td>\n",
       "    </tr>\n",
       "    <tr>\n",
       "      <th>1</th>\n",
       "      <td>0</td>\n",
       "      <td>1</td>\n",
       "      <td>0</td>\n",
       "      <td>0</td>\n",
       "      <td>0</td>\n",
       "      <td>0</td>\n",
       "      <td>0</td>\n",
       "      <td>0</td>\n",
       "      <td>0</td>\n",
       "      <td>0</td>\n",
       "      <td>...</td>\n",
       "      <td>0</td>\n",
       "      <td>0</td>\n",
       "      <td>0</td>\n",
       "      <td>0</td>\n",
       "      <td>0</td>\n",
       "      <td>0</td>\n",
       "      <td>0</td>\n",
       "      <td>0</td>\n",
       "      <td>0</td>\n",
       "      <td>0</td>\n",
       "    </tr>\n",
       "    <tr>\n",
       "      <th>2</th>\n",
       "      <td>0</td>\n",
       "      <td>0</td>\n",
       "      <td>0</td>\n",
       "      <td>0</td>\n",
       "      <td>0</td>\n",
       "      <td>0</td>\n",
       "      <td>0</td>\n",
       "      <td>0</td>\n",
       "      <td>1</td>\n",
       "      <td>0</td>\n",
       "      <td>...</td>\n",
       "      <td>0</td>\n",
       "      <td>0</td>\n",
       "      <td>0</td>\n",
       "      <td>0</td>\n",
       "      <td>0</td>\n",
       "      <td>0</td>\n",
       "      <td>0</td>\n",
       "      <td>0</td>\n",
       "      <td>0</td>\n",
       "      <td>0</td>\n",
       "    </tr>\n",
       "    <tr>\n",
       "      <th>3</th>\n",
       "      <td>0</td>\n",
       "      <td>0</td>\n",
       "      <td>0</td>\n",
       "      <td>0</td>\n",
       "      <td>0</td>\n",
       "      <td>0</td>\n",
       "      <td>0</td>\n",
       "      <td>0</td>\n",
       "      <td>0</td>\n",
       "      <td>0</td>\n",
       "      <td>...</td>\n",
       "      <td>0</td>\n",
       "      <td>0</td>\n",
       "      <td>0</td>\n",
       "      <td>0</td>\n",
       "      <td>0</td>\n",
       "      <td>0</td>\n",
       "      <td>0</td>\n",
       "      <td>0</td>\n",
       "      <td>0</td>\n",
       "      <td>0</td>\n",
       "    </tr>\n",
       "    <tr>\n",
       "      <th>4</th>\n",
       "      <td>0</td>\n",
       "      <td>0</td>\n",
       "      <td>0</td>\n",
       "      <td>0</td>\n",
       "      <td>0</td>\n",
       "      <td>0</td>\n",
       "      <td>0</td>\n",
       "      <td>0</td>\n",
       "      <td>1</td>\n",
       "      <td>0</td>\n",
       "      <td>...</td>\n",
       "      <td>0</td>\n",
       "      <td>0</td>\n",
       "      <td>0</td>\n",
       "      <td>0</td>\n",
       "      <td>0</td>\n",
       "      <td>0</td>\n",
       "      <td>0</td>\n",
       "      <td>0</td>\n",
       "      <td>0</td>\n",
       "      <td>0</td>\n",
       "    </tr>\n",
       "    <tr>\n",
       "      <th>...</th>\n",
       "      <td>...</td>\n",
       "      <td>...</td>\n",
       "      <td>...</td>\n",
       "      <td>...</td>\n",
       "      <td>...</td>\n",
       "      <td>...</td>\n",
       "      <td>...</td>\n",
       "      <td>...</td>\n",
       "      <td>...</td>\n",
       "      <td>...</td>\n",
       "      <td>...</td>\n",
       "      <td>...</td>\n",
       "      <td>...</td>\n",
       "      <td>...</td>\n",
       "      <td>...</td>\n",
       "      <td>...</td>\n",
       "      <td>...</td>\n",
       "      <td>...</td>\n",
       "      <td>...</td>\n",
       "      <td>...</td>\n",
       "      <td>...</td>\n",
       "    </tr>\n",
       "    <tr>\n",
       "      <th>1395</th>\n",
       "      <td>0</td>\n",
       "      <td>1</td>\n",
       "      <td>0</td>\n",
       "      <td>0</td>\n",
       "      <td>0</td>\n",
       "      <td>0</td>\n",
       "      <td>0</td>\n",
       "      <td>0</td>\n",
       "      <td>0</td>\n",
       "      <td>0</td>\n",
       "      <td>...</td>\n",
       "      <td>0</td>\n",
       "      <td>0</td>\n",
       "      <td>1</td>\n",
       "      <td>0</td>\n",
       "      <td>0</td>\n",
       "      <td>1</td>\n",
       "      <td>0</td>\n",
       "      <td>0</td>\n",
       "      <td>0</td>\n",
       "      <td>0</td>\n",
       "    </tr>\n",
       "    <tr>\n",
       "      <th>1396</th>\n",
       "      <td>0</td>\n",
       "      <td>1</td>\n",
       "      <td>0</td>\n",
       "      <td>0</td>\n",
       "      <td>0</td>\n",
       "      <td>0</td>\n",
       "      <td>0</td>\n",
       "      <td>0</td>\n",
       "      <td>0</td>\n",
       "      <td>0</td>\n",
       "      <td>...</td>\n",
       "      <td>0</td>\n",
       "      <td>0</td>\n",
       "      <td>1</td>\n",
       "      <td>0</td>\n",
       "      <td>0</td>\n",
       "      <td>1</td>\n",
       "      <td>0</td>\n",
       "      <td>0</td>\n",
       "      <td>0</td>\n",
       "      <td>0</td>\n",
       "    </tr>\n",
       "    <tr>\n",
       "      <th>1397</th>\n",
       "      <td>0</td>\n",
       "      <td>1</td>\n",
       "      <td>0</td>\n",
       "      <td>0</td>\n",
       "      <td>0</td>\n",
       "      <td>0</td>\n",
       "      <td>0</td>\n",
       "      <td>0</td>\n",
       "      <td>0</td>\n",
       "      <td>0</td>\n",
       "      <td>...</td>\n",
       "      <td>0</td>\n",
       "      <td>0</td>\n",
       "      <td>1</td>\n",
       "      <td>0</td>\n",
       "      <td>0</td>\n",
       "      <td>1</td>\n",
       "      <td>0</td>\n",
       "      <td>0</td>\n",
       "      <td>0</td>\n",
       "      <td>0</td>\n",
       "    </tr>\n",
       "    <tr>\n",
       "      <th>1398</th>\n",
       "      <td>0</td>\n",
       "      <td>1</td>\n",
       "      <td>0</td>\n",
       "      <td>0</td>\n",
       "      <td>1</td>\n",
       "      <td>0</td>\n",
       "      <td>0</td>\n",
       "      <td>0</td>\n",
       "      <td>1</td>\n",
       "      <td>0</td>\n",
       "      <td>...</td>\n",
       "      <td>0</td>\n",
       "      <td>0</td>\n",
       "      <td>0</td>\n",
       "      <td>0</td>\n",
       "      <td>0</td>\n",
       "      <td>1</td>\n",
       "      <td>0</td>\n",
       "      <td>0</td>\n",
       "      <td>0</td>\n",
       "      <td>0</td>\n",
       "    </tr>\n",
       "    <tr>\n",
       "      <th>1399</th>\n",
       "      <td>0</td>\n",
       "      <td>1</td>\n",
       "      <td>0</td>\n",
       "      <td>0</td>\n",
       "      <td>0</td>\n",
       "      <td>0</td>\n",
       "      <td>0</td>\n",
       "      <td>0</td>\n",
       "      <td>0</td>\n",
       "      <td>0</td>\n",
       "      <td>...</td>\n",
       "      <td>0</td>\n",
       "      <td>0</td>\n",
       "      <td>1</td>\n",
       "      <td>0</td>\n",
       "      <td>0</td>\n",
       "      <td>1</td>\n",
       "      <td>0</td>\n",
       "      <td>0</td>\n",
       "      <td>0</td>\n",
       "      <td>0</td>\n",
       "    </tr>\n",
       "  </tbody>\n",
       "</table>\n",
       "<p>1400 rows × 1024 columns</p>\n",
       "</div>"
      ],
      "text/plain": [
       "      Bit_0  Bit_1  Bit_2  Bit_3  Bit_4  Bit_5  Bit_6  Bit_7  Bit_8  Bit_9  \\\n",
       "0         0      1      0      0      0      0      0      0      0      0   \n",
       "1         0      1      0      0      0      0      0      0      0      0   \n",
       "2         0      0      0      0      0      0      0      0      1      0   \n",
       "3         0      0      0      0      0      0      0      0      0      0   \n",
       "4         0      0      0      0      0      0      0      0      1      0   \n",
       "...     ...    ...    ...    ...    ...    ...    ...    ...    ...    ...   \n",
       "1395      0      1      0      0      0      0      0      0      0      0   \n",
       "1396      0      1      0      0      0      0      0      0      0      0   \n",
       "1397      0      1      0      0      0      0      0      0      0      0   \n",
       "1398      0      1      0      0      1      0      0      0      1      0   \n",
       "1399      0      1      0      0      0      0      0      0      0      0   \n",
       "\n",
       "      ...  Bit_1014  Bit_1015  Bit_1016  Bit_1017  Bit_1018  Bit_1019  \\\n",
       "0     ...         0         0         0         0         0         0   \n",
       "1     ...         0         0         0         0         0         0   \n",
       "2     ...         0         0         0         0         0         0   \n",
       "3     ...         0         0         0         0         0         0   \n",
       "4     ...         0         0         0         0         0         0   \n",
       "...   ...       ...       ...       ...       ...       ...       ...   \n",
       "1395  ...         0         0         1         0         0         1   \n",
       "1396  ...         0         0         1         0         0         1   \n",
       "1397  ...         0         0         1         0         0         1   \n",
       "1398  ...         0         0         0         0         0         1   \n",
       "1399  ...         0         0         1         0         0         1   \n",
       "\n",
       "      Bit_1020  Bit_1021  Bit_1022  Bit_1023  \n",
       "0            0         0         0         0  \n",
       "1            0         0         0         0  \n",
       "2            0         0         0         0  \n",
       "3            0         0         0         0  \n",
       "4            0         0         0         0  \n",
       "...        ...       ...       ...       ...  \n",
       "1395         0         0         0         0  \n",
       "1396         0         0         0         0  \n",
       "1397         0         0         0         0  \n",
       "1398         0         0         0         0  \n",
       "1399         0         0         0         0  \n",
       "\n",
       "[1400 rows x 1024 columns]"
      ]
     },
     "execution_count": 12,
     "metadata": {},
     "output_type": "execute_result"
    }
   ],
   "source": [
    "def calcfp(mol,funcFPInfo=dict(radius=2, nBits=1024, useFeatures=False, useChirality=False)):\n",
    "    fp = AllChem.GetMorganFingerprintAsBitVect(mol, **funcFPInfo)\n",
    "    fp = pd.Series(np.asarray(fp))\n",
    "    fp = fp.add_prefix('Bit_')\n",
    "    return fp\n",
    "\n",
    "# Training set\n",
    "desc_ws = moldf_ws.Mol.apply(calcfp)\n",
    "desc_ws"
   ]
  },
  {
   "cell_type": "code",
   "execution_count": 13,
   "metadata": {},
   "outputs": [
    {
     "data": {
      "text/plain": [
       "1400"
      ]
     },
     "execution_count": 13,
     "metadata": {},
     "output_type": "execute_result"
    }
   ],
   "source": [
    "y_tr = np.array(y_tr, dtype=np.float32)\n",
    "len(y_tr)"
   ]
  },
  {
   "cell_type": "markdown",
   "metadata": {},
   "source": [
    "# 7.Calculation MorganFingerprint for test set"
   ]
  },
  {
   "cell_type": "code",
   "execution_count": 14,
   "metadata": {},
   "outputs": [
    {
     "data": {
      "text/html": [
       "<div>\n",
       "<style scoped>\n",
       "    .dataframe tbody tr th:only-of-type {\n",
       "        vertical-align: middle;\n",
       "    }\n",
       "\n",
       "    .dataframe tbody tr th {\n",
       "        vertical-align: top;\n",
       "    }\n",
       "\n",
       "    .dataframe thead th {\n",
       "        text-align: right;\n",
       "    }\n",
       "</style>\n",
       "<table border=\"1\" class=\"dataframe\">\n",
       "  <thead>\n",
       "    <tr style=\"text-align: right;\">\n",
       "      <th></th>\n",
       "      <th>Bit_0</th>\n",
       "      <th>Bit_1</th>\n",
       "      <th>Bit_2</th>\n",
       "      <th>Bit_3</th>\n",
       "      <th>Bit_4</th>\n",
       "      <th>Bit_5</th>\n",
       "      <th>Bit_6</th>\n",
       "      <th>Bit_7</th>\n",
       "      <th>Bit_8</th>\n",
       "      <th>Bit_9</th>\n",
       "      <th>...</th>\n",
       "      <th>Bit_1014</th>\n",
       "      <th>Bit_1015</th>\n",
       "      <th>Bit_1016</th>\n",
       "      <th>Bit_1017</th>\n",
       "      <th>Bit_1018</th>\n",
       "      <th>Bit_1019</th>\n",
       "      <th>Bit_1020</th>\n",
       "      <th>Bit_1021</th>\n",
       "      <th>Bit_1022</th>\n",
       "      <th>Bit_1023</th>\n",
       "    </tr>\n",
       "  </thead>\n",
       "  <tbody>\n",
       "    <tr>\n",
       "      <th>0</th>\n",
       "      <td>0</td>\n",
       "      <td>1</td>\n",
       "      <td>0</td>\n",
       "      <td>0</td>\n",
       "      <td>0</td>\n",
       "      <td>0</td>\n",
       "      <td>0</td>\n",
       "      <td>0</td>\n",
       "      <td>0</td>\n",
       "      <td>0</td>\n",
       "      <td>...</td>\n",
       "      <td>0</td>\n",
       "      <td>0</td>\n",
       "      <td>0</td>\n",
       "      <td>0</td>\n",
       "      <td>0</td>\n",
       "      <td>0</td>\n",
       "      <td>0</td>\n",
       "      <td>0</td>\n",
       "      <td>0</td>\n",
       "      <td>0</td>\n",
       "    </tr>\n",
       "    <tr>\n",
       "      <th>1</th>\n",
       "      <td>0</td>\n",
       "      <td>0</td>\n",
       "      <td>0</td>\n",
       "      <td>0</td>\n",
       "      <td>0</td>\n",
       "      <td>0</td>\n",
       "      <td>0</td>\n",
       "      <td>0</td>\n",
       "      <td>0</td>\n",
       "      <td>0</td>\n",
       "      <td>...</td>\n",
       "      <td>0</td>\n",
       "      <td>0</td>\n",
       "      <td>0</td>\n",
       "      <td>0</td>\n",
       "      <td>0</td>\n",
       "      <td>0</td>\n",
       "      <td>0</td>\n",
       "      <td>0</td>\n",
       "      <td>0</td>\n",
       "      <td>0</td>\n",
       "    </tr>\n",
       "    <tr>\n",
       "      <th>2</th>\n",
       "      <td>0</td>\n",
       "      <td>0</td>\n",
       "      <td>0</td>\n",
       "      <td>0</td>\n",
       "      <td>0</td>\n",
       "      <td>0</td>\n",
       "      <td>0</td>\n",
       "      <td>0</td>\n",
       "      <td>0</td>\n",
       "      <td>0</td>\n",
       "      <td>...</td>\n",
       "      <td>0</td>\n",
       "      <td>0</td>\n",
       "      <td>0</td>\n",
       "      <td>0</td>\n",
       "      <td>0</td>\n",
       "      <td>1</td>\n",
       "      <td>0</td>\n",
       "      <td>0</td>\n",
       "      <td>0</td>\n",
       "      <td>0</td>\n",
       "    </tr>\n",
       "    <tr>\n",
       "      <th>3</th>\n",
       "      <td>0</td>\n",
       "      <td>1</td>\n",
       "      <td>0</td>\n",
       "      <td>0</td>\n",
       "      <td>0</td>\n",
       "      <td>0</td>\n",
       "      <td>0</td>\n",
       "      <td>0</td>\n",
       "      <td>0</td>\n",
       "      <td>0</td>\n",
       "      <td>...</td>\n",
       "      <td>0</td>\n",
       "      <td>0</td>\n",
       "      <td>0</td>\n",
       "      <td>0</td>\n",
       "      <td>0</td>\n",
       "      <td>0</td>\n",
       "      <td>0</td>\n",
       "      <td>0</td>\n",
       "      <td>0</td>\n",
       "      <td>0</td>\n",
       "    </tr>\n",
       "    <tr>\n",
       "      <th>4</th>\n",
       "      <td>0</td>\n",
       "      <td>0</td>\n",
       "      <td>0</td>\n",
       "      <td>0</td>\n",
       "      <td>1</td>\n",
       "      <td>0</td>\n",
       "      <td>0</td>\n",
       "      <td>0</td>\n",
       "      <td>0</td>\n",
       "      <td>0</td>\n",
       "      <td>...</td>\n",
       "      <td>0</td>\n",
       "      <td>0</td>\n",
       "      <td>0</td>\n",
       "      <td>0</td>\n",
       "      <td>0</td>\n",
       "      <td>0</td>\n",
       "      <td>1</td>\n",
       "      <td>0</td>\n",
       "      <td>0</td>\n",
       "      <td>0</td>\n",
       "    </tr>\n",
       "    <tr>\n",
       "      <th>...</th>\n",
       "      <td>...</td>\n",
       "      <td>...</td>\n",
       "      <td>...</td>\n",
       "      <td>...</td>\n",
       "      <td>...</td>\n",
       "      <td>...</td>\n",
       "      <td>...</td>\n",
       "      <td>...</td>\n",
       "      <td>...</td>\n",
       "      <td>...</td>\n",
       "      <td>...</td>\n",
       "      <td>...</td>\n",
       "      <td>...</td>\n",
       "      <td>...</td>\n",
       "      <td>...</td>\n",
       "      <td>...</td>\n",
       "      <td>...</td>\n",
       "      <td>...</td>\n",
       "      <td>...</td>\n",
       "      <td>...</td>\n",
       "      <td>...</td>\n",
       "    </tr>\n",
       "    <tr>\n",
       "      <th>346</th>\n",
       "      <td>0</td>\n",
       "      <td>1</td>\n",
       "      <td>0</td>\n",
       "      <td>0</td>\n",
       "      <td>0</td>\n",
       "      <td>0</td>\n",
       "      <td>0</td>\n",
       "      <td>0</td>\n",
       "      <td>0</td>\n",
       "      <td>0</td>\n",
       "      <td>...</td>\n",
       "      <td>0</td>\n",
       "      <td>0</td>\n",
       "      <td>1</td>\n",
       "      <td>0</td>\n",
       "      <td>0</td>\n",
       "      <td>1</td>\n",
       "      <td>0</td>\n",
       "      <td>0</td>\n",
       "      <td>0</td>\n",
       "      <td>0</td>\n",
       "    </tr>\n",
       "    <tr>\n",
       "      <th>347</th>\n",
       "      <td>0</td>\n",
       "      <td>1</td>\n",
       "      <td>0</td>\n",
       "      <td>0</td>\n",
       "      <td>0</td>\n",
       "      <td>0</td>\n",
       "      <td>0</td>\n",
       "      <td>0</td>\n",
       "      <td>0</td>\n",
       "      <td>0</td>\n",
       "      <td>...</td>\n",
       "      <td>0</td>\n",
       "      <td>0</td>\n",
       "      <td>1</td>\n",
       "      <td>0</td>\n",
       "      <td>0</td>\n",
       "      <td>1</td>\n",
       "      <td>0</td>\n",
       "      <td>0</td>\n",
       "      <td>0</td>\n",
       "      <td>0</td>\n",
       "    </tr>\n",
       "    <tr>\n",
       "      <th>348</th>\n",
       "      <td>0</td>\n",
       "      <td>1</td>\n",
       "      <td>0</td>\n",
       "      <td>0</td>\n",
       "      <td>0</td>\n",
       "      <td>0</td>\n",
       "      <td>0</td>\n",
       "      <td>0</td>\n",
       "      <td>0</td>\n",
       "      <td>0</td>\n",
       "      <td>...</td>\n",
       "      <td>0</td>\n",
       "      <td>0</td>\n",
       "      <td>1</td>\n",
       "      <td>0</td>\n",
       "      <td>0</td>\n",
       "      <td>1</td>\n",
       "      <td>0</td>\n",
       "      <td>0</td>\n",
       "      <td>0</td>\n",
       "      <td>0</td>\n",
       "    </tr>\n",
       "    <tr>\n",
       "      <th>349</th>\n",
       "      <td>0</td>\n",
       "      <td>0</td>\n",
       "      <td>1</td>\n",
       "      <td>0</td>\n",
       "      <td>1</td>\n",
       "      <td>0</td>\n",
       "      <td>0</td>\n",
       "      <td>0</td>\n",
       "      <td>0</td>\n",
       "      <td>0</td>\n",
       "      <td>...</td>\n",
       "      <td>0</td>\n",
       "      <td>0</td>\n",
       "      <td>1</td>\n",
       "      <td>0</td>\n",
       "      <td>0</td>\n",
       "      <td>1</td>\n",
       "      <td>0</td>\n",
       "      <td>0</td>\n",
       "      <td>0</td>\n",
       "      <td>0</td>\n",
       "    </tr>\n",
       "    <tr>\n",
       "      <th>350</th>\n",
       "      <td>0</td>\n",
       "      <td>0</td>\n",
       "      <td>1</td>\n",
       "      <td>0</td>\n",
       "      <td>1</td>\n",
       "      <td>0</td>\n",
       "      <td>0</td>\n",
       "      <td>0</td>\n",
       "      <td>0</td>\n",
       "      <td>0</td>\n",
       "      <td>...</td>\n",
       "      <td>0</td>\n",
       "      <td>0</td>\n",
       "      <td>1</td>\n",
       "      <td>0</td>\n",
       "      <td>0</td>\n",
       "      <td>1</td>\n",
       "      <td>0</td>\n",
       "      <td>0</td>\n",
       "      <td>0</td>\n",
       "      <td>0</td>\n",
       "    </tr>\n",
       "  </tbody>\n",
       "</table>\n",
       "<p>351 rows × 1024 columns</p>\n",
       "</div>"
      ],
      "text/plain": [
       "     Bit_0  Bit_1  Bit_2  Bit_3  Bit_4  Bit_5  Bit_6  Bit_7  Bit_8  Bit_9  \\\n",
       "0        0      1      0      0      0      0      0      0      0      0   \n",
       "1        0      0      0      0      0      0      0      0      0      0   \n",
       "2        0      0      0      0      0      0      0      0      0      0   \n",
       "3        0      1      0      0      0      0      0      0      0      0   \n",
       "4        0      0      0      0      1      0      0      0      0      0   \n",
       "..     ...    ...    ...    ...    ...    ...    ...    ...    ...    ...   \n",
       "346      0      1      0      0      0      0      0      0      0      0   \n",
       "347      0      1      0      0      0      0      0      0      0      0   \n",
       "348      0      1      0      0      0      0      0      0      0      0   \n",
       "349      0      0      1      0      1      0      0      0      0      0   \n",
       "350      0      0      1      0      1      0      0      0      0      0   \n",
       "\n",
       "     ...  Bit_1014  Bit_1015  Bit_1016  Bit_1017  Bit_1018  Bit_1019  \\\n",
       "0    ...         0         0         0         0         0         0   \n",
       "1    ...         0         0         0         0         0         0   \n",
       "2    ...         0         0         0         0         0         1   \n",
       "3    ...         0         0         0         0         0         0   \n",
       "4    ...         0         0         0         0         0         0   \n",
       "..   ...       ...       ...       ...       ...       ...       ...   \n",
       "346  ...         0         0         1         0         0         1   \n",
       "347  ...         0         0         1         0         0         1   \n",
       "348  ...         0         0         1         0         0         1   \n",
       "349  ...         0         0         1         0         0         1   \n",
       "350  ...         0         0         1         0         0         1   \n",
       "\n",
       "     Bit_1020  Bit_1021  Bit_1022  Bit_1023  \n",
       "0           0         0         0         0  \n",
       "1           0         0         0         0  \n",
       "2           0         0         0         0  \n",
       "3           0         0         0         0  \n",
       "4           1         0         0         0  \n",
       "..        ...       ...       ...       ...  \n",
       "346         0         0         0         0  \n",
       "347         0         0         0         0  \n",
       "348         0         0         0         0  \n",
       "349         0         0         0         0  \n",
       "350         0         0         0         0  \n",
       "\n",
       "[351 rows x 1024 columns]"
      ]
     },
     "execution_count": 14,
     "metadata": {},
     "output_type": "execute_result"
    }
   ],
   "source": [
    "desc_ts = moldf_ts.Mol.apply(calcfp)\n",
    "desc_ts"
   ]
  },
  {
   "cell_type": "code",
   "execution_count": 16,
   "metadata": {},
   "outputs": [],
   "source": [
    "y_ts = np.array(y_ts, dtype=np.float32)"
   ]
  },
  {
   "cell_type": "markdown",
   "metadata": {},
   "source": [
    "# BASELINE"
   ]
  },
  {
   "cell_type": "markdown",
   "metadata": {},
   "source": [
    " ## GradientBoostingRegressor model building and validation"
   ]
  },
  {
   "cell_type": "code",
   "execution_count": 22,
   "metadata": {},
   "outputs": [],
   "source": [
    "seed = 42"
   ]
  },
  {
   "cell_type": "code",
   "execution_count": 23,
   "metadata": {},
   "outputs": [],
   "source": [
    "cv=KFold(n_splits=5, random_state=seed, shuffle=True)"
   ]
  },
  {
   "cell_type": "code",
   "execution_count": 24,
   "metadata": {},
   "outputs": [],
   "source": [
    "estimator = GradientBoostingRegressor(learning_rate=0.01,subsample= 0.5, n_estimators=1000, max_depth= 10,  random_state=seed)"
   ]
  },
  {
   "cell_type": "code",
   "execution_count": 19,
   "metadata": {},
   "outputs": [
    {
     "data": {
      "text/html": [
       "<style>#sk-container-id-1 {color: black;}#sk-container-id-1 pre{padding: 0;}#sk-container-id-1 div.sk-toggleable {background-color: white;}#sk-container-id-1 label.sk-toggleable__label {cursor: pointer;display: block;width: 100%;margin-bottom: 0;padding: 0.3em;box-sizing: border-box;text-align: center;}#sk-container-id-1 label.sk-toggleable__label-arrow:before {content: \"▸\";float: left;margin-right: 0.25em;color: #696969;}#sk-container-id-1 label.sk-toggleable__label-arrow:hover:before {color: black;}#sk-container-id-1 div.sk-estimator:hover label.sk-toggleable__label-arrow:before {color: black;}#sk-container-id-1 div.sk-toggleable__content {max-height: 0;max-width: 0;overflow: hidden;text-align: left;background-color: #f0f8ff;}#sk-container-id-1 div.sk-toggleable__content pre {margin: 0.2em;color: black;border-radius: 0.25em;background-color: #f0f8ff;}#sk-container-id-1 input.sk-toggleable__control:checked~div.sk-toggleable__content {max-height: 200px;max-width: 100%;overflow: auto;}#sk-container-id-1 input.sk-toggleable__control:checked~label.sk-toggleable__label-arrow:before {content: \"▾\";}#sk-container-id-1 div.sk-estimator input.sk-toggleable__control:checked~label.sk-toggleable__label {background-color: #d4ebff;}#sk-container-id-1 div.sk-label input.sk-toggleable__control:checked~label.sk-toggleable__label {background-color: #d4ebff;}#sk-container-id-1 input.sk-hidden--visually {border: 0;clip: rect(1px 1px 1px 1px);clip: rect(1px, 1px, 1px, 1px);height: 1px;margin: -1px;overflow: hidden;padding: 0;position: absolute;width: 1px;}#sk-container-id-1 div.sk-estimator {font-family: monospace;background-color: #f0f8ff;border: 1px dotted black;border-radius: 0.25em;box-sizing: border-box;margin-bottom: 0.5em;}#sk-container-id-1 div.sk-estimator:hover {background-color: #d4ebff;}#sk-container-id-1 div.sk-parallel-item::after {content: \"\";width: 100%;border-bottom: 1px solid gray;flex-grow: 1;}#sk-container-id-1 div.sk-label:hover label.sk-toggleable__label {background-color: #d4ebff;}#sk-container-id-1 div.sk-serial::before {content: \"\";position: absolute;border-left: 1px solid gray;box-sizing: border-box;top: 0;bottom: 0;left: 50%;z-index: 0;}#sk-container-id-1 div.sk-serial {display: flex;flex-direction: column;align-items: center;background-color: white;padding-right: 0.2em;padding-left: 0.2em;position: relative;}#sk-container-id-1 div.sk-item {position: relative;z-index: 1;}#sk-container-id-1 div.sk-parallel {display: flex;align-items: stretch;justify-content: center;background-color: white;position: relative;}#sk-container-id-1 div.sk-item::before, #sk-container-id-1 div.sk-parallel-item::before {content: \"\";position: absolute;border-left: 1px solid gray;box-sizing: border-box;top: 0;bottom: 0;left: 50%;z-index: -1;}#sk-container-id-1 div.sk-parallel-item {display: flex;flex-direction: column;z-index: 1;position: relative;background-color: white;}#sk-container-id-1 div.sk-parallel-item:first-child::after {align-self: flex-end;width: 50%;}#sk-container-id-1 div.sk-parallel-item:last-child::after {align-self: flex-start;width: 50%;}#sk-container-id-1 div.sk-parallel-item:only-child::after {width: 0;}#sk-container-id-1 div.sk-dashed-wrapped {border: 1px dashed gray;margin: 0 0.4em 0.5em 0.4em;box-sizing: border-box;padding-bottom: 0.4em;background-color: white;}#sk-container-id-1 div.sk-label label {font-family: monospace;font-weight: bold;display: inline-block;line-height: 1.2em;}#sk-container-id-1 div.sk-label-container {text-align: center;}#sk-container-id-1 div.sk-container {/* jupyter's `normalize.less` sets `[hidden] { display: none; }` but bootstrap.min.css set `[hidden] { display: none !important; }` so we also need the `!important` here to be able to override the default hidden behavior on the sphinx rendered scikit-learn.org. See: https://github.com/scikit-learn/scikit-learn/issues/21755 */display: inline-block !important;position: relative;}#sk-container-id-1 div.sk-text-repr-fallback {display: none;}</style><div id=\"sk-container-id-1\" class=\"sk-top-container\"><div class=\"sk-text-repr-fallback\"><pre>GradientBoostingRegressor(learning_rate=0.01, max_depth=10, n_estimators=1000,\n",
       "                          random_state=42, subsample=0.5)</pre><b>In a Jupyter environment, please rerun this cell to show the HTML representation or trust the notebook. <br />On GitHub, the HTML representation is unable to render, please try loading this page with nbviewer.org.</b></div><div class=\"sk-container\" hidden><div class=\"sk-item\"><div class=\"sk-estimator sk-toggleable\"><input class=\"sk-toggleable__control sk-hidden--visually\" id=\"sk-estimator-id-1\" type=\"checkbox\" checked><label for=\"sk-estimator-id-1\" class=\"sk-toggleable__label sk-toggleable__label-arrow\">GradientBoostingRegressor</label><div class=\"sk-toggleable__content\"><pre>GradientBoostingRegressor(learning_rate=0.01, max_depth=10, n_estimators=1000,\n",
       "                          random_state=42, subsample=0.5)</pre></div></div></div></div></div>"
      ],
      "text/plain": [
       "GradientBoostingRegressor(learning_rate=0.01, max_depth=10, n_estimators=1000,\n",
       "                          random_state=42, subsample=0.5)"
      ]
     },
     "execution_count": 19,
     "metadata": {},
     "output_type": "execute_result"
    }
   ],
   "source": [
    "estimator.fit(desc_ws, y_tr)"
   ]
  },
  {
   "cell_type": "code",
   "execution_count": 20,
   "metadata": {},
   "outputs": [],
   "source": [
    "y_pred_CV_GBR = cross_val_predict(estimator, desc_ws, y_tr, cv=cv, n_jobs=-1)"
   ]
  },
  {
   "cell_type": "code",
   "execution_count": 21,
   "metadata": {},
   "outputs": [
    {
     "data": {
      "text/plain": [
       "0.69"
      ]
     },
     "execution_count": 21,
     "metadata": {},
     "output_type": "execute_result"
    }
   ],
   "source": [
    "Q2_CV = round(r2_score(y_tr, y_pred_CV_GBR), 2)\n",
    "Q2_CV"
   ]
  },
  {
   "cell_type": "code",
   "execution_count": 22,
   "metadata": {},
   "outputs": [
    {
     "data": {
      "text/plain": [
       "0.68"
      ]
     },
     "execution_count": 22,
     "metadata": {},
     "output_type": "execute_result"
    }
   ],
   "source": [
    "RMSE_CV=round(np.sqrt(mean_squared_error(y_tr, y_pred_CV_GBR)), 2)\n",
    "RMSE_CV"
   ]
  },
  {
   "cell_type": "markdown",
   "metadata": {},
   "source": [
    "# VarianceThreshold"
   ]
  },
  {
   "cell_type": "code",
   "execution_count": 17,
   "metadata": {},
   "outputs": [],
   "source": [
    "from sklearn.feature_selection import VarianceThreshold"
   ]
  },
  {
   "cell_type": "code",
   "execution_count": 18,
   "metadata": {},
   "outputs": [],
   "source": [
    "def variance_threshold_selector(data, threshold=0.5):\n",
    "    selector = VarianceThreshold(threshold)\n",
    "    selector.fit(data)\n",
    "    return data[data.columns[selector.get_support(indices=True)]]"
   ]
  },
  {
   "cell_type": "code",
   "execution_count": 19,
   "metadata": {},
   "outputs": [
    {
     "data": {
      "text/html": [
       "<div>\n",
       "<style scoped>\n",
       "    .dataframe tbody tr th:only-of-type {\n",
       "        vertical-align: middle;\n",
       "    }\n",
       "\n",
       "    .dataframe tbody tr th {\n",
       "        vertical-align: top;\n",
       "    }\n",
       "\n",
       "    .dataframe thead th {\n",
       "        text-align: right;\n",
       "    }\n",
       "</style>\n",
       "<table border=\"1\" class=\"dataframe\">\n",
       "  <thead>\n",
       "    <tr style=\"text-align: right;\">\n",
       "      <th></th>\n",
       "      <th>Bit_1</th>\n",
       "      <th>Bit_4</th>\n",
       "      <th>Bit_8</th>\n",
       "      <th>Bit_14</th>\n",
       "      <th>Bit_15</th>\n",
       "      <th>Bit_25</th>\n",
       "      <th>Bit_31</th>\n",
       "      <th>Bit_33</th>\n",
       "      <th>Bit_36</th>\n",
       "      <th>Bit_41</th>\n",
       "      <th>...</th>\n",
       "      <th>Bit_967</th>\n",
       "      <th>Bit_971</th>\n",
       "      <th>Bit_980</th>\n",
       "      <th>Bit_997</th>\n",
       "      <th>Bit_999</th>\n",
       "      <th>Bit_1009</th>\n",
       "      <th>Bit_1010</th>\n",
       "      <th>Bit_1016</th>\n",
       "      <th>Bit_1017</th>\n",
       "      <th>Bit_1019</th>\n",
       "    </tr>\n",
       "  </thead>\n",
       "  <tbody>\n",
       "    <tr>\n",
       "      <th>0</th>\n",
       "      <td>1</td>\n",
       "      <td>0</td>\n",
       "      <td>0</td>\n",
       "      <td>0</td>\n",
       "      <td>0</td>\n",
       "      <td>0</td>\n",
       "      <td>0</td>\n",
       "      <td>1</td>\n",
       "      <td>0</td>\n",
       "      <td>1</td>\n",
       "      <td>...</td>\n",
       "      <td>0</td>\n",
       "      <td>0</td>\n",
       "      <td>0</td>\n",
       "      <td>0</td>\n",
       "      <td>0</td>\n",
       "      <td>0</td>\n",
       "      <td>0</td>\n",
       "      <td>0</td>\n",
       "      <td>0</td>\n",
       "      <td>0</td>\n",
       "    </tr>\n",
       "    <tr>\n",
       "      <th>1</th>\n",
       "      <td>1</td>\n",
       "      <td>0</td>\n",
       "      <td>0</td>\n",
       "      <td>0</td>\n",
       "      <td>0</td>\n",
       "      <td>0</td>\n",
       "      <td>0</td>\n",
       "      <td>0</td>\n",
       "      <td>0</td>\n",
       "      <td>1</td>\n",
       "      <td>...</td>\n",
       "      <td>0</td>\n",
       "      <td>0</td>\n",
       "      <td>0</td>\n",
       "      <td>0</td>\n",
       "      <td>0</td>\n",
       "      <td>0</td>\n",
       "      <td>0</td>\n",
       "      <td>0</td>\n",
       "      <td>0</td>\n",
       "      <td>0</td>\n",
       "    </tr>\n",
       "    <tr>\n",
       "      <th>2</th>\n",
       "      <td>0</td>\n",
       "      <td>0</td>\n",
       "      <td>1</td>\n",
       "      <td>0</td>\n",
       "      <td>1</td>\n",
       "      <td>0</td>\n",
       "      <td>0</td>\n",
       "      <td>1</td>\n",
       "      <td>0</td>\n",
       "      <td>0</td>\n",
       "      <td>...</td>\n",
       "      <td>0</td>\n",
       "      <td>0</td>\n",
       "      <td>0</td>\n",
       "      <td>0</td>\n",
       "      <td>0</td>\n",
       "      <td>0</td>\n",
       "      <td>0</td>\n",
       "      <td>0</td>\n",
       "      <td>0</td>\n",
       "      <td>0</td>\n",
       "    </tr>\n",
       "    <tr>\n",
       "      <th>3</th>\n",
       "      <td>0</td>\n",
       "      <td>0</td>\n",
       "      <td>0</td>\n",
       "      <td>0</td>\n",
       "      <td>1</td>\n",
       "      <td>0</td>\n",
       "      <td>0</td>\n",
       "      <td>1</td>\n",
       "      <td>0</td>\n",
       "      <td>1</td>\n",
       "      <td>...</td>\n",
       "      <td>0</td>\n",
       "      <td>0</td>\n",
       "      <td>0</td>\n",
       "      <td>0</td>\n",
       "      <td>0</td>\n",
       "      <td>0</td>\n",
       "      <td>0</td>\n",
       "      <td>0</td>\n",
       "      <td>0</td>\n",
       "      <td>0</td>\n",
       "    </tr>\n",
       "    <tr>\n",
       "      <th>4</th>\n",
       "      <td>0</td>\n",
       "      <td>0</td>\n",
       "      <td>1</td>\n",
       "      <td>0</td>\n",
       "      <td>0</td>\n",
       "      <td>0</td>\n",
       "      <td>0</td>\n",
       "      <td>1</td>\n",
       "      <td>0</td>\n",
       "      <td>0</td>\n",
       "      <td>...</td>\n",
       "      <td>0</td>\n",
       "      <td>0</td>\n",
       "      <td>0</td>\n",
       "      <td>0</td>\n",
       "      <td>0</td>\n",
       "      <td>0</td>\n",
       "      <td>0</td>\n",
       "      <td>0</td>\n",
       "      <td>0</td>\n",
       "      <td>0</td>\n",
       "    </tr>\n",
       "    <tr>\n",
       "      <th>...</th>\n",
       "      <td>...</td>\n",
       "      <td>...</td>\n",
       "      <td>...</td>\n",
       "      <td>...</td>\n",
       "      <td>...</td>\n",
       "      <td>...</td>\n",
       "      <td>...</td>\n",
       "      <td>...</td>\n",
       "      <td>...</td>\n",
       "      <td>...</td>\n",
       "      <td>...</td>\n",
       "      <td>...</td>\n",
       "      <td>...</td>\n",
       "      <td>...</td>\n",
       "      <td>...</td>\n",
       "      <td>...</td>\n",
       "      <td>...</td>\n",
       "      <td>...</td>\n",
       "      <td>...</td>\n",
       "      <td>...</td>\n",
       "      <td>...</td>\n",
       "    </tr>\n",
       "    <tr>\n",
       "      <th>1395</th>\n",
       "      <td>1</td>\n",
       "      <td>0</td>\n",
       "      <td>0</td>\n",
       "      <td>0</td>\n",
       "      <td>0</td>\n",
       "      <td>0</td>\n",
       "      <td>0</td>\n",
       "      <td>1</td>\n",
       "      <td>1</td>\n",
       "      <td>0</td>\n",
       "      <td>...</td>\n",
       "      <td>0</td>\n",
       "      <td>1</td>\n",
       "      <td>0</td>\n",
       "      <td>1</td>\n",
       "      <td>0</td>\n",
       "      <td>0</td>\n",
       "      <td>1</td>\n",
       "      <td>1</td>\n",
       "      <td>0</td>\n",
       "      <td>1</td>\n",
       "    </tr>\n",
       "    <tr>\n",
       "      <th>1396</th>\n",
       "      <td>1</td>\n",
       "      <td>0</td>\n",
       "      <td>0</td>\n",
       "      <td>0</td>\n",
       "      <td>0</td>\n",
       "      <td>0</td>\n",
       "      <td>0</td>\n",
       "      <td>1</td>\n",
       "      <td>1</td>\n",
       "      <td>0</td>\n",
       "      <td>...</td>\n",
       "      <td>0</td>\n",
       "      <td>1</td>\n",
       "      <td>0</td>\n",
       "      <td>1</td>\n",
       "      <td>0</td>\n",
       "      <td>0</td>\n",
       "      <td>1</td>\n",
       "      <td>1</td>\n",
       "      <td>0</td>\n",
       "      <td>1</td>\n",
       "    </tr>\n",
       "    <tr>\n",
       "      <th>1397</th>\n",
       "      <td>1</td>\n",
       "      <td>0</td>\n",
       "      <td>0</td>\n",
       "      <td>0</td>\n",
       "      <td>0</td>\n",
       "      <td>0</td>\n",
       "      <td>0</td>\n",
       "      <td>1</td>\n",
       "      <td>1</td>\n",
       "      <td>0</td>\n",
       "      <td>...</td>\n",
       "      <td>0</td>\n",
       "      <td>1</td>\n",
       "      <td>0</td>\n",
       "      <td>1</td>\n",
       "      <td>0</td>\n",
       "      <td>0</td>\n",
       "      <td>1</td>\n",
       "      <td>1</td>\n",
       "      <td>0</td>\n",
       "      <td>1</td>\n",
       "    </tr>\n",
       "    <tr>\n",
       "      <th>1398</th>\n",
       "      <td>1</td>\n",
       "      <td>1</td>\n",
       "      <td>1</td>\n",
       "      <td>0</td>\n",
       "      <td>0</td>\n",
       "      <td>0</td>\n",
       "      <td>0</td>\n",
       "      <td>1</td>\n",
       "      <td>0</td>\n",
       "      <td>0</td>\n",
       "      <td>...</td>\n",
       "      <td>0</td>\n",
       "      <td>1</td>\n",
       "      <td>0</td>\n",
       "      <td>0</td>\n",
       "      <td>0</td>\n",
       "      <td>0</td>\n",
       "      <td>0</td>\n",
       "      <td>0</td>\n",
       "      <td>0</td>\n",
       "      <td>1</td>\n",
       "    </tr>\n",
       "    <tr>\n",
       "      <th>1399</th>\n",
       "      <td>1</td>\n",
       "      <td>0</td>\n",
       "      <td>0</td>\n",
       "      <td>0</td>\n",
       "      <td>0</td>\n",
       "      <td>0</td>\n",
       "      <td>0</td>\n",
       "      <td>1</td>\n",
       "      <td>1</td>\n",
       "      <td>0</td>\n",
       "      <td>...</td>\n",
       "      <td>0</td>\n",
       "      <td>0</td>\n",
       "      <td>0</td>\n",
       "      <td>1</td>\n",
       "      <td>0</td>\n",
       "      <td>0</td>\n",
       "      <td>1</td>\n",
       "      <td>1</td>\n",
       "      <td>0</td>\n",
       "      <td>1</td>\n",
       "    </tr>\n",
       "  </tbody>\n",
       "</table>\n",
       "<p>1400 rows × 209 columns</p>\n",
       "</div>"
      ],
      "text/plain": [
       "      Bit_1  Bit_4  Bit_8  Bit_14  Bit_15  Bit_25  Bit_31  Bit_33  Bit_36  \\\n",
       "0         1      0      0       0       0       0       0       1       0   \n",
       "1         1      0      0       0       0       0       0       0       0   \n",
       "2         0      0      1       0       1       0       0       1       0   \n",
       "3         0      0      0       0       1       0       0       1       0   \n",
       "4         0      0      1       0       0       0       0       1       0   \n",
       "...     ...    ...    ...     ...     ...     ...     ...     ...     ...   \n",
       "1395      1      0      0       0       0       0       0       1       1   \n",
       "1396      1      0      0       0       0       0       0       1       1   \n",
       "1397      1      0      0       0       0       0       0       1       1   \n",
       "1398      1      1      1       0       0       0       0       1       0   \n",
       "1399      1      0      0       0       0       0       0       1       1   \n",
       "\n",
       "      Bit_41  ...  Bit_967  Bit_971  Bit_980  Bit_997  Bit_999  Bit_1009  \\\n",
       "0          1  ...        0        0        0        0        0         0   \n",
       "1          1  ...        0        0        0        0        0         0   \n",
       "2          0  ...        0        0        0        0        0         0   \n",
       "3          1  ...        0        0        0        0        0         0   \n",
       "4          0  ...        0        0        0        0        0         0   \n",
       "...      ...  ...      ...      ...      ...      ...      ...       ...   \n",
       "1395       0  ...        0        1        0        1        0         0   \n",
       "1396       0  ...        0        1        0        1        0         0   \n",
       "1397       0  ...        0        1        0        1        0         0   \n",
       "1398       0  ...        0        1        0        0        0         0   \n",
       "1399       0  ...        0        0        0        1        0         0   \n",
       "\n",
       "      Bit_1010  Bit_1016  Bit_1017  Bit_1019  \n",
       "0            0         0         0         0  \n",
       "1            0         0         0         0  \n",
       "2            0         0         0         0  \n",
       "3            0         0         0         0  \n",
       "4            0         0         0         0  \n",
       "...        ...       ...       ...       ...  \n",
       "1395         1         1         0         1  \n",
       "1396         1         1         0         1  \n",
       "1397         1         1         0         1  \n",
       "1398         0         0         0         1  \n",
       "1399         1         1         0         1  \n",
       "\n",
       "[1400 rows x 209 columns]"
      ]
     },
     "execution_count": 19,
     "metadata": {},
     "output_type": "execute_result"
    }
   ],
   "source": [
    "x_tr_const_and_nearcont=variance_threshold_selector(desc_ws, 0.05)\n",
    "x_tr_const_and_nearcont"
   ]
  },
  {
   "cell_type": "code",
   "execution_count": 25,
   "metadata": {},
   "outputs": [
    {
     "data": {
      "text/html": [
       "<style>#sk-container-id-1 {color: black;}#sk-container-id-1 pre{padding: 0;}#sk-container-id-1 div.sk-toggleable {background-color: white;}#sk-container-id-1 label.sk-toggleable__label {cursor: pointer;display: block;width: 100%;margin-bottom: 0;padding: 0.3em;box-sizing: border-box;text-align: center;}#sk-container-id-1 label.sk-toggleable__label-arrow:before {content: \"▸\";float: left;margin-right: 0.25em;color: #696969;}#sk-container-id-1 label.sk-toggleable__label-arrow:hover:before {color: black;}#sk-container-id-1 div.sk-estimator:hover label.sk-toggleable__label-arrow:before {color: black;}#sk-container-id-1 div.sk-toggleable__content {max-height: 0;max-width: 0;overflow: hidden;text-align: left;background-color: #f0f8ff;}#sk-container-id-1 div.sk-toggleable__content pre {margin: 0.2em;color: black;border-radius: 0.25em;background-color: #f0f8ff;}#sk-container-id-1 input.sk-toggleable__control:checked~div.sk-toggleable__content {max-height: 200px;max-width: 100%;overflow: auto;}#sk-container-id-1 input.sk-toggleable__control:checked~label.sk-toggleable__label-arrow:before {content: \"▾\";}#sk-container-id-1 div.sk-estimator input.sk-toggleable__control:checked~label.sk-toggleable__label {background-color: #d4ebff;}#sk-container-id-1 div.sk-label input.sk-toggleable__control:checked~label.sk-toggleable__label {background-color: #d4ebff;}#sk-container-id-1 input.sk-hidden--visually {border: 0;clip: rect(1px 1px 1px 1px);clip: rect(1px, 1px, 1px, 1px);height: 1px;margin: -1px;overflow: hidden;padding: 0;position: absolute;width: 1px;}#sk-container-id-1 div.sk-estimator {font-family: monospace;background-color: #f0f8ff;border: 1px dotted black;border-radius: 0.25em;box-sizing: border-box;margin-bottom: 0.5em;}#sk-container-id-1 div.sk-estimator:hover {background-color: #d4ebff;}#sk-container-id-1 div.sk-parallel-item::after {content: \"\";width: 100%;border-bottom: 1px solid gray;flex-grow: 1;}#sk-container-id-1 div.sk-label:hover label.sk-toggleable__label {background-color: #d4ebff;}#sk-container-id-1 div.sk-serial::before {content: \"\";position: absolute;border-left: 1px solid gray;box-sizing: border-box;top: 0;bottom: 0;left: 50%;z-index: 0;}#sk-container-id-1 div.sk-serial {display: flex;flex-direction: column;align-items: center;background-color: white;padding-right: 0.2em;padding-left: 0.2em;position: relative;}#sk-container-id-1 div.sk-item {position: relative;z-index: 1;}#sk-container-id-1 div.sk-parallel {display: flex;align-items: stretch;justify-content: center;background-color: white;position: relative;}#sk-container-id-1 div.sk-item::before, #sk-container-id-1 div.sk-parallel-item::before {content: \"\";position: absolute;border-left: 1px solid gray;box-sizing: border-box;top: 0;bottom: 0;left: 50%;z-index: -1;}#sk-container-id-1 div.sk-parallel-item {display: flex;flex-direction: column;z-index: 1;position: relative;background-color: white;}#sk-container-id-1 div.sk-parallel-item:first-child::after {align-self: flex-end;width: 50%;}#sk-container-id-1 div.sk-parallel-item:last-child::after {align-self: flex-start;width: 50%;}#sk-container-id-1 div.sk-parallel-item:only-child::after {width: 0;}#sk-container-id-1 div.sk-dashed-wrapped {border: 1px dashed gray;margin: 0 0.4em 0.5em 0.4em;box-sizing: border-box;padding-bottom: 0.4em;background-color: white;}#sk-container-id-1 div.sk-label label {font-family: monospace;font-weight: bold;display: inline-block;line-height: 1.2em;}#sk-container-id-1 div.sk-label-container {text-align: center;}#sk-container-id-1 div.sk-container {/* jupyter's `normalize.less` sets `[hidden] { display: none; }` but bootstrap.min.css set `[hidden] { display: none !important; }` so we also need the `!important` here to be able to override the default hidden behavior on the sphinx rendered scikit-learn.org. See: https://github.com/scikit-learn/scikit-learn/issues/21755 */display: inline-block !important;position: relative;}#sk-container-id-1 div.sk-text-repr-fallback {display: none;}</style><div id=\"sk-container-id-1\" class=\"sk-top-container\"><div class=\"sk-text-repr-fallback\"><pre>GradientBoostingRegressor(learning_rate=0.01, max_depth=10, n_estimators=1000,\n",
       "                          random_state=42, subsample=0.5)</pre><b>In a Jupyter environment, please rerun this cell to show the HTML representation or trust the notebook. <br />On GitHub, the HTML representation is unable to render, please try loading this page with nbviewer.org.</b></div><div class=\"sk-container\" hidden><div class=\"sk-item\"><div class=\"sk-estimator sk-toggleable\"><input class=\"sk-toggleable__control sk-hidden--visually\" id=\"sk-estimator-id-1\" type=\"checkbox\" checked><label for=\"sk-estimator-id-1\" class=\"sk-toggleable__label sk-toggleable__label-arrow\">GradientBoostingRegressor</label><div class=\"sk-toggleable__content\"><pre>GradientBoostingRegressor(learning_rate=0.01, max_depth=10, n_estimators=1000,\n",
       "                          random_state=42, subsample=0.5)</pre></div></div></div></div></div>"
      ],
      "text/plain": [
       "GradientBoostingRegressor(learning_rate=0.01, max_depth=10, n_estimators=1000,\n",
       "                          random_state=42, subsample=0.5)"
      ]
     },
     "execution_count": 25,
     "metadata": {},
     "output_type": "execute_result"
    }
   ],
   "source": [
    "estimator.fit(x_tr_const_and_nearcont, y_tr)"
   ]
  },
  {
   "cell_type": "code",
   "execution_count": 26,
   "metadata": {},
   "outputs": [],
   "source": [
    "y_pred_CV_GBR = cross_val_predict(estimator, x_tr_const_and_nearcont, y_tr, cv=cv, n_jobs=-1)"
   ]
  },
  {
   "cell_type": "code",
   "execution_count": 27,
   "metadata": {},
   "outputs": [
    {
     "data": {
      "text/plain": [
       "0.7"
      ]
     },
     "execution_count": 27,
     "metadata": {},
     "output_type": "execute_result"
    }
   ],
   "source": [
    "Q2_CV = round(r2_score(y_tr, y_pred_CV_GBR), 2)\n",
    "Q2_CV"
   ]
  },
  {
   "cell_type": "code",
   "execution_count": 28,
   "metadata": {},
   "outputs": [
    {
     "data": {
      "text/plain": [
       "0.67"
      ]
     },
     "execution_count": 28,
     "metadata": {},
     "output_type": "execute_result"
    }
   ],
   "source": [
    "RMSE_CV=round(np.sqrt(mean_squared_error(y_tr, y_pred_CV_GBR)), 2)\n",
    "RMSE_CV"
   ]
  },
  {
   "cell_type": "markdown",
   "metadata": {},
   "source": [
    "# Removing highly correlated features"
   ]
  },
  {
   "cell_type": "code",
   "execution_count": 29,
   "metadata": {},
   "outputs": [
    {
     "data": {
      "text/html": [
       "<div>\n",
       "<style scoped>\n",
       "    .dataframe tbody tr th:only-of-type {\n",
       "        vertical-align: middle;\n",
       "    }\n",
       "\n",
       "    .dataframe tbody tr th {\n",
       "        vertical-align: top;\n",
       "    }\n",
       "\n",
       "    .dataframe thead th {\n",
       "        text-align: right;\n",
       "    }\n",
       "</style>\n",
       "<table border=\"1\" class=\"dataframe\">\n",
       "  <thead>\n",
       "    <tr style=\"text-align: right;\">\n",
       "      <th></th>\n",
       "      <th>Bit_1</th>\n",
       "      <th>Bit_4</th>\n",
       "      <th>Bit_8</th>\n",
       "      <th>Bit_14</th>\n",
       "      <th>Bit_15</th>\n",
       "      <th>Bit_25</th>\n",
       "      <th>Bit_31</th>\n",
       "      <th>Bit_33</th>\n",
       "      <th>Bit_36</th>\n",
       "      <th>Bit_41</th>\n",
       "      <th>...</th>\n",
       "      <th>Bit_967</th>\n",
       "      <th>Bit_971</th>\n",
       "      <th>Bit_980</th>\n",
       "      <th>Bit_997</th>\n",
       "      <th>Bit_999</th>\n",
       "      <th>Bit_1009</th>\n",
       "      <th>Bit_1010</th>\n",
       "      <th>Bit_1016</th>\n",
       "      <th>Bit_1017</th>\n",
       "      <th>Bit_1019</th>\n",
       "    </tr>\n",
       "  </thead>\n",
       "  <tbody>\n",
       "    <tr>\n",
       "      <th>Bit_1</th>\n",
       "      <td>1.000000</td>\n",
       "      <td>0.023343</td>\n",
       "      <td>0.060250</td>\n",
       "      <td>0.009891</td>\n",
       "      <td>0.011247</td>\n",
       "      <td>0.051526</td>\n",
       "      <td>0.056199</td>\n",
       "      <td>0.309418</td>\n",
       "      <td>0.204014</td>\n",
       "      <td>0.181086</td>\n",
       "      <td>...</td>\n",
       "      <td>0.111018</td>\n",
       "      <td>0.466243</td>\n",
       "      <td>0.044719</td>\n",
       "      <td>0.087555</td>\n",
       "      <td>0.194876</td>\n",
       "      <td>0.077911</td>\n",
       "      <td>0.311692</td>\n",
       "      <td>0.403763</td>\n",
       "      <td>0.021016</td>\n",
       "      <td>0.351924</td>\n",
       "    </tr>\n",
       "    <tr>\n",
       "      <th>Bit_4</th>\n",
       "      <td>0.023343</td>\n",
       "      <td>1.000000</td>\n",
       "      <td>0.027675</td>\n",
       "      <td>0.014926</td>\n",
       "      <td>0.037057</td>\n",
       "      <td>0.026979</td>\n",
       "      <td>0.016688</td>\n",
       "      <td>0.129453</td>\n",
       "      <td>0.123931</td>\n",
       "      <td>0.068172</td>\n",
       "      <td>...</td>\n",
       "      <td>0.079457</td>\n",
       "      <td>0.007767</td>\n",
       "      <td>0.014474</td>\n",
       "      <td>0.081022</td>\n",
       "      <td>0.017261</td>\n",
       "      <td>0.042160</td>\n",
       "      <td>0.065133</td>\n",
       "      <td>0.001191</td>\n",
       "      <td>0.028612</td>\n",
       "      <td>0.185722</td>\n",
       "    </tr>\n",
       "    <tr>\n",
       "      <th>Bit_8</th>\n",
       "      <td>0.060250</td>\n",
       "      <td>0.027675</td>\n",
       "      <td>1.000000</td>\n",
       "      <td>0.221732</td>\n",
       "      <td>0.042426</td>\n",
       "      <td>0.127507</td>\n",
       "      <td>0.114649</td>\n",
       "      <td>0.072877</td>\n",
       "      <td>0.168621</td>\n",
       "      <td>0.345448</td>\n",
       "      <td>...</td>\n",
       "      <td>0.158420</td>\n",
       "      <td>0.014074</td>\n",
       "      <td>0.089367</td>\n",
       "      <td>0.061572</td>\n",
       "      <td>0.364084</td>\n",
       "      <td>0.142961</td>\n",
       "      <td>0.153835</td>\n",
       "      <td>0.123936</td>\n",
       "      <td>0.095435</td>\n",
       "      <td>0.185521</td>\n",
       "    </tr>\n",
       "    <tr>\n",
       "      <th>Bit_14</th>\n",
       "      <td>0.009891</td>\n",
       "      <td>0.014926</td>\n",
       "      <td>0.221732</td>\n",
       "      <td>1.000000</td>\n",
       "      <td>0.070198</td>\n",
       "      <td>0.036017</td>\n",
       "      <td>0.057341</td>\n",
       "      <td>0.065951</td>\n",
       "      <td>0.071944</td>\n",
       "      <td>0.050997</td>\n",
       "      <td>...</td>\n",
       "      <td>0.077259</td>\n",
       "      <td>0.068002</td>\n",
       "      <td>0.088052</td>\n",
       "      <td>0.069185</td>\n",
       "      <td>0.086880</td>\n",
       "      <td>0.029150</td>\n",
       "      <td>0.072931</td>\n",
       "      <td>0.069101</td>\n",
       "      <td>0.029323</td>\n",
       "      <td>0.024528</td>\n",
       "    </tr>\n",
       "    <tr>\n",
       "      <th>Bit_15</th>\n",
       "      <td>0.011247</td>\n",
       "      <td>0.037057</td>\n",
       "      <td>0.042426</td>\n",
       "      <td>0.070198</td>\n",
       "      <td>1.000000</td>\n",
       "      <td>0.026488</td>\n",
       "      <td>0.101954</td>\n",
       "      <td>0.021461</td>\n",
       "      <td>0.008593</td>\n",
       "      <td>0.030356</td>\n",
       "      <td>...</td>\n",
       "      <td>0.075230</td>\n",
       "      <td>0.048196</td>\n",
       "      <td>0.158765</td>\n",
       "      <td>0.048643</td>\n",
       "      <td>0.004722</td>\n",
       "      <td>0.053132</td>\n",
       "      <td>0.059986</td>\n",
       "      <td>0.067215</td>\n",
       "      <td>0.083452</td>\n",
       "      <td>0.009351</td>\n",
       "    </tr>\n",
       "    <tr>\n",
       "      <th>...</th>\n",
       "      <td>...</td>\n",
       "      <td>...</td>\n",
       "      <td>...</td>\n",
       "      <td>...</td>\n",
       "      <td>...</td>\n",
       "      <td>...</td>\n",
       "      <td>...</td>\n",
       "      <td>...</td>\n",
       "      <td>...</td>\n",
       "      <td>...</td>\n",
       "      <td>...</td>\n",
       "      <td>...</td>\n",
       "      <td>...</td>\n",
       "      <td>...</td>\n",
       "      <td>...</td>\n",
       "      <td>...</td>\n",
       "      <td>...</td>\n",
       "      <td>...</td>\n",
       "      <td>...</td>\n",
       "      <td>...</td>\n",
       "      <td>...</td>\n",
       "    </tr>\n",
       "    <tr>\n",
       "      <th>Bit_1009</th>\n",
       "      <td>0.077911</td>\n",
       "      <td>0.042160</td>\n",
       "      <td>0.142961</td>\n",
       "      <td>0.029150</td>\n",
       "      <td>0.053132</td>\n",
       "      <td>0.669497</td>\n",
       "      <td>0.724743</td>\n",
       "      <td>0.031466</td>\n",
       "      <td>0.005697</td>\n",
       "      <td>0.145736</td>\n",
       "      <td>...</td>\n",
       "      <td>0.003805</td>\n",
       "      <td>0.090313</td>\n",
       "      <td>0.006980</td>\n",
       "      <td>0.007684</td>\n",
       "      <td>0.077589</td>\n",
       "      <td>1.000000</td>\n",
       "      <td>0.021332</td>\n",
       "      <td>0.079413</td>\n",
       "      <td>0.382081</td>\n",
       "      <td>0.104191</td>\n",
       "    </tr>\n",
       "    <tr>\n",
       "      <th>Bit_1010</th>\n",
       "      <td>0.311692</td>\n",
       "      <td>0.065133</td>\n",
       "      <td>0.153835</td>\n",
       "      <td>0.072931</td>\n",
       "      <td>0.059986</td>\n",
       "      <td>0.003054</td>\n",
       "      <td>0.042885</td>\n",
       "      <td>0.226246</td>\n",
       "      <td>0.460361</td>\n",
       "      <td>0.145991</td>\n",
       "      <td>...</td>\n",
       "      <td>0.077332</td>\n",
       "      <td>0.486556</td>\n",
       "      <td>0.045322</td>\n",
       "      <td>0.187867</td>\n",
       "      <td>0.144834</td>\n",
       "      <td>0.021332</td>\n",
       "      <td>1.000000</td>\n",
       "      <td>0.750003</td>\n",
       "      <td>0.003429</td>\n",
       "      <td>0.272967</td>\n",
       "    </tr>\n",
       "    <tr>\n",
       "      <th>Bit_1016</th>\n",
       "      <td>0.403763</td>\n",
       "      <td>0.001191</td>\n",
       "      <td>0.123936</td>\n",
       "      <td>0.069101</td>\n",
       "      <td>0.067215</td>\n",
       "      <td>0.069502</td>\n",
       "      <td>0.025609</td>\n",
       "      <td>0.222045</td>\n",
       "      <td>0.515797</td>\n",
       "      <td>0.216998</td>\n",
       "      <td>...</td>\n",
       "      <td>0.075580</td>\n",
       "      <td>0.642871</td>\n",
       "      <td>0.047347</td>\n",
       "      <td>0.196146</td>\n",
       "      <td>0.128637</td>\n",
       "      <td>0.079413</td>\n",
       "      <td>0.750003</td>\n",
       "      <td>1.000000</td>\n",
       "      <td>0.015121</td>\n",
       "      <td>0.416002</td>\n",
       "    </tr>\n",
       "    <tr>\n",
       "      <th>Bit_1017</th>\n",
       "      <td>0.021016</td>\n",
       "      <td>0.028612</td>\n",
       "      <td>0.095435</td>\n",
       "      <td>0.029323</td>\n",
       "      <td>0.083452</td>\n",
       "      <td>0.202189</td>\n",
       "      <td>0.361635</td>\n",
       "      <td>0.070850</td>\n",
       "      <td>0.023592</td>\n",
       "      <td>0.096186</td>\n",
       "      <td>...</td>\n",
       "      <td>0.010623</td>\n",
       "      <td>0.018075</td>\n",
       "      <td>0.021782</td>\n",
       "      <td>0.012167</td>\n",
       "      <td>0.033495</td>\n",
       "      <td>0.382081</td>\n",
       "      <td>0.003429</td>\n",
       "      <td>0.015121</td>\n",
       "      <td>1.000000</td>\n",
       "      <td>0.027988</td>\n",
       "    </tr>\n",
       "    <tr>\n",
       "      <th>Bit_1019</th>\n",
       "      <td>0.351924</td>\n",
       "      <td>0.185722</td>\n",
       "      <td>0.185521</td>\n",
       "      <td>0.024528</td>\n",
       "      <td>0.009351</td>\n",
       "      <td>0.084341</td>\n",
       "      <td>0.061936</td>\n",
       "      <td>0.116149</td>\n",
       "      <td>0.267611</td>\n",
       "      <td>0.129015</td>\n",
       "      <td>...</td>\n",
       "      <td>0.067297</td>\n",
       "      <td>0.304856</td>\n",
       "      <td>0.019219</td>\n",
       "      <td>0.108960</td>\n",
       "      <td>0.108114</td>\n",
       "      <td>0.104191</td>\n",
       "      <td>0.272967</td>\n",
       "      <td>0.416002</td>\n",
       "      <td>0.027988</td>\n",
       "      <td>1.000000</td>\n",
       "    </tr>\n",
       "  </tbody>\n",
       "</table>\n",
       "<p>209 rows × 209 columns</p>\n",
       "</div>"
      ],
      "text/plain": [
       "             Bit_1     Bit_4     Bit_8    Bit_14    Bit_15    Bit_25  \\\n",
       "Bit_1     1.000000  0.023343  0.060250  0.009891  0.011247  0.051526   \n",
       "Bit_4     0.023343  1.000000  0.027675  0.014926  0.037057  0.026979   \n",
       "Bit_8     0.060250  0.027675  1.000000  0.221732  0.042426  0.127507   \n",
       "Bit_14    0.009891  0.014926  0.221732  1.000000  0.070198  0.036017   \n",
       "Bit_15    0.011247  0.037057  0.042426  0.070198  1.000000  0.026488   \n",
       "...            ...       ...       ...       ...       ...       ...   \n",
       "Bit_1009  0.077911  0.042160  0.142961  0.029150  0.053132  0.669497   \n",
       "Bit_1010  0.311692  0.065133  0.153835  0.072931  0.059986  0.003054   \n",
       "Bit_1016  0.403763  0.001191  0.123936  0.069101  0.067215  0.069502   \n",
       "Bit_1017  0.021016  0.028612  0.095435  0.029323  0.083452  0.202189   \n",
       "Bit_1019  0.351924  0.185722  0.185521  0.024528  0.009351  0.084341   \n",
       "\n",
       "            Bit_31    Bit_33    Bit_36    Bit_41  ...   Bit_967   Bit_971  \\\n",
       "Bit_1     0.056199  0.309418  0.204014  0.181086  ...  0.111018  0.466243   \n",
       "Bit_4     0.016688  0.129453  0.123931  0.068172  ...  0.079457  0.007767   \n",
       "Bit_8     0.114649  0.072877  0.168621  0.345448  ...  0.158420  0.014074   \n",
       "Bit_14    0.057341  0.065951  0.071944  0.050997  ...  0.077259  0.068002   \n",
       "Bit_15    0.101954  0.021461  0.008593  0.030356  ...  0.075230  0.048196   \n",
       "...            ...       ...       ...       ...  ...       ...       ...   \n",
       "Bit_1009  0.724743  0.031466  0.005697  0.145736  ...  0.003805  0.090313   \n",
       "Bit_1010  0.042885  0.226246  0.460361  0.145991  ...  0.077332  0.486556   \n",
       "Bit_1016  0.025609  0.222045  0.515797  0.216998  ...  0.075580  0.642871   \n",
       "Bit_1017  0.361635  0.070850  0.023592  0.096186  ...  0.010623  0.018075   \n",
       "Bit_1019  0.061936  0.116149  0.267611  0.129015  ...  0.067297  0.304856   \n",
       "\n",
       "           Bit_980   Bit_997   Bit_999  Bit_1009  Bit_1010  Bit_1016  \\\n",
       "Bit_1     0.044719  0.087555  0.194876  0.077911  0.311692  0.403763   \n",
       "Bit_4     0.014474  0.081022  0.017261  0.042160  0.065133  0.001191   \n",
       "Bit_8     0.089367  0.061572  0.364084  0.142961  0.153835  0.123936   \n",
       "Bit_14    0.088052  0.069185  0.086880  0.029150  0.072931  0.069101   \n",
       "Bit_15    0.158765  0.048643  0.004722  0.053132  0.059986  0.067215   \n",
       "...            ...       ...       ...       ...       ...       ...   \n",
       "Bit_1009  0.006980  0.007684  0.077589  1.000000  0.021332  0.079413   \n",
       "Bit_1010  0.045322  0.187867  0.144834  0.021332  1.000000  0.750003   \n",
       "Bit_1016  0.047347  0.196146  0.128637  0.079413  0.750003  1.000000   \n",
       "Bit_1017  0.021782  0.012167  0.033495  0.382081  0.003429  0.015121   \n",
       "Bit_1019  0.019219  0.108960  0.108114  0.104191  0.272967  0.416002   \n",
       "\n",
       "          Bit_1017  Bit_1019  \n",
       "Bit_1     0.021016  0.351924  \n",
       "Bit_4     0.028612  0.185722  \n",
       "Bit_8     0.095435  0.185521  \n",
       "Bit_14    0.029323  0.024528  \n",
       "Bit_15    0.083452  0.009351  \n",
       "...            ...       ...  \n",
       "Bit_1009  0.382081  0.104191  \n",
       "Bit_1010  0.003429  0.272967  \n",
       "Bit_1016  0.015121  0.416002  \n",
       "Bit_1017  1.000000  0.027988  \n",
       "Bit_1019  0.027988  1.000000  \n",
       "\n",
       "[209 rows x 209 columns]"
      ]
     },
     "execution_count": 29,
     "metadata": {},
     "output_type": "execute_result"
    }
   ],
   "source": [
    "cor_df = x_tr_const_and_nearcont.corr().abs()\n",
    "cor_df"
   ]
  },
  {
   "cell_type": "code",
   "execution_count": 30,
   "metadata": {},
   "outputs": [
    {
     "data": {
      "text/html": [
       "<div>\n",
       "<style scoped>\n",
       "    .dataframe tbody tr th:only-of-type {\n",
       "        vertical-align: middle;\n",
       "    }\n",
       "\n",
       "    .dataframe tbody tr th {\n",
       "        vertical-align: top;\n",
       "    }\n",
       "\n",
       "    .dataframe thead th {\n",
       "        text-align: right;\n",
       "    }\n",
       "</style>\n",
       "<table border=\"1\" class=\"dataframe\">\n",
       "  <thead>\n",
       "    <tr style=\"text-align: right;\">\n",
       "      <th></th>\n",
       "      <th>Bit_1</th>\n",
       "      <th>Bit_4</th>\n",
       "      <th>Bit_8</th>\n",
       "      <th>Bit_14</th>\n",
       "      <th>Bit_15</th>\n",
       "      <th>Bit_25</th>\n",
       "      <th>Bit_31</th>\n",
       "      <th>Bit_33</th>\n",
       "      <th>Bit_36</th>\n",
       "      <th>Bit_41</th>\n",
       "      <th>...</th>\n",
       "      <th>Bit_967</th>\n",
       "      <th>Bit_971</th>\n",
       "      <th>Bit_980</th>\n",
       "      <th>Bit_997</th>\n",
       "      <th>Bit_999</th>\n",
       "      <th>Bit_1009</th>\n",
       "      <th>Bit_1010</th>\n",
       "      <th>Bit_1016</th>\n",
       "      <th>Bit_1017</th>\n",
       "      <th>Bit_1019</th>\n",
       "    </tr>\n",
       "  </thead>\n",
       "  <tbody>\n",
       "    <tr>\n",
       "      <th>Bit_1</th>\n",
       "      <td>1.000000</td>\n",
       "      <td>0.023343</td>\n",
       "      <td>0.060250</td>\n",
       "      <td>0.009891</td>\n",
       "      <td>0.011247</td>\n",
       "      <td>0.051526</td>\n",
       "      <td>0.056199</td>\n",
       "      <td>0.309418</td>\n",
       "      <td>0.204014</td>\n",
       "      <td>0.181086</td>\n",
       "      <td>...</td>\n",
       "      <td>0.111018</td>\n",
       "      <td>0.466243</td>\n",
       "      <td>0.044719</td>\n",
       "      <td>0.087555</td>\n",
       "      <td>0.194876</td>\n",
       "      <td>0.077911</td>\n",
       "      <td>0.311692</td>\n",
       "      <td>0.403763</td>\n",
       "      <td>0.021016</td>\n",
       "      <td>0.351924</td>\n",
       "    </tr>\n",
       "    <tr>\n",
       "      <th>Bit_4</th>\n",
       "      <td>0.023343</td>\n",
       "      <td>1.000000</td>\n",
       "      <td>0.027675</td>\n",
       "      <td>0.014926</td>\n",
       "      <td>0.037057</td>\n",
       "      <td>0.026979</td>\n",
       "      <td>0.016688</td>\n",
       "      <td>0.129453</td>\n",
       "      <td>0.123931</td>\n",
       "      <td>0.068172</td>\n",
       "      <td>...</td>\n",
       "      <td>0.079457</td>\n",
       "      <td>0.007767</td>\n",
       "      <td>0.014474</td>\n",
       "      <td>0.081022</td>\n",
       "      <td>0.017261</td>\n",
       "      <td>0.042160</td>\n",
       "      <td>0.065133</td>\n",
       "      <td>0.001191</td>\n",
       "      <td>0.028612</td>\n",
       "      <td>0.185722</td>\n",
       "    </tr>\n",
       "    <tr>\n",
       "      <th>Bit_8</th>\n",
       "      <td>0.060250</td>\n",
       "      <td>0.027675</td>\n",
       "      <td>1.000000</td>\n",
       "      <td>0.221732</td>\n",
       "      <td>0.042426</td>\n",
       "      <td>0.127507</td>\n",
       "      <td>0.114649</td>\n",
       "      <td>0.072877</td>\n",
       "      <td>0.168621</td>\n",
       "      <td>0.345448</td>\n",
       "      <td>...</td>\n",
       "      <td>0.158420</td>\n",
       "      <td>0.014074</td>\n",
       "      <td>0.089367</td>\n",
       "      <td>0.061572</td>\n",
       "      <td>0.364084</td>\n",
       "      <td>0.142961</td>\n",
       "      <td>0.153835</td>\n",
       "      <td>0.123936</td>\n",
       "      <td>0.095435</td>\n",
       "      <td>0.185521</td>\n",
       "    </tr>\n",
       "    <tr>\n",
       "      <th>Bit_14</th>\n",
       "      <td>0.009891</td>\n",
       "      <td>0.014926</td>\n",
       "      <td>0.221732</td>\n",
       "      <td>1.000000</td>\n",
       "      <td>0.070198</td>\n",
       "      <td>0.036017</td>\n",
       "      <td>0.057341</td>\n",
       "      <td>0.065951</td>\n",
       "      <td>0.071944</td>\n",
       "      <td>0.050997</td>\n",
       "      <td>...</td>\n",
       "      <td>0.077259</td>\n",
       "      <td>0.068002</td>\n",
       "      <td>0.088052</td>\n",
       "      <td>0.069185</td>\n",
       "      <td>0.086880</td>\n",
       "      <td>0.029150</td>\n",
       "      <td>0.072931</td>\n",
       "      <td>0.069101</td>\n",
       "      <td>0.029323</td>\n",
       "      <td>0.024528</td>\n",
       "    </tr>\n",
       "    <tr>\n",
       "      <th>Bit_15</th>\n",
       "      <td>0.011247</td>\n",
       "      <td>0.037057</td>\n",
       "      <td>0.042426</td>\n",
       "      <td>0.070198</td>\n",
       "      <td>1.000000</td>\n",
       "      <td>0.026488</td>\n",
       "      <td>0.101954</td>\n",
       "      <td>0.021461</td>\n",
       "      <td>0.008593</td>\n",
       "      <td>0.030356</td>\n",
       "      <td>...</td>\n",
       "      <td>0.075230</td>\n",
       "      <td>0.048196</td>\n",
       "      <td>0.158765</td>\n",
       "      <td>0.048643</td>\n",
       "      <td>0.004722</td>\n",
       "      <td>0.053132</td>\n",
       "      <td>0.059986</td>\n",
       "      <td>0.067215</td>\n",
       "      <td>0.083452</td>\n",
       "      <td>0.009351</td>\n",
       "    </tr>\n",
       "    <tr>\n",
       "      <th>...</th>\n",
       "      <td>...</td>\n",
       "      <td>...</td>\n",
       "      <td>...</td>\n",
       "      <td>...</td>\n",
       "      <td>...</td>\n",
       "      <td>...</td>\n",
       "      <td>...</td>\n",
       "      <td>...</td>\n",
       "      <td>...</td>\n",
       "      <td>...</td>\n",
       "      <td>...</td>\n",
       "      <td>...</td>\n",
       "      <td>...</td>\n",
       "      <td>...</td>\n",
       "      <td>...</td>\n",
       "      <td>...</td>\n",
       "      <td>...</td>\n",
       "      <td>...</td>\n",
       "      <td>...</td>\n",
       "      <td>...</td>\n",
       "      <td>...</td>\n",
       "    </tr>\n",
       "    <tr>\n",
       "      <th>Bit_1009</th>\n",
       "      <td>0.077911</td>\n",
       "      <td>0.042160</td>\n",
       "      <td>0.142961</td>\n",
       "      <td>0.029150</td>\n",
       "      <td>0.053132</td>\n",
       "      <td>0.669497</td>\n",
       "      <td>0.724743</td>\n",
       "      <td>0.031466</td>\n",
       "      <td>0.005697</td>\n",
       "      <td>0.145736</td>\n",
       "      <td>...</td>\n",
       "      <td>0.003805</td>\n",
       "      <td>0.090313</td>\n",
       "      <td>0.006980</td>\n",
       "      <td>0.007684</td>\n",
       "      <td>0.077589</td>\n",
       "      <td>1.000000</td>\n",
       "      <td>0.021332</td>\n",
       "      <td>0.079413</td>\n",
       "      <td>0.382081</td>\n",
       "      <td>0.104191</td>\n",
       "    </tr>\n",
       "    <tr>\n",
       "      <th>Bit_1010</th>\n",
       "      <td>0.311692</td>\n",
       "      <td>0.065133</td>\n",
       "      <td>0.153835</td>\n",
       "      <td>0.072931</td>\n",
       "      <td>0.059986</td>\n",
       "      <td>0.003054</td>\n",
       "      <td>0.042885</td>\n",
       "      <td>0.226246</td>\n",
       "      <td>0.460361</td>\n",
       "      <td>0.145991</td>\n",
       "      <td>...</td>\n",
       "      <td>0.077332</td>\n",
       "      <td>0.486556</td>\n",
       "      <td>0.045322</td>\n",
       "      <td>0.187867</td>\n",
       "      <td>0.144834</td>\n",
       "      <td>0.021332</td>\n",
       "      <td>1.000000</td>\n",
       "      <td>0.750003</td>\n",
       "      <td>0.003429</td>\n",
       "      <td>0.272967</td>\n",
       "    </tr>\n",
       "    <tr>\n",
       "      <th>Bit_1016</th>\n",
       "      <td>0.403763</td>\n",
       "      <td>0.001191</td>\n",
       "      <td>0.123936</td>\n",
       "      <td>0.069101</td>\n",
       "      <td>0.067215</td>\n",
       "      <td>0.069502</td>\n",
       "      <td>0.025609</td>\n",
       "      <td>0.222045</td>\n",
       "      <td>0.515797</td>\n",
       "      <td>0.216998</td>\n",
       "      <td>...</td>\n",
       "      <td>0.075580</td>\n",
       "      <td>0.642871</td>\n",
       "      <td>0.047347</td>\n",
       "      <td>0.196146</td>\n",
       "      <td>0.128637</td>\n",
       "      <td>0.079413</td>\n",
       "      <td>0.750003</td>\n",
       "      <td>1.000000</td>\n",
       "      <td>0.015121</td>\n",
       "      <td>0.416002</td>\n",
       "    </tr>\n",
       "    <tr>\n",
       "      <th>Bit_1017</th>\n",
       "      <td>0.021016</td>\n",
       "      <td>0.028612</td>\n",
       "      <td>0.095435</td>\n",
       "      <td>0.029323</td>\n",
       "      <td>0.083452</td>\n",
       "      <td>0.202189</td>\n",
       "      <td>0.361635</td>\n",
       "      <td>0.070850</td>\n",
       "      <td>0.023592</td>\n",
       "      <td>0.096186</td>\n",
       "      <td>...</td>\n",
       "      <td>0.010623</td>\n",
       "      <td>0.018075</td>\n",
       "      <td>0.021782</td>\n",
       "      <td>0.012167</td>\n",
       "      <td>0.033495</td>\n",
       "      <td>0.382081</td>\n",
       "      <td>0.003429</td>\n",
       "      <td>0.015121</td>\n",
       "      <td>1.000000</td>\n",
       "      <td>0.027988</td>\n",
       "    </tr>\n",
       "    <tr>\n",
       "      <th>Bit_1019</th>\n",
       "      <td>0.351924</td>\n",
       "      <td>0.185722</td>\n",
       "      <td>0.185521</td>\n",
       "      <td>0.024528</td>\n",
       "      <td>0.009351</td>\n",
       "      <td>0.084341</td>\n",
       "      <td>0.061936</td>\n",
       "      <td>0.116149</td>\n",
       "      <td>0.267611</td>\n",
       "      <td>0.129015</td>\n",
       "      <td>...</td>\n",
       "      <td>0.067297</td>\n",
       "      <td>0.304856</td>\n",
       "      <td>0.019219</td>\n",
       "      <td>0.108960</td>\n",
       "      <td>0.108114</td>\n",
       "      <td>0.104191</td>\n",
       "      <td>0.272967</td>\n",
       "      <td>0.416002</td>\n",
       "      <td>0.027988</td>\n",
       "      <td>1.000000</td>\n",
       "    </tr>\n",
       "  </tbody>\n",
       "</table>\n",
       "<p>209 rows × 209 columns</p>\n",
       "</div>"
      ],
      "text/plain": [
       "             Bit_1     Bit_4     Bit_8    Bit_14    Bit_15    Bit_25  \\\n",
       "Bit_1     1.000000  0.023343  0.060250  0.009891  0.011247  0.051526   \n",
       "Bit_4     0.023343  1.000000  0.027675  0.014926  0.037057  0.026979   \n",
       "Bit_8     0.060250  0.027675  1.000000  0.221732  0.042426  0.127507   \n",
       "Bit_14    0.009891  0.014926  0.221732  1.000000  0.070198  0.036017   \n",
       "Bit_15    0.011247  0.037057  0.042426  0.070198  1.000000  0.026488   \n",
       "...            ...       ...       ...       ...       ...       ...   \n",
       "Bit_1009  0.077911  0.042160  0.142961  0.029150  0.053132  0.669497   \n",
       "Bit_1010  0.311692  0.065133  0.153835  0.072931  0.059986  0.003054   \n",
       "Bit_1016  0.403763  0.001191  0.123936  0.069101  0.067215  0.069502   \n",
       "Bit_1017  0.021016  0.028612  0.095435  0.029323  0.083452  0.202189   \n",
       "Bit_1019  0.351924  0.185722  0.185521  0.024528  0.009351  0.084341   \n",
       "\n",
       "            Bit_31    Bit_33    Bit_36    Bit_41  ...   Bit_967   Bit_971  \\\n",
       "Bit_1     0.056199  0.309418  0.204014  0.181086  ...  0.111018  0.466243   \n",
       "Bit_4     0.016688  0.129453  0.123931  0.068172  ...  0.079457  0.007767   \n",
       "Bit_8     0.114649  0.072877  0.168621  0.345448  ...  0.158420  0.014074   \n",
       "Bit_14    0.057341  0.065951  0.071944  0.050997  ...  0.077259  0.068002   \n",
       "Bit_15    0.101954  0.021461  0.008593  0.030356  ...  0.075230  0.048196   \n",
       "...            ...       ...       ...       ...  ...       ...       ...   \n",
       "Bit_1009  0.724743  0.031466  0.005697  0.145736  ...  0.003805  0.090313   \n",
       "Bit_1010  0.042885  0.226246  0.460361  0.145991  ...  0.077332  0.486556   \n",
       "Bit_1016  0.025609  0.222045  0.515797  0.216998  ...  0.075580  0.642871   \n",
       "Bit_1017  0.361635  0.070850  0.023592  0.096186  ...  0.010623  0.018075   \n",
       "Bit_1019  0.061936  0.116149  0.267611  0.129015  ...  0.067297  0.304856   \n",
       "\n",
       "           Bit_980   Bit_997   Bit_999  Bit_1009  Bit_1010  Bit_1016  \\\n",
       "Bit_1     0.044719  0.087555  0.194876  0.077911  0.311692  0.403763   \n",
       "Bit_4     0.014474  0.081022  0.017261  0.042160  0.065133  0.001191   \n",
       "Bit_8     0.089367  0.061572  0.364084  0.142961  0.153835  0.123936   \n",
       "Bit_14    0.088052  0.069185  0.086880  0.029150  0.072931  0.069101   \n",
       "Bit_15    0.158765  0.048643  0.004722  0.053132  0.059986  0.067215   \n",
       "...            ...       ...       ...       ...       ...       ...   \n",
       "Bit_1009  0.006980  0.007684  0.077589  1.000000  0.021332  0.079413   \n",
       "Bit_1010  0.045322  0.187867  0.144834  0.021332  1.000000  0.750003   \n",
       "Bit_1016  0.047347  0.196146  0.128637  0.079413  0.750003  1.000000   \n",
       "Bit_1017  0.021782  0.012167  0.033495  0.382081  0.003429  0.015121   \n",
       "Bit_1019  0.019219  0.108960  0.108114  0.104191  0.272967  0.416002   \n",
       "\n",
       "          Bit_1017  Bit_1019  \n",
       "Bit_1     0.021016  0.351924  \n",
       "Bit_4     0.028612  0.185722  \n",
       "Bit_8     0.095435  0.185521  \n",
       "Bit_14    0.029323  0.024528  \n",
       "Bit_15    0.083452  0.009351  \n",
       "...            ...       ...  \n",
       "Bit_1009  0.382081  0.104191  \n",
       "Bit_1010  0.003429  0.272967  \n",
       "Bit_1016  0.015121  0.416002  \n",
       "Bit_1017  1.000000  0.027988  \n",
       "Bit_1019  0.027988  1.000000  \n",
       "\n",
       "[209 rows x 209 columns]"
      ]
     },
     "execution_count": 30,
     "metadata": {},
     "output_type": "execute_result"
    }
   ],
   "source": [
    "cor_df = x_tr_const_and_nearcont.corr().abs()\n",
    "cor_df"
   ]
  },
  {
   "cell_type": "code",
   "execution_count": 31,
   "metadata": {},
   "outputs": [],
   "source": [
    "mask=np.triu(np.ones_like(cor_df, dtype=bool))"
   ]
  },
  {
   "cell_type": "code",
   "execution_count": 32,
   "metadata": {},
   "outputs": [
    {
     "data": {
      "text/html": [
       "<div>\n",
       "<style scoped>\n",
       "    .dataframe tbody tr th:only-of-type {\n",
       "        vertical-align: middle;\n",
       "    }\n",
       "\n",
       "    .dataframe tbody tr th {\n",
       "        vertical-align: top;\n",
       "    }\n",
       "\n",
       "    .dataframe thead th {\n",
       "        text-align: right;\n",
       "    }\n",
       "</style>\n",
       "<table border=\"1\" class=\"dataframe\">\n",
       "  <thead>\n",
       "    <tr style=\"text-align: right;\">\n",
       "      <th></th>\n",
       "      <th>Bit_1</th>\n",
       "      <th>Bit_4</th>\n",
       "      <th>Bit_8</th>\n",
       "      <th>Bit_14</th>\n",
       "      <th>Bit_15</th>\n",
       "      <th>Bit_25</th>\n",
       "      <th>Bit_31</th>\n",
       "      <th>Bit_33</th>\n",
       "      <th>Bit_36</th>\n",
       "      <th>Bit_41</th>\n",
       "      <th>...</th>\n",
       "      <th>Bit_967</th>\n",
       "      <th>Bit_971</th>\n",
       "      <th>Bit_980</th>\n",
       "      <th>Bit_997</th>\n",
       "      <th>Bit_999</th>\n",
       "      <th>Bit_1009</th>\n",
       "      <th>Bit_1010</th>\n",
       "      <th>Bit_1016</th>\n",
       "      <th>Bit_1017</th>\n",
       "      <th>Bit_1019</th>\n",
       "    </tr>\n",
       "  </thead>\n",
       "  <tbody>\n",
       "    <tr>\n",
       "      <th>Bit_1</th>\n",
       "      <td>NaN</td>\n",
       "      <td>NaN</td>\n",
       "      <td>NaN</td>\n",
       "      <td>NaN</td>\n",
       "      <td>NaN</td>\n",
       "      <td>NaN</td>\n",
       "      <td>NaN</td>\n",
       "      <td>NaN</td>\n",
       "      <td>NaN</td>\n",
       "      <td>NaN</td>\n",
       "      <td>...</td>\n",
       "      <td>NaN</td>\n",
       "      <td>NaN</td>\n",
       "      <td>NaN</td>\n",
       "      <td>NaN</td>\n",
       "      <td>NaN</td>\n",
       "      <td>NaN</td>\n",
       "      <td>NaN</td>\n",
       "      <td>NaN</td>\n",
       "      <td>NaN</td>\n",
       "      <td>NaN</td>\n",
       "    </tr>\n",
       "    <tr>\n",
       "      <th>Bit_4</th>\n",
       "      <td>0.023343</td>\n",
       "      <td>NaN</td>\n",
       "      <td>NaN</td>\n",
       "      <td>NaN</td>\n",
       "      <td>NaN</td>\n",
       "      <td>NaN</td>\n",
       "      <td>NaN</td>\n",
       "      <td>NaN</td>\n",
       "      <td>NaN</td>\n",
       "      <td>NaN</td>\n",
       "      <td>...</td>\n",
       "      <td>NaN</td>\n",
       "      <td>NaN</td>\n",
       "      <td>NaN</td>\n",
       "      <td>NaN</td>\n",
       "      <td>NaN</td>\n",
       "      <td>NaN</td>\n",
       "      <td>NaN</td>\n",
       "      <td>NaN</td>\n",
       "      <td>NaN</td>\n",
       "      <td>NaN</td>\n",
       "    </tr>\n",
       "    <tr>\n",
       "      <th>Bit_8</th>\n",
       "      <td>0.060250</td>\n",
       "      <td>0.027675</td>\n",
       "      <td>NaN</td>\n",
       "      <td>NaN</td>\n",
       "      <td>NaN</td>\n",
       "      <td>NaN</td>\n",
       "      <td>NaN</td>\n",
       "      <td>NaN</td>\n",
       "      <td>NaN</td>\n",
       "      <td>NaN</td>\n",
       "      <td>...</td>\n",
       "      <td>NaN</td>\n",
       "      <td>NaN</td>\n",
       "      <td>NaN</td>\n",
       "      <td>NaN</td>\n",
       "      <td>NaN</td>\n",
       "      <td>NaN</td>\n",
       "      <td>NaN</td>\n",
       "      <td>NaN</td>\n",
       "      <td>NaN</td>\n",
       "      <td>NaN</td>\n",
       "    </tr>\n",
       "    <tr>\n",
       "      <th>Bit_14</th>\n",
       "      <td>0.009891</td>\n",
       "      <td>0.014926</td>\n",
       "      <td>0.221732</td>\n",
       "      <td>NaN</td>\n",
       "      <td>NaN</td>\n",
       "      <td>NaN</td>\n",
       "      <td>NaN</td>\n",
       "      <td>NaN</td>\n",
       "      <td>NaN</td>\n",
       "      <td>NaN</td>\n",
       "      <td>...</td>\n",
       "      <td>NaN</td>\n",
       "      <td>NaN</td>\n",
       "      <td>NaN</td>\n",
       "      <td>NaN</td>\n",
       "      <td>NaN</td>\n",
       "      <td>NaN</td>\n",
       "      <td>NaN</td>\n",
       "      <td>NaN</td>\n",
       "      <td>NaN</td>\n",
       "      <td>NaN</td>\n",
       "    </tr>\n",
       "    <tr>\n",
       "      <th>Bit_15</th>\n",
       "      <td>0.011247</td>\n",
       "      <td>0.037057</td>\n",
       "      <td>0.042426</td>\n",
       "      <td>0.070198</td>\n",
       "      <td>NaN</td>\n",
       "      <td>NaN</td>\n",
       "      <td>NaN</td>\n",
       "      <td>NaN</td>\n",
       "      <td>NaN</td>\n",
       "      <td>NaN</td>\n",
       "      <td>...</td>\n",
       "      <td>NaN</td>\n",
       "      <td>NaN</td>\n",
       "      <td>NaN</td>\n",
       "      <td>NaN</td>\n",
       "      <td>NaN</td>\n",
       "      <td>NaN</td>\n",
       "      <td>NaN</td>\n",
       "      <td>NaN</td>\n",
       "      <td>NaN</td>\n",
       "      <td>NaN</td>\n",
       "    </tr>\n",
       "    <tr>\n",
       "      <th>...</th>\n",
       "      <td>...</td>\n",
       "      <td>...</td>\n",
       "      <td>...</td>\n",
       "      <td>...</td>\n",
       "      <td>...</td>\n",
       "      <td>...</td>\n",
       "      <td>...</td>\n",
       "      <td>...</td>\n",
       "      <td>...</td>\n",
       "      <td>...</td>\n",
       "      <td>...</td>\n",
       "      <td>...</td>\n",
       "      <td>...</td>\n",
       "      <td>...</td>\n",
       "      <td>...</td>\n",
       "      <td>...</td>\n",
       "      <td>...</td>\n",
       "      <td>...</td>\n",
       "      <td>...</td>\n",
       "      <td>...</td>\n",
       "      <td>...</td>\n",
       "    </tr>\n",
       "    <tr>\n",
       "      <th>Bit_1009</th>\n",
       "      <td>0.077911</td>\n",
       "      <td>0.042160</td>\n",
       "      <td>0.142961</td>\n",
       "      <td>0.029150</td>\n",
       "      <td>0.053132</td>\n",
       "      <td>0.669497</td>\n",
       "      <td>0.724743</td>\n",
       "      <td>0.031466</td>\n",
       "      <td>0.005697</td>\n",
       "      <td>0.145736</td>\n",
       "      <td>...</td>\n",
       "      <td>0.003805</td>\n",
       "      <td>0.090313</td>\n",
       "      <td>0.006980</td>\n",
       "      <td>0.007684</td>\n",
       "      <td>0.077589</td>\n",
       "      <td>NaN</td>\n",
       "      <td>NaN</td>\n",
       "      <td>NaN</td>\n",
       "      <td>NaN</td>\n",
       "      <td>NaN</td>\n",
       "    </tr>\n",
       "    <tr>\n",
       "      <th>Bit_1010</th>\n",
       "      <td>0.311692</td>\n",
       "      <td>0.065133</td>\n",
       "      <td>0.153835</td>\n",
       "      <td>0.072931</td>\n",
       "      <td>0.059986</td>\n",
       "      <td>0.003054</td>\n",
       "      <td>0.042885</td>\n",
       "      <td>0.226246</td>\n",
       "      <td>0.460361</td>\n",
       "      <td>0.145991</td>\n",
       "      <td>...</td>\n",
       "      <td>0.077332</td>\n",
       "      <td>0.486556</td>\n",
       "      <td>0.045322</td>\n",
       "      <td>0.187867</td>\n",
       "      <td>0.144834</td>\n",
       "      <td>0.021332</td>\n",
       "      <td>NaN</td>\n",
       "      <td>NaN</td>\n",
       "      <td>NaN</td>\n",
       "      <td>NaN</td>\n",
       "    </tr>\n",
       "    <tr>\n",
       "      <th>Bit_1016</th>\n",
       "      <td>0.403763</td>\n",
       "      <td>0.001191</td>\n",
       "      <td>0.123936</td>\n",
       "      <td>0.069101</td>\n",
       "      <td>0.067215</td>\n",
       "      <td>0.069502</td>\n",
       "      <td>0.025609</td>\n",
       "      <td>0.222045</td>\n",
       "      <td>0.515797</td>\n",
       "      <td>0.216998</td>\n",
       "      <td>...</td>\n",
       "      <td>0.075580</td>\n",
       "      <td>0.642871</td>\n",
       "      <td>0.047347</td>\n",
       "      <td>0.196146</td>\n",
       "      <td>0.128637</td>\n",
       "      <td>0.079413</td>\n",
       "      <td>0.750003</td>\n",
       "      <td>NaN</td>\n",
       "      <td>NaN</td>\n",
       "      <td>NaN</td>\n",
       "    </tr>\n",
       "    <tr>\n",
       "      <th>Bit_1017</th>\n",
       "      <td>0.021016</td>\n",
       "      <td>0.028612</td>\n",
       "      <td>0.095435</td>\n",
       "      <td>0.029323</td>\n",
       "      <td>0.083452</td>\n",
       "      <td>0.202189</td>\n",
       "      <td>0.361635</td>\n",
       "      <td>0.070850</td>\n",
       "      <td>0.023592</td>\n",
       "      <td>0.096186</td>\n",
       "      <td>...</td>\n",
       "      <td>0.010623</td>\n",
       "      <td>0.018075</td>\n",
       "      <td>0.021782</td>\n",
       "      <td>0.012167</td>\n",
       "      <td>0.033495</td>\n",
       "      <td>0.382081</td>\n",
       "      <td>0.003429</td>\n",
       "      <td>0.015121</td>\n",
       "      <td>NaN</td>\n",
       "      <td>NaN</td>\n",
       "    </tr>\n",
       "    <tr>\n",
       "      <th>Bit_1019</th>\n",
       "      <td>0.351924</td>\n",
       "      <td>0.185722</td>\n",
       "      <td>0.185521</td>\n",
       "      <td>0.024528</td>\n",
       "      <td>0.009351</td>\n",
       "      <td>0.084341</td>\n",
       "      <td>0.061936</td>\n",
       "      <td>0.116149</td>\n",
       "      <td>0.267611</td>\n",
       "      <td>0.129015</td>\n",
       "      <td>...</td>\n",
       "      <td>0.067297</td>\n",
       "      <td>0.304856</td>\n",
       "      <td>0.019219</td>\n",
       "      <td>0.108960</td>\n",
       "      <td>0.108114</td>\n",
       "      <td>0.104191</td>\n",
       "      <td>0.272967</td>\n",
       "      <td>0.416002</td>\n",
       "      <td>0.027988</td>\n",
       "      <td>NaN</td>\n",
       "    </tr>\n",
       "  </tbody>\n",
       "</table>\n",
       "<p>209 rows × 209 columns</p>\n",
       "</div>"
      ],
      "text/plain": [
       "             Bit_1     Bit_4     Bit_8    Bit_14    Bit_15    Bit_25  \\\n",
       "Bit_1          NaN       NaN       NaN       NaN       NaN       NaN   \n",
       "Bit_4     0.023343       NaN       NaN       NaN       NaN       NaN   \n",
       "Bit_8     0.060250  0.027675       NaN       NaN       NaN       NaN   \n",
       "Bit_14    0.009891  0.014926  0.221732       NaN       NaN       NaN   \n",
       "Bit_15    0.011247  0.037057  0.042426  0.070198       NaN       NaN   \n",
       "...            ...       ...       ...       ...       ...       ...   \n",
       "Bit_1009  0.077911  0.042160  0.142961  0.029150  0.053132  0.669497   \n",
       "Bit_1010  0.311692  0.065133  0.153835  0.072931  0.059986  0.003054   \n",
       "Bit_1016  0.403763  0.001191  0.123936  0.069101  0.067215  0.069502   \n",
       "Bit_1017  0.021016  0.028612  0.095435  0.029323  0.083452  0.202189   \n",
       "Bit_1019  0.351924  0.185722  0.185521  0.024528  0.009351  0.084341   \n",
       "\n",
       "            Bit_31    Bit_33    Bit_36    Bit_41  ...   Bit_967   Bit_971  \\\n",
       "Bit_1          NaN       NaN       NaN       NaN  ...       NaN       NaN   \n",
       "Bit_4          NaN       NaN       NaN       NaN  ...       NaN       NaN   \n",
       "Bit_8          NaN       NaN       NaN       NaN  ...       NaN       NaN   \n",
       "Bit_14         NaN       NaN       NaN       NaN  ...       NaN       NaN   \n",
       "Bit_15         NaN       NaN       NaN       NaN  ...       NaN       NaN   \n",
       "...            ...       ...       ...       ...  ...       ...       ...   \n",
       "Bit_1009  0.724743  0.031466  0.005697  0.145736  ...  0.003805  0.090313   \n",
       "Bit_1010  0.042885  0.226246  0.460361  0.145991  ...  0.077332  0.486556   \n",
       "Bit_1016  0.025609  0.222045  0.515797  0.216998  ...  0.075580  0.642871   \n",
       "Bit_1017  0.361635  0.070850  0.023592  0.096186  ...  0.010623  0.018075   \n",
       "Bit_1019  0.061936  0.116149  0.267611  0.129015  ...  0.067297  0.304856   \n",
       "\n",
       "           Bit_980   Bit_997   Bit_999  Bit_1009  Bit_1010  Bit_1016  \\\n",
       "Bit_1          NaN       NaN       NaN       NaN       NaN       NaN   \n",
       "Bit_4          NaN       NaN       NaN       NaN       NaN       NaN   \n",
       "Bit_8          NaN       NaN       NaN       NaN       NaN       NaN   \n",
       "Bit_14         NaN       NaN       NaN       NaN       NaN       NaN   \n",
       "Bit_15         NaN       NaN       NaN       NaN       NaN       NaN   \n",
       "...            ...       ...       ...       ...       ...       ...   \n",
       "Bit_1009  0.006980  0.007684  0.077589       NaN       NaN       NaN   \n",
       "Bit_1010  0.045322  0.187867  0.144834  0.021332       NaN       NaN   \n",
       "Bit_1016  0.047347  0.196146  0.128637  0.079413  0.750003       NaN   \n",
       "Bit_1017  0.021782  0.012167  0.033495  0.382081  0.003429  0.015121   \n",
       "Bit_1019  0.019219  0.108960  0.108114  0.104191  0.272967  0.416002   \n",
       "\n",
       "          Bit_1017  Bit_1019  \n",
       "Bit_1          NaN       NaN  \n",
       "Bit_4          NaN       NaN  \n",
       "Bit_8          NaN       NaN  \n",
       "Bit_14         NaN       NaN  \n",
       "Bit_15         NaN       NaN  \n",
       "...            ...       ...  \n",
       "Bit_1009       NaN       NaN  \n",
       "Bit_1010       NaN       NaN  \n",
       "Bit_1016       NaN       NaN  \n",
       "Bit_1017       NaN       NaN  \n",
       "Bit_1019  0.027988       NaN  \n",
       "\n",
       "[209 rows x 209 columns]"
      ]
     },
     "execution_count": 32,
     "metadata": {},
     "output_type": "execute_result"
    }
   ],
   "source": [
    "tri_df=cor_df.mask(mask)\n",
    "tri_df"
   ]
  },
  {
   "cell_type": "code",
   "execution_count": 33,
   "metadata": {},
   "outputs": [
    {
     "data": {
      "text/plain": [
       "['Bit_109', 'Bit_238', 'Bit_331', 'Bit_607']"
      ]
     },
     "execution_count": 33,
     "metadata": {},
     "output_type": "execute_result"
    }
   ],
   "source": [
    "to_drop=[c for c in tri_df.columns if any(tri_df[c]>0.95) ]\n",
    "to_drop"
   ]
  },
  {
   "cell_type": "code",
   "execution_count": 63,
   "metadata": {},
   "outputs": [],
   "source": [
    "reduced_df_cor=x_tr_const_and_nearcont.drop(to_drop, axis=1)"
   ]
  },
  {
   "cell_type": "code",
   "execution_count": 64,
   "metadata": {},
   "outputs": [
    {
     "data": {
      "text/html": [
       "<div>\n",
       "<style scoped>\n",
       "    .dataframe tbody tr th:only-of-type {\n",
       "        vertical-align: middle;\n",
       "    }\n",
       "\n",
       "    .dataframe tbody tr th {\n",
       "        vertical-align: top;\n",
       "    }\n",
       "\n",
       "    .dataframe thead th {\n",
       "        text-align: right;\n",
       "    }\n",
       "</style>\n",
       "<table border=\"1\" class=\"dataframe\">\n",
       "  <thead>\n",
       "    <tr style=\"text-align: right;\">\n",
       "      <th></th>\n",
       "      <th>Bit_1</th>\n",
       "      <th>Bit_4</th>\n",
       "      <th>Bit_8</th>\n",
       "      <th>Bit_14</th>\n",
       "      <th>Bit_15</th>\n",
       "      <th>Bit_25</th>\n",
       "      <th>Bit_31</th>\n",
       "      <th>Bit_33</th>\n",
       "      <th>Bit_36</th>\n",
       "      <th>Bit_41</th>\n",
       "      <th>...</th>\n",
       "      <th>Bit_967</th>\n",
       "      <th>Bit_971</th>\n",
       "      <th>Bit_980</th>\n",
       "      <th>Bit_997</th>\n",
       "      <th>Bit_999</th>\n",
       "      <th>Bit_1009</th>\n",
       "      <th>Bit_1010</th>\n",
       "      <th>Bit_1016</th>\n",
       "      <th>Bit_1017</th>\n",
       "      <th>Bit_1019</th>\n",
       "    </tr>\n",
       "  </thead>\n",
       "  <tbody>\n",
       "    <tr>\n",
       "      <th>0</th>\n",
       "      <td>1</td>\n",
       "      <td>0</td>\n",
       "      <td>0</td>\n",
       "      <td>0</td>\n",
       "      <td>0</td>\n",
       "      <td>0</td>\n",
       "      <td>0</td>\n",
       "      <td>1</td>\n",
       "      <td>0</td>\n",
       "      <td>1</td>\n",
       "      <td>...</td>\n",
       "      <td>0</td>\n",
       "      <td>0</td>\n",
       "      <td>0</td>\n",
       "      <td>0</td>\n",
       "      <td>0</td>\n",
       "      <td>0</td>\n",
       "      <td>0</td>\n",
       "      <td>0</td>\n",
       "      <td>0</td>\n",
       "      <td>0</td>\n",
       "    </tr>\n",
       "    <tr>\n",
       "      <th>1</th>\n",
       "      <td>1</td>\n",
       "      <td>0</td>\n",
       "      <td>0</td>\n",
       "      <td>0</td>\n",
       "      <td>0</td>\n",
       "      <td>0</td>\n",
       "      <td>0</td>\n",
       "      <td>0</td>\n",
       "      <td>0</td>\n",
       "      <td>1</td>\n",
       "      <td>...</td>\n",
       "      <td>0</td>\n",
       "      <td>0</td>\n",
       "      <td>0</td>\n",
       "      <td>0</td>\n",
       "      <td>0</td>\n",
       "      <td>0</td>\n",
       "      <td>0</td>\n",
       "      <td>0</td>\n",
       "      <td>0</td>\n",
       "      <td>0</td>\n",
       "    </tr>\n",
       "    <tr>\n",
       "      <th>2</th>\n",
       "      <td>0</td>\n",
       "      <td>0</td>\n",
       "      <td>1</td>\n",
       "      <td>0</td>\n",
       "      <td>1</td>\n",
       "      <td>0</td>\n",
       "      <td>0</td>\n",
       "      <td>1</td>\n",
       "      <td>0</td>\n",
       "      <td>0</td>\n",
       "      <td>...</td>\n",
       "      <td>0</td>\n",
       "      <td>0</td>\n",
       "      <td>0</td>\n",
       "      <td>0</td>\n",
       "      <td>0</td>\n",
       "      <td>0</td>\n",
       "      <td>0</td>\n",
       "      <td>0</td>\n",
       "      <td>0</td>\n",
       "      <td>0</td>\n",
       "    </tr>\n",
       "    <tr>\n",
       "      <th>3</th>\n",
       "      <td>0</td>\n",
       "      <td>0</td>\n",
       "      <td>0</td>\n",
       "      <td>0</td>\n",
       "      <td>1</td>\n",
       "      <td>0</td>\n",
       "      <td>0</td>\n",
       "      <td>1</td>\n",
       "      <td>0</td>\n",
       "      <td>1</td>\n",
       "      <td>...</td>\n",
       "      <td>0</td>\n",
       "      <td>0</td>\n",
       "      <td>0</td>\n",
       "      <td>0</td>\n",
       "      <td>0</td>\n",
       "      <td>0</td>\n",
       "      <td>0</td>\n",
       "      <td>0</td>\n",
       "      <td>0</td>\n",
       "      <td>0</td>\n",
       "    </tr>\n",
       "    <tr>\n",
       "      <th>4</th>\n",
       "      <td>0</td>\n",
       "      <td>0</td>\n",
       "      <td>1</td>\n",
       "      <td>0</td>\n",
       "      <td>0</td>\n",
       "      <td>0</td>\n",
       "      <td>0</td>\n",
       "      <td>1</td>\n",
       "      <td>0</td>\n",
       "      <td>0</td>\n",
       "      <td>...</td>\n",
       "      <td>0</td>\n",
       "      <td>0</td>\n",
       "      <td>0</td>\n",
       "      <td>0</td>\n",
       "      <td>0</td>\n",
       "      <td>0</td>\n",
       "      <td>0</td>\n",
       "      <td>0</td>\n",
       "      <td>0</td>\n",
       "      <td>0</td>\n",
       "    </tr>\n",
       "    <tr>\n",
       "      <th>...</th>\n",
       "      <td>...</td>\n",
       "      <td>...</td>\n",
       "      <td>...</td>\n",
       "      <td>...</td>\n",
       "      <td>...</td>\n",
       "      <td>...</td>\n",
       "      <td>...</td>\n",
       "      <td>...</td>\n",
       "      <td>...</td>\n",
       "      <td>...</td>\n",
       "      <td>...</td>\n",
       "      <td>...</td>\n",
       "      <td>...</td>\n",
       "      <td>...</td>\n",
       "      <td>...</td>\n",
       "      <td>...</td>\n",
       "      <td>...</td>\n",
       "      <td>...</td>\n",
       "      <td>...</td>\n",
       "      <td>...</td>\n",
       "      <td>...</td>\n",
       "    </tr>\n",
       "    <tr>\n",
       "      <th>1395</th>\n",
       "      <td>1</td>\n",
       "      <td>0</td>\n",
       "      <td>0</td>\n",
       "      <td>0</td>\n",
       "      <td>0</td>\n",
       "      <td>0</td>\n",
       "      <td>0</td>\n",
       "      <td>1</td>\n",
       "      <td>1</td>\n",
       "      <td>0</td>\n",
       "      <td>...</td>\n",
       "      <td>0</td>\n",
       "      <td>1</td>\n",
       "      <td>0</td>\n",
       "      <td>1</td>\n",
       "      <td>0</td>\n",
       "      <td>0</td>\n",
       "      <td>1</td>\n",
       "      <td>1</td>\n",
       "      <td>0</td>\n",
       "      <td>1</td>\n",
       "    </tr>\n",
       "    <tr>\n",
       "      <th>1396</th>\n",
       "      <td>1</td>\n",
       "      <td>0</td>\n",
       "      <td>0</td>\n",
       "      <td>0</td>\n",
       "      <td>0</td>\n",
       "      <td>0</td>\n",
       "      <td>0</td>\n",
       "      <td>1</td>\n",
       "      <td>1</td>\n",
       "      <td>0</td>\n",
       "      <td>...</td>\n",
       "      <td>0</td>\n",
       "      <td>1</td>\n",
       "      <td>0</td>\n",
       "      <td>1</td>\n",
       "      <td>0</td>\n",
       "      <td>0</td>\n",
       "      <td>1</td>\n",
       "      <td>1</td>\n",
       "      <td>0</td>\n",
       "      <td>1</td>\n",
       "    </tr>\n",
       "    <tr>\n",
       "      <th>1397</th>\n",
       "      <td>1</td>\n",
       "      <td>0</td>\n",
       "      <td>0</td>\n",
       "      <td>0</td>\n",
       "      <td>0</td>\n",
       "      <td>0</td>\n",
       "      <td>0</td>\n",
       "      <td>1</td>\n",
       "      <td>1</td>\n",
       "      <td>0</td>\n",
       "      <td>...</td>\n",
       "      <td>0</td>\n",
       "      <td>1</td>\n",
       "      <td>0</td>\n",
       "      <td>1</td>\n",
       "      <td>0</td>\n",
       "      <td>0</td>\n",
       "      <td>1</td>\n",
       "      <td>1</td>\n",
       "      <td>0</td>\n",
       "      <td>1</td>\n",
       "    </tr>\n",
       "    <tr>\n",
       "      <th>1398</th>\n",
       "      <td>1</td>\n",
       "      <td>1</td>\n",
       "      <td>1</td>\n",
       "      <td>0</td>\n",
       "      <td>0</td>\n",
       "      <td>0</td>\n",
       "      <td>0</td>\n",
       "      <td>1</td>\n",
       "      <td>0</td>\n",
       "      <td>0</td>\n",
       "      <td>...</td>\n",
       "      <td>0</td>\n",
       "      <td>1</td>\n",
       "      <td>0</td>\n",
       "      <td>0</td>\n",
       "      <td>0</td>\n",
       "      <td>0</td>\n",
       "      <td>0</td>\n",
       "      <td>0</td>\n",
       "      <td>0</td>\n",
       "      <td>1</td>\n",
       "    </tr>\n",
       "    <tr>\n",
       "      <th>1399</th>\n",
       "      <td>1</td>\n",
       "      <td>0</td>\n",
       "      <td>0</td>\n",
       "      <td>0</td>\n",
       "      <td>0</td>\n",
       "      <td>0</td>\n",
       "      <td>0</td>\n",
       "      <td>1</td>\n",
       "      <td>1</td>\n",
       "      <td>0</td>\n",
       "      <td>...</td>\n",
       "      <td>0</td>\n",
       "      <td>0</td>\n",
       "      <td>0</td>\n",
       "      <td>1</td>\n",
       "      <td>0</td>\n",
       "      <td>0</td>\n",
       "      <td>1</td>\n",
       "      <td>1</td>\n",
       "      <td>0</td>\n",
       "      <td>1</td>\n",
       "    </tr>\n",
       "  </tbody>\n",
       "</table>\n",
       "<p>1400 rows × 205 columns</p>\n",
       "</div>"
      ],
      "text/plain": [
       "      Bit_1  Bit_4  Bit_8  Bit_14  Bit_15  Bit_25  Bit_31  Bit_33  Bit_36  \\\n",
       "0         1      0      0       0       0       0       0       1       0   \n",
       "1         1      0      0       0       0       0       0       0       0   \n",
       "2         0      0      1       0       1       0       0       1       0   \n",
       "3         0      0      0       0       1       0       0       1       0   \n",
       "4         0      0      1       0       0       0       0       1       0   \n",
       "...     ...    ...    ...     ...     ...     ...     ...     ...     ...   \n",
       "1395      1      0      0       0       0       0       0       1       1   \n",
       "1396      1      0      0       0       0       0       0       1       1   \n",
       "1397      1      0      0       0       0       0       0       1       1   \n",
       "1398      1      1      1       0       0       0       0       1       0   \n",
       "1399      1      0      0       0       0       0       0       1       1   \n",
       "\n",
       "      Bit_41  ...  Bit_967  Bit_971  Bit_980  Bit_997  Bit_999  Bit_1009  \\\n",
       "0          1  ...        0        0        0        0        0         0   \n",
       "1          1  ...        0        0        0        0        0         0   \n",
       "2          0  ...        0        0        0        0        0         0   \n",
       "3          1  ...        0        0        0        0        0         0   \n",
       "4          0  ...        0        0        0        0        0         0   \n",
       "...      ...  ...      ...      ...      ...      ...      ...       ...   \n",
       "1395       0  ...        0        1        0        1        0         0   \n",
       "1396       0  ...        0        1        0        1        0         0   \n",
       "1397       0  ...        0        1        0        1        0         0   \n",
       "1398       0  ...        0        1        0        0        0         0   \n",
       "1399       0  ...        0        0        0        1        0         0   \n",
       "\n",
       "      Bit_1010  Bit_1016  Bit_1017  Bit_1019  \n",
       "0            0         0         0         0  \n",
       "1            0         0         0         0  \n",
       "2            0         0         0         0  \n",
       "3            0         0         0         0  \n",
       "4            0         0         0         0  \n",
       "...        ...       ...       ...       ...  \n",
       "1395         1         1         0         1  \n",
       "1396         1         1         0         1  \n",
       "1397         1         1         0         1  \n",
       "1398         0         0         0         1  \n",
       "1399         1         1         0         1  \n",
       "\n",
       "[1400 rows x 205 columns]"
      ]
     },
     "execution_count": 64,
     "metadata": {},
     "output_type": "execute_result"
    }
   ],
   "source": [
    "reduced_df_cor"
   ]
  },
  {
   "cell_type": "code",
   "execution_count": 36,
   "metadata": {},
   "outputs": [
    {
     "data": {
      "text/html": [
       "<style>#sk-container-id-2 {color: black;}#sk-container-id-2 pre{padding: 0;}#sk-container-id-2 div.sk-toggleable {background-color: white;}#sk-container-id-2 label.sk-toggleable__label {cursor: pointer;display: block;width: 100%;margin-bottom: 0;padding: 0.3em;box-sizing: border-box;text-align: center;}#sk-container-id-2 label.sk-toggleable__label-arrow:before {content: \"▸\";float: left;margin-right: 0.25em;color: #696969;}#sk-container-id-2 label.sk-toggleable__label-arrow:hover:before {color: black;}#sk-container-id-2 div.sk-estimator:hover label.sk-toggleable__label-arrow:before {color: black;}#sk-container-id-2 div.sk-toggleable__content {max-height: 0;max-width: 0;overflow: hidden;text-align: left;background-color: #f0f8ff;}#sk-container-id-2 div.sk-toggleable__content pre {margin: 0.2em;color: black;border-radius: 0.25em;background-color: #f0f8ff;}#sk-container-id-2 input.sk-toggleable__control:checked~div.sk-toggleable__content {max-height: 200px;max-width: 100%;overflow: auto;}#sk-container-id-2 input.sk-toggleable__control:checked~label.sk-toggleable__label-arrow:before {content: \"▾\";}#sk-container-id-2 div.sk-estimator input.sk-toggleable__control:checked~label.sk-toggleable__label {background-color: #d4ebff;}#sk-container-id-2 div.sk-label input.sk-toggleable__control:checked~label.sk-toggleable__label {background-color: #d4ebff;}#sk-container-id-2 input.sk-hidden--visually {border: 0;clip: rect(1px 1px 1px 1px);clip: rect(1px, 1px, 1px, 1px);height: 1px;margin: -1px;overflow: hidden;padding: 0;position: absolute;width: 1px;}#sk-container-id-2 div.sk-estimator {font-family: monospace;background-color: #f0f8ff;border: 1px dotted black;border-radius: 0.25em;box-sizing: border-box;margin-bottom: 0.5em;}#sk-container-id-2 div.sk-estimator:hover {background-color: #d4ebff;}#sk-container-id-2 div.sk-parallel-item::after {content: \"\";width: 100%;border-bottom: 1px solid gray;flex-grow: 1;}#sk-container-id-2 div.sk-label:hover label.sk-toggleable__label {background-color: #d4ebff;}#sk-container-id-2 div.sk-serial::before {content: \"\";position: absolute;border-left: 1px solid gray;box-sizing: border-box;top: 0;bottom: 0;left: 50%;z-index: 0;}#sk-container-id-2 div.sk-serial {display: flex;flex-direction: column;align-items: center;background-color: white;padding-right: 0.2em;padding-left: 0.2em;position: relative;}#sk-container-id-2 div.sk-item {position: relative;z-index: 1;}#sk-container-id-2 div.sk-parallel {display: flex;align-items: stretch;justify-content: center;background-color: white;position: relative;}#sk-container-id-2 div.sk-item::before, #sk-container-id-2 div.sk-parallel-item::before {content: \"\";position: absolute;border-left: 1px solid gray;box-sizing: border-box;top: 0;bottom: 0;left: 50%;z-index: -1;}#sk-container-id-2 div.sk-parallel-item {display: flex;flex-direction: column;z-index: 1;position: relative;background-color: white;}#sk-container-id-2 div.sk-parallel-item:first-child::after {align-self: flex-end;width: 50%;}#sk-container-id-2 div.sk-parallel-item:last-child::after {align-self: flex-start;width: 50%;}#sk-container-id-2 div.sk-parallel-item:only-child::after {width: 0;}#sk-container-id-2 div.sk-dashed-wrapped {border: 1px dashed gray;margin: 0 0.4em 0.5em 0.4em;box-sizing: border-box;padding-bottom: 0.4em;background-color: white;}#sk-container-id-2 div.sk-label label {font-family: monospace;font-weight: bold;display: inline-block;line-height: 1.2em;}#sk-container-id-2 div.sk-label-container {text-align: center;}#sk-container-id-2 div.sk-container {/* jupyter's `normalize.less` sets `[hidden] { display: none; }` but bootstrap.min.css set `[hidden] { display: none !important; }` so we also need the `!important` here to be able to override the default hidden behavior on the sphinx rendered scikit-learn.org. See: https://github.com/scikit-learn/scikit-learn/issues/21755 */display: inline-block !important;position: relative;}#sk-container-id-2 div.sk-text-repr-fallback {display: none;}</style><div id=\"sk-container-id-2\" class=\"sk-top-container\"><div class=\"sk-text-repr-fallback\"><pre>GradientBoostingRegressor(learning_rate=0.01, max_depth=10, n_estimators=1000,\n",
       "                          random_state=42, subsample=0.5)</pre><b>In a Jupyter environment, please rerun this cell to show the HTML representation or trust the notebook. <br />On GitHub, the HTML representation is unable to render, please try loading this page with nbviewer.org.</b></div><div class=\"sk-container\" hidden><div class=\"sk-item\"><div class=\"sk-estimator sk-toggleable\"><input class=\"sk-toggleable__control sk-hidden--visually\" id=\"sk-estimator-id-2\" type=\"checkbox\" checked><label for=\"sk-estimator-id-2\" class=\"sk-toggleable__label sk-toggleable__label-arrow\">GradientBoostingRegressor</label><div class=\"sk-toggleable__content\"><pre>GradientBoostingRegressor(learning_rate=0.01, max_depth=10, n_estimators=1000,\n",
       "                          random_state=42, subsample=0.5)</pre></div></div></div></div></div>"
      ],
      "text/plain": [
       "GradientBoostingRegressor(learning_rate=0.01, max_depth=10, n_estimators=1000,\n",
       "                          random_state=42, subsample=0.5)"
      ]
     },
     "execution_count": 36,
     "metadata": {},
     "output_type": "execute_result"
    }
   ],
   "source": [
    "estimator.fit(reduced_df_cor, y_tr)"
   ]
  },
  {
   "cell_type": "code",
   "execution_count": 37,
   "metadata": {},
   "outputs": [],
   "source": [
    "y_pred_CV_GBR = cross_val_predict(estimator, reduced_df_cor, y_tr, cv=cv, n_jobs=-1)"
   ]
  },
  {
   "cell_type": "code",
   "execution_count": 38,
   "metadata": {},
   "outputs": [
    {
     "data": {
      "text/plain": [
       "0.7"
      ]
     },
     "execution_count": 38,
     "metadata": {},
     "output_type": "execute_result"
    }
   ],
   "source": [
    "Q2_CV = round(r2_score(y_tr, y_pred_CV_GBR), 2)\n",
    "Q2_CV"
   ]
  },
  {
   "cell_type": "code",
   "execution_count": 39,
   "metadata": {},
   "outputs": [
    {
     "data": {
      "text/plain": [
       "0.67"
      ]
     },
     "execution_count": 39,
     "metadata": {},
     "output_type": "execute_result"
    }
   ],
   "source": [
    "RMSE_CV=round(np.sqrt(mean_squared_error(y_tr, y_pred_CV_GBR)), 2)\n",
    "RMSE_CV"
   ]
  },
  {
   "cell_type": "code",
   "execution_count": 40,
   "metadata": {},
   "outputs": [
    {
     "data": {
      "text/plain": [
       "205"
      ]
     },
     "execution_count": 40,
     "metadata": {},
     "output_type": "execute_result"
    }
   ],
   "source": [
    "feature_name_reduced_df_cor = reduced_df_cor.columns.tolist()\n",
    "len(feature_name_reduced_df_cor)"
   ]
  },
  {
   "cell_type": "markdown",
   "metadata": {},
   "source": [
    "# Prediction for test set's molecules"
   ]
  },
  {
   "cell_type": "code",
   "execution_count": 41,
   "metadata": {},
   "outputs": [],
   "source": [
    "x_ts=desc_ts[feature_name_reduced_df_cor]"
   ]
  },
  {
   "cell_type": "code",
   "execution_count": 42,
   "metadata": {},
   "outputs": [],
   "source": [
    "y_ts = np.array(y_ts, dtype=np.float32)"
   ]
  },
  {
   "cell_type": "code",
   "execution_count": 43,
   "metadata": {},
   "outputs": [],
   "source": [
    "y_pred_GBR = estimator.predict(x_ts)"
   ]
  },
  {
   "cell_type": "code",
   "execution_count": 44,
   "metadata": {},
   "outputs": [
    {
     "data": {
      "text/plain": [
       "0.71"
      ]
     },
     "execution_count": 44,
     "metadata": {},
     "output_type": "execute_result"
    }
   ],
   "source": [
    "Q2_TS = round(r2_score(y_ts, y_pred_GBR), 2)\n",
    "Q2_TS"
   ]
  },
  {
   "cell_type": "code",
   "execution_count": 45,
   "metadata": {},
   "outputs": [
    {
     "data": {
      "text/plain": [
       "0.66"
      ]
     },
     "execution_count": 45,
     "metadata": {},
     "output_type": "execute_result"
    }
   ],
   "source": [
    "RMSE_TS=round(np.sqrt(mean_squared_error(y_ts, y_pred_GBR)), 2)\n",
    "RMSE_TS"
   ]
  },
  {
   "cell_type": "markdown",
   "metadata": {},
   "source": [
    "# save the model to disk"
   ]
  },
  {
   "cell_type": "code",
   "execution_count": 46,
   "metadata": {},
   "outputs": [],
   "source": [
    "pickle.dump(estimator, open('Models/Morgan_FP/GBR_after_cross_corr_Morgan_FP.pkl', 'wb'))"
   ]
  },
  {
   "cell_type": "markdown",
   "metadata": {},
   "source": [
    "# load the model from disk"
   ]
  },
  {
   "cell_type": "code",
   "execution_count": 47,
   "metadata": {},
   "outputs": [],
   "source": [
    "GBR_after_cross_corr_Morgan_FP = pickle.load(open('Models/Morgan_FP/GBR_after_cross_corr_Morgan_FP.pkl', 'rb'))"
   ]
  },
  {
   "cell_type": "markdown",
   "metadata": {},
   "source": [
    "# Permutation-importance"
   ]
  },
  {
   "cell_type": "code",
   "execution_count": 799,
   "metadata": {},
   "outputs": [],
   "source": [
    "import eli5\n",
    "from eli5.sklearn import PermutationImportance\n",
    "from sklearn.feature_selection import SelectFromModel"
   ]
  },
  {
   "cell_type": "code",
   "execution_count": 834,
   "metadata": {},
   "outputs": [],
   "source": [
    "sel = SelectFromModel(PermutationImportance(GradientBoostingRegressor(), cv=cv),threshold=0.005,).fit(reduced_df_cor, y_tr)"
   ]
  },
  {
   "cell_type": "code",
   "execution_count": 835,
   "metadata": {},
   "outputs": [
    {
     "data": {
      "text/plain": [
       "(1400, 33)"
      ]
     },
     "execution_count": 835,
     "metadata": {},
     "output_type": "execute_result"
    }
   ],
   "source": [
    "X_permut_import = sel.transform(reduced_df_cor)\n",
    "X_permut_import.shape"
   ]
  },
  {
   "cell_type": "code",
   "execution_count": 836,
   "metadata": {},
   "outputs": [
    {
     "data": {
      "text/plain": [
       "Index(['Bit_36', 'Bit_90', 'Bit_117', 'Bit_119', 'Bit_128', 'Bit_197',\n",
       "       'Bit_229', 'Bit_243', 'Bit_250', 'Bit_301', 'Bit_389', 'Bit_408',\n",
       "       'Bit_419', 'Bit_486', 'Bit_494', 'Bit_511', 'Bit_549', 'Bit_559',\n",
       "       'Bit_638', 'Bit_662', 'Bit_708', 'Bit_714', 'Bit_721', 'Bit_726',\n",
       "       'Bit_736', 'Bit_759', 'Bit_831', 'Bit_843', 'Bit_852', 'Bit_878',\n",
       "       'Bit_910', 'Bit_922', 'Bit_955'],\n",
       "      dtype='object')"
      ]
     },
     "execution_count": 836,
     "metadata": {},
     "output_type": "execute_result"
    }
   ],
   "source": [
    "feature_idx = sel.get_support()\n",
    "feature_name = reduced_df_cor.columns[feature_idx]\n",
    "feature_name "
   ]
  },
  {
   "cell_type": "code",
   "execution_count": 837,
   "metadata": {},
   "outputs": [
    {
     "data": {
      "text/html": [
       "<style>#sk-container-id-54 {color: black;}#sk-container-id-54 pre{padding: 0;}#sk-container-id-54 div.sk-toggleable {background-color: white;}#sk-container-id-54 label.sk-toggleable__label {cursor: pointer;display: block;width: 100%;margin-bottom: 0;padding: 0.3em;box-sizing: border-box;text-align: center;}#sk-container-id-54 label.sk-toggleable__label-arrow:before {content: \"▸\";float: left;margin-right: 0.25em;color: #696969;}#sk-container-id-54 label.sk-toggleable__label-arrow:hover:before {color: black;}#sk-container-id-54 div.sk-estimator:hover label.sk-toggleable__label-arrow:before {color: black;}#sk-container-id-54 div.sk-toggleable__content {max-height: 0;max-width: 0;overflow: hidden;text-align: left;background-color: #f0f8ff;}#sk-container-id-54 div.sk-toggleable__content pre {margin: 0.2em;color: black;border-radius: 0.25em;background-color: #f0f8ff;}#sk-container-id-54 input.sk-toggleable__control:checked~div.sk-toggleable__content {max-height: 200px;max-width: 100%;overflow: auto;}#sk-container-id-54 input.sk-toggleable__control:checked~label.sk-toggleable__label-arrow:before {content: \"▾\";}#sk-container-id-54 div.sk-estimator input.sk-toggleable__control:checked~label.sk-toggleable__label {background-color: #d4ebff;}#sk-container-id-54 div.sk-label input.sk-toggleable__control:checked~label.sk-toggleable__label {background-color: #d4ebff;}#sk-container-id-54 input.sk-hidden--visually {border: 0;clip: rect(1px 1px 1px 1px);clip: rect(1px, 1px, 1px, 1px);height: 1px;margin: -1px;overflow: hidden;padding: 0;position: absolute;width: 1px;}#sk-container-id-54 div.sk-estimator {font-family: monospace;background-color: #f0f8ff;border: 1px dotted black;border-radius: 0.25em;box-sizing: border-box;margin-bottom: 0.5em;}#sk-container-id-54 div.sk-estimator:hover {background-color: #d4ebff;}#sk-container-id-54 div.sk-parallel-item::after {content: \"\";width: 100%;border-bottom: 1px solid gray;flex-grow: 1;}#sk-container-id-54 div.sk-label:hover label.sk-toggleable__label {background-color: #d4ebff;}#sk-container-id-54 div.sk-serial::before {content: \"\";position: absolute;border-left: 1px solid gray;box-sizing: border-box;top: 0;bottom: 0;left: 50%;z-index: 0;}#sk-container-id-54 div.sk-serial {display: flex;flex-direction: column;align-items: center;background-color: white;padding-right: 0.2em;padding-left: 0.2em;position: relative;}#sk-container-id-54 div.sk-item {position: relative;z-index: 1;}#sk-container-id-54 div.sk-parallel {display: flex;align-items: stretch;justify-content: center;background-color: white;position: relative;}#sk-container-id-54 div.sk-item::before, #sk-container-id-54 div.sk-parallel-item::before {content: \"\";position: absolute;border-left: 1px solid gray;box-sizing: border-box;top: 0;bottom: 0;left: 50%;z-index: -1;}#sk-container-id-54 div.sk-parallel-item {display: flex;flex-direction: column;z-index: 1;position: relative;background-color: white;}#sk-container-id-54 div.sk-parallel-item:first-child::after {align-self: flex-end;width: 50%;}#sk-container-id-54 div.sk-parallel-item:last-child::after {align-self: flex-start;width: 50%;}#sk-container-id-54 div.sk-parallel-item:only-child::after {width: 0;}#sk-container-id-54 div.sk-dashed-wrapped {border: 1px dashed gray;margin: 0 0.4em 0.5em 0.4em;box-sizing: border-box;padding-bottom: 0.4em;background-color: white;}#sk-container-id-54 div.sk-label label {font-family: monospace;font-weight: bold;display: inline-block;line-height: 1.2em;}#sk-container-id-54 div.sk-label-container {text-align: center;}#sk-container-id-54 div.sk-container {/* jupyter's `normalize.less` sets `[hidden] { display: none; }` but bootstrap.min.css set `[hidden] { display: none !important; }` so we also need the `!important` here to be able to override the default hidden behavior on the sphinx rendered scikit-learn.org. See: https://github.com/scikit-learn/scikit-learn/issues/21755 */display: inline-block !important;position: relative;}#sk-container-id-54 div.sk-text-repr-fallback {display: none;}</style><div id=\"sk-container-id-54\" class=\"sk-top-container\"><div class=\"sk-text-repr-fallback\"><pre>GradientBoostingRegressor(learning_rate=0.01, max_depth=10, n_estimators=1000,\n",
       "                          random_state=42, subsample=0.5)</pre><b>In a Jupyter environment, please rerun this cell to show the HTML representation or trust the notebook. <br />On GitHub, the HTML representation is unable to render, please try loading this page with nbviewer.org.</b></div><div class=\"sk-container\" hidden><div class=\"sk-item\"><div class=\"sk-estimator sk-toggleable\"><input class=\"sk-toggleable__control sk-hidden--visually\" id=\"sk-estimator-id-87\" type=\"checkbox\" checked><label for=\"sk-estimator-id-87\" class=\"sk-toggleable__label sk-toggleable__label-arrow\">GradientBoostingRegressor</label><div class=\"sk-toggleable__content\"><pre>GradientBoostingRegressor(learning_rate=0.01, max_depth=10, n_estimators=1000,\n",
       "                          random_state=42, subsample=0.5)</pre></div></div></div></div></div>"
      ],
      "text/plain": [
       "GradientBoostingRegressor(learning_rate=0.01, max_depth=10, n_estimators=1000,\n",
       "                          random_state=42, subsample=0.5)"
      ]
     },
     "execution_count": 837,
     "metadata": {},
     "output_type": "execute_result"
    }
   ],
   "source": [
    "estimator.fit(X_permut_import, y_tr)"
   ]
  },
  {
   "cell_type": "code",
   "execution_count": 838,
   "metadata": {},
   "outputs": [],
   "source": [
    "y_pred_CV_GBR = cross_val_predict(estimator, X_permut_import, y_tr, cv=cv, n_jobs=-1)"
   ]
  },
  {
   "cell_type": "code",
   "execution_count": 839,
   "metadata": {},
   "outputs": [
    {
     "data": {
      "text/plain": [
       "0.59"
      ]
     },
     "execution_count": 839,
     "metadata": {},
     "output_type": "execute_result"
    }
   ],
   "source": [
    "Q2_CV = round(r2_score(y_tr, y_pred_CV_GBR), 2)\n",
    "Q2_CV"
   ]
  },
  {
   "cell_type": "code",
   "execution_count": 840,
   "metadata": {},
   "outputs": [
    {
     "data": {
      "text/plain": [
       "0.78"
      ]
     },
     "execution_count": 840,
     "metadata": {},
     "output_type": "execute_result"
    }
   ],
   "source": [
    "RMSE_CV=round(np.sqrt(mean_squared_error(y_tr, y_pred_CV_GBR)), 2)\n",
    "RMSE_CV"
   ]
  },
  {
   "cell_type": "markdown",
   "metadata": {},
   "source": [
    "# Prediction for test set's molecules"
   ]
  },
  {
   "cell_type": "code",
   "execution_count": 841,
   "metadata": {},
   "outputs": [],
   "source": [
    "x_ts=desc_ts[feature_name]"
   ]
  },
  {
   "cell_type": "code",
   "execution_count": 842,
   "metadata": {},
   "outputs": [],
   "source": [
    "y_ts = np.array(y_ts, dtype=np.float32)"
   ]
  },
  {
   "cell_type": "code",
   "execution_count": 843,
   "metadata": {},
   "outputs": [],
   "source": [
    "y_pred_GBR = estimator.predict(x_ts)"
   ]
  },
  {
   "cell_type": "code",
   "execution_count": 844,
   "metadata": {
    "scrolled": true
   },
   "outputs": [
    {
     "data": {
      "text/plain": [
       "0.64"
      ]
     },
     "execution_count": 844,
     "metadata": {},
     "output_type": "execute_result"
    }
   ],
   "source": [
    "Q2_TS = round(r2_score(y_ts, y_pred_GBR), 2)\n",
    "Q2_TS"
   ]
  },
  {
   "cell_type": "code",
   "execution_count": 845,
   "metadata": {
    "scrolled": true
   },
   "outputs": [
    {
     "data": {
      "text/plain": [
       "0.74"
      ]
     },
     "execution_count": 845,
     "metadata": {},
     "output_type": "execute_result"
    }
   ],
   "source": [
    "RMSE_TS=round(np.sqrt(mean_squared_error(y_ts, y_pred_GBR)), 2)\n",
    "RMSE_TS"
   ]
  },
  {
   "cell_type": "markdown",
   "metadata": {},
   "source": [
    " # Recursive feature elimination"
   ]
  },
  {
   "cell_type": "code",
   "execution_count": 48,
   "metadata": {},
   "outputs": [
    {
     "data": {
      "text/html": [
       "<style>#sk-container-id-3 {color: black;}#sk-container-id-3 pre{padding: 0;}#sk-container-id-3 div.sk-toggleable {background-color: white;}#sk-container-id-3 label.sk-toggleable__label {cursor: pointer;display: block;width: 100%;margin-bottom: 0;padding: 0.3em;box-sizing: border-box;text-align: center;}#sk-container-id-3 label.sk-toggleable__label-arrow:before {content: \"▸\";float: left;margin-right: 0.25em;color: #696969;}#sk-container-id-3 label.sk-toggleable__label-arrow:hover:before {color: black;}#sk-container-id-3 div.sk-estimator:hover label.sk-toggleable__label-arrow:before {color: black;}#sk-container-id-3 div.sk-toggleable__content {max-height: 0;max-width: 0;overflow: hidden;text-align: left;background-color: #f0f8ff;}#sk-container-id-3 div.sk-toggleable__content pre {margin: 0.2em;color: black;border-radius: 0.25em;background-color: #f0f8ff;}#sk-container-id-3 input.sk-toggleable__control:checked~div.sk-toggleable__content {max-height: 200px;max-width: 100%;overflow: auto;}#sk-container-id-3 input.sk-toggleable__control:checked~label.sk-toggleable__label-arrow:before {content: \"▾\";}#sk-container-id-3 div.sk-estimator input.sk-toggleable__control:checked~label.sk-toggleable__label {background-color: #d4ebff;}#sk-container-id-3 div.sk-label input.sk-toggleable__control:checked~label.sk-toggleable__label {background-color: #d4ebff;}#sk-container-id-3 input.sk-hidden--visually {border: 0;clip: rect(1px 1px 1px 1px);clip: rect(1px, 1px, 1px, 1px);height: 1px;margin: -1px;overflow: hidden;padding: 0;position: absolute;width: 1px;}#sk-container-id-3 div.sk-estimator {font-family: monospace;background-color: #f0f8ff;border: 1px dotted black;border-radius: 0.25em;box-sizing: border-box;margin-bottom: 0.5em;}#sk-container-id-3 div.sk-estimator:hover {background-color: #d4ebff;}#sk-container-id-3 div.sk-parallel-item::after {content: \"\";width: 100%;border-bottom: 1px solid gray;flex-grow: 1;}#sk-container-id-3 div.sk-label:hover label.sk-toggleable__label {background-color: #d4ebff;}#sk-container-id-3 div.sk-serial::before {content: \"\";position: absolute;border-left: 1px solid gray;box-sizing: border-box;top: 0;bottom: 0;left: 50%;z-index: 0;}#sk-container-id-3 div.sk-serial {display: flex;flex-direction: column;align-items: center;background-color: white;padding-right: 0.2em;padding-left: 0.2em;position: relative;}#sk-container-id-3 div.sk-item {position: relative;z-index: 1;}#sk-container-id-3 div.sk-parallel {display: flex;align-items: stretch;justify-content: center;background-color: white;position: relative;}#sk-container-id-3 div.sk-item::before, #sk-container-id-3 div.sk-parallel-item::before {content: \"\";position: absolute;border-left: 1px solid gray;box-sizing: border-box;top: 0;bottom: 0;left: 50%;z-index: -1;}#sk-container-id-3 div.sk-parallel-item {display: flex;flex-direction: column;z-index: 1;position: relative;background-color: white;}#sk-container-id-3 div.sk-parallel-item:first-child::after {align-self: flex-end;width: 50%;}#sk-container-id-3 div.sk-parallel-item:last-child::after {align-self: flex-start;width: 50%;}#sk-container-id-3 div.sk-parallel-item:only-child::after {width: 0;}#sk-container-id-3 div.sk-dashed-wrapped {border: 1px dashed gray;margin: 0 0.4em 0.5em 0.4em;box-sizing: border-box;padding-bottom: 0.4em;background-color: white;}#sk-container-id-3 div.sk-label label {font-family: monospace;font-weight: bold;display: inline-block;line-height: 1.2em;}#sk-container-id-3 div.sk-label-container {text-align: center;}#sk-container-id-3 div.sk-container {/* jupyter's `normalize.less` sets `[hidden] { display: none; }` but bootstrap.min.css set `[hidden] { display: none !important; }` so we also need the `!important` here to be able to override the default hidden behavior on the sphinx rendered scikit-learn.org. See: https://github.com/scikit-learn/scikit-learn/issues/21755 */display: inline-block !important;position: relative;}#sk-container-id-3 div.sk-text-repr-fallback {display: none;}</style><div id=\"sk-container-id-3\" class=\"sk-top-container\"><div class=\"sk-text-repr-fallback\"><pre>GradientBoostingRegressor(learning_rate=0.01, max_depth=10, n_estimators=1000,\n",
       "                          random_state=42, subsample=0.5)</pre><b>In a Jupyter environment, please rerun this cell to show the HTML representation or trust the notebook. <br />On GitHub, the HTML representation is unable to render, please try loading this page with nbviewer.org.</b></div><div class=\"sk-container\" hidden><div class=\"sk-item\"><div class=\"sk-estimator sk-toggleable\"><input class=\"sk-toggleable__control sk-hidden--visually\" id=\"sk-estimator-id-3\" type=\"checkbox\" checked><label for=\"sk-estimator-id-3\" class=\"sk-toggleable__label sk-toggleable__label-arrow\">GradientBoostingRegressor</label><div class=\"sk-toggleable__content\"><pre>GradientBoostingRegressor(learning_rate=0.01, max_depth=10, n_estimators=1000,\n",
       "                          random_state=42, subsample=0.5)</pre></div></div></div></div></div>"
      ],
      "text/plain": [
       "GradientBoostingRegressor(learning_rate=0.01, max_depth=10, n_estimators=1000,\n",
       "                          random_state=42, subsample=0.5)"
      ]
     },
     "execution_count": 48,
     "metadata": {},
     "output_type": "execute_result"
    }
   ],
   "source": [
    "from sklearn.feature_selection import RFECV\n",
    "estimator"
   ]
  },
  {
   "cell_type": "code",
   "execution_count": 49,
   "metadata": {},
   "outputs": [
    {
     "data": {
      "text/html": [
       "<style>#sk-container-id-4 {color: black;}#sk-container-id-4 pre{padding: 0;}#sk-container-id-4 div.sk-toggleable {background-color: white;}#sk-container-id-4 label.sk-toggleable__label {cursor: pointer;display: block;width: 100%;margin-bottom: 0;padding: 0.3em;box-sizing: border-box;text-align: center;}#sk-container-id-4 label.sk-toggleable__label-arrow:before {content: \"▸\";float: left;margin-right: 0.25em;color: #696969;}#sk-container-id-4 label.sk-toggleable__label-arrow:hover:before {color: black;}#sk-container-id-4 div.sk-estimator:hover label.sk-toggleable__label-arrow:before {color: black;}#sk-container-id-4 div.sk-toggleable__content {max-height: 0;max-width: 0;overflow: hidden;text-align: left;background-color: #f0f8ff;}#sk-container-id-4 div.sk-toggleable__content pre {margin: 0.2em;color: black;border-radius: 0.25em;background-color: #f0f8ff;}#sk-container-id-4 input.sk-toggleable__control:checked~div.sk-toggleable__content {max-height: 200px;max-width: 100%;overflow: auto;}#sk-container-id-4 input.sk-toggleable__control:checked~label.sk-toggleable__label-arrow:before {content: \"▾\";}#sk-container-id-4 div.sk-estimator input.sk-toggleable__control:checked~label.sk-toggleable__label {background-color: #d4ebff;}#sk-container-id-4 div.sk-label input.sk-toggleable__control:checked~label.sk-toggleable__label {background-color: #d4ebff;}#sk-container-id-4 input.sk-hidden--visually {border: 0;clip: rect(1px 1px 1px 1px);clip: rect(1px, 1px, 1px, 1px);height: 1px;margin: -1px;overflow: hidden;padding: 0;position: absolute;width: 1px;}#sk-container-id-4 div.sk-estimator {font-family: monospace;background-color: #f0f8ff;border: 1px dotted black;border-radius: 0.25em;box-sizing: border-box;margin-bottom: 0.5em;}#sk-container-id-4 div.sk-estimator:hover {background-color: #d4ebff;}#sk-container-id-4 div.sk-parallel-item::after {content: \"\";width: 100%;border-bottom: 1px solid gray;flex-grow: 1;}#sk-container-id-4 div.sk-label:hover label.sk-toggleable__label {background-color: #d4ebff;}#sk-container-id-4 div.sk-serial::before {content: \"\";position: absolute;border-left: 1px solid gray;box-sizing: border-box;top: 0;bottom: 0;left: 50%;z-index: 0;}#sk-container-id-4 div.sk-serial {display: flex;flex-direction: column;align-items: center;background-color: white;padding-right: 0.2em;padding-left: 0.2em;position: relative;}#sk-container-id-4 div.sk-item {position: relative;z-index: 1;}#sk-container-id-4 div.sk-parallel {display: flex;align-items: stretch;justify-content: center;background-color: white;position: relative;}#sk-container-id-4 div.sk-item::before, #sk-container-id-4 div.sk-parallel-item::before {content: \"\";position: absolute;border-left: 1px solid gray;box-sizing: border-box;top: 0;bottom: 0;left: 50%;z-index: -1;}#sk-container-id-4 div.sk-parallel-item {display: flex;flex-direction: column;z-index: 1;position: relative;background-color: white;}#sk-container-id-4 div.sk-parallel-item:first-child::after {align-self: flex-end;width: 50%;}#sk-container-id-4 div.sk-parallel-item:last-child::after {align-self: flex-start;width: 50%;}#sk-container-id-4 div.sk-parallel-item:only-child::after {width: 0;}#sk-container-id-4 div.sk-dashed-wrapped {border: 1px dashed gray;margin: 0 0.4em 0.5em 0.4em;box-sizing: border-box;padding-bottom: 0.4em;background-color: white;}#sk-container-id-4 div.sk-label label {font-family: monospace;font-weight: bold;display: inline-block;line-height: 1.2em;}#sk-container-id-4 div.sk-label-container {text-align: center;}#sk-container-id-4 div.sk-container {/* jupyter's `normalize.less` sets `[hidden] { display: none; }` but bootstrap.min.css set `[hidden] { display: none !important; }` so we also need the `!important` here to be able to override the default hidden behavior on the sphinx rendered scikit-learn.org. See: https://github.com/scikit-learn/scikit-learn/issues/21755 */display: inline-block !important;position: relative;}#sk-container-id-4 div.sk-text-repr-fallback {display: none;}</style><div id=\"sk-container-id-4\" class=\"sk-top-container\"><div class=\"sk-text-repr-fallback\"><pre>RFECV(cv=KFold(n_splits=5, random_state=42, shuffle=True),\n",
       "      estimator=GradientBoostingRegressor(learning_rate=0.01, max_depth=10,\n",
       "                                          n_estimators=1000, random_state=42,\n",
       "                                          subsample=0.5),\n",
       "      scoring=&#x27;r2&#x27;)</pre><b>In a Jupyter environment, please rerun this cell to show the HTML representation or trust the notebook. <br />On GitHub, the HTML representation is unable to render, please try loading this page with nbviewer.org.</b></div><div class=\"sk-container\" hidden><div class=\"sk-item sk-dashed-wrapped\"><div class=\"sk-label-container\"><div class=\"sk-label sk-toggleable\"><input class=\"sk-toggleable__control sk-hidden--visually\" id=\"sk-estimator-id-4\" type=\"checkbox\" ><label for=\"sk-estimator-id-4\" class=\"sk-toggleable__label sk-toggleable__label-arrow\">RFECV</label><div class=\"sk-toggleable__content\"><pre>RFECV(cv=KFold(n_splits=5, random_state=42, shuffle=True),\n",
       "      estimator=GradientBoostingRegressor(learning_rate=0.01, max_depth=10,\n",
       "                                          n_estimators=1000, random_state=42,\n",
       "                                          subsample=0.5),\n",
       "      scoring=&#x27;r2&#x27;)</pre></div></div></div><div class=\"sk-parallel\"><div class=\"sk-parallel-item\"><div class=\"sk-item\"><div class=\"sk-label-container\"><div class=\"sk-label sk-toggleable\"><input class=\"sk-toggleable__control sk-hidden--visually\" id=\"sk-estimator-id-5\" type=\"checkbox\" ><label for=\"sk-estimator-id-5\" class=\"sk-toggleable__label sk-toggleable__label-arrow\">estimator: GradientBoostingRegressor</label><div class=\"sk-toggleable__content\"><pre>GradientBoostingRegressor(learning_rate=0.01, max_depth=10, n_estimators=1000,\n",
       "                          random_state=42, subsample=0.5)</pre></div></div></div><div class=\"sk-serial\"><div class=\"sk-item\"><div class=\"sk-estimator sk-toggleable\"><input class=\"sk-toggleable__control sk-hidden--visually\" id=\"sk-estimator-id-6\" type=\"checkbox\" ><label for=\"sk-estimator-id-6\" class=\"sk-toggleable__label sk-toggleable__label-arrow\">GradientBoostingRegressor</label><div class=\"sk-toggleable__content\"><pre>GradientBoostingRegressor(learning_rate=0.01, max_depth=10, n_estimators=1000,\n",
       "                          random_state=42, subsample=0.5)</pre></div></div></div></div></div></div></div></div></div></div>"
      ],
      "text/plain": [
       "RFECV(cv=KFold(n_splits=5, random_state=42, shuffle=True),\n",
       "      estimator=GradientBoostingRegressor(learning_rate=0.01, max_depth=10,\n",
       "                                          n_estimators=1000, random_state=42,\n",
       "                                          subsample=0.5),\n",
       "      scoring='r2')"
      ]
     },
     "execution_count": 49,
     "metadata": {},
     "output_type": "execute_result"
    }
   ],
   "source": [
    "rfecv = RFECV(estimator=estimator, cv=cv, scoring='r2')\n",
    "rfecv.fit(reduced_df_cor, y_tr)"
   ]
  },
  {
   "cell_type": "code",
   "execution_count": 50,
   "metadata": {},
   "outputs": [
    {
     "data": {
      "image/png": "[encoded data removed]",
      "text/plain": [
       "<Figure size 640x480 with 1 Axes>"
      ]
     },
     "metadata": {},
     "output_type": "display_data"
    },
    {
     "name": "stdout",
     "output_type": "stream",
     "text": [
      "The optimal number of features: 191\n"
     ]
    }
   ],
   "source": [
    "plt.plot(range(1, len(rfecv.cv_results_[\"mean_test_score\"]) + 1), rfecv.cv_results_[\"mean_test_score\"], color='#303F9F', linewidth=3)\n",
    "plt.xlabel(\"Number of Selected Features\")\n",
    "plt.ylabel(\"CV Score\")\n",
    "plt.title(\"Recursive Feature Elimination (RFE)\")\n",
    "plt.show()\n",
    "print(\"The optimal number of features: {}\".format(rfecv.n_features_))"
   ]
  },
  {
   "cell_type": "markdown",
   "metadata": {},
   "source": [
    "Make a new DataFrame called \"X_rfe\" that contains selected features."
   ]
  },
  {
   "cell_type": "code",
   "execution_count": 214,
   "metadata": {},
   "outputs": [],
   "source": [
    "reduced_df_cor = np.array(reduced_df_cor, dtype=np.float32)"
   ]
  },
  {
   "cell_type": "code",
   "execution_count": 215,
   "metadata": {},
   "outputs": [],
   "source": [
    "X_rfe = reduced_df_cor[:, rfecv.support_]"
   ]
  },
  {
   "cell_type": "code",
   "execution_count": 216,
   "metadata": {},
   "outputs": [
    {
     "data": {
      "text/plain": [
       "(1400, 191)"
      ]
     },
     "execution_count": 216,
     "metadata": {},
     "output_type": "execute_result"
    }
   ],
   "source": [
    "X_rfe.shape"
   ]
  },
  {
   "cell_type": "code",
   "execution_count": 201,
   "metadata": {},
   "outputs": [
    {
     "data": {
      "text/html": [
       "<style>#sk-container-id-9 {color: black;}#sk-container-id-9 pre{padding: 0;}#sk-container-id-9 div.sk-toggleable {background-color: white;}#sk-container-id-9 label.sk-toggleable__label {cursor: pointer;display: block;width: 100%;margin-bottom: 0;padding: 0.3em;box-sizing: border-box;text-align: center;}#sk-container-id-9 label.sk-toggleable__label-arrow:before {content: \"▸\";float: left;margin-right: 0.25em;color: #696969;}#sk-container-id-9 label.sk-toggleable__label-arrow:hover:before {color: black;}#sk-container-id-9 div.sk-estimator:hover label.sk-toggleable__label-arrow:before {color: black;}#sk-container-id-9 div.sk-toggleable__content {max-height: 0;max-width: 0;overflow: hidden;text-align: left;background-color: #f0f8ff;}#sk-container-id-9 div.sk-toggleable__content pre {margin: 0.2em;color: black;border-radius: 0.25em;background-color: #f0f8ff;}#sk-container-id-9 input.sk-toggleable__control:checked~div.sk-toggleable__content {max-height: 200px;max-width: 100%;overflow: auto;}#sk-container-id-9 input.sk-toggleable__control:checked~label.sk-toggleable__label-arrow:before {content: \"▾\";}#sk-container-id-9 div.sk-estimator input.sk-toggleable__control:checked~label.sk-toggleable__label {background-color: #d4ebff;}#sk-container-id-9 div.sk-label input.sk-toggleable__control:checked~label.sk-toggleable__label {background-color: #d4ebff;}#sk-container-id-9 input.sk-hidden--visually {border: 0;clip: rect(1px 1px 1px 1px);clip: rect(1px, 1px, 1px, 1px);height: 1px;margin: -1px;overflow: hidden;padding: 0;position: absolute;width: 1px;}#sk-container-id-9 div.sk-estimator {font-family: monospace;background-color: #f0f8ff;border: 1px dotted black;border-radius: 0.25em;box-sizing: border-box;margin-bottom: 0.5em;}#sk-container-id-9 div.sk-estimator:hover {background-color: #d4ebff;}#sk-container-id-9 div.sk-parallel-item::after {content: \"\";width: 100%;border-bottom: 1px solid gray;flex-grow: 1;}#sk-container-id-9 div.sk-label:hover label.sk-toggleable__label {background-color: #d4ebff;}#sk-container-id-9 div.sk-serial::before {content: \"\";position: absolute;border-left: 1px solid gray;box-sizing: border-box;top: 0;bottom: 0;left: 50%;z-index: 0;}#sk-container-id-9 div.sk-serial {display: flex;flex-direction: column;align-items: center;background-color: white;padding-right: 0.2em;padding-left: 0.2em;position: relative;}#sk-container-id-9 div.sk-item {position: relative;z-index: 1;}#sk-container-id-9 div.sk-parallel {display: flex;align-items: stretch;justify-content: center;background-color: white;position: relative;}#sk-container-id-9 div.sk-item::before, #sk-container-id-9 div.sk-parallel-item::before {content: \"\";position: absolute;border-left: 1px solid gray;box-sizing: border-box;top: 0;bottom: 0;left: 50%;z-index: -1;}#sk-container-id-9 div.sk-parallel-item {display: flex;flex-direction: column;z-index: 1;position: relative;background-color: white;}#sk-container-id-9 div.sk-parallel-item:first-child::after {align-self: flex-end;width: 50%;}#sk-container-id-9 div.sk-parallel-item:last-child::after {align-self: flex-start;width: 50%;}#sk-container-id-9 div.sk-parallel-item:only-child::after {width: 0;}#sk-container-id-9 div.sk-dashed-wrapped {border: 1px dashed gray;margin: 0 0.4em 0.5em 0.4em;box-sizing: border-box;padding-bottom: 0.4em;background-color: white;}#sk-container-id-9 div.sk-label label {font-family: monospace;font-weight: bold;display: inline-block;line-height: 1.2em;}#sk-container-id-9 div.sk-label-container {text-align: center;}#sk-container-id-9 div.sk-container {/* jupyter's `normalize.less` sets `[hidden] { display: none; }` but bootstrap.min.css set `[hidden] { display: none !important; }` so we also need the `!important` here to be able to override the default hidden behavior on the sphinx rendered scikit-learn.org. See: https://github.com/scikit-learn/scikit-learn/issues/21755 */display: inline-block !important;position: relative;}#sk-container-id-9 div.sk-text-repr-fallback {display: none;}</style><div id=\"sk-container-id-9\" class=\"sk-top-container\"><div class=\"sk-text-repr-fallback\"><pre>GradientBoostingRegressor(learning_rate=0.01, max_depth=10, n_estimators=1000,\n",
       "                          random_state=42, subsample=0.5)</pre><b>In a Jupyter environment, please rerun this cell to show the HTML representation or trust the notebook. <br />On GitHub, the HTML representation is unable to render, please try loading this page with nbviewer.org.</b></div><div class=\"sk-container\" hidden><div class=\"sk-item\"><div class=\"sk-estimator sk-toggleable\"><input class=\"sk-toggleable__control sk-hidden--visually\" id=\"sk-estimator-id-15\" type=\"checkbox\" checked><label for=\"sk-estimator-id-15\" class=\"sk-toggleable__label sk-toggleable__label-arrow\">GradientBoostingRegressor</label><div class=\"sk-toggleable__content\"><pre>GradientBoostingRegressor(learning_rate=0.01, max_depth=10, n_estimators=1000,\n",
       "                          random_state=42, subsample=0.5)</pre></div></div></div></div></div>"
      ],
      "text/plain": [
       "GradientBoostingRegressor(learning_rate=0.01, max_depth=10, n_estimators=1000,\n",
       "                          random_state=42, subsample=0.5)"
      ]
     },
     "execution_count": 201,
     "metadata": {},
     "output_type": "execute_result"
    }
   ],
   "source": [
    "estimator.fit(X_rfe, y_tr)"
   ]
  },
  {
   "cell_type": "code",
   "execution_count": 202,
   "metadata": {},
   "outputs": [],
   "source": [
    "y_pred_CV_GBR = cross_val_predict(estimator, X_rfe, y_tr, cv=cv, n_jobs=-1)"
   ]
  },
  {
   "cell_type": "code",
   "execution_count": 203,
   "metadata": {},
   "outputs": [
    {
     "data": {
      "text/plain": [
       "0.7"
      ]
     },
     "execution_count": 203,
     "metadata": {},
     "output_type": "execute_result"
    }
   ],
   "source": [
    "Q2_CV = round(r2_score(y_tr, y_pred_CV_GBR), 2)\n",
    "Q2_CV"
   ]
  },
  {
   "cell_type": "code",
   "execution_count": 204,
   "metadata": {},
   "outputs": [
    {
     "data": {
      "text/plain": [
       "0.67"
      ]
     },
     "execution_count": 204,
     "metadata": {},
     "output_type": "execute_result"
    }
   ],
   "source": [
    "RMSE_CV=round(np.sqrt(mean_squared_error(y_tr, y_pred_CV_GBR)), 2)\n",
    "RMSE_CV"
   ]
  },
  {
   "cell_type": "code",
   "execution_count": 218,
   "metadata": {},
   "outputs": [],
   "source": [
    "reduced_df_cor=x_tr_const_and_nearcont.drop(to_drop, axis=1)"
   ]
  },
  {
   "cell_type": "code",
   "execution_count": 244,
   "metadata": {},
   "outputs": [
    {
     "data": {
      "text/plain": [
       "Index(['Bit_1', 'Bit_4', 'Bit_8', 'Bit_15', 'Bit_25', 'Bit_31', 'Bit_33',\n",
       "       'Bit_36', 'Bit_41', 'Bit_42',\n",
       "       ...\n",
       "       'Bit_961', 'Bit_967', 'Bit_980', 'Bit_997', 'Bit_999', 'Bit_1009',\n",
       "       'Bit_1010', 'Bit_1016', 'Bit_1017', 'Bit_1019'],\n",
       "      dtype='object', length=191)"
      ]
     },
     "execution_count": 244,
     "metadata": {},
     "output_type": "execute_result"
    }
   ],
   "source": [
    "feature_idx = rfecv.get_support()\n",
    "feature_name_rfecv = reduced_df_cor.columns[feature_idx]\n",
    "feature_name_rfecv"
   ]
  },
  {
   "cell_type": "code",
   "execution_count": null,
   "metadata": {},
   "outputs": [],
   "source": [
    "df = pd.DataFrame(data[1:], columns=feature_name_rfecv)"
   ]
  },
  {
   "cell_type": "code",
   "execution_count": 248,
   "metadata": {},
   "outputs": [
    {
     "data": {
      "text/plain": [
       "pandas.core.indexes.base.Index"
      ]
     },
     "execution_count": 248,
     "metadata": {},
     "output_type": "execute_result"
    }
   ],
   "source": [
    "type(feature_name_rfecv)"
   ]
  },
  {
   "cell_type": "code",
   "execution_count": 255,
   "metadata": {},
   "outputs": [],
   "source": [
    "from pathlib import Path"
   ]
  },
  {
   "cell_type": "code",
   "execution_count": 260,
   "metadata": {},
   "outputs": [],
   "source": [
    "urls=list(feature_name_rfecv)"
   ]
  },
  {
   "cell_type": "code",
   "execution_count": 258,
   "metadata": {},
   "outputs": [],
   "source": [
    "path = Path('feature_name_rfecv_MF.txt')"
   ]
  },
  {
   "cell_type": "code",
   "execution_count": 259,
   "metadata": {},
   "outputs": [
    {
     "data": {
      "text/plain": [
       "1510"
      ]
     },
     "execution_count": 259,
     "metadata": {},
     "output_type": "execute_result"
    }
   ],
   "source": [
    "path.write_text('\\n'.join(urls))"
   ]
  },
  {
   "cell_type": "markdown",
   "metadata": {},
   "source": [
    "# Prediction for test set's molecules"
   ]
  },
  {
   "cell_type": "code",
   "execution_count": 205,
   "metadata": {},
   "outputs": [],
   "source": [
    "x_ts=desc_ts[feature_name_rfecv]"
   ]
  },
  {
   "cell_type": "code",
   "execution_count": 239,
   "metadata": {},
   "outputs": [],
   "source": [
    "x_ts=desc_ts[proba]"
   ]
  },
  {
   "cell_type": "code",
   "execution_count": 206,
   "metadata": {},
   "outputs": [],
   "source": [
    "y_ts = np.array(y_ts, dtype=np.float32)"
   ]
  },
  {
   "cell_type": "code",
   "execution_count": 207,
   "metadata": {},
   "outputs": [],
   "source": [
    "y_pred_GBR = estimator.predict(x_ts)"
   ]
  },
  {
   "cell_type": "code",
   "execution_count": 208,
   "metadata": {
    "scrolled": true
   },
   "outputs": [
    {
     "data": {
      "text/plain": [
       "0.71"
      ]
     },
     "execution_count": 208,
     "metadata": {},
     "output_type": "execute_result"
    }
   ],
   "source": [
    "Q2_TS = round(r2_score(y_ts, y_pred_GBR), 2)\n",
    "Q2_TS"
   ]
  },
  {
   "cell_type": "code",
   "execution_count": 209,
   "metadata": {
    "scrolled": true
   },
   "outputs": [
    {
     "data": {
      "text/plain": [
       "0.66"
      ]
     },
     "execution_count": 209,
     "metadata": {},
     "output_type": "execute_result"
    }
   ],
   "source": [
    "RMSE_TS=round(np.sqrt(mean_squared_error(y_ts, y_pred_GBR)), 2)\n",
    "RMSE_TS"
   ]
  },
  {
   "cell_type": "markdown",
   "metadata": {},
   "source": [
    "# save the model to disk"
   ]
  },
  {
   "cell_type": "code",
   "execution_count": 210,
   "metadata": {},
   "outputs": [],
   "source": [
    "pickle.dump(estimator, open('Models/Morgan_FP/HDAC3_GBR_MF_final_FS.pkl', 'wb'))"
   ]
  },
  {
   "cell_type": "markdown",
   "metadata": {},
   "source": [
    "# load the model from disk"
   ]
  },
  {
   "cell_type": "code",
   "execution_count": 71,
   "metadata": {},
   "outputs": [],
   "source": [
    "best_GBR = pickle.load(open('Models/Morgan_FP/HDAC3_GBR_MF_final_FS.pkl', 'rb'))"
   ]
  },
  {
   "cell_type": "markdown",
   "metadata": {},
   "source": [
    "# 10. Y-randomization RF model"
   ]
  },
  {
   "cell_type": "code",
   "execution_count": 72,
   "metadata": {},
   "outputs": [
    {
     "name": "stderr",
     "output_type": "stream",
     "text": [
      "[Parallel(n_jobs=-1)]: Using backend LokyBackend with 16 concurrent workers.\n",
      "[Parallel(n_jobs=-1)]: Done  18 tasks      | elapsed:  5.1min\n"
     ]
    },
    {
     "name": "stdout",
     "output_type": "stream",
     "text": [
      "True score =  0.69 \n",
      "Y-randomization =  -0.33 \n",
      "p-value =  0.0196\n"
     ]
    },
    {
     "name": "stderr",
     "output_type": "stream",
     "text": [
      "[Parallel(n_jobs=-1)]: Done  50 out of  50 | elapsed: 10.0min finished\n"
     ]
    }
   ],
   "source": [
    "permutations = 50\n",
    "score, permutation_scores, pvalue = permutation_test_score(best_GBR, X_rfe, y_tr,\n",
    "                                                           cv=cv, scoring='r2',\n",
    "                                                           n_permutations=permutations,\n",
    "                                                           n_jobs=-1,\n",
    "                                                           verbose=1,\n",
    "                                                           random_state=seed)\n",
    "print('True score = ', score.round(2),\n",
    "      '\\nY-randomization = ', np.mean(permutation_scores).round(2),\n",
    "      '\\np-value = ', pvalue.round(4))"
   ]
  },
  {
   "cell_type": "markdown",
   "metadata": {},
   "source": [
    "# 11. Estimating applicability domain. Method - Euclidian distances, K=1"
   ]
  },
  {
   "cell_type": "code",
   "execution_count": 75,
   "metadata": {},
   "outputs": [],
   "source": [
    "neighbors_k= pairwise_distances(X_rfe, n_jobs=-1)\n",
    "neighbors_k.sort(0)"
   ]
  },
  {
   "cell_type": "code",
   "execution_count": 76,
   "metadata": {},
   "outputs": [
    {
     "data": {
      "text/html": [
       "<div>\n",
       "<style scoped>\n",
       "    .dataframe tbody tr th:only-of-type {\n",
       "        vertical-align: middle;\n",
       "    }\n",
       "\n",
       "    .dataframe tbody tr th {\n",
       "        vertical-align: top;\n",
       "    }\n",
       "\n",
       "    .dataframe thead th {\n",
       "        text-align: right;\n",
       "    }\n",
       "</style>\n",
       "<table border=\"1\" class=\"dataframe\">\n",
       "  <thead>\n",
       "    <tr style=\"text-align: right;\">\n",
       "      <th></th>\n",
       "      <th>0</th>\n",
       "      <th>1</th>\n",
       "      <th>2</th>\n",
       "      <th>3</th>\n",
       "      <th>4</th>\n",
       "      <th>5</th>\n",
       "      <th>6</th>\n",
       "      <th>7</th>\n",
       "      <th>8</th>\n",
       "      <th>9</th>\n",
       "      <th>...</th>\n",
       "      <th>1390</th>\n",
       "      <th>1391</th>\n",
       "      <th>1392</th>\n",
       "      <th>1393</th>\n",
       "      <th>1394</th>\n",
       "      <th>1395</th>\n",
       "      <th>1396</th>\n",
       "      <th>1397</th>\n",
       "      <th>1398</th>\n",
       "      <th>1399</th>\n",
       "    </tr>\n",
       "  </thead>\n",
       "  <tbody>\n",
       "    <tr>\n",
       "      <th>0</th>\n",
       "      <td>0.000000</td>\n",
       "      <td>0.000000</td>\n",
       "      <td>0.000000</td>\n",
       "      <td>0.000000</td>\n",
       "      <td>0.000000</td>\n",
       "      <td>0.000000</td>\n",
       "      <td>0.000000</td>\n",
       "      <td>0.000000</td>\n",
       "      <td>0.000000</td>\n",
       "      <td>0.000000</td>\n",
       "      <td>...</td>\n",
       "      <td>0.000000</td>\n",
       "      <td>0.000000</td>\n",
       "      <td>0.000000</td>\n",
       "      <td>0.000000</td>\n",
       "      <td>0.000000</td>\n",
       "      <td>0.000000</td>\n",
       "      <td>0.000000</td>\n",
       "      <td>0.000000</td>\n",
       "      <td>0.000000</td>\n",
       "      <td>0.000000</td>\n",
       "    </tr>\n",
       "    <tr>\n",
       "      <th>1</th>\n",
       "      <td>1.732051</td>\n",
       "      <td>2.645751</td>\n",
       "      <td>2.645751</td>\n",
       "      <td>2.449490</td>\n",
       "      <td>2.449490</td>\n",
       "      <td>3.162278</td>\n",
       "      <td>2.236068</td>\n",
       "      <td>3.741657</td>\n",
       "      <td>4.000000</td>\n",
       "      <td>3.162278</td>\n",
       "      <td>...</td>\n",
       "      <td>3.162278</td>\n",
       "      <td>2.449490</td>\n",
       "      <td>2.449490</td>\n",
       "      <td>1.000000</td>\n",
       "      <td>1.414214</td>\n",
       "      <td>2.236068</td>\n",
       "      <td>2.236068</td>\n",
       "      <td>2.000000</td>\n",
       "      <td>4.358899</td>\n",
       "      <td>3.162278</td>\n",
       "    </tr>\n",
       "    <tr>\n",
       "      <th>2</th>\n",
       "      <td>2.000000</td>\n",
       "      <td>2.828427</td>\n",
       "      <td>3.162278</td>\n",
       "      <td>2.449490</td>\n",
       "      <td>2.828427</td>\n",
       "      <td>3.464102</td>\n",
       "      <td>3.872983</td>\n",
       "      <td>3.741657</td>\n",
       "      <td>4.358899</td>\n",
       "      <td>3.316625</td>\n",
       "      <td>...</td>\n",
       "      <td>4.123106</td>\n",
       "      <td>3.162278</td>\n",
       "      <td>2.828427</td>\n",
       "      <td>3.000000</td>\n",
       "      <td>1.732051</td>\n",
       "      <td>2.236068</td>\n",
       "      <td>2.645751</td>\n",
       "      <td>2.000000</td>\n",
       "      <td>4.795832</td>\n",
       "      <td>3.316625</td>\n",
       "    </tr>\n",
       "    <tr>\n",
       "      <th>3</th>\n",
       "      <td>2.000000</td>\n",
       "      <td>2.828427</td>\n",
       "      <td>3.605551</td>\n",
       "      <td>2.828427</td>\n",
       "      <td>4.123106</td>\n",
       "      <td>3.741657</td>\n",
       "      <td>3.872983</td>\n",
       "      <td>3.872983</td>\n",
       "      <td>4.472136</td>\n",
       "      <td>3.316625</td>\n",
       "      <td>...</td>\n",
       "      <td>4.242640</td>\n",
       "      <td>3.316625</td>\n",
       "      <td>2.828427</td>\n",
       "      <td>3.000000</td>\n",
       "      <td>2.449490</td>\n",
       "      <td>2.236068</td>\n",
       "      <td>3.162278</td>\n",
       "      <td>2.000000</td>\n",
       "      <td>5.000000</td>\n",
       "      <td>3.605551</td>\n",
       "    </tr>\n",
       "    <tr>\n",
       "      <th>4</th>\n",
       "      <td>2.236068</td>\n",
       "      <td>3.162278</td>\n",
       "      <td>4.123106</td>\n",
       "      <td>3.000000</td>\n",
       "      <td>4.242640</td>\n",
       "      <td>3.872983</td>\n",
       "      <td>4.000000</td>\n",
       "      <td>4.242640</td>\n",
       "      <td>4.582576</td>\n",
       "      <td>4.123106</td>\n",
       "      <td>...</td>\n",
       "      <td>4.358899</td>\n",
       "      <td>3.605551</td>\n",
       "      <td>3.000000</td>\n",
       "      <td>3.162278</td>\n",
       "      <td>2.449490</td>\n",
       "      <td>2.236068</td>\n",
       "      <td>3.316625</td>\n",
       "      <td>2.236068</td>\n",
       "      <td>5.099020</td>\n",
       "      <td>3.605551</td>\n",
       "    </tr>\n",
       "    <tr>\n",
       "      <th>...</th>\n",
       "      <td>...</td>\n",
       "      <td>...</td>\n",
       "      <td>...</td>\n",
       "      <td>...</td>\n",
       "      <td>...</td>\n",
       "      <td>...</td>\n",
       "      <td>...</td>\n",
       "      <td>...</td>\n",
       "      <td>...</td>\n",
       "      <td>...</td>\n",
       "      <td>...</td>\n",
       "      <td>...</td>\n",
       "      <td>...</td>\n",
       "      <td>...</td>\n",
       "      <td>...</td>\n",
       "      <td>...</td>\n",
       "      <td>...</td>\n",
       "      <td>...</td>\n",
       "      <td>...</td>\n",
       "      <td>...</td>\n",
       "      <td>...</td>\n",
       "    </tr>\n",
       "    <tr>\n",
       "      <th>1395</th>\n",
       "      <td>7.745967</td>\n",
       "      <td>7.937254</td>\n",
       "      <td>8.544003</td>\n",
       "      <td>7.874008</td>\n",
       "      <td>7.810250</td>\n",
       "      <td>8.485281</td>\n",
       "      <td>8.306623</td>\n",
       "      <td>7.745967</td>\n",
       "      <td>8.831760</td>\n",
       "      <td>8.306623</td>\n",
       "      <td>...</td>\n",
       "      <td>8.426149</td>\n",
       "      <td>8.426149</td>\n",
       "      <td>8.888194</td>\n",
       "      <td>8.831760</td>\n",
       "      <td>8.831760</td>\n",
       "      <td>9.055386</td>\n",
       "      <td>9.000000</td>\n",
       "      <td>9.110434</td>\n",
       "      <td>8.185352</td>\n",
       "      <td>9.000000</td>\n",
       "    </tr>\n",
       "    <tr>\n",
       "      <th>1396</th>\n",
       "      <td>7.810250</td>\n",
       "      <td>8.000000</td>\n",
       "      <td>8.602325</td>\n",
       "      <td>7.874008</td>\n",
       "      <td>7.874008</td>\n",
       "      <td>8.485281</td>\n",
       "      <td>8.366600</td>\n",
       "      <td>7.810250</td>\n",
       "      <td>8.831760</td>\n",
       "      <td>8.306623</td>\n",
       "      <td>...</td>\n",
       "      <td>8.485281</td>\n",
       "      <td>8.485281</td>\n",
       "      <td>8.944272</td>\n",
       "      <td>8.831760</td>\n",
       "      <td>8.888194</td>\n",
       "      <td>9.055386</td>\n",
       "      <td>9.000000</td>\n",
       "      <td>9.110434</td>\n",
       "      <td>8.185352</td>\n",
       "      <td>9.000000</td>\n",
       "    </tr>\n",
       "    <tr>\n",
       "      <th>1397</th>\n",
       "      <td>7.810250</td>\n",
       "      <td>8.000000</td>\n",
       "      <td>8.717798</td>\n",
       "      <td>7.937254</td>\n",
       "      <td>7.937254</td>\n",
       "      <td>8.485281</td>\n",
       "      <td>8.426149</td>\n",
       "      <td>7.810250</td>\n",
       "      <td>8.831760</td>\n",
       "      <td>8.306623</td>\n",
       "      <td>...</td>\n",
       "      <td>8.544003</td>\n",
       "      <td>8.544003</td>\n",
       "      <td>8.944272</td>\n",
       "      <td>8.888194</td>\n",
       "      <td>8.888194</td>\n",
       "      <td>9.110434</td>\n",
       "      <td>9.000000</td>\n",
       "      <td>9.110434</td>\n",
       "      <td>8.246211</td>\n",
       "      <td>9.000000</td>\n",
       "    </tr>\n",
       "    <tr>\n",
       "      <th>1398</th>\n",
       "      <td>7.874008</td>\n",
       "      <td>8.062258</td>\n",
       "      <td>8.717798</td>\n",
       "      <td>7.937254</td>\n",
       "      <td>8.000000</td>\n",
       "      <td>8.485281</td>\n",
       "      <td>8.485281</td>\n",
       "      <td>7.874008</td>\n",
       "      <td>8.831760</td>\n",
       "      <td>8.366600</td>\n",
       "      <td>...</td>\n",
       "      <td>8.602325</td>\n",
       "      <td>8.544003</td>\n",
       "      <td>9.000000</td>\n",
       "      <td>8.944272</td>\n",
       "      <td>9.000000</td>\n",
       "      <td>9.165152</td>\n",
       "      <td>9.055386</td>\n",
       "      <td>9.165152</td>\n",
       "      <td>8.366600</td>\n",
       "      <td>9.055386</td>\n",
       "    </tr>\n",
       "    <tr>\n",
       "      <th>1399</th>\n",
       "      <td>7.874008</td>\n",
       "      <td>8.062258</td>\n",
       "      <td>8.831760</td>\n",
       "      <td>8.062258</td>\n",
       "      <td>8.124039</td>\n",
       "      <td>8.544003</td>\n",
       "      <td>8.544003</td>\n",
       "      <td>7.937254</td>\n",
       "      <td>8.888194</td>\n",
       "      <td>8.426149</td>\n",
       "      <td>...</td>\n",
       "      <td>8.660254</td>\n",
       "      <td>8.602325</td>\n",
       "      <td>9.055386</td>\n",
       "      <td>8.944272</td>\n",
       "      <td>9.000000</td>\n",
       "      <td>9.273619</td>\n",
       "      <td>9.165152</td>\n",
       "      <td>9.327379</td>\n",
       "      <td>8.426149</td>\n",
       "      <td>9.110434</td>\n",
       "    </tr>\n",
       "  </tbody>\n",
       "</table>\n",
       "<p>1400 rows × 1400 columns</p>\n",
       "</div>"
      ],
      "text/plain": [
       "          0         1         2         3         4         5         6     \\\n",
       "0     0.000000  0.000000  0.000000  0.000000  0.000000  0.000000  0.000000   \n",
       "1     1.732051  2.645751  2.645751  2.449490  2.449490  3.162278  2.236068   \n",
       "2     2.000000  2.828427  3.162278  2.449490  2.828427  3.464102  3.872983   \n",
       "3     2.000000  2.828427  3.605551  2.828427  4.123106  3.741657  3.872983   \n",
       "4     2.236068  3.162278  4.123106  3.000000  4.242640  3.872983  4.000000   \n",
       "...        ...       ...       ...       ...       ...       ...       ...   \n",
       "1395  7.745967  7.937254  8.544003  7.874008  7.810250  8.485281  8.306623   \n",
       "1396  7.810250  8.000000  8.602325  7.874008  7.874008  8.485281  8.366600   \n",
       "1397  7.810250  8.000000  8.717798  7.937254  7.937254  8.485281  8.426149   \n",
       "1398  7.874008  8.062258  8.717798  7.937254  8.000000  8.485281  8.485281   \n",
       "1399  7.874008  8.062258  8.831760  8.062258  8.124039  8.544003  8.544003   \n",
       "\n",
       "          7         8         9     ...      1390      1391      1392  \\\n",
       "0     0.000000  0.000000  0.000000  ...  0.000000  0.000000  0.000000   \n",
       "1     3.741657  4.000000  3.162278  ...  3.162278  2.449490  2.449490   \n",
       "2     3.741657  4.358899  3.316625  ...  4.123106  3.162278  2.828427   \n",
       "3     3.872983  4.472136  3.316625  ...  4.242640  3.316625  2.828427   \n",
       "4     4.242640  4.582576  4.123106  ...  4.358899  3.605551  3.000000   \n",
       "...        ...       ...       ...  ...       ...       ...       ...   \n",
       "1395  7.745967  8.831760  8.306623  ...  8.426149  8.426149  8.888194   \n",
       "1396  7.810250  8.831760  8.306623  ...  8.485281  8.485281  8.944272   \n",
       "1397  7.810250  8.831760  8.306623  ...  8.544003  8.544003  8.944272   \n",
       "1398  7.874008  8.831760  8.366600  ...  8.602325  8.544003  9.000000   \n",
       "1399  7.937254  8.888194  8.426149  ...  8.660254  8.602325  9.055386   \n",
       "\n",
       "          1393      1394      1395      1396      1397      1398      1399  \n",
       "0     0.000000  0.000000  0.000000  0.000000  0.000000  0.000000  0.000000  \n",
       "1     1.000000  1.414214  2.236068  2.236068  2.000000  4.358899  3.162278  \n",
       "2     3.000000  1.732051  2.236068  2.645751  2.000000  4.795832  3.316625  \n",
       "3     3.000000  2.449490  2.236068  3.162278  2.000000  5.000000  3.605551  \n",
       "4     3.162278  2.449490  2.236068  3.316625  2.236068  5.099020  3.605551  \n",
       "...        ...       ...       ...       ...       ...       ...       ...  \n",
       "1395  8.831760  8.831760  9.055386  9.000000  9.110434  8.185352  9.000000  \n",
       "1396  8.831760  8.888194  9.055386  9.000000  9.110434  8.185352  9.000000  \n",
       "1397  8.888194  8.888194  9.110434  9.000000  9.110434  8.246211  9.000000  \n",
       "1398  8.944272  9.000000  9.165152  9.055386  9.165152  8.366600  9.055386  \n",
       "1399  8.944272  9.000000  9.273619  9.165152  9.327379  8.426149  9.110434  \n",
       "\n",
       "[1400 rows x 1400 columns]"
      ]
     },
     "execution_count": 76,
     "metadata": {},
     "output_type": "execute_result"
    }
   ],
   "source": [
    "df_tr=pd.DataFrame(neighbors_k)\n",
    "df_tr"
   ]
  },
  {
   "cell_type": "code",
   "execution_count": 77,
   "metadata": {},
   "outputs": [],
   "source": [
    "similarity= neighbors_k"
   ]
  },
  {
   "cell_type": "code",
   "execution_count": 78,
   "metadata": {},
   "outputs": [],
   "source": [
    "Dmean=np.mean(similarity[1,:])"
   ]
  },
  {
   "cell_type": "code",
   "execution_count": 79,
   "metadata": {},
   "outputs": [
    {
     "data": {
      "text/plain": [
       "2.24"
      ]
     },
     "execution_count": 79,
     "metadata": {},
     "output_type": "execute_result"
    }
   ],
   "source": [
    "round(Dmean, 2)"
   ]
  },
  {
   "cell_type": "code",
   "execution_count": 80,
   "metadata": {},
   "outputs": [],
   "source": [
    "std=np.std(similarity[1,:])"
   ]
  },
  {
   "cell_type": "code",
   "execution_count": 81,
   "metadata": {},
   "outputs": [
    {
     "data": {
      "text/plain": [
       "1.08"
      ]
     },
     "execution_count": 81,
     "metadata": {},
     "output_type": "execute_result"
    }
   ],
   "source": [
    "round(std, 2)"
   ]
  },
  {
   "cell_type": "code",
   "execution_count": 82,
   "metadata": {},
   "outputs": [
    {
     "name": "stdout",
     "output_type": "stream",
     "text": [
      "2.78\n"
     ]
    }
   ],
   "source": [
    "model_AD_limit=Dmean+std*0.5\n",
    "print(np.round(model_AD_limit, 2))"
   ]
  },
  {
   "cell_type": "code",
   "execution_count": 107,
   "metadata": {},
   "outputs": [],
   "source": [
    "x_ts=desc_ts[feature_name_rfecv]"
   ]
  },
  {
   "cell_type": "code",
   "execution_count": 92,
   "metadata": {},
   "outputs": [],
   "source": [
    "neighbors_k_ts= pairwise_distances(X_rfe,Y=x_ts, n_jobs=-1)\n",
    "neighbors_k_ts.sort(0)"
   ]
  },
  {
   "cell_type": "code",
   "execution_count": 93,
   "metadata": {},
   "outputs": [
    {
     "data": {
      "text/html": [
       "<div>\n",
       "<style scoped>\n",
       "    .dataframe tbody tr th:only-of-type {\n",
       "        vertical-align: middle;\n",
       "    }\n",
       "\n",
       "    .dataframe tbody tr th {\n",
       "        vertical-align: top;\n",
       "    }\n",
       "\n",
       "    .dataframe thead th {\n",
       "        text-align: right;\n",
       "    }\n",
       "</style>\n",
       "<table border=\"1\" class=\"dataframe\">\n",
       "  <thead>\n",
       "    <tr style=\"text-align: right;\">\n",
       "      <th></th>\n",
       "      <th>0</th>\n",
       "      <th>1</th>\n",
       "      <th>2</th>\n",
       "      <th>3</th>\n",
       "      <th>4</th>\n",
       "      <th>5</th>\n",
       "      <th>6</th>\n",
       "      <th>7</th>\n",
       "      <th>8</th>\n",
       "      <th>9</th>\n",
       "      <th>...</th>\n",
       "      <th>341</th>\n",
       "      <th>342</th>\n",
       "      <th>343</th>\n",
       "      <th>344</th>\n",
       "      <th>345</th>\n",
       "      <th>346</th>\n",
       "      <th>347</th>\n",
       "      <th>348</th>\n",
       "      <th>349</th>\n",
       "      <th>350</th>\n",
       "    </tr>\n",
       "  </thead>\n",
       "  <tbody>\n",
       "    <tr>\n",
       "      <th>0</th>\n",
       "      <td>0.000000</td>\n",
       "      <td>3.000000</td>\n",
       "      <td>5.385165</td>\n",
       "      <td>3.741657</td>\n",
       "      <td>2.236068</td>\n",
       "      <td>2.645751</td>\n",
       "      <td>2.449490</td>\n",
       "      <td>1.414214</td>\n",
       "      <td>3.464102</td>\n",
       "      <td>2.645751</td>\n",
       "      <td>...</td>\n",
       "      <td>1.732051</td>\n",
       "      <td>2.449490</td>\n",
       "      <td>2.236068</td>\n",
       "      <td>2.449490</td>\n",
       "      <td>2.449490</td>\n",
       "      <td>2.645751</td>\n",
       "      <td>2.236068</td>\n",
       "      <td>2.645751</td>\n",
       "      <td>3.605551</td>\n",
       "      <td>1.000000</td>\n",
       "    </tr>\n",
       "    <tr>\n",
       "      <th>1</th>\n",
       "      <td>2.236068</td>\n",
       "      <td>3.741657</td>\n",
       "      <td>5.656854</td>\n",
       "      <td>3.741657</td>\n",
       "      <td>2.828427</td>\n",
       "      <td>3.000000</td>\n",
       "      <td>4.000000</td>\n",
       "      <td>1.732051</td>\n",
       "      <td>3.605551</td>\n",
       "      <td>2.828427</td>\n",
       "      <td>...</td>\n",
       "      <td>2.000000</td>\n",
       "      <td>2.645751</td>\n",
       "      <td>2.449490</td>\n",
       "      <td>3.162278</td>\n",
       "      <td>2.828427</td>\n",
       "      <td>3.000000</td>\n",
       "      <td>2.449490</td>\n",
       "      <td>2.828427</td>\n",
       "      <td>3.605551</td>\n",
       "      <td>1.000000</td>\n",
       "    </tr>\n",
       "    <tr>\n",
       "      <th>2</th>\n",
       "      <td>2.236068</td>\n",
       "      <td>4.242641</td>\n",
       "      <td>5.656854</td>\n",
       "      <td>3.872983</td>\n",
       "      <td>3.162278</td>\n",
       "      <td>3.000000</td>\n",
       "      <td>4.242641</td>\n",
       "      <td>2.449490</td>\n",
       "      <td>3.741657</td>\n",
       "      <td>3.000000</td>\n",
       "      <td>...</td>\n",
       "      <td>2.449490</td>\n",
       "      <td>3.316625</td>\n",
       "      <td>2.828427</td>\n",
       "      <td>3.162278</td>\n",
       "      <td>3.162278</td>\n",
       "      <td>3.162278</td>\n",
       "      <td>3.000000</td>\n",
       "      <td>2.828427</td>\n",
       "      <td>3.741657</td>\n",
       "      <td>1.414214</td>\n",
       "    </tr>\n",
       "    <tr>\n",
       "      <th>3</th>\n",
       "      <td>2.236068</td>\n",
       "      <td>4.242641</td>\n",
       "      <td>5.656854</td>\n",
       "      <td>4.242641</td>\n",
       "      <td>3.162278</td>\n",
       "      <td>3.464102</td>\n",
       "      <td>4.358899</td>\n",
       "      <td>2.449490</td>\n",
       "      <td>4.795832</td>\n",
       "      <td>3.316625</td>\n",
       "      <td>...</td>\n",
       "      <td>2.449490</td>\n",
       "      <td>3.316625</td>\n",
       "      <td>2.828427</td>\n",
       "      <td>3.162278</td>\n",
       "      <td>3.162278</td>\n",
       "      <td>3.162278</td>\n",
       "      <td>3.000000</td>\n",
       "      <td>3.000000</td>\n",
       "      <td>3.872983</td>\n",
       "      <td>2.236068</td>\n",
       "    </tr>\n",
       "    <tr>\n",
       "      <th>4</th>\n",
       "      <td>2.645751</td>\n",
       "      <td>4.358899</td>\n",
       "      <td>5.744563</td>\n",
       "      <td>4.358899</td>\n",
       "      <td>4.123106</td>\n",
       "      <td>3.605551</td>\n",
       "      <td>4.582576</td>\n",
       "      <td>2.828427</td>\n",
       "      <td>4.898979</td>\n",
       "      <td>3.605551</td>\n",
       "      <td>...</td>\n",
       "      <td>2.645751</td>\n",
       "      <td>3.464102</td>\n",
       "      <td>3.000000</td>\n",
       "      <td>3.316625</td>\n",
       "      <td>3.316625</td>\n",
       "      <td>3.162278</td>\n",
       "      <td>3.316625</td>\n",
       "      <td>3.162278</td>\n",
       "      <td>4.123106</td>\n",
       "      <td>3.316625</td>\n",
       "    </tr>\n",
       "    <tr>\n",
       "      <th>...</th>\n",
       "      <td>...</td>\n",
       "      <td>...</td>\n",
       "      <td>...</td>\n",
       "      <td>...</td>\n",
       "      <td>...</td>\n",
       "      <td>...</td>\n",
       "      <td>...</td>\n",
       "      <td>...</td>\n",
       "      <td>...</td>\n",
       "      <td>...</td>\n",
       "      <td>...</td>\n",
       "      <td>...</td>\n",
       "      <td>...</td>\n",
       "      <td>...</td>\n",
       "      <td>...</td>\n",
       "      <td>...</td>\n",
       "      <td>...</td>\n",
       "      <td>...</td>\n",
       "      <td>...</td>\n",
       "      <td>...</td>\n",
       "      <td>...</td>\n",
       "    </tr>\n",
       "    <tr>\n",
       "      <th>1395</th>\n",
       "      <td>7.810250</td>\n",
       "      <td>7.874008</td>\n",
       "      <td>8.602325</td>\n",
       "      <td>9.110434</td>\n",
       "      <td>7.810250</td>\n",
       "      <td>8.000000</td>\n",
       "      <td>8.944272</td>\n",
       "      <td>7.874008</td>\n",
       "      <td>8.485281</td>\n",
       "      <td>8.000000</td>\n",
       "      <td>...</td>\n",
       "      <td>8.306624</td>\n",
       "      <td>8.246211</td>\n",
       "      <td>8.306624</td>\n",
       "      <td>9.165151</td>\n",
       "      <td>8.774964</td>\n",
       "      <td>9.219544</td>\n",
       "      <td>8.831761</td>\n",
       "      <td>8.831761</td>\n",
       "      <td>8.485281</td>\n",
       "      <td>8.306624</td>\n",
       "    </tr>\n",
       "    <tr>\n",
       "      <th>1396</th>\n",
       "      <td>7.810250</td>\n",
       "      <td>7.874008</td>\n",
       "      <td>8.602325</td>\n",
       "      <td>9.110434</td>\n",
       "      <td>7.810250</td>\n",
       "      <td>8.062258</td>\n",
       "      <td>8.944272</td>\n",
       "      <td>7.874008</td>\n",
       "      <td>8.485281</td>\n",
       "      <td>8.062258</td>\n",
       "      <td>...</td>\n",
       "      <td>8.306624</td>\n",
       "      <td>8.306624</td>\n",
       "      <td>8.366600</td>\n",
       "      <td>9.165151</td>\n",
       "      <td>8.831761</td>\n",
       "      <td>9.273618</td>\n",
       "      <td>8.888194</td>\n",
       "      <td>8.944272</td>\n",
       "      <td>8.485281</td>\n",
       "      <td>8.366600</td>\n",
       "    </tr>\n",
       "    <tr>\n",
       "      <th>1397</th>\n",
       "      <td>7.874008</td>\n",
       "      <td>8.000000</td>\n",
       "      <td>8.602325</td>\n",
       "      <td>9.219544</td>\n",
       "      <td>7.810250</td>\n",
       "      <td>8.185353</td>\n",
       "      <td>8.944272</td>\n",
       "      <td>8.000000</td>\n",
       "      <td>8.485281</td>\n",
       "      <td>8.185353</td>\n",
       "      <td>...</td>\n",
       "      <td>8.306624</td>\n",
       "      <td>8.306624</td>\n",
       "      <td>8.366600</td>\n",
       "      <td>9.219544</td>\n",
       "      <td>8.831761</td>\n",
       "      <td>9.273618</td>\n",
       "      <td>8.888194</td>\n",
       "      <td>8.944272</td>\n",
       "      <td>8.485281</td>\n",
       "      <td>8.366600</td>\n",
       "    </tr>\n",
       "    <tr>\n",
       "      <th>1398</th>\n",
       "      <td>7.874008</td>\n",
       "      <td>8.000000</td>\n",
       "      <td>8.602325</td>\n",
       "      <td>9.273618</td>\n",
       "      <td>7.874008</td>\n",
       "      <td>8.185353</td>\n",
       "      <td>9.000000</td>\n",
       "      <td>8.000000</td>\n",
       "      <td>8.602325</td>\n",
       "      <td>8.185353</td>\n",
       "      <td>...</td>\n",
       "      <td>8.306624</td>\n",
       "      <td>8.306624</td>\n",
       "      <td>8.366600</td>\n",
       "      <td>9.327379</td>\n",
       "      <td>8.888194</td>\n",
       "      <td>9.327379</td>\n",
       "      <td>8.944272</td>\n",
       "      <td>8.944272</td>\n",
       "      <td>8.485281</td>\n",
       "      <td>8.485281</td>\n",
       "    </tr>\n",
       "    <tr>\n",
       "      <th>1399</th>\n",
       "      <td>7.937254</td>\n",
       "      <td>8.062258</td>\n",
       "      <td>8.717798</td>\n",
       "      <td>9.327379</td>\n",
       "      <td>7.937254</td>\n",
       "      <td>8.306624</td>\n",
       "      <td>9.110434</td>\n",
       "      <td>8.124038</td>\n",
       "      <td>8.660254</td>\n",
       "      <td>8.306624</td>\n",
       "      <td>...</td>\n",
       "      <td>8.485281</td>\n",
       "      <td>8.366600</td>\n",
       "      <td>8.485281</td>\n",
       "      <td>9.327379</td>\n",
       "      <td>8.888194</td>\n",
       "      <td>9.327379</td>\n",
       "      <td>9.000000</td>\n",
       "      <td>8.944272</td>\n",
       "      <td>8.544004</td>\n",
       "      <td>8.544004</td>\n",
       "    </tr>\n",
       "  </tbody>\n",
       "</table>\n",
       "<p>1400 rows × 351 columns</p>\n",
       "</div>"
      ],
      "text/plain": [
       "           0         1         2         3         4         5         6    \\\n",
       "0     0.000000  3.000000  5.385165  3.741657  2.236068  2.645751  2.449490   \n",
       "1     2.236068  3.741657  5.656854  3.741657  2.828427  3.000000  4.000000   \n",
       "2     2.236068  4.242641  5.656854  3.872983  3.162278  3.000000  4.242641   \n",
       "3     2.236068  4.242641  5.656854  4.242641  3.162278  3.464102  4.358899   \n",
       "4     2.645751  4.358899  5.744563  4.358899  4.123106  3.605551  4.582576   \n",
       "...        ...       ...       ...       ...       ...       ...       ...   \n",
       "1395  7.810250  7.874008  8.602325  9.110434  7.810250  8.000000  8.944272   \n",
       "1396  7.810250  7.874008  8.602325  9.110434  7.810250  8.062258  8.944272   \n",
       "1397  7.874008  8.000000  8.602325  9.219544  7.810250  8.185353  8.944272   \n",
       "1398  7.874008  8.000000  8.602325  9.273618  7.874008  8.185353  9.000000   \n",
       "1399  7.937254  8.062258  8.717798  9.327379  7.937254  8.306624  9.110434   \n",
       "\n",
       "           7         8         9    ...       341       342       343  \\\n",
       "0     1.414214  3.464102  2.645751  ...  1.732051  2.449490  2.236068   \n",
       "1     1.732051  3.605551  2.828427  ...  2.000000  2.645751  2.449490   \n",
       "2     2.449490  3.741657  3.000000  ...  2.449490  3.316625  2.828427   \n",
       "3     2.449490  4.795832  3.316625  ...  2.449490  3.316625  2.828427   \n",
       "4     2.828427  4.898979  3.605551  ...  2.645751  3.464102  3.000000   \n",
       "...        ...       ...       ...  ...       ...       ...       ...   \n",
       "1395  7.874008  8.485281  8.000000  ...  8.306624  8.246211  8.306624   \n",
       "1396  7.874008  8.485281  8.062258  ...  8.306624  8.306624  8.366600   \n",
       "1397  8.000000  8.485281  8.185353  ...  8.306624  8.306624  8.366600   \n",
       "1398  8.000000  8.602325  8.185353  ...  8.306624  8.306624  8.366600   \n",
       "1399  8.124038  8.660254  8.306624  ...  8.485281  8.366600  8.485281   \n",
       "\n",
       "           344       345       346       347       348       349       350  \n",
       "0     2.449490  2.449490  2.645751  2.236068  2.645751  3.605551  1.000000  \n",
       "1     3.162278  2.828427  3.000000  2.449490  2.828427  3.605551  1.000000  \n",
       "2     3.162278  3.162278  3.162278  3.000000  2.828427  3.741657  1.414214  \n",
       "3     3.162278  3.162278  3.162278  3.000000  3.000000  3.872983  2.236068  \n",
       "4     3.316625  3.316625  3.162278  3.316625  3.162278  4.123106  3.316625  \n",
       "...        ...       ...       ...       ...       ...       ...       ...  \n",
       "1395  9.165151  8.774964  9.219544  8.831761  8.831761  8.485281  8.306624  \n",
       "1396  9.165151  8.831761  9.273618  8.888194  8.944272  8.485281  8.366600  \n",
       "1397  9.219544  8.831761  9.273618  8.888194  8.944272  8.485281  8.366600  \n",
       "1398  9.327379  8.888194  9.327379  8.944272  8.944272  8.485281  8.485281  \n",
       "1399  9.327379  8.888194  9.327379  9.000000  8.944272  8.544004  8.544004  \n",
       "\n",
       "[1400 rows x 351 columns]"
      ]
     },
     "execution_count": 93,
     "metadata": {},
     "output_type": "execute_result"
    }
   ],
   "source": [
    "x_ts_AD=pd.DataFrame(neighbors_k_ts)\n",
    "x_ts_AD"
   ]
  },
  {
   "cell_type": "code",
   "execution_count": 94,
   "metadata": {},
   "outputs": [
    {
     "name": "stdout",
     "output_type": "stream",
     "text": [
      "[0.    3.    5.385 3.742 2.236 2.646 2.449 1.414 3.464 2.646 3.162 2.646\n",
      " 3.    2.828 3.    1.    1.    1.414 3.742 3.    2.236 3.742 3.    0.\n",
      " 3.    1.    1.732 2.236 2.646 2.236 3.317 2.    3.606 3.317 2.828 0.\n",
      " 3.162 2.236 2.449 2.236 2.828 3.464 3.464 3.742 2.646 3.464 3.606 3.\n",
      " 1.    1.414 1.732 3.464 3.162 2.236 1.414 3.606 1.414 2.828 2.828 2.828\n",
      " 2.    3.    2.828 3.873 3.873 1.732 4.    2.646 1.    4.123 3.742 2.449\n",
      " 2.236 2.828 0.    0.    2.    2.449 3.    3.464 2.236 2.236 2.    2.828\n",
      " 2.646 1.414 2.449 1.732 2.    2.828 2.449 4.123 3.873 2.    0.    3.317\n",
      " 1.414 2.    0.    2.    4.123 1.414 2.449 0.    2.    2.646 3.    0.\n",
      " 2.646 1.    2.236 1.732 1.414 2.236 4.    1.    2.    0.    2.449 2.\n",
      " 3.606 1.732 3.    3.    3.162 2.449 3.162 2.449 1.732 3.742 1.414 2.236\n",
      " 1.414 3.    1.414 1.732 2.    3.162 3.606 1.    4.583 1.    2.646 1.732\n",
      " 2.236 2.646 1.414 2.646 2.    4.472 1.    3.162 2.646 1.732 0.    1.732\n",
      " 1.732 1.    3.    2.236 1.    2.449 1.732 2.646 0.    1.732 3.    1.\n",
      " 1.732 2.    2.    2.236 1.732 2.    2.236 3.464 2.449 3.464 2.236 3.162\n",
      " 2.449 3.606 3.317 2.236 1.    2.449 2.828 2.449 2.236 2.828 2.236 2.236\n",
      " 1.732 1.414 2.828 1.732 3.742 1.414 1.    2.    2.    1.732 2.    1.732\n",
      " 1.414 2.646 2.449 2.646 1.    2.449 2.449 0.    2.646 1.    1.732 2.236\n",
      " 2.236 2.646 2.    3.464 1.732 1.414 0.    2.236 3.464 3.317 2.    0.\n",
      " 2.    3.606 1.732 3.606 2.    2.449 3.317 3.162 2.828 2.449 1.732 2.\n",
      " 2.449 3.606 2.236 4.69  2.    3.873 0.    1.    2.236 2.828 1.    2.449\n",
      " 2.    2.449 0.    2.449 1.732 1.732 1.732 1.732 2.236 3.    5.292 1.\n",
      " 0.    2.449 2.236 2.646 1.732 2.    0.    3.    1.414 3.317 2.828 2.236\n",
      " 3.162 1.    3.873 2.828 3.    2.646 2.646 2.449 2.449 4.    1.732 3.\n",
      " 4.123 2.449 2.646 1.414 2.236 4.796 1.    3.464 3.    2.828 3.    0.\n",
      " 1.    0.    3.464 2.449 2.236 3.873 2.449 1.732 2.828 3.162 4.123 1.732\n",
      " 2.449 2.236 4.69  2.646 2.449 2.646 2.236 2.449 3.162 1.732 3.317 2.\n",
      " 1.    1.732 2.646 0.    2.828 1.414 2.828 1.    2.646 1.732 2.646 1.732\n",
      " 1.414 2.828 2.449 2.236 2.828 1.732 2.449 2.236 2.449 2.449 2.646 2.236\n",
      " 2.646 3.606 1.   ]\n"
     ]
    }
   ],
   "source": [
    "similarity_ts= neighbors_k_ts\n",
    "cpd_AD=similarity_ts[0,:]\n",
    "cpd_value = np.round(cpd_AD, 3)\n",
    "print(cpd_value)"
   ]
  },
  {
   "cell_type": "code",
   "execution_count": 95,
   "metadata": {},
   "outputs": [
    {
     "name": "stdout",
     "output_type": "stream",
     "text": [
      "[ True False False False  True  True  True  True False  True False  True\n",
      " False False False  True  True  True False False  True False False  True\n",
      " False  True  True  True  True  True False  True False False False  True\n",
      " False  True  True  True False False False False  True False False False\n",
      "  True  True  True False False  True  True False  True False False False\n",
      "  True False False False False  True False  True  True False False  True\n",
      "  True False  True  True  True  True False False  True  True  True False\n",
      "  True  True  True  True  True False  True False False  True  True False\n",
      "  True  True  True  True False  True  True  True  True  True False  True\n",
      "  True  True  True  True  True  True False  True  True  True  True  True\n",
      " False  True False False False  True False  True  True False  True  True\n",
      "  True False  True  True  True False False  True False  True  True  True\n",
      "  True  True  True  True  True False  True False  True  True  True  True\n",
      "  True  True False  True  True  True  True  True  True  True False  True\n",
      "  True  True  True  True  True  True  True False  True False  True False\n",
      "  True False False  True  True  True False  True  True False  True  True\n",
      "  True  True False  True False  True  True  True  True  True  True  True\n",
      "  True  True  True  True  True  True  True  True  True  True  True  True\n",
      "  True  True  True False  True  True  True  True False False  True  True\n",
      "  True False  True False  True  True False False False  True  True  True\n",
      "  True False  True False  True False  True  True  True False  True  True\n",
      "  True  True  True  True  True  True  True  True  True False False  True\n",
      "  True  True  True  True  True  True  True False  True False False  True\n",
      " False  True False False False  True  True  True  True False  True False\n",
      " False  True  True  True  True False  True False False False False  True\n",
      "  True  True False  True  True False  True  True False False False  True\n",
      "  True  True False  True  True  True  True  True False  True False  True\n",
      "  True  True  True  True False  True False  True  True  True  True  True\n",
      "  True False  True  True False  True  True  True  True  True  True  True\n",
      "  True False  True]\n"
     ]
    }
   ],
   "source": [
    "cpd_AD = np.where(cpd_value <= model_AD_limit, True, False)\n",
    "print(cpd_AD)"
   ]
  },
  {
   "cell_type": "code",
   "execution_count": 96,
   "metadata": {},
   "outputs": [
    {
     "name": "stdout",
     "output_type": "stream",
     "text": [
      "Coverage =  0.6752136752136753\n"
     ]
    }
   ],
   "source": [
    "print(\"Coverage = \", sum(cpd_AD) / len(cpd_AD))"
   ]
  },
  {
   "cell_type": "code",
   "execution_count": 97,
   "metadata": {},
   "outputs": [
    {
     "name": "stdout",
     "output_type": "stream",
     "text": [
      "Indices of substances included in AD =  [  0   4   5   6   7   9  11  15  16  17  20  23  25  26  27  28  29  31\n",
      "  35  37  38  39  44  48  49  50  53  54  56  60  65  67  68  71  72  74\n",
      "  75  76  77  80  81  82  84  85  86  87  88  90  93  94  96  97  98  99\n",
      " 101 102 103 104 105 107 108 109 110 111 112 113 115 116 117 118 119 121\n",
      " 125 127 128 130 131 132 134 135 136 139 141 142 143 144 145 146 147 148\n",
      " 150 152 153 154 155 156 157 159 160 161 162 163 164 165 167 168 169 170\n",
      " 171 172 173 174 176 178 180 183 184 185 187 188 190 191 192 193 195 197\n",
      " 198 199 200 201 202 203 204 205 206 207 208 209 210 211 212 213 214 215\n",
      " 216 217 218 220 221 222 223 226 227 228 230 232 233 237 238 239 240 242\n",
      " 244 246 247 248 250 251 252 253 254 255 256 257 258 259 260 263 264 265\n",
      " 266 267 268 269 270 272 275 277 281 282 283 284 286 289 290 291 292 294\n",
      " 299 300 301 303 304 306 307 311 312 313 315 316 317 318 319 321 323 324\n",
      " 325 326 327 329 331 332 333 334 335 336 338 339 341 342 343 344 345 346\n",
      " 347 348 350]\n"
     ]
    }
   ],
   "source": [
    "print(\"Indices of substances included in AD = \", np.where(cpd_AD != 0)[0])"
   ]
  },
  {
   "cell_type": "code",
   "execution_count": 98,
   "metadata": {},
   "outputs": [],
   "source": [
    "out_Ad=list(np.where(cpd_AD == 0)[0])"
   ]
  },
  {
   "cell_type": "markdown",
   "metadata": {},
   "source": [
    "# 12. Prediction only for molecules included in  AD"
   ]
  },
  {
   "cell_type": "code",
   "execution_count": 99,
   "metadata": {},
   "outputs": [],
   "source": [
    "y_pred_GBR_ad=list(y_pred_GBR)"
   ]
  },
  {
   "cell_type": "code",
   "execution_count": 100,
   "metadata": {},
   "outputs": [],
   "source": [
    "y_pred_GBR_ad[:] = [x for i,x in enumerate(y_pred_GBR_ad) if i not in out_Ad]"
   ]
  },
  {
   "cell_type": "code",
   "execution_count": 101,
   "metadata": {},
   "outputs": [
    {
     "data": {
      "text/plain": [
       "237"
      ]
     },
     "execution_count": 101,
     "metadata": {},
     "output_type": "execute_result"
    }
   ],
   "source": [
    "len(y_pred_GBR_ad)"
   ]
  },
  {
   "cell_type": "code",
   "execution_count": 102,
   "metadata": {},
   "outputs": [],
   "source": [
    "y_ts_ad=list(y_ts)"
   ]
  },
  {
   "cell_type": "code",
   "execution_count": 103,
   "metadata": {},
   "outputs": [],
   "source": [
    "y_ts_ad[:] = [x for i,x in enumerate(y_ts_ad) if i not in out_Ad]"
   ]
  },
  {
   "cell_type": "code",
   "execution_count": 104,
   "metadata": {},
   "outputs": [
    {
     "data": {
      "text/plain": [
       "237"
      ]
     },
     "execution_count": 104,
     "metadata": {},
     "output_type": "execute_result"
    }
   ],
   "source": [
    "len(y_ts_ad)"
   ]
  },
  {
   "cell_type": "code",
   "execution_count": 195,
   "metadata": {},
   "outputs": [
    {
     "data": {
      "text/plain": [
       "0.76"
      ]
     },
     "execution_count": 195,
     "metadata": {},
     "output_type": "execute_result"
    }
   ],
   "source": [
    "Q2_TS = round(r2_score(y_ts_ad, y_pred_GBR_ad), 2)\n",
    "Q2_TS"
   ]
  },
  {
   "cell_type": "code",
   "execution_count": 196,
   "metadata": {},
   "outputs": [
    {
     "data": {
      "text/plain": [
       "0.58"
      ]
     },
     "execution_count": 196,
     "metadata": {},
     "output_type": "execute_result"
    }
   ],
   "source": [
    "RMSE_TS=round(np.sqrt(mean_squared_error(y_ts_ad, y_pred_GBR_ad)), 2)\n",
    "RMSE_TS"
   ]
  },
  {
   "cell_type": "code",
   "execution_count": null,
   "metadata": {},
   "outputs": [],
   "source": []
  },
  {
   "cell_type": "markdown",
   "metadata": {},
   "source": [
    "# SVM model building and validation"
   ]
  },
  {
   "cell_type": "code",
   "execution_count": 153,
   "metadata": {},
   "outputs": [],
   "source": [
    "from sklearn.svm import SVR"
   ]
  },
  {
   "cell_type": "code",
   "execution_count": 154,
   "metadata": {},
   "outputs": [],
   "source": [
    "param_grid = {\"C\": [10 ** i for i in range(0, 5)],\n",
    "              \"gamma\": [10 ** i for i in range(-6, 0)]}"
   ]
  },
  {
   "cell_type": "code",
   "execution_count": 155,
   "metadata": {},
   "outputs": [],
   "source": [
    "seed = 42\n",
    "cv=KFold(n_splits=5, random_state=seed, shuffle=True)"
   ]
  },
  {
   "cell_type": "code",
   "execution_count": 156,
   "metadata": {},
   "outputs": [],
   "source": [
    "svm = GridSearchCV(SVR(C=1.0, epsilon=0.2), param_grid, n_jobs=-1, cv=cv, verbose=1)"
   ]
  },
  {
   "cell_type": "code",
   "execution_count": 157,
   "metadata": {},
   "outputs": [
    {
     "name": "stdout",
     "output_type": "stream",
     "text": [
      "Fitting 5 folds for each of 30 candidates, totalling 150 fits\n"
     ]
    },
    {
     "data": {
      "text/html": [
       "<style>#sk-container-id-8 {color: black;}#sk-container-id-8 pre{padding: 0;}#sk-container-id-8 div.sk-toggleable {background-color: white;}#sk-container-id-8 label.sk-toggleable__label {cursor: pointer;display: block;width: 100%;margin-bottom: 0;padding: 0.3em;box-sizing: border-box;text-align: center;}#sk-container-id-8 label.sk-toggleable__label-arrow:before {content: \"▸\";float: left;margin-right: 0.25em;color: #696969;}#sk-container-id-8 label.sk-toggleable__label-arrow:hover:before {color: black;}#sk-container-id-8 div.sk-estimator:hover label.sk-toggleable__label-arrow:before {color: black;}#sk-container-id-8 div.sk-toggleable__content {max-height: 0;max-width: 0;overflow: hidden;text-align: left;background-color: #f0f8ff;}#sk-container-id-8 div.sk-toggleable__content pre {margin: 0.2em;color: black;border-radius: 0.25em;background-color: #f0f8ff;}#sk-container-id-8 input.sk-toggleable__control:checked~div.sk-toggleable__content {max-height: 200px;max-width: 100%;overflow: auto;}#sk-container-id-8 input.sk-toggleable__control:checked~label.sk-toggleable__label-arrow:before {content: \"▾\";}#sk-container-id-8 div.sk-estimator input.sk-toggleable__control:checked~label.sk-toggleable__label {background-color: #d4ebff;}#sk-container-id-8 div.sk-label input.sk-toggleable__control:checked~label.sk-toggleable__label {background-color: #d4ebff;}#sk-container-id-8 input.sk-hidden--visually {border: 0;clip: rect(1px 1px 1px 1px);clip: rect(1px, 1px, 1px, 1px);height: 1px;margin: -1px;overflow: hidden;padding: 0;position: absolute;width: 1px;}#sk-container-id-8 div.sk-estimator {font-family: monospace;background-color: #f0f8ff;border: 1px dotted black;border-radius: 0.25em;box-sizing: border-box;margin-bottom: 0.5em;}#sk-container-id-8 div.sk-estimator:hover {background-color: #d4ebff;}#sk-container-id-8 div.sk-parallel-item::after {content: \"\";width: 100%;border-bottom: 1px solid gray;flex-grow: 1;}#sk-container-id-8 div.sk-label:hover label.sk-toggleable__label {background-color: #d4ebff;}#sk-container-id-8 div.sk-serial::before {content: \"\";position: absolute;border-left: 1px solid gray;box-sizing: border-box;top: 0;bottom: 0;left: 50%;z-index: 0;}#sk-container-id-8 div.sk-serial {display: flex;flex-direction: column;align-items: center;background-color: white;padding-right: 0.2em;padding-left: 0.2em;position: relative;}#sk-container-id-8 div.sk-item {position: relative;z-index: 1;}#sk-container-id-8 div.sk-parallel {display: flex;align-items: stretch;justify-content: center;background-color: white;position: relative;}#sk-container-id-8 div.sk-item::before, #sk-container-id-8 div.sk-parallel-item::before {content: \"\";position: absolute;border-left: 1px solid gray;box-sizing: border-box;top: 0;bottom: 0;left: 50%;z-index: -1;}#sk-container-id-8 div.sk-parallel-item {display: flex;flex-direction: column;z-index: 1;position: relative;background-color: white;}#sk-container-id-8 div.sk-parallel-item:first-child::after {align-self: flex-end;width: 50%;}#sk-container-id-8 div.sk-parallel-item:last-child::after {align-self: flex-start;width: 50%;}#sk-container-id-8 div.sk-parallel-item:only-child::after {width: 0;}#sk-container-id-8 div.sk-dashed-wrapped {border: 1px dashed gray;margin: 0 0.4em 0.5em 0.4em;box-sizing: border-box;padding-bottom: 0.4em;background-color: white;}#sk-container-id-8 div.sk-label label {font-family: monospace;font-weight: bold;display: inline-block;line-height: 1.2em;}#sk-container-id-8 div.sk-label-container {text-align: center;}#sk-container-id-8 div.sk-container {/* jupyter's `normalize.less` sets `[hidden] { display: none; }` but bootstrap.min.css set `[hidden] { display: none !important; }` so we also need the `!important` here to be able to override the default hidden behavior on the sphinx rendered scikit-learn.org. See: https://github.com/scikit-learn/scikit-learn/issues/21755 */display: inline-block !important;position: relative;}#sk-container-id-8 div.sk-text-repr-fallback {display: none;}</style><div id=\"sk-container-id-8\" class=\"sk-top-container\"><div class=\"sk-text-repr-fallback\"><pre>GridSearchCV(cv=KFold(n_splits=5, random_state=42, shuffle=True),\n",
       "             estimator=SVR(epsilon=0.2), n_jobs=-1,\n",
       "             param_grid={&#x27;C&#x27;: [1, 10, 100, 1000, 10000],\n",
       "                         &#x27;gamma&#x27;: [1e-06, 1e-05, 0.0001, 0.001, 0.01, 0.1]},\n",
       "             verbose=1)</pre><b>In a Jupyter environment, please rerun this cell to show the HTML representation or trust the notebook. <br />On GitHub, the HTML representation is unable to render, please try loading this page with nbviewer.org.</b></div><div class=\"sk-container\" hidden><div class=\"sk-item sk-dashed-wrapped\"><div class=\"sk-label-container\"><div class=\"sk-label sk-toggleable\"><input class=\"sk-toggleable__control sk-hidden--visually\" id=\"sk-estimator-id-12\" type=\"checkbox\" ><label for=\"sk-estimator-id-12\" class=\"sk-toggleable__label sk-toggleable__label-arrow\">GridSearchCV</label><div class=\"sk-toggleable__content\"><pre>GridSearchCV(cv=KFold(n_splits=5, random_state=42, shuffle=True),\n",
       "             estimator=SVR(epsilon=0.2), n_jobs=-1,\n",
       "             param_grid={&#x27;C&#x27;: [1, 10, 100, 1000, 10000],\n",
       "                         &#x27;gamma&#x27;: [1e-06, 1e-05, 0.0001, 0.001, 0.01, 0.1]},\n",
       "             verbose=1)</pre></div></div></div><div class=\"sk-parallel\"><div class=\"sk-parallel-item\"><div class=\"sk-item\"><div class=\"sk-label-container\"><div class=\"sk-label sk-toggleable\"><input class=\"sk-toggleable__control sk-hidden--visually\" id=\"sk-estimator-id-13\" type=\"checkbox\" ><label for=\"sk-estimator-id-13\" class=\"sk-toggleable__label sk-toggleable__label-arrow\">estimator: SVR</label><div class=\"sk-toggleable__content\"><pre>SVR(epsilon=0.2)</pre></div></div></div><div class=\"sk-serial\"><div class=\"sk-item\"><div class=\"sk-estimator sk-toggleable\"><input class=\"sk-toggleable__control sk-hidden--visually\" id=\"sk-estimator-id-14\" type=\"checkbox\" ><label for=\"sk-estimator-id-14\" class=\"sk-toggleable__label sk-toggleable__label-arrow\">SVR</label><div class=\"sk-toggleable__content\"><pre>SVR(epsilon=0.2)</pre></div></div></div></div></div></div></div></div></div></div>"
      ],
      "text/plain": [
       "GridSearchCV(cv=KFold(n_splits=5, random_state=42, shuffle=True),\n",
       "             estimator=SVR(epsilon=0.2), n_jobs=-1,\n",
       "             param_grid={'C': [1, 10, 100, 1000, 10000],\n",
       "                         'gamma': [1e-06, 1e-05, 0.0001, 0.001, 0.01, 0.1]},\n",
       "             verbose=1)"
      ]
     },
     "execution_count": 157,
     "metadata": {},
     "output_type": "execute_result"
    }
   ],
   "source": [
    "svm.fit(X_rfe, y_tr)"
   ]
  },
  {
   "cell_type": "code",
   "execution_count": 158,
   "metadata": {},
   "outputs": [],
   "source": [
    "svm.best_params_\n",
    "best_svm = svm.best_estimator_"
   ]
  },
  {
   "cell_type": "code",
   "execution_count": 159,
   "metadata": {},
   "outputs": [
    {
     "data": {
      "text/plain": [
       "{'C': 10, 'gamma': 0.01}"
      ]
     },
     "execution_count": 159,
     "metadata": {},
     "output_type": "execute_result"
    }
   ],
   "source": [
    "svm.best_params_"
   ]
  },
  {
   "cell_type": "code",
   "execution_count": 160,
   "metadata": {},
   "outputs": [],
   "source": [
    "y_pred_CV_svm = cross_val_predict(best_svm, X_rfe, y_tr, cv=cv)"
   ]
  },
  {
   "cell_type": "code",
   "execution_count": 161,
   "metadata": {},
   "outputs": [
    {
     "data": {
      "text/plain": [
       "0.67"
      ]
     },
     "execution_count": 161,
     "metadata": {},
     "output_type": "execute_result"
    }
   ],
   "source": [
    "Q2_CV = round(r2_score(y_tr, y_pred_CV_svm), 2)\n",
    "Q2_CV"
   ]
  },
  {
   "cell_type": "code",
   "execution_count": 162,
   "metadata": {},
   "outputs": [
    {
     "data": {
      "text/plain": [
       "0.7"
      ]
     },
     "execution_count": 162,
     "metadata": {},
     "output_type": "execute_result"
    }
   ],
   "source": [
    "RMSE_CV=round(np.sqrt(mean_squared_error(y_tr, y_pred_CV_svm)), 2)\n",
    "RMSE_CV"
   ]
  },
  {
   "cell_type": "markdown",
   "metadata": {},
   "source": [
    "#  Prediction for test set's molecules"
   ]
  },
  {
   "cell_type": "code",
   "execution_count": 163,
   "metadata": {},
   "outputs": [],
   "source": [
    "x_ts = np.array(x_ts, dtype=np.float32)\n",
    "y_ts = np.array(y_ts, dtype=np.float32)"
   ]
  },
  {
   "cell_type": "code",
   "execution_count": 164,
   "metadata": {},
   "outputs": [],
   "source": [
    "y_pred_svm = best_svm.predict(x_ts)"
   ]
  },
  {
   "cell_type": "code",
   "execution_count": 165,
   "metadata": {},
   "outputs": [
    {
     "data": {
      "text/plain": [
       "0.63"
      ]
     },
     "execution_count": 165,
     "metadata": {},
     "output_type": "execute_result"
    }
   ],
   "source": [
    "Q2_TS = round(r2_score(y_ts, y_pred_svm), 2)\n",
    "Q2_TS"
   ]
  },
  {
   "cell_type": "code",
   "execution_count": 166,
   "metadata": {},
   "outputs": [
    {
     "data": {
      "text/plain": [
       "0.75"
      ]
     },
     "execution_count": 166,
     "metadata": {},
     "output_type": "execute_result"
    }
   ],
   "source": [
    "RMSE_TS=round(np.sqrt(mean_squared_error(y_ts, y_pred_svm)), 2)\n",
    "RMSE_TS"
   ]
  },
  {
   "cell_type": "markdown",
   "metadata": {},
   "source": [
    "save the model to disk"
   ]
  },
  {
   "cell_type": "code",
   "execution_count": 167,
   "metadata": {},
   "outputs": [],
   "source": [
    "pickle.dump(best_svm, open('Models/Morgan_FP/HDAC3_SVM_Morgan_FP.pkl', 'wb'))"
   ]
  },
  {
   "cell_type": "markdown",
   "metadata": {},
   "source": [
    "load the model from disk"
   ]
  },
  {
   "cell_type": "code",
   "execution_count": 168,
   "metadata": {},
   "outputs": [],
   "source": [
    "best_svm = pickle.load(open('Models/Morgan_FP/HDAC3_SVM_Morgan_FP.pkl', 'rb'))"
   ]
  },
  {
   "cell_type": "markdown",
   "metadata": {},
   "source": [
    "# 10. Y-randomization SVM model"
   ]
  },
  {
   "cell_type": "code",
   "execution_count": 169,
   "metadata": {},
   "outputs": [
    {
     "name": "stderr",
     "output_type": "stream",
     "text": [
      "[Parallel(n_jobs=-1)]: Using backend LokyBackend with 16 concurrent workers.\n",
      "[Parallel(n_jobs=-1)]: Done  18 tasks      | elapsed:    3.2s\n"
     ]
    },
    {
     "name": "stdout",
     "output_type": "stream",
     "text": [
      "True score =  0.663 \n",
      "Y-randomization =  -0.2 \n",
      "p-value =  0.0196\n"
     ]
    },
    {
     "name": "stderr",
     "output_type": "stream",
     "text": [
      "[Parallel(n_jobs=-1)]: Done  50 out of  50 | elapsed:    6.6s finished\n"
     ]
    }
   ],
   "source": [
    "permutations = 50\n",
    "score, permutation_scores, pvalue = permutation_test_score(best_svm, X_rfe, y_tr,\n",
    "                                                           cv=cv, scoring='r2',\n",
    "                                                           n_permutations=permutations,\n",
    "                                                           n_jobs=-1,\n",
    "                                                           verbose=1,\n",
    "                                                           random_state=seed)\n",
    "print('True score = ', score.round(3),\n",
    "      '\\nY-randomization = ', np.mean(permutation_scores).round(2),\n",
    "      '\\np-value = ', pvalue.round(4))"
   ]
  },
  {
   "cell_type": "markdown",
   "metadata": {},
   "source": [
    "# 11. Estimating applicability domain. Method - Euclidian distances, K=1"
   ]
  },
  {
   "cell_type": "code",
   "execution_count": 170,
   "metadata": {},
   "outputs": [],
   "source": [
    "neighbors_k= pairwise_distances(X_rfe, n_jobs=-1)\n",
    "neighbors_k.sort(0)"
   ]
  },
  {
   "cell_type": "code",
   "execution_count": 171,
   "metadata": {},
   "outputs": [
    {
     "data": {
      "text/html": [
       "<div>\n",
       "<style scoped>\n",
       "    .dataframe tbody tr th:only-of-type {\n",
       "        vertical-align: middle;\n",
       "    }\n",
       "\n",
       "    .dataframe tbody tr th {\n",
       "        vertical-align: top;\n",
       "    }\n",
       "\n",
       "    .dataframe thead th {\n",
       "        text-align: right;\n",
       "    }\n",
       "</style>\n",
       "<table border=\"1\" class=\"dataframe\">\n",
       "  <thead>\n",
       "    <tr style=\"text-align: right;\">\n",
       "      <th></th>\n",
       "      <th>0</th>\n",
       "      <th>1</th>\n",
       "      <th>2</th>\n",
       "      <th>3</th>\n",
       "      <th>4</th>\n",
       "      <th>5</th>\n",
       "      <th>6</th>\n",
       "      <th>7</th>\n",
       "      <th>8</th>\n",
       "      <th>9</th>\n",
       "      <th>...</th>\n",
       "      <th>1390</th>\n",
       "      <th>1391</th>\n",
       "      <th>1392</th>\n",
       "      <th>1393</th>\n",
       "      <th>1394</th>\n",
       "      <th>1395</th>\n",
       "      <th>1396</th>\n",
       "      <th>1397</th>\n",
       "      <th>1398</th>\n",
       "      <th>1399</th>\n",
       "    </tr>\n",
       "  </thead>\n",
       "  <tbody>\n",
       "    <tr>\n",
       "      <th>0</th>\n",
       "      <td>0.000000</td>\n",
       "      <td>0.000000</td>\n",
       "      <td>0.000000</td>\n",
       "      <td>0.000000</td>\n",
       "      <td>0.000000</td>\n",
       "      <td>0.000000</td>\n",
       "      <td>0.000000</td>\n",
       "      <td>0.000000</td>\n",
       "      <td>0.000000</td>\n",
       "      <td>0.000000</td>\n",
       "      <td>...</td>\n",
       "      <td>0.000000</td>\n",
       "      <td>0.000000</td>\n",
       "      <td>0.000000</td>\n",
       "      <td>0.000000</td>\n",
       "      <td>0.000000</td>\n",
       "      <td>0.000000</td>\n",
       "      <td>0.000000</td>\n",
       "      <td>0.000000</td>\n",
       "      <td>0.000000</td>\n",
       "      <td>0.000000</td>\n",
       "    </tr>\n",
       "    <tr>\n",
       "      <th>1</th>\n",
       "      <td>1.732051</td>\n",
       "      <td>2.645751</td>\n",
       "      <td>2.645751</td>\n",
       "      <td>2.449490</td>\n",
       "      <td>2.449490</td>\n",
       "      <td>3.162278</td>\n",
       "      <td>2.236068</td>\n",
       "      <td>3.741657</td>\n",
       "      <td>4.000000</td>\n",
       "      <td>3.162278</td>\n",
       "      <td>...</td>\n",
       "      <td>3.162278</td>\n",
       "      <td>2.449490</td>\n",
       "      <td>2.449490</td>\n",
       "      <td>1.000000</td>\n",
       "      <td>1.414214</td>\n",
       "      <td>2.236068</td>\n",
       "      <td>2.236068</td>\n",
       "      <td>2.000000</td>\n",
       "      <td>4.358899</td>\n",
       "      <td>3.162278</td>\n",
       "    </tr>\n",
       "    <tr>\n",
       "      <th>2</th>\n",
       "      <td>2.000000</td>\n",
       "      <td>2.828427</td>\n",
       "      <td>3.162278</td>\n",
       "      <td>2.449490</td>\n",
       "      <td>2.828427</td>\n",
       "      <td>3.464102</td>\n",
       "      <td>3.872983</td>\n",
       "      <td>3.741657</td>\n",
       "      <td>4.358899</td>\n",
       "      <td>3.316625</td>\n",
       "      <td>...</td>\n",
       "      <td>4.123106</td>\n",
       "      <td>3.162278</td>\n",
       "      <td>2.828427</td>\n",
       "      <td>3.000000</td>\n",
       "      <td>1.732051</td>\n",
       "      <td>2.236068</td>\n",
       "      <td>2.645751</td>\n",
       "      <td>2.000000</td>\n",
       "      <td>4.795832</td>\n",
       "      <td>3.316625</td>\n",
       "    </tr>\n",
       "    <tr>\n",
       "      <th>3</th>\n",
       "      <td>2.000000</td>\n",
       "      <td>2.828427</td>\n",
       "      <td>3.605551</td>\n",
       "      <td>2.828427</td>\n",
       "      <td>4.123106</td>\n",
       "      <td>3.741657</td>\n",
       "      <td>3.872983</td>\n",
       "      <td>3.872983</td>\n",
       "      <td>4.472136</td>\n",
       "      <td>3.316625</td>\n",
       "      <td>...</td>\n",
       "      <td>4.242640</td>\n",
       "      <td>3.316625</td>\n",
       "      <td>2.828427</td>\n",
       "      <td>3.000000</td>\n",
       "      <td>2.449490</td>\n",
       "      <td>2.236068</td>\n",
       "      <td>3.162278</td>\n",
       "      <td>2.000000</td>\n",
       "      <td>5.000000</td>\n",
       "      <td>3.605551</td>\n",
       "    </tr>\n",
       "    <tr>\n",
       "      <th>4</th>\n",
       "      <td>2.236068</td>\n",
       "      <td>3.162278</td>\n",
       "      <td>4.123106</td>\n",
       "      <td>3.000000</td>\n",
       "      <td>4.242640</td>\n",
       "      <td>3.872983</td>\n",
       "      <td>4.000000</td>\n",
       "      <td>4.242640</td>\n",
       "      <td>4.582576</td>\n",
       "      <td>4.123106</td>\n",
       "      <td>...</td>\n",
       "      <td>4.358899</td>\n",
       "      <td>3.605551</td>\n",
       "      <td>3.000000</td>\n",
       "      <td>3.162278</td>\n",
       "      <td>2.449490</td>\n",
       "      <td>2.236068</td>\n",
       "      <td>3.316625</td>\n",
       "      <td>2.236068</td>\n",
       "      <td>5.099020</td>\n",
       "      <td>3.605551</td>\n",
       "    </tr>\n",
       "    <tr>\n",
       "      <th>...</th>\n",
       "      <td>...</td>\n",
       "      <td>...</td>\n",
       "      <td>...</td>\n",
       "      <td>...</td>\n",
       "      <td>...</td>\n",
       "      <td>...</td>\n",
       "      <td>...</td>\n",
       "      <td>...</td>\n",
       "      <td>...</td>\n",
       "      <td>...</td>\n",
       "      <td>...</td>\n",
       "      <td>...</td>\n",
       "      <td>...</td>\n",
       "      <td>...</td>\n",
       "      <td>...</td>\n",
       "      <td>...</td>\n",
       "      <td>...</td>\n",
       "      <td>...</td>\n",
       "      <td>...</td>\n",
       "      <td>...</td>\n",
       "      <td>...</td>\n",
       "    </tr>\n",
       "    <tr>\n",
       "      <th>1395</th>\n",
       "      <td>7.745967</td>\n",
       "      <td>7.937254</td>\n",
       "      <td>8.544003</td>\n",
       "      <td>7.874008</td>\n",
       "      <td>7.810250</td>\n",
       "      <td>8.485281</td>\n",
       "      <td>8.306623</td>\n",
       "      <td>7.745967</td>\n",
       "      <td>8.831760</td>\n",
       "      <td>8.306623</td>\n",
       "      <td>...</td>\n",
       "      <td>8.426149</td>\n",
       "      <td>8.426149</td>\n",
       "      <td>8.888194</td>\n",
       "      <td>8.831760</td>\n",
       "      <td>8.831760</td>\n",
       "      <td>9.055386</td>\n",
       "      <td>9.000000</td>\n",
       "      <td>9.110434</td>\n",
       "      <td>8.185352</td>\n",
       "      <td>9.000000</td>\n",
       "    </tr>\n",
       "    <tr>\n",
       "      <th>1396</th>\n",
       "      <td>7.810250</td>\n",
       "      <td>8.000000</td>\n",
       "      <td>8.602325</td>\n",
       "      <td>7.874008</td>\n",
       "      <td>7.874008</td>\n",
       "      <td>8.485281</td>\n",
       "      <td>8.366600</td>\n",
       "      <td>7.810250</td>\n",
       "      <td>8.831760</td>\n",
       "      <td>8.306623</td>\n",
       "      <td>...</td>\n",
       "      <td>8.485281</td>\n",
       "      <td>8.485281</td>\n",
       "      <td>8.944272</td>\n",
       "      <td>8.831760</td>\n",
       "      <td>8.888194</td>\n",
       "      <td>9.055386</td>\n",
       "      <td>9.000000</td>\n",
       "      <td>9.110434</td>\n",
       "      <td>8.185352</td>\n",
       "      <td>9.000000</td>\n",
       "    </tr>\n",
       "    <tr>\n",
       "      <th>1397</th>\n",
       "      <td>7.810250</td>\n",
       "      <td>8.000000</td>\n",
       "      <td>8.717798</td>\n",
       "      <td>7.937254</td>\n",
       "      <td>7.937254</td>\n",
       "      <td>8.485281</td>\n",
       "      <td>8.426149</td>\n",
       "      <td>7.810250</td>\n",
       "      <td>8.831760</td>\n",
       "      <td>8.306623</td>\n",
       "      <td>...</td>\n",
       "      <td>8.544003</td>\n",
       "      <td>8.544003</td>\n",
       "      <td>8.944272</td>\n",
       "      <td>8.888194</td>\n",
       "      <td>8.888194</td>\n",
       "      <td>9.110434</td>\n",
       "      <td>9.000000</td>\n",
       "      <td>9.110434</td>\n",
       "      <td>8.246211</td>\n",
       "      <td>9.000000</td>\n",
       "    </tr>\n",
       "    <tr>\n",
       "      <th>1398</th>\n",
       "      <td>7.874008</td>\n",
       "      <td>8.062258</td>\n",
       "      <td>8.717798</td>\n",
       "      <td>7.937254</td>\n",
       "      <td>8.000000</td>\n",
       "      <td>8.485281</td>\n",
       "      <td>8.485281</td>\n",
       "      <td>7.874008</td>\n",
       "      <td>8.831760</td>\n",
       "      <td>8.366600</td>\n",
       "      <td>...</td>\n",
       "      <td>8.602325</td>\n",
       "      <td>8.544003</td>\n",
       "      <td>9.000000</td>\n",
       "      <td>8.944272</td>\n",
       "      <td>9.000000</td>\n",
       "      <td>9.165152</td>\n",
       "      <td>9.055386</td>\n",
       "      <td>9.165152</td>\n",
       "      <td>8.366600</td>\n",
       "      <td>9.055386</td>\n",
       "    </tr>\n",
       "    <tr>\n",
       "      <th>1399</th>\n",
       "      <td>7.874008</td>\n",
       "      <td>8.062258</td>\n",
       "      <td>8.831760</td>\n",
       "      <td>8.062258</td>\n",
       "      <td>8.124039</td>\n",
       "      <td>8.544003</td>\n",
       "      <td>8.544003</td>\n",
       "      <td>7.937254</td>\n",
       "      <td>8.888194</td>\n",
       "      <td>8.426149</td>\n",
       "      <td>...</td>\n",
       "      <td>8.660254</td>\n",
       "      <td>8.602325</td>\n",
       "      <td>9.055386</td>\n",
       "      <td>8.944272</td>\n",
       "      <td>9.000000</td>\n",
       "      <td>9.273619</td>\n",
       "      <td>9.165152</td>\n",
       "      <td>9.327379</td>\n",
       "      <td>8.426149</td>\n",
       "      <td>9.110434</td>\n",
       "    </tr>\n",
       "  </tbody>\n",
       "</table>\n",
       "<p>1400 rows × 1400 columns</p>\n",
       "</div>"
      ],
      "text/plain": [
       "          0         1         2         3         4         5         6     \\\n",
       "0     0.000000  0.000000  0.000000  0.000000  0.000000  0.000000  0.000000   \n",
       "1     1.732051  2.645751  2.645751  2.449490  2.449490  3.162278  2.236068   \n",
       "2     2.000000  2.828427  3.162278  2.449490  2.828427  3.464102  3.872983   \n",
       "3     2.000000  2.828427  3.605551  2.828427  4.123106  3.741657  3.872983   \n",
       "4     2.236068  3.162278  4.123106  3.000000  4.242640  3.872983  4.000000   \n",
       "...        ...       ...       ...       ...       ...       ...       ...   \n",
       "1395  7.745967  7.937254  8.544003  7.874008  7.810250  8.485281  8.306623   \n",
       "1396  7.810250  8.000000  8.602325  7.874008  7.874008  8.485281  8.366600   \n",
       "1397  7.810250  8.000000  8.717798  7.937254  7.937254  8.485281  8.426149   \n",
       "1398  7.874008  8.062258  8.717798  7.937254  8.000000  8.485281  8.485281   \n",
       "1399  7.874008  8.062258  8.831760  8.062258  8.124039  8.544003  8.544003   \n",
       "\n",
       "          7         8         9     ...      1390      1391      1392  \\\n",
       "0     0.000000  0.000000  0.000000  ...  0.000000  0.000000  0.000000   \n",
       "1     3.741657  4.000000  3.162278  ...  3.162278  2.449490  2.449490   \n",
       "2     3.741657  4.358899  3.316625  ...  4.123106  3.162278  2.828427   \n",
       "3     3.872983  4.472136  3.316625  ...  4.242640  3.316625  2.828427   \n",
       "4     4.242640  4.582576  4.123106  ...  4.358899  3.605551  3.000000   \n",
       "...        ...       ...       ...  ...       ...       ...       ...   \n",
       "1395  7.745967  8.831760  8.306623  ...  8.426149  8.426149  8.888194   \n",
       "1396  7.810250  8.831760  8.306623  ...  8.485281  8.485281  8.944272   \n",
       "1397  7.810250  8.831760  8.306623  ...  8.544003  8.544003  8.944272   \n",
       "1398  7.874008  8.831760  8.366600  ...  8.602325  8.544003  9.000000   \n",
       "1399  7.937254  8.888194  8.426149  ...  8.660254  8.602325  9.055386   \n",
       "\n",
       "          1393      1394      1395      1396      1397      1398      1399  \n",
       "0     0.000000  0.000000  0.000000  0.000000  0.000000  0.000000  0.000000  \n",
       "1     1.000000  1.414214  2.236068  2.236068  2.000000  4.358899  3.162278  \n",
       "2     3.000000  1.732051  2.236068  2.645751  2.000000  4.795832  3.316625  \n",
       "3     3.000000  2.449490  2.236068  3.162278  2.000000  5.000000  3.605551  \n",
       "4     3.162278  2.449490  2.236068  3.316625  2.236068  5.099020  3.605551  \n",
       "...        ...       ...       ...       ...       ...       ...       ...  \n",
       "1395  8.831760  8.831760  9.055386  9.000000  9.110434  8.185352  9.000000  \n",
       "1396  8.831760  8.888194  9.055386  9.000000  9.110434  8.185352  9.000000  \n",
       "1397  8.888194  8.888194  9.110434  9.000000  9.110434  8.246211  9.000000  \n",
       "1398  8.944272  9.000000  9.165152  9.055386  9.165152  8.366600  9.055386  \n",
       "1399  8.944272  9.000000  9.273619  9.165152  9.327379  8.426149  9.110434  \n",
       "\n",
       "[1400 rows x 1400 columns]"
      ]
     },
     "execution_count": 171,
     "metadata": {},
     "output_type": "execute_result"
    }
   ],
   "source": [
    "df_tr=pd.DataFrame(neighbors_k)\n",
    "df_tr"
   ]
  },
  {
   "cell_type": "code",
   "execution_count": 172,
   "metadata": {},
   "outputs": [],
   "source": [
    "similarity= neighbors_k"
   ]
  },
  {
   "cell_type": "code",
   "execution_count": 173,
   "metadata": {},
   "outputs": [],
   "source": [
    "Dmean=np.mean(similarity[1,:])"
   ]
  },
  {
   "cell_type": "code",
   "execution_count": 174,
   "metadata": {},
   "outputs": [
    {
     "data": {
      "text/plain": [
       "2.24"
      ]
     },
     "execution_count": 174,
     "metadata": {},
     "output_type": "execute_result"
    }
   ],
   "source": [
    "round(Dmean, 2)"
   ]
  },
  {
   "cell_type": "code",
   "execution_count": 175,
   "metadata": {},
   "outputs": [],
   "source": [
    "std=np.std(similarity[1,:])"
   ]
  },
  {
   "cell_type": "code",
   "execution_count": 176,
   "metadata": {},
   "outputs": [
    {
     "data": {
      "text/plain": [
       "1.08"
      ]
     },
     "execution_count": 176,
     "metadata": {},
     "output_type": "execute_result"
    }
   ],
   "source": [
    "round(std, 2)"
   ]
  },
  {
   "cell_type": "code",
   "execution_count": 177,
   "metadata": {},
   "outputs": [
    {
     "name": "stdout",
     "output_type": "stream",
     "text": [
      "2.78\n"
     ]
    }
   ],
   "source": [
    "model_AD_limit=Dmean+std*0.5\n",
    "print(np.round(model_AD_limit, 2))"
   ]
  },
  {
   "cell_type": "code",
   "execution_count": 178,
   "metadata": {},
   "outputs": [],
   "source": [
    "x_ts=desc_ts[feature_name_rfecv]"
   ]
  },
  {
   "cell_type": "code",
   "execution_count": 179,
   "metadata": {},
   "outputs": [],
   "source": [
    "neighbors_k_ts= pairwise_distances(X_rfe,Y=x_ts, n_jobs=-1)\n",
    "neighbors_k_ts.sort(0)"
   ]
  },
  {
   "cell_type": "code",
   "execution_count": 180,
   "metadata": {},
   "outputs": [
    {
     "data": {
      "text/html": [
       "<div>\n",
       "<style scoped>\n",
       "    .dataframe tbody tr th:only-of-type {\n",
       "        vertical-align: middle;\n",
       "    }\n",
       "\n",
       "    .dataframe tbody tr th {\n",
       "        vertical-align: top;\n",
       "    }\n",
       "\n",
       "    .dataframe thead th {\n",
       "        text-align: right;\n",
       "    }\n",
       "</style>\n",
       "<table border=\"1\" class=\"dataframe\">\n",
       "  <thead>\n",
       "    <tr style=\"text-align: right;\">\n",
       "      <th></th>\n",
       "      <th>0</th>\n",
       "      <th>1</th>\n",
       "      <th>2</th>\n",
       "      <th>3</th>\n",
       "      <th>4</th>\n",
       "      <th>5</th>\n",
       "      <th>6</th>\n",
       "      <th>7</th>\n",
       "      <th>8</th>\n",
       "      <th>9</th>\n",
       "      <th>...</th>\n",
       "      <th>341</th>\n",
       "      <th>342</th>\n",
       "      <th>343</th>\n",
       "      <th>344</th>\n",
       "      <th>345</th>\n",
       "      <th>346</th>\n",
       "      <th>347</th>\n",
       "      <th>348</th>\n",
       "      <th>349</th>\n",
       "      <th>350</th>\n",
       "    </tr>\n",
       "  </thead>\n",
       "  <tbody>\n",
       "    <tr>\n",
       "      <th>0</th>\n",
       "      <td>0.000000</td>\n",
       "      <td>3.000000</td>\n",
       "      <td>5.385165</td>\n",
       "      <td>3.741657</td>\n",
       "      <td>2.236068</td>\n",
       "      <td>2.645751</td>\n",
       "      <td>2.449490</td>\n",
       "      <td>1.414214</td>\n",
       "      <td>3.464102</td>\n",
       "      <td>2.645751</td>\n",
       "      <td>...</td>\n",
       "      <td>1.732051</td>\n",
       "      <td>2.449490</td>\n",
       "      <td>2.236068</td>\n",
       "      <td>2.449490</td>\n",
       "      <td>2.449490</td>\n",
       "      <td>2.645751</td>\n",
       "      <td>2.236068</td>\n",
       "      <td>2.645751</td>\n",
       "      <td>3.605551</td>\n",
       "      <td>1.000000</td>\n",
       "    </tr>\n",
       "    <tr>\n",
       "      <th>1</th>\n",
       "      <td>2.236068</td>\n",
       "      <td>3.741657</td>\n",
       "      <td>5.656854</td>\n",
       "      <td>3.741657</td>\n",
       "      <td>2.828427</td>\n",
       "      <td>3.000000</td>\n",
       "      <td>4.000000</td>\n",
       "      <td>1.732051</td>\n",
       "      <td>3.605551</td>\n",
       "      <td>2.828427</td>\n",
       "      <td>...</td>\n",
       "      <td>2.000000</td>\n",
       "      <td>2.645751</td>\n",
       "      <td>2.449490</td>\n",
       "      <td>3.162278</td>\n",
       "      <td>2.828427</td>\n",
       "      <td>3.000000</td>\n",
       "      <td>2.449490</td>\n",
       "      <td>2.828427</td>\n",
       "      <td>3.605551</td>\n",
       "      <td>1.000000</td>\n",
       "    </tr>\n",
       "    <tr>\n",
       "      <th>2</th>\n",
       "      <td>2.236068</td>\n",
       "      <td>4.242641</td>\n",
       "      <td>5.656854</td>\n",
       "      <td>3.872983</td>\n",
       "      <td>3.162278</td>\n",
       "      <td>3.000000</td>\n",
       "      <td>4.242641</td>\n",
       "      <td>2.449490</td>\n",
       "      <td>3.741657</td>\n",
       "      <td>3.000000</td>\n",
       "      <td>...</td>\n",
       "      <td>2.449490</td>\n",
       "      <td>3.316625</td>\n",
       "      <td>2.828427</td>\n",
       "      <td>3.162278</td>\n",
       "      <td>3.162278</td>\n",
       "      <td>3.162278</td>\n",
       "      <td>3.000000</td>\n",
       "      <td>2.828427</td>\n",
       "      <td>3.741657</td>\n",
       "      <td>1.414214</td>\n",
       "    </tr>\n",
       "    <tr>\n",
       "      <th>3</th>\n",
       "      <td>2.236068</td>\n",
       "      <td>4.242641</td>\n",
       "      <td>5.656854</td>\n",
       "      <td>4.242641</td>\n",
       "      <td>3.162278</td>\n",
       "      <td>3.464102</td>\n",
       "      <td>4.358899</td>\n",
       "      <td>2.449490</td>\n",
       "      <td>4.795832</td>\n",
       "      <td>3.316625</td>\n",
       "      <td>...</td>\n",
       "      <td>2.449490</td>\n",
       "      <td>3.316625</td>\n",
       "      <td>2.828427</td>\n",
       "      <td>3.162278</td>\n",
       "      <td>3.162278</td>\n",
       "      <td>3.162278</td>\n",
       "      <td>3.000000</td>\n",
       "      <td>3.000000</td>\n",
       "      <td>3.872983</td>\n",
       "      <td>2.236068</td>\n",
       "    </tr>\n",
       "    <tr>\n",
       "      <th>4</th>\n",
       "      <td>2.645751</td>\n",
       "      <td>4.358899</td>\n",
       "      <td>5.744563</td>\n",
       "      <td>4.358899</td>\n",
       "      <td>4.123106</td>\n",
       "      <td>3.605551</td>\n",
       "      <td>4.582576</td>\n",
       "      <td>2.828427</td>\n",
       "      <td>4.898979</td>\n",
       "      <td>3.605551</td>\n",
       "      <td>...</td>\n",
       "      <td>2.645751</td>\n",
       "      <td>3.464102</td>\n",
       "      <td>3.000000</td>\n",
       "      <td>3.316625</td>\n",
       "      <td>3.316625</td>\n",
       "      <td>3.162278</td>\n",
       "      <td>3.316625</td>\n",
       "      <td>3.162278</td>\n",
       "      <td>4.123106</td>\n",
       "      <td>3.316625</td>\n",
       "    </tr>\n",
       "    <tr>\n",
       "      <th>...</th>\n",
       "      <td>...</td>\n",
       "      <td>...</td>\n",
       "      <td>...</td>\n",
       "      <td>...</td>\n",
       "      <td>...</td>\n",
       "      <td>...</td>\n",
       "      <td>...</td>\n",
       "      <td>...</td>\n",
       "      <td>...</td>\n",
       "      <td>...</td>\n",
       "      <td>...</td>\n",
       "      <td>...</td>\n",
       "      <td>...</td>\n",
       "      <td>...</td>\n",
       "      <td>...</td>\n",
       "      <td>...</td>\n",
       "      <td>...</td>\n",
       "      <td>...</td>\n",
       "      <td>...</td>\n",
       "      <td>...</td>\n",
       "      <td>...</td>\n",
       "    </tr>\n",
       "    <tr>\n",
       "      <th>1395</th>\n",
       "      <td>7.810250</td>\n",
       "      <td>7.874008</td>\n",
       "      <td>8.602325</td>\n",
       "      <td>9.110434</td>\n",
       "      <td>7.810250</td>\n",
       "      <td>8.000000</td>\n",
       "      <td>8.944272</td>\n",
       "      <td>7.874008</td>\n",
       "      <td>8.485281</td>\n",
       "      <td>8.000000</td>\n",
       "      <td>...</td>\n",
       "      <td>8.306624</td>\n",
       "      <td>8.246211</td>\n",
       "      <td>8.306624</td>\n",
       "      <td>9.165151</td>\n",
       "      <td>8.774964</td>\n",
       "      <td>9.219544</td>\n",
       "      <td>8.831761</td>\n",
       "      <td>8.831761</td>\n",
       "      <td>8.485281</td>\n",
       "      <td>8.306624</td>\n",
       "    </tr>\n",
       "    <tr>\n",
       "      <th>1396</th>\n",
       "      <td>7.810250</td>\n",
       "      <td>7.874008</td>\n",
       "      <td>8.602325</td>\n",
       "      <td>9.110434</td>\n",
       "      <td>7.810250</td>\n",
       "      <td>8.062258</td>\n",
       "      <td>8.944272</td>\n",
       "      <td>7.874008</td>\n",
       "      <td>8.485281</td>\n",
       "      <td>8.062258</td>\n",
       "      <td>...</td>\n",
       "      <td>8.306624</td>\n",
       "      <td>8.306624</td>\n",
       "      <td>8.366600</td>\n",
       "      <td>9.165151</td>\n",
       "      <td>8.831761</td>\n",
       "      <td>9.273618</td>\n",
       "      <td>8.888194</td>\n",
       "      <td>8.944272</td>\n",
       "      <td>8.485281</td>\n",
       "      <td>8.366600</td>\n",
       "    </tr>\n",
       "    <tr>\n",
       "      <th>1397</th>\n",
       "      <td>7.874008</td>\n",
       "      <td>8.000000</td>\n",
       "      <td>8.602325</td>\n",
       "      <td>9.219544</td>\n",
       "      <td>7.810250</td>\n",
       "      <td>8.185353</td>\n",
       "      <td>8.944272</td>\n",
       "      <td>8.000000</td>\n",
       "      <td>8.485281</td>\n",
       "      <td>8.185353</td>\n",
       "      <td>...</td>\n",
       "      <td>8.306624</td>\n",
       "      <td>8.306624</td>\n",
       "      <td>8.366600</td>\n",
       "      <td>9.219544</td>\n",
       "      <td>8.831761</td>\n",
       "      <td>9.273618</td>\n",
       "      <td>8.888194</td>\n",
       "      <td>8.944272</td>\n",
       "      <td>8.485281</td>\n",
       "      <td>8.366600</td>\n",
       "    </tr>\n",
       "    <tr>\n",
       "      <th>1398</th>\n",
       "      <td>7.874008</td>\n",
       "      <td>8.000000</td>\n",
       "      <td>8.602325</td>\n",
       "      <td>9.273618</td>\n",
       "      <td>7.874008</td>\n",
       "      <td>8.185353</td>\n",
       "      <td>9.000000</td>\n",
       "      <td>8.000000</td>\n",
       "      <td>8.602325</td>\n",
       "      <td>8.185353</td>\n",
       "      <td>...</td>\n",
       "      <td>8.306624</td>\n",
       "      <td>8.306624</td>\n",
       "      <td>8.366600</td>\n",
       "      <td>9.327379</td>\n",
       "      <td>8.888194</td>\n",
       "      <td>9.327379</td>\n",
       "      <td>8.944272</td>\n",
       "      <td>8.944272</td>\n",
       "      <td>8.485281</td>\n",
       "      <td>8.485281</td>\n",
       "    </tr>\n",
       "    <tr>\n",
       "      <th>1399</th>\n",
       "      <td>7.937254</td>\n",
       "      <td>8.062258</td>\n",
       "      <td>8.717798</td>\n",
       "      <td>9.327379</td>\n",
       "      <td>7.937254</td>\n",
       "      <td>8.306624</td>\n",
       "      <td>9.110434</td>\n",
       "      <td>8.124038</td>\n",
       "      <td>8.660254</td>\n",
       "      <td>8.306624</td>\n",
       "      <td>...</td>\n",
       "      <td>8.485281</td>\n",
       "      <td>8.366600</td>\n",
       "      <td>8.485281</td>\n",
       "      <td>9.327379</td>\n",
       "      <td>8.888194</td>\n",
       "      <td>9.327379</td>\n",
       "      <td>9.000000</td>\n",
       "      <td>8.944272</td>\n",
       "      <td>8.544004</td>\n",
       "      <td>8.544004</td>\n",
       "    </tr>\n",
       "  </tbody>\n",
       "</table>\n",
       "<p>1400 rows × 351 columns</p>\n",
       "</div>"
      ],
      "text/plain": [
       "           0         1         2         3         4         5         6    \\\n",
       "0     0.000000  3.000000  5.385165  3.741657  2.236068  2.645751  2.449490   \n",
       "1     2.236068  3.741657  5.656854  3.741657  2.828427  3.000000  4.000000   \n",
       "2     2.236068  4.242641  5.656854  3.872983  3.162278  3.000000  4.242641   \n",
       "3     2.236068  4.242641  5.656854  4.242641  3.162278  3.464102  4.358899   \n",
       "4     2.645751  4.358899  5.744563  4.358899  4.123106  3.605551  4.582576   \n",
       "...        ...       ...       ...       ...       ...       ...       ...   \n",
       "1395  7.810250  7.874008  8.602325  9.110434  7.810250  8.000000  8.944272   \n",
       "1396  7.810250  7.874008  8.602325  9.110434  7.810250  8.062258  8.944272   \n",
       "1397  7.874008  8.000000  8.602325  9.219544  7.810250  8.185353  8.944272   \n",
       "1398  7.874008  8.000000  8.602325  9.273618  7.874008  8.185353  9.000000   \n",
       "1399  7.937254  8.062258  8.717798  9.327379  7.937254  8.306624  9.110434   \n",
       "\n",
       "           7         8         9    ...       341       342       343  \\\n",
       "0     1.414214  3.464102  2.645751  ...  1.732051  2.449490  2.236068   \n",
       "1     1.732051  3.605551  2.828427  ...  2.000000  2.645751  2.449490   \n",
       "2     2.449490  3.741657  3.000000  ...  2.449490  3.316625  2.828427   \n",
       "3     2.449490  4.795832  3.316625  ...  2.449490  3.316625  2.828427   \n",
       "4     2.828427  4.898979  3.605551  ...  2.645751  3.464102  3.000000   \n",
       "...        ...       ...       ...  ...       ...       ...       ...   \n",
       "1395  7.874008  8.485281  8.000000  ...  8.306624  8.246211  8.306624   \n",
       "1396  7.874008  8.485281  8.062258  ...  8.306624  8.306624  8.366600   \n",
       "1397  8.000000  8.485281  8.185353  ...  8.306624  8.306624  8.366600   \n",
       "1398  8.000000  8.602325  8.185353  ...  8.306624  8.306624  8.366600   \n",
       "1399  8.124038  8.660254  8.306624  ...  8.485281  8.366600  8.485281   \n",
       "\n",
       "           344       345       346       347       348       349       350  \n",
       "0     2.449490  2.449490  2.645751  2.236068  2.645751  3.605551  1.000000  \n",
       "1     3.162278  2.828427  3.000000  2.449490  2.828427  3.605551  1.000000  \n",
       "2     3.162278  3.162278  3.162278  3.000000  2.828427  3.741657  1.414214  \n",
       "3     3.162278  3.162278  3.162278  3.000000  3.000000  3.872983  2.236068  \n",
       "4     3.316625  3.316625  3.162278  3.316625  3.162278  4.123106  3.316625  \n",
       "...        ...       ...       ...       ...       ...       ...       ...  \n",
       "1395  9.165151  8.774964  9.219544  8.831761  8.831761  8.485281  8.306624  \n",
       "1396  9.165151  8.831761  9.273618  8.888194  8.944272  8.485281  8.366600  \n",
       "1397  9.219544  8.831761  9.273618  8.888194  8.944272  8.485281  8.366600  \n",
       "1398  9.327379  8.888194  9.327379  8.944272  8.944272  8.485281  8.485281  \n",
       "1399  9.327379  8.888194  9.327379  9.000000  8.944272  8.544004  8.544004  \n",
       "\n",
       "[1400 rows x 351 columns]"
      ]
     },
     "execution_count": 180,
     "metadata": {},
     "output_type": "execute_result"
    }
   ],
   "source": [
    "x_ts_AD=pd.DataFrame(neighbors_k_ts)\n",
    "x_ts_AD"
   ]
  },
  {
   "cell_type": "code",
   "execution_count": 181,
   "metadata": {},
   "outputs": [
    {
     "name": "stdout",
     "output_type": "stream",
     "text": [
      "[0.    3.    5.385 3.742 2.236 2.646 2.449 1.414 3.464 2.646 3.162 2.646\n",
      " 3.    2.828 3.    1.    1.    1.414 3.742 3.    2.236 3.742 3.    0.\n",
      " 3.    1.    1.732 2.236 2.646 2.236 3.317 2.    3.606 3.317 2.828 0.\n",
      " 3.162 2.236 2.449 2.236 2.828 3.464 3.464 3.742 2.646 3.464 3.606 3.\n",
      " 1.    1.414 1.732 3.464 3.162 2.236 1.414 3.606 1.414 2.828 2.828 2.828\n",
      " 2.    3.    2.828 3.873 3.873 1.732 4.    2.646 1.    4.123 3.742 2.449\n",
      " 2.236 2.828 0.    0.    2.    2.449 3.    3.464 2.236 2.236 2.    2.828\n",
      " 2.646 1.414 2.449 1.732 2.    2.828 2.449 4.123 3.873 2.    0.    3.317\n",
      " 1.414 2.    0.    2.    4.123 1.414 2.449 0.    2.    2.646 3.    0.\n",
      " 2.646 1.    2.236 1.732 1.414 2.236 4.    1.    2.    0.    2.449 2.\n",
      " 3.606 1.732 3.    3.    3.162 2.449 3.162 2.449 1.732 3.742 1.414 2.236\n",
      " 1.414 3.    1.414 1.732 2.    3.162 3.606 1.    4.583 1.    2.646 1.732\n",
      " 2.236 2.646 1.414 2.646 2.    4.472 1.    3.162 2.646 1.732 0.    1.732\n",
      " 1.732 1.    3.    2.236 1.    2.449 1.732 2.646 0.    1.732 3.    1.\n",
      " 1.732 2.    2.    2.236 1.732 2.    2.236 3.464 2.449 3.464 2.236 3.162\n",
      " 2.449 3.606 3.317 2.236 1.    2.449 2.828 2.449 2.236 2.828 2.236 2.236\n",
      " 1.732 1.414 2.828 1.732 3.742 1.414 1.    2.    2.    1.732 2.    1.732\n",
      " 1.414 2.646 2.449 2.646 1.    2.449 2.449 0.    2.646 1.    1.732 2.236\n",
      " 2.236 2.646 2.    3.464 1.732 1.414 0.    2.236 3.464 3.317 2.    0.\n",
      " 2.    3.606 1.732 3.606 2.    2.449 3.317 3.162 2.828 2.449 1.732 2.\n",
      " 2.449 3.606 2.236 4.69  2.    3.873 0.    1.    2.236 2.828 1.    2.449\n",
      " 2.    2.449 0.    2.449 1.732 1.732 1.732 1.732 2.236 3.    5.292 1.\n",
      " 0.    2.449 2.236 2.646 1.732 2.    0.    3.    1.414 3.317 2.828 2.236\n",
      " 3.162 1.    3.873 2.828 3.    2.646 2.646 2.449 2.449 4.    1.732 3.\n",
      " 4.123 2.449 2.646 1.414 2.236 4.796 1.    3.464 3.    2.828 3.    0.\n",
      " 1.    0.    3.464 2.449 2.236 3.873 2.449 1.732 2.828 3.162 4.123 1.732\n",
      " 2.449 2.236 4.69  2.646 2.449 2.646 2.236 2.449 3.162 1.732 3.317 2.\n",
      " 1.    1.732 2.646 0.    2.828 1.414 2.828 1.    2.646 1.732 2.646 1.732\n",
      " 1.414 2.828 2.449 2.236 2.828 1.732 2.449 2.236 2.449 2.449 2.646 2.236\n",
      " 2.646 3.606 1.   ]\n"
     ]
    }
   ],
   "source": [
    "similarity_ts= neighbors_k_ts\n",
    "cpd_AD=similarity_ts[0,:]\n",
    "cpd_value = np.round(cpd_AD, 3)\n",
    "print(cpd_value)"
   ]
  },
  {
   "cell_type": "code",
   "execution_count": 182,
   "metadata": {},
   "outputs": [
    {
     "name": "stdout",
     "output_type": "stream",
     "text": [
      "[ True False False False  True  True  True  True False  True False  True\n",
      " False False False  True  True  True False False  True False False  True\n",
      " False  True  True  True  True  True False  True False False False  True\n",
      " False  True  True  True False False False False  True False False False\n",
      "  True  True  True False False  True  True False  True False False False\n",
      "  True False False False False  True False  True  True False False  True\n",
      "  True False  True  True  True  True False False  True  True  True False\n",
      "  True  True  True  True  True False  True False False  True  True False\n",
      "  True  True  True  True False  True  True  True  True  True False  True\n",
      "  True  True  True  True  True  True False  True  True  True  True  True\n",
      " False  True False False False  True False  True  True False  True  True\n",
      "  True False  True  True  True False False  True False  True  True  True\n",
      "  True  True  True  True  True False  True False  True  True  True  True\n",
      "  True  True False  True  True  True  True  True  True  True False  True\n",
      "  True  True  True  True  True  True  True False  True False  True False\n",
      "  True False False  True  True  True False  True  True False  True  True\n",
      "  True  True False  True False  True  True  True  True  True  True  True\n",
      "  True  True  True  True  True  True  True  True  True  True  True  True\n",
      "  True  True  True False  True  True  True  True False False  True  True\n",
      "  True False  True False  True  True False False False  True  True  True\n",
      "  True False  True False  True False  True  True  True False  True  True\n",
      "  True  True  True  True  True  True  True  True  True False False  True\n",
      "  True  True  True  True  True  True  True False  True False False  True\n",
      " False  True False False False  True  True  True  True False  True False\n",
      " False  True  True  True  True False  True False False False False  True\n",
      "  True  True False  True  True False  True  True False False False  True\n",
      "  True  True False  True  True  True  True  True False  True False  True\n",
      "  True  True  True  True False  True False  True  True  True  True  True\n",
      "  True False  True  True False  True  True  True  True  True  True  True\n",
      "  True False  True]\n"
     ]
    }
   ],
   "source": [
    "cpd_AD = np.where(cpd_value <= model_AD_limit, True, False)\n",
    "print(cpd_AD)"
   ]
  },
  {
   "cell_type": "code",
   "execution_count": 183,
   "metadata": {},
   "outputs": [
    {
     "name": "stdout",
     "output_type": "stream",
     "text": [
      "Coverage =  0.68\n"
     ]
    }
   ],
   "source": [
    "print(\"Coverage = \", round(sum(cpd_AD) / len(cpd_AD), 2))"
   ]
  },
  {
   "cell_type": "code",
   "execution_count": 184,
   "metadata": {},
   "outputs": [
    {
     "name": "stdout",
     "output_type": "stream",
     "text": [
      "Indices of substances included in AD =  [  0   4   5   6   7   9  11  15  16  17  20  23  25  26  27  28  29  31\n",
      "  35  37  38  39  44  48  49  50  53  54  56  60  65  67  68  71  72  74\n",
      "  75  76  77  80  81  82  84  85  86  87  88  90  93  94  96  97  98  99\n",
      " 101 102 103 104 105 107 108 109 110 111 112 113 115 116 117 118 119 121\n",
      " 125 127 128 130 131 132 134 135 136 139 141 142 143 144 145 146 147 148\n",
      " 150 152 153 154 155 156 157 159 160 161 162 163 164 165 167 168 169 170\n",
      " 171 172 173 174 176 178 180 183 184 185 187 188 190 191 192 193 195 197\n",
      " 198 199 200 201 202 203 204 205 206 207 208 209 210 211 212 213 214 215\n",
      " 216 217 218 220 221 222 223 226 227 228 230 232 233 237 238 239 240 242\n",
      " 244 246 247 248 250 251 252 253 254 255 256 257 258 259 260 263 264 265\n",
      " 266 267 268 269 270 272 275 277 281 282 283 284 286 289 290 291 292 294\n",
      " 299 300 301 303 304 306 307 311 312 313 315 316 317 318 319 321 323 324\n",
      " 325 326 327 329 331 332 333 334 335 336 338 339 341 342 343 344 345 346\n",
      " 347 348 350]\n"
     ]
    }
   ],
   "source": [
    "print(\"Indices of substances included in AD = \", np.where(cpd_AD != 0)[0])"
   ]
  },
  {
   "cell_type": "code",
   "execution_count": 185,
   "metadata": {},
   "outputs": [],
   "source": [
    "out_Ad=list(np.where(cpd_AD == 0)[0])"
   ]
  },
  {
   "cell_type": "markdown",
   "metadata": {},
   "source": [
    "# 12. Prediction only for molecules included in  AD"
   ]
  },
  {
   "cell_type": "code",
   "execution_count": 186,
   "metadata": {},
   "outputs": [],
   "source": [
    "y_pred_svm_ad=list(y_pred_svm)"
   ]
  },
  {
   "cell_type": "code",
   "execution_count": 187,
   "metadata": {},
   "outputs": [],
   "source": [
    "y_pred_svm_ad[:] = [x for i,x in enumerate(y_pred_svm_ad) if i not in out_Ad]"
   ]
  },
  {
   "cell_type": "code",
   "execution_count": 188,
   "metadata": {},
   "outputs": [
    {
     "data": {
      "text/plain": [
       "237"
      ]
     },
     "execution_count": 188,
     "metadata": {},
     "output_type": "execute_result"
    }
   ],
   "source": [
    "len(y_pred_svm_ad)"
   ]
  },
  {
   "cell_type": "code",
   "execution_count": 189,
   "metadata": {},
   "outputs": [],
   "source": [
    "y_ts_ad=list(y_ts)"
   ]
  },
  {
   "cell_type": "code",
   "execution_count": 190,
   "metadata": {},
   "outputs": [],
   "source": [
    "y_ts_ad[:] = [x for i,x in enumerate(y_ts_ad) if i not in out_Ad]"
   ]
  },
  {
   "cell_type": "code",
   "execution_count": 191,
   "metadata": {},
   "outputs": [
    {
     "data": {
      "text/plain": [
       "237"
      ]
     },
     "execution_count": 191,
     "metadata": {},
     "output_type": "execute_result"
    }
   ],
   "source": [
    "len(y_ts_ad)"
   ]
  },
  {
   "cell_type": "code",
   "execution_count": 192,
   "metadata": {},
   "outputs": [
    {
     "data": {
      "text/plain": [
       "0.7"
      ]
     },
     "execution_count": 192,
     "metadata": {},
     "output_type": "execute_result"
    }
   ],
   "source": [
    "Q2_TS = round(r2_score(y_ts_ad, y_pred_svm_ad), 2)\n",
    "Q2_TS"
   ]
  },
  {
   "cell_type": "code",
   "execution_count": 193,
   "metadata": {},
   "outputs": [
    {
     "data": {
      "text/plain": [
       "0.65"
      ]
     },
     "execution_count": 193,
     "metadata": {},
     "output_type": "execute_result"
    }
   ],
   "source": [
    "RMSE_TS=round(np.sqrt(mean_squared_error(y_ts_ad, y_pred_svm_ad)), 2)\n",
    "RMSE_TS"
   ]
  }
 ],
 "metadata": {
  "kernelspec": {
   "display_name": "Python3 (rdkit)",
   "language": "python",
   "name": "my-rdkit-env"
  },
  "language_info": {
   "codemirror_mode": {
    "name": "ipython",
    "version": 3
   },
   "file_extension": ".py",
   "mimetype": "text/x-python",
   "name": "python",
   "nbconvert_exporter": "python",
   "pygments_lexer": "ipython3",
   "version": "3.10.12"
  },
  "toc": {
   "base_numbering": 1,
   "nav_menu": {},
   "number_sections": true,
   "sideBar": true,
   "skip_h1_title": false,
   "title_cell": "Table of Contents",
   "title_sidebar": "Contents",
   "toc_cell": false,
   "toc_position": {
    "height": "calc(100% - 180px)",
    "left": "10px",
    "top": "150px",
    "width": "384px"
   },
   "toc_section_display": true,
   "toc_window_display": true
  }
 },
 "nbformat": 4,
 "nbformat_minor": 4
}
